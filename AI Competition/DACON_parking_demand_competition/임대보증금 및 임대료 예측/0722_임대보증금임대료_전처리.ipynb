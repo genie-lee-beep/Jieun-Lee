{
 "cells": [
  {
   "cell_type": "code",
   "execution_count": 1,
   "metadata": {},
   "outputs": [],
   "source": [
    "import pandas as pd\n",
    "import os\n",
    "import seaborn as sns\n",
    "import matplotlib.pyplot as plt\n",
    "from matplotlib import rc, rcParams\n",
    "import warnings\n",
    "\n",
    "warnings.filterwarnings(action='ignore')\n",
    "rc('font',family='AppleGothic')\n",
    "rcParams['axes.unicode_minus'] = False"
   ]
  },
  {
   "cell_type": "code",
   "execution_count": 2,
   "metadata": {},
   "outputs": [
    {
     "data": {
      "text/plain": [
       "((2952, 67), (2896, 67), (1008, 66))"
      ]
     },
     "execution_count": 2,
     "metadata": {},
     "output_type": "execute_result"
    }
   ],
   "source": [
    "path = './data/'\n",
    "\n",
    "train = pd.read_csv(path+\"2_train.csv\")\n",
    "train_errx = pd.read_csv(path+\"2_train_errx.csv\")\n",
    "test = pd.read_csv(path+\"2_test.csv\")\n",
    "sub = pd.read_csv(path + 'sample_submission.csv')\n",
    "\n",
    "train.shape, train_errx.shape, test.shape"
   ]
  },
  {
   "cell_type": "markdown",
   "metadata": {},
   "source": [
    "## train, test 데이터 세트 합치기\n",
    "- 21.07.24 update : 임대보증금임대료 결측치 처리 후 train셋과 test으로 나누기 위해서 `df_type`과 `idx` 칼럼을 새로 만든다."
   ]
  },
  {
   "cell_type": "code",
   "execution_count": 3,
   "metadata": {},
   "outputs": [
    {
     "name": "stdout",
     "output_type": "stream",
     "text": [
      "(2952, 69)\n",
      "(1008, 68)\n"
     ]
    }
   ],
   "source": [
    "# train과 test index 저장하기\n",
    "train['df_type'] = 'train'\n",
    "test['df_type'] = 'test'\n",
    "\n",
    "train['idx'] = train.index\n",
    "test['idx'] = test.index\n",
    "\n",
    "print(train.shape)\n",
    "print(test.shape)"
   ]
  },
  {
   "cell_type": "code",
   "execution_count": 4,
   "metadata": {},
   "outputs": [
    {
     "name": "stdout",
     "output_type": "stream",
     "text": [
      "(3960, 68)\n",
      "단지코드          0\n",
      "총세대수          0\n",
      "임대건물구분        0\n",
      "지역            0\n",
      "공급유형          0\n",
      "전용면적          0\n",
      "전용면적별세대수      0\n",
      "공가수           0\n",
      "자격유형          0\n",
      "임대보증금       767\n",
      "임대료         776\n",
      "지하철         249\n",
      "버스정류장         0\n",
      "dtype: int64\n"
     ]
    },
    {
     "data": {
      "text/html": [
       "<div>\n",
       "<style scoped>\n",
       "    .dataframe tbody tr th:only-of-type {\n",
       "        vertical-align: middle;\n",
       "    }\n",
       "\n",
       "    .dataframe tbody tr th {\n",
       "        vertical-align: top;\n",
       "    }\n",
       "\n",
       "    .dataframe thead th {\n",
       "        text-align: right;\n",
       "    }\n",
       "</style>\n",
       "<table border=\"1\" class=\"dataframe\">\n",
       "  <thead>\n",
       "    <tr style=\"text-align: right;\">\n",
       "      <th></th>\n",
       "      <th>단지코드</th>\n",
       "      <th>총세대수</th>\n",
       "      <th>임대건물구분</th>\n",
       "      <th>지역</th>\n",
       "      <th>공급유형</th>\n",
       "      <th>전용면적</th>\n",
       "      <th>전용면적별세대수</th>\n",
       "      <th>공가수</th>\n",
       "      <th>자격유형</th>\n",
       "      <th>임대보증금</th>\n",
       "      <th>임대료</th>\n",
       "      <th>지하철</th>\n",
       "      <th>버스정류장</th>\n",
       "    </tr>\n",
       "  </thead>\n",
       "  <tbody>\n",
       "    <tr>\n",
       "      <th>1000</th>\n",
       "      <td>C1267</td>\n",
       "      <td>675</td>\n",
       "      <td>아파트</td>\n",
       "      <td>경상남도</td>\n",
       "      <td>행복주택</td>\n",
       "      <td>16.94</td>\n",
       "      <td>50</td>\n",
       "      <td>38.0</td>\n",
       "      <td>L</td>\n",
       "      <td>NaN</td>\n",
       "      <td>NaN</td>\n",
       "      <td>0.0</td>\n",
       "      <td>1.0</td>\n",
       "    </tr>\n",
       "    <tr>\n",
       "      <th>1001</th>\n",
       "      <td>C1267</td>\n",
       "      <td>675</td>\n",
       "      <td>아파트</td>\n",
       "      <td>경상남도</td>\n",
       "      <td>행복주택</td>\n",
       "      <td>26.85</td>\n",
       "      <td>66</td>\n",
       "      <td>38.0</td>\n",
       "      <td>L</td>\n",
       "      <td>NaN</td>\n",
       "      <td>NaN</td>\n",
       "      <td>0.0</td>\n",
       "      <td>1.0</td>\n",
       "    </tr>\n",
       "    <tr>\n",
       "      <th>1002</th>\n",
       "      <td>C1267</td>\n",
       "      <td>675</td>\n",
       "      <td>아파트</td>\n",
       "      <td>경상남도</td>\n",
       "      <td>행복주택</td>\n",
       "      <td>26.85</td>\n",
       "      <td>8</td>\n",
       "      <td>38.0</td>\n",
       "      <td>L</td>\n",
       "      <td>NaN</td>\n",
       "      <td>NaN</td>\n",
       "      <td>0.0</td>\n",
       "      <td>1.0</td>\n",
       "    </tr>\n",
       "    <tr>\n",
       "      <th>1003</th>\n",
       "      <td>C1267</td>\n",
       "      <td>675</td>\n",
       "      <td>아파트</td>\n",
       "      <td>경상남도</td>\n",
       "      <td>행복주택</td>\n",
       "      <td>36.77</td>\n",
       "      <td>126</td>\n",
       "      <td>38.0</td>\n",
       "      <td>L</td>\n",
       "      <td>NaN</td>\n",
       "      <td>NaN</td>\n",
       "      <td>0.0</td>\n",
       "      <td>1.0</td>\n",
       "    </tr>\n",
       "    <tr>\n",
       "      <th>1004</th>\n",
       "      <td>C2189</td>\n",
       "      <td>382</td>\n",
       "      <td>아파트</td>\n",
       "      <td>전라북도</td>\n",
       "      <td>국민임대</td>\n",
       "      <td>29.19</td>\n",
       "      <td>96</td>\n",
       "      <td>45.0</td>\n",
       "      <td>H</td>\n",
       "      <td>6872000.0</td>\n",
       "      <td>106400.0</td>\n",
       "      <td>0.0</td>\n",
       "      <td>2.0</td>\n",
       "    </tr>\n",
       "    <tr>\n",
       "      <th>1005</th>\n",
       "      <td>C2189</td>\n",
       "      <td>382</td>\n",
       "      <td>아파트</td>\n",
       "      <td>전라북도</td>\n",
       "      <td>국민임대</td>\n",
       "      <td>29.19</td>\n",
       "      <td>20</td>\n",
       "      <td>45.0</td>\n",
       "      <td>H</td>\n",
       "      <td>6872000.0</td>\n",
       "      <td>106400.0</td>\n",
       "      <td>0.0</td>\n",
       "      <td>2.0</td>\n",
       "    </tr>\n",
       "    <tr>\n",
       "      <th>1006</th>\n",
       "      <td>C2189</td>\n",
       "      <td>382</td>\n",
       "      <td>아파트</td>\n",
       "      <td>전라북도</td>\n",
       "      <td>국민임대</td>\n",
       "      <td>39.45</td>\n",
       "      <td>202</td>\n",
       "      <td>45.0</td>\n",
       "      <td>H</td>\n",
       "      <td>13410000.0</td>\n",
       "      <td>144600.0</td>\n",
       "      <td>0.0</td>\n",
       "      <td>2.0</td>\n",
       "    </tr>\n",
       "    <tr>\n",
       "      <th>1007</th>\n",
       "      <td>C2189</td>\n",
       "      <td>382</td>\n",
       "      <td>아파트</td>\n",
       "      <td>전라북도</td>\n",
       "      <td>국민임대</td>\n",
       "      <td>46.23</td>\n",
       "      <td>60</td>\n",
       "      <td>45.0</td>\n",
       "      <td>H</td>\n",
       "      <td>18689000.0</td>\n",
       "      <td>166500.0</td>\n",
       "      <td>0.0</td>\n",
       "      <td>2.0</td>\n",
       "    </tr>\n",
       "  </tbody>\n",
       "</table>\n",
       "</div>"
      ],
      "text/plain": [
       "       단지코드  총세대수 임대건물구분    지역  공급유형   전용면적  전용면적별세대수   공가수 자격유형       임대보증금  \\\n",
       "1000  C1267   675    아파트  경상남도  행복주택  16.94        50  38.0    L         NaN   \n",
       "1001  C1267   675    아파트  경상남도  행복주택  26.85        66  38.0    L         NaN   \n",
       "1002  C1267   675    아파트  경상남도  행복주택  26.85         8  38.0    L         NaN   \n",
       "1003  C1267   675    아파트  경상남도  행복주택  36.77       126  38.0    L         NaN   \n",
       "1004  C2189   382    아파트  전라북도  국민임대  29.19        96  45.0    H   6872000.0   \n",
       "1005  C2189   382    아파트  전라북도  국민임대  29.19        20  45.0    H   6872000.0   \n",
       "1006  C2189   382    아파트  전라북도  국민임대  39.45       202  45.0    H  13410000.0   \n",
       "1007  C2189   382    아파트  전라북도  국민임대  46.23        60  45.0    H  18689000.0   \n",
       "\n",
       "           임대료  지하철  버스정류장  \n",
       "1000       NaN  0.0    1.0  \n",
       "1001       NaN  0.0    1.0  \n",
       "1002       NaN  0.0    1.0  \n",
       "1003       NaN  0.0    1.0  \n",
       "1004  106400.0  0.0    2.0  \n",
       "1005  106400.0  0.0    2.0  \n",
       "1006  144600.0  0.0    2.0  \n",
       "1007  166500.0  0.0    2.0  "
      ]
     },
     "execution_count": 4,
     "metadata": {},
     "output_type": "execute_result"
    }
   ],
   "source": [
    "all_df = pd.concat([train.drop(\"등록차량수\",axis=1), test])\n",
    "print(all_df.shape)\n",
    "print(all_df.iloc[:,:13].isnull().sum() )\n",
    "\n",
    "all_df.iloc[:,:13].tail(8)"
   ]
  },
  {
   "cell_type": "code",
   "execution_count": 5,
   "metadata": {},
   "outputs": [
    {
     "name": "stdout",
     "output_type": "stream",
     "text": [
      "(3960, 68)\n",
      "(3184, 68) (776, 68)\n",
      "True\n"
     ]
    }
   ],
   "source": [
    "# 임대보증금과 임대료 결측치 없는 데이터셋을 train_new로\n",
    "train_new = all_df[(all_df['임대보증금'].notnull()) & (all_df['임대료'].notnull())]\n",
    "\n",
    "# 임대보증금과 임대료 결측치 하나라도 있는 데이터셋을 test_new로\n",
    "test_new = all_df[(all_df['임대보증금'].isnull())|(all_df['임대료'].isnull())]\n",
    "\n",
    "# 합쳐서 갯수가 맞아야함\n",
    "print(all_df.shape)\n",
    "print(train_new.shape, test_new.shape)\n",
    "print(all_df.shape[0] == train_new.shape[0]+test_new.shape[0])"
   ]
  },
  {
   "cell_type": "markdown",
   "metadata": {},
   "source": [
    "## 결측치 시각화"
   ]
  },
  {
   "cell_type": "code",
   "execution_count": 6,
   "metadata": {},
   "outputs": [
    {
     "data": {
      "text/plain": [
       "<AxesSubplot:>"
      ]
     },
     "execution_count": 6,
     "metadata": {},
     "output_type": "execute_result"
    },
    {
     "data": {
      "image/png": "[encoded data removed]",
      "text/plain": [
       "<Figure size 864x216 with 1 Axes>"
      ]
     },
     "metadata": {
      "needs_background": "light"
     },
     "output_type": "display_data"
    }
   ],
   "source": [
    "# train 셋에 임대료와 임대보증금에 대한 결측치가 없어야한다.\n",
    "plt.figure(figsize=(12,3))\n",
    "sns.heatmap(train_new.isnull(), cbar=False)"
   ]
  },
  {
   "cell_type": "code",
   "execution_count": 7,
   "metadata": {},
   "outputs": [
    {
     "data": {
      "text/plain": [
       "<AxesSubplot:>"
      ]
     },
     "execution_count": 7,
     "metadata": {},
     "output_type": "execute_result"
    },
    {
     "data": {
      "image/png": "[encoded data removed]",
      "text/plain": [
       "<Figure size 864x216 with 1 Axes>"
      ]
     },
     "metadata": {
      "needs_background": "light"
     },
     "output_type": "display_data"
    }
   ],
   "source": [
    "# test 셋에는 임대보증금과 임대료에 대해 결측치가 많다.\n",
    "plt.figure(figsize=(12,3))\n",
    "sns.heatmap(test_new.isnull(), cbar=False)"
   ]
  },
  {
   "cell_type": "markdown",
   "metadata": {},
   "source": [
    "## csv 파일로 저장"
   ]
  },
  {
   "cell_type": "code",
   "execution_count": 8,
   "metadata": {},
   "outputs": [
    {
     "data": {
      "text/plain": [
       "['train_new.csv', 'test_new.csv', 'train_new.xlsx', 'test_new.xlsx']"
      ]
     },
     "execution_count": 8,
     "metadata": {},
     "output_type": "execute_result"
    }
   ],
   "source": [
    "outpath = './data_임대보증금임대료/'\n",
    "\n",
    "train_new.to_csv(outpath + \"train_new.csv\", index=False)\n",
    "test_new.to_csv(outpath + 'test_new.csv', index=False)\n",
    "\n",
    "train_new.to_excel(outpath + \"train_new.xlsx\", index=False)\n",
    "test_new.to_excel(outpath + 'test_new.xlsx', index=False)\n",
    "\n",
    "os.listdir(outpath)\n"
   ]
  },
  {
   "cell_type": "code",
   "execution_count": null,
   "metadata": {},
   "outputs": [],
   "source": []
  }
 ],
 "metadata": {
  "kernelspec": {
   "display_name": "Python 3",
   "language": "python",
   "name": "python3"
  },
  "language_info": {
   "codemirror_mode": {
    "name": "ipython",
    "version": 3
   },
   "file_extension": ".py",
   "mimetype": "text/x-python",
   "name": "python",
   "nbconvert_exporter": "python",
   "pygments_lexer": "ipython3",
   "version": "3.8.5"
  }
 },
 "nbformat": 4,
 "nbformat_minor": 4
}
