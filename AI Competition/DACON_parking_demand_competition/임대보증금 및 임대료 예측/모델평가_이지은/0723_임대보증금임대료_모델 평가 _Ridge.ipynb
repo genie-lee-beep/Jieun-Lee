{
 "cells": [
  {
   "cell_type": "markdown",
   "metadata": {},
   "source": []
  },
  {
   "cell_type": "code",
   "execution_count": 54,
   "metadata": {},
   "outputs": [],
   "source": [
    "import pandas as pd\n",
    "import warnings\n",
    "import matplotlib.pyplot as plt\n",
    "import seaborn as sns\n",
    "import numpy as np\n",
    "from matplotlib import rc, rcParams\n",
    "\n",
    "warnings.filterwarnings('ignore')\n",
    "rc('font', family='AppleGothic')\n",
    "rcParams['axes.unicode_minus']= False"
   ]
  },
  {
   "cell_type": "code",
   "execution_count": 55,
   "metadata": {},
   "outputs": [
    {
     "data": {
      "text/plain": [
       "((3184, 61), (776, 61), (150, 2), (16, 23))"
      ]
     },
     "execution_count": 55,
     "metadata": {},
     "output_type": "execute_result"
    }
   ],
   "source": [
    "\n",
    "train = pd.read_csv(\"../2nd_team/data/train_new.csv\")\n",
    "test = pd.read_csv(\"../2nd_team/data/test_new.csv\")\n",
    "sub = pd.read_csv('../2nd_team/data/sample_submission.csv')\n",
    "age = pd.read_csv(\"../2nd_team/data/age_gender_info.csv\")\n",
    "\n",
    "train.shape, test.shape, sub.shape, age.shape"
   ]
  },
  {
   "cell_type": "markdown",
   "metadata": {},
   "source": [
    "### load library"
   ]
  },
  {
   "cell_type": "code",
   "execution_count": 56,
   "metadata": {},
   "outputs": [],
   "source": [
    "from sklearn.ensemble import RandomForestRegressor\n",
    "import numpy as np\n",
    "from sklearn.model_selection import train_test_split\n",
    "from sklearn.preprocessing import MinMaxScaler\n",
    "from sklearn.model_selection import cross_val_score\n",
    "from sklearn.linear_model import LinearRegression\n",
    "from sklearn.neighbors import KNeighborsRegressor\n",
    "\n",
    "from sklearn.preprocessing import PolynomialFeatures\n",
    "\n",
    "from sklearn.preprocessing import StandardScaler"
   ]
  },
  {
   "cell_type": "markdown",
   "metadata": {},
   "source": [
    "[용어정리]  EDA 결과 임대보증금/임대료와 관련있을 것 같은 피처를 `critial_feature`라고 부르자  \n",
    "- '지역_lb', '총세대수', '버스정류장', '단지내주차면수', '전용면적', '공급유형_lb','자격유형_lb'   \n",
    "- 이 때 _lb 된 피처는 원핫인코딩을 사용하는 것이 좋다  "
   ]
  },
  {
   "cell_type": "markdown",
   "metadata": {},
   "source": [
    "### 원핫인코딩을 한 feature와 아닌 feature 분류\n",
    "* 수치형 feature는 sel_num >>  sel_num = ['총세대수', '버스정류장', '단지내주차면수', '전용면적']\n",
    "* 원핫인코딩을 한 feature >> '지역_lb', '공급유형_lb','자격유형_lb' "
   ]
  },
  {
   "cell_type": "markdown",
   "metadata": {},
   "source": [
    "### Ridge_임대보증금_MinMaxScaler()"
   ]
  },
  {
   "cell_type": "code",
   "execution_count": 57,
   "metadata": {},
   "outputs": [],
   "source": [
    "sel = ['총세대수', '버스정류장', '단지내주차면수', '전용면적', \n",
    "       '강원도', '경기도', '경상남도', '경상북도', '광주광역시', '대구광역시', '대전광역시', '부산광역시', \n",
    "       '서울특별시', '세종특별자치시', '울산광역시', '전라남도', '전라북도', '제주특별자치도', '충청남도', '충청북도',\n",
    "       '공공분양', '공공임대(10년)', '공공임대(50년)', '공공임대(5년)',\n",
    "       '공공임대(분납)', '국민임대', '영구임대', '임대상가', '장기전세', '행복주택',\n",
    "       'A', 'B','C', 'D', 'E', 'F', 'G', 'H', 'I', 'J', 'K', 'L', 'M', 'N', 'O']\n",
    "sel_num = ['총세대수', '버스정류장', '단지내주차면수', '전용면적']\n",
    "X = train[sel]\n",
    "y = train[['임대보증금']]"
   ]
  },
  {
   "cell_type": "code",
   "execution_count": 58,
   "metadata": {},
   "outputs": [
    {
     "name": "stdout",
     "output_type": "stream",
     "text": [
      "기존 X_nor의 shape :  (3184, 45)\n"
     ]
    }
   ],
   "source": [
    "# 피처스케일링\n",
    "scaler = MinMaxScaler() #  StandardScaler\n",
    "X_nor = scaler.fit_transform(X)   #['총세대수', '버스정류장', '단지내주차면수', '전용면적' ]을 의미\n",
    "print(\"기존 X_nor의 shape : \", X_nor.shape)\n",
    "tmp_X_nor = X_nor[:,:4] #['총세대수', '버스정류장', '단지내주차면수', '전용면적' ]을 의미\n",
    "# print(tmp_X_nor)"
   ]
  },
  {
   "cell_type": "markdown",
   "metadata": {},
   "source": [
    "* 수치형 feature는 polynomial으로 "
   ]
  },
  {
   "cell_type": "code",
   "execution_count": 59,
   "metadata": {},
   "outputs": [
    {
     "name": "stdout",
     "output_type": "stream",
     "text": [
      "수치형 피처 polynomial X_nor의 shape :  (3184, 14)\n"
     ]
    }
   ],
   "source": [
    "# polynomial features\n",
    "X_poly = PolynomialFeatures(degree=2, include_bias=False).fit_transform(tmp_X_nor)  \n",
    "print(\"수치형 피처 polynomial X_nor의 shape : \", X_poly.shape)\n",
    "# print(X_poly[:,:4])"
   ]
  },
  {
   "cell_type": "code",
   "execution_count": 60,
   "metadata": {},
   "outputs": [
    {
     "name": "stdout",
     "output_type": "stream",
     "text": [
      "수치형 피처 polynomial + 기존 원핫인코딩 피처의 shape (3184, 55)\n"
     ]
    }
   ],
   "source": [
    "X_all = np.concatenate((X_poly, X_nor[:,4:]), axis=1)\n",
    "print('수치형 피처 polynomial + 기존 원핫인코딩 피처의 shape', X_all.shape)"
   ]
  },
  {
   "cell_type": "code",
   "execution_count": 61,
   "metadata": {},
   "outputs": [],
   "source": [
    "# one-hot-encoding\n",
    "knn = KNeighborsRegressor()\n",
    "rf = RandomForestRegressor()"
   ]
  },
  {
   "cell_type": "code",
   "execution_count": 62,
   "metadata": {},
   "outputs": [],
   "source": [
    "# 회귀는 교차검증\n",
    "knn_scores = cross_val_score(knn, X_all, y,scoring='neg_mean_absolute_error', cv=5)\n",
    "rf_scores = cross_val_score(rf, X_all, y,scoring='neg_mean_absolute_error', cv=5)"
   ]
  },
  {
   "cell_type": "code",
   "execution_count": 63,
   "metadata": {},
   "outputs": [],
   "source": [
    "knn_score = np.abs(knn_scores.mean())\n",
    "rf_score = np.abs(rf_scores.mean())"
   ]
  },
  {
   "cell_type": "code",
   "execution_count": 64,
   "metadata": {},
   "outputs": [
    {
     "name": "stdout",
     "output_type": "stream",
     "text": [
      "KNeighborsRegressor :  6433068.1036501685\n",
      "RandomForestRegressor :  6101082.369316808\n"
     ]
    }
   ],
   "source": [
    "print(\"KNeighborsRegressor : \", knn_score)\n",
    "print(\"RandomForestRegressor : \", rf_score)"
   ]
  },
  {
   "cell_type": "markdown",
   "metadata": {},
   "source": [
    "### # Ridge, Lasso"
   ]
  },
  {
   "cell_type": "code",
   "execution_count": 65,
   "metadata": {},
   "outputs": [],
   "source": [
    "from sklearn.linear_model import Lasso, Ridge"
   ]
  },
  {
   "cell_type": "code",
   "execution_count": 66,
   "metadata": {},
   "outputs": [],
   "source": [
    "alphas = [0.0001, 0.001, 0.01, 0.1, 0.3, 0.5, 0.7, 1]\n",
    "\n",
    "\n",
    "# for a in alphas:\n",
    "# ridge = Ridge(alpha=a).fit(X,y)\n",
    "# score = ridge.score(X, y)\n",
    "\n",
    "\n",
    "# print(\"Alpha:{0:.4f}.format(a, score)\n"
   ]
  },
  {
   "cell_type": "code",
   "execution_count": 67,
   "metadata": {},
   "outputs": [],
   "source": [
    "# Ridge, Lasso\n",
    "lasso = Lasso()\n",
    "ridge = Ridge(alpha=0.1)\n",
    "lasso_scores = cross_val_score(lasso, X_all, y,scoring='neg_mean_absolute_error', cv=5)\n",
    "ridge_scores = cross_val_score(ridge, X_all, y,scoring='neg_mean_absolute_error', cv=5)"
   ]
  },
  {
   "cell_type": "code",
   "execution_count": 68,
   "metadata": {},
   "outputs": [],
   "source": [
    "lasso_score = np.abs(lasso_scores.mean()) #np.abs :절대값\n",
    "ridge_score = np.abs(ridge_scores.mean())"
   ]
  },
  {
   "cell_type": "code",
   "execution_count": 69,
   "metadata": {},
   "outputs": [
    {
     "name": "stdout",
     "output_type": "stream",
     "text": [
      "Lasso (alpha=defalt) :  5948604.232416377\n",
      "Ridge (alpha=defalt) :  5881872.139049062\n"
     ]
    }
   ],
   "source": [
    "print(\"Lasso (alpha=defalt) : \", lasso_score)\n",
    "print(\"Ridge (alpha=defalt) : \", ridge_score)"
   ]
  },
  {
   "cell_type": "markdown",
   "metadata": {},
   "source": [
    "### Ridge_임대료_MinMaxScaler()"
   ]
  },
  {
   "cell_type": "code",
   "execution_count": 70,
   "metadata": {},
   "outputs": [],
   "source": [
    "sel = ['총세대수', '버스정류장', '단지내주차면수', '전용면적', \n",
    "       '강원도', '경기도', '경상남도', '경상북도', '광주광역시', '대구광역시', '대전광역시', '부산광역시', \n",
    "       '서울특별시', '세종특별자치시', '울산광역시', '전라남도', '전라북도', '제주특별자치도', '충청남도', '충청북도',\n",
    "       '공공분양', '공공임대(10년)', '공공임대(50년)', '공공임대(5년)',\n",
    "       '공공임대(분납)', '국민임대', '영구임대', '임대상가', '장기전세', '행복주택',\n",
    "       'A', 'B','C', 'D', 'E', 'F', 'G', 'H', 'I', 'J', 'K', 'L', 'M', 'N', 'O']\n",
    "sel_num = ['총세대수', '버스정류장', '단지내주차면수', '전용면적']\n",
    "X = train[sel]\n",
    "y = train[['임대료']]"
   ]
  },
  {
   "cell_type": "code",
   "execution_count": 71,
   "metadata": {},
   "outputs": [
    {
     "name": "stdout",
     "output_type": "stream",
     "text": [
      "기존 X_nor의 shape :  (3184, 45)\n"
     ]
    }
   ],
   "source": [
    "# 피처스케일링\n",
    "scaler = MinMaxScaler() #  StandardScaler\n",
    "X_nor = scaler.fit_transform(X)\n",
    "print(\"기존 X_nor의 shape : \", X_nor.shape)\n",
    "tmp_X_nor = X_nor[:,:4]\n",
    "# print(tmp_X_nor)\n"
   ]
  },
  {
   "cell_type": "code",
   "execution_count": 72,
   "metadata": {},
   "outputs": [
    {
     "name": "stdout",
     "output_type": "stream",
     "text": [
      "수치형 피처 polynomial X_nor의 shape :  (3184, 14)\n"
     ]
    }
   ],
   "source": [
    "# polynomial features\n",
    "X_poly = PolynomialFeatures(degree=2, include_bias=False).fit_transform(tmp_X_nor)  \n",
    "print(\"수치형 피처 polynomial X_nor의 shape : \", X_poly.shape)\n",
    "# print(X_poly[:,:4])"
   ]
  },
  {
   "cell_type": "code",
   "execution_count": 73,
   "metadata": {},
   "outputs": [
    {
     "name": "stdout",
     "output_type": "stream",
     "text": [
      "수치형 피처 polynomial + 기존 원핫인코딩 피처의 shape (3184, 55)\n"
     ]
    }
   ],
   "source": [
    "X_all = np.concatenate((X_poly, X_nor[:,4:]), axis=1)\n",
    "print('수치형 피처 polynomial + 기존 원핫인코딩 피처의 shape', X_all.shape)"
   ]
  },
  {
   "cell_type": "code",
   "execution_count": 74,
   "metadata": {},
   "outputs": [],
   "source": [
    "# one-hot-encoding\n",
    "knn = KNeighborsRegressor()\n",
    "rf = RandomForestRegressor()"
   ]
  },
  {
   "cell_type": "code",
   "execution_count": 75,
   "metadata": {},
   "outputs": [],
   "source": [
    "# 회귀는 교차검증\n",
    "knn_scores = cross_val_score(knn, X_all, y,scoring='neg_mean_absolute_error', cv=5)\n",
    "rf_scores = cross_val_score(rf, X_all, y,scoring='neg_mean_absolute_error', cv=5)"
   ]
  },
  {
   "cell_type": "code",
   "execution_count": 76,
   "metadata": {},
   "outputs": [],
   "source": [
    "knn_score = np.abs(knn_scores.mean())\n",
    "rf_score = np.abs(rf_scores.mean())"
   ]
  },
  {
   "cell_type": "code",
   "execution_count": 77,
   "metadata": {},
   "outputs": [
    {
     "name": "stdout",
     "output_type": "stream",
     "text": [
      "KNeighborsRegressor :  42289.03919611386\n",
      "RandomForestRegressor :  40115.46702910905\n"
     ]
    }
   ],
   "source": [
    "print(\"KNeighborsRegressor : \", knn_score)\n",
    "print(\"RandomForestRegressor : \", rf_score)"
   ]
  },
  {
   "cell_type": "code",
   "execution_count": 78,
   "metadata": {},
   "outputs": [],
   "source": [
    "# Ridge, Lasso\n",
    "lasso = Lasso()\n",
    "ridge = Ridge(alpha=10).fit(X, y) # 이 코드 질문\n",
    "lasso_scores = cross_val_score(lasso, X_all, y,scoring='neg_mean_absolute_error', cv=5)\n",
    "ridge_scores = cross_val_score(ridge, X_all, y,scoring='neg_mean_absolute_error', cv=5)"
   ]
  },
  {
   "cell_type": "code",
   "execution_count": 79,
   "metadata": {},
   "outputs": [],
   "source": [
    "lasso_score = np.abs(lasso_scores.mean())\n",
    "ridge_score = np.abs(ridge_scores.mean())"
   ]
  },
  {
   "cell_type": "code",
   "execution_count": 81,
   "metadata": {},
   "outputs": [
    {
     "name": "stdout",
     "output_type": "stream",
     "text": [
      "Lasso (alpha=defalt) :  42054.55005895971\n",
      "Ridge (alpha=10) :  40032.17990627226\n"
     ]
    }
   ],
   "source": [
    "print(\"Lasso (alpha=defalt) : \", lasso_score)\n",
    "print(\"Ridge (alpha=10) : \", ridge_score)"
   ]
  },
  {
   "cell_type": "markdown",
   "metadata": {},
   "source": [
    "### Ridge_임대료_StandardScaler()"
   ]
  },
  {
   "cell_type": "code",
   "execution_count": 42,
   "metadata": {},
   "outputs": [],
   "source": [
    "sel = ['총세대수', '버스정류장', '단지내주차면수', '전용면적', \n",
    "       '강원도', '경기도', '경상남도', '경상북도', '광주광역시', '대구광역시', '대전광역시', '부산광역시', \n",
    "       '서울특별시', '세종특별자치시', '울산광역시', '전라남도', '전라북도', '제주특별자치도', '충청남도', '충청북도',\n",
    "       '공공분양', '공공임대(10년)', '공공임대(50년)', '공공임대(5년)',\n",
    "       '공공임대(분납)', '국민임대', '영구임대', '임대상가', '장기전세', '행복주택',\n",
    "       'A', 'B','C', 'D', 'E', 'F', 'G', 'H', 'I', 'J', 'K', 'L', 'M', 'N', 'O']\n",
    "sel_num = ['총세대수', '버스정류장', '단지내주차면수', '전용면적']\n",
    "X = train[sel]\n",
    "y = train[['임대료']]"
   ]
  },
  {
   "cell_type": "code",
   "execution_count": 43,
   "metadata": {},
   "outputs": [
    {
     "name": "stdout",
     "output_type": "stream",
     "text": [
      "기존 X_nor의 shape :  (3184, 45)\n"
     ]
    }
   ],
   "source": [
    "# 피처스케일링\n",
    "scaler = StandardScaler()  # MinMaxScaler()\n",
    "X_nor = scaler.fit_transform(X)\n",
    "print(\"기존 X_nor의 shape : \", X_nor.shape)\n",
    "tmp_X_nor = X_nor[:,:4]\n",
    "# print(tmp_X_nor)\n"
   ]
  },
  {
   "cell_type": "code",
   "execution_count": 44,
   "metadata": {},
   "outputs": [
    {
     "name": "stdout",
     "output_type": "stream",
     "text": [
      "수치형 피처 polynomial X_nor의 shape :  (3184, 14)\n"
     ]
    }
   ],
   "source": [
    "# polynomial features\n",
    "X_poly = PolynomialFeatures(degree=2, include_bias=False).fit_transform(tmp_X_nor)  \n",
    "print(\"수치형 피처 polynomial X_nor의 shape : \", X_poly.shape)\n",
    "# print(X_poly[:,:4])"
   ]
  },
  {
   "cell_type": "code",
   "execution_count": 45,
   "metadata": {},
   "outputs": [
    {
     "name": "stdout",
     "output_type": "stream",
     "text": [
      "수치형 피처 polynomial + 기존 원핫인코딩 피처의 shape (3184, 55)\n"
     ]
    }
   ],
   "source": [
    "X_all = np.concatenate((X_poly, X_nor[:,4:]), axis=1)\n",
    "print('수치형 피처 polynomial + 기존 원핫인코딩 피처의 shape', X_all.shape)"
   ]
  },
  {
   "cell_type": "code",
   "execution_count": 46,
   "metadata": {},
   "outputs": [],
   "source": [
    "# one-hot-encoding\n",
    "knn = KNeighborsRegressor()\n",
    "rf = RandomForestRegressor()"
   ]
  },
  {
   "cell_type": "code",
   "execution_count": 47,
   "metadata": {},
   "outputs": [],
   "source": [
    "# 회귀는 교차검증\n",
    "knn_scores = cross_val_score(knn, X_all, y,scoring='neg_mean_absolute_error', cv=5)\n",
    "rf_scores = cross_val_score(rf, X_all, y,scoring='neg_mean_absolute_error', cv=5)"
   ]
  },
  {
   "cell_type": "code",
   "execution_count": 48,
   "metadata": {},
   "outputs": [],
   "source": [
    "knn_score = np.abs(knn_scores.mean())\n",
    "rf_score = np.abs(rf_scores.mean())"
   ]
  },
  {
   "cell_type": "code",
   "execution_count": 49,
   "metadata": {},
   "outputs": [
    {
     "name": "stdout",
     "output_type": "stream",
     "text": [
      "KNeighborsRegressor :  47633.681204150744\n",
      "RandomForestRegressor :  40356.37432583452\n"
     ]
    }
   ],
   "source": [
    "print(\"KNeighborsRegressor : \", knn_score)\n",
    "print(\"RandomForestRegressor : \", rf_score)"
   ]
  },
  {
   "cell_type": "code",
   "execution_count": 50,
   "metadata": {},
   "outputs": [],
   "source": [
    "# Ridge, Lasso\n",
    "lasso = Lasso()\n",
    "ridge = Ridge(alpha=0.1).fit(X, y) # 이 코드 질문\n",
    "lasso_scores = cross_val_score(lasso, X_all, y,scoring='neg_mean_absolute_error', cv=5)\n",
    "ridge_scores = cross_val_score(ridge, X_all, y,scoring='neg_mean_absolute_error', cv=5)"
   ]
  },
  {
   "cell_type": "code",
   "execution_count": 51,
   "metadata": {},
   "outputs": [],
   "source": [
    "lasso_score = np.abs(lasso_scores.mean())\n",
    "ridge_score = np.abs(ridge_scores.mean())"
   ]
  },
  {
   "cell_type": "code",
   "execution_count": 53,
   "metadata": {},
   "outputs": [
    {
     "name": "stdout",
     "output_type": "stream",
     "text": [
      "Lasso (alpha=defalt) :  42296.160875544614\n",
      "Ridge (alpha=0.1) :  42263.673844827965\n"
     ]
    }
   ],
   "source": [
    "print(\"Lasso (alpha=defalt) : \", lasso_score)\n",
    "print(\"Ridge (alpha=0.1) : \", ridge_score)"
   ]
  },
  {
   "cell_type": "code",
   "execution_count": null,
   "metadata": {},
   "outputs": [],
   "source": []
  }
 ],
 "metadata": {
  "kernelspec": {
   "display_name": "Python 3",
   "language": "python",
   "name": "python3"
  },
  "language_info": {
   "codemirror_mode": {
    "name": "ipython",
    "version": 3
   },
   "file_extension": ".py",
   "mimetype": "text/x-python",
   "name": "python",
   "nbconvert_exporter": "python",
   "pygments_lexer": "ipython3",
   "version": "3.8.5"
  }
 },
 "nbformat": 4,
 "nbformat_minor": 4
}
