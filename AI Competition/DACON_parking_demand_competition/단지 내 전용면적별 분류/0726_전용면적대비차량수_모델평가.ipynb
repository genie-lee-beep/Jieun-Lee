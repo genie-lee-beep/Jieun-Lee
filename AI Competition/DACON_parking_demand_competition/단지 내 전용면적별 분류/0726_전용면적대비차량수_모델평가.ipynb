{
 "cells": [
  {
   "cell_type": "markdown",
   "metadata": {},
   "source": [
    "### critial_feature \n",
    "- '임대보증금', '임대료', '단지내주차면수','전용면적별세대수', '면적_세대수_곱', '면적_세대수_곱_총합','면적_세대수_비율','임대건물구분_lb', '공급유형_lb', '자격유형_lb', 'ERROR1_lb' (+'공가수', '지역')"
   ]
  },
  {
   "cell_type": "code",
   "execution_count": 21,
   "metadata": {},
   "outputs": [],
   "source": [
    "import pandas as pd\n",
    "import warnings \n",
    "import numpy as np\n",
    "from matplotlib import rc, rcParams\n",
    "import matplotlib.pyplot as plt\n",
    "\n",
    "warnings.filterwarnings(action='ignore')\n",
    "rc('font',family='AppleGothic')\n",
    "rcParams['axes.unicode_minus']=False"
   ]
  },
  {
   "cell_type": "code",
   "execution_count": 44,
   "metadata": {},
   "outputs": [
    {
     "data": {
      "text/plain": [
       "((1547, 70), (567, 68), (2952, 67), (1008, 66))"
      ]
     },
     "execution_count": 44,
     "metadata": {},
     "output_type": "execute_result"
    }
   ],
   "source": [
    "path = './data_전용면적별/'\n",
    "\n",
    "train = pd.read_csv(path+'train_new.csv')\n",
    "test = pd.read_csv(path+'test_new.csv')\n",
    "\n",
    "train_na = pd.read_csv('../data/2_train.csv')\n",
    "test_na = pd.read_csv('../data/2_test.csv')\n",
    "\n",
    "train.shape, test.shape, train_na.shape, test_na.shape"
   ]
  },
  {
   "cell_type": "code",
   "execution_count": 45,
   "metadata": {},
   "outputs": [
    {
     "name": "stdout",
     "output_type": "stream",
     "text": [
      "임대보증금    581\n",
      "임대료      590\n",
      "dtype: int64\n",
      "임대보증금    186\n",
      "임대료      186\n",
      "dtype: int64\n",
      "<class 'pandas.core.frame.DataFrame'>\n",
      "Int64Index: 1504 entries, 0 to 1503\n",
      "Data columns (total 70 columns):\n",
      " #   Column       Non-Null Count  Dtype  \n",
      "---  ------       --------------  -----  \n",
      " 0   단지코드         1504 non-null   object \n",
      " 1   총세대수         1504 non-null   int64  \n",
      " 2   임대건물구분       1504 non-null   object \n",
      " 3   지역           1504 non-null   object \n",
      " 4   공급유형         1504 non-null   object \n",
      " 5   전용면적         1504 non-null   int64  \n",
      " 6   공가수          1504 non-null   float64\n",
      " 7   자격유형         1504 non-null   object \n",
      " 8   임대보증금        1504 non-null   float64\n",
      " 9   임대료          1504 non-null   float64\n",
      " 10  버스정류장        1504 non-null   float64\n",
      " 11  단지내주차면수      1504 non-null   float64\n",
      " 12  ERROR1       1504 non-null   object \n",
      " 13  임대건물구분_lb    1504 non-null   int64  \n",
      " 14  상가           1504 non-null   int64  \n",
      " 15  아파트          1504 non-null   int64  \n",
      " 16  지역_lb        1504 non-null   int64  \n",
      " 17  강원도          1504 non-null   int64  \n",
      " 18  경기도          1504 non-null   int64  \n",
      " 19  경상남도         1504 non-null   int64  \n",
      " 20  경상북도         1504 non-null   int64  \n",
      " 21  광주광역시        1504 non-null   int64  \n",
      " 22  대구광역시        1504 non-null   int64  \n",
      " 23  대전광역시        1504 non-null   int64  \n",
      " 24  부산광역시        1504 non-null   int64  \n",
      " 25  서울특별시        1504 non-null   int64  \n",
      " 26  세종특별자치시      1504 non-null   int64  \n",
      " 27  울산광역시        1504 non-null   int64  \n",
      " 28  전라남도         1504 non-null   int64  \n",
      " 29  전라북도         1504 non-null   int64  \n",
      " 30  제주특별자치도      1504 non-null   int64  \n",
      " 31  충청남도         1504 non-null   int64  \n",
      " 32  충청북도         1504 non-null   int64  \n",
      " 33  공급유형_lb      1504 non-null   int64  \n",
      " 34  공공분양         1504 non-null   int64  \n",
      " 35  공공임대(10년)    1504 non-null   int64  \n",
      " 36  공공임대(50년)    1504 non-null   int64  \n",
      " 37  공공임대(5년)     1504 non-null   int64  \n",
      " 38  공공임대(분납)     1504 non-null   int64  \n",
      " 39  국민임대         1504 non-null   int64  \n",
      " 40  영구임대         1504 non-null   int64  \n",
      " 41  임대상가         1504 non-null   int64  \n",
      " 42  장기전세         1504 non-null   int64  \n",
      " 43  행복주택         1504 non-null   int64  \n",
      " 44  자격유형_lb      1504 non-null   int64  \n",
      " 45  A            1504 non-null   int64  \n",
      " 46  B            1504 non-null   int64  \n",
      " 47  C            1504 non-null   int64  \n",
      " 48  D            1504 non-null   int64  \n",
      " 49  E            1504 non-null   int64  \n",
      " 50  F            1504 non-null   int64  \n",
      " 51  G            1504 non-null   int64  \n",
      " 52  H            1504 non-null   int64  \n",
      " 53  I            1504 non-null   int64  \n",
      " 54  J            1504 non-null   int64  \n",
      " 55  K            1504 non-null   int64  \n",
      " 56  L            1504 non-null   int64  \n",
      " 57  M            1504 non-null   int64  \n",
      " 58  N            1504 non-null   int64  \n",
      " 59  O            1504 non-null   int64  \n",
      " 60  ERROR1_lb    1504 non-null   int64  \n",
      " 61  나머지          1504 non-null   int64  \n",
      " 62  분양상가         1504 non-null   int64  \n",
      " 63  분양아파트        1504 non-null   int64  \n",
      " 64  등록차량수        1504 non-null   float64\n",
      " 65  전용면적별세대수     1504 non-null   int64  \n",
      " 66  면적_세대수_곱     1504 non-null   int64  \n",
      " 67  면적_세대수_곱_총합  1504 non-null   int64  \n",
      " 68  면적_세대수_비율    1504 non-null   float64\n",
      " 69  전용면적_비례_차량수  1504 non-null   float64\n",
      "dtypes: float64(8), int64(56), object(6)\n",
      "memory usage: 874.2+ KB\n"
     ]
    }
   ],
   "source": [
    "# train_na, test_na 전처리 \n",
    "\n",
    "print(train_na[['임대보증금','임대료']].isnull().sum())\n",
    "print(test_na[['임대보증금','임대료']].isnull().sum())\n",
    "\n",
    "def create_new_X(old):\n",
    "    # 전용면적의 소수점 없애기\n",
    "    old['전용면적'] = old['전용면적'].apply(int)\n",
    "    \n",
    "    # 겹치는 전용면족 행 병합(결측치 없는 피처로 구분)\n",
    "    cols = list(old.columns)\n",
    "    cols.remove('전용면적별세대수')\n",
    "    cols.remove('지하철')\n",
    "    by_area = old.groupby(cols, as_index=False).agg({'전용면적별세대수': 'sum'})\n",
    "    \n",
    "    # 각 전용면적과 그에 상응하는 세대수의 곱\n",
    "    by_area['면적_세대수_곱']  = by_area['전용면적'] * by_area['전용면적별세대수']\n",
    "    \n",
    "    # 각 단지코드당 계산된 실제 총 세대수\n",
    "    by_area['면적_세대수_곱_총합'] = by_area['면적_세대수_곱'].groupby(by_area['단지코드']).transform('sum')\n",
    "    \n",
    "    # 비율 계산\n",
    "    by_area['면적_세대수_비율'] = by_area['면적_세대수_곱']/by_area['면적_세대수_곱_총합']\n",
    "    \n",
    "    return by_area\n",
    "\n",
    "\n",
    "def create_new_y(new_X):\n",
    "    new_X['전용면적_비례_차량수'] = new_X.apply(lambda row: (row['면적_세대수_비율'] * row['등록차량수']), axis=1)\n",
    "#     print(new_X[['단지코드','임대보증금','임대료']].isnull().sum())\n",
    "    return new_X['전용면적_비례_차량수']\n",
    "\n",
    "\n",
    "train_na.fillna(0, inplace=True)\n",
    "test_na.fillna(0, inplace=True)\n",
    "train_na_new = create_new_X(train_na)\n",
    "test_na_new = create_new_X(test_na)\n",
    "\n",
    "y_new = create_new_y(train_na_new)\n",
    "train_na_new['전용면적_비례_차량수'] = y_new\n",
    "train_na_new.info()\n"
   ]
  },
  {
   "cell_type": "code",
   "execution_count": 4,
   "metadata": {},
   "outputs": [
    {
     "data": {
      "text/plain": [
       "array([[<AxesSubplot:title={'center':'임대보증금'}>,\n",
       "        <AxesSubplot:title={'center':'임대료'}>,\n",
       "        <AxesSubplot:title={'center':'단지내주차면수'}>],\n",
       "       [<AxesSubplot:title={'center':'전용면적별세대수'}>,\n",
       "        <AxesSubplot:title={'center':'면적_세대수_곱'}>,\n",
       "        <AxesSubplot:title={'center':'면적_세대수_곱_총합'}>],\n",
       "       [<AxesSubplot:title={'center':'면적_세대수_비율'}>, <AxesSubplot:>,\n",
       "        <AxesSubplot:>]], dtype=object)"
      ]
     },
     "execution_count": 4,
     "metadata": {},
     "output_type": "execute_result"
    },
    {
     "data": {
      "image/png": "[encoded data removed]",
      "text/plain": [
       "<Figure size 864x720 with 9 Axes>"
      ]
     },
     "metadata": {
      "needs_background": "light"
     },
     "output_type": "display_data"
    }
   ],
   "source": [
    "train[['임대보증금', '임대료', '단지내주차면수','전용면적별세대수',\n",
    "       '면적_세대수_곱','면적_세대수_곱_총합', '면적_세대수_비율']].hist(figsize=(12,10), bins=20)\n"
   ]
  },
  {
   "cell_type": "code",
   "execution_count": 5,
   "metadata": {},
   "outputs": [],
   "source": [
    "from sklearn.linear_model import LinearRegression\n",
    "from sklearn.neighbors import KNeighborsRegressor\n",
    "from sklearn.tree import DecisionTreeRegressor\n",
    "from sklearn.ensemble import RandomForestRegressor\n",
    "\n",
    "from sklearn.preprocessing import StandardScaler, MinMaxScaler\n",
    "from sklearn.model_selection import cross_val_score"
   ]
  },
  {
   "cell_type": "code",
   "execution_count": 6,
   "metadata": {},
   "outputs": [
    {
     "data": {
      "text/plain": [
       "Index(['단지코드', '총세대수', '임대건물구분', '지역', '공급유형', '전용면적', '공가수', '자격유형', '임대보증금',\n",
       "       '임대료', '버스정류장', '단지내주차면수', 'ERROR1', '임대건물구분_lb', '상가', '아파트', '지역_lb',\n",
       "       '강원도', '경기도', '경상남도', '경상북도', '광주광역시', '대구광역시', '대전광역시', '부산광역시',\n",
       "       '서울특별시', '세종특별자치시', '울산광역시', '전라남도', '전라북도', '제주특별자치도', '충청남도', '충청북도',\n",
       "       '공급유형_lb', '공공분양', '공공임대(10년)', '공공임대(50년)', '공공임대(5년)', '공공임대(분납)',\n",
       "       '국민임대', '영구임대', '임대상가', '장기전세', '행복주택', '자격유형_lb', 'A', 'B', 'C', 'D',\n",
       "       'E', 'F', 'G', 'H', 'I', 'J', 'K', 'L', 'M', 'N', 'O', 'ERROR1_lb',\n",
       "       '나머지', '분양상가', '분양아파트', '등록차량수', '전용면적별세대수', '면적_세대수_곱', '면적_세대수_곱_총합',\n",
       "       '면적_세대수_비율', '전용면적_비례_차량수'],\n",
       "      dtype='object')"
      ]
     },
     "execution_count": 6,
     "metadata": {},
     "output_type": "execute_result"
    }
   ],
   "source": [
    "train.columns"
   ]
  },
  {
   "cell_type": "markdown",
   "metadata": {},
   "source": [
    "## no.1~4 "
   ]
  },
  {
   "cell_type": "code",
   "execution_count": 7,
   "metadata": {},
   "outputs": [
    {
     "name": "stdout",
     "output_type": "stream",
     "text": [
      "LinearRegression :  45.09672410199495\n",
      "KNeighborsRegressor :  42.231211805615\n",
      "RandomForestRegressor :  40.12493820436557\n",
      "DecisionTreeRegressor :  52.28150662314331\n",
      "[45.09672410199495, 42.231211805615, 40.12493820436557, 52.28150662314331]\n"
     ]
    }
   ],
   "source": [
    "sel = ['임대보증금', '임대료', '단지내주차면수','전용면적별세대수', '면적_세대수_곱', '면적_세대수_곱_총합','면적_세대수_비율']\n",
    "X = train[sel]\n",
    "y = train[['전용면적_비례_차량수']]\n",
    "\n",
    "# 피처스케일링\n",
    "scaler = StandardScaler()\n",
    "X_nor = scaler.fit_transform(X)\n",
    "\n",
    "# 모델 \n",
    "lr = LinearRegression()\n",
    "knn = KNeighborsRegressor()\n",
    "rf = RandomForestRegressor()\n",
    "dt = DecisionTreeRegressor()\n",
    "\n",
    "# 회귀는 교차검증\n",
    "lr_scores = cross_val_score(lr, X_nor, y,scoring='neg_mean_absolute_error', cv=5) \n",
    "knn_scores = cross_val_score(knn, X_nor, y,scoring='neg_mean_absolute_error', cv=5)\n",
    "rf_scores = cross_val_score(rf, X_nor, y,scoring='neg_mean_absolute_error', cv=5)\n",
    "dt_scores = cross_val_score(dt, X_nor, y,scoring='neg_mean_absolute_error', cv=5)\n",
    "\n",
    "lr_score = np.abs(lr_scores.mean())\n",
    "knn_score = np.abs(knn_scores.mean())\n",
    "rf_score = np.abs(rf_scores.mean())\n",
    "dt_score = np.abs(dt_scores.mean())\n",
    "\n",
    "print(\"LinearRegression : \", lr_score)\n",
    "print(\"KNeighborsRegressor : \", knn_score)\n",
    "print(\"RandomForestRegressor : \", rf_score)\n",
    "print(\"DecisionTreeRegressor : \", dt_score)\n",
    "\n",
    "score_std = [lr_score, knn_score, rf_score, dt_score ]\n",
    "print(score_std)"
   ]
  },
  {
   "cell_type": "markdown",
   "metadata": {},
   "source": [
    "## no.5~8"
   ]
  },
  {
   "cell_type": "code",
   "execution_count": 8,
   "metadata": {},
   "outputs": [
    {
     "name": "stdout",
     "output_type": "stream",
     "text": [
      "LinearRegression :  45.09672410199497\n",
      "KNeighborsRegressor :  41.93992855711986\n",
      "RandomForestRegressor :  40.20553324743634\n",
      "DecisionTreeRegressor :  52.97470770492034\n",
      "[45.09672410199497, 41.93992855711986, 40.20553324743634, 52.97470770492034]\n"
     ]
    }
   ],
   "source": [
    "sel = ['임대보증금', '임대료', '단지내주차면수','전용면적별세대수','면적_세대수_곱', '면적_세대수_곱_총합','면적_세대수_비율']\n",
    "\n",
    "X = train[sel]\n",
    "y = train[['전용면적_비례_차량수']]\n",
    "\n",
    "# 피처스케일링\n",
    "scaler = MinMaxScaler()\n",
    "X_nor = scaler.fit_transform(X)\n",
    "\n",
    "# 모델 \n",
    "lr = LinearRegression()\n",
    "knn = KNeighborsRegressor()\n",
    "rf = RandomForestRegressor()\n",
    "dt = DecisionTreeRegressor()\n",
    "\n",
    "# 회귀는 교차검증\n",
    "lr_scores = cross_val_score(lr, X_nor, y,scoring='neg_mean_absolute_error', cv=5) \n",
    "knn_scores = cross_val_score(knn, X_nor, y,scoring='neg_mean_absolute_error', cv=5)\n",
    "rf_scores = cross_val_score(rf, X_nor, y,scoring='neg_mean_absolute_error', cv=5)\n",
    "dt_scores = cross_val_score(dt, X_nor, y,scoring='neg_mean_absolute_error', cv=5)\n",
    "\n",
    "lr_score = np.abs(lr_scores.mean())\n",
    "knn_score = np.abs(knn_scores.mean())\n",
    "rf_score = np.abs(rf_scores.mean())\n",
    "dt_score = np.abs(dt_scores.mean())\n",
    "\n",
    "print(\"LinearRegression : \", lr_score)\n",
    "print(\"KNeighborsRegressor : \", knn_score)\n",
    "print(\"RandomForestRegressor : \", rf_score)\n",
    "print(\"DecisionTreeRegressor : \", dt_score)\n",
    "\n",
    "score_std = [lr_score, knn_score, rf_score, dt_score ]\n",
    "print(score_std)"
   ]
  },
  {
   "cell_type": "markdown",
   "metadata": {},
   "source": [
    "## no. 9~12"
   ]
  },
  {
   "cell_type": "code",
   "execution_count": 49,
   "metadata": {},
   "outputs": [
    {
     "name": "stdout",
     "output_type": "stream",
     "text": [
      "LinearRegression :  44.87972013859171\n",
      "KNeighborsRegressor :  44.32160515044741\n",
      "RandomForestRegressor :  41.94135787677359\n",
      "DecisionTreeRegressor :  54.31105542334994\n",
      "[44.87972013859171, 44.32160515044741, 41.94135787677359, 54.31105542334994]\n"
     ]
    }
   ],
   "source": [
    "sel = ['임대보증금', '임대료', '단지내주차면수','전용면적별세대수','면적_세대수_곱', '면적_세대수_곱_총합','면적_세대수_비율']\n",
    "\n",
    "X = train_na_new[sel]\n",
    "y = train_na_new[['전용면적_비례_차량수']]\n",
    "\n",
    "# 피처스케일링\n",
    "scaler = StandardScaler()\n",
    "X_nor = scaler.fit_transform(X)\n",
    "\n",
    "# 모델 \n",
    "lr = LinearRegression()\n",
    "knn = KNeighborsRegressor()\n",
    "rf = RandomForestRegressor()\n",
    "dt = DecisionTreeRegressor()\n",
    "\n",
    "# 회귀는 교차검증\n",
    "lr_scores = cross_val_score(lr, X_nor, y,scoring='neg_mean_absolute_error', cv=5) \n",
    "knn_scores = cross_val_score(knn, X_nor, y,scoring='neg_mean_absolute_error', cv=5)\n",
    "rf_scores = cross_val_score(rf, X_nor, y,scoring='neg_mean_absolute_error', cv=5)\n",
    "dt_scores = cross_val_score(dt, X_nor, y,scoring='neg_mean_absolute_error', cv=5)\n",
    "\n",
    "lr_score = np.abs(lr_scores.mean())\n",
    "knn_score = np.abs(knn_scores.mean())\n",
    "rf_score = np.abs(rf_scores.mean())\n",
    "dt_score = np.abs(dt_scores.mean())\n",
    "\n",
    "print(\"LinearRegression : \", lr_score)\n",
    "print(\"KNeighborsRegressor : \", knn_score)\n",
    "print(\"RandomForestRegressor : \", rf_score)\n",
    "print(\"DecisionTreeRegressor : \", dt_score)\n",
    "\n",
    "score_std = [lr_score, knn_score, rf_score, dt_score ]\n",
    "print(score_std)"
   ]
  },
  {
   "cell_type": "markdown",
   "metadata": {},
   "source": [
    "## no.13"
   ]
  },
  {
   "cell_type": "code",
   "execution_count": 51,
   "metadata": {},
   "outputs": [
    {
     "name": "stdout",
     "output_type": "stream",
     "text": [
      "RandomForestRegressor :  41.5891637148224\n"
     ]
    }
   ],
   "source": [
    "sel = ['단지내주차면수','전용면적별세대수', '면적_세대수_곱', '면적_세대수_곱_총합','면적_세대수_비율']\n",
    "X = train[sel]\n",
    "y = train[['전용면적_비례_차량수']]\n",
    "\n",
    "# 피처스케일링\n",
    "scaler = StandardScaler()\n",
    "X_nor = scaler.fit_transform(X)\n",
    "\n",
    "# 모델 \n",
    "rf = RandomForestRegressor()\n",
    "\n",
    "# 회귀는 교차검증\n",
    "rf_scores = cross_val_score(rf, X_nor, y,scoring='neg_mean_absolute_error', cv=5)\n",
    "\n",
    "rf_score = np.abs(rf_scores.mean())\n",
    "print(\"RandomForestRegressor : \", rf_score)"
   ]
  },
  {
   "cell_type": "markdown",
   "metadata": {},
   "source": [
    "## no. 14~16"
   ]
  },
  {
   "cell_type": "code",
   "execution_count": 57,
   "metadata": {},
   "outputs": [
    {
     "name": "stdout",
     "output_type": "stream",
     "text": [
      "RandomForestRegressor :  40.09149580735395\n",
      "Lasso (alpha=defalt) :  36.18282477251343\n",
      "Ridge (alpha=defalt) :  36.138897953825136\n"
     ]
    }
   ],
   "source": [
    "from sklearn.preprocessing import PolynomialFeatures\n",
    "from sklearn.linear_model import Lasso, Ridge\n",
    "\n",
    "\n",
    "sel = ['단지내주차면수','전용면적별세대수', '면적_세대수_곱', '면적_세대수_곱_총합','면적_세대수_비율']\n",
    "X = train[sel]\n",
    "y = train[['전용면적_비례_차량수']]\n",
    "\n",
    "# 피처스케일링\n",
    "scaler = StandardScaler()# MinMaxScaler StandardScaler\n",
    "X_nor = scaler.fit_transform(X)\n",
    "X_poly = PolynomialFeatures(degree=2, include_bias=False).fit_transform(X_nor)  \n",
    "\n",
    "# 모델 \n",
    "rf = RandomForestRegressor()\n",
    "\n",
    "# 회귀는 교차검증\n",
    "rf_scores = cross_val_score(rf, X_poly, y,scoring='neg_mean_absolute_error', cv=5)\n",
    "\n",
    "rf_score = np.abs(rf_scores.mean())\n",
    "print(\"RandomForestRegressor : \", rf_score)\n",
    "\n",
    "# Ridge, Lasso\n",
    "lasso = Lasso()\n",
    "ridge = Ridge()\n",
    "lasso_scores = cross_val_score(lasso, X_poly, y,scoring='neg_mean_absolute_error', cv=5)\n",
    "ridge_scores = cross_val_score(ridge, X_poly, y,scoring='neg_mean_absolute_error', cv=5)\n",
    "\n",
    "lasso_score = np.abs(lasso_scores.mean())\n",
    "ridge_score = np.abs(ridge_scores.mean())\n",
    "\n",
    "print(\"Lasso (alpha=defalt) : \", lasso_score)\n",
    "print(\"Ridge (alpha=defalt) : \", ridge_score)"
   ]
  },
  {
   "cell_type": "markdown",
   "metadata": {},
   "source": [
    "## no.17~19"
   ]
  },
  {
   "cell_type": "code",
   "execution_count": 55,
   "metadata": {},
   "outputs": [
    {
     "name": "stdout",
     "output_type": "stream",
     "text": [
      "RandomForestRegressor :  38.80820038200775\n",
      "Lasso (alpha=defalt) :  37.236664794834326\n",
      "Ridge (alpha=defalt) :  38.27780198193362\n"
     ]
    }
   ],
   "source": [
    "from sklearn.preprocessing import PolynomialFeatures\n",
    "from sklearn.linear_model import Lasso, Ridge\n",
    "\n",
    "\n",
    "sel = ['임대보증금','임대료','단지내주차면수','전용면적별세대수', '면적_세대수_곱', '면적_세대수_곱_총합','면적_세대수_비율']\n",
    "X = train[sel]\n",
    "y = train[['전용면적_비례_차량수']]\n",
    "\n",
    "# 피처스케일링\n",
    "scaler = StandardScaler()\n",
    "X_nor = scaler.fit_transform(X)\n",
    "X_poly = PolynomialFeatures(degree=2, include_bias=False).fit_transform(X_nor)  \n",
    "\n",
    "# 모델 \n",
    "rf = RandomForestRegressor()\n",
    "\n",
    "# 회귀는 교차검증\n",
    "rf_scores = cross_val_score(rf, X_poly, y,scoring='neg_mean_absolute_error', cv=5)\n",
    "\n",
    "rf_score = np.abs(rf_scores.mean())\n",
    "print(\"RandomForestRegressor : \", rf_score)\n",
    "\n",
    "# Ridge, Lasso\n",
    "lasso = Lasso()\n",
    "ridge = Ridge()\n",
    "lasso_scores = cross_val_score(lasso, X_poly, y,scoring='neg_mean_absolute_error', cv=5)\n",
    "ridge_scores = cross_val_score(ridge, X_poly, y,scoring='neg_mean_absolute_error', cv=5)\n",
    "\n",
    "lasso_score = np.abs(lasso_scores.mean())\n",
    "ridge_score = np.abs(ridge_scores.mean())\n",
    "\n",
    "print(\"Lasso (alpha=defalt) : \", lasso_score)\n",
    "print(\"Ridge (alpha=defalt) : \", ridge_score)"
   ]
  },
  {
   "cell_type": "markdown",
   "metadata": {},
   "source": [
    "## no.20~22"
   ]
  },
  {
   "cell_type": "code",
   "execution_count": 60,
   "metadata": {},
   "outputs": [
    {
     "name": "stdout",
     "output_type": "stream",
     "text": [
      "RandomForestRegressor :  35.79800631079669\n",
      "Lasso (alpha=defalt) :  38.880021927895335\n",
      "Ridge (alpha=defalt) :  37.67362108231964\n"
     ]
    }
   ],
   "source": [
    "from sklearn.preprocessing import PolynomialFeatures\n",
    "from sklearn.linear_model import Lasso, Ridge\n",
    "\n",
    "\n",
    "sel = ['단지내주차면수','전용면적별세대수', '면적_세대수_곱', '면적_세대수_곱_총합','면적_세대수_비율']\n",
    "X = train[sel]\n",
    "y = train[['전용면적_비례_차량수']]\n",
    "\n",
    "# 피처스케일링\n",
    "scaler = MinMaxScaler()# MinMaxScaler StandardScaler\n",
    "X_nor = scaler.fit_transform(X)\n",
    "X_poly = PolynomialFeatures(degree=2, include_bias=False).fit_transform(X_nor)  \n",
    "\n",
    "# 모델 \n",
    "rf = RandomForestRegressor()\n",
    "\n",
    "# 회귀는 교차검증\n",
    "rf_scores = cross_val_score(rf, X_poly, y,scoring='neg_mean_absolute_error', cv=5)\n",
    "\n",
    "rf_score = np.abs(rf_scores.mean())\n",
    "print(\"RandomForestRegressor : \", rf_score)\n",
    "\n",
    "# Ridge, Lasso\n",
    "lasso = Lasso()\n",
    "ridge = Ridge()\n",
    "lasso_scores = cross_val_score(lasso, X_poly, y,scoring='neg_mean_absolute_error', cv=5)\n",
    "ridge_scores = cross_val_score(ridge, X_poly, y,scoring='neg_mean_absolute_error', cv=5)\n",
    "\n",
    "lasso_score = np.abs(lasso_scores.mean())\n",
    "ridge_score = np.abs(ridge_scores.mean())\n",
    "\n",
    "print(\"Lasso (alpha=defalt) : \", lasso_score)\n",
    "print(\"Ridge (alpha=defalt) : \", ridge_score)\n"
   ]
  },
  {
   "cell_type": "markdown",
   "metadata": {},
   "source": [
    "## no.23~24"
   ]
  },
  {
   "cell_type": "code",
   "execution_count": 70,
   "metadata": {},
   "outputs": [
    {
     "name": "stdout",
     "output_type": "stream",
     "text": [
      "RandomForestRegressor :  35.559953812571145\n",
      "Lasso (alpha=defalt) :  38.57457931506346\n",
      "Ridge (alpha=defalt) :  38.13982205532718\n"
     ]
    }
   ],
   "source": [
    "from sklearn.preprocessing import PolynomialFeatures\n",
    "from sklearn.linear_model import Lasso, Ridge\n",
    "\n",
    "\n",
    "sel = ['임대료','단지내주차면수','전용면적별세대수', '면적_세대수_곱', '면적_세대수_곱_총합','면적_세대수_비율']\n",
    "X = train[sel]\n",
    "y = train[['전용면적_비례_차량수']]\n",
    "\n",
    "# 피처스케일링\n",
    "scaler = MinMaxScaler()# MinMaxScaler StandardScaler\n",
    "X_nor = scaler.fit_transform(X)\n",
    "X_poly = PolynomialFeatures(degree=2, include_bias=False).fit_transform(X_nor)  \n",
    "\n",
    "# 모델 \n",
    "rf = RandomForestRegressor()\n",
    "\n",
    "# 회귀는 교차검증\n",
    "rf_scores = cross_val_score(rf, X_poly, y,scoring='neg_mean_absolute_error', cv=5)\n",
    "\n",
    "rf_score = np.abs(rf_scores.mean())\n",
    "print(\"RandomForestRegressor : \", rf_score)\n",
    "\n",
    "# Ridge, Lasso\n",
    "lasso = Lasso()\n",
    "ridge = Ridge()\n",
    "lasso_scores = cross_val_score(lasso, X_poly, y,scoring='neg_mean_absolute_error', cv=5)\n",
    "ridge_scores = cross_val_score(ridge, X_poly, y,scoring='neg_mean_absolute_error', cv=5)\n",
    "\n",
    "lasso_score = np.abs(lasso_scores.mean())\n",
    "ridge_score = np.abs(ridge_scores.mean())\n",
    "\n",
    "print(\"Lasso (alpha=defalt) : \", lasso_score)\n",
    "print(\"Ridge (alpha=defalt) : \", ridge_score)\n"
   ]
  },
  {
   "cell_type": "code",
   "execution_count": 68,
   "metadata": {},
   "outputs": [
    {
     "name": "stdout",
     "output_type": "stream",
     "text": [
      "RandomForestRegressor :  39.058472154926456\n",
      "Lasso (alpha=defalt) :  37.11119741246477\n",
      "Ridge (alpha=defalt) :  37.2684074624868\n"
     ]
    }
   ],
   "source": [
    "from sklearn.preprocessing import PolynomialFeatures\n",
    "from sklearn.linear_model import Lasso, Ridge\n",
    "\n",
    "\n",
    "sel = ['임대료','단지내주차면수','전용면적별세대수', '면적_세대수_곱', '면적_세대수_곱_총합','면적_세대수_비율']\n",
    "X = train[sel]\n",
    "y = train[['전용면적_비례_차량수']]\n",
    "\n",
    "# 피처스케일링\n",
    "scaler = StandardScaler()# MinMaxScaler StandardScaler\n",
    "X_nor = scaler.fit_transform(X)\n",
    "X_poly = PolynomialFeatures(degree=2, include_bias=False).fit_transform(X_nor)  \n",
    "\n",
    "# 모델 \n",
    "rf = RandomForestRegressor()\n",
    "\n",
    "# 회귀는 교차검증\n",
    "rf_scores = cross_val_score(rf, X_poly, y,scoring='neg_mean_absolute_error', cv=5)\n",
    "\n",
    "rf_score = np.abs(rf_scores.mean())\n",
    "print(\"RandomForestRegressor : \", rf_score)\n",
    "\n",
    "# Ridge, Lasso\n",
    "lasso = Lasso()\n",
    "ridge = Ridge()\n",
    "lasso_scores = cross_val_score(lasso, X_poly, y,scoring='neg_mean_absolute_error', cv=5)\n",
    "ridge_scores = cross_val_score(ridge, X_poly, y,scoring='neg_mean_absolute_error', cv=5)\n",
    "\n",
    "lasso_score = np.abs(lasso_scores.mean())\n",
    "ridge_score = np.abs(ridge_scores.mean())\n",
    "\n",
    "print(\"Lasso (alpha=defalt) : \", lasso_score)\n",
    "print(\"Ridge (alpha=defalt) : \", ridge_score)\n"
   ]
  },
  {
   "cell_type": "markdown",
   "metadata": {},
   "source": [
    "## no.25"
   ]
  },
  {
   "cell_type": "code",
   "execution_count": 71,
   "metadata": {},
   "outputs": [
    {
     "name": "stdout",
     "output_type": "stream",
     "text": [
      "RandomForestRegressor :  35.305212359441036\n",
      "Lasso (alpha=defalt) :  38.57392958177389\n",
      "Ridge (alpha=defalt) :  37.90325673070581\n"
     ]
    }
   ],
   "source": [
    "from sklearn.preprocessing import PolynomialFeatures\n",
    "from sklearn.linear_model import Lasso, Ridge\n",
    "\n",
    "\n",
    "sel = ['임대료','단지내주차면수','전용면적별세대수', '면적_세대수_곱', '면적_세대수_곱_총합','면적_세대수_비율',\n",
    "      '상가','아파트']\n",
    "\n",
    "X = train[sel]\n",
    "y = train[['전용면적_비례_차량수']]\n",
    "\n",
    "# 피처스케일링\n",
    "scaler = MinMaxScaler()# MinMaxScaler StandardScaler\n",
    "X_nor = scaler.fit_transform(X)\n",
    "tmp_X_nor = X_nor[:,:6]\n",
    "X_poly = PolynomialFeatures(degree=2, include_bias=False).fit_transform(tmp_X_nor)  \n",
    "\n",
    "X_all = np.concatenate((X_poly, X_nor[:,6:]), axis=1)\n",
    "\n",
    "# 모델 \n",
    "rf = RandomForestRegressor()\n",
    "\n",
    "# 회귀는 교차검증\n",
    "rf_scores = cross_val_score(rf, X_all, y,scoring='neg_mean_absolute_error', cv=5)\n",
    "\n",
    "rf_score = np.abs(rf_scores.mean())\n",
    "print(\"RandomForestRegressor : \", rf_score)\n",
    "\n",
    "# Ridge, Lasso\n",
    "lasso = Lasso()\n",
    "ridge = Ridge()\n",
    "lasso_scores = cross_val_score(lasso, X_all, y,scoring='neg_mean_absolute_error', cv=5)\n",
    "ridge_scores = cross_val_score(ridge, X_all, y,scoring='neg_mean_absolute_error', cv=5)\n",
    "\n",
    "lasso_score = np.abs(lasso_scores.mean())\n",
    "ridge_score = np.abs(ridge_scores.mean())\n",
    "\n",
    "print(\"Lasso (alpha=defalt) : \", lasso_score)\n",
    "print(\"Ridge (alpha=defalt) : \", ridge_score)\n"
   ]
  },
  {
   "cell_type": "markdown",
   "metadata": {},
   "source": [
    "## no. 26"
   ]
  },
  {
   "cell_type": "code",
   "execution_count": 73,
   "metadata": {},
   "outputs": [
    {
     "name": "stdout",
     "output_type": "stream",
     "text": [
      "RandomForestRegressor :  34.448468120960065\n"
     ]
    }
   ],
   "source": [
    "from sklearn.preprocessing import PolynomialFeatures\n",
    "from sklearn.linear_model import Lasso, Ridge\n",
    "\n",
    "\n",
    "sel = ['임대료','단지내주차면수','전용면적별세대수', '면적_세대수_곱', '면적_세대수_곱_총합','면적_세대수_비율',\n",
    "      '강원도', '경기도', '경상남도', '경상북도', '광주광역시', '대구광역시', '대전광역시', '부산광역시',\n",
    "       '서울특별시', '세종특별자치시', '울산광역시', '전라남도', '전라북도', '제주특별자치도', '충청남도', '충청북도']\n",
    "\n",
    "X = train[sel]\n",
    "y = train[['전용면적_비례_차량수']]\n",
    "\n",
    "# 피처스케일링\n",
    "scaler = MinMaxScaler()# MinMaxScaler StandardScaler\n",
    "X_nor = scaler.fit_transform(X)\n",
    "tmp_X_nor = X_nor[:,:6]\n",
    "X_poly = PolynomialFeatures(degree=2, include_bias=False).fit_transform(tmp_X_nor)  \n",
    "\n",
    "X_all = np.concatenate((X_poly, X_nor[:,6:]), axis=1)\n",
    "\n",
    "# 모델 \n",
    "rf = RandomForestRegressor()\n",
    "\n",
    "# 회귀는 교차검증\n",
    "rf_scores = cross_val_score(rf, X_all, y,scoring='neg_mean_absolute_error', cv=5)\n",
    "rf_score = np.abs(rf_scores.mean())\n",
    "print(\"RandomForestRegressor : \", rf_score)\n"
   ]
  },
  {
   "cell_type": "markdown",
   "metadata": {},
   "source": [
    "## no. 27"
   ]
  },
  {
   "cell_type": "code",
   "execution_count": 75,
   "metadata": {},
   "outputs": [
    {
     "name": "stdout",
     "output_type": "stream",
     "text": [
      "RandomForestRegressor :  34.46394656760762\n"
     ]
    }
   ],
   "source": [
    "from sklearn.preprocessing import PolynomialFeatures\n",
    "from sklearn.linear_model import Lasso, Ridge\n",
    "\n",
    "\n",
    "sel = ['임대료','단지내주차면수','전용면적별세대수', '면적_세대수_곱', '면적_세대수_곱_총합','면적_세대수_비율',\n",
    "      '강원도', '경기도', '경상남도', '경상북도', '광주광역시', '대구광역시', '대전광역시', '부산광역시',\n",
    "       '서울특별시', '세종특별자치시', '울산광역시', '전라남도', '전라북도', '제주특별자치도', '충청남도', '충청북도',\n",
    "      '공공분양', '공공임대(10년)', '공공임대(50년)', '공공임대(5년)', '공공임대(분납)',\n",
    "       '국민임대', '영구임대', '임대상가', '장기전세', '행복주택']\n",
    "\n",
    "X = train[sel]\n",
    "y = train[['전용면적_비례_차량수']]\n",
    "\n",
    "# 피처스케일링\n",
    "scaler = MinMaxScaler()# MinMaxScaler StandardScaler\n",
    "X_nor = scaler.fit_transform(X)\n",
    "tmp_X_nor = X_nor[:,:6]\n",
    "X_poly = PolynomialFeatures(degree=2, include_bias=False).fit_transform(tmp_X_nor)  \n",
    "\n",
    "X_all = np.concatenate((X_poly, X_nor[:,6:]), axis=1)\n",
    "\n",
    "# 모델 \n",
    "rf = RandomForestRegressor()\n",
    "\n",
    "# 회귀는 교차검증\n",
    "rf_scores = cross_val_score(rf, X_all, y,scoring='neg_mean_absolute_error', cv=5)\n",
    "rf_score = np.abs(rf_scores.mean())\n",
    "print(\"RandomForestRegressor : \", rf_score)\n"
   ]
  },
  {
   "cell_type": "markdown",
   "metadata": {},
   "source": [
    "## no.28"
   ]
  },
  {
   "cell_type": "code",
   "execution_count": 76,
   "metadata": {},
   "outputs": [
    {
     "name": "stdout",
     "output_type": "stream",
     "text": [
      "RandomForestRegressor :  34.53431016442851\n"
     ]
    }
   ],
   "source": [
    "from sklearn.preprocessing import PolynomialFeatures\n",
    "from sklearn.linear_model import Lasso, Ridge\n",
    "\n",
    "\n",
    "sel = ['임대료','단지내주차면수','전용면적별세대수', '면적_세대수_곱', '면적_세대수_곱_총합','면적_세대수_비율',\n",
    "      '강원도', '경기도', '경상남도', '경상북도', '광주광역시', '대구광역시', '대전광역시', '부산광역시',\n",
    "       '서울특별시', '세종특별자치시', '울산광역시', '전라남도', '전라북도', '제주특별자치도', '충청남도', '충청북도',\n",
    "      'A', 'B', 'C', 'D','E', 'F', 'G', 'H', 'I', 'J', 'K', 'L', 'M', 'N', 'O'\n",
    "      ]\n",
    "\n",
    "X = train[sel]\n",
    "y = train[['전용면적_비례_차량수']]\n",
    "\n",
    "# 피처스케일링\n",
    "scaler = MinMaxScaler()# MinMaxScaler StandardScaler\n",
    "X_nor = scaler.fit_transform(X)\n",
    "tmp_X_nor = X_nor[:,:6]\n",
    "X_poly = PolynomialFeatures(degree=2, include_bias=False).fit_transform(tmp_X_nor)  \n",
    "\n",
    "X_all = np.concatenate((X_poly, X_nor[:,6:]), axis=1)\n",
    "\n",
    "# 모델 \n",
    "rf = RandomForestRegressor()\n",
    "\n",
    "# 회귀는 교차검증\n",
    "rf_scores = cross_val_score(rf, X_all, y,scoring='neg_mean_absolute_error', cv=5)\n",
    "rf_score = np.abs(rf_scores.mean())\n",
    "print(\"RandomForestRegressor : \", rf_score)\n"
   ]
  },
  {
   "cell_type": "markdown",
   "metadata": {},
   "source": [
    "## no.29"
   ]
  },
  {
   "cell_type": "code",
   "execution_count": 77,
   "metadata": {},
   "outputs": [
    {
     "name": "stdout",
     "output_type": "stream",
     "text": [
      "RandomForestRegressor :  34.306262789324094\n"
     ]
    }
   ],
   "source": [
    "from sklearn.preprocessing import PolynomialFeatures\n",
    "from sklearn.linear_model import Lasso, Ridge\n",
    "\n",
    "\n",
    "sel = ['임대료','단지내주차면수','전용면적별세대수', '면적_세대수_곱', '면적_세대수_곱_총합','면적_세대수_비율',\n",
    "      '강원도', '경기도', '경상남도', '경상북도', '광주광역시', '대구광역시', '대전광역시', '부산광역시',\n",
    "       '서울특별시', '세종특별자치시', '울산광역시', '전라남도', '전라북도', '제주특별자치도', '충청남도', '충청북도',\n",
    "      '나머지', '분양상가', '분양아파트']\n",
    "\n",
    "X = train[sel]\n",
    "y = train[['전용면적_비례_차량수']]\n",
    "\n",
    "# 피처스케일링\n",
    "scaler = MinMaxScaler()# MinMaxScaler StandardScaler\n",
    "X_nor = scaler.fit_transform(X)\n",
    "tmp_X_nor = X_nor[:,:6]\n",
    "X_poly = PolynomialFeatures(degree=2, include_bias=False).fit_transform(tmp_X_nor)  \n",
    "\n",
    "X_all = np.concatenate((X_poly, X_nor[:,6:]), axis=1)\n",
    "\n",
    "# 모델 \n",
    "rf = RandomForestRegressor()\n",
    "\n",
    "# 회귀는 교차검증\n",
    "rf_scores = cross_val_score(rf, X_all, y,scoring='neg_mean_absolute_error', cv=5)\n",
    "rf_score = np.abs(rf_scores.mean())\n",
    "print(\"RandomForestRegressor : \", rf_score)\n"
   ]
  },
  {
   "cell_type": "markdown",
   "metadata": {},
   "source": [
    "## no. 30\n",
    "### xgboost"
   ]
  },
  {
   "cell_type": "code",
   "execution_count": 78,
   "metadata": {},
   "outputs": [],
   "source": [
    "import xgboost as xgb\n",
    "import lightgbm as lgb\n",
    "import time"
   ]
  },
  {
   "cell_type": "code",
   "execution_count": 79,
   "metadata": {},
   "outputs": [
    {
     "name": "stdout",
     "output_type": "stream",
     "text": [
      "[00:38:54] WARNING: /opt/concourse/worker/volumes/live/7a2b9f41-3287-451b-6691-43e9a6c0910f/volume/xgboost-split_1619728204606/work/src/objective/regression_obj.cu:170: reg:linear is now deprecated in favor of reg:squarederror.\n",
      "[00:38:54] WARNING: /opt/concourse/worker/volumes/live/7a2b9f41-3287-451b-6691-43e9a6c0910f/volume/xgboost-split_1619728204606/work/src/objective/regression_obj.cu:170: reg:linear is now deprecated in favor of reg:squarederror.\n",
      "[00:38:55] WARNING: /opt/concourse/worker/volumes/live/7a2b9f41-3287-451b-6691-43e9a6c0910f/volume/xgboost-split_1619728204606/work/src/objective/regression_obj.cu:170: reg:linear is now deprecated in favor of reg:squarederror.\n",
      "[00:38:55] WARNING: /opt/concourse/worker/volumes/live/7a2b9f41-3287-451b-6691-43e9a6c0910f/volume/xgboost-split_1619728204606/work/src/objective/regression_obj.cu:170: reg:linear is now deprecated in favor of reg:squarederror.\n",
      "[00:38:55] WARNING: /opt/concourse/worker/volumes/live/7a2b9f41-3287-451b-6691-43e9a6c0910f/volume/xgboost-split_1619728204606/work/src/objective/regression_obj.cu:170: reg:linear is now deprecated in favor of reg:squarederror.\n",
      "[00:38:55] WARNING: /opt/concourse/worker/volumes/live/7a2b9f41-3287-451b-6691-43e9a6c0910f/volume/xgboost-split_1619728204606/work/src/objective/regression_obj.cu:170: reg:linear is now deprecated in favor of reg:squarederror.\n",
      "Xgboost : 36.17962253512621\n"
     ]
    }
   ],
   "source": [
    "sel = ['임대료','단지내주차면수','전용면적별세대수', '면적_세대수_곱', '면적_세대수_곱_총합','면적_세대수_비율',\n",
    "      '강원도', '경기도', '경상남도', '경상북도', '광주광역시', '대구광역시', '대전광역시', '부산광역시',\n",
    "       '서울특별시', '세종특별자치시', '울산광역시', '전라남도', '전라북도', '제주특별자치도', '충청남도', '충청북도',\n",
    "      '나머지', '분양상가', '분양아파트']\n",
    "\n",
    "X = train[sel]\n",
    "y = train[['전용면적_비례_차량수']]\n",
    "\n",
    "# 피처스케일링\n",
    "scaler = MinMaxScaler()# MinMaxScaler StandardScaler\n",
    "X_nor = scaler.fit_transform(X)\n",
    "tmp_X_nor = X_nor[:,:6]\n",
    "X_poly = PolynomialFeatures(degree=2, include_bias=False).fit_transform(tmp_X_nor)  \n",
    "\n",
    "X_all = np.concatenate((X_poly, X_nor[:,6:]), axis=1)\n",
    "\n",
    "\n",
    "# xgboost\n",
    "data_dmatrix = xgb.DMatrix(data=X_all,label=y)\n",
    "xg_reg = xgb.XGBRegressor(objective ='reg:linear', \n",
    "            colsample_bytree = 0.3, # 각나무마다 사용하는 feature 비율\n",
    "            learning_rate = 0.1,\n",
    "            max_depth = 3, \n",
    "            alpha = 0.1, \n",
    "            n_estimators = 100)  # n_estimators=100\n",
    "\n",
    "xg_reg.fit(X_all, y)\n",
    "score = cross_val_score(xg_reg, X_all, y, cv=5, scoring=\"neg_mean_absolute_error\")\n",
    "m_score = np.abs(score.mean())  \n",
    "print(\"Xgboost : {}\".format(m_score)) "
   ]
  },
  {
   "cell_type": "markdown",
   "metadata": {},
   "source": [
    "## no. 31\n",
    "### lightgbm"
   ]
  },
  {
   "cell_type": "code",
   "execution_count": 84,
   "metadata": {},
   "outputs": [
    {
     "name": "stdout",
     "output_type": "stream",
     "text": [
      "LightGBM Score : 37.63034153935594\n"
     ]
    }
   ],
   "source": [
    "sel = ['임대료','단지내주차면수','전용면적별세대수', '면적_세대수_곱', '면적_세대수_곱_총합','면적_세대수_비율',\n",
    "      '강원도', '경기도', '경상남도', '경상북도', '광주광역시', '대구광역시', '대전광역시', '부산광역시',\n",
    "       '서울특별시', '세종특별자치시', '울산광역시', '전라남도', '전라북도', '제주특별자치도', '충청남도', '충청북도',\n",
    "      '나머지', '분양상가', '분양아파트']\n",
    "\n",
    "X = train[sel]\n",
    "y = train[['전용면적_비례_차량수']]\n",
    "\n",
    "# 피처스케일링\n",
    "scaler = MinMaxScaler()# MinMaxScaler StandardScaler\n",
    "X_nor = scaler.fit_transform(X)\n",
    "tmp_X_nor = X_nor[:,:6]\n",
    "X_poly = PolynomialFeatures(degree=2, include_bias=False).fit_transform(tmp_X_nor)  \n",
    "\n",
    "X_all = np.concatenate((X_poly, X_nor[:,6:]), axis=1)\n",
    "\n",
    "m_lgbm1 = lgb.LGBMRegressor()\n",
    "m_lgbm1.fit(X_all, y)\n",
    "score = cross_val_score(m_lgbm1, X_all, y, \n",
    "                        cv=5, scoring=\"neg_mean_absolute_error\")\n",
    "\n",
    "m_score = np.abs(score.mean())  # 절대값\n",
    "\n",
    "print(\"LightGBM Score : {}\".format(m_score))  # 점수"
   ]
  },
  {
   "cell_type": "code",
   "execution_count": null,
   "metadata": {},
   "outputs": [],
   "source": []
  },
  {
   "cell_type": "code",
   "execution_count": null,
   "metadata": {},
   "outputs": [],
   "source": []
  },
  {
   "cell_type": "code",
   "execution_count": null,
   "metadata": {},
   "outputs": [],
   "source": []
  },
  {
   "cell_type": "code",
   "execution_count": null,
   "metadata": {},
   "outputs": [],
   "source": []
  },
  {
   "cell_type": "code",
   "execution_count": null,
   "metadata": {},
   "outputs": [],
   "source": []
  },
  {
   "cell_type": "code",
   "execution_count": 10,
   "metadata": {},
   "outputs": [
    {
     "name": "stdout",
     "output_type": "stream",
     "text": [
      "DescribeResult(nobs=567, minmax=(3.709184390744469, 950.6329414189755), mean=144.07594474433188, variance=22639.064189523026, skewness=1.9659943921554013, kurtosis=5.424727771545223)\n"
     ]
    },
    {
     "data": {
      "text/plain": [
       "(array([185.,  80.,  83.,  74.,  38.,  33.,  15.,  13.,  21.,   4.,   4.,\n",
       "          6.,   1.,   1.,   2.,   2.,   1.,   1.,   1.,   2.]),\n",
       " array([  3.70918439,  51.05537224,  98.40156009, 145.74774794,\n",
       "        193.0939358 , 240.44012365, 287.7863115 , 335.13249935,\n",
       "        382.4786872 , 429.82487505, 477.1710629 , 524.51725076,\n",
       "        571.86343861, 619.20962646, 666.55581431, 713.90200216,\n",
       "        761.24819001, 808.59437786, 855.94056572, 903.28675357,\n",
       "        950.63294142]),\n",
       " <BarContainer object of 20 artists>)"
      ]
     },
     "execution_count": 10,
     "metadata": {},
     "output_type": "execute_result"
    },
    {
     "data": {
      "image/png": "[encoded data removed]",
      "text/plain": [
       "<Figure size 432x288 with 1 Axes>"
      ]
     },
     "metadata": {
      "needs_background": "light"
     },
     "output_type": "display_data"
    }
   ],
   "source": [
    "from scipy import stats\n",
    "\n",
    "X_test = test[sel]\n",
    "X_test_nor = scaler.transform(X_test)\n",
    "\n",
    "rf.fit(X_nor, y)\n",
    "pred = rf.predict(X_test_nor)\n",
    "print(stats.describe(pred))\n",
    "plt.hist(pred, bins=20)"
   ]
  },
  {
   "cell_type": "code",
   "execution_count": null,
   "metadata": {},
   "outputs": [],
   "source": []
  }
 ],
 "metadata": {
  "kernelspec": {
   "display_name": "Python 3",
   "language": "python",
   "name": "python3"
  },
  "language_info": {
   "codemirror_mode": {
    "name": "ipython",
    "version": 3
   },
   "file_extension": ".py",
   "mimetype": "text/x-python",
   "name": "python",
   "nbconvert_exporter": "python",
   "pygments_lexer": "ipython3",
   "version": "3.8.5"
  }
 },
 "nbformat": 4,
 "nbformat_minor": 4
}
