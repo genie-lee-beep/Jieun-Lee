{
  "nbformat": 4,
  "nbformat_minor": 0,
  "metadata": {
    "colab": {
      "name": "Python_int(input()).ipynb",
      "provenance": []
    },
    "kernelspec": {
      "name": "python3",
      "display_name": "Python 3"
    },
    "language_info": {
      "name": "python"
    }
  },
  "cells": [
    {
      "cell_type": "code",
      "metadata": {
        "colab": {
          "base_uri": "https://localhost:8080/"
        },
        "id": "4Kh5VUCI3m7K",
        "outputId": "9fd7ec95-a736-4621-c6aa-282812171e52"
      },
      "source": [
        "score = int(input(\"수학점수를 입력해주세요\"))\n",
        "print(score + 10)"
      ],
      "execution_count": null,
      "outputs": [
        {
          "output_type": "stream",
          "name": "stdout",
          "text": [
            "수학점수를 입력해주세요34\n",
            "44\n"
          ]
        }
      ]
    },
    {
      "cell_type": "code",
      "metadata": {
        "colab": {
          "base_uri": "https://localhost:8080/"
        },
        "id": "xbDTsCbn36eW",
        "outputId": "f70366eb-a798-4769-ed8c-b0e7ca0fbcad"
      },
      "source": [
        "print(\"line1\", end = \"   \")\n",
        "print(\"line2\")"
      ],
      "execution_count": null,
      "outputs": [
        {
          "output_type": "stream",
          "name": "stdout",
          "text": [
            "line1   line2\n"
          ]
        }
      ]
    },
    {
      "cell_type": "code",
      "metadata": {
        "colab": {
          "base_uri": "https://localhost:8080/",
          "height": 137
        },
        "id": "9Qy0T5qN8p2v",
        "outputId": "c086eb80-ce75-4a18-9129-95653cc1b710"
      },
      "source": [
        "for x in range(5)\n",
        "  print(\"line\"+(x+1))\n"
      ],
      "execution_count": null,
      "outputs": [
        {
          "output_type": "error",
          "ename": "SyntaxError",
          "evalue": "ignored",
          "traceback": [
            "\u001b[0;36m  File \u001b[0;32m\"<ipython-input-3-1ca4caeb81c3>\"\u001b[0;36m, line \u001b[0;32m1\u001b[0m\n\u001b[0;31m    for x in range(5)\u001b[0m\n\u001b[0m                     ^\u001b[0m\n\u001b[0;31mSyntaxError\u001b[0m\u001b[0;31m:\u001b[0m invalid syntax\n"
          ]
        }
      ]
    },
    {
      "cell_type": "code",
      "metadata": {
        "id": "9L0iYmXe9DTM"
      },
      "source": [
        "a = line(x)\n",
        "for x in range(5)\n",
        "print(a)"
      ],
      "execution_count": null,
      "outputs": []
    },
    {
      "cell_type": "code",
      "metadata": {
        "id": "3Y6-UshYKsl5"
      },
      "source": [
        "age = int(input(\"나이를 입력하세요\"))\n",
        "\n",
        "if(age >= 18):\n",
        "  print(\"당신은 성년입니다.\")\n",
        "else:\n",
        "  print(\"성년이 아닙니다\")"
      ],
      "execution_count": null,
      "outputs": []
    },
    {
      "cell_type": "code",
      "metadata": {
        "id": "H3jzikdjQluQ"
      },
      "source": [
        "age = int(input(\"나이를 입력하세요\"))\n",
        "\n",
        "if(15 <= age >= 18):\n",
        "  print(\"놀이동산 출입 가능\")"
      ],
      "execution_count": null,
      "outputs": []
    },
    {
      "cell_type": "code",
      "metadata": {
        "id": "b6BjYD6ORWK5"
      },
      "source": [
        "score = int(input(\"성적\"))\n",
        "\n",
        "if(score >= 90):\n",
        "  print(\"A\")\n",
        "elif(score >= 80):\n",
        "  print(\"B\")\n",
        "elif(score>=70):\n",
        "  print(\"C\")\n",
        "else:\n",
        "  print(\"D\")"
      ],
      "execution_count": null,
      "outputs": []
    },
    {
      "cell_type": "code",
      "metadata": {
        "id": "u5bmj1wxULlW"
      },
      "source": [
        "thisyear = int(input(\"올해연도?\"))\n",
        "if thisyear == 2021:\n",
        "  print(\"정확합니다\")\n",
        "else:\n",
        "  print(f\"올해가 아닙니다.올해는{thisyear}\")"
      ],
      "execution_count": null,
      "outputs": []
    },
    {
      "cell_type": "code",
      "metadata": {
        "id": "ncW9808jVKHR"
      },
      "source": [
        "import datetime"
      ],
      "execution_count": null,
      "outputs": []
    },
    {
      "cell_type": "code",
      "metadata": {
        "id": "-1YIJsy0VL_i"
      },
      "source": [
        "thisYear = int(input(\"올해연도?\"))\n",
        "\n",
        "year = 2021\n",
        "if thisYear == 2021:\n",
        "  print(\"정확합니다\")\n",
        "else:\n",
        "  print(\"올해가 아닙니다.올해는:\" , year)"
      ],
      "execution_count": null,
      "outputs": []
    },
    {
      "cell_type": "code",
      "metadata": {
        "id": "ZcuKOBCacn01"
      },
      "source": [
        ""
      ],
      "execution_count": null,
      "outputs": []
    },
    {
      "cell_type": "code",
      "metadata": {
        "id": "QzWq2Biraux-"
      },
      "source": [
        "temp = int(input(\"온도는?\"))\n",
        "weather = input(\"날씨는?\")\n",
        "if temp >= 20 and weather ==\"맑음\":\n",
        "  print(\"소풍을 갑니다.\")\n",
        "else:\n",
        "  print(\"집에 있기\")"
      ],
      "execution_count": null,
      "outputs": []
    },
    {
      "cell_type": "code",
      "metadata": {
        "id": "z1YRGAgUdat0"
      },
      "source": [
        "print(\"{}와 {}의 합은{}입니다.\". format(2,5,7))"
      ],
      "execution_count": null,
      "outputs": []
    },
    {
      "cell_type": "code",
      "metadata": {
        "id": "EAQ5J8JFeAvZ"
      },
      "source": [
        "num = int(input(\"사람의 수는 :\"))\n",
        "if num >= 10:\n",
        "  print(\"사람이 10명이상입니다\")\n",
        "  print(\"두 개의 방에 나눠 들어가야 합니다.\")\n",
        "else:\n",
        "  print(\"사람이 10명 미만입니다.\")"
      ],
      "execution_count": null,
      "outputs": []
    },
    {
      "cell_type": "markdown",
      "metadata": {
        "id": "Yp0411sXCvnr"
      },
      "source": [
        "###짝수 홀수"
      ]
    },
    {
      "cell_type": "code",
      "metadata": {
        "id": "Fk6qJsPX3r5u"
      },
      "source": [
        "score = int(input(\"학점입력\"))\n",
        "if score >= 90:\n",
        "print"
      ],
      "execution_count": null,
      "outputs": []
    },
    {
      "cell_type": "code",
      "metadata": {
        "id": "y4DXePajwwEB"
      },
      "source": [
        "num = int(input(\"값입력\"))\n",
        "if num%2 == 0: \n",
        "    print(\"짝수\")\n",
        "else:\n",
        "    print(\"홀수\")"
      ],
      "execution_count": null,
      "outputs": []
    },
    {
      "cell_type": "markdown",
      "source": [
        "### 숫자입력"
      ],
      "metadata": {
        "id": "qahElaXr7qVx"
      }
    },
    {
      "cell_type": "code",
      "source": [
        "hrs = input(\"Enter hours\")\n",
        "h = float(hrs)\n",
        "xx = input(\"Enter the Rate\")\n",
        "x = float(xx)\n",
        "if h <= 40:\n",
        "    print(h * x)\n",
        "elif h >= 40:\n",
        "    print(40* x + (h-40) * 1.5 *x)"
      ],
      "metadata": {
        "id": "vQmPJGS_7lKU"
      },
      "execution_count": null,
      "outputs": []
    }
  ]
}