{
  "nbformat": 4,
  "nbformat_minor": 0,
  "metadata": {
    "colab": {
      "name": "Python_string formatting",
      "provenance": []
    },
    "kernelspec": {
      "name": "python3",
      "display_name": "Python 3"
    },
    "language_info": {
      "name": "python"
    }
  },
  "cells": [
    {
      "cell_type": "markdown",
      "source": [
        "### 문자열 포매팅 방법은 \n",
        "- %와 서식기호를 이용한 방법, \n",
        "- format 함수를 이용한 방법,   \n",
        "- f-string을 이용한 방법 이렇게 세가지가 있다고 볼 수 있습니다.\n"
      ],
      "metadata": {
        "id": "dr09hd5m76Gb"
      }
    },
    {
      "cell_type": "markdown",
      "source": [
        "### % + 문자열  %s, %d  %f"
      ],
      "metadata": {
        "id": "6fo_orQ68DJg"
      }
    },
    {
      "cell_type": "code",
      "execution_count": 1,
      "metadata": {
        "colab": {
          "base_uri": "https://localhost:8080/"
        },
        "id": "1VIAfjay6tWJ",
        "outputId": "9d08d6df-47d7-4594-e8f1-eedd1c9f3f9f"
      },
      "outputs": [
        {
          "output_type": "stream",
          "name": "stdout",
          "text": [
            "my name is kim\n",
            "my name is park\n",
            "my name is lee\n",
            "give me 10000 won\n",
            "value 3.141592\n"
          ]
        }
      ],
      "source": [
        "# % 기호 문자 출력\n",
        "names = ['kim', 'park', 'lee']\n",
        "for name in names:\n",
        "    print('my name is %s' % name)\n",
        " \n",
        "# % 기호 정수 출력\n",
        "money = 10000\n",
        "s2 = 'give me %d won' % money\n",
        "print(s2)\n",
        " \n",
        "# % 기호 실수 출력\n",
        "d = 3.141592\n",
        "print('value %f' % d)\n"
      ]
    },
    {
      "cell_type": "code",
      "source": [
        "# 출력해야할 값이 두개 이상인 경우 () 를 이용합니다.\n",
        "s1 = 'my name is %s. age : %d' % ('blockdmask', 100)\n",
        "print(s1)\n",
        " \n",
        "# 출력해야할 값이 점점 많아 질 수록..\n",
        "age = 80\n",
        "money = 20000\n",
        "name = 'Kim'\n",
        "weight = 80.12\n",
        "etc = 'abcde'\n",
        "s2 = 'my name is %s, age : %d, weight : %f, money : %d, etc : %s' % (name, age, weight, money, etc)\n",
        "print(s2)"
      ],
      "metadata": {
        "id": "Dbr0f4zr6wDw"
      },
      "execution_count": null,
      "outputs": []
    },
    {
      "cell_type": "markdown",
      "source": [
        "이렇게 출력이 많을때는 ()를 이용해서 순서에 맞게 입력해주면 됩니다.\n",
        "% 서식 문자를 이용한 문자열 포매팅은 언뜻 보면 타입을 정해주기 때문에 정확해 보이지만, 타입을 정해야 하기 때문에 불편한 점도 존재합니다.\n",
        "\n",
        "그래서 이걸 개선하기 위해서 지난시간에 말한 str.format 형식이 나오게 된것이고, 그 이후에 f-string 방법이 나오게 된 것 입니다."
      ],
      "metadata": {
        "id": "66mK7MQA7RFl"
      }
    },
    {
      "cell_type": "markdown",
      "source": [
        "### 2. format 함수를 이용한 방법\n",
        "\n",
        "- '{인덱스0}, {인덱스1}'.format(값0, 값1)"
      ],
      "metadata": {
        "id": "xVVbkKek8YFx"
      }
    },
    {
      "cell_type": "code",
      "source": [
        "# 직접 대입하기\n",
        "s1 = 'name : {0}'.format('Genie')\n",
        "print(s1)\n",
        " \n",
        " \n",
        "# 변수로 대입 하기\n",
        "age = 17\n",
        "s2 = 'age : {0}'.format(age)\n",
        "print(s2)\n",
        " \n",
        "# 이름으로 대입하기\n",
        "s3 = 'number : {num}, gender : {gen}'.format(num=1234, gen='female')\n",
        "print(s3)"
      ],
      "metadata": {
        "colab": {
          "base_uri": "https://localhost:8080/"
        },
        "id": "9-gY0ohT8fi5",
        "outputId": "6fbb5a1f-56ef-4ff5-c4ce-a702826b1849"
      },
      "execution_count": 2,
      "outputs": [
        {
          "output_type": "stream",
          "name": "stdout",
          "text": [
            "name : Genie\n",
            "age : 17\n",
            "number : 1234, gender : female\n"
          ]
        }
      ]
    },
    {
      "cell_type": "markdown",
      "source": [
        "### 3. f-string을 이용한 방법 \n",
        "\n",
        "- f-string의 모양은 f와 {}만 알면 됩니다. 문자열 맨 앞에 f를 붙여주고, 중괄호 안에 직접 변수 이름이나 출력하고 싶은것을 바로 넣으면 됩니다.\n",
        "- f'문자열 {변수} 문자열'"
      ],
      "metadata": {
        "id": "eaZCR7oR8bPO"
      }
    },
    {
      "cell_type": "code",
      "source": [
        "# 문자열 맨 앞에 f를 붙이고, 출력할 변수, 값을 중괄호 안에 넣습니다.\n",
        "s = 'orange jucie'\n",
        "n = 5\n",
        "result1 = f'저는 {s}를 좋아합니다. 하루 {n}잔 마셔요.'\n",
        "print(result1)"
      ],
      "metadata": {
        "colab": {
          "base_uri": "https://localhost:8080/"
        },
        "id": "_I7NKp3z7SHw",
        "outputId": "b5630fe5-2207-4e1c-d1b1-0744f84db3cd"
      },
      "execution_count": 3,
      "outputs": [
        {
          "output_type": "stream",
          "name": "stdout",
          "text": [
            "저는 orange jucie를 좋아합니다. 하루 5잔 마셔요.\n"
          ]
        }
      ]
    },
    {
      "cell_type": "code",
      "source": [
        ""
      ],
      "metadata": {
        "id": "zP8el6td9Qt7"
      },
      "execution_count": null,
      "outputs": []
    }
  ]
}