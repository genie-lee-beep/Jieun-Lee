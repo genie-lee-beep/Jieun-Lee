{
 "cells": [
  {
   "cell_type": "markdown",
   "metadata": {},
   "source": [
    "### Import necessary libraries"
   ]
  },
  {
   "cell_type": "code",
   "execution_count": 2,
   "metadata": {
    "_cell_guid": "b1076dfc-b9ad-4769-8c92-a6c4dae69d19",
    "_uuid": "8f2839f25d086af736a60e9eeb907d3b93b6e0e5",
    "execution": {
     "iopub.execute_input": "2021-09-15T01:57:02.446726Z",
     "iopub.status.busy": "2021-09-15T01:57:02.446288Z",
     "iopub.status.idle": "2021-09-15T01:57:05.020200Z",
     "shell.execute_reply": "2021-09-15T01:57:05.019107Z",
     "shell.execute_reply.started": "2021-09-15T01:57:02.446694Z"
    }
   },
   "outputs": [],
   "source": [
    "import numpy as np # linear algebra\n",
    "import pandas as pd # data processing, CSV file I/O (e.g. pd.read_csv)\n",
    "\n",
    "import seaborn as sns\n",
    "import matplotlib.pyplot as plt \n",
    "\n",
    "import os\n",
    "for dirname, _, filenames in os.walk('/kaggle/input'):\n",
    "    for filename in filenames:\n",
    "        print(os.path.join(dirname, filename))\n",
    "        \n",
    "import re\n",
    "import plotly.express as px\n",
    "import plotly.graph_objects as go\n",
    "from plotly.subplots import make_subplots    "
   ]
  },
  {
   "cell_type": "markdown",
   "metadata": {},
   "source": [
    "### Data loading and exploration"
   ]
  },
  {
   "cell_type": "markdown",
   "metadata": {
    "execution": {
     "iopub.execute_input": "2021-09-15T01:03:48.835534Z",
     "iopub.status.busy": "2021-09-15T01:03:48.83512Z",
     "iopub.status.idle": "2021-09-15T01:03:48.841491Z",
     "shell.execute_reply": "2021-09-15T01:03:48.840439Z",
     "shell.execute_reply.started": "2021-09-15T01:03:48.835504Z"
    }
   },
   "source": [
    "<iframe src=\"https://www.kaggle.com/embed/vivek468/will-the-customer-churn?cellId=2&cellIds=2&kernelSessionId=74773094\" height=\"300\" style=\"margin: 0 auto; width: 100%; max-width: 950px;\" frameborder=\"0\" scrolling=\"auto\" title=\"Will the Customer Churn?😥📉\"></iframe>"
   ]
  },
  {
   "cell_type": "code",
   "execution_count": 3,
   "metadata": {
    "execution": {
     "iopub.execute_input": "2021-09-15T01:57:05.022325Z",
     "iopub.status.busy": "2021-09-15T01:57:05.022092Z",
     "iopub.status.idle": "2021-09-15T01:57:05.027879Z",
     "shell.execute_reply": "2021-09-15T01:57:05.026814Z",
     "shell.execute_reply.started": "2021-09-15T01:57:05.022300Z"
    }
   },
   "outputs": [
    {
     "name": "stdout",
     "output_type": "stream",
     "text": [
      "C:\\Users\\dell\\CODELION\\Kaggle\n"
     ]
    }
   ],
   "source": [
    "path = os.getcwd()\n",
    "print(path)"
   ]
  },
  {
   "cell_type": "code",
   "execution_count": 5,
   "metadata": {
    "execution": {
     "iopub.execute_input": "2021-09-15T01:57:05.029689Z",
     "iopub.status.busy": "2021-09-15T01:57:05.029308Z",
     "iopub.status.idle": "2021-09-15T01:57:05.067849Z",
     "shell.execute_reply": "2021-09-15T01:57:05.066761Z",
     "shell.execute_reply.started": "2021-09-15T01:57:05.029649Z"
    }
   },
   "outputs": [
    {
     "ename": "FileNotFoundError",
     "evalue": "[Errno 2] No such file or directory: '/kaggle/input/learnplatform-covid19-impact-on-digital-learning/products_info.csv'",
     "output_type": "error",
     "traceback": [
      "\u001b[1;31m---------------------------------------------------------------------------\u001b[0m",
      "\u001b[1;31mFileNotFoundError\u001b[0m                         Traceback (most recent call last)",
      "\u001b[1;32m<ipython-input-5-2a4600df8d17>\u001b[0m in \u001b[0;36m<module>\u001b[1;34m\u001b[0m\n\u001b[1;32m----> 1\u001b[1;33m \u001b[0mproducts_df\u001b[0m \u001b[1;33m=\u001b[0m \u001b[0mpd\u001b[0m\u001b[1;33m.\u001b[0m\u001b[0mread_csv\u001b[0m\u001b[1;33m(\u001b[0m\u001b[1;34m\"/kaggle/input/learnplatform-covid19-impact-on-digital-learning/products_info.csv\"\u001b[0m\u001b[1;33m)\u001b[0m\u001b[1;33m\u001b[0m\u001b[1;33m\u001b[0m\u001b[0m\n\u001b[0m\u001b[0;32m      2\u001b[0m \u001b[0mdistricts_df\u001b[0m \u001b[1;33m=\u001b[0m \u001b[0mpd\u001b[0m\u001b[1;33m.\u001b[0m\u001b[0mread_csv\u001b[0m\u001b[1;33m(\u001b[0m\u001b[1;34m\"/kaggle/input/learnplatform-covid19-impact-on-digital-learning/districts_info.csv\"\u001b[0m\u001b[1;33m)\u001b[0m\u001b[1;33m\u001b[0m\u001b[1;33m\u001b[0m\u001b[0m\n\u001b[0;32m      3\u001b[0m \u001b[1;33m\u001b[0m\u001b[0m\n\u001b[0;32m      4\u001b[0m \u001b[0mdistricts_df\u001b[0m\u001b[1;33m.\u001b[0m\u001b[0mshape\u001b[0m\u001b[1;33m,\u001b[0m \u001b[0mproducts_df\u001b[0m\u001b[1;33m.\u001b[0m\u001b[0mshape\u001b[0m\u001b[1;33m\u001b[0m\u001b[1;33m\u001b[0m\u001b[0m\n",
      "\u001b[1;32m~\\anaconda3\\lib\\site-packages\\pandas\\io\\parsers.py\u001b[0m in \u001b[0;36mread_csv\u001b[1;34m(filepath_or_buffer, sep, delimiter, header, names, index_col, usecols, squeeze, prefix, mangle_dupe_cols, dtype, engine, converters, true_values, false_values, skipinitialspace, skiprows, skipfooter, nrows, na_values, keep_default_na, na_filter, verbose, skip_blank_lines, parse_dates, infer_datetime_format, keep_date_col, date_parser, dayfirst, cache_dates, iterator, chunksize, compression, thousands, decimal, lineterminator, quotechar, quoting, doublequote, escapechar, comment, encoding, dialect, error_bad_lines, warn_bad_lines, delim_whitespace, low_memory, memory_map, float_precision)\u001b[0m\n\u001b[0;32m    684\u001b[0m     )\n\u001b[0;32m    685\u001b[0m \u001b[1;33m\u001b[0m\u001b[0m\n\u001b[1;32m--> 686\u001b[1;33m     \u001b[1;32mreturn\u001b[0m \u001b[0m_read\u001b[0m\u001b[1;33m(\u001b[0m\u001b[0mfilepath_or_buffer\u001b[0m\u001b[1;33m,\u001b[0m \u001b[0mkwds\u001b[0m\u001b[1;33m)\u001b[0m\u001b[1;33m\u001b[0m\u001b[1;33m\u001b[0m\u001b[0m\n\u001b[0m\u001b[0;32m    687\u001b[0m \u001b[1;33m\u001b[0m\u001b[0m\n\u001b[0;32m    688\u001b[0m \u001b[1;33m\u001b[0m\u001b[0m\n",
      "\u001b[1;32m~\\anaconda3\\lib\\site-packages\\pandas\\io\\parsers.py\u001b[0m in \u001b[0;36m_read\u001b[1;34m(filepath_or_buffer, kwds)\u001b[0m\n\u001b[0;32m    450\u001b[0m \u001b[1;33m\u001b[0m\u001b[0m\n\u001b[0;32m    451\u001b[0m     \u001b[1;31m# Create the parser.\u001b[0m\u001b[1;33m\u001b[0m\u001b[1;33m\u001b[0m\u001b[1;33m\u001b[0m\u001b[0m\n\u001b[1;32m--> 452\u001b[1;33m     \u001b[0mparser\u001b[0m \u001b[1;33m=\u001b[0m \u001b[0mTextFileReader\u001b[0m\u001b[1;33m(\u001b[0m\u001b[0mfp_or_buf\u001b[0m\u001b[1;33m,\u001b[0m \u001b[1;33m**\u001b[0m\u001b[0mkwds\u001b[0m\u001b[1;33m)\u001b[0m\u001b[1;33m\u001b[0m\u001b[1;33m\u001b[0m\u001b[0m\n\u001b[0m\u001b[0;32m    453\u001b[0m \u001b[1;33m\u001b[0m\u001b[0m\n\u001b[0;32m    454\u001b[0m     \u001b[1;32mif\u001b[0m \u001b[0mchunksize\u001b[0m \u001b[1;32mor\u001b[0m \u001b[0miterator\u001b[0m\u001b[1;33m:\u001b[0m\u001b[1;33m\u001b[0m\u001b[1;33m\u001b[0m\u001b[0m\n",
      "\u001b[1;32m~\\anaconda3\\lib\\site-packages\\pandas\\io\\parsers.py\u001b[0m in \u001b[0;36m__init__\u001b[1;34m(self, f, engine, **kwds)\u001b[0m\n\u001b[0;32m    944\u001b[0m             \u001b[0mself\u001b[0m\u001b[1;33m.\u001b[0m\u001b[0moptions\u001b[0m\u001b[1;33m[\u001b[0m\u001b[1;34m\"has_index_names\"\u001b[0m\u001b[1;33m]\u001b[0m \u001b[1;33m=\u001b[0m \u001b[0mkwds\u001b[0m\u001b[1;33m[\u001b[0m\u001b[1;34m\"has_index_names\"\u001b[0m\u001b[1;33m]\u001b[0m\u001b[1;33m\u001b[0m\u001b[1;33m\u001b[0m\u001b[0m\n\u001b[0;32m    945\u001b[0m \u001b[1;33m\u001b[0m\u001b[0m\n\u001b[1;32m--> 946\u001b[1;33m         \u001b[0mself\u001b[0m\u001b[1;33m.\u001b[0m\u001b[0m_make_engine\u001b[0m\u001b[1;33m(\u001b[0m\u001b[0mself\u001b[0m\u001b[1;33m.\u001b[0m\u001b[0mengine\u001b[0m\u001b[1;33m)\u001b[0m\u001b[1;33m\u001b[0m\u001b[1;33m\u001b[0m\u001b[0m\n\u001b[0m\u001b[0;32m    947\u001b[0m \u001b[1;33m\u001b[0m\u001b[0m\n\u001b[0;32m    948\u001b[0m     \u001b[1;32mdef\u001b[0m \u001b[0mclose\u001b[0m\u001b[1;33m(\u001b[0m\u001b[0mself\u001b[0m\u001b[1;33m)\u001b[0m\u001b[1;33m:\u001b[0m\u001b[1;33m\u001b[0m\u001b[1;33m\u001b[0m\u001b[0m\n",
      "\u001b[1;32m~\\anaconda3\\lib\\site-packages\\pandas\\io\\parsers.py\u001b[0m in \u001b[0;36m_make_engine\u001b[1;34m(self, engine)\u001b[0m\n\u001b[0;32m   1176\u001b[0m     \u001b[1;32mdef\u001b[0m \u001b[0m_make_engine\u001b[0m\u001b[1;33m(\u001b[0m\u001b[0mself\u001b[0m\u001b[1;33m,\u001b[0m \u001b[0mengine\u001b[0m\u001b[1;33m=\u001b[0m\u001b[1;34m\"c\"\u001b[0m\u001b[1;33m)\u001b[0m\u001b[1;33m:\u001b[0m\u001b[1;33m\u001b[0m\u001b[1;33m\u001b[0m\u001b[0m\n\u001b[0;32m   1177\u001b[0m         \u001b[1;32mif\u001b[0m \u001b[0mengine\u001b[0m \u001b[1;33m==\u001b[0m \u001b[1;34m\"c\"\u001b[0m\u001b[1;33m:\u001b[0m\u001b[1;33m\u001b[0m\u001b[1;33m\u001b[0m\u001b[0m\n\u001b[1;32m-> 1178\u001b[1;33m             \u001b[0mself\u001b[0m\u001b[1;33m.\u001b[0m\u001b[0m_engine\u001b[0m \u001b[1;33m=\u001b[0m \u001b[0mCParserWrapper\u001b[0m\u001b[1;33m(\u001b[0m\u001b[0mself\u001b[0m\u001b[1;33m.\u001b[0m\u001b[0mf\u001b[0m\u001b[1;33m,\u001b[0m \u001b[1;33m**\u001b[0m\u001b[0mself\u001b[0m\u001b[1;33m.\u001b[0m\u001b[0moptions\u001b[0m\u001b[1;33m)\u001b[0m\u001b[1;33m\u001b[0m\u001b[1;33m\u001b[0m\u001b[0m\n\u001b[0m\u001b[0;32m   1179\u001b[0m         \u001b[1;32melse\u001b[0m\u001b[1;33m:\u001b[0m\u001b[1;33m\u001b[0m\u001b[1;33m\u001b[0m\u001b[0m\n\u001b[0;32m   1180\u001b[0m             \u001b[1;32mif\u001b[0m \u001b[0mengine\u001b[0m \u001b[1;33m==\u001b[0m \u001b[1;34m\"python\"\u001b[0m\u001b[1;33m:\u001b[0m\u001b[1;33m\u001b[0m\u001b[1;33m\u001b[0m\u001b[0m\n",
      "\u001b[1;32m~\\anaconda3\\lib\\site-packages\\pandas\\io\\parsers.py\u001b[0m in \u001b[0;36m__init__\u001b[1;34m(self, src, **kwds)\u001b[0m\n\u001b[0;32m   2006\u001b[0m         \u001b[0mkwds\u001b[0m\u001b[1;33m[\u001b[0m\u001b[1;34m\"usecols\"\u001b[0m\u001b[1;33m]\u001b[0m \u001b[1;33m=\u001b[0m \u001b[0mself\u001b[0m\u001b[1;33m.\u001b[0m\u001b[0musecols\u001b[0m\u001b[1;33m\u001b[0m\u001b[1;33m\u001b[0m\u001b[0m\n\u001b[0;32m   2007\u001b[0m \u001b[1;33m\u001b[0m\u001b[0m\n\u001b[1;32m-> 2008\u001b[1;33m         \u001b[0mself\u001b[0m\u001b[1;33m.\u001b[0m\u001b[0m_reader\u001b[0m \u001b[1;33m=\u001b[0m \u001b[0mparsers\u001b[0m\u001b[1;33m.\u001b[0m\u001b[0mTextReader\u001b[0m\u001b[1;33m(\u001b[0m\u001b[0msrc\u001b[0m\u001b[1;33m,\u001b[0m \u001b[1;33m**\u001b[0m\u001b[0mkwds\u001b[0m\u001b[1;33m)\u001b[0m\u001b[1;33m\u001b[0m\u001b[1;33m\u001b[0m\u001b[0m\n\u001b[0m\u001b[0;32m   2009\u001b[0m         \u001b[0mself\u001b[0m\u001b[1;33m.\u001b[0m\u001b[0munnamed_cols\u001b[0m \u001b[1;33m=\u001b[0m \u001b[0mself\u001b[0m\u001b[1;33m.\u001b[0m\u001b[0m_reader\u001b[0m\u001b[1;33m.\u001b[0m\u001b[0munnamed_cols\u001b[0m\u001b[1;33m\u001b[0m\u001b[1;33m\u001b[0m\u001b[0m\n\u001b[0;32m   2010\u001b[0m \u001b[1;33m\u001b[0m\u001b[0m\n",
      "\u001b[1;32mpandas\\_libs\\parsers.pyx\u001b[0m in \u001b[0;36mpandas._libs.parsers.TextReader.__cinit__\u001b[1;34m()\u001b[0m\n",
      "\u001b[1;32mpandas\\_libs\\parsers.pyx\u001b[0m in \u001b[0;36mpandas._libs.parsers.TextReader._setup_parser_source\u001b[1;34m()\u001b[0m\n",
      "\u001b[1;31mFileNotFoundError\u001b[0m: [Errno 2] No such file or directory: '/kaggle/input/learnplatform-covid19-impact-on-digital-learning/products_info.csv'"
     ]
    }
   ],
   "source": [
    "products_df = pd.read_csv(\"/kaggle/input/learnplatform-covid19-impact-on-digital-learning/products_info.csv\")\n",
    "districts_df = pd.read_csv(\"/kaggle/input/learnplatform-covid19-impact-on-digital-learning/districts_info.csv\")\n",
    "\n",
    "districts_df.shape, products_df.shape"
   ]
  },
  {
   "cell_type": "code",
   "execution_count": 5,
   "metadata": {
    "execution": {
     "iopub.execute_input": "2021-09-15T01:57:05.071116Z",
     "iopub.status.busy": "2021-09-15T01:57:05.070758Z",
     "iopub.status.idle": "2021-09-15T01:57:05.093339Z",
     "shell.execute_reply": "2021-09-15T01:57:05.091947Z",
     "shell.execute_reply.started": "2021-09-15T01:57:05.071075Z"
    }
   },
   "outputs": [
    {
     "data": {
      "text/html": [
       "<div>\n",
       "<style scoped>\n",
       "    .dataframe tbody tr th:only-of-type {\n",
       "        vertical-align: middle;\n",
       "    }\n",
       "\n",
       "    .dataframe tbody tr th {\n",
       "        vertical-align: top;\n",
       "    }\n",
       "\n",
       "    .dataframe thead th {\n",
       "        text-align: right;\n",
       "    }\n",
       "</style>\n",
       "<table border=\"1\" class=\"dataframe\">\n",
       "  <thead>\n",
       "    <tr style=\"text-align: right;\">\n",
       "      <th></th>\n",
       "      <th>LP ID</th>\n",
       "      <th>URL</th>\n",
       "      <th>Product Name</th>\n",
       "      <th>Provider/Company Name</th>\n",
       "      <th>Sector(s)</th>\n",
       "      <th>Primary Essential Function</th>\n",
       "    </tr>\n",
       "  </thead>\n",
       "  <tbody>\n",
       "    <tr>\n",
       "      <th>0</th>\n",
       "      <td>13117</td>\n",
       "      <td>https://www.splashmath.com</td>\n",
       "      <td>SplashLearn</td>\n",
       "      <td>StudyPad Inc.</td>\n",
       "      <td>PreK-12</td>\n",
       "      <td>LC - Digital Learning Platforms</td>\n",
       "    </tr>\n",
       "    <tr>\n",
       "      <th>1</th>\n",
       "      <td>66933</td>\n",
       "      <td>https://abcmouse.com</td>\n",
       "      <td>ABCmouse.com</td>\n",
       "      <td>Age of Learning, Inc</td>\n",
       "      <td>PreK-12</td>\n",
       "      <td>LC - Digital Learning Platforms</td>\n",
       "    </tr>\n",
       "    <tr>\n",
       "      <th>2</th>\n",
       "      <td>50479</td>\n",
       "      <td>https://www.abcya.com</td>\n",
       "      <td>ABCya!</td>\n",
       "      <td>ABCya.com, LLC</td>\n",
       "      <td>PreK-12</td>\n",
       "      <td>LC - Sites, Resources &amp; Reference - Games &amp; Si...</td>\n",
       "    </tr>\n",
       "    <tr>\n",
       "      <th>3</th>\n",
       "      <td>92993</td>\n",
       "      <td>http://www.aleks.com/</td>\n",
       "      <td>ALEKS</td>\n",
       "      <td>McGraw-Hill PreK-12</td>\n",
       "      <td>PreK-12; Higher Ed</td>\n",
       "      <td>LC - Digital Learning Platforms</td>\n",
       "    </tr>\n",
       "    <tr>\n",
       "      <th>4</th>\n",
       "      <td>73104</td>\n",
       "      <td>https://www.achieve3000.com/</td>\n",
       "      <td>Achieve3000</td>\n",
       "      <td>Achieve3000</td>\n",
       "      <td>PreK-12</td>\n",
       "      <td>LC - Digital Learning Platforms</td>\n",
       "    </tr>\n",
       "  </tbody>\n",
       "</table>\n",
       "</div>"
      ],
      "text/plain": [
       "   LP ID                           URL  Product Name  Provider/Company Name  \\\n",
       "0  13117    https://www.splashmath.com   SplashLearn          StudyPad Inc.   \n",
       "1  66933          https://abcmouse.com  ABCmouse.com  Age of Learning, Inc    \n",
       "2  50479         https://www.abcya.com        ABCya!         ABCya.com, LLC   \n",
       "3  92993         http://www.aleks.com/         ALEKS    McGraw-Hill PreK-12   \n",
       "4  73104  https://www.achieve3000.com/   Achieve3000            Achieve3000   \n",
       "\n",
       "            Sector(s)                         Primary Essential Function  \n",
       "0             PreK-12                    LC - Digital Learning Platforms  \n",
       "1             PreK-12                    LC - Digital Learning Platforms  \n",
       "2             PreK-12  LC - Sites, Resources & Reference - Games & Si...  \n",
       "3  PreK-12; Higher Ed                    LC - Digital Learning Platforms  \n",
       "4             PreK-12                    LC - Digital Learning Platforms  "
      ]
     },
     "execution_count": 5,
     "metadata": {},
     "output_type": "execute_result"
    }
   ],
   "source": [
    "products_df.head()"
   ]
  },
  {
   "cell_type": "code",
   "execution_count": 6,
   "metadata": {
    "execution": {
     "iopub.execute_input": "2021-09-15T01:57:05.095597Z",
     "iopub.status.busy": "2021-09-15T01:57:05.095333Z",
     "iopub.status.idle": "2021-09-15T01:57:05.103710Z",
     "shell.execute_reply": "2021-09-15T01:57:05.102718Z",
     "shell.execute_reply.started": "2021-09-15T01:57:05.095572Z"
    }
   },
   "outputs": [
    {
     "data": {
      "text/plain": [
       "['6345.csv',\n",
       " '9812.csv',\n",
       " '2339.csv',\n",
       " '5404.csv',\n",
       " '5150.csv',\n",
       " '1624.csv',\n",
       " '3188.csv',\n",
       " '7964.csv',\n",
       " '2165.csv',\n",
       " '9463.csv']"
      ]
     },
     "execution_count": 6,
     "metadata": {},
     "output_type": "execute_result"
    }
   ],
   "source": [
    "# Checking the file names in the engagement_data folder\n",
    "engagement_df= os.listdir(\"../input/learnplatform-covid19-impact-on-digital-learning/engagement_data\")\n",
    "engagement_df[0:10]"
   ]
  },
  {
   "cell_type": "code",
   "execution_count": 7,
   "metadata": {
    "execution": {
     "iopub.execute_input": "2021-09-15T01:57:05.105357Z",
     "iopub.status.busy": "2021-09-15T01:57:05.105089Z",
     "iopub.status.idle": "2021-09-15T01:57:05.228883Z",
     "shell.execute_reply": "2021-09-15T01:57:05.227716Z",
     "shell.execute_reply.started": "2021-09-15T01:57:05.105326Z"
    }
   },
   "outputs": [
    {
     "data": {
      "text/html": [
       "<div>\n",
       "<style scoped>\n",
       "    .dataframe tbody tr th:only-of-type {\n",
       "        vertical-align: middle;\n",
       "    }\n",
       "\n",
       "    .dataframe tbody tr th {\n",
       "        vertical-align: top;\n",
       "    }\n",
       "\n",
       "    .dataframe thead th {\n",
       "        text-align: right;\n",
       "    }\n",
       "</style>\n",
       "<table border=\"1\" class=\"dataframe\">\n",
       "  <thead>\n",
       "    <tr style=\"text-align: right;\">\n",
       "      <th></th>\n",
       "      <th>time</th>\n",
       "      <th>lp_id</th>\n",
       "      <th>pct_access</th>\n",
       "      <th>engagement_index</th>\n",
       "    </tr>\n",
       "  </thead>\n",
       "  <tbody>\n",
       "    <tr>\n",
       "      <th>0</th>\n",
       "      <td>2020-01-01</td>\n",
       "      <td>93690.0</td>\n",
       "      <td>0.00</td>\n",
       "      <td>NaN</td>\n",
       "    </tr>\n",
       "    <tr>\n",
       "      <th>1</th>\n",
       "      <td>2020-01-01</td>\n",
       "      <td>17941.0</td>\n",
       "      <td>0.03</td>\n",
       "      <td>0.90</td>\n",
       "    </tr>\n",
       "    <tr>\n",
       "      <th>2</th>\n",
       "      <td>2020-01-01</td>\n",
       "      <td>65358.0</td>\n",
       "      <td>0.03</td>\n",
       "      <td>1.20</td>\n",
       "    </tr>\n",
       "    <tr>\n",
       "      <th>3</th>\n",
       "      <td>2020-01-01</td>\n",
       "      <td>98265.0</td>\n",
       "      <td>0.57</td>\n",
       "      <td>37.79</td>\n",
       "    </tr>\n",
       "    <tr>\n",
       "      <th>4</th>\n",
       "      <td>2020-01-01</td>\n",
       "      <td>59257.0</td>\n",
       "      <td>0.00</td>\n",
       "      <td>NaN</td>\n",
       "    </tr>\n",
       "  </tbody>\n",
       "</table>\n",
       "</div>"
      ],
      "text/plain": [
       "         time    lp_id  pct_access  engagement_index\n",
       "0  2020-01-01  93690.0        0.00               NaN\n",
       "1  2020-01-01  17941.0        0.03              0.90\n",
       "2  2020-01-01  65358.0        0.03              1.20\n",
       "3  2020-01-01  98265.0        0.57             37.79\n",
       "4  2020-01-01  59257.0        0.00               NaN"
      ]
     },
     "execution_count": 7,
     "metadata": {},
     "output_type": "execute_result"
    }
   ],
   "source": [
    "# Checking the file named '1000.csv' as a sample\n",
    "engagement_1000_df = pd.read_csv(\"../input/learnplatform-covid19-impact-on-digital-learning/engagement_data/1000.csv\")\n",
    "engagement_1000_df.head()"
   ]
  },
  {
   "cell_type": "markdown",
   "metadata": {},
   "source": [
    "## 🏷Preprocessing\n",
    "* dropping 57 school districts with NaN states (57/233 ~ 25%)\n",
    "* Listing the products name list in 2020 according to the sector\n",
    "* one-hot encoding the product sectors\n",
    "* splitting up the primary essential function into main and sub category\n",
    "* Adding 'district_id' colum in the engagement_data file\n",
    "* Checking the data by date."
   ]
  },
  {
   "cell_type": "markdown",
   "metadata": {},
   "source": [
    "### 📣dropping 57 school districts with NaN states (57/233 ~ 25%)"
   ]
  },
  {
   "cell_type": "code",
   "execution_count": 8,
   "metadata": {
    "execution": {
     "iopub.execute_input": "2021-09-15T01:57:05.230760Z",
     "iopub.status.busy": "2021-09-15T01:57:05.230490Z",
     "iopub.status.idle": "2021-09-15T01:57:05.240744Z",
     "shell.execute_reply": "2021-09-15T01:57:05.239623Z",
     "shell.execute_reply.started": "2021-09-15T01:57:05.230732Z"
    }
   },
   "outputs": [
    {
     "data": {
      "text/plain": [
       "district_id                   0\n",
       "state                        57\n",
       "locale                       57\n",
       "pct_black/hispanic           57\n",
       "pct_free/reduced             85\n",
       "county_connections_ratio     71\n",
       "pp_total_raw                115\n",
       "dtype: int64"
      ]
     },
     "execution_count": 8,
     "metadata": {},
     "output_type": "execute_result"
    }
   ],
   "source": [
    "# Missing Value check of district_df \n",
    "districts_df.isna().sum()"
   ]
  },
  {
   "cell_type": "code",
   "execution_count": 9,
   "metadata": {
    "execution": {
     "iopub.execute_input": "2021-09-15T01:57:05.243063Z",
     "iopub.status.busy": "2021-09-15T01:57:05.242757Z",
     "iopub.status.idle": "2021-09-15T01:57:05.260390Z",
     "shell.execute_reply": "2021-09-15T01:57:05.259520Z",
     "shell.execute_reply.started": "2021-09-15T01:57:05.243033Z"
    }
   },
   "outputs": [
    {
     "name": "stdout",
     "output_type": "stream",
     "text": [
      "(233, 7)\n",
      "(176, 7)\n"
     ]
    }
   ],
   "source": [
    "# Original state value\n",
    "print(districts_df.shape)\n",
    "districts_df = districts_df[districts_df.state.notna()].reset_index(drop=True)\n",
    "# Deleting Nan value in the 'state' column\n",
    "print(districts_df.shape)"
   ]
  },
  {
   "cell_type": "markdown",
   "metadata": {},
   "source": [
    "### 📣Listing the products name list in 2020 according to the sector\n",
    "* I think PreK-12 & PreK-12; Higher Ed; Corporate is important."
   ]
  },
  {
   "cell_type": "code",
   "execution_count": 10,
   "metadata": {
    "execution": {
     "iopub.execute_input": "2021-09-15T01:57:05.262934Z",
     "iopub.status.busy": "2021-09-15T01:57:05.261847Z",
     "iopub.status.idle": "2021-09-15T01:57:05.273311Z",
     "shell.execute_reply": "2021-09-15T01:57:05.271977Z",
     "shell.execute_reply.started": "2021-09-15T01:57:05.262894Z"
    }
   },
   "outputs": [
    {
     "data": {
      "text/plain": [
       "array(['PreK-12', 'PreK-12; Higher Ed', 'PreK-12; Higher Ed; Corporate',\n",
       "       nan, 'Corporate', 'Higher Ed; Corporate'], dtype=object)"
      ]
     },
     "execution_count": 10,
     "metadata": {},
     "output_type": "execute_result"
    }
   ],
   "source": [
    "# Finding a kind of data in the 'Sector' column\n",
    "products_df['Sector(s)'].unique()"
   ]
  },
  {
   "cell_type": "code",
   "execution_count": 11,
   "metadata": {
    "execution": {
     "iopub.execute_input": "2021-09-15T01:57:05.277151Z",
     "iopub.status.busy": "2021-09-15T01:57:05.276840Z",
     "iopub.status.idle": "2021-09-15T01:57:05.288866Z",
     "shell.execute_reply": "2021-09-15T01:57:05.288148Z",
     "shell.execute_reply.started": "2021-09-15T01:57:05.277121Z"
    }
   },
   "outputs": [
    {
     "data": {
      "text/plain": [
       "PreK-12                          170\n",
       "PreK-12; Higher Ed; Corporate    115\n",
       "PreK-12; Higher Ed                65\n",
       "Corporate                          1\n",
       "Higher Ed; Corporate               1\n",
       "Name: Sector(s), dtype: int64"
      ]
     },
     "execution_count": 11,
     "metadata": {},
     "output_type": "execute_result"
    }
   ],
   "source": [
    "products_df['Sector(s)'].value_counts()"
   ]
  },
  {
   "cell_type": "code",
   "execution_count": 12,
   "metadata": {
    "execution": {
     "iopub.execute_input": "2021-09-15T01:57:05.291268Z",
     "iopub.status.busy": "2021-09-15T01:57:05.290058Z",
     "iopub.status.idle": "2021-09-15T01:57:05.308053Z",
     "shell.execute_reply": "2021-09-15T01:57:05.307215Z",
     "shell.execute_reply.started": "2021-09-15T01:57:05.291061Z"
    }
   },
   "outputs": [
    {
     "data": {
      "text/plain": [
       "array(['SplashLearn', 'ABCmouse.com', 'ABCya!', 'Achieve3000',\n",
       "       'Actively Learn', 'AdaptedMind', 'Amplify', 'Book Creator',\n",
       "       'BrainPOP', 'CK-12', 'ClassDojo', 'Clever', 'Code.org', 'CoolMath',\n",
       "       'Discovery Education', 'DreamBox', 'Edpuzzle',\n",
       "       'Earthquakes for Kids', 'Ellevation', 'EngageNY', 'Reflex Math',\n",
       "       'Flipgrid', 'GeoGebra', 'GoGuardian', 'GoNoodle', 'Hapara',\n",
       "       'IXL Math', 'Imagine Learning', 'Infinite Campus', 'Instructables',\n",
       "       'iStation', 'The Washington Post KidsPost', 'LearnZillion',\n",
       "       'Learning A-Z', 'Lexia Core5 Reading', 'Little Alchemy',\n",
       "       'MasteryConnect', 'Math Playground', \"NASA's Space Place\",\n",
       "       'Nearpod', 'Newsela', 'NoRedInk', 'PBS Kids', 'PBS LearningMedia',\n",
       "       'Panorama Education', 'PebbleGo', 'Prodigy', 'Quia Web', 'Quill',\n",
       "       'Quizlet', 'Raz-Kids', 'ReadWorks', 'ReadWriteThink',\n",
       "       'Reading A-Z', 'Remind', 'ST Math', 'School Loop', 'Schoolnet',\n",
       "       'Schoology', 'Scratch', 'Securly Anywhere Filter', 'Shmoop',\n",
       "       'Socrative', 'Starfall', 'StudyJams!', 'Learning for Justice',\n",
       "       'Tynker', 'Vocabulary Spelling City', 'WyzAnt', 'XtraMath',\n",
       "       'i-Ready', 'iCivics', 'myON Reader', 'Math Games (MathGames)',\n",
       "       'Formative', 'Pear Deck', 'Education.com',\n",
       "       'Leveled Literacy Intervention', 'WeAreTeachers', 'TeacherVision',\n",
       "       'TeachersPayTeachers', 'Naviance', 'Brainly', 'Sharp School',\n",
       "       'Zearn', 'CommonLit', 'Read Theory', 'Mystery Science',\n",
       "       'Edulastic', 'ASCD Professional Development Tools',\n",
       "       'SchoolMessenger', 'Renaissance Learning', 'Scholastic', 'MobyMax',\n",
       "       'Enchanted Learning', 'TumbleBooks', 'Kami', 'Think Central',\n",
       "       'Studies Weekly', 'Big Ideas Math', 'College Board', 'Teach TCI',\n",
       "       'ExploreLearning Gizmos', 'Utah Compose', 'BrainPOP Jr.',\n",
       "       'Savvas Realize', 'Discovery Education - Science TechBook',\n",
       "       'i-Ready Reading', 'i-Ready Mathematics', 'Mr. Donn', 'Nitro Type',\n",
       "       '¡Avancemos!', 'Screencastify', 'ConnectED',\n",
       "       'Epic! - Unlimited Books for Kids', 'Kids A-Z',\n",
       "       'Fountas & Pinnell', 'Hooda Math', 'Fluency Tutor', 'Conjuguemos',\n",
       "       'Raz-Plus', 'Legends of Learning', 'Wonderopolis', 'DeltaMath',\n",
       "       'Didax', 'Frontline Education', 'PoweSchool Performance Matters',\n",
       "       'Boom Cards by Boom Learning', 'EdOptions Academy', 'myLexia',\n",
       "       'Multiplication.com', 'Storyline Online', 'Tes Teach',\n",
       "       'Breakout EDU', 'Freckle by Renaissance', 'Savvas EasyBridge',\n",
       "       'Discovery Education Math Techbook', 'The Math Learning Center',\n",
       "       'Generation Genius', \"Gale Presents: Peterson's Test Prep\",\n",
       "       'Ducksters', 'Kiddle', 'Gimkit', 'Interland', 'SafeSchools',\n",
       "       'Seesaw : The Learning Journal', 'AP Central', 'Vooks',\n",
       "       'Storyworks', 'Pear Deck for Google Slides', 'Turtle Diary',\n",
       "       'RoomRecess.com', 'College Board AP Classroom', 'CoolMath Games',\n",
       "       'Funbrain', 'Bitmoji', 'PhET Interactive Science Simulations',\n",
       "       'Live Science', 'ExploreLearning', 'IXL', 'Lakeshore',\n",
       "       'Math Worksheets 4 Kids', 'QuaverMusic', 'Toy Theater',\n",
       "       'Whiteboard.fi', 'ViewPure', 'Blooket', 'School Specialty',\n",
       "       'Math is Fun', 'Cult of Pedagogy'], dtype=object)"
      ]
     },
     "execution_count": 12,
     "metadata": {},
     "output_type": "execute_result"
    }
   ],
   "source": [
    "# PreK-12\n",
    "prek12_df = products_df[products_df['Sector(s)'].isin(['PreK-12'])]\n",
    "\n",
    "prek12_df['Product Name'].unique()"
   ]
  },
  {
   "cell_type": "code",
   "execution_count": 13,
   "metadata": {
    "execution": {
     "iopub.execute_input": "2021-09-15T01:57:05.309776Z",
     "iopub.status.busy": "2021-09-15T01:57:05.309355Z",
     "iopub.status.idle": "2021-09-15T01:57:05.329086Z",
     "shell.execute_reply": "2021-09-15T01:57:05.328003Z",
     "shell.execute_reply.started": "2021-09-15T01:57:05.309746Z"
    }
   },
   "outputs": [
    {
     "data": {
      "text/plain": [
       "array(['Audible', 'CNN Student News', 'Canvas',\n",
       "       'Dictionary - Merriam-Webster', 'Dictionary.com', 'Dropbox',\n",
       "       'Duolingo', 'Edgenuity', 'Encyclopedia Britannica', 'Facebook',\n",
       "       'Google Books', 'Google Chrome', 'Google Docs', 'Google Drive',\n",
       "       'Google Earth', 'Google Forms', 'Google Hangouts', 'Google Sites',\n",
       "       'Google Translate', 'Google Voice', 'Google Currents', 'Grammarly',\n",
       "       'Internet Archive', 'Issuu', 'Kahoot!', 'Library of Congress',\n",
       "       'LinkedIn', 'Padlet', 'Pixlr', 'PowerSchool', 'Prezi', 'Quora',\n",
       "       'SoundCloud', 'Spotify: Music and podcasts', 'Thesaurus.com',\n",
       "       'ThingLink', 'TypingClub', 'Vimeo', 'WeVideo for Schools', 'WebEx',\n",
       "       'Wikimedia Commons', 'Wikipedia', 'Wix', 'WordPress', 'YouTube',\n",
       "       'Calculator.com', 'MAPP', 'Google Classroom', 'SurveyMonkey',\n",
       "       'Box', 'Wistia', 'Autodesk', 'ContentKeeper', 'Lumen Learning',\n",
       "       'Zoom', 'Google Drawings', 'Quizizz', 'Calendly', 'Canva',\n",
       "       'Screencast-O-Matic', 'Wiley', 'Adobe Spark', 'Zendesk',\n",
       "       'GoToMeeting', 'Microsoft XNA Game Studio', 'HP',\n",
       "       'Google Workspace', 'JSTOR', 'Typing.com', 'Google Sheets',\n",
       "       'WordReference.com', 'iHeartRadio', 'MIT App Inventor',\n",
       "       'Google Expeditions', 'Tinkercad', 'Blindside Networks',\n",
       "       'nytimes.com', 'Soundtrap', 'Instagram', 'Microsoft Outlook',\n",
       "       'Sched', 'ABC News', 'Jamboard', 'PBS', 'Adobe Character Animator',\n",
       "       'Netflix', 'Instructure',\n",
       "       'Loom - Video Recorder: Screen, Webcam and Mic',\n",
       "       'Microsoft OneDrive', 'Eventbrite', 'MarketWatch',\n",
       "       'Google Calendar', 'Doodle', 'GitHub', 'Microsoft Forms',\n",
       "       'Lumin PDF', 'Chrome Web Store', 'Wakelet', 'remove.bg',\n",
       "       'SignUpGenius', 'iStock', 'SpanishDict',\n",
       "       'Adobe Creative Cloud for Higher Ed', 'DocuSign', 'Google Groups',\n",
       "       'GCN Training', 'Evite', 'Meet', 'SlidesCarnival', 'Time',\n",
       "       'ZOOM Cloud Meetings', 'Investopedia', 'Canvas for Chrome',\n",
       "       'DocHub', 'Google Slides'], dtype=object)"
      ]
     },
     "execution_count": 13,
     "metadata": {},
     "output_type": "execute_result"
    }
   ],
   "source": [
    "# PreK-12; Higher Ed; Corporate\n",
    "prek12_higher_cor_df = products_df[products_df['Sector(s)'].isin(['PreK-12; Higher Ed; Corporate'])]\n",
    "prek12_higher_cor_df['Product Name'].unique()"
   ]
  },
  {
   "cell_type": "markdown",
   "metadata": {},
   "source": [
    "### 📣one-hot encoding the product sectors"
   ]
  },
  {
   "cell_type": "code",
   "execution_count": 14,
   "metadata": {
    "execution": {
     "iopub.execute_input": "2021-09-15T01:57:05.331005Z",
     "iopub.status.busy": "2021-09-15T01:57:05.330670Z",
     "iopub.status.idle": "2021-09-15T01:57:05.352749Z",
     "shell.execute_reply": "2021-09-15T01:57:05.351752Z",
     "shell.execute_reply.started": "2021-09-15T01:57:05.330974Z"
    }
   },
   "outputs": [
    {
     "data": {
      "text/html": [
       "<div>\n",
       "<style scoped>\n",
       "    .dataframe tbody tr th:only-of-type {\n",
       "        vertical-align: middle;\n",
       "    }\n",
       "\n",
       "    .dataframe tbody tr th {\n",
       "        vertical-align: top;\n",
       "    }\n",
       "\n",
       "    .dataframe thead th {\n",
       "        text-align: right;\n",
       "    }\n",
       "</style>\n",
       "<table border=\"1\" class=\"dataframe\">\n",
       "  <thead>\n",
       "    <tr style=\"text-align: right;\">\n",
       "      <th></th>\n",
       "      <th>Corporate</th>\n",
       "      <th>Higher Ed</th>\n",
       "      <th>PreK-12</th>\n",
       "    </tr>\n",
       "  </thead>\n",
       "  <tbody>\n",
       "    <tr>\n",
       "      <th>0</th>\n",
       "      <td>0</td>\n",
       "      <td>0</td>\n",
       "      <td>1</td>\n",
       "    </tr>\n",
       "    <tr>\n",
       "      <th>1</th>\n",
       "      <td>0</td>\n",
       "      <td>0</td>\n",
       "      <td>1</td>\n",
       "    </tr>\n",
       "    <tr>\n",
       "      <th>2</th>\n",
       "      <td>0</td>\n",
       "      <td>0</td>\n",
       "      <td>1</td>\n",
       "    </tr>\n",
       "    <tr>\n",
       "      <th>3</th>\n",
       "      <td>0</td>\n",
       "      <td>1</td>\n",
       "      <td>1</td>\n",
       "    </tr>\n",
       "    <tr>\n",
       "      <th>4</th>\n",
       "      <td>0</td>\n",
       "      <td>0</td>\n",
       "      <td>1</td>\n",
       "    </tr>\n",
       "  </tbody>\n",
       "</table>\n",
       "</div>"
      ],
      "text/plain": [
       "   Corporate  Higher Ed  PreK-12\n",
       "0          0          0        1\n",
       "1          0          0        1\n",
       "2          0          0        1\n",
       "3          0          1        1\n",
       "4          0          0        1"
      ]
     },
     "execution_count": 14,
     "metadata": {},
     "output_type": "execute_result"
    }
   ],
   "source": [
    "temp_sectors = products_df['Sector(s)'].str.get_dummies(sep=\"; \") \n",
    "temp_sectors.head()"
   ]
  },
  {
   "cell_type": "code",
   "execution_count": 15,
   "metadata": {
    "execution": {
     "iopub.execute_input": "2021-09-15T01:57:05.355003Z",
     "iopub.status.busy": "2021-09-15T01:57:05.354670Z",
     "iopub.status.idle": "2021-09-15T01:57:05.364421Z",
     "shell.execute_reply": "2021-09-15T01:57:05.363676Z",
     "shell.execute_reply.started": "2021-09-15T01:57:05.354963Z"
    }
   },
   "outputs": [],
   "source": [
    "temp_sectors.columns = [f\"sector_{re.sub(' ', '', c)}\" for c in temp_sectors.columns]  "
   ]
  },
  {
   "cell_type": "code",
   "execution_count": 16,
   "metadata": {
    "execution": {
     "iopub.execute_input": "2021-09-15T01:57:05.366684Z",
     "iopub.status.busy": "2021-09-15T01:57:05.365990Z",
     "iopub.status.idle": "2021-09-15T01:57:05.379456Z",
     "shell.execute_reply": "2021-09-15T01:57:05.378408Z",
     "shell.execute_reply.started": "2021-09-15T01:57:05.366624Z"
    }
   },
   "outputs": [
    {
     "data": {
      "text/plain": [
       "Index(['sector_Corporate', 'sector_HigherEd', 'sector_PreK-12'], dtype='object')"
      ]
     },
     "execution_count": 16,
     "metadata": {},
     "output_type": "execute_result"
    }
   ],
   "source": [
    "temp_sectors.columns"
   ]
  },
  {
   "cell_type": "code",
   "execution_count": 17,
   "metadata": {
    "execution": {
     "iopub.execute_input": "2021-09-15T01:57:05.381725Z",
     "iopub.status.busy": "2021-09-15T01:57:05.381122Z",
     "iopub.status.idle": "2021-09-15T01:57:05.407919Z",
     "shell.execute_reply": "2021-09-15T01:57:05.406417Z",
     "shell.execute_reply.started": "2021-09-15T01:57:05.381684Z"
    }
   },
   "outputs": [
    {
     "data": {
      "text/html": [
       "<div>\n",
       "<style scoped>\n",
       "    .dataframe tbody tr th:only-of-type {\n",
       "        vertical-align: middle;\n",
       "    }\n",
       "\n",
       "    .dataframe tbody tr th {\n",
       "        vertical-align: top;\n",
       "    }\n",
       "\n",
       "    .dataframe thead th {\n",
       "        text-align: right;\n",
       "    }\n",
       "</style>\n",
       "<table border=\"1\" class=\"dataframe\">\n",
       "  <thead>\n",
       "    <tr style=\"text-align: right;\">\n",
       "      <th></th>\n",
       "      <th>LP ID</th>\n",
       "      <th>URL</th>\n",
       "      <th>Product Name</th>\n",
       "      <th>Provider/Company Name</th>\n",
       "      <th>Sector(s)</th>\n",
       "      <th>Primary Essential Function</th>\n",
       "      <th>sector_Corporate</th>\n",
       "      <th>sector_HigherEd</th>\n",
       "      <th>sector_PreK-12</th>\n",
       "    </tr>\n",
       "  </thead>\n",
       "  <tbody>\n",
       "    <tr>\n",
       "      <th>0</th>\n",
       "      <td>13117</td>\n",
       "      <td>https://www.splashmath.com</td>\n",
       "      <td>SplashLearn</td>\n",
       "      <td>StudyPad Inc.</td>\n",
       "      <td>PreK-12</td>\n",
       "      <td>LC - Digital Learning Platforms</td>\n",
       "      <td>0</td>\n",
       "      <td>0</td>\n",
       "      <td>1</td>\n",
       "    </tr>\n",
       "    <tr>\n",
       "      <th>1</th>\n",
       "      <td>66933</td>\n",
       "      <td>https://abcmouse.com</td>\n",
       "      <td>ABCmouse.com</td>\n",
       "      <td>Age of Learning, Inc</td>\n",
       "      <td>PreK-12</td>\n",
       "      <td>LC - Digital Learning Platforms</td>\n",
       "      <td>0</td>\n",
       "      <td>0</td>\n",
       "      <td>1</td>\n",
       "    </tr>\n",
       "    <tr>\n",
       "      <th>2</th>\n",
       "      <td>50479</td>\n",
       "      <td>https://www.abcya.com</td>\n",
       "      <td>ABCya!</td>\n",
       "      <td>ABCya.com, LLC</td>\n",
       "      <td>PreK-12</td>\n",
       "      <td>LC - Sites, Resources &amp; Reference - Games &amp; Si...</td>\n",
       "      <td>0</td>\n",
       "      <td>0</td>\n",
       "      <td>1</td>\n",
       "    </tr>\n",
       "    <tr>\n",
       "      <th>3</th>\n",
       "      <td>92993</td>\n",
       "      <td>http://www.aleks.com/</td>\n",
       "      <td>ALEKS</td>\n",
       "      <td>McGraw-Hill PreK-12</td>\n",
       "      <td>PreK-12; Higher Ed</td>\n",
       "      <td>LC - Digital Learning Platforms</td>\n",
       "      <td>0</td>\n",
       "      <td>1</td>\n",
       "      <td>1</td>\n",
       "    </tr>\n",
       "    <tr>\n",
       "      <th>4</th>\n",
       "      <td>73104</td>\n",
       "      <td>https://www.achieve3000.com/</td>\n",
       "      <td>Achieve3000</td>\n",
       "      <td>Achieve3000</td>\n",
       "      <td>PreK-12</td>\n",
       "      <td>LC - Digital Learning Platforms</td>\n",
       "      <td>0</td>\n",
       "      <td>0</td>\n",
       "      <td>1</td>\n",
       "    </tr>\n",
       "  </tbody>\n",
       "</table>\n",
       "</div>"
      ],
      "text/plain": [
       "   LP ID                           URL  Product Name  Provider/Company Name  \\\n",
       "0  13117    https://www.splashmath.com   SplashLearn          StudyPad Inc.   \n",
       "1  66933          https://abcmouse.com  ABCmouse.com  Age of Learning, Inc    \n",
       "2  50479         https://www.abcya.com        ABCya!         ABCya.com, LLC   \n",
       "3  92993         http://www.aleks.com/         ALEKS    McGraw-Hill PreK-12   \n",
       "4  73104  https://www.achieve3000.com/   Achieve3000            Achieve3000   \n",
       "\n",
       "            Sector(s)                         Primary Essential Function  \\\n",
       "0             PreK-12                    LC - Digital Learning Platforms   \n",
       "1             PreK-12                    LC - Digital Learning Platforms   \n",
       "2             PreK-12  LC - Sites, Resources & Reference - Games & Si...   \n",
       "3  PreK-12; Higher Ed                    LC - Digital Learning Platforms   \n",
       "4             PreK-12                    LC - Digital Learning Platforms   \n",
       "\n",
       "   sector_Corporate  sector_HigherEd  sector_PreK-12  \n",
       "0                 0                0               1  \n",
       "1                 0                0               1  \n",
       "2                 0                0               1  \n",
       "3                 0                1               1  \n",
       "4                 0                0               1  "
      ]
     },
     "execution_count": 17,
     "metadata": {},
     "output_type": "execute_result"
    }
   ],
   "source": [
    "products_df = products_df.join(temp_sectors)\n",
    "products_df.head()"
   ]
  },
  {
   "cell_type": "code",
   "execution_count": 18,
   "metadata": {
    "execution": {
     "iopub.execute_input": "2021-09-15T01:57:05.410115Z",
     "iopub.status.busy": "2021-09-15T01:57:05.409796Z",
     "iopub.status.idle": "2021-09-15T01:57:05.421683Z",
     "shell.execute_reply": "2021-09-15T01:57:05.420643Z",
     "shell.execute_reply.started": "2021-09-15T01:57:05.410077Z"
    }
   },
   "outputs": [
    {
     "name": "stdout",
     "output_type": "stream",
     "text": [
      "Index(['LP ID', 'URL', 'Product Name', 'Provider/Company Name',\n",
      "       'Primary Essential Function', 'sector_Corporate', 'sector_HigherEd',\n",
      "       'sector_PreK-12'],\n",
      "      dtype='object')\n"
     ]
    }
   ],
   "source": [
    "products_df.drop(\"Sector(s)\", axis=1, inplace=True)\n",
    "print(products_df.columns)\n",
    "del temp_sectors"
   ]
  },
  {
   "cell_type": "markdown",
   "metadata": {},
   "source": [
    "### 📣Dividing Primary Essential Function as main/sub function "
   ]
  },
  {
   "cell_type": "code",
   "execution_count": 19,
   "metadata": {
    "execution": {
     "iopub.execute_input": "2021-09-15T01:57:05.423476Z",
     "iopub.status.busy": "2021-09-15T01:57:05.423102Z",
     "iopub.status.idle": "2021-09-15T01:57:05.437189Z",
     "shell.execute_reply": "2021-09-15T01:57:05.436185Z",
     "shell.execute_reply.started": "2021-09-15T01:57:05.423442Z"
    }
   },
   "outputs": [],
   "source": [
    "products_df['pri_function_main'] = products_df['Primary Essential Function'].apply(lambda x: x.split(' - ')[0] if x == x else x)\n",
    "products_df['pri_function_sub'] = products_df['Primary Essential Function'].apply(lambda x: x.split(' - ')[1] if x == x else x)"
   ]
  },
  {
   "cell_type": "code",
   "execution_count": 20,
   "metadata": {
    "execution": {
     "iopub.execute_input": "2021-09-15T01:57:05.439479Z",
     "iopub.status.busy": "2021-09-15T01:57:05.438607Z",
     "iopub.status.idle": "2021-09-15T01:57:05.461020Z",
     "shell.execute_reply": "2021-09-15T01:57:05.459995Z",
     "shell.execute_reply.started": "2021-09-15T01:57:05.439443Z"
    }
   },
   "outputs": [
    {
     "data": {
      "text/html": [
       "<div>\n",
       "<style scoped>\n",
       "    .dataframe tbody tr th:only-of-type {\n",
       "        vertical-align: middle;\n",
       "    }\n",
       "\n",
       "    .dataframe tbody tr th {\n",
       "        vertical-align: top;\n",
       "    }\n",
       "\n",
       "    .dataframe thead th {\n",
       "        text-align: right;\n",
       "    }\n",
       "</style>\n",
       "<table border=\"1\" class=\"dataframe\">\n",
       "  <thead>\n",
       "    <tr style=\"text-align: right;\">\n",
       "      <th></th>\n",
       "      <th>LP ID</th>\n",
       "      <th>URL</th>\n",
       "      <th>Product Name</th>\n",
       "      <th>Provider/Company Name</th>\n",
       "      <th>Primary Essential Function</th>\n",
       "      <th>sector_Corporate</th>\n",
       "      <th>sector_HigherEd</th>\n",
       "      <th>sector_PreK-12</th>\n",
       "      <th>pri_function_main</th>\n",
       "      <th>pri_function_sub</th>\n",
       "    </tr>\n",
       "  </thead>\n",
       "  <tbody>\n",
       "    <tr>\n",
       "      <th>0</th>\n",
       "      <td>13117</td>\n",
       "      <td>https://www.splashmath.com</td>\n",
       "      <td>SplashLearn</td>\n",
       "      <td>StudyPad Inc.</td>\n",
       "      <td>LC - Digital Learning Platforms</td>\n",
       "      <td>0</td>\n",
       "      <td>0</td>\n",
       "      <td>1</td>\n",
       "      <td>LC</td>\n",
       "      <td>Digital Learning Platforms</td>\n",
       "    </tr>\n",
       "    <tr>\n",
       "      <th>1</th>\n",
       "      <td>66933</td>\n",
       "      <td>https://abcmouse.com</td>\n",
       "      <td>ABCmouse.com</td>\n",
       "      <td>Age of Learning, Inc</td>\n",
       "      <td>LC - Digital Learning Platforms</td>\n",
       "      <td>0</td>\n",
       "      <td>0</td>\n",
       "      <td>1</td>\n",
       "      <td>LC</td>\n",
       "      <td>Digital Learning Platforms</td>\n",
       "    </tr>\n",
       "    <tr>\n",
       "      <th>2</th>\n",
       "      <td>50479</td>\n",
       "      <td>https://www.abcya.com</td>\n",
       "      <td>ABCya!</td>\n",
       "      <td>ABCya.com, LLC</td>\n",
       "      <td>LC - Sites, Resources &amp; Reference - Games &amp; Si...</td>\n",
       "      <td>0</td>\n",
       "      <td>0</td>\n",
       "      <td>1</td>\n",
       "      <td>LC</td>\n",
       "      <td>Sites, Resources &amp; Reference</td>\n",
       "    </tr>\n",
       "    <tr>\n",
       "      <th>3</th>\n",
       "      <td>92993</td>\n",
       "      <td>http://www.aleks.com/</td>\n",
       "      <td>ALEKS</td>\n",
       "      <td>McGraw-Hill PreK-12</td>\n",
       "      <td>LC - Digital Learning Platforms</td>\n",
       "      <td>0</td>\n",
       "      <td>1</td>\n",
       "      <td>1</td>\n",
       "      <td>LC</td>\n",
       "      <td>Digital Learning Platforms</td>\n",
       "    </tr>\n",
       "    <tr>\n",
       "      <th>4</th>\n",
       "      <td>73104</td>\n",
       "      <td>https://www.achieve3000.com/</td>\n",
       "      <td>Achieve3000</td>\n",
       "      <td>Achieve3000</td>\n",
       "      <td>LC - Digital Learning Platforms</td>\n",
       "      <td>0</td>\n",
       "      <td>0</td>\n",
       "      <td>1</td>\n",
       "      <td>LC</td>\n",
       "      <td>Digital Learning Platforms</td>\n",
       "    </tr>\n",
       "  </tbody>\n",
       "</table>\n",
       "</div>"
      ],
      "text/plain": [
       "   LP ID                           URL  Product Name  Provider/Company Name  \\\n",
       "0  13117    https://www.splashmath.com   SplashLearn          StudyPad Inc.   \n",
       "1  66933          https://abcmouse.com  ABCmouse.com  Age of Learning, Inc    \n",
       "2  50479         https://www.abcya.com        ABCya!         ABCya.com, LLC   \n",
       "3  92993         http://www.aleks.com/         ALEKS    McGraw-Hill PreK-12   \n",
       "4  73104  https://www.achieve3000.com/   Achieve3000            Achieve3000   \n",
       "\n",
       "                          Primary Essential Function  sector_Corporate  \\\n",
       "0                    LC - Digital Learning Platforms                 0   \n",
       "1                    LC - Digital Learning Platforms                 0   \n",
       "2  LC - Sites, Resources & Reference - Games & Si...                 0   \n",
       "3                    LC - Digital Learning Platforms                 0   \n",
       "4                    LC - Digital Learning Platforms                 0   \n",
       "\n",
       "   sector_HigherEd  sector_PreK-12 pri_function_main  \\\n",
       "0                0               1                LC   \n",
       "1                0               1                LC   \n",
       "2                0               1                LC   \n",
       "3                1               1                LC   \n",
       "4                0               1                LC   \n",
       "\n",
       "               pri_function_sub  \n",
       "0    Digital Learning Platforms  \n",
       "1    Digital Learning Platforms  \n",
       "2  Sites, Resources & Reference  \n",
       "3    Digital Learning Platforms  \n",
       "4    Digital Learning Platforms  "
      ]
     },
     "execution_count": 20,
     "metadata": {},
     "output_type": "execute_result"
    }
   ],
   "source": [
    "products_df.head()"
   ]
  },
  {
   "cell_type": "code",
   "execution_count": 21,
   "metadata": {
    "execution": {
     "iopub.execute_input": "2021-09-15T01:57:05.463072Z",
     "iopub.status.busy": "2021-09-15T01:57:05.462807Z",
     "iopub.status.idle": "2021-09-15T01:57:05.474372Z",
     "shell.execute_reply": "2021-09-15T01:57:05.473160Z",
     "shell.execute_reply.started": "2021-09-15T01:57:05.463040Z"
    }
   },
   "outputs": [],
   "source": [
    "# Synchronize similar values\n",
    "products_df['pri_function_sub'] = products_df['pri_function_sub'].replace(\n",
    "          {'Sites, Resources & References' : 'Sites, Resources & Reference'})\n",
    "products_df.drop(\"Primary Essential Function\", axis=1, inplace=True)"
   ]
  },
  {
   "cell_type": "code",
   "execution_count": 22,
   "metadata": {
    "execution": {
     "iopub.execute_input": "2021-09-15T01:57:05.475926Z",
     "iopub.status.busy": "2021-09-15T01:57:05.475683Z",
     "iopub.status.idle": "2021-09-15T01:57:05.485190Z",
     "shell.execute_reply": "2021-09-15T01:57:05.484171Z",
     "shell.execute_reply.started": "2021-09-15T01:57:05.475898Z"
    }
   },
   "outputs": [
    {
     "data": {
      "text/plain": [
       "array(['Digital Learning Platforms', 'Sites, Resources & Reference',\n",
       "       'Courseware & Textbooks', 'Study Tools', 'Teacher Resources',\n",
       "       'Learning Management Systems (LMS)', 'Content Creation & Curation',\n",
       "       'Online Course Providers & Technical Skills Development',\n",
       "       'Classroom Engagement & Instruction', 'School Management Software',\n",
       "       'Other', 'Data, Analytics & Reporting', 'Virtual Classroom', nan,\n",
       "       'Career Planning & Job Search', 'Human Resources',\n",
       "       'Large-Scale & Standardized Testing',\n",
       "       'Admissions, Enrollment & Rostering',\n",
       "       'Environmental, Health & Safety (EHS) Compliance'], dtype=object)"
      ]
     },
     "execution_count": 22,
     "metadata": {},
     "output_type": "execute_result"
    }
   ],
   "source": [
    "products_df['pri_function_sub'].unique()"
   ]
  },
  {
   "cell_type": "code",
   "execution_count": 23,
   "metadata": {
    "execution": {
     "iopub.execute_input": "2021-09-15T01:57:05.487460Z",
     "iopub.status.busy": "2021-09-15T01:57:05.486542Z",
     "iopub.status.idle": "2021-09-15T01:57:05.509132Z",
     "shell.execute_reply": "2021-09-15T01:57:05.507817Z",
     "shell.execute_reply.started": "2021-09-15T01:57:05.487423Z"
    }
   },
   "outputs": [
    {
     "data": {
      "text/html": [
       "<div>\n",
       "<style scoped>\n",
       "    .dataframe tbody tr th:only-of-type {\n",
       "        vertical-align: middle;\n",
       "    }\n",
       "\n",
       "    .dataframe tbody tr th {\n",
       "        vertical-align: top;\n",
       "    }\n",
       "\n",
       "    .dataframe thead th {\n",
       "        text-align: right;\n",
       "    }\n",
       "</style>\n",
       "<table border=\"1\" class=\"dataframe\">\n",
       "  <thead>\n",
       "    <tr style=\"text-align: right;\">\n",
       "      <th></th>\n",
       "      <th>sector_Corporate</th>\n",
       "      <th>sector_HigherEd</th>\n",
       "      <th>sector_PreK-12</th>\n",
       "      <th>pri_function_main</th>\n",
       "      <th>pri_function_sub</th>\n",
       "    </tr>\n",
       "  </thead>\n",
       "  <tbody>\n",
       "    <tr>\n",
       "      <th>0</th>\n",
       "      <td>0</td>\n",
       "      <td>0</td>\n",
       "      <td>1</td>\n",
       "      <td>LC</td>\n",
       "      <td>Digital Learning Platforms</td>\n",
       "    </tr>\n",
       "    <tr>\n",
       "      <th>1</th>\n",
       "      <td>0</td>\n",
       "      <td>0</td>\n",
       "      <td>1</td>\n",
       "      <td>LC</td>\n",
       "      <td>Digital Learning Platforms</td>\n",
       "    </tr>\n",
       "    <tr>\n",
       "      <th>2</th>\n",
       "      <td>0</td>\n",
       "      <td>0</td>\n",
       "      <td>1</td>\n",
       "      <td>LC</td>\n",
       "      <td>Sites, Resources &amp; Reference</td>\n",
       "    </tr>\n",
       "    <tr>\n",
       "      <th>3</th>\n",
       "      <td>0</td>\n",
       "      <td>1</td>\n",
       "      <td>1</td>\n",
       "      <td>LC</td>\n",
       "      <td>Digital Learning Platforms</td>\n",
       "    </tr>\n",
       "    <tr>\n",
       "      <th>4</th>\n",
       "      <td>0</td>\n",
       "      <td>0</td>\n",
       "      <td>1</td>\n",
       "      <td>LC</td>\n",
       "      <td>Digital Learning Platforms</td>\n",
       "    </tr>\n",
       "    <tr>\n",
       "      <th>...</th>\n",
       "      <td>...</td>\n",
       "      <td>...</td>\n",
       "      <td>...</td>\n",
       "      <td>...</td>\n",
       "      <td>...</td>\n",
       "    </tr>\n",
       "    <tr>\n",
       "      <th>367</th>\n",
       "      <td>1</td>\n",
       "      <td>1</td>\n",
       "      <td>1</td>\n",
       "      <td>SDO</td>\n",
       "      <td>Other</td>\n",
       "    </tr>\n",
       "    <tr>\n",
       "      <th>368</th>\n",
       "      <td>1</td>\n",
       "      <td>1</td>\n",
       "      <td>1</td>\n",
       "      <td>LC</td>\n",
       "      <td>Content Creation &amp; Curation</td>\n",
       "    </tr>\n",
       "    <tr>\n",
       "      <th>369</th>\n",
       "      <td>0</td>\n",
       "      <td>1</td>\n",
       "      <td>1</td>\n",
       "      <td>LC</td>\n",
       "      <td>Sites, Resources &amp; Reference</td>\n",
       "    </tr>\n",
       "    <tr>\n",
       "      <th>370</th>\n",
       "      <td>0</td>\n",
       "      <td>0</td>\n",
       "      <td>0</td>\n",
       "      <td>NaN</td>\n",
       "      <td>NaN</td>\n",
       "    </tr>\n",
       "    <tr>\n",
       "      <th>371</th>\n",
       "      <td>0</td>\n",
       "      <td>0</td>\n",
       "      <td>0</td>\n",
       "      <td>NaN</td>\n",
       "      <td>NaN</td>\n",
       "    </tr>\n",
       "  </tbody>\n",
       "</table>\n",
       "<p>372 rows × 5 columns</p>\n",
       "</div>"
      ],
      "text/plain": [
       "     sector_Corporate  sector_HigherEd  sector_PreK-12 pri_function_main  \\\n",
       "0                   0                0               1                LC   \n",
       "1                   0                0               1                LC   \n",
       "2                   0                0               1                LC   \n",
       "3                   0                1               1                LC   \n",
       "4                   0                0               1                LC   \n",
       "..                ...              ...             ...               ...   \n",
       "367                 1                1               1               SDO   \n",
       "368                 1                1               1                LC   \n",
       "369                 0                1               1                LC   \n",
       "370                 0                0               0               NaN   \n",
       "371                 0                0               0               NaN   \n",
       "\n",
       "                 pri_function_sub  \n",
       "0      Digital Learning Platforms  \n",
       "1      Digital Learning Platforms  \n",
       "2    Sites, Resources & Reference  \n",
       "3      Digital Learning Platforms  \n",
       "4      Digital Learning Platforms  \n",
       "..                            ...  \n",
       "367                         Other  \n",
       "368   Content Creation & Curation  \n",
       "369  Sites, Resources & Reference  \n",
       "370                           NaN  \n",
       "371                           NaN  \n",
       "\n",
       "[372 rows x 5 columns]"
      ]
     },
     "execution_count": 23,
     "metadata": {},
     "output_type": "execute_result"
    }
   ],
   "source": [
    "products_df[ ['sector_Corporate', 'sector_HigherEd', 'sector_PreK-12',\n",
    "       'pri_function_main', 'pri_function_sub'] ]"
   ]
  },
  {
   "cell_type": "markdown",
   "metadata": {},
   "source": [
    "### 📣engagement_data의 데이터 파일에 district_id를 추가"
   ]
  },
  {
   "cell_type": "code",
   "execution_count": 24,
   "metadata": {
    "execution": {
     "iopub.execute_input": "2021-09-15T01:57:05.510677Z",
     "iopub.status.busy": "2021-09-15T01:57:05.510420Z",
     "iopub.status.idle": "2021-09-15T01:57:05.524025Z",
     "shell.execute_reply": "2021-09-15T01:57:05.522992Z",
     "shell.execute_reply.started": "2021-09-15T01:57:05.510650Z"
    }
   },
   "outputs": [
    {
     "data": {
      "text/plain": [
       "array([8815, 4921, 5987, 3710, 7177, 9812, 6584, 1044, 7457, 1904, 5527,\n",
       "       2257, 7614, 4808, 1877, 2779, 8328, 8539, 9043, 1549, 4051, 7305,\n",
       "       2167, 6577, 4602, 4936, 4520, 7785, 3668, 7970, 5231, 9589, 8433,\n",
       "       2165, 2074, 1142, 7964, 8784, 7798, 3550, 1444, 2601, 7660, 9899,\n",
       "       1742, 4629, 4569, 4949, 6250, 8425, 6418, 1558, 3222, 1772, 5604,\n",
       "       9007, 8884, 1712, 3412, 2940, 5042, 3692, 4683, 2567, 2321, 7767,\n",
       "       7308, 5006, 9140, 8902, 5890, 4031, 6640, 6194, 3864, 2598, 5600,\n",
       "       2991, 2106, 6919, 7980, 2060, 7387, 1000, 5150, 2956, 9553, 1536,\n",
       "       8937, 1791, 4516, 2872, 2439, 8520, 2130, 3772, 4775, 9778, 5524,\n",
       "       1470, 5802, 1324, 3160, 2393, 9230, 3248, 8556, 5627, 4550, 7752,\n",
       "       2729, 4348, 3986, 9537, 1052, 6762, 3670, 1204, 2870, 3558, 1450,\n",
       "       3080, 2517, 1570, 4668, 6055, 2285, 2172, 7741, 6998, 3322, 4083,\n",
       "       3936, 7675, 4744, 9478, 7541, 1270, 8076, 6345, 4183, 9357, 5510,\n",
       "       6104, 3228, 5422, 8127, 3640, 8256, 1857, 5479, 3314, 8748, 4373,\n",
       "       7342, 6046, 7723, 5934, 9927, 2441, 6144, 4314, 9536, 6512, 3732,\n",
       "       2201, 9303, 3266, 1965, 5882, 1705, 9515, 8103, 4929, 7975, 7164])"
      ]
     },
     "execution_count": 24,
     "metadata": {},
     "output_type": "execute_result"
    }
   ],
   "source": [
    "districts_df.district_id.unique()"
   ]
  },
  {
   "cell_type": "code",
   "execution_count": 25,
   "metadata": {
    "execution": {
     "iopub.execute_input": "2021-09-15T01:57:05.525979Z",
     "iopub.status.busy": "2021-09-15T01:57:05.525267Z",
     "iopub.status.idle": "2021-09-15T01:57:21.189724Z",
     "shell.execute_reply": "2021-09-15T01:57:21.188862Z",
     "shell.execute_reply.started": "2021-09-15T01:57:05.525942Z"
    }
   },
   "outputs": [
    {
     "data": {
      "text/plain": [
       "176"
      ]
     },
     "execution_count": 25,
     "metadata": {},
     "output_type": "execute_result"
    }
   ],
   "source": [
    "PATH = \"../input/learnplatform-covid19-impact-on-digital-learning/engagement_data\"\n",
    "\n",
    "temp = []\n",
    "\n",
    "for district in districts_df.district_id.unique():\n",
    "    df = pd.read_csv(f'{PATH}/{district}.csv', index_col=None, header=0)\n",
    "    df['district_id'] = district\n",
    "    temp.append(df)\n",
    "\n",
    "len(temp)"
   ]
  },
  {
   "cell_type": "code",
   "execution_count": 26,
   "metadata": {
    "execution": {
     "iopub.execute_input": "2021-09-15T01:57:21.191388Z",
     "iopub.status.busy": "2021-09-15T01:57:21.191116Z",
     "iopub.status.idle": "2021-09-15T01:57:22.957816Z",
     "shell.execute_reply": "2021-09-15T01:57:22.956957Z",
     "shell.execute_reply.started": "2021-09-15T01:57:21.191356Z"
    }
   },
   "outputs": [
    {
     "data": {
      "text/html": [
       "<div>\n",
       "<style scoped>\n",
       "    .dataframe tbody tr th:only-of-type {\n",
       "        vertical-align: middle;\n",
       "    }\n",
       "\n",
       "    .dataframe tbody tr th {\n",
       "        vertical-align: top;\n",
       "    }\n",
       "\n",
       "    .dataframe thead th {\n",
       "        text-align: right;\n",
       "    }\n",
       "</style>\n",
       "<table border=\"1\" class=\"dataframe\">\n",
       "  <thead>\n",
       "    <tr style=\"text-align: right;\">\n",
       "      <th></th>\n",
       "      <th>time</th>\n",
       "      <th>lp_id</th>\n",
       "      <th>pct_access</th>\n",
       "      <th>engagement_index</th>\n",
       "      <th>district_id</th>\n",
       "    </tr>\n",
       "  </thead>\n",
       "  <tbody>\n",
       "    <tr>\n",
       "      <th>0</th>\n",
       "      <td>2020-01-27</td>\n",
       "      <td>32213.0</td>\n",
       "      <td>100.00</td>\n",
       "      <td>3000.00</td>\n",
       "      <td>8815</td>\n",
       "    </tr>\n",
       "    <tr>\n",
       "      <th>1</th>\n",
       "      <td>2020-02-25</td>\n",
       "      <td>90153.0</td>\n",
       "      <td>33.33</td>\n",
       "      <td>2666.67</td>\n",
       "      <td>8815</td>\n",
       "    </tr>\n",
       "    <tr>\n",
       "      <th>2</th>\n",
       "      <td>2020-02-25</td>\n",
       "      <td>99916.0</td>\n",
       "      <td>0.00</td>\n",
       "      <td>NaN</td>\n",
       "      <td>8815</td>\n",
       "    </tr>\n",
       "    <tr>\n",
       "      <th>3</th>\n",
       "      <td>2020-02-25</td>\n",
       "      <td>28504.0</td>\n",
       "      <td>0.00</td>\n",
       "      <td>NaN</td>\n",
       "      <td>8815</td>\n",
       "    </tr>\n",
       "    <tr>\n",
       "      <th>4</th>\n",
       "      <td>2020-02-25</td>\n",
       "      <td>95731.0</td>\n",
       "      <td>33.33</td>\n",
       "      <td>333.33</td>\n",
       "      <td>8815</td>\n",
       "    </tr>\n",
       "  </tbody>\n",
       "</table>\n",
       "</div>"
      ],
      "text/plain": [
       "         time    lp_id  pct_access  engagement_index  district_id\n",
       "0  2020-01-27  32213.0      100.00           3000.00         8815\n",
       "1  2020-02-25  90153.0       33.33           2666.67         8815\n",
       "2  2020-02-25  99916.0        0.00               NaN         8815\n",
       "3  2020-02-25  28504.0        0.00               NaN         8815\n",
       "4  2020-02-25  95731.0       33.33            333.33         8815"
      ]
     },
     "execution_count": 26,
     "metadata": {},
     "output_type": "execute_result"
    }
   ],
   "source": [
    "\n",
    "engagement = pd.concat(temp)\n",
    "engagement = engagement.reset_index(drop=True)\n",
    "engagement.head()\n"
   ]
  },
  {
   "cell_type": "markdown",
   "metadata": {},
   "source": [
    "## 🏷EDA(Exploratory Data Analysis)\n",
    "\n",
    "### 📣날짜별 데이터 확인\n",
    "\n",
    "* 대부분의 학군에는 366일의 고유 일수가 있습니다.\n",
    "* 그러나 43개의 학군의 경우, 366일 미만의 고유한 데이터를 사용할 수 있음.\n",
    "* district_id 3670의 경우, 2020-02-15부터 2020-03-02의 데이터만 사용이 가능.\n",
    "* district_id 2872의 경우, 2020년 1월의 데이터만 사용 가능하고, 2월과 3월의 각각 1일, 총 2일만 데이터 사용가능"
   ]
  },
  {
   "cell_type": "code",
   "execution_count": 27,
   "metadata": {
    "execution": {
     "iopub.execute_input": "2021-09-15T01:57:22.960517Z",
     "iopub.status.busy": "2021-09-15T01:57:22.959149Z",
     "iopub.status.idle": "2021-09-15T01:57:23.066365Z",
     "shell.execute_reply": "2021-09-15T01:57:23.065534Z",
     "shell.execute_reply.started": "2021-09-15T01:57:22.960460Z"
    }
   },
   "outputs": [
    {
     "data": {
      "text/plain": [
       "176"
      ]
     },
     "execution_count": 27,
     "metadata": {},
     "output_type": "execute_result"
    }
   ],
   "source": [
    "len(engagement.district_id.unique())"
   ]
  },
  {
   "cell_type": "code",
   "execution_count": 28,
   "metadata": {
    "execution": {
     "iopub.execute_input": "2021-09-15T01:57:23.068876Z",
     "iopub.status.busy": "2021-09-15T01:57:23.067685Z",
     "iopub.status.idle": "2021-09-15T01:57:23.083127Z",
     "shell.execute_reply": "2021-09-15T01:57:23.082104Z",
     "shell.execute_reply.started": "2021-09-15T01:57:23.068829Z"
    }
   },
   "outputs": [
    {
     "name": "stdout",
     "output_type": "stream",
     "text": [
      "<class 'pandas.core.frame.DataFrame'>\n",
      "RangeIndex: 17435744 entries, 0 to 17435743\n",
      "Data columns (total 5 columns):\n",
      " #   Column            Dtype  \n",
      "---  ------            -----  \n",
      " 0   time              object \n",
      " 1   lp_id             float64\n",
      " 2   pct_access        float64\n",
      " 3   engagement_index  float64\n",
      " 4   district_id       int64  \n",
      "dtypes: float64(3), int64(1), object(1)\n",
      "memory usage: 665.1+ MB\n"
     ]
    }
   ],
   "source": [
    "engagement.info()"
   ]
  },
  {
   "cell_type": "code",
   "execution_count": 29,
   "metadata": {
    "execution": {
     "iopub.execute_input": "2021-09-15T01:57:23.088024Z",
     "iopub.status.busy": "2021-09-15T01:57:23.087559Z",
     "iopub.status.idle": "2021-09-15T01:57:23.164896Z",
     "shell.execute_reply": "2021-09-15T01:57:23.163927Z",
     "shell.execute_reply.started": "2021-09-15T01:57:23.087906Z"
    }
   },
   "outputs": [
    {
     "data": {
      "text/plain": [
       "array(['2020-02-15', '2020-02-16', '2020-02-17', '2020-02-18',\n",
       "       '2020-02-19', '2020-02-20', '2020-02-21', '2020-02-22',\n",
       "       '2020-02-23', '2020-02-24', '2020-02-25', '2020-02-26',\n",
       "       '2020-02-27', '2020-02-28', '2020-03-02'], dtype=object)"
      ]
     },
     "execution_count": 29,
     "metadata": {},
     "output_type": "execute_result"
    }
   ],
   "source": [
    "# 아무 district 하나 찍어서(3670) 몇개의 time 데이터가 있는지 확인\n",
    "engagement[engagement['district_id']==3670].time.unique()\n",
    "\n",
    "# 366일이 아님. "
   ]
  },
  {
   "cell_type": "markdown",
   "metadata": {},
   "source": [
    "### ✔각 district_id에 대해 사용가능한 날짜(366일) 카운트를 히스토그램으로 표현"
   ]
  },
  {
   "cell_type": "code",
   "execution_count": 30,
   "metadata": {
    "execution": {
     "iopub.execute_input": "2021-09-15T01:57:23.166396Z",
     "iopub.status.busy": "2021-09-15T01:57:23.166141Z",
     "iopub.status.idle": "2021-09-15T01:57:26.699064Z",
     "shell.execute_reply": "2021-09-15T01:57:26.698396Z",
     "shell.execute_reply.started": "2021-09-15T01:57:23.166368Z"
    }
   },
   "outputs": [
    {
     "data": {
      "image/png": "[encoded data removed]",
      "text/plain": [
       "<Figure size 576x288 with 1 Axes>"
      ]
     },
     "metadata": {
      "needs_background": "light"
     },
     "output_type": "display_data"
    }
   ],
   "source": [
    "fig, ax = plt.subplots(1, 1, figsize=(8,4))\n",
    "\n",
    "sns.histplot(engagement.groupby('district_id').time.nunique(), bins=30)\n",
    "ax.set_title('Unique Days of Engagement Data per District')\n",
    "plt.show()"
   ]
  },
  {
   "cell_type": "code",
   "execution_count": 31,
   "metadata": {
    "execution": {
     "iopub.execute_input": "2021-09-15T01:57:26.700561Z",
     "iopub.status.busy": "2021-09-15T01:57:26.700213Z",
     "iopub.status.idle": "2021-09-15T01:57:38.025221Z",
     "shell.execute_reply": "2021-09-15T01:57:38.024371Z",
     "shell.execute_reply.started": "2021-09-15T01:57:26.700534Z"
    }
   },
   "outputs": [],
   "source": [
    "# 앞에서 확인한 engagement를 지우고, 366일 인것만 새롭게 만든다.\n",
    "del engagement\n",
    "\n",
    "temp = []\n",
    "\n",
    "for district in districts_df.district_id.unique():\n",
    "    df = pd.read_csv(f'{PATH}/{district}.csv', index_col=None, header=0)\n",
    "    df[\"district_id\"] = district\n",
    "    if df.time.nunique() == 366:    # 366일인 것만 추가하겠다. \n",
    "        temp.append(df)\n",
    "\n",
    "engagement = pd.concat(temp)   # 366일인것만 뽑아서 pandas로 찍기 \n",
    "engagement = engagement.reset_index(drop=True)"
   ]
  },
  {
   "cell_type": "code",
   "execution_count": 32,
   "metadata": {
    "execution": {
     "iopub.execute_input": "2021-09-15T01:57:38.026590Z",
     "iopub.status.busy": "2021-09-15T01:57:38.026343Z",
     "iopub.status.idle": "2021-09-15T01:57:38.033176Z",
     "shell.execute_reply": "2021-09-15T01:57:38.032410Z",
     "shell.execute_reply.started": "2021-09-15T01:57:38.026560Z"
    }
   },
   "outputs": [
    {
     "data": {
      "text/plain": [
       "((176, 7), (372, 9))"
      ]
     },
     "execution_count": 32,
     "metadata": {},
     "output_type": "execute_result"
    }
   ],
   "source": [
    "districts_df.shape, products_df.shape"
   ]
  },
  {
   "cell_type": "code",
   "execution_count": 33,
   "metadata": {
    "execution": {
     "iopub.execute_input": "2021-09-15T01:57:38.034737Z",
     "iopub.status.busy": "2021-09-15T01:57:38.034483Z",
     "iopub.status.idle": "2021-09-15T01:57:41.040569Z",
     "shell.execute_reply": "2021-09-15T01:57:41.039754Z",
     "shell.execute_reply.started": "2021-09-15T01:57:38.034710Z"
    }
   },
   "outputs": [
    {
     "data": {
      "image/png": "[encoded data removed]",
      "text/plain": [
       "<Figure size 576x288 with 1 Axes>"
      ]
     },
     "metadata": {
      "needs_background": "light"
     },
     "output_type": "display_data"
    }
   ],
   "source": [
    "fig, ax = plt.subplots(1, 1, figsize=(8,4))\n",
    "\n",
    "sns.histplot(engagement.groupby('district_id').time.nunique(), bins=30)\n",
    "ax.set_title('Unique Days of Engagement Data per District')\n",
    "plt.show()"
   ]
  },
  {
   "cell_type": "markdown",
   "metadata": {},
   "source": [
    "### ✔366일 있는 데이터만 합친다.\n",
    "\n",
    "* 컬럼명과 파일명 연결시키기"
   ]
  },
  {
   "cell_type": "code",
   "execution_count": 34,
   "metadata": {
    "execution": {
     "iopub.execute_input": "2021-09-15T01:57:41.042330Z",
     "iopub.status.busy": "2021-09-15T01:57:41.041851Z",
     "iopub.status.idle": "2021-09-15T01:57:41.317020Z",
     "shell.execute_reply": "2021-09-15T01:57:41.315975Z",
     "shell.execute_reply.started": "2021-09-15T01:57:41.042289Z"
    }
   },
   "outputs": [],
   "source": [
    "# isin()메소드는 해당 열에서 필요한 데이터(행)만 가져오는 것\n",
    "# districts_df를 366일 있는 distric_id로 채운 것으로 다시 재 정의 \n",
    "districts_df = districts_df[districts_df.district_id.isin(engagement.district_id.unique())].reset_index(drop=True)\n",
    "# products_df를 366일 있는 lp_id로 채운 것으로 다시 재 정의 \n",
    "products_df = products_df[products_df['LP ID'].isin(engagement.lp_id.unique())].reset_index(drop=True)"
   ]
  },
  {
   "cell_type": "code",
   "execution_count": 35,
   "metadata": {
    "execution": {
     "iopub.execute_input": "2021-09-15T01:57:41.318828Z",
     "iopub.status.busy": "2021-09-15T01:57:41.318468Z",
     "iopub.status.idle": "2021-09-15T01:57:41.333918Z",
     "shell.execute_reply": "2021-09-15T01:57:41.332774Z",
     "shell.execute_reply.started": "2021-09-15T01:57:41.318788Z"
    }
   },
   "outputs": [
    {
     "data": {
      "text/html": [
       "<div>\n",
       "<style scoped>\n",
       "    .dataframe tbody tr th:only-of-type {\n",
       "        vertical-align: middle;\n",
       "    }\n",
       "\n",
       "    .dataframe tbody tr th {\n",
       "        vertical-align: top;\n",
       "    }\n",
       "\n",
       "    .dataframe thead th {\n",
       "        text-align: right;\n",
       "    }\n",
       "</style>\n",
       "<table border=\"1\" class=\"dataframe\">\n",
       "  <thead>\n",
       "    <tr style=\"text-align: right;\">\n",
       "      <th></th>\n",
       "      <th>LP ID</th>\n",
       "      <th>URL</th>\n",
       "      <th>Product Name</th>\n",
       "      <th>Provider/Company Name</th>\n",
       "      <th>sector_Corporate</th>\n",
       "      <th>sector_HigherEd</th>\n",
       "      <th>sector_PreK-12</th>\n",
       "      <th>pri_function_main</th>\n",
       "      <th>pri_function_sub</th>\n",
       "    </tr>\n",
       "  </thead>\n",
       "  <tbody>\n",
       "    <tr>\n",
       "      <th>0</th>\n",
       "      <td>13117</td>\n",
       "      <td>https://www.splashmath.com</td>\n",
       "      <td>SplashLearn</td>\n",
       "      <td>StudyPad Inc.</td>\n",
       "      <td>0</td>\n",
       "      <td>0</td>\n",
       "      <td>1</td>\n",
       "      <td>LC</td>\n",
       "      <td>Digital Learning Platforms</td>\n",
       "    </tr>\n",
       "    <tr>\n",
       "      <th>1</th>\n",
       "      <td>66933</td>\n",
       "      <td>https://abcmouse.com</td>\n",
       "      <td>ABCmouse.com</td>\n",
       "      <td>Age of Learning, Inc</td>\n",
       "      <td>0</td>\n",
       "      <td>0</td>\n",
       "      <td>1</td>\n",
       "      <td>LC</td>\n",
       "      <td>Digital Learning Platforms</td>\n",
       "    </tr>\n",
       "    <tr>\n",
       "      <th>2</th>\n",
       "      <td>50479</td>\n",
       "      <td>https://www.abcya.com</td>\n",
       "      <td>ABCya!</td>\n",
       "      <td>ABCya.com, LLC</td>\n",
       "      <td>0</td>\n",
       "      <td>0</td>\n",
       "      <td>1</td>\n",
       "      <td>LC</td>\n",
       "      <td>Sites, Resources &amp; Reference</td>\n",
       "    </tr>\n",
       "    <tr>\n",
       "      <th>3</th>\n",
       "      <td>92993</td>\n",
       "      <td>http://www.aleks.com/</td>\n",
       "      <td>ALEKS</td>\n",
       "      <td>McGraw-Hill PreK-12</td>\n",
       "      <td>0</td>\n",
       "      <td>1</td>\n",
       "      <td>1</td>\n",
       "      <td>LC</td>\n",
       "      <td>Digital Learning Platforms</td>\n",
       "    </tr>\n",
       "    <tr>\n",
       "      <th>4</th>\n",
       "      <td>73104</td>\n",
       "      <td>https://www.achieve3000.com/</td>\n",
       "      <td>Achieve3000</td>\n",
       "      <td>Achieve3000</td>\n",
       "      <td>0</td>\n",
       "      <td>0</td>\n",
       "      <td>1</td>\n",
       "      <td>LC</td>\n",
       "      <td>Digital Learning Platforms</td>\n",
       "    </tr>\n",
       "  </tbody>\n",
       "</table>\n",
       "</div>"
      ],
      "text/plain": [
       "   LP ID                           URL  Product Name  Provider/Company Name  \\\n",
       "0  13117    https://www.splashmath.com   SplashLearn          StudyPad Inc.   \n",
       "1  66933          https://abcmouse.com  ABCmouse.com  Age of Learning, Inc    \n",
       "2  50479         https://www.abcya.com        ABCya!         ABCya.com, LLC   \n",
       "3  92993         http://www.aleks.com/         ALEKS    McGraw-Hill PreK-12   \n",
       "4  73104  https://www.achieve3000.com/   Achieve3000            Achieve3000   \n",
       "\n",
       "   sector_Corporate  sector_HigherEd  sector_PreK-12 pri_function_main  \\\n",
       "0                 0                0               1                LC   \n",
       "1                 0                0               1                LC   \n",
       "2                 0                0               1                LC   \n",
       "3                 0                1               1                LC   \n",
       "4                 0                0               1                LC   \n",
       "\n",
       "               pri_function_sub  \n",
       "0    Digital Learning Platforms  \n",
       "1    Digital Learning Platforms  \n",
       "2  Sites, Resources & Reference  \n",
       "3    Digital Learning Platforms  \n",
       "4    Digital Learning Platforms  "
      ]
     },
     "execution_count": 35,
     "metadata": {},
     "output_type": "execute_result"
    }
   ],
   "source": [
    "products_df.head()"
   ]
  },
  {
   "cell_type": "markdown",
   "metadata": {},
   "source": [
    "### 📣 이용 가능한 학군 확인.\n",
    "* 학군이 가장 많이 있는 주는 CT(29)와 UT(24)\n",
    "* 학군이 하나만 있는 주는 (FL, TN, NY, AZ)"
   ]
  },
  {
   "cell_type": "code",
   "execution_count": 36,
   "metadata": {
    "execution": {
     "iopub.execute_input": "2021-09-15T01:57:41.335686Z",
     "iopub.status.busy": "2021-09-15T01:57:41.335408Z",
     "iopub.status.idle": "2021-09-15T01:57:41.347557Z",
     "shell.execute_reply": "2021-09-15T01:57:41.346661Z",
     "shell.execute_reply.started": "2021-09-15T01:57:41.335658Z"
    }
   },
   "outputs": [],
   "source": [
    "us_state_abbrev = {\n",
    "    'Alabama': 'AL',\n",
    "    'Alaska': 'AK',\n",
    "    'American Samoa': 'AS',\n",
    "    'Arizona': 'AZ',\n",
    "    'Arkansas': 'AR',\n",
    "    'California': 'CA',\n",
    "    'Colorado': 'CO',\n",
    "    'Connecticut': 'CT',\n",
    "    'Delaware': 'DE',\n",
    "    'District Of Columbia': 'DC',\n",
    "    'Florida': 'FL',\n",
    "    'Georgia': 'GA',\n",
    "    'Guam': 'GU',\n",
    "    'Hawaii': 'HI',\n",
    "    'Idaho': 'ID',\n",
    "    'Illinois': 'IL',\n",
    "    'Indiana': 'IN',\n",
    "    'Iowa': 'IA',\n",
    "    'Kansas': 'KS',\n",
    "    'Kentucky': 'KY',\n",
    "    'Louisiana': 'LA',\n",
    "    'Maine': 'ME',\n",
    "    'Maryland': 'MD',\n",
    "    'Massachusetts': 'MA',\n",
    "    'Michigan': 'MI',\n",
    "    'Minnesota': 'MN',\n",
    "    'Mississippi': 'MS',\n",
    "    'Missouri': 'MO',\n",
    "    'Montana': 'MT',\n",
    "    'Nebraska': 'NE',\n",
    "    'Nevada': 'NV',\n",
    "    'New Hampshire': 'NH',\n",
    "    'New Jersey': 'NJ',\n",
    "    'New Mexico': 'NM',\n",
    "    'New York': 'NY',\n",
    "    'North Carolina': 'NC',\n",
    "    'North Dakota': 'ND',\n",
    "    'Northern Mariana Islands':'MP',\n",
    "    'Ohio': 'OH',\n",
    "    'Oklahoma': 'OK',\n",
    "    'Oregon': 'OR',\n",
    "    'Pennsylvania': 'PA',\n",
    "    'Puerto Rico': 'PR',\n",
    "    'Rhode Island': 'RI',\n",
    "    'South Carolina': 'SC',\n",
    "    'South Dakota': 'SD',\n",
    "    'Tennessee': 'TN',\n",
    "    'Texas': 'TX',\n",
    "    'Utah': 'UT',\n",
    "    'Vermont': 'VT',\n",
    "    'Virgin Islands': 'VI',\n",
    "    'Virginia': 'VA',\n",
    "    'Washington': 'WA',\n",
    "    'West Virginia': 'WV',\n",
    "    'Wisconsin': 'WI',\n",
    "    'Wyoming': 'WY'\n",
    "}"
   ]
  },
  {
   "cell_type": "code",
   "execution_count": 37,
   "metadata": {
    "execution": {
     "iopub.execute_input": "2021-09-15T01:57:41.349045Z",
     "iopub.status.busy": "2021-09-15T01:57:41.348818Z",
     "iopub.status.idle": "2021-09-15T01:57:41.387678Z",
     "shell.execute_reply": "2021-09-15T01:57:41.386278Z",
     "shell.execute_reply.started": "2021-09-15T01:57:41.349020Z"
    }
   },
   "outputs": [
    {
     "data": {
      "text/html": [
       "<div>\n",
       "<style scoped>\n",
       "    .dataframe tbody tr th:only-of-type {\n",
       "        vertical-align: middle;\n",
       "    }\n",
       "\n",
       "    .dataframe tbody tr th {\n",
       "        vertical-align: top;\n",
       "    }\n",
       "\n",
       "    .dataframe thead th {\n",
       "        text-align: right;\n",
       "    }\n",
       "</style>\n",
       "<table border=\"1\" class=\"dataframe\">\n",
       "  <thead>\n",
       "    <tr style=\"text-align: right;\">\n",
       "      <th></th>\n",
       "      <th>district_id</th>\n",
       "      <th>state</th>\n",
       "      <th>locale</th>\n",
       "      <th>pct_black/hispanic</th>\n",
       "      <th>pct_free/reduced</th>\n",
       "      <th>county_connections_ratio</th>\n",
       "      <th>pp_total_raw</th>\n",
       "      <th>state_abbrev</th>\n",
       "    </tr>\n",
       "  </thead>\n",
       "  <tbody>\n",
       "    <tr>\n",
       "      <th>0</th>\n",
       "      <td>3710</td>\n",
       "      <td>Utah</td>\n",
       "      <td>Suburb</td>\n",
       "      <td>[0, 0.2[</td>\n",
       "      <td>[0.4, 0.6[</td>\n",
       "      <td>[0.18, 1[</td>\n",
       "      <td>[6000, 8000[</td>\n",
       "      <td>UT</td>\n",
       "    </tr>\n",
       "    <tr>\n",
       "      <th>1</th>\n",
       "      <td>7177</td>\n",
       "      <td>North Carolina</td>\n",
       "      <td>Suburb</td>\n",
       "      <td>[0.2, 0.4[</td>\n",
       "      <td>[0.2, 0.4[</td>\n",
       "      <td>[0.18, 1[</td>\n",
       "      <td>[8000, 10000[</td>\n",
       "      <td>NC</td>\n",
       "    </tr>\n",
       "    <tr>\n",
       "      <th>2</th>\n",
       "      <td>9812</td>\n",
       "      <td>Utah</td>\n",
       "      <td>Suburb</td>\n",
       "      <td>[0, 0.2[</td>\n",
       "      <td>[0.2, 0.4[</td>\n",
       "      <td>[0.18, 1[</td>\n",
       "      <td>[6000, 8000[</td>\n",
       "      <td>UT</td>\n",
       "    </tr>\n",
       "    <tr>\n",
       "      <th>3</th>\n",
       "      <td>6584</td>\n",
       "      <td>North Carolina</td>\n",
       "      <td>Rural</td>\n",
       "      <td>[0.4, 0.6[</td>\n",
       "      <td>[0.6, 0.8[</td>\n",
       "      <td>[0.18, 1[</td>\n",
       "      <td>[8000, 10000[</td>\n",
       "      <td>NC</td>\n",
       "    </tr>\n",
       "    <tr>\n",
       "      <th>4</th>\n",
       "      <td>1044</td>\n",
       "      <td>Missouri</td>\n",
       "      <td>Suburb</td>\n",
       "      <td>[0, 0.2[</td>\n",
       "      <td>[0, 0.2[</td>\n",
       "      <td>NaN</td>\n",
       "      <td>[10000, 12000[</td>\n",
       "      <td>MO</td>\n",
       "    </tr>\n",
       "    <tr>\n",
       "      <th>...</th>\n",
       "      <td>...</td>\n",
       "      <td>...</td>\n",
       "      <td>...</td>\n",
       "      <td>...</td>\n",
       "      <td>...</td>\n",
       "      <td>...</td>\n",
       "      <td>...</td>\n",
       "      <td>...</td>\n",
       "    </tr>\n",
       "    <tr>\n",
       "      <th>128</th>\n",
       "      <td>5882</td>\n",
       "      <td>Massachusetts</td>\n",
       "      <td>Suburb</td>\n",
       "      <td>[0, 0.2[</td>\n",
       "      <td>NaN</td>\n",
       "      <td>[0.18, 1[</td>\n",
       "      <td>[14000, 16000[</td>\n",
       "      <td>MA</td>\n",
       "    </tr>\n",
       "    <tr>\n",
       "      <th>129</th>\n",
       "      <td>1705</td>\n",
       "      <td>Washington</td>\n",
       "      <td>City</td>\n",
       "      <td>[0.2, 0.4[</td>\n",
       "      <td>[0.4, 0.6[</td>\n",
       "      <td>[0.18, 1[</td>\n",
       "      <td>[12000, 14000[</td>\n",
       "      <td>WA</td>\n",
       "    </tr>\n",
       "    <tr>\n",
       "      <th>130</th>\n",
       "      <td>4929</td>\n",
       "      <td>Virginia</td>\n",
       "      <td>Rural</td>\n",
       "      <td>[0, 0.2[</td>\n",
       "      <td>[0.4, 0.6[</td>\n",
       "      <td>[0.18, 1[</td>\n",
       "      <td>[12000, 14000[</td>\n",
       "      <td>VA</td>\n",
       "    </tr>\n",
       "    <tr>\n",
       "      <th>131</th>\n",
       "      <td>7975</td>\n",
       "      <td>California</td>\n",
       "      <td>City</td>\n",
       "      <td>[0.6, 0.8[</td>\n",
       "      <td>[0.6, 0.8[</td>\n",
       "      <td>[0.18, 1[</td>\n",
       "      <td>NaN</td>\n",
       "      <td>CA</td>\n",
       "    </tr>\n",
       "    <tr>\n",
       "      <th>132</th>\n",
       "      <td>7164</td>\n",
       "      <td>California</td>\n",
       "      <td>City</td>\n",
       "      <td>[0.6, 0.8[</td>\n",
       "      <td>[0.6, 0.8[</td>\n",
       "      <td>[0.18, 1[</td>\n",
       "      <td>NaN</td>\n",
       "      <td>CA</td>\n",
       "    </tr>\n",
       "  </tbody>\n",
       "</table>\n",
       "<p>133 rows × 8 columns</p>\n",
       "</div>"
      ],
      "text/plain": [
       "     district_id           state  locale pct_black/hispanic pct_free/reduced  \\\n",
       "0           3710            Utah  Suburb           [0, 0.2[       [0.4, 0.6[   \n",
       "1           7177  North Carolina  Suburb         [0.2, 0.4[       [0.2, 0.4[   \n",
       "2           9812            Utah  Suburb           [0, 0.2[       [0.2, 0.4[   \n",
       "3           6584  North Carolina   Rural         [0.4, 0.6[       [0.6, 0.8[   \n",
       "4           1044        Missouri  Suburb           [0, 0.2[         [0, 0.2[   \n",
       "..           ...             ...     ...                ...              ...   \n",
       "128         5882   Massachusetts  Suburb           [0, 0.2[              NaN   \n",
       "129         1705      Washington    City         [0.2, 0.4[       [0.4, 0.6[   \n",
       "130         4929        Virginia   Rural           [0, 0.2[       [0.4, 0.6[   \n",
       "131         7975      California    City         [0.6, 0.8[       [0.6, 0.8[   \n",
       "132         7164      California    City         [0.6, 0.8[       [0.6, 0.8[   \n",
       "\n",
       "    county_connections_ratio    pp_total_raw state_abbrev  \n",
       "0                  [0.18, 1[    [6000, 8000[           UT  \n",
       "1                  [0.18, 1[   [8000, 10000[           NC  \n",
       "2                  [0.18, 1[    [6000, 8000[           UT  \n",
       "3                  [0.18, 1[   [8000, 10000[           NC  \n",
       "4                        NaN  [10000, 12000[           MO  \n",
       "..                       ...             ...          ...  \n",
       "128                [0.18, 1[  [14000, 16000[           MA  \n",
       "129                [0.18, 1[  [12000, 14000[           WA  \n",
       "130                [0.18, 1[  [12000, 14000[           VA  \n",
       "131                [0.18, 1[             NaN           CA  \n",
       "132                [0.18, 1[             NaN           CA  \n",
       "\n",
       "[133 rows x 8 columns]"
      ]
     },
     "execution_count": 37,
     "metadata": {},
     "output_type": "execute_result"
    }
   ],
   "source": [
    "districts_df['state_abbrev'] = districts_df['state'].replace(us_state_abbrev)\n",
    "districts_df"
   ]
  },
  {
   "cell_type": "code",
   "execution_count": 38,
   "metadata": {
    "execution": {
     "iopub.execute_input": "2021-09-15T01:57:41.389698Z",
     "iopub.status.busy": "2021-09-15T01:57:41.389416Z",
     "iopub.status.idle": "2021-09-15T01:57:41.408911Z",
     "shell.execute_reply": "2021-09-15T01:57:41.407663Z",
     "shell.execute_reply.started": "2021-09-15T01:57:41.389666Z"
    }
   },
   "outputs": [
    {
     "data": {
      "text/html": [
       "<div>\n",
       "<style scoped>\n",
       "    .dataframe tbody tr th:only-of-type {\n",
       "        vertical-align: middle;\n",
       "    }\n",
       "\n",
       "    .dataframe tbody tr th {\n",
       "        vertical-align: top;\n",
       "    }\n",
       "\n",
       "    .dataframe thead th {\n",
       "        text-align: right;\n",
       "    }\n",
       "</style>\n",
       "<table border=\"1\" class=\"dataframe\">\n",
       "  <thead>\n",
       "    <tr style=\"text-align: right;\">\n",
       "      <th></th>\n",
       "      <th>index</th>\n",
       "      <th>state_abbrev</th>\n",
       "    </tr>\n",
       "  </thead>\n",
       "  <tbody>\n",
       "    <tr>\n",
       "      <th>0</th>\n",
       "      <td>CT</td>\n",
       "      <td>29</td>\n",
       "    </tr>\n",
       "    <tr>\n",
       "      <th>1</th>\n",
       "      <td>UT</td>\n",
       "      <td>24</td>\n",
       "    </tr>\n",
       "    <tr>\n",
       "      <th>2</th>\n",
       "      <td>MA</td>\n",
       "      <td>17</td>\n",
       "    </tr>\n",
       "    <tr>\n",
       "      <th>3</th>\n",
       "      <td>IL</td>\n",
       "      <td>13</td>\n",
       "    </tr>\n",
       "    <tr>\n",
       "      <th>4</th>\n",
       "      <td>CA</td>\n",
       "      <td>9</td>\n",
       "    </tr>\n",
       "    <tr>\n",
       "      <th>5</th>\n",
       "      <td>OH</td>\n",
       "      <td>8</td>\n",
       "    </tr>\n",
       "    <tr>\n",
       "      <th>6</th>\n",
       "      <td>MO</td>\n",
       "      <td>6</td>\n",
       "    </tr>\n",
       "    <tr>\n",
       "      <th>7</th>\n",
       "      <td>IN</td>\n",
       "      <td>5</td>\n",
       "    </tr>\n",
       "    <tr>\n",
       "      <th>8</th>\n",
       "      <td>WA</td>\n",
       "      <td>4</td>\n",
       "    </tr>\n",
       "    <tr>\n",
       "      <th>9</th>\n",
       "      <td>VA</td>\n",
       "      <td>3</td>\n",
       "    </tr>\n",
       "    <tr>\n",
       "      <th>10</th>\n",
       "      <td>NC</td>\n",
       "      <td>3</td>\n",
       "    </tr>\n",
       "    <tr>\n",
       "      <th>11</th>\n",
       "      <td>NH</td>\n",
       "      <td>2</td>\n",
       "    </tr>\n",
       "    <tr>\n",
       "      <th>12</th>\n",
       "      <td>NJ</td>\n",
       "      <td>2</td>\n",
       "    </tr>\n",
       "    <tr>\n",
       "      <th>13</th>\n",
       "      <td>DC</td>\n",
       "      <td>2</td>\n",
       "    </tr>\n",
       "    <tr>\n",
       "      <th>14</th>\n",
       "      <td>MI</td>\n",
       "      <td>2</td>\n",
       "    </tr>\n",
       "  </tbody>\n",
       "</table>\n",
       "</div>"
      ],
      "text/plain": [
       "   index  state_abbrev\n",
       "0     CT            29\n",
       "1     UT            24\n",
       "2     MA            17\n",
       "3     IL            13\n",
       "4     CA             9\n",
       "5     OH             8\n",
       "6     MO             6\n",
       "7     IN             5\n",
       "8     WA             4\n",
       "9     VA             3\n",
       "10    NC             3\n",
       "11    NH             2\n",
       "12    NJ             2\n",
       "13    DC             2\n",
       "14    MI             2"
      ]
     },
     "execution_count": 38,
     "metadata": {},
     "output_type": "execute_result"
    }
   ],
   "source": [
    "districts_df_by_state = districts_df['state_abbrev'].value_counts().to_frame().reset_index(drop=False)\n",
    "districts_df_by_state.head(15)"
   ]
  },
  {
   "cell_type": "code",
   "execution_count": 39,
   "metadata": {
    "execution": {
     "iopub.execute_input": "2021-09-15T01:57:41.413202Z",
     "iopub.status.busy": "2021-09-15T01:57:41.412850Z",
     "iopub.status.idle": "2021-09-15T01:57:41.540532Z",
     "shell.execute_reply": "2021-09-15T01:57:41.539926Z",
     "shell.execute_reply.started": "2021-09-15T01:57:41.413166Z"
    }
   },
   "outputs": [
    {
     "data": {
      "text/html": [
       "        <script type=\"text/javascript\">\n",
       "        window.PlotlyConfig = {MathJaxConfig: 'local'};\n",
       "        if (window.MathJax) {MathJax.Hub.Config({SVG: {font: \"STIX-Web\"}});}\n",
       "        if (typeof require !== 'undefined') {\n",
       "        require.undef(\"plotly\");\n",
       "        requirejs.config({\n",
       "            paths: {\n",
       "                'plotly': ['https://cdn.plot.ly/plotly-2.4.2.min']\n",
       "            }\n",
       "        });\n",
       "        require(['plotly'], function(Plotly) {\n",
       "            window._Plotly = Plotly;\n",
       "        });\n",
       "        }\n",
       "        </script>\n",
       "        "
      ]
     },
     "metadata": {},
     "output_type": "display_data"
    },
    {
     "data": {
      "text/html": [
       "<div>                            <div id=\"74a8d094-6606-4d13-bc8a-712a46866f46\" class=\"plotly-graph-div\" style=\"height:525px; width:100%;\"></div>            <script type=\"text/javascript\">                require([\"plotly\"], function(Plotly) {                    window.PLOTLYENV=window.PLOTLYENV || {};                                    if (document.getElementById(\"74a8d094-6606-4d13-bc8a-712a46866f46\")) {                    Plotly.newPlot(                        \"74a8d094-6606-4d13-bc8a-712a46866f46\",                        [{\"colorscale\":[[0.0,\"rgb(209, 238, 234)\"],[0.16666666666666666,\"rgb(168, 219, 217)\"],[0.3333333333333333,\"rgb(133, 196, 201)\"],[0.5,\"rgb(104, 171, 184)\"],[0.6666666666666666,\"rgb(79, 144, 166)\"],[0.8333333333333334,\"rgb(59, 115, 143)\"],[1.0,\"rgb(42, 86, 116)\"]],\"geo\":\"geo\",\"locationmode\":\"USA-states\",\"locations\":[\"CT\",\"UT\",\"MA\",\"IL\",\"CA\",\"OH\",\"MO\",\"IN\",\"WA\",\"VA\",\"NC\",\"NH\",\"NJ\",\"DC\",\"MI\",\"NY\",\"AZ\",\"TN\",\"FL\"],\"marker\":{\"line\":{\"color\":\"white\"}},\"type\":\"choropleth\",\"z\":[29,24,17,13,9,8,6,5,4,3,3,2,2,2,2,1,1,1,1],\"zmax\":1}],                        {\"geo\":{\"scope\":\"usa\"},\"template\":{\"data\":{\"bar\":[{\"error_x\":{\"color\":\"#2a3f5f\"},\"error_y\":{\"color\":\"#2a3f5f\"},\"marker\":{\"line\":{\"color\":\"#E5ECF6\",\"width\":0.5},\"pattern\":{\"fillmode\":\"overlay\",\"size\":10,\"solidity\":0.2}},\"type\":\"bar\"}],\"barpolar\":[{\"marker\":{\"line\":{\"color\":\"#E5ECF6\",\"width\":0.5},\"pattern\":{\"fillmode\":\"overlay\",\"size\":10,\"solidity\":0.2}},\"type\":\"barpolar\"}],\"carpet\":[{\"aaxis\":{\"endlinecolor\":\"#2a3f5f\",\"gridcolor\":\"white\",\"linecolor\":\"white\",\"minorgridcolor\":\"white\",\"startlinecolor\":\"#2a3f5f\"},\"baxis\":{\"endlinecolor\":\"#2a3f5f\",\"gridcolor\":\"white\",\"linecolor\":\"white\",\"minorgridcolor\":\"white\",\"startlinecolor\":\"#2a3f5f\"},\"type\":\"carpet\"}],\"choropleth\":[{\"colorbar\":{\"outlinewidth\":0,\"ticks\":\"\"},\"type\":\"choropleth\"}],\"contour\":[{\"colorbar\":{\"outlinewidth\":0,\"ticks\":\"\"},\"colorscale\":[[0.0,\"#0d0887\"],[0.1111111111111111,\"#46039f\"],[0.2222222222222222,\"#7201a8\"],[0.3333333333333333,\"#9c179e\"],[0.4444444444444444,\"#bd3786\"],[0.5555555555555556,\"#d8576b\"],[0.6666666666666666,\"#ed7953\"],[0.7777777777777778,\"#fb9f3a\"],[0.8888888888888888,\"#fdca26\"],[1.0,\"#f0f921\"]],\"type\":\"contour\"}],\"contourcarpet\":[{\"colorbar\":{\"outlinewidth\":0,\"ticks\":\"\"},\"type\":\"contourcarpet\"}],\"heatmap\":[{\"colorbar\":{\"outlinewidth\":0,\"ticks\":\"\"},\"colorscale\":[[0.0,\"#0d0887\"],[0.1111111111111111,\"#46039f\"],[0.2222222222222222,\"#7201a8\"],[0.3333333333333333,\"#9c179e\"],[0.4444444444444444,\"#bd3786\"],[0.5555555555555556,\"#d8576b\"],[0.6666666666666666,\"#ed7953\"],[0.7777777777777778,\"#fb9f3a\"],[0.8888888888888888,\"#fdca26\"],[1.0,\"#f0f921\"]],\"type\":\"heatmap\"}],\"heatmapgl\":[{\"colorbar\":{\"outlinewidth\":0,\"ticks\":\"\"},\"colorscale\":[[0.0,\"#0d0887\"],[0.1111111111111111,\"#46039f\"],[0.2222222222222222,\"#7201a8\"],[0.3333333333333333,\"#9c179e\"],[0.4444444444444444,\"#bd3786\"],[0.5555555555555556,\"#d8576b\"],[0.6666666666666666,\"#ed7953\"],[0.7777777777777778,\"#fb9f3a\"],[0.8888888888888888,\"#fdca26\"],[1.0,\"#f0f921\"]],\"type\":\"heatmapgl\"}],\"histogram\":[{\"marker\":{\"pattern\":{\"fillmode\":\"overlay\",\"size\":10,\"solidity\":0.2}},\"type\":\"histogram\"}],\"histogram2d\":[{\"colorbar\":{\"outlinewidth\":0,\"ticks\":\"\"},\"colorscale\":[[0.0,\"#0d0887\"],[0.1111111111111111,\"#46039f\"],[0.2222222222222222,\"#7201a8\"],[0.3333333333333333,\"#9c179e\"],[0.4444444444444444,\"#bd3786\"],[0.5555555555555556,\"#d8576b\"],[0.6666666666666666,\"#ed7953\"],[0.7777777777777778,\"#fb9f3a\"],[0.8888888888888888,\"#fdca26\"],[1.0,\"#f0f921\"]],\"type\":\"histogram2d\"}],\"histogram2dcontour\":[{\"colorbar\":{\"outlinewidth\":0,\"ticks\":\"\"},\"colorscale\":[[0.0,\"#0d0887\"],[0.1111111111111111,\"#46039f\"],[0.2222222222222222,\"#7201a8\"],[0.3333333333333333,\"#9c179e\"],[0.4444444444444444,\"#bd3786\"],[0.5555555555555556,\"#d8576b\"],[0.6666666666666666,\"#ed7953\"],[0.7777777777777778,\"#fb9f3a\"],[0.8888888888888888,\"#fdca26\"],[1.0,\"#f0f921\"]],\"type\":\"histogram2dcontour\"}],\"mesh3d\":[{\"colorbar\":{\"outlinewidth\":0,\"ticks\":\"\"},\"type\":\"mesh3d\"}],\"parcoords\":[{\"line\":{\"colorbar\":{\"outlinewidth\":0,\"ticks\":\"\"}},\"type\":\"parcoords\"}],\"pie\":[{\"automargin\":true,\"type\":\"pie\"}],\"scatter\":[{\"marker\":{\"colorbar\":{\"outlinewidth\":0,\"ticks\":\"\"}},\"type\":\"scatter\"}],\"scatter3d\":[{\"line\":{\"colorbar\":{\"outlinewidth\":0,\"ticks\":\"\"}},\"marker\":{\"colorbar\":{\"outlinewidth\":0,\"ticks\":\"\"}},\"type\":\"scatter3d\"}],\"scattercarpet\":[{\"marker\":{\"colorbar\":{\"outlinewidth\":0,\"ticks\":\"\"}},\"type\":\"scattercarpet\"}],\"scattergeo\":[{\"marker\":{\"colorbar\":{\"outlinewidth\":0,\"ticks\":\"\"}},\"type\":\"scattergeo\"}],\"scattergl\":[{\"marker\":{\"colorbar\":{\"outlinewidth\":0,\"ticks\":\"\"}},\"type\":\"scattergl\"}],\"scattermapbox\":[{\"marker\":{\"colorbar\":{\"outlinewidth\":0,\"ticks\":\"\"}},\"type\":\"scattermapbox\"}],\"scatterpolar\":[{\"marker\":{\"colorbar\":{\"outlinewidth\":0,\"ticks\":\"\"}},\"type\":\"scatterpolar\"}],\"scatterpolargl\":[{\"marker\":{\"colorbar\":{\"outlinewidth\":0,\"ticks\":\"\"}},\"type\":\"scatterpolargl\"}],\"scatterternary\":[{\"marker\":{\"colorbar\":{\"outlinewidth\":0,\"ticks\":\"\"}},\"type\":\"scatterternary\"}],\"surface\":[{\"colorbar\":{\"outlinewidth\":0,\"ticks\":\"\"},\"colorscale\":[[0.0,\"#0d0887\"],[0.1111111111111111,\"#46039f\"],[0.2222222222222222,\"#7201a8\"],[0.3333333333333333,\"#9c179e\"],[0.4444444444444444,\"#bd3786\"],[0.5555555555555556,\"#d8576b\"],[0.6666666666666666,\"#ed7953\"],[0.7777777777777778,\"#fb9f3a\"],[0.8888888888888888,\"#fdca26\"],[1.0,\"#f0f921\"]],\"type\":\"surface\"}],\"table\":[{\"cells\":{\"fill\":{\"color\":\"#EBF0F8\"},\"line\":{\"color\":\"white\"}},\"header\":{\"fill\":{\"color\":\"#C8D4E3\"},\"line\":{\"color\":\"white\"}},\"type\":\"table\"}]},\"layout\":{\"annotationdefaults\":{\"arrowcolor\":\"#2a3f5f\",\"arrowhead\":0,\"arrowwidth\":1},\"autotypenumbers\":\"strict\",\"coloraxis\":{\"colorbar\":{\"outlinewidth\":0,\"ticks\":\"\"}},\"colorscale\":{\"diverging\":[[0,\"#8e0152\"],[0.1,\"#c51b7d\"],[0.2,\"#de77ae\"],[0.3,\"#f1b6da\"],[0.4,\"#fde0ef\"],[0.5,\"#f7f7f7\"],[0.6,\"#e6f5d0\"],[0.7,\"#b8e186\"],[0.8,\"#7fbc41\"],[0.9,\"#4d9221\"],[1,\"#276419\"]],\"sequential\":[[0.0,\"#0d0887\"],[0.1111111111111111,\"#46039f\"],[0.2222222222222222,\"#7201a8\"],[0.3333333333333333,\"#9c179e\"],[0.4444444444444444,\"#bd3786\"],[0.5555555555555556,\"#d8576b\"],[0.6666666666666666,\"#ed7953\"],[0.7777777777777778,\"#fb9f3a\"],[0.8888888888888888,\"#fdca26\"],[1.0,\"#f0f921\"]],\"sequentialminus\":[[0.0,\"#0d0887\"],[0.1111111111111111,\"#46039f\"],[0.2222222222222222,\"#7201a8\"],[0.3333333333333333,\"#9c179e\"],[0.4444444444444444,\"#bd3786\"],[0.5555555555555556,\"#d8576b\"],[0.6666666666666666,\"#ed7953\"],[0.7777777777777778,\"#fb9f3a\"],[0.8888888888888888,\"#fdca26\"],[1.0,\"#f0f921\"]]},\"colorway\":[\"#636efa\",\"#EF553B\",\"#00cc96\",\"#ab63fa\",\"#FFA15A\",\"#19d3f3\",\"#FF6692\",\"#B6E880\",\"#FF97FF\",\"#FECB52\"],\"font\":{\"color\":\"#2a3f5f\"},\"geo\":{\"bgcolor\":\"white\",\"lakecolor\":\"white\",\"landcolor\":\"#E5ECF6\",\"showlakes\":true,\"showland\":true,\"subunitcolor\":\"white\"},\"hoverlabel\":{\"align\":\"left\"},\"hovermode\":\"closest\",\"mapbox\":{\"style\":\"light\"},\"paper_bgcolor\":\"white\",\"plot_bgcolor\":\"#E5ECF6\",\"polar\":{\"angularaxis\":{\"gridcolor\":\"white\",\"linecolor\":\"white\",\"ticks\":\"\"},\"bgcolor\":\"#E5ECF6\",\"radialaxis\":{\"gridcolor\":\"white\",\"linecolor\":\"white\",\"ticks\":\"\"}},\"scene\":{\"xaxis\":{\"backgroundcolor\":\"#E5ECF6\",\"gridcolor\":\"white\",\"gridwidth\":2,\"linecolor\":\"white\",\"showbackground\":true,\"ticks\":\"\",\"zerolinecolor\":\"white\"},\"yaxis\":{\"backgroundcolor\":\"#E5ECF6\",\"gridcolor\":\"white\",\"gridwidth\":2,\"linecolor\":\"white\",\"showbackground\":true,\"ticks\":\"\",\"zerolinecolor\":\"white\"},\"zaxis\":{\"backgroundcolor\":\"#E5ECF6\",\"gridcolor\":\"white\",\"gridwidth\":2,\"linecolor\":\"white\",\"showbackground\":true,\"ticks\":\"\",\"zerolinecolor\":\"white\"}},\"shapedefaults\":{\"line\":{\"color\":\"#2a3f5f\"}},\"ternary\":{\"aaxis\":{\"gridcolor\":\"white\",\"linecolor\":\"white\",\"ticks\":\"\"},\"baxis\":{\"gridcolor\":\"white\",\"linecolor\":\"white\",\"ticks\":\"\"},\"bgcolor\":\"#E5ECF6\",\"caxis\":{\"gridcolor\":\"white\",\"linecolor\":\"white\",\"ticks\":\"\"}},\"title\":{\"x\":0.05},\"xaxis\":{\"automargin\":true,\"gridcolor\":\"white\",\"linecolor\":\"white\",\"ticks\":\"\",\"title\":{\"standoff\":15},\"zerolinecolor\":\"white\",\"zerolinewidth\":2},\"yaxis\":{\"automargin\":true,\"gridcolor\":\"white\",\"linecolor\":\"white\",\"ticks\":\"\",\"title\":{\"standoff\":15},\"zerolinecolor\":\"white\",\"zerolinewidth\":2}}},\"title\":{\"text\":\"Number of Available School Districts per State\"}},                        {\"responsive\": true}                    ).then(function(){\n",
       "                            \n",
       "var gd = document.getElementById('74a8d094-6606-4d13-bc8a-712a46866f46');\n",
       "var x = new MutationObserver(function (mutations, observer) {{\n",
       "        var display = window.getComputedStyle(gd).display;\n",
       "        if (!display || display === 'none') {{\n",
       "            console.log([gd, 'removed!']);\n",
       "            Plotly.purge(gd);\n",
       "            observer.disconnect();\n",
       "        }}\n",
       "}});\n",
       "\n",
       "// Listen for the removal of the full notebook cells\n",
       "var notebookContainer = gd.closest('#notebook-container');\n",
       "if (notebookContainer) {{\n",
       "    x.observe(notebookContainer, {childList: true});\n",
       "}}\n",
       "\n",
       "// Listen for the clearing of the current output cell\n",
       "var outputEl = gd.closest('.output');\n",
       "if (outputEl) {{\n",
       "    x.observe(outputEl, {childList: true});\n",
       "}}\n",
       "\n",
       "                        })                };                });            </script>        </div>"
      ]
     },
     "metadata": {},
     "output_type": "display_data"
    }
   ],
   "source": [
    "districts_df_by_state.columns = ['state_abbrev', 'num_districts']\n",
    "\n",
    "fig = go.Figure()\n",
    "layout = dict(\n",
    "    title_text = \"Number of Available School Districts per State\",\n",
    "    geo_scope='usa',\n",
    ")\n",
    "\n",
    "fig.add_trace(\n",
    "    go.Choropleth(\n",
    "        locations=districts_df_by_state.state_abbrev,\n",
    "        zmax=1,\n",
    "        z = districts_df_by_state.num_districts,\n",
    "        locationmode = 'USA-states', # set of locations match entries in `locations`\n",
    "        marker_line_color='white',\n",
    "        geo='geo',\n",
    "        colorscale=px.colors.sequential.Teal, \n",
    "    )\n",
    ")\n",
    "            \n",
    "fig.update_layout(layout)   \n",
    "fig.show()"
   ]
  },
  {
   "cell_type": "markdown",
   "metadata": {},
   "source": [
    "### 📣pri_function_main의 분포도 확인\n",
    "\n",
    "* 'Primary Essential Function'의 열에서 가장 일반적인 범주는 LC(learning & curriculum), 교실 관리(CM)및 학교 및 학군 운영(SDO)"
   ]
  },
  {
   "cell_type": "code",
   "execution_count": 40,
   "metadata": {
    "execution": {
     "iopub.execute_input": "2021-09-15T01:57:41.542270Z",
     "iopub.status.busy": "2021-09-15T01:57:41.541742Z",
     "iopub.status.idle": "2021-09-15T01:57:41.550683Z",
     "shell.execute_reply": "2021-09-15T01:57:41.549722Z",
     "shell.execute_reply.started": "2021-09-15T01:57:41.542230Z"
    }
   },
   "outputs": [
    {
     "data": {
      "text/plain": [
       "LC           271\n",
       "CM            34\n",
       "SDO           29\n",
       "LC/CM/SDO     16\n",
       "Name: pri_function_main, dtype: int64"
      ]
     },
     "execution_count": 40,
     "metadata": {},
     "output_type": "execute_result"
    }
   ],
   "source": [
    "# Check the distribution of 'pri_function_main'\n",
    "products_df['pri_function_main'].value_counts()"
   ]
  },
  {
   "cell_type": "code",
   "execution_count": 41,
   "metadata": {
    "execution": {
     "iopub.execute_input": "2021-09-15T01:57:41.552287Z",
     "iopub.status.busy": "2021-09-15T01:57:41.551903Z",
     "iopub.status.idle": "2021-09-15T01:57:41.564982Z",
     "shell.execute_reply": "2021-09-15T01:57:41.564414Z",
     "shell.execute_reply.started": "2021-09-15T01:57:41.552257Z"
    }
   },
   "outputs": [
    {
     "data": {
      "text/plain": [
       "array(['Digital Learning Platforms', 'Sites, Resources & Reference',\n",
       "       'Courseware & Textbooks', 'Study Tools', 'Teacher Resources',\n",
       "       'Learning Management Systems (LMS)', 'Content Creation & Curation',\n",
       "       'Online Course Providers & Technical Skills Development',\n",
       "       'Classroom Engagement & Instruction', 'School Management Software',\n",
       "       'Other', 'Data, Analytics & Reporting', 'Virtual Classroom', nan,\n",
       "       'Career Planning & Job Search', 'Human Resources',\n",
       "       'Large-Scale & Standardized Testing',\n",
       "       'Admissions, Enrollment & Rostering',\n",
       "       'Environmental, Health & Safety (EHS) Compliance'], dtype=object)"
      ]
     },
     "execution_count": 41,
     "metadata": {},
     "output_type": "execute_result"
    }
   ],
   "source": [
    "products_df['pri_function_sub'].unique()"
   ]
  },
  {
   "cell_type": "code",
   "execution_count": 42,
   "metadata": {
    "execution": {
     "iopub.execute_input": "2021-09-15T01:57:41.566733Z",
     "iopub.status.busy": "2021-09-15T01:57:41.566114Z",
     "iopub.status.idle": "2021-09-15T01:57:41.896297Z",
     "shell.execute_reply": "2021-09-15T01:57:41.895478Z",
     "shell.execute_reply.started": "2021-09-15T01:57:41.566670Z"
    }
   },
   "outputs": [
    {
     "data": {
      "image/png": "[encoded data removed]",
      "text/plain": [
       "<Figure size 1152x288 with 2 Axes>"
      ]
     },
     "metadata": {
      "needs_background": "light"
     },
     "output_type": "display_data"
    }
   ],
   "source": [
    "# Check the number of data with countplot\n",
    "\n",
    "#Fig1\n",
    "fig, ax = plt.subplots(1, 2, figsize=(16,4))\n",
    "sns.countplot(data=products_df, x='pri_function_main', palette ='GnBu', ax=ax[0])\n",
    "ax[0].set_title('Main Categories in Primary Functions')\n",
    "\n",
    "\n",
    "#Fig2\n",
    "sns.countplot(data=products_df[products_df.pri_function_main == 'LC'], x='pri_function_sub', palette ='GnBu', ax=ax[1])\n",
    "ax[1].set_title('Sub-Categories in Primary Function LC')\n",
    "ax[1].set_xticklabels(ax[1].get_xticklabels(), rotation=90)\n",
    "\n",
    "\n",
    "plt.show()"
   ]
  },
  {
   "cell_type": "markdown",
   "metadata": {},
   "source": [
    "### 📣Checking the number of data of [pri_function_main] & [pri_function_sub]"
   ]
  },
  {
   "cell_type": "code",
   "execution_count": 43,
   "metadata": {
    "execution": {
     "iopub.execute_input": "2021-09-15T01:57:41.898078Z",
     "iopub.status.busy": "2021-09-15T01:57:41.897854Z",
     "iopub.status.idle": "2021-09-15T01:57:41.916126Z",
     "shell.execute_reply": "2021-09-15T01:57:41.913924Z",
     "shell.execute_reply.started": "2021-09-15T01:57:41.898051Z"
    }
   },
   "outputs": [
    {
     "data": {
      "text/html": [
       "<div>\n",
       "<style scoped>\n",
       "    .dataframe tbody tr th:only-of-type {\n",
       "        vertical-align: middle;\n",
       "    }\n",
       "\n",
       "    .dataframe tbody tr th {\n",
       "        vertical-align: top;\n",
       "    }\n",
       "\n",
       "    .dataframe thead th {\n",
       "        text-align: right;\n",
       "    }\n",
       "</style>\n",
       "<table border=\"1\" class=\"dataframe\">\n",
       "  <thead>\n",
       "    <tr style=\"text-align: right;\">\n",
       "      <th></th>\n",
       "      <th></th>\n",
       "      <th>pri_function_sub</th>\n",
       "    </tr>\n",
       "    <tr>\n",
       "      <th>pri_function_main</th>\n",
       "      <th>pri_function_sub</th>\n",
       "      <th></th>\n",
       "    </tr>\n",
       "  </thead>\n",
       "  <tbody>\n",
       "    <tr>\n",
       "      <th rowspan=\"3\" valign=\"top\">CM</th>\n",
       "      <th>Classroom Engagement &amp; Instruction</th>\n",
       "      <td>20</td>\n",
       "    </tr>\n",
       "    <tr>\n",
       "      <th>Teacher Resources</th>\n",
       "      <td>7</td>\n",
       "    </tr>\n",
       "    <tr>\n",
       "      <th>Virtual Classroom</th>\n",
       "      <td>7</td>\n",
       "    </tr>\n",
       "    <tr>\n",
       "      <th rowspan=\"7\" valign=\"top\">LC</th>\n",
       "      <th>Sites, Resources &amp; Reference</th>\n",
       "      <td>101</td>\n",
       "    </tr>\n",
       "    <tr>\n",
       "      <th>Digital Learning Platforms</th>\n",
       "      <td>74</td>\n",
       "    </tr>\n",
       "    <tr>\n",
       "      <th>Content Creation &amp; Curation</th>\n",
       "      <td>35</td>\n",
       "    </tr>\n",
       "    <tr>\n",
       "      <th>Study Tools</th>\n",
       "      <td>35</td>\n",
       "    </tr>\n",
       "    <tr>\n",
       "      <th>Courseware &amp; Textbooks</th>\n",
       "      <td>18</td>\n",
       "    </tr>\n",
       "    <tr>\n",
       "      <th>Online Course Providers &amp; Technical Skills Development</th>\n",
       "      <td>5</td>\n",
       "    </tr>\n",
       "    <tr>\n",
       "      <th>Career Planning &amp; Job Search</th>\n",
       "      <td>3</td>\n",
       "    </tr>\n",
       "    <tr>\n",
       "      <th>LC/CM/SDO</th>\n",
       "      <th>Other</th>\n",
       "      <td>16</td>\n",
       "    </tr>\n",
       "    <tr>\n",
       "      <th rowspan=\"8\" valign=\"top\">SDO</th>\n",
       "      <th>Data, Analytics &amp; Reporting</th>\n",
       "      <td>11</td>\n",
       "    </tr>\n",
       "    <tr>\n",
       "      <th>Learning Management Systems (LMS)</th>\n",
       "      <td>5</td>\n",
       "    </tr>\n",
       "    <tr>\n",
       "      <th>Human Resources</th>\n",
       "      <td>4</td>\n",
       "    </tr>\n",
       "    <tr>\n",
       "      <th>School Management Software</th>\n",
       "      <td>4</td>\n",
       "    </tr>\n",
       "    <tr>\n",
       "      <th>Large-Scale &amp; Standardized Testing</th>\n",
       "      <td>2</td>\n",
       "    </tr>\n",
       "    <tr>\n",
       "      <th>Admissions, Enrollment &amp; Rostering</th>\n",
       "      <td>1</td>\n",
       "    </tr>\n",
       "    <tr>\n",
       "      <th>Environmental, Health &amp; Safety (EHS) Compliance</th>\n",
       "      <td>1</td>\n",
       "    </tr>\n",
       "    <tr>\n",
       "      <th>Other</th>\n",
       "      <td>1</td>\n",
       "    </tr>\n",
       "  </tbody>\n",
       "</table>\n",
       "</div>"
      ],
      "text/plain": [
       "                                                                      pri_function_sub\n",
       "pri_function_main pri_function_sub                                                    \n",
       "CM                Classroom Engagement & Instruction                                20\n",
       "                  Teacher Resources                                                  7\n",
       "                  Virtual Classroom                                                  7\n",
       "LC                Sites, Resources & Reference                                     101\n",
       "                  Digital Learning Platforms                                        74\n",
       "                  Content Creation & Curation                                       35\n",
       "                  Study Tools                                                       35\n",
       "                  Courseware & Textbooks                                            18\n",
       "                  Online Course Providers & Technical Skills Deve...                 5\n",
       "                  Career Planning & Job Search                                       3\n",
       "LC/CM/SDO         Other                                                             16\n",
       "SDO               Data, Analytics & Reporting                                       11\n",
       "                  Learning Management Systems (LMS)                                  5\n",
       "                  Human Resources                                                    4\n",
       "                  School Management Software                                         4\n",
       "                  Large-Scale & Standardized Testing                                 2\n",
       "                  Admissions, Enrollment & Rostering                                 1\n",
       "                  Environmental, Health & Safety (EHS) Compliance                    1\n",
       "                  Other                                                              1"
      ]
     },
     "metadata": {},
     "output_type": "display_data"
    }
   ],
   "source": [
    "# display(products_df.sum())\n",
    "\n",
    "display(products_df.groupby('pri_function_main')['pri_function_sub'].value_counts().to_frame())"
   ]
  },
  {
   "cell_type": "markdown",
   "metadata": {},
   "source": [
    "### 📣Let's take a look at the product name in the Virtual Classroom!\n"
   ]
  },
  {
   "cell_type": "code",
   "execution_count": 46,
   "metadata": {
    "execution": {
     "iopub.execute_input": "2021-09-15T02:07:55.026257Z",
     "iopub.status.busy": "2021-09-15T02:07:55.025331Z",
     "iopub.status.idle": "2021-09-15T02:07:55.043604Z",
     "shell.execute_reply": "2021-09-15T02:07:55.043006Z",
     "shell.execute_reply.started": "2021-09-15T02:07:55.026184Z"
    }
   },
   "outputs": [
    {
     "data": {
      "text/html": [
       "<div>\n",
       "<style scoped>\n",
       "    .dataframe tbody tr th:only-of-type {\n",
       "        vertical-align: middle;\n",
       "    }\n",
       "\n",
       "    .dataframe tbody tr th {\n",
       "        vertical-align: top;\n",
       "    }\n",
       "\n",
       "    .dataframe thead th {\n",
       "        text-align: right;\n",
       "    }\n",
       "</style>\n",
       "<table border=\"1\" class=\"dataframe\">\n",
       "  <thead>\n",
       "    <tr style=\"text-align: right;\">\n",
       "      <th></th>\n",
       "      <th>LP ID</th>\n",
       "      <th>URL</th>\n",
       "      <th>Product Name</th>\n",
       "      <th>Provider/Company Name</th>\n",
       "      <th>sector_Corporate</th>\n",
       "      <th>sector_HigherEd</th>\n",
       "      <th>sector_PreK-12</th>\n",
       "      <th>pri_function_main</th>\n",
       "      <th>pri_function_sub</th>\n",
       "    </tr>\n",
       "  </thead>\n",
       "  <tbody>\n",
       "    <tr>\n",
       "      <th>52</th>\n",
       "      <td>48333</td>\n",
       "      <td>https://hangouts.google.com/</td>\n",
       "      <td>Google Hangouts</td>\n",
       "      <td>Google LLC</td>\n",
       "      <td>1</td>\n",
       "      <td>1</td>\n",
       "      <td>1</td>\n",
       "      <td>CM</td>\n",
       "      <td>Virtual Classroom</td>\n",
       "    </tr>\n",
       "    <tr>\n",
       "      <th>137</th>\n",
       "      <td>32050</td>\n",
       "      <td>https://www.webex.com/</td>\n",
       "      <td>WebEx</td>\n",
       "      <td>Cisco</td>\n",
       "      <td>1</td>\n",
       "      <td>1</td>\n",
       "      <td>1</td>\n",
       "      <td>CM</td>\n",
       "      <td>Virtual Classroom</td>\n",
       "    </tr>\n",
       "    <tr>\n",
       "      <th>193</th>\n",
       "      <td>61945</td>\n",
       "      <td>https://zoom.us/</td>\n",
       "      <td>Zoom</td>\n",
       "      <td>ZOOM VIDEO COMMUNICATIONS, INC.</td>\n",
       "      <td>1</td>\n",
       "      <td>1</td>\n",
       "      <td>1</td>\n",
       "      <td>CM</td>\n",
       "      <td>Virtual Classroom</td>\n",
       "    </tr>\n",
       "    <tr>\n",
       "      <th>215</th>\n",
       "      <td>18982</td>\n",
       "      <td>https://www.gotomeeting.com/</td>\n",
       "      <td>GoToMeeting</td>\n",
       "      <td>LogMeIn</td>\n",
       "      <td>1</td>\n",
       "      <td>1</td>\n",
       "      <td>1</td>\n",
       "      <td>CM</td>\n",
       "      <td>Virtual Classroom</td>\n",
       "    </tr>\n",
       "    <tr>\n",
       "      <th>287</th>\n",
       "      <td>99580</td>\n",
       "      <td>https://loom.com/</td>\n",
       "      <td>Loom - Video Recorder: Screen, Webcam and Mic</td>\n",
       "      <td>Loom, Inc</td>\n",
       "      <td>1</td>\n",
       "      <td>1</td>\n",
       "      <td>1</td>\n",
       "      <td>CM</td>\n",
       "      <td>Virtual Classroom</td>\n",
       "    </tr>\n",
       "    <tr>\n",
       "      <th>345</th>\n",
       "      <td>98845</td>\n",
       "      <td>https://meet.google.com/_meet</td>\n",
       "      <td>Meet</td>\n",
       "      <td>Google LLC</td>\n",
       "      <td>1</td>\n",
       "      <td>1</td>\n",
       "      <td>1</td>\n",
       "      <td>CM</td>\n",
       "      <td>Virtual Classroom</td>\n",
       "    </tr>\n",
       "    <tr>\n",
       "      <th>355</th>\n",
       "      <td>22767</td>\n",
       "      <td>https://apps.apple.com/us/app/zoom-cloud-meeti...</td>\n",
       "      <td>ZOOM Cloud Meetings</td>\n",
       "      <td>ZOOM VIDEO COMMUNICATIONS, INC.</td>\n",
       "      <td>1</td>\n",
       "      <td>1</td>\n",
       "      <td>1</td>\n",
       "      <td>CM</td>\n",
       "      <td>Virtual Classroom</td>\n",
       "    </tr>\n",
       "  </tbody>\n",
       "</table>\n",
       "</div>"
      ],
      "text/plain": [
       "     LP ID                                                URL  \\\n",
       "52   48333                       https://hangouts.google.com/   \n",
       "137  32050                             https://www.webex.com/   \n",
       "193  61945                                   https://zoom.us/   \n",
       "215  18982                       https://www.gotomeeting.com/   \n",
       "287  99580                                  https://loom.com/   \n",
       "345  98845                      https://meet.google.com/_meet   \n",
       "355  22767  https://apps.apple.com/us/app/zoom-cloud-meeti...   \n",
       "\n",
       "                                      Product Name  \\\n",
       "52                                 Google Hangouts   \n",
       "137                                          WebEx   \n",
       "193                                           Zoom   \n",
       "215                                    GoToMeeting   \n",
       "287  Loom - Video Recorder: Screen, Webcam and Mic   \n",
       "345                                           Meet   \n",
       "355                            ZOOM Cloud Meetings   \n",
       "\n",
       "               Provider/Company Name  sector_Corporate  sector_HigherEd  \\\n",
       "52                        Google LLC                 1                1   \n",
       "137                            Cisco                 1                1   \n",
       "193  ZOOM VIDEO COMMUNICATIONS, INC.                 1                1   \n",
       "215                          LogMeIn                 1                1   \n",
       "287                        Loom, Inc                 1                1   \n",
       "345                       Google LLC                 1                1   \n",
       "355  ZOOM VIDEO COMMUNICATIONS, INC.                 1                1   \n",
       "\n",
       "     sector_PreK-12 pri_function_main   pri_function_sub  \n",
       "52                1                CM  Virtual Classroom  \n",
       "137               1                CM  Virtual Classroom  \n",
       "193               1                CM  Virtual Classroom  \n",
       "215               1                CM  Virtual Classroom  \n",
       "287               1                CM  Virtual Classroom  \n",
       "345               1                CM  Virtual Classroom  \n",
       "355               1                CM  Virtual Classroom  "
      ]
     },
     "execution_count": 46,
     "metadata": {},
     "output_type": "execute_result"
    }
   ],
   "source": [
    " products_df[products_df['pri_function_sub'].isin(['Virtual Classroom'])]"
   ]
  },
  {
   "cell_type": "markdown",
   "metadata": {},
   "source": [
    "### 여름 방학 이후  Virtual Classroom의 pct_access는 전염병 초기에 관찰된 대로 더 높은 수준으로 증가다소 일정하게 유지"
   ]
  },
  {
   "cell_type": "code",
   "execution_count": 50,
   "metadata": {
    "execution": {
     "iopub.execute_input": "2021-09-15T02:18:11.521879Z",
     "iopub.status.busy": "2021-09-15T02:18:11.520731Z",
     "iopub.status.idle": "2021-09-15T02:18:26.096495Z",
     "shell.execute_reply": "2021-09-15T02:18:26.095414Z",
     "shell.execute_reply.started": "2021-09-15T02:18:11.521803Z"
    }
   },
   "outputs": [
    {
     "data": {
      "image/png": "[encoded data removed]",
      "text/plain": [
       "<Figure size 1728x432 with 1 Axes>"
      ]
     },
     "metadata": {
      "needs_background": "light"
     },
     "output_type": "display_data"
    },
    {
     "data": {
      "image/png": "[encoded data removed]",
      "text/plain": [
       "<Figure size 1728x432 with 1 Axes>"
      ]
     },
     "metadata": {
      "needs_background": "light"
     },
     "output_type": "display_data"
    }
   ],
   "source": [
    "#  virtual_classroom에 해당하는 LP ID를 찾는다. \n",
    "virtual_classroom_lp_id = products_df[\n",
    "                          products_df.pri_function_sub == 'Virtual Classroom']['LP ID'].unique()\n",
    "\n",
    "# Remove weekends from the dataframe\n",
    "#.weekday() 정수로 요일을 반환합니다. 월요일은 0이고 일요일은 6입니다.\n",
    "engagement['weekday'] = pd.DatetimeIndex(engagement['time']).weekday\n",
    "engagement_without_weekends = engagement[engagement.weekday < 5]\n",
    "\n",
    "# Figure 1\n",
    "f, ax = plt.subplots(nrows=1, ncols=1, figsize=(24, 6))\n",
    "for virtual_classroom_product in virtual_classroom_lp_id:\n",
    "    temp = engagement_without_weekends[\n",
    "            engagement_without_weekends.lp_id == virtual_classroom_product].groupby('time').pct_access.mean().to_frame().reset_index(drop=False)\n",
    "    sns.lineplot(x=temp.time, y=temp.pct_access, \n",
    "                 label=products_df[\n",
    "                 products_df['LP ID'] == virtual_classroom_product]['Product Name'].values[0])\n",
    "plt.legend()\n",
    "plt.show()\n",
    "\n",
    "# Figure 2\n",
    "f, ax = plt.subplots(nrows=1, ncols=1, figsize=(24, 6))\n",
    "for virtual_classroom_product in virtual_classroom_lp_id:\n",
    "    temp = engagement_without_weekends[\n",
    "            engagement_without_weekends.lp_id == virtual_classroom_product].groupby('time').engagement_index.mean().to_frame().reset_index(drop=False)\n",
    "    sns.lineplot(x=temp.time, \n",
    "                 y=temp.engagement_index, \n",
    "                 label=products_df[\n",
    "                     products_df['LP ID'] == virtual_classroom_product]['Product Name'].values[0])\n",
    "plt.legend()\n",
    "plt.show()"
   ]
  },
  {
   "cell_type": "markdown",
   "metadata": {},
   "source": [
    "### ⬆확인된 내용\n",
    "* 홈 스쿨링은 3월 초에 시작\n",
    "* 3월과 7월 사이에 종모양이 있음.\n",
    "* 7월과 8월에는 여름 방학이 있으므로 참석할 수업이 없음.\n",
    "* V 여름 방학 이후 pct_access는 전염병 초기에 관찰된 대로 더 높은 수준으로 증가 다소 일정하게 유지\n",
    "* 연중 내내 pct_access에 몇몇 하락이 모인다. 이는 공휴일 또는 기타 공휴일 가능성이 있음.\n",
    "* V Zoom과 Meet는 가상 교실에서 가장 인기 있는 제품."
   ]
  },
  {
   "cell_type": "markdown",
   "metadata": {},
   "source": []
  },
  {
   "cell_type": "code",
   "execution_count": null,
   "metadata": {},
   "outputs": [],
   "source": []
  }
 ],
 "metadata": {
  "kernelspec": {
   "display_name": "Python 3",
   "language": "python",
   "name": "python3"
  },
  "language_info": {
   "codemirror_mode": {
    "name": "ipython",
    "version": 3
   },
   "file_extension": ".py",
   "mimetype": "text/x-python",
   "name": "python",
   "nbconvert_exporter": "python",
   "pygments_lexer": "ipython3",
   "version": "3.8.5"
  }
 },
 "nbformat": 4,
 "nbformat_minor": 4
}
