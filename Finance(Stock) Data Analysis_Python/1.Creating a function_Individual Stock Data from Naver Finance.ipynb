{
 "cells": [
  {
   "cell_type": "markdown",
   "metadata": {},
   "source": [
    "## Collecting Individual Stock Data from Naver Finance\n",
    "* Data Reference: Naver Finance website"
   ]
  },
  {
   "cell_type": "markdown",
   "metadata": {},
   "source": [
    "## Load library"
   ]
  },
  {
   "cell_type": "code",
   "execution_count": 7,
   "metadata": {},
   "outputs": [],
   "source": [
    "import pandas as pd\n",
    "import numpy as np"
   ]
  },
  {
   "cell_type": "markdown",
   "metadata": {},
   "source": [
    "## Determining the URLs to collect"
   ]
  },
  {
   "cell_type": "code",
   "execution_count": 8,
   "metadata": {},
   "outputs": [],
   "source": [
    "# item_code = \"005930\"\n",
    "# item_name = \"하이브\"\n",
    "# 종목 URL 만들기 #종목코드 # page number\n",
    "url = 'https://finance.naver.com/item/sise_day.nhn?code=005930&page=3'"
   ]
  },
  {
   "cell_type": "markdown",
   "metadata": {},
   "source": [
    "## HTTP request using 'requests'\n",
    "* [Requests: HTTP for Humans™ — Requests documentation](https://requests.readthedocs.io/en/master/)\n",
    "* [Quickstart — Requests documentation # custom-headers](https://requests.readthedocs.io/en/latest/user/quickstart/#custom-headers)"
   ]
  },
  {
   "cell_type": "code",
   "execution_count": 9,
   "metadata": {},
   "outputs": [
    {
     "data": {
      "text/plain": [
       "'2.24.0'"
      ]
     },
     "execution_count": 9,
     "metadata": {},
     "output_type": "execute_result"
    }
   ],
   "source": [
    "import requests\n",
    "requests.__version__"
   ]
  },
  {
   "cell_type": "markdown",
   "metadata": {},
   "source": [
    "## To find the 'table' tag using BeautifulSoup\n",
    "\n",
    "* [Beautiful Soup Documentation — Beautiful Soup 4.9.0 documentation](https://www.crummy.com/software/BeautifulSoup/bs4/doc/)"
   ]
  },
  {
   "cell_type": "code",
   "execution_count": 15,
   "metadata": {},
   "outputs": [],
   "source": [
    "from bs4 import BeautifulSoup as bs\n",
    "# import bs4\n",
    "# bs4.__version__\n",
    "\n",
    "html = bs(response.text, 'lxml')"
   ]
  },
  {
   "cell_type": "code",
   "execution_count": 10,
   "metadata": {},
   "outputs": [
    {
     "data": {
      "text/plain": [
       "2"
      ]
     },
     "execution_count": 10,
     "metadata": {},
     "output_type": "execute_result"
    }
   ],
   "source": [
    "tables = html.select(\"table\")\n",
    "len(tables)"
   ]
  },
  {
   "cell_type": "code",
   "execution_count": 11,
   "metadata": {},
   "outputs": [
    {
     "data": {
      "text/plain": [
       "'4.50.2'"
      ]
     },
     "execution_count": 11,
     "metadata": {},
     "output_type": "execute_result"
    }
   ],
   "source": [
    "import tqdm\n",
    "tqdm.__version__"
   ]
  },
  {
   "cell_type": "markdown",
   "metadata": {},
   "source": [
    "## Data collection with pandas."
   ]
  },
  {
   "cell_type": "code",
   "execution_count": 16,
   "metadata": {
    "scrolled": true
   },
   "outputs": [
    {
     "ename": "ValueError",
     "evalue": "No tables found",
     "output_type": "error",
     "traceback": [
      "\u001b[1;31m---------------------------------------------------------------------------\u001b[0m",
      "\u001b[1;31mValueError\u001b[0m                                Traceback (most recent call last)",
      "\u001b[1;32m<ipython-input-16-20cc96c199fa>\u001b[0m in \u001b[0;36m<module>\u001b[1;34m\u001b[0m\n\u001b[0;32m      5\u001b[0m \u001b[1;31m# table\u001b[0m\u001b[1;33m\u001b[0m\u001b[1;33m\u001b[0m\u001b[1;33m\u001b[0m\u001b[0m\n\u001b[0;32m      6\u001b[0m \u001b[1;33m\u001b[0m\u001b[0m\n\u001b[1;32m----> 7\u001b[1;33m \u001b[0mpd\u001b[0m\u001b[1;33m.\u001b[0m\u001b[0mread_html\u001b[0m\u001b[1;33m(\u001b[0m\u001b[0murl\u001b[0m\u001b[1;33m,\u001b[0m \u001b[0mencoding\u001b[0m \u001b[1;33m=\u001b[0m \u001b[1;34m'cp949'\u001b[0m\u001b[1;33m)\u001b[0m\u001b[1;33m\u001b[0m\u001b[1;33m\u001b[0m\u001b[0m\n\u001b[0m\u001b[0;32m      8\u001b[0m \u001b[1;33m\u001b[0m\u001b[0m\n\u001b[0;32m      9\u001b[0m \u001b[1;31m# 'euc-kr'와 'cp949' 의 차이: euc-kr은 2300자까지만 지원, but 한글은 17072자\u001b[0m\u001b[1;33m\u001b[0m\u001b[1;33m\u001b[0m\u001b[1;33m\u001b[0m\u001b[0m\n",
      "\u001b[1;32m~\\anaconda3\\lib\\site-packages\\pandas\\util\\_decorators.py\u001b[0m in \u001b[0;36mwrapper\u001b[1;34m(*args, **kwargs)\u001b[0m\n\u001b[0;32m    294\u001b[0m                 )\n\u001b[0;32m    295\u001b[0m                 \u001b[0mwarnings\u001b[0m\u001b[1;33m.\u001b[0m\u001b[0mwarn\u001b[0m\u001b[1;33m(\u001b[0m\u001b[0mmsg\u001b[0m\u001b[1;33m,\u001b[0m \u001b[0mFutureWarning\u001b[0m\u001b[1;33m,\u001b[0m \u001b[0mstacklevel\u001b[0m\u001b[1;33m=\u001b[0m\u001b[0mstacklevel\u001b[0m\u001b[1;33m)\u001b[0m\u001b[1;33m\u001b[0m\u001b[1;33m\u001b[0m\u001b[0m\n\u001b[1;32m--> 296\u001b[1;33m             \u001b[1;32mreturn\u001b[0m \u001b[0mfunc\u001b[0m\u001b[1;33m(\u001b[0m\u001b[1;33m*\u001b[0m\u001b[0margs\u001b[0m\u001b[1;33m,\u001b[0m \u001b[1;33m**\u001b[0m\u001b[0mkwargs\u001b[0m\u001b[1;33m)\u001b[0m\u001b[1;33m\u001b[0m\u001b[1;33m\u001b[0m\u001b[0m\n\u001b[0m\u001b[0;32m    297\u001b[0m \u001b[1;33m\u001b[0m\u001b[0m\n\u001b[0;32m    298\u001b[0m         \u001b[1;32mreturn\u001b[0m \u001b[0mwrapper\u001b[0m\u001b[1;33m\u001b[0m\u001b[1;33m\u001b[0m\u001b[0m\n",
      "\u001b[1;32m~\\anaconda3\\lib\\site-packages\\pandas\\io\\html.py\u001b[0m in \u001b[0;36mread_html\u001b[1;34m(io, match, flavor, header, index_col, skiprows, attrs, parse_dates, thousands, encoding, decimal, converters, na_values, keep_default_na, displayed_only)\u001b[0m\n\u001b[0;32m   1084\u001b[0m         )\n\u001b[0;32m   1085\u001b[0m     \u001b[0mvalidate_header_arg\u001b[0m\u001b[1;33m(\u001b[0m\u001b[0mheader\u001b[0m\u001b[1;33m)\u001b[0m\u001b[1;33m\u001b[0m\u001b[1;33m\u001b[0m\u001b[0m\n\u001b[1;32m-> 1086\u001b[1;33m     return _parse(\n\u001b[0m\u001b[0;32m   1087\u001b[0m         \u001b[0mflavor\u001b[0m\u001b[1;33m=\u001b[0m\u001b[0mflavor\u001b[0m\u001b[1;33m,\u001b[0m\u001b[1;33m\u001b[0m\u001b[1;33m\u001b[0m\u001b[0m\n\u001b[0;32m   1088\u001b[0m         \u001b[0mio\u001b[0m\u001b[1;33m=\u001b[0m\u001b[0mio\u001b[0m\u001b[1;33m,\u001b[0m\u001b[1;33m\u001b[0m\u001b[1;33m\u001b[0m\u001b[0m\n",
      "\u001b[1;32m~\\anaconda3\\lib\\site-packages\\pandas\\io\\html.py\u001b[0m in \u001b[0;36m_parse\u001b[1;34m(flavor, io, match, attrs, encoding, displayed_only, **kwargs)\u001b[0m\n\u001b[0;32m    915\u001b[0m             \u001b[1;32mbreak\u001b[0m\u001b[1;33m\u001b[0m\u001b[1;33m\u001b[0m\u001b[0m\n\u001b[0;32m    916\u001b[0m     \u001b[1;32melse\u001b[0m\u001b[1;33m:\u001b[0m\u001b[1;33m\u001b[0m\u001b[1;33m\u001b[0m\u001b[0m\n\u001b[1;32m--> 917\u001b[1;33m         \u001b[1;32mraise\u001b[0m \u001b[0mretained\u001b[0m\u001b[1;33m\u001b[0m\u001b[1;33m\u001b[0m\u001b[0m\n\u001b[0m\u001b[0;32m    918\u001b[0m \u001b[1;33m\u001b[0m\u001b[0m\n\u001b[0;32m    919\u001b[0m     \u001b[0mret\u001b[0m \u001b[1;33m=\u001b[0m \u001b[1;33m[\u001b[0m\u001b[1;33m]\u001b[0m\u001b[1;33m\u001b[0m\u001b[1;33m\u001b[0m\u001b[0m\n",
      "\u001b[1;32m~\\anaconda3\\lib\\site-packages\\pandas\\io\\html.py\u001b[0m in \u001b[0;36m_parse\u001b[1;34m(flavor, io, match, attrs, encoding, displayed_only, **kwargs)\u001b[0m\n\u001b[0;32m    896\u001b[0m \u001b[1;33m\u001b[0m\u001b[0m\n\u001b[0;32m    897\u001b[0m         \u001b[1;32mtry\u001b[0m\u001b[1;33m:\u001b[0m\u001b[1;33m\u001b[0m\u001b[1;33m\u001b[0m\u001b[0m\n\u001b[1;32m--> 898\u001b[1;33m             \u001b[0mtables\u001b[0m \u001b[1;33m=\u001b[0m \u001b[0mp\u001b[0m\u001b[1;33m.\u001b[0m\u001b[0mparse_tables\u001b[0m\u001b[1;33m(\u001b[0m\u001b[1;33m)\u001b[0m\u001b[1;33m\u001b[0m\u001b[1;33m\u001b[0m\u001b[0m\n\u001b[0m\u001b[0;32m    899\u001b[0m         \u001b[1;32mexcept\u001b[0m \u001b[0mValueError\u001b[0m \u001b[1;32mas\u001b[0m \u001b[0mcaught\u001b[0m\u001b[1;33m:\u001b[0m\u001b[1;33m\u001b[0m\u001b[1;33m\u001b[0m\u001b[0m\n\u001b[0;32m    900\u001b[0m             \u001b[1;31m# if `io` is an io-like object, check if it's seekable\u001b[0m\u001b[1;33m\u001b[0m\u001b[1;33m\u001b[0m\u001b[1;33m\u001b[0m\u001b[0m\n",
      "\u001b[1;32m~\\anaconda3\\lib\\site-packages\\pandas\\io\\html.py\u001b[0m in \u001b[0;36mparse_tables\u001b[1;34m(self)\u001b[0m\n\u001b[0;32m    215\u001b[0m         \u001b[0mlist\u001b[0m \u001b[0mof\u001b[0m \u001b[0mparsed\u001b[0m \u001b[1;33m(\u001b[0m\u001b[0mheader\u001b[0m\u001b[1;33m,\u001b[0m \u001b[0mbody\u001b[0m\u001b[1;33m,\u001b[0m \u001b[0mfooter\u001b[0m\u001b[1;33m)\u001b[0m \u001b[0mtuples\u001b[0m \u001b[1;32mfrom\u001b[0m \u001b[0mtables\u001b[0m\u001b[1;33m.\u001b[0m\u001b[1;33m\u001b[0m\u001b[1;33m\u001b[0m\u001b[0m\n\u001b[0;32m    216\u001b[0m         \"\"\"\n\u001b[1;32m--> 217\u001b[1;33m         \u001b[0mtables\u001b[0m \u001b[1;33m=\u001b[0m \u001b[0mself\u001b[0m\u001b[1;33m.\u001b[0m\u001b[0m_parse_tables\u001b[0m\u001b[1;33m(\u001b[0m\u001b[0mself\u001b[0m\u001b[1;33m.\u001b[0m\u001b[0m_build_doc\u001b[0m\u001b[1;33m(\u001b[0m\u001b[1;33m)\u001b[0m\u001b[1;33m,\u001b[0m \u001b[0mself\u001b[0m\u001b[1;33m.\u001b[0m\u001b[0mmatch\u001b[0m\u001b[1;33m,\u001b[0m \u001b[0mself\u001b[0m\u001b[1;33m.\u001b[0m\u001b[0mattrs\u001b[0m\u001b[1;33m)\u001b[0m\u001b[1;33m\u001b[0m\u001b[1;33m\u001b[0m\u001b[0m\n\u001b[0m\u001b[0;32m    218\u001b[0m         \u001b[1;32mreturn\u001b[0m \u001b[1;33m(\u001b[0m\u001b[0mself\u001b[0m\u001b[1;33m.\u001b[0m\u001b[0m_parse_thead_tbody_tfoot\u001b[0m\u001b[1;33m(\u001b[0m\u001b[0mtable\u001b[0m\u001b[1;33m)\u001b[0m \u001b[1;32mfor\u001b[0m \u001b[0mtable\u001b[0m \u001b[1;32min\u001b[0m \u001b[0mtables\u001b[0m\u001b[1;33m)\u001b[0m\u001b[1;33m\u001b[0m\u001b[1;33m\u001b[0m\u001b[0m\n\u001b[0;32m    219\u001b[0m \u001b[1;33m\u001b[0m\u001b[0m\n",
      "\u001b[1;32m~\\anaconda3\\lib\\site-packages\\pandas\\io\\html.py\u001b[0m in \u001b[0;36m_parse_tables\u001b[1;34m(self, doc, match, attrs)\u001b[0m\n\u001b[0;32m    545\u001b[0m \u001b[1;33m\u001b[0m\u001b[0m\n\u001b[0;32m    546\u001b[0m         \u001b[1;32mif\u001b[0m \u001b[1;32mnot\u001b[0m \u001b[0mtables\u001b[0m\u001b[1;33m:\u001b[0m\u001b[1;33m\u001b[0m\u001b[1;33m\u001b[0m\u001b[0m\n\u001b[1;32m--> 547\u001b[1;33m             \u001b[1;32mraise\u001b[0m \u001b[0mValueError\u001b[0m\u001b[1;33m(\u001b[0m\u001b[1;34m\"No tables found\"\u001b[0m\u001b[1;33m)\u001b[0m\u001b[1;33m\u001b[0m\u001b[1;33m\u001b[0m\u001b[0m\n\u001b[0m\u001b[0;32m    548\u001b[0m \u001b[1;33m\u001b[0m\u001b[0m\n\u001b[0;32m    549\u001b[0m         \u001b[0mresult\u001b[0m \u001b[1;33m=\u001b[0m \u001b[1;33m[\u001b[0m\u001b[1;33m]\u001b[0m\u001b[1;33m\u001b[0m\u001b[1;33m\u001b[0m\u001b[0m\n",
      "\u001b[1;31mValueError\u001b[0m: No tables found"
     ]
    }
   ],
   "source": [
    "pd.read_html(url, encoding = 'cp949')"
   ]
  },
  {
   "cell_type": "code",
   "execution_count": 20,
   "metadata": {},
   "outputs": [
    {
     "data": {
      "text/plain": [
       "[            날짜       종가     전일비       시가       고가       저가         거래량\n",
       " 0          NaN      NaN     NaN      NaN      NaN      NaN         NaN\n",
       " 1   2023.04.25  63600.0  1600.0  65300.0  65400.0  63400.0  16193271.0\n",
       " 2   2023.04.24  65200.0   500.0  65300.0  65700.0  64800.0  12986581.0\n",
       " 3   2023.04.21  65700.0   400.0  65800.0  65900.0  65400.0  10538622.0\n",
       " 4   2023.04.20  65300.0   200.0  65100.0  65300.0  64600.0   9501169.0\n",
       " 5   2023.04.19  65500.0   100.0  65500.0  65800.0  65300.0  10255985.0\n",
       " 6          NaN      NaN     NaN      NaN      NaN      NaN         NaN\n",
       " 7          NaN      NaN     NaN      NaN      NaN      NaN         NaN\n",
       " 8          NaN      NaN     NaN      NaN      NaN      NaN         NaN\n",
       " 9   2023.04.18  65600.0   300.0  65900.0  66000.0  64800.0  14802060.0\n",
       " 10  2023.04.17  65300.0   200.0  65000.0  65600.0  64700.0  13486618.0\n",
       " 11  2023.04.14  65100.0  1000.0  66600.0  66600.0  65000.0  16176490.0\n",
       " 12  2023.04.13  66100.0   100.0  65600.0  66100.0  65400.0  15091022.0\n",
       " 13  2023.04.12  66000.0   100.0  65800.0  66200.0  65300.0  15021313.0\n",
       " 14         NaN      NaN     NaN      NaN      NaN      NaN         NaN,\n",
       "    0   1   2   3   4   5   6   7   8   9   10  11  12\n",
       " 0  맨앞   1   2   3   4   5   6   7   8   9  10  다음  맨뒤]"
      ]
     },
     "execution_count": 20,
     "metadata": {},
     "output_type": "execute_result"
    }
   ],
   "source": [
    "table = pd.read_html(str(tables))\n",
    "table"
   ]
  },
  {
   "cell_type": "code",
   "execution_count": 22,
   "metadata": {
    "scrolled": true
   },
   "outputs": [
    {
     "data": {
      "text/html": [
       "<div>\n",
       "<style scoped>\n",
       "    .dataframe tbody tr th:only-of-type {\n",
       "        vertical-align: middle;\n",
       "    }\n",
       "\n",
       "    .dataframe tbody tr th {\n",
       "        vertical-align: top;\n",
       "    }\n",
       "\n",
       "    .dataframe thead th {\n",
       "        text-align: right;\n",
       "    }\n",
       "</style>\n",
       "<table border=\"1\" class=\"dataframe\">\n",
       "  <thead>\n",
       "    <tr style=\"text-align: right;\">\n",
       "      <th></th>\n",
       "      <th>날짜</th>\n",
       "      <th>종가</th>\n",
       "      <th>전일비</th>\n",
       "      <th>시가</th>\n",
       "      <th>고가</th>\n",
       "      <th>저가</th>\n",
       "      <th>거래량</th>\n",
       "    </tr>\n",
       "  </thead>\n",
       "  <tbody>\n",
       "    <tr>\n",
       "      <th>0</th>\n",
       "      <td>NaN</td>\n",
       "      <td>NaN</td>\n",
       "      <td>NaN</td>\n",
       "      <td>NaN</td>\n",
       "      <td>NaN</td>\n",
       "      <td>NaN</td>\n",
       "      <td>NaN</td>\n",
       "    </tr>\n",
       "    <tr>\n",
       "      <th>1</th>\n",
       "      <td>2023.04.25</td>\n",
       "      <td>63600.0</td>\n",
       "      <td>1600.0</td>\n",
       "      <td>65300.0</td>\n",
       "      <td>65400.0</td>\n",
       "      <td>63400.0</td>\n",
       "      <td>16193271.0</td>\n",
       "    </tr>\n",
       "    <tr>\n",
       "      <th>2</th>\n",
       "      <td>2023.04.24</td>\n",
       "      <td>65200.0</td>\n",
       "      <td>500.0</td>\n",
       "      <td>65300.0</td>\n",
       "      <td>65700.0</td>\n",
       "      <td>64800.0</td>\n",
       "      <td>12986581.0</td>\n",
       "    </tr>\n",
       "    <tr>\n",
       "      <th>3</th>\n",
       "      <td>2023.04.21</td>\n",
       "      <td>65700.0</td>\n",
       "      <td>400.0</td>\n",
       "      <td>65800.0</td>\n",
       "      <td>65900.0</td>\n",
       "      <td>65400.0</td>\n",
       "      <td>10538622.0</td>\n",
       "    </tr>\n",
       "    <tr>\n",
       "      <th>4</th>\n",
       "      <td>2023.04.20</td>\n",
       "      <td>65300.0</td>\n",
       "      <td>200.0</td>\n",
       "      <td>65100.0</td>\n",
       "      <td>65300.0</td>\n",
       "      <td>64600.0</td>\n",
       "      <td>9501169.0</td>\n",
       "    </tr>\n",
       "    <tr>\n",
       "      <th>5</th>\n",
       "      <td>2023.04.19</td>\n",
       "      <td>65500.0</td>\n",
       "      <td>100.0</td>\n",
       "      <td>65500.0</td>\n",
       "      <td>65800.0</td>\n",
       "      <td>65300.0</td>\n",
       "      <td>10255985.0</td>\n",
       "    </tr>\n",
       "    <tr>\n",
       "      <th>6</th>\n",
       "      <td>NaN</td>\n",
       "      <td>NaN</td>\n",
       "      <td>NaN</td>\n",
       "      <td>NaN</td>\n",
       "      <td>NaN</td>\n",
       "      <td>NaN</td>\n",
       "      <td>NaN</td>\n",
       "    </tr>\n",
       "    <tr>\n",
       "      <th>7</th>\n",
       "      <td>NaN</td>\n",
       "      <td>NaN</td>\n",
       "      <td>NaN</td>\n",
       "      <td>NaN</td>\n",
       "      <td>NaN</td>\n",
       "      <td>NaN</td>\n",
       "      <td>NaN</td>\n",
       "    </tr>\n",
       "    <tr>\n",
       "      <th>8</th>\n",
       "      <td>NaN</td>\n",
       "      <td>NaN</td>\n",
       "      <td>NaN</td>\n",
       "      <td>NaN</td>\n",
       "      <td>NaN</td>\n",
       "      <td>NaN</td>\n",
       "      <td>NaN</td>\n",
       "    </tr>\n",
       "    <tr>\n",
       "      <th>9</th>\n",
       "      <td>2023.04.18</td>\n",
       "      <td>65600.0</td>\n",
       "      <td>300.0</td>\n",
       "      <td>65900.0</td>\n",
       "      <td>66000.0</td>\n",
       "      <td>64800.0</td>\n",
       "      <td>14802060.0</td>\n",
       "    </tr>\n",
       "    <tr>\n",
       "      <th>10</th>\n",
       "      <td>2023.04.17</td>\n",
       "      <td>65300.0</td>\n",
       "      <td>200.0</td>\n",
       "      <td>65000.0</td>\n",
       "      <td>65600.0</td>\n",
       "      <td>64700.0</td>\n",
       "      <td>13486618.0</td>\n",
       "    </tr>\n",
       "    <tr>\n",
       "      <th>11</th>\n",
       "      <td>2023.04.14</td>\n",
       "      <td>65100.0</td>\n",
       "      <td>1000.0</td>\n",
       "      <td>66600.0</td>\n",
       "      <td>66600.0</td>\n",
       "      <td>65000.0</td>\n",
       "      <td>16176490.0</td>\n",
       "    </tr>\n",
       "    <tr>\n",
       "      <th>12</th>\n",
       "      <td>2023.04.13</td>\n",
       "      <td>66100.0</td>\n",
       "      <td>100.0</td>\n",
       "      <td>65600.0</td>\n",
       "      <td>66100.0</td>\n",
       "      <td>65400.0</td>\n",
       "      <td>15091022.0</td>\n",
       "    </tr>\n",
       "    <tr>\n",
       "      <th>13</th>\n",
       "      <td>2023.04.12</td>\n",
       "      <td>66000.0</td>\n",
       "      <td>100.0</td>\n",
       "      <td>65800.0</td>\n",
       "      <td>66200.0</td>\n",
       "      <td>65300.0</td>\n",
       "      <td>15021313.0</td>\n",
       "    </tr>\n",
       "    <tr>\n",
       "      <th>14</th>\n",
       "      <td>NaN</td>\n",
       "      <td>NaN</td>\n",
       "      <td>NaN</td>\n",
       "      <td>NaN</td>\n",
       "      <td>NaN</td>\n",
       "      <td>NaN</td>\n",
       "      <td>NaN</td>\n",
       "    </tr>\n",
       "  </tbody>\n",
       "</table>\n",
       "</div>"
      ],
      "text/plain": [
       "            날짜       종가     전일비       시가       고가       저가         거래량\n",
       "0          NaN      NaN     NaN      NaN      NaN      NaN         NaN\n",
       "1   2023.04.25  63600.0  1600.0  65300.0  65400.0  63400.0  16193271.0\n",
       "2   2023.04.24  65200.0   500.0  65300.0  65700.0  64800.0  12986581.0\n",
       "3   2023.04.21  65700.0   400.0  65800.0  65900.0  65400.0  10538622.0\n",
       "4   2023.04.20  65300.0   200.0  65100.0  65300.0  64600.0   9501169.0\n",
       "5   2023.04.19  65500.0   100.0  65500.0  65800.0  65300.0  10255985.0\n",
       "6          NaN      NaN     NaN      NaN      NaN      NaN         NaN\n",
       "7          NaN      NaN     NaN      NaN      NaN      NaN         NaN\n",
       "8          NaN      NaN     NaN      NaN      NaN      NaN         NaN\n",
       "9   2023.04.18  65600.0   300.0  65900.0  66000.0  64800.0  14802060.0\n",
       "10  2023.04.17  65300.0   200.0  65000.0  65600.0  64700.0  13486618.0\n",
       "11  2023.04.14  65100.0  1000.0  66600.0  66600.0  65000.0  16176490.0\n",
       "12  2023.04.13  66100.0   100.0  65600.0  66100.0  65400.0  15091022.0\n",
       "13  2023.04.12  66000.0   100.0  65800.0  66200.0  65300.0  15021313.0\n",
       "14         NaN      NaN     NaN      NaN      NaN      NaN         NaN"
      ]
     },
     "execution_count": 22,
     "metadata": {},
     "output_type": "execute_result"
    }
   ],
   "source": [
    "table[0]"
   ]
  },
  {
   "cell_type": "code",
   "execution_count": 32,
   "metadata": {},
   "outputs": [
    {
     "data": {
      "text/html": [
       "<div>\n",
       "<style scoped>\n",
       "    .dataframe tbody tr th:only-of-type {\n",
       "        vertical-align: middle;\n",
       "    }\n",
       "\n",
       "    .dataframe tbody tr th {\n",
       "        vertical-align: top;\n",
       "    }\n",
       "\n",
       "    .dataframe thead th {\n",
       "        text-align: right;\n",
       "    }\n",
       "</style>\n",
       "<table border=\"1\" class=\"dataframe\">\n",
       "  <thead>\n",
       "    <tr style=\"text-align: right;\">\n",
       "      <th></th>\n",
       "      <th>날짜</th>\n",
       "      <th>종가</th>\n",
       "      <th>전일비</th>\n",
       "      <th>시가</th>\n",
       "      <th>고가</th>\n",
       "      <th>저가</th>\n",
       "      <th>거래량</th>\n",
       "    </tr>\n",
       "  </thead>\n",
       "  <tbody>\n",
       "    <tr>\n",
       "      <th>1</th>\n",
       "      <td>2023.04.25</td>\n",
       "      <td>63600.0</td>\n",
       "      <td>1600.0</td>\n",
       "      <td>65300.0</td>\n",
       "      <td>65400.0</td>\n",
       "      <td>63400.0</td>\n",
       "      <td>16193271.0</td>\n",
       "    </tr>\n",
       "    <tr>\n",
       "      <th>2</th>\n",
       "      <td>2023.04.24</td>\n",
       "      <td>65200.0</td>\n",
       "      <td>500.0</td>\n",
       "      <td>65300.0</td>\n",
       "      <td>65700.0</td>\n",
       "      <td>64800.0</td>\n",
       "      <td>12986581.0</td>\n",
       "    </tr>\n",
       "    <tr>\n",
       "      <th>3</th>\n",
       "      <td>2023.04.21</td>\n",
       "      <td>65700.0</td>\n",
       "      <td>400.0</td>\n",
       "      <td>65800.0</td>\n",
       "      <td>65900.0</td>\n",
       "      <td>65400.0</td>\n",
       "      <td>10538622.0</td>\n",
       "    </tr>\n",
       "    <tr>\n",
       "      <th>4</th>\n",
       "      <td>2023.04.20</td>\n",
       "      <td>65300.0</td>\n",
       "      <td>200.0</td>\n",
       "      <td>65100.0</td>\n",
       "      <td>65300.0</td>\n",
       "      <td>64600.0</td>\n",
       "      <td>9501169.0</td>\n",
       "    </tr>\n",
       "    <tr>\n",
       "      <th>5</th>\n",
       "      <td>2023.04.19</td>\n",
       "      <td>65500.0</td>\n",
       "      <td>100.0</td>\n",
       "      <td>65500.0</td>\n",
       "      <td>65800.0</td>\n",
       "      <td>65300.0</td>\n",
       "      <td>10255985.0</td>\n",
       "    </tr>\n",
       "    <tr>\n",
       "      <th>9</th>\n",
       "      <td>2023.04.18</td>\n",
       "      <td>65600.0</td>\n",
       "      <td>300.0</td>\n",
       "      <td>65900.0</td>\n",
       "      <td>66000.0</td>\n",
       "      <td>64800.0</td>\n",
       "      <td>14802060.0</td>\n",
       "    </tr>\n",
       "    <tr>\n",
       "      <th>10</th>\n",
       "      <td>2023.04.17</td>\n",
       "      <td>65300.0</td>\n",
       "      <td>200.0</td>\n",
       "      <td>65000.0</td>\n",
       "      <td>65600.0</td>\n",
       "      <td>64700.0</td>\n",
       "      <td>13486618.0</td>\n",
       "    </tr>\n",
       "    <tr>\n",
       "      <th>11</th>\n",
       "      <td>2023.04.14</td>\n",
       "      <td>65100.0</td>\n",
       "      <td>1000.0</td>\n",
       "      <td>66600.0</td>\n",
       "      <td>66600.0</td>\n",
       "      <td>65000.0</td>\n",
       "      <td>16176490.0</td>\n",
       "    </tr>\n",
       "    <tr>\n",
       "      <th>12</th>\n",
       "      <td>2023.04.13</td>\n",
       "      <td>66100.0</td>\n",
       "      <td>100.0</td>\n",
       "      <td>65600.0</td>\n",
       "      <td>66100.0</td>\n",
       "      <td>65400.0</td>\n",
       "      <td>15091022.0</td>\n",
       "    </tr>\n",
       "    <tr>\n",
       "      <th>13</th>\n",
       "      <td>2023.04.12</td>\n",
       "      <td>66000.0</td>\n",
       "      <td>100.0</td>\n",
       "      <td>65800.0</td>\n",
       "      <td>66200.0</td>\n",
       "      <td>65300.0</td>\n",
       "      <td>15021313.0</td>\n",
       "    </tr>\n",
       "  </tbody>\n",
       "</table>\n",
       "</div>"
      ],
      "text/plain": [
       "            날짜       종가     전일비       시가       고가       저가         거래량\n",
       "1   2023.04.25  63600.0  1600.0  65300.0  65400.0  63400.0  16193271.0\n",
       "2   2023.04.24  65200.0   500.0  65300.0  65700.0  64800.0  12986581.0\n",
       "3   2023.04.21  65700.0   400.0  65800.0  65900.0  65400.0  10538622.0\n",
       "4   2023.04.20  65300.0   200.0  65100.0  65300.0  64600.0   9501169.0\n",
       "5   2023.04.19  65500.0   100.0  65500.0  65800.0  65300.0  10255985.0\n",
       "9   2023.04.18  65600.0   300.0  65900.0  66000.0  64800.0  14802060.0\n",
       "10  2023.04.17  65300.0   200.0  65000.0  65600.0  64700.0  13486618.0\n",
       "11  2023.04.14  65100.0  1000.0  66600.0  66600.0  65000.0  16176490.0\n",
       "12  2023.04.13  66100.0   100.0  65600.0  66100.0  65400.0  15091022.0\n",
       "13  2023.04.12  66000.0   100.0  65800.0  66200.0  65300.0  15021313.0"
      ]
     },
     "execution_count": 32,
     "metadata": {},
     "output_type": "execute_result"
    }
   ],
   "source": [
    "# emoving rows with missing values.\n",
    "temp = table[0].dropna()\n",
    "temp"
   ]
  },
  {
   "cell_type": "markdown",
   "metadata": {},
   "source": [
    "## Creating a function for collecting data on a page-by-page basis."
   ]
  },
  {
   "cell_type": "code",
   "execution_count": 25,
   "metadata": {},
   "outputs": [
    {
     "name": "stdout",
     "output_type": "stream",
     "text": [
      "https://finance.naver.com/item/sise_day.nhn?code=005930&page=3\n"
     ]
    }
   ],
   "source": [
    "print(url)"
   ]
  },
  {
   "cell_type": "code",
   "execution_count": 26,
   "metadata": {},
   "outputs": [
    {
     "data": {
      "text/plain": [
       "{'user-agent': 'Mozilla/5.0 (Windows NT 10.0; Win64; x64) AppleWebKit/537.36 (KHTML, like Gecko) Chrome/91.0.4472.164 Safari/537.36'}"
      ]
     },
     "execution_count": 26,
     "metadata": {},
     "output_type": "execute_result"
    }
   ],
   "source": [
    "headers"
   ]
  },
  {
   "cell_type": "code",
   "execution_count": 27,
   "metadata": {},
   "outputs": [],
   "source": [
    "\n",
    "def get_day_list(item_code, page_no):\n",
    "\n",
    "    url = f\"https://finance.naver.com/item/sise_day.nhn?code={item_code}&page={page_no}\"\n",
    "    headers = {'user-agent': 'Mozilla/5.0 (Windows NT 10.0; Win64; x64) AppleWebKit/537.36 (KHTML, like Gecko) Chrome/91.0.4472.164 Safari/537.36'}\n",
    "    response = requests.get(url, headers = headers)\n",
    "    html = bs(response.text, 'lxml')\n",
    "    tables = html.select(\"table\")\n",
    "    table =  pd.read_html(str(tables))\n",
    "    df_page = table[0].dropna()\n",
    "    return df_page"
   ]
  },
  {
   "cell_type": "code",
   "execution_count": 31,
   "metadata": {},
   "outputs": [
    {
     "data": {
      "text/html": [
       "<div>\n",
       "<style scoped>\n",
       "    .dataframe tbody tr th:only-of-type {\n",
       "        vertical-align: middle;\n",
       "    }\n",
       "\n",
       "    .dataframe tbody tr th {\n",
       "        vertical-align: top;\n",
       "    }\n",
       "\n",
       "    .dataframe thead th {\n",
       "        text-align: right;\n",
       "    }\n",
       "</style>\n",
       "<table border=\"1\" class=\"dataframe\">\n",
       "  <thead>\n",
       "    <tr style=\"text-align: right;\">\n",
       "      <th></th>\n",
       "      <th>날짜</th>\n",
       "      <th>종가</th>\n",
       "      <th>전일비</th>\n",
       "      <th>시가</th>\n",
       "      <th>고가</th>\n",
       "      <th>저가</th>\n",
       "      <th>거래량</th>\n",
       "    </tr>\n",
       "  </thead>\n",
       "  <tbody>\n",
       "    <tr>\n",
       "      <th>1</th>\n",
       "      <td>2022.07.20</td>\n",
       "      <td>184000.0</td>\n",
       "      <td>500.0</td>\n",
       "      <td>185000.0</td>\n",
       "      <td>186500.0</td>\n",
       "      <td>183000.0</td>\n",
       "      <td>242433.0</td>\n",
       "    </tr>\n",
       "    <tr>\n",
       "      <th>2</th>\n",
       "      <td>2022.07.19</td>\n",
       "      <td>183500.0</td>\n",
       "      <td>500.0</td>\n",
       "      <td>184000.0</td>\n",
       "      <td>186500.0</td>\n",
       "      <td>182500.0</td>\n",
       "      <td>223541.0</td>\n",
       "    </tr>\n",
       "    <tr>\n",
       "      <th>3</th>\n",
       "      <td>2022.07.18</td>\n",
       "      <td>183000.0</td>\n",
       "      <td>3500.0</td>\n",
       "      <td>187500.0</td>\n",
       "      <td>187500.0</td>\n",
       "      <td>180000.0</td>\n",
       "      <td>366865.0</td>\n",
       "    </tr>\n",
       "    <tr>\n",
       "      <th>4</th>\n",
       "      <td>2022.07.15</td>\n",
       "      <td>186500.0</td>\n",
       "      <td>2500.0</td>\n",
       "      <td>189500.0</td>\n",
       "      <td>189500.0</td>\n",
       "      <td>183000.0</td>\n",
       "      <td>389861.0</td>\n",
       "    </tr>\n",
       "    <tr>\n",
       "      <th>5</th>\n",
       "      <td>2022.07.14</td>\n",
       "      <td>189000.0</td>\n",
       "      <td>1000.0</td>\n",
       "      <td>190000.0</td>\n",
       "      <td>190500.0</td>\n",
       "      <td>186500.0</td>\n",
       "      <td>420165.0</td>\n",
       "    </tr>\n",
       "    <tr>\n",
       "      <th>9</th>\n",
       "      <td>2022.07.13</td>\n",
       "      <td>190000.0</td>\n",
       "      <td>2500.0</td>\n",
       "      <td>188500.0</td>\n",
       "      <td>193000.0</td>\n",
       "      <td>187500.0</td>\n",
       "      <td>513629.0</td>\n",
       "    </tr>\n",
       "    <tr>\n",
       "      <th>10</th>\n",
       "      <td>2022.07.12</td>\n",
       "      <td>187500.0</td>\n",
       "      <td>1500.0</td>\n",
       "      <td>187500.0</td>\n",
       "      <td>191500.0</td>\n",
       "      <td>185000.0</td>\n",
       "      <td>423296.0</td>\n",
       "    </tr>\n",
       "    <tr>\n",
       "      <th>11</th>\n",
       "      <td>2022.07.11</td>\n",
       "      <td>186000.0</td>\n",
       "      <td>3500.0</td>\n",
       "      <td>181500.0</td>\n",
       "      <td>187500.0</td>\n",
       "      <td>181500.0</td>\n",
       "      <td>344098.0</td>\n",
       "    </tr>\n",
       "    <tr>\n",
       "      <th>12</th>\n",
       "      <td>2022.07.08</td>\n",
       "      <td>182500.0</td>\n",
       "      <td>5000.0</td>\n",
       "      <td>187000.0</td>\n",
       "      <td>187000.0</td>\n",
       "      <td>178500.0</td>\n",
       "      <td>755595.0</td>\n",
       "    </tr>\n",
       "    <tr>\n",
       "      <th>13</th>\n",
       "      <td>2022.07.07</td>\n",
       "      <td>187500.0</td>\n",
       "      <td>1000.0</td>\n",
       "      <td>188000.0</td>\n",
       "      <td>189000.0</td>\n",
       "      <td>184500.0</td>\n",
       "      <td>369149.0</td>\n",
       "    </tr>\n",
       "  </tbody>\n",
       "</table>\n",
       "</div>"
      ],
      "text/plain": [
       "            날짜        종가     전일비        시가        고가        저가       거래량\n",
       "1   2022.07.20  184000.0   500.0  185000.0  186500.0  183000.0  242433.0\n",
       "2   2022.07.19  183500.0   500.0  184000.0  186500.0  182500.0  223541.0\n",
       "3   2022.07.18  183000.0  3500.0  187500.0  187500.0  180000.0  366865.0\n",
       "4   2022.07.15  186500.0  2500.0  189500.0  189500.0  183000.0  389861.0\n",
       "5   2022.07.14  189000.0  1000.0  190000.0  190500.0  186500.0  420165.0\n",
       "9   2022.07.13  190000.0  2500.0  188500.0  193000.0  187500.0  513629.0\n",
       "10  2022.07.12  187500.0  1500.0  187500.0  191500.0  185000.0  423296.0\n",
       "11  2022.07.11  186000.0  3500.0  181500.0  187500.0  181500.0  344098.0\n",
       "12  2022.07.08  182500.0  5000.0  187000.0  187000.0  178500.0  755595.0\n",
       "13  2022.07.07  187500.0  1000.0  188000.0  189000.0  184500.0  369149.0"
      ]
     },
     "execution_count": 31,
     "metadata": {},
     "output_type": "execute_result"
    }
   ],
   "source": [
    "\n",
    "page_no = 22\n",
    "item_code = '068270'\n",
    "get_day_list(item_code, page_no)"
   ]
  },
  {
   "cell_type": "markdown",
   "metadata": {},
   "source": [
    "## Collecting complete date data using a loop.\n",
    "* (Caution) When collecting data over a long period, please use time.sleep() to avoid overloading the server."
   ]
  },
  {
   "cell_type": "code",
   "execution_count": 47,
   "metadata": {},
   "outputs": [
    {
     "data": {
      "text/plain": [
       "[            날짜        종가     전일비        시가        고가        저가       거래량\n",
       " 1   2023.05.25  173100.0  5900.0  178100.0  179000.0  173100.0  567187.0\n",
       " 2   2023.05.24  179000.0   500.0  179100.0  180900.0  177500.0  454223.0\n",
       " 3   2023.05.23  179500.0  1600.0  178400.0  180000.0  177500.0  348447.0\n",
       " 4   2023.05.22  177900.0  4000.0  174000.0  179400.0  174000.0  511523.0\n",
       " 5   2023.05.19  173900.0  1800.0  172100.0  174400.0  170800.0  383940.0\n",
       " 9   2023.05.18  172100.0   300.0  171900.0  174500.0  170600.0  339923.0\n",
       " 10  2023.05.17  171800.0  3700.0  167500.0  171900.0  167500.0  326890.0\n",
       " 11  2023.05.16  168100.0   500.0  168000.0  171000.0  167600.0  285565.0\n",
       " 12  2023.05.15  168600.0  2000.0  165500.0  170400.0  164500.0  403134.0\n",
       " 13  2023.05.12  166600.0  2000.0  167800.0  169800.0  166400.0  301870.0,\n",
       "             날짜        종가     전일비        시가        고가        저가        거래량\n",
       " 1   2023.05.11  168600.0   400.0  170000.0  170800.0  167200.0   390534.0\n",
       " 2   2023.05.10  169000.0  2800.0  171700.0  171800.0  168500.0   359298.0\n",
       " 3   2023.05.09  171800.0  9400.0  165900.0  173700.0  165800.0  1127696.0\n",
       " 4   2023.05.08  162400.0   600.0  163800.0  166000.0  162300.0   339420.0\n",
       " 5   2023.05.04  163000.0  4000.0  158200.0  163600.0  158000.0   431607.0\n",
       " 9   2023.05.03  159000.0  1400.0  157100.0  159500.0  153800.0   427626.0\n",
       " 10  2023.05.02  160400.0   200.0  160700.0  161400.0  159100.0   341539.0\n",
       " 11  2023.04.28  160600.0  2600.0  163200.0  165600.0  160200.0   468091.0\n",
       " 12  2023.04.27  163200.0  2300.0  164500.0  165000.0  161600.0   387901.0\n",
       " 13  2023.04.26  165500.0   100.0  165400.0  166900.0  164000.0   271855.0,\n",
       "             날짜        종가     전일비        시가        고가        저가        거래량\n",
       " 1   2023.04.25  165400.0  1100.0  167500.0  170000.0  164400.0   413710.0\n",
       " 2   2023.04.24  166500.0  1700.0  167500.0  169000.0  165900.0   313818.0\n",
       " 3   2023.04.21  168200.0   300.0  167500.0  170500.0  167200.0   347219.0\n",
       " 4   2023.04.20  167900.0  2400.0  171000.0  172900.0  167300.0   442779.0\n",
       " 5   2023.04.19  170300.0   700.0  170800.0  173400.0  169400.0   381718.0\n",
       " 9   2023.04.18  171000.0  4500.0  173700.0  175900.0  170600.0   645282.0\n",
       " 10  2023.04.17  175500.0   300.0  177900.0  177900.0  175000.0   464469.0\n",
       " 11  2023.04.14  175800.0  4000.0  178900.0  180800.0  175200.0   661136.0\n",
       " 12  2023.04.13  179800.0  1000.0  180200.0  184100.0  177700.0  1104388.0\n",
       " 13  2023.04.12  178800.0  8000.0  171500.0  179800.0  170000.0  1362887.0,\n",
       "             날짜        종가     전일비        시가        고가        저가        거래량\n",
       " 1   2023.04.11  170800.0  6900.0  163900.0  172300.0  162500.0  1123744.0\n",
       " 2   2023.04.10  163900.0  4400.0  159600.0  164900.0  159300.0   697393.0\n",
       " 3   2023.04.07  159500.0     0.0  160400.0  161000.0  158100.0   364832.0\n",
       " 4   2023.04.06  159500.0   900.0  160900.0  163000.0  159200.0   727285.0\n",
       " 5   2023.04.05  158600.0   400.0  159300.0  163000.0  157500.0   713779.0\n",
       " 9   2023.04.04  159000.0  9000.0  150000.0  159100.0  149400.0  1013981.0\n",
       " 10  2023.04.03  150000.0   200.0  151400.0  154300.0  149700.0   675050.0\n",
       " 11  2023.03.31  149800.0  1200.0  149000.0  150500.0  148600.0   360499.0\n",
       " 12  2023.03.30  148600.0  1900.0  150600.0  151200.0  148200.0   571909.0\n",
       " 13  2023.03.29  150500.0   700.0  152200.0  153100.0  149500.0   522536.0,\n",
       "             날짜        종가     전일비        시가        고가        저가       거래량\n",
       " 1   2023.03.28  151200.0  7400.0  159100.0  159800.0  150400.0  901079.0\n",
       " 2   2023.03.27  158600.0  5000.0  153600.0  159400.0  151000.0  679992.0\n",
       " 3   2023.03.24  153600.0   900.0  153500.0  156700.0  153100.0  367232.0\n",
       " 4   2023.03.23  154500.0  1600.0  155900.0  156000.0  153500.0  395821.0\n",
       " 5   2023.03.22  156100.0   100.0  156800.0  157200.0  155100.0  289918.0\n",
       " 9   2023.03.21  156000.0  1900.0  158100.0  159400.0  155200.0  333364.0\n",
       " 10  2023.03.20  157900.0  1400.0  156900.0  160500.0  156900.0  418037.0\n",
       " 11  2023.03.17  156500.0  4900.0  152600.0  157100.0  151700.0  619666.0\n",
       " 12  2023.03.16  151600.0   400.0  150000.0  152400.0  147500.0  340066.0\n",
       " 13  2023.03.15  151200.0   300.0  152800.0  153500.0  150000.0  317958.0,\n",
       "             날짜        종가     전일비        시가        고가        저가        거래량\n",
       " 1   2023.03.14  150900.0  4500.0  153500.0  156200.0  150900.0   462108.0\n",
       " 2   2023.03.13  155400.0   700.0  154200.0  156400.0  151300.0   414435.0\n",
       " 3   2023.03.10  154700.0  2500.0  155000.0  156500.0  153200.0   459565.0\n",
       " 4   2023.03.09  157200.0  2900.0  155800.0  158200.0  153800.0   765655.0\n",
       " 5   2023.03.08  154300.0  1100.0  153800.0  158800.0  152000.0   903712.0\n",
       " 9   2023.03.07  155400.0  3600.0  151900.0  158700.0  151200.0  1156965.0\n",
       " 10  2023.03.06  151800.0  1200.0  152900.0  154000.0  149100.0   791350.0\n",
       " 11  2023.03.03  150600.0  6900.0  144000.0  154600.0  144000.0  1467217.0\n",
       " 12  2023.03.02  143700.0  1500.0  144900.0  145800.0  142500.0   575951.0\n",
       " 13  2023.02.28  145200.0   800.0  145900.0  147400.0  144700.0   737854.0,\n",
       "             날짜        종가     전일비        시가        고가        저가       거래량\n",
       " 1   2023.02.27  146000.0  3300.0  147800.0  148300.0  145200.0  481473.0\n",
       " 2   2023.02.24  149300.0   300.0  149000.0  149800.0  147400.0  484252.0\n",
       " 3   2023.02.23  149000.0     0.0  149300.0  150300.0  148500.0  487140.0\n",
       " 4   2023.02.22  149000.0  5800.0  152500.0  152800.0  148500.0  932833.0\n",
       " 5   2023.02.21  154800.0  2200.0  157600.0  157700.0  153900.0  415054.0\n",
       " 9   2023.02.20  157000.0  2300.0  154400.0  157700.0  153100.0  445422.0\n",
       " 10  2023.02.17  154700.0  2600.0  156000.0  156100.0  154300.0  408825.0\n",
       " 11  2023.02.16  157300.0   700.0  157000.0  158600.0  156400.0  466816.0\n",
       " 12  2023.02.15  156600.0  4800.0  161200.0  161600.0  156500.0  620564.0\n",
       " 13  2023.02.14  161400.0   300.0  161900.0  162300.0  160400.0  346673.0,\n",
       "             날짜        종가     전일비        시가        고가        저가       거래량\n",
       " 1   2023.02.13  161100.0  1300.0  162000.0  162200.0  160000.0  386779.0\n",
       " 2   2023.02.10  162400.0  3200.0  164500.0  164600.0  161900.0  428930.0\n",
       " 3   2023.02.09  165600.0  1400.0  166200.0  166800.0  165000.0  368888.0\n",
       " 4   2023.02.08  167000.0   600.0  167000.0  168400.0  166500.0  238941.0\n",
       " 5   2023.02.07  166400.0   100.0  165900.0  168800.0  165900.0  284848.0\n",
       " 9   2023.02.06  166300.0  2800.0  168800.0  169600.0  166300.0  332938.0\n",
       " 10  2023.02.03  169100.0   300.0  168400.0  169800.0  167400.0  264225.0\n",
       " 11  2023.02.02  169400.0   400.0  172000.0  172000.0  167200.0  472038.0\n",
       " 12  2023.02.01  169800.0  8200.0  161700.0  170200.0  161200.0  693790.0\n",
       " 13  2023.01.31  161600.0  2100.0  163000.0  164000.0  161100.0  403867.0,\n",
       "             날짜        종가     전일비        시가        고가        저가       거래량\n",
       " 1   2023.01.30  163700.0  3100.0  167000.0  168900.0  163700.0  331470.0\n",
       " 2   2023.01.27  166800.0  1500.0  165700.0  167500.0  164600.0  336316.0\n",
       " 3   2023.01.26  165300.0   800.0  164100.0  165300.0  163300.0  304929.0\n",
       " 4   2023.01.25  164500.0  2000.0  163000.0  165300.0  163000.0  200722.0\n",
       " 5   2023.01.20  162500.0  1500.0  163500.0  164000.0  161500.0  242051.0\n",
       " 9   2023.01.19  164000.0     0.0  162500.0  166000.0  162000.0  195569.0\n",
       " 10  2023.01.18  164000.0   500.0  163500.0  164500.0  162000.0  211709.0\n",
       " 11  2023.01.17  163500.0  4500.0  168000.0  168500.0  163000.0  330668.0\n",
       " 12  2023.01.16  168000.0  1000.0  170000.0  170000.0  168000.0  154591.0\n",
       " 13  2023.01.13  169000.0  1000.0  169000.0  172000.0  168500.0  278561.0]"
      ]
     },
     "execution_count": 47,
     "metadata": {},
     "output_type": "execute_result"
    }
   ],
   "source": [
    "# web page Start# End#\n",
    "start_no = 1\n",
    "end_no = 10\n",
    "\n",
    "item_list = []\n",
    "\n",
    "for page_no in range(start_no, end_no): # range(1,10): # page 1-9\n",
    "    temp = get_day_list(item_code, page_no)\n",
    "    item_list.append(temp)\n",
    "item_list"
   ]
  },
  {
   "cell_type": "code",
   "execution_count": 61,
   "metadata": {},
   "outputs": [
    {
     "name": "stdout",
     "output_type": "stream",
     "text": [
      "5\n",
      "10\n",
      "15\n",
      "20\n",
      "25\n",
      "30\n",
      "35\n",
      "40\n",
      "45\n",
      "50\n",
      "55\n",
      "60\n",
      "65\n"
     ]
    }
   ],
   "source": [
    "\n",
    "item_code = '352820'\n",
    "item_name = '하이브'\n",
    "\n",
    "page_no =1\n",
    "\n",
    "while True: \n",
    "    #수집함수\n",
    "    temp =get_day_list(item_code,page_no)\n",
    "    item_list.append(temp)\n",
    "    \n",
    "    #서버에 부담을 주지 않기 위해 시간차를 두고 가져옵니다.\n",
    "    random_time = np.random.uniform(0.1, 0.5)\n",
    "    time.sleep(random_time)\n",
    "    \n",
    "    # 페이지 번호를 하나씩 증가 시키고\n",
    "    page_no = page_no +1\n",
    "    \n",
    "    # 5페이지 단위로 몇 페이지인지를 출력\n",
    "    if page_no % 5 == 0 :\n",
    "        print(page_no)\n",
    "    \n",
    "    # 일별시세는 10개씩 행이 있기 때문에 행이 10개보다 적으면 마지막 페이지로 보고 break\n",
    "    if temp.shape[0] != 10:\n",
    "        break"
   ]
  },
  {
   "cell_type": "markdown",
   "metadata": {},
   "source": [
    "\n",
    "\n",
    "<img src=\"https://pandas.pydata.org/docs/_images/merging_concat_basic.png\">\n",
    "\n",
    "* [Merge, join, concatenate and compare documentation](https://pandas.pydata.org/docs/user_guide/merging.html#merge-join-concatenate-and-compare)"
   ]
  },
  {
   "cell_type": "code",
   "execution_count": 48,
   "metadata": {},
   "outputs": [],
   "source": [
    "\n",
    "df = pd.concat(item_list)  #행이 기본이어서, axis를 따로 안해줘도 됨 "
   ]
  },
  {
   "cell_type": "code",
   "execution_count": 49,
   "metadata": {},
   "outputs": [
    {
     "data": {
      "text/html": [
       "<div>\n",
       "<style scoped>\n",
       "    .dataframe tbody tr th:only-of-type {\n",
       "        vertical-align: middle;\n",
       "    }\n",
       "\n",
       "    .dataframe tbody tr th {\n",
       "        vertical-align: top;\n",
       "    }\n",
       "\n",
       "    .dataframe thead th {\n",
       "        text-align: right;\n",
       "    }\n",
       "</style>\n",
       "<table border=\"1\" class=\"dataframe\">\n",
       "  <thead>\n",
       "    <tr style=\"text-align: right;\">\n",
       "      <th></th>\n",
       "      <th>날짜</th>\n",
       "      <th>종가</th>\n",
       "      <th>전일비</th>\n",
       "      <th>시가</th>\n",
       "      <th>고가</th>\n",
       "      <th>저가</th>\n",
       "      <th>거래량</th>\n",
       "    </tr>\n",
       "  </thead>\n",
       "  <tbody>\n",
       "    <tr>\n",
       "      <th>1</th>\n",
       "      <td>2023.05.25</td>\n",
       "      <td>173100.0</td>\n",
       "      <td>5900.0</td>\n",
       "      <td>178100.0</td>\n",
       "      <td>179000.0</td>\n",
       "      <td>173100.0</td>\n",
       "      <td>567187.0</td>\n",
       "    </tr>\n",
       "    <tr>\n",
       "      <th>2</th>\n",
       "      <td>2023.05.24</td>\n",
       "      <td>179000.0</td>\n",
       "      <td>500.0</td>\n",
       "      <td>179100.0</td>\n",
       "      <td>180900.0</td>\n",
       "      <td>177500.0</td>\n",
       "      <td>454223.0</td>\n",
       "    </tr>\n",
       "    <tr>\n",
       "      <th>3</th>\n",
       "      <td>2023.05.23</td>\n",
       "      <td>179500.0</td>\n",
       "      <td>1600.0</td>\n",
       "      <td>178400.0</td>\n",
       "      <td>180000.0</td>\n",
       "      <td>177500.0</td>\n",
       "      <td>348447.0</td>\n",
       "    </tr>\n",
       "    <tr>\n",
       "      <th>4</th>\n",
       "      <td>2023.05.22</td>\n",
       "      <td>177900.0</td>\n",
       "      <td>4000.0</td>\n",
       "      <td>174000.0</td>\n",
       "      <td>179400.0</td>\n",
       "      <td>174000.0</td>\n",
       "      <td>511523.0</td>\n",
       "    </tr>\n",
       "    <tr>\n",
       "      <th>5</th>\n",
       "      <td>2023.05.19</td>\n",
       "      <td>173900.0</td>\n",
       "      <td>1800.0</td>\n",
       "      <td>172100.0</td>\n",
       "      <td>174400.0</td>\n",
       "      <td>170800.0</td>\n",
       "      <td>383940.0</td>\n",
       "    </tr>\n",
       "  </tbody>\n",
       "</table>\n",
       "</div>"
      ],
      "text/plain": [
       "           날짜        종가     전일비        시가        고가        저가       거래량\n",
       "1  2023.05.25  173100.0  5900.0  178100.0  179000.0  173100.0  567187.0\n",
       "2  2023.05.24  179000.0   500.0  179100.0  180900.0  177500.0  454223.0\n",
       "3  2023.05.23  179500.0  1600.0  178400.0  180000.0  177500.0  348447.0\n",
       "4  2023.05.22  177900.0  4000.0  174000.0  179400.0  174000.0  511523.0\n",
       "5  2023.05.19  173900.0  1800.0  172100.0  174400.0  170800.0  383940.0"
      ]
     },
     "execution_count": 49,
     "metadata": {},
     "output_type": "execute_result"
    }
   ],
   "source": [
    "\n",
    "df.head()"
   ]
  },
  {
   "cell_type": "code",
   "execution_count": 50,
   "metadata": {},
   "outputs": [
    {
     "data": {
      "text/html": [
       "<div>\n",
       "<style scoped>\n",
       "    .dataframe tbody tr th:only-of-type {\n",
       "        vertical-align: middle;\n",
       "    }\n",
       "\n",
       "    .dataframe tbody tr th {\n",
       "        vertical-align: top;\n",
       "    }\n",
       "\n",
       "    .dataframe thead th {\n",
       "        text-align: right;\n",
       "    }\n",
       "</style>\n",
       "<table border=\"1\" class=\"dataframe\">\n",
       "  <thead>\n",
       "    <tr style=\"text-align: right;\">\n",
       "      <th></th>\n",
       "      <th>날짜</th>\n",
       "      <th>종가</th>\n",
       "      <th>전일비</th>\n",
       "      <th>시가</th>\n",
       "      <th>고가</th>\n",
       "      <th>저가</th>\n",
       "      <th>거래량</th>\n",
       "    </tr>\n",
       "  </thead>\n",
       "  <tbody>\n",
       "    <tr>\n",
       "      <th>9</th>\n",
       "      <td>2023.01.19</td>\n",
       "      <td>164000.0</td>\n",
       "      <td>0.0</td>\n",
       "      <td>162500.0</td>\n",
       "      <td>166000.0</td>\n",
       "      <td>162000.0</td>\n",
       "      <td>195569.0</td>\n",
       "    </tr>\n",
       "    <tr>\n",
       "      <th>10</th>\n",
       "      <td>2023.01.18</td>\n",
       "      <td>164000.0</td>\n",
       "      <td>500.0</td>\n",
       "      <td>163500.0</td>\n",
       "      <td>164500.0</td>\n",
       "      <td>162000.0</td>\n",
       "      <td>211709.0</td>\n",
       "    </tr>\n",
       "    <tr>\n",
       "      <th>11</th>\n",
       "      <td>2023.01.17</td>\n",
       "      <td>163500.0</td>\n",
       "      <td>4500.0</td>\n",
       "      <td>168000.0</td>\n",
       "      <td>168500.0</td>\n",
       "      <td>163000.0</td>\n",
       "      <td>330668.0</td>\n",
       "    </tr>\n",
       "    <tr>\n",
       "      <th>12</th>\n",
       "      <td>2023.01.16</td>\n",
       "      <td>168000.0</td>\n",
       "      <td>1000.0</td>\n",
       "      <td>170000.0</td>\n",
       "      <td>170000.0</td>\n",
       "      <td>168000.0</td>\n",
       "      <td>154591.0</td>\n",
       "    </tr>\n",
       "    <tr>\n",
       "      <th>13</th>\n",
       "      <td>2023.01.13</td>\n",
       "      <td>169000.0</td>\n",
       "      <td>1000.0</td>\n",
       "      <td>169000.0</td>\n",
       "      <td>172000.0</td>\n",
       "      <td>168500.0</td>\n",
       "      <td>278561.0</td>\n",
       "    </tr>\n",
       "  </tbody>\n",
       "</table>\n",
       "</div>"
      ],
      "text/plain": [
       "            날짜        종가     전일비        시가        고가        저가       거래량\n",
       "9   2023.01.19  164000.0     0.0  162500.0  166000.0  162000.0  195569.0\n",
       "10  2023.01.18  164000.0   500.0  163500.0  164500.0  162000.0  211709.0\n",
       "11  2023.01.17  163500.0  4500.0  168000.0  168500.0  163000.0  330668.0\n",
       "12  2023.01.16  168000.0  1000.0  170000.0  170000.0  168000.0  154591.0\n",
       "13  2023.01.13  169000.0  1000.0  169000.0  172000.0  168500.0  278561.0"
      ]
     },
     "execution_count": 50,
     "metadata": {},
     "output_type": "execute_result"
    }
   ],
   "source": [
    "df.tail()"
   ]
  },
  {
   "cell_type": "markdown",
   "metadata": {},
   "source": [
    "## Add stock codes and stock names to a DataFrame and create derived variables"
   ]
  },
  {
   "cell_type": "code",
   "execution_count": 51,
   "metadata": {},
   "outputs": [],
   "source": [
    "df[\"종목코드\"] = item_code\n",
    "df[\"종목명\"]= item_name"
   ]
  },
  {
   "cell_type": "code",
   "execution_count": 52,
   "metadata": {},
   "outputs": [
    {
     "data": {
      "text/html": [
       "<div>\n",
       "<style scoped>\n",
       "    .dataframe tbody tr th:only-of-type {\n",
       "        vertical-align: middle;\n",
       "    }\n",
       "\n",
       "    .dataframe tbody tr th {\n",
       "        vertical-align: top;\n",
       "    }\n",
       "\n",
       "    .dataframe thead th {\n",
       "        text-align: right;\n",
       "    }\n",
       "</style>\n",
       "<table border=\"1\" class=\"dataframe\">\n",
       "  <thead>\n",
       "    <tr style=\"text-align: right;\">\n",
       "      <th></th>\n",
       "      <th>날짜</th>\n",
       "      <th>종가</th>\n",
       "      <th>전일비</th>\n",
       "      <th>시가</th>\n",
       "      <th>고가</th>\n",
       "      <th>저가</th>\n",
       "      <th>거래량</th>\n",
       "      <th>종목코드</th>\n",
       "      <th>종목명</th>\n",
       "    </tr>\n",
       "  </thead>\n",
       "  <tbody>\n",
       "    <tr>\n",
       "      <th>1</th>\n",
       "      <td>2023.05.25</td>\n",
       "      <td>173100.0</td>\n",
       "      <td>5900.0</td>\n",
       "      <td>178100.0</td>\n",
       "      <td>179000.0</td>\n",
       "      <td>173100.0</td>\n",
       "      <td>567187.0</td>\n",
       "      <td>068270</td>\n",
       "      <td>SK바이오팜</td>\n",
       "    </tr>\n",
       "    <tr>\n",
       "      <th>2</th>\n",
       "      <td>2023.05.24</td>\n",
       "      <td>179000.0</td>\n",
       "      <td>500.0</td>\n",
       "      <td>179100.0</td>\n",
       "      <td>180900.0</td>\n",
       "      <td>177500.0</td>\n",
       "      <td>454223.0</td>\n",
       "      <td>068270</td>\n",
       "      <td>SK바이오팜</td>\n",
       "    </tr>\n",
       "    <tr>\n",
       "      <th>3</th>\n",
       "      <td>2023.05.23</td>\n",
       "      <td>179500.0</td>\n",
       "      <td>1600.0</td>\n",
       "      <td>178400.0</td>\n",
       "      <td>180000.0</td>\n",
       "      <td>177500.0</td>\n",
       "      <td>348447.0</td>\n",
       "      <td>068270</td>\n",
       "      <td>SK바이오팜</td>\n",
       "    </tr>\n",
       "    <tr>\n",
       "      <th>4</th>\n",
       "      <td>2023.05.22</td>\n",
       "      <td>177900.0</td>\n",
       "      <td>4000.0</td>\n",
       "      <td>174000.0</td>\n",
       "      <td>179400.0</td>\n",
       "      <td>174000.0</td>\n",
       "      <td>511523.0</td>\n",
       "      <td>068270</td>\n",
       "      <td>SK바이오팜</td>\n",
       "    </tr>\n",
       "    <tr>\n",
       "      <th>5</th>\n",
       "      <td>2023.05.19</td>\n",
       "      <td>173900.0</td>\n",
       "      <td>1800.0</td>\n",
       "      <td>172100.0</td>\n",
       "      <td>174400.0</td>\n",
       "      <td>170800.0</td>\n",
       "      <td>383940.0</td>\n",
       "      <td>068270</td>\n",
       "      <td>SK바이오팜</td>\n",
       "    </tr>\n",
       "  </tbody>\n",
       "</table>\n",
       "</div>"
      ],
      "text/plain": [
       "           날짜        종가     전일비        시가        고가        저가       거래량  \\\n",
       "1  2023.05.25  173100.0  5900.0  178100.0  179000.0  173100.0  567187.0   \n",
       "2  2023.05.24  179000.0   500.0  179100.0  180900.0  177500.0  454223.0   \n",
       "3  2023.05.23  179500.0  1600.0  178400.0  180000.0  177500.0  348447.0   \n",
       "4  2023.05.22  177900.0  4000.0  174000.0  179400.0  174000.0  511523.0   \n",
       "5  2023.05.19  173900.0  1800.0  172100.0  174400.0  170800.0  383940.0   \n",
       "\n",
       "     종목코드     종목명  \n",
       "1  068270  SK바이오팜  \n",
       "2  068270  SK바이오팜  \n",
       "3  068270  SK바이오팜  \n",
       "4  068270  SK바이오팜  \n",
       "5  068270  SK바이오팜  "
      ]
     },
     "execution_count": 52,
     "metadata": {},
     "output_type": "execute_result"
    }
   ],
   "source": [
    "df.head()"
   ]
  },
  {
   "cell_type": "markdown",
   "metadata": {},
   "source": [
    "## Change the column order in a DataFrame"
   ]
  },
  {
   "cell_type": "code",
   "execution_count": 54,
   "metadata": {},
   "outputs": [
    {
     "data": {
      "text/plain": [
       "Index(['날짜', '종가', '전일비', '시가', '고가', '저가', '거래량', '종목코드', '종목명'], dtype='object')"
      ]
     },
     "execution_count": 54,
     "metadata": {},
     "output_type": "execute_result"
    }
   ],
   "source": [
    "df.columns"
   ]
  },
  {
   "cell_type": "code",
   "execution_count": 12,
   "metadata": {},
   "outputs": [
    {
     "ename": "NameError",
     "evalue": "name 'df' is not defined",
     "output_type": "error",
     "traceback": [
      "\u001b[1;31m---------------------------------------------------------------------------\u001b[0m",
      "\u001b[1;31mNameError\u001b[0m                                 Traceback (most recent call last)",
      "\u001b[1;32m<ipython-input-12-9744745bb1a0>\u001b[0m in \u001b[0;36m<module>\u001b[1;34m\u001b[0m\n\u001b[0;32m      1\u001b[0m \u001b[1;31m#컬럼 순서를 인덱싱 방법으로 바꿔준다.\u001b[0m\u001b[1;33m\u001b[0m\u001b[1;33m\u001b[0m\u001b[1;33m\u001b[0m\u001b[0m\n\u001b[0;32m      2\u001b[0m \u001b[0mcolKK\u001b[0m \u001b[1;33m=\u001b[0m \u001b[1;33m[\u001b[0m\u001b[1;34m'종목코드'\u001b[0m\u001b[1;33m,\u001b[0m \u001b[1;34m'종목명'\u001b[0m\u001b[1;33m,\u001b[0m\u001b[1;34m'날짜'\u001b[0m\u001b[1;33m,\u001b[0m \u001b[1;34m'종가'\u001b[0m\u001b[1;33m,\u001b[0m \u001b[1;34m'전일비'\u001b[0m\u001b[1;33m,\u001b[0m \u001b[1;34m'시가'\u001b[0m\u001b[1;33m,\u001b[0m \u001b[1;34m'고가'\u001b[0m\u001b[1;33m,\u001b[0m \u001b[1;34m'저가'\u001b[0m\u001b[1;33m,\u001b[0m \u001b[1;34m'거래량'\u001b[0m\u001b[1;33m]\u001b[0m\u001b[1;33m\u001b[0m\u001b[1;33m\u001b[0m\u001b[0m\n\u001b[1;32m----> 3\u001b[1;33m \u001b[0mdf\u001b[0m\u001b[1;33m[\u001b[0m\u001b[0mcolKK\u001b[0m\u001b[1;33m]\u001b[0m\u001b[1;33m\u001b[0m\u001b[1;33m\u001b[0m\u001b[0m\n\u001b[0m",
      "\u001b[1;31mNameError\u001b[0m: name 'df' is not defined"
     ]
    }
   ],
   "source": [
    "#컬럼 순서를 인덱싱 방법으로 바꿔준다.\n",
    "cols = ['종목코드', '종목명','날짜', '종가', '전일비', '시가', '고가', '저가', '거래량']\n",
    "df[cols]\n",
    "\n",
    "# df에 다시 담아주기\n",
    "df=df[cols]\n",
    "\n",
    "df.head()"
   ]
  },
  {
   "cell_type": "markdown",
   "metadata": {},
   "source": [
    "## Removing duplicate data."
   ]
  },
  {
   "cell_type": "code",
   "execution_count": 57,
   "metadata": {},
   "outputs": [
    {
     "name": "stdout",
     "output_type": "stream",
     "text": [
      "(90, 9)\n"
     ]
    },
    {
     "data": {
      "text/plain": [
       "(90, 9)"
      ]
     },
     "execution_count": 57,
     "metadata": {},
     "output_type": "execute_result"
    }
   ],
   "source": [
    "\n",
    "print(df.shape) \n",
    "df = df.drop_duplicates()\n",
    "df.shape "
   ]
  },
  {
   "cell_type": "markdown",
   "metadata": {},
   "source": [
    "## Calculating descriptive statistics"
   ]
  },
  {
   "cell_type": "code",
   "execution_count": 58,
   "metadata": {},
   "outputs": [
    {
     "data": {
      "text/html": [
       "<div>\n",
       "<style scoped>\n",
       "    .dataframe tbody tr th:only-of-type {\n",
       "        vertical-align: middle;\n",
       "    }\n",
       "\n",
       "    .dataframe tbody tr th {\n",
       "        vertical-align: top;\n",
       "    }\n",
       "\n",
       "    .dataframe thead th {\n",
       "        text-align: right;\n",
       "    }\n",
       "</style>\n",
       "<table border=\"1\" class=\"dataframe\">\n",
       "  <thead>\n",
       "    <tr style=\"text-align: right;\">\n",
       "      <th></th>\n",
       "      <th>종가</th>\n",
       "      <th>전일비</th>\n",
       "      <th>시가</th>\n",
       "      <th>고가</th>\n",
       "      <th>저가</th>\n",
       "      <th>거래량</th>\n",
       "    </tr>\n",
       "  </thead>\n",
       "  <tbody>\n",
       "    <tr>\n",
       "      <th>count</th>\n",
       "      <td>90.000000</td>\n",
       "      <td>90.000000</td>\n",
       "      <td>90.000000</td>\n",
       "      <td>90.000000</td>\n",
       "      <td>90.000000</td>\n",
       "      <td>9.000000e+01</td>\n",
       "    </tr>\n",
       "    <tr>\n",
       "      <th>mean</th>\n",
       "      <td>161944.444444</td>\n",
       "      <td>2265.555556</td>\n",
       "      <td>161893.333333</td>\n",
       "      <td>164272.222222</td>\n",
       "      <td>159978.888889</td>\n",
       "      <td>5.036168e+05</td>\n",
       "    </tr>\n",
       "    <tr>\n",
       "      <th>std</th>\n",
       "      <td>8668.904926</td>\n",
       "      <td>2235.774562</td>\n",
       "      <td>8652.151775</td>\n",
       "      <td>8717.978683</td>\n",
       "      <td>8642.766599</td>\n",
       "      <td>2.624248e+05</td>\n",
       "    </tr>\n",
       "    <tr>\n",
       "      <th>min</th>\n",
       "      <td>143700.000000</td>\n",
       "      <td>0.000000</td>\n",
       "      <td>144000.000000</td>\n",
       "      <td>145800.000000</td>\n",
       "      <td>142500.000000</td>\n",
       "      <td>1.545910e+05</td>\n",
       "    </tr>\n",
       "    <tr>\n",
       "      <th>25%</th>\n",
       "      <td>155400.000000</td>\n",
       "      <td>600.000000</td>\n",
       "      <td>154550.000000</td>\n",
       "      <td>157700.000000</td>\n",
       "      <td>153100.000000</td>\n",
       "      <td>3.395458e+05</td>\n",
       "    </tr>\n",
       "    <tr>\n",
       "      <th>50%</th>\n",
       "      <td>162450.000000</td>\n",
       "      <td>1500.000000</td>\n",
       "      <td>162750.000000</td>\n",
       "      <td>164550.000000</td>\n",
       "      <td>161150.000000</td>\n",
       "      <td>4.147445e+05</td>\n",
       "    </tr>\n",
       "    <tr>\n",
       "      <th>75%</th>\n",
       "      <td>168175.000000</td>\n",
       "      <td>3175.000000</td>\n",
       "      <td>167725.000000</td>\n",
       "      <td>170350.000000</td>\n",
       "      <td>166475.000000</td>\n",
       "      <td>6.087372e+05</td>\n",
       "    </tr>\n",
       "    <tr>\n",
       "      <th>max</th>\n",
       "      <td>179800.000000</td>\n",
       "      <td>9400.000000</td>\n",
       "      <td>180200.000000</td>\n",
       "      <td>184100.000000</td>\n",
       "      <td>177700.000000</td>\n",
       "      <td>1.467217e+06</td>\n",
       "    </tr>\n",
       "  </tbody>\n",
       "</table>\n",
       "</div>"
      ],
      "text/plain": [
       "                  종가          전일비             시가             고가  \\\n",
       "count      90.000000    90.000000      90.000000      90.000000   \n",
       "mean   161944.444444  2265.555556  161893.333333  164272.222222   \n",
       "std      8668.904926  2235.774562    8652.151775    8717.978683   \n",
       "min    143700.000000     0.000000  144000.000000  145800.000000   \n",
       "25%    155400.000000   600.000000  154550.000000  157700.000000   \n",
       "50%    162450.000000  1500.000000  162750.000000  164550.000000   \n",
       "75%    168175.000000  3175.000000  167725.000000  170350.000000   \n",
       "max    179800.000000  9400.000000  180200.000000  184100.000000   \n",
       "\n",
       "                  저가           거래량  \n",
       "count      90.000000  9.000000e+01  \n",
       "mean   159978.888889  5.036168e+05  \n",
       "std      8642.766599  2.624248e+05  \n",
       "min    142500.000000  1.545910e+05  \n",
       "25%    153100.000000  3.395458e+05  \n",
       "50%    161150.000000  4.147445e+05  \n",
       "75%    166475.000000  6.087372e+05  \n",
       "max    177700.000000  1.467217e+06  "
      ]
     },
     "execution_count": 58,
     "metadata": {},
     "output_type": "execute_result"
    }
   ],
   "source": [
    "\n",
    "df.describe()"
   ]
  },
  {
   "cell_type": "markdown",
   "metadata": {},
   "source": [
    "## Retrieve the most recent date and create a filename using"
   ]
  },
  {
   "cell_type": "code",
   "execution_count": 79,
   "metadata": {},
   "outputs": [
    {
     "data": {
      "text/html": [
       "<div>\n",
       "<style scoped>\n",
       "    .dataframe tbody tr th:only-of-type {\n",
       "        vertical-align: middle;\n",
       "    }\n",
       "\n",
       "    .dataframe tbody tr th {\n",
       "        vertical-align: top;\n",
       "    }\n",
       "\n",
       "    .dataframe thead th {\n",
       "        text-align: right;\n",
       "    }\n",
       "</style>\n",
       "<table border=\"1\" class=\"dataframe\">\n",
       "  <thead>\n",
       "    <tr style=\"text-align: right;\">\n",
       "      <th></th>\n",
       "      <th>날짜</th>\n",
       "      <th>종가</th>\n",
       "      <th>전일비</th>\n",
       "      <th>시가</th>\n",
       "      <th>고가</th>\n",
       "      <th>저가</th>\n",
       "      <th>거래량</th>\n",
       "      <th>종목코드</th>\n",
       "      <th>종목명</th>\n",
       "    </tr>\n",
       "  </thead>\n",
       "  <tbody>\n",
       "    <tr>\n",
       "      <th>1</th>\n",
       "      <td>2021.07.28</td>\n",
       "      <td>262500.0</td>\n",
       "      <td>1000.0</td>\n",
       "      <td>263500.0</td>\n",
       "      <td>265000.0</td>\n",
       "      <td>262000.0</td>\n",
       "      <td>40790.0</td>\n",
       "      <td>352820</td>\n",
       "      <td>하이브</td>\n",
       "    </tr>\n",
       "  </tbody>\n",
       "</table>\n",
       "</div>"
      ],
      "text/plain": [
       "           날짜        종가     전일비        시가        고가        저가      거래량  \\\n",
       "1  2021.07.28  262500.0  1000.0  263500.0  265000.0  262000.0  40790.0   \n",
       "\n",
       "     종목코드  종목명  \n",
       "1  352820  하이브  "
      ]
     },
     "execution_count": 79,
     "metadata": {},
     "output_type": "execute_result"
    }
   ],
   "source": [
    "df.head(1)"
   ]
  },
  {
   "cell_type": "code",
   "execution_count": 81,
   "metadata": {
    "scrolled": true
   },
   "outputs": [
    {
     "data": {
      "text/plain": [
       "'2021.07.28'"
      ]
     },
     "execution_count": 81,
     "metadata": {},
     "output_type": "execute_result"
    }
   ],
   "source": [
    "\n",
    "date = df.iloc[0, 0]\n",
    "date"
   ]
  },
  {
   "cell_type": "code",
   "execution_count": 82,
   "metadata": {},
   "outputs": [
    {
     "data": {
      "text/plain": [
       "'하이브_352820_2021.07.28.csv'"
      ]
     },
     "execution_count": 82,
     "metadata": {},
     "output_type": "execute_result"
    }
   ],
   "source": [
    "\n",
    "file_name = f\"{item_name}_{item_code}_{date}.csv\"\n",
    "file_name"
   ]
  },
  {
   "cell_type": "markdown",
   "metadata": {},
   "source": [
    "## Create a single function that encompasses the entire process"
   ]
  },
  {
   "cell_type": "code",
   "execution_count": 11,
   "metadata": {},
   "outputs": [
    {
     "ename": "IndentationError",
     "evalue": "expected an indented block (<ipython-input-11-82a8c4102368>, line 4)",
     "output_type": "error",
     "traceback": [
      "\u001b[1;36m  File \u001b[1;32m\"<ipython-input-11-82a8c4102368>\"\u001b[1;36m, line \u001b[1;32m4\u001b[0m\n\u001b[1;33m    \"\"\"\u001b[0m\n\u001b[1;37m    ^\u001b[0m\n\u001b[1;31mIndentationError\u001b[0m\u001b[1;31m:\u001b[0m expected an indented block\n"
     ]
    }
   ],
   "source": [
    "\n",
    "def get_day_list(item_code, page_no):\n",
    "\"\"\"\n",
    "일자별 시세를 페이지별로 수집\n",
    "\"\"\" \n",
    "\n",
    "# 반복문\n",
    "# 전처리\n",
    "    df = pd.concat\n",
    "\n",
    "\n",
    "\n",
    "# 파일저장\n",
    "    for page_no in range(start_no,end_no+1):\n",
    "        temp = get_day_list(item_code, page_no)\n",
    "        item_list.append(temp)\n",
    "        \n",
    "    df = pd.concat(item_list)\n",
    "    df['종목코드'] = item_code\n",
    "    df['종목명']= item_name\n",
    "    cols = ['종목코드', '종목명','날짜', '종가', '전일비', '시가', '고가', '저가', '거래량']\n",
    "    df = df[cols]\n",
    "    df = df.drop_duplicates()\n",
    "    file_name = f\"{item_name}_{item_code}_{date}.csv\"\n",
    "    \n",
    "    df.to_csv(file_name, index =False)\n",
    "    "
   ]
  },
  {
   "cell_type": "code",
   "execution_count": null,
   "metadata": {},
   "outputs": [],
   "source": []
  }
 ],
 "metadata": {
  "kernelspec": {
   "display_name": "Python 3",
   "language": "python",
   "name": "python3"
  },
  "language_info": {
   "codemirror_mode": {
    "name": "ipython",
    "version": 3
   },
   "file_extension": ".py",
   "mimetype": "text/x-python",
   "name": "python",
   "nbconvert_exporter": "python",
   "pygments_lexer": "ipython3",
   "version": "3.8.5"
  }
 },
 "nbformat": 4,
 "nbformat_minor": 4
}
