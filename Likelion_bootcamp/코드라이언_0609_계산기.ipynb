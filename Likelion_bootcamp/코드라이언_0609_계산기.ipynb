{
 "cells": [
  {
   "cell_type": "code",
   "execution_count": 18,
   "id": "902dfc8d",
   "metadata": {},
   "outputs": [
    {
     "name": "stdout",
     "output_type": "stream",
     "text": [
      "blue\n",
      "black\n",
      "orange\n"
     ]
    }
   ],
   "source": [
    "class CalFnc2:\n",
    "    def __init__(self, result, color):\n",
    "        self.result = result\n",
    "        self.col = color\n",
    "    def plus(self, num):\n",
    "        self.result += num\n",
    "        return self.result\n",
    "    def sub(self, num):\n",
    "        self.result -= num\n",
    "        return self.result\n",
    "a1 = CalFnc2(3, 'blue')  # 계산기 한대\n",
    "a2 = CalFnc2(3, 'black')  # 계산기 한대\n",
    "a3 = CalFnc2(3, 'orange')  # 계산기 한대\n",
    "print(a1.col)\n",
    "print(a2.col)\n",
    "print(a3.col)"
   ]
  },
  {
   "cell_type": "code",
   "execution_count": 19,
   "id": "359d7658",
   "metadata": {},
   "outputs": [],
   "source": [
    "class CalFnc3:\n",
    "    def __init__(self, result):\n",
    "        self.result = result\n",
    "    def plus(self, num):\n",
    "        self.result += num\n",
    "        return self.result\n",
    "    def sub(self, num):\n",
    "        self.result -= num\n",
    "        return self.result\n",
    "    def div(self, num):\n",
    "        self.result /= num\n",
    "        return self.result"
   ]
  },
  {
   "cell_type": "code",
   "execution_count": 13,
   "id": "8a404e03",
   "metadata": {},
   "outputs": [],
   "source": [
    "class CalFnc3_change(CalFnc3):  # CalFnc3를 상속받음\n",
    "    def __init__(self, result):\n",
    "        self.result = result\n",
    "    def plus(self, num):\n",
    "        self.result += num\n",
    "        return self.result\n",
    "    def sub(self, num):\n",
    "        self.result -= num\n",
    "        return self.result\n",
    "    def mul(self,num):\n",
    "        self.result *= num\n",
    "    def div(self, num):\n",
    "        if num == 0:\n",
    "            return 0\n",
    "        else:\n",
    "            self.result /= num\n",
    "        return self.result"
   ]
  },
  {
   "cell_type": "code",
   "execution_count": 17,
   "id": "115ede3e",
   "metadata": {},
   "outputs": [
    {
     "ename": "NameError",
     "evalue": "name 'CalFnc2_change' is not defined",
     "output_type": "error",
     "traceback": [
      "\u001b[1;31m---------------------------------------------------------------------------\u001b[0m",
      "\u001b[1;31mNameError\u001b[0m                                 Traceback (most recent call last)",
      "\u001b[1;32m<ipython-input-17-f530ea37681d>\u001b[0m in \u001b[0;36m<module>\u001b[1;34m\u001b[0m\n\u001b[0;32m      6\u001b[0m \u001b[1;33m\u001b[0m\u001b[0m\n\u001b[0;32m      7\u001b[0m \u001b[0ma1\u001b[0m \u001b[1;33m=\u001b[0m \u001b[0mCalFnc3_change\u001b[0m\u001b[1;33m(\u001b[0m\u001b[1;36m3\u001b[0m\u001b[1;33m)\u001b[0m  \u001b[1;31m# 계산기 한대\u001b[0m\u001b[1;33m\u001b[0m\u001b[1;33m\u001b[0m\u001b[0m\n\u001b[1;32m----> 8\u001b[1;33m \u001b[0ma2\u001b[0m \u001b[1;33m=\u001b[0m \u001b[0mCalFnc2_change\u001b[0m\u001b[1;33m(\u001b[0m\u001b[1;36m3\u001b[0m\u001b[1;33m)\u001b[0m  \u001b[1;31m# 계산기 한대\u001b[0m\u001b[1;33m\u001b[0m\u001b[1;33m\u001b[0m\u001b[0m\n\u001b[0m\u001b[0;32m      9\u001b[0m \u001b[0ma3\u001b[0m \u001b[1;33m=\u001b[0m \u001b[0mCalFnc2_change\u001b[0m\u001b[1;33m(\u001b[0m\u001b[1;36m3\u001b[0m\u001b[1;33m)\u001b[0m  \u001b[1;31m# 계산기 한대\u001b[0m\u001b[1;33m\u001b[0m\u001b[1;33m\u001b[0m\u001b[0m\n\u001b[0;32m     10\u001b[0m \u001b[1;33m\u001b[0m\u001b[0m\n",
      "\u001b[1;31mNameError\u001b[0m: name 'CalFnc2_change' is not defined"
     ]
    }
   ],
   "source": [
    "# a = CalFnc3_change(0)\n",
    "# tmp = a.plus(5)\n",
    "# tmp1 = a.div(0)\n",
    "# print(tmp1)\n",
    "\n",
    "\n",
    "a1 = CalFnc3_change(3)  # 계산기 한대\n",
    "a2 = CalFnc2_change(3)  # 계산기 한대\n",
    "a3 = CalFnc2_change(3)  # 계산기 한대\n",
    "\n",
    "print(a1.plue(10))\n",
    "print(a1.mul(5))"
   ]
  },
  {
   "cell_type": "code",
   "execution_count": null,
   "id": "3ab67227",
   "metadata": {},
   "outputs": [],
   "source": [
    "## CalFnc3 mul메소드를 추가하고, 새로운 클래스를 만들고(상속)받아서\n",
    "## 이를 실행시켜보자.(3대 계산기)"
   ]
  }
 ],
 "metadata": {
  "kernelspec": {
   "display_name": "Python 3",
   "language": "python",
   "name": "python3"
  },
  "language_info": {
   "codemirror_mode": {
    "name": "ipython",
    "version": 3
   },
   "file_extension": ".py",
   "mimetype": "text/x-python",
   "name": "python",
   "nbconvert_exporter": "python",
   "pygments_lexer": "ipython3",
   "version": "3.8.8"
  }
 },
 "nbformat": 4,
 "nbformat_minor": 5
}
