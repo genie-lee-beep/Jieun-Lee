{
 "cells": [
  {
   "cell_type": "markdown",
   "metadata": {},
   "source": [
    "## Samsung Galaxy Buds Plus, 리뷰 분석 "
   ]
  },
  {
   "cell_type": "markdown",
   "metadata": {},
   "source": [
    " ### 1)웹드라이버에 객체 할당"
   ]
  },
  {
   "cell_type": "code",
   "execution_count": 6,
   "metadata": {},
   "outputs": [
    {
     "data": {
      "text/plain": [
       "<selenium.webdriver.chrome.webdriver.WebDriver (session=\"84537f38a5698827f22086581fc3e680\")>"
      ]
     },
     "execution_count": 6,
     "metadata": {},
     "output_type": "execute_result"
    }
   ],
   "source": [
    "from selenium import webdriver\n",
    "from bs4 import BeautifulSoup\n",
    "import re  # 정규 표현식 \n",
    "\n",
    "# driver = webdriver.Chrome('./chromedriver_90')\n",
    "driver = webdriver.Chrome('./chromedriver')\n",
    "driver"
   ]
  },
  {
   "cell_type": "code",
   "execution_count": 8,
   "metadata": {},
   "outputs": [],
   "source": [
    "driver = webdriver.Chrome('./chromedriver')\n",
    "url = 'https://www.amazon.com/Samsung-Wireless-improved-Charging-included/dp/B083KVM9VW/ref=sr_1_1_sspa?crid=8VMSO22SRLQA&dchild=1&keywords=galaxy+buds&qid=1624260888&smid=ATVPDKIKX0DER&sprefix=galaxy%2Caps%2C445&sr=8-1-spons&psc=1&spLa=ZW5jcnlwdGVkUXVhbGlmaWVyPUExUUFaQks5SEYzQTcyJmVuY3J5cHRlZElkPUEwMDI3MjM1M0ZWSTUyRUFTTkxYUyZlbmNyeXB0ZWRBZElkPUEwOTgxNzkzMVQ4SE5WRFBUWkQ2RiZ3aWRnZXROYW1lPXNwX2F0ZiZhY3Rpb249Y2xpY2tSZWRpcmVjdCZkb05vdExvZ0NsaWNrPXRydWU='\n",
    "driver.get(url)"
   ]
  },
  {
   "cell_type": "markdown",
   "metadata": {},
   "source": [
    "### 2) 모든 리뷰 페이지 보기 위해 버튼 클릭"
   ]
  },
  {
   "cell_type": "code",
   "execution_count": 9,
   "metadata": {},
   "outputs": [],
   "source": [
    "sel_all_review = driver.find_element_by_xpath('//*[@id=\"cr-pagination-footer-0\"]/a')\n",
    "sel_all_review.click()"
   ]
  },
  {
   "cell_type": "code",
   "execution_count": 10,
   "metadata": {},
   "outputs": [
    {
     "data": {
      "text/plain": [
       "<title>Amazon.com: Customer reviews: Samsung Galaxy Buds Plus, True Wireless Earbuds Bluetooth 5.0 (Wireless Charging Case Included), Black – US Version</title>"
      ]
     },
     "execution_count": 10,
     "metadata": {},
     "output_type": "execute_result"
    }
   ],
   "source": [
    "page = driver.page_source\n",
    "soup = BeautifulSoup(page, 'lxml')\n",
    "soup.title #확인차 한번 입력 "
   ]
  },
  {
   "cell_type": "code",
   "execution_count": 16,
   "metadata": {},
   "outputs": [],
   "source": [
    "### 3) 리뷰 하나 전체 가져오기\n",
    "# all_r = soup.find_all(\"div\", class_=\"a-section celwidget\")\n",
    "# all_r"
   ]
  },
  {
   "cell_type": "markdown",
   "metadata": {},
   "source": [
    "### 4)첫번째 페이지 전체 리뷰 가져오기"
   ]
  },
  {
   "cell_type": "code",
   "execution_count": 12,
   "metadata": {},
   "outputs": [
    {
     "name": "stdout",
     "output_type": "stream",
     "text": [
      "['Amazon Customer', 'Amazon Customer', 'Sam', 'Kat', 'Jose', 'Patrick Von Maryland', 'Melissa', 'Rick N.', 'John @ SFSU', 'KevDread']\n",
      "['1', '1', '5', '5', '5', '5', '5', '5', '5', '1']\n",
      "['March 7, 2020', 'June 23, 2020', 'February 14, 2020', 'February 16, 2020', 'February 20, 2020', 'February 15, 2020', 'February 14, 2020', 'February 15, 2020', 'February 19, 2020', 'February 16, 2020']\n",
      "['Reviewed in the United States', 'Reviewed in the United States', 'Reviewed in the United States', 'Reviewed in the United States', 'Reviewed in the United States', 'Reviewed in the United States', 'Reviewed in the United States', 'Reviewed in the United States', 'Reviewed in the United States', 'Reviewed in the United States']\n",
      "['The \"Find\" feature is simple. All it has to do is beep the earbuds so you can find them. But that\\'s hidden inside the Galaxy Wearable app.In order to beep your earbuds, you have to grant it access to *always on* location, storage on your device, your calendar, call logs, your contacts, the ability to make phone calls, and to send SMS messages. I also had to give it permission to INSTALL APPS on my phone, but since I couldn\\'t find a way to take it back in settings, I assume it went to some Samsung system app somewhere, who knows where.I didn\\'t want to give it these things so I said deny. You know what the app does when you press deny? It just crashes. No graceful handling, they will not let you use the app unless they get your data.I was desperate to find the earbuds, so I said whatever, and pressed OK to the mind numbing number of permissions dialogs. But that\\'s not enough, it STILL won\\'t let you beep your headphones unless you agree to the global Samsung privacy policy. Allow me to paste one small part of what you\\'e agreeing to:*Sale of Personal Information*We may allow certain third parties (such as advertising partners) to collect your personal information.So I gave up at this point, I had no idea it was even possible that buying earbuds could turn into a privacy nightmare, but Samsung made it possible. I just wanted to make the headphones beep, but I\\'ll find them myself instead and return them.', 'I received these earbuds today. To set them up you need to install Samsung\\'s \"Galaxy Wearable\" app. My phone is a Google Pixel 3 (Android) and I installed the app from the Google Play Store. But the app refuses to get past the initial start screen unless you give it permission to access all your contacts, storage and location (see the screenshot). I tried granting it permission to everything except contacts but it just quits and when I start it again it asks for that permission again. Samsung\\'s explanation for the \"Contacts\" permission is this cryptic nonsense:  \"Used to provide services that need to be linked with accounts using registered Samsung account information\"So it basically comes down to this: you either hand over your all contacts to Samsung or you won\\'t be able to use the earbuds you purchased. This looks like a serious disregard for customers\\' privacy and is extremely user-hostile.Without the app, the buds still connect to the phone but only the left bud is working. The right bud is completely silent.I have used other bluetooth earbuds in the past (AirPods, Jaybirds, etc) and none of them ever required permission to contacts, storage or location. I\\'ll be returning the Galaxy Buds+ and look for another option from a different manufacturer.', 'I think shrek is a very adequate movie and i think that you should watch this movie if you are over the age of consent.edit - the earbuds are just about as good as shrek...The earbuds in the 2nd photo have the new rubber on the inside of the case to prevent the scratching as seen on the old earbuds case.Ps. that should be the new display photo for the buds lol', 'iPhone user approves these headphones and in my opinion wayyyy better than the standard AirPods . 👌🏽 Prettier, more discrete, more comfortable less expensive, newer technology. Haven’t tried the AirPods pro but don’t want to bother with those expensive ones when there’s these. LOVE that Samsung gave Apple users more support. You’re able to change around some sound profiles and customize the headset. One of the cool features is the ambient sound which allows you to hear more of yourself and the environment around you. Very useful when you’re out and about shopping yet need to take a call or want to listen to music but still be able to hear people around you. Love this feature. You can toggle it on and off as you needI did have the older versions and can confirm that these are louder and have better call quality. Everyone can hear me clearly and perfectly during long calls. I will update this review if anything goes wrong but I don’t foresee it .They are seriously so pretty love the little glimmery touch pad, reminds me of an opal.', \"I already had the buds and now own the buds+I've made different test with music and recording the microphone and so far they both have the same sound quality.I even played the same song on different devices at the same time using the new ones and the old ones at the same time on on alternate ears.... I must say its the same thing... so if you already have the old ones and dont care about battery life, its seems like it's the same thing to keep the old ones... I might return the new ones, I just want to test both of them on phone calls, that will be the factor that will make me choose if I should keep or return the new ones....4 stars because it seems like they are the same as the old ones, will give 5 if they pass the phone call test later on this week.... will keep you posted... So I tested them out for a couple days now,These have better connectivity, now I can watch movies on my laptop using the headphones and the sound works perfect, battery lasts much longer and now I can finally do phonecalls with them and people can actually hear me.These are great, better than the last ones 10/10 would recommend.Happy shopping!\", 'I have the original Samsung Buds and have 2 phones ;Samsung UI Android and Apple IOS so the new feature of multiple Bluetooth pairings is nice but clumsy.I get into that near bottom of review but this only means pairing ,you can not use these buds on 2 devices at the same time.The fit is exactly the same as the original buds and does a great job for me with passive noise reducing.ANC is earbuds is a bit overrated because your ear is exposed to sounds and there is only so much that will help.Over the ear ANC works ,I tested some buds and it barely makes a difference and could give you a headache.  The overall sound is a big improvement over the original buds and the low end fits up the sound range.Not super bass but a definite improvement overall.The ambient microphone settings are a big improvement.The medium setting is more than enough to hear people talk and the high and sound labs-extra high are like hearing aids.You could hear people talk 20 feet away easily,kinda scary.The battery life is more on the 8-9 hours if you are listening to music all the time.Going down to 11 hours would probably zero out the battery and you wouldn’t want to do that.The new app (the iOS is in my pictures) for the Buds on iOS copies any Sound Lab settings you have set up on the Samsung wearable but you can’t change them just on iOS.I also noticed less difference between Dynamic,treble,bass etc on the iOS app vs. Samsung Wearable.Switching involves disconnecting from one device and connecting to the other.It is easy to disconnect on the Samsung but on the iOS you have to open Bluetooth settings.Now if you are only using one device,the buds automatically connect and disconnect so that isn’t a problem.The buds do want to connect to a Samsung device after starting,but if you are switching it is much easier than before.The touchpad tap options all work ,Spotify has to be open or with a last track playing.Just tapping Spotify didn’t wake the app for me.The Labs double tap for volume on it side works but you really have to hit the edge,too close to the middle and the other function will work (play next track)Call quality is fairly good ,if you are in a crowded place or near loud noises the person you are talking to will hear some of the sounds but not too bad. I like the case feel even through it is shiny,the lid now has a smooth feel and better snap at closing.Overall I highly recommend these to anyone with a Samsung device,these are excellent for the price point.I recommend upgrading if you are a fan of music or use more than one phone regularly.I really recommend the Cloud Blue,nice color and blends with fairer skin people better than white in my opinion.', 'Original buds were good. These are great! Much improved call quality. Music sounds better too with an additional speaker (woofer and tweeter). All day and then some battery life.', 'Charged them up and used them all day till the evening and I gotta say I am so impressed with the battery life of these earbuds. From 9am to 6pm on a full charge using MAX Volume settings, I still had 10% left which is really good compared to all the other Bluetooth earbuds out there, the 11 hours that Samsung advertises is with the volume at 50%.  These Earbuds do not have noise cancelling but with that $150 price tag compared to all the other high $$$ earbuds that do, it’s a good trade off in price point  for the consumer that’s not looking to spend over $200 for some quality wireless earbuds.  The Ambient Sound feature is great when you need be alert of your surroundings when using both earbuds.  I’m using these with my iPhone XR and I downloaded the Galaxy earbuds plus app to customize the settings and features and sound settings within the buds pretty easily.  The Sound is great!! When I’m blasting them on full volume with the ambient sound feature turns off I don’t hear anything else around me other than what’s streaming from my phone.  I have the AirPod Pros and They sound a little better and the noise cancelling is great but is it $100 more great??? IMO no, and where I see the value of these Galaxy buds + over the AirPod Pros is definitely in that Battery life. So it really all comes down to what you value more out of daily use of your earbuds, the AirPod pros can never get me through my workday continuously without having to recharge them every 3-4 but the galaxy buds got me through 9 HOURS continuously and I still had juice left at the end of my workday which is unheard of Bluetooth headset.  If you want to maximize even more battery life, just use one earbud for 8-11 hours straight and when it runs out switch earbuds and get another 8-11 hours while the other bud is charging. To me the Battery life is a game changer and Samsung has just set the standard of what’s possible out of tiny earbud batteries. They have switched me as a daily airpod user to a galaxy bud plus supporter but Android still has a long way to go compared to iOS on the iPhone side of things.', 'These new Samsung Galaxy Buds+ Plus work great.  For those teetering potential buyers out there...PROS:  - comes with three sizes of ear pads  - also comes with interchangeable \"winglet\" type fittings to adjust to your individual ear comfort  - battery lasted about 8h 20m listening to music a moderate level  - the charging case is glossy smooth and has a nice weight to it giving it a premium feel  - EXCELLENT sound that also allows external noise in for you to hear  - Bluetooth range is good: still connected when phone was in the back of the house and I was in the driveway  - You can make them beep if you lose them  - Easy to learn gesture controls: one tap, two taps, three taps, etc...  - Galaxy Wearable app is user-friendlyCONS:  - You need to download the Galaxy Wear app to get the most benefits  - Wearing them feels a bit awkward at first because of their noticeable weight  - The $149.99 price tagHope this helps...', \"My new daily drivers ahead of my Liberty Soundcore 2s. At first I was going to return these because they sound really low paired to my Galaxy S9 and they seemed not to pair to my iPhone 8. After watching Flossy’s video, I left them a bad review and then I watched Noah Herman’s video on how to pair them to my iPhone. Now I’m stoked. They work fine and sound much louder connected to that iPhone. I’m happy with my purchase and I highly recommend them. I never had the originals so I cannot compare them. I like the liberties but these are the truth. A+ AirPod killers.Update :After only one week of pretty light use, they stopped connecting to each other and will only work one or the other... Not together.. I'm kinda teed off because for 150 bucks + tax I really  expected more. I'm sending them (actually taking them) back and I'm going back to my Soundcore's. These are off of my list. I really tried but at this point it's a hard NO! SAMSUNG needs to get it together.✊🏿\"]\n"
     ]
    }
   ],
   "source": [
    "# 첫번째 페이지에 대한 것 \n",
    "\n",
    "all_user = []    # 사용자\n",
    "all_ratings = [] # 평점\n",
    "all_dates = []   # 날짜\n",
    "all_countries = [] #지역\n",
    "all_reviews = [] # 리뷰\n",
    "\n",
    "for one in all_r:  \n",
    "    user_one = one.find(\"span\", class_=\"a-profile-name\").text\n",
    "    all_user.append(user_one)  # 사용자 추가\n",
    "    \n",
    "    rating_one = one.find(\"span\", class_=\"a-icon-alt\").text\n",
    "    nums = re.findall(\"\\d+\", rating_one)[0]  #정규 표현식 re.findall(pattern,string) / \\d+  는 리스트 안에서 숫자를  하나씩 가져오는 것\n",
    "    all_ratings.append(nums)   # 평점 추가\n",
    "    \n",
    "    #Reviewed in the United States on March 5, 2021\n",
    "    \n",
    "    date_one = one.find(\"span\", class_=\"a-size-base a-color-secondary review-date\")\n",
    "    texts = date_one.text.split(\"on\")\n",
    "    data = texts[1].strip() #S trip은 공백 제거>> split 하면 앞 혹은 뒤의 값에 공백이 생겨버리니까.\n",
    "    all_dates.append(data)# 날짜 추가\n",
    "    \n",
    "    country_one = one.find(\"span\", class_=\"a-size-base a-color-secondary review-date\")\n",
    "    country_text = country_one.text.split(\"on\") #split()은 특정 키워드를 기준으로 텍스트를 나눔\n",
    "    country = country_text[0].strip()\n",
    "    all_countries.append(country)# 지역 추가\n",
    "    \n",
    "    \n",
    "    review_one = one.find(\"div\", class_=\"a-row a-spacing-small review-data\")\n",
    "    tmp = review_one.text\n",
    "    review = tmp.strip()\n",
    "    all_reviews.append(review)# 리뷰 추가\n",
    "    \n",
    "print(all_user)\n",
    "print(all_ratings)\n",
    "print(all_dates)\n",
    "print(all_countries )\n",
    "print(all_reviews)"
   ]
  },
  {
   "cell_type": "markdown",
   "metadata": {},
   "source": [
    "### 5) 디렉토리에 담기"
   ]
  },
  {
   "cell_type": "code",
   "execution_count": 13,
   "metadata": {},
   "outputs": [],
   "source": [
    "import pandas as pd "
   ]
  },
  {
   "cell_type": "code",
   "execution_count": 14,
   "metadata": {},
   "outputs": [
    {
     "data": {
      "text/html": [
       "<div>\n",
       "<style scoped>\n",
       "    .dataframe tbody tr th:only-of-type {\n",
       "        vertical-align: middle;\n",
       "    }\n",
       "\n",
       "    .dataframe tbody tr th {\n",
       "        vertical-align: top;\n",
       "    }\n",
       "\n",
       "    .dataframe thead th {\n",
       "        text-align: right;\n",
       "    }\n",
       "</style>\n",
       "<table border=\"1\" class=\"dataframe\">\n",
       "  <thead>\n",
       "    <tr style=\"text-align: right;\">\n",
       "      <th></th>\n",
       "      <th>user</th>\n",
       "      <th>rating</th>\n",
       "      <th>date</th>\n",
       "      <th>country</th>\n",
       "      <th>review</th>\n",
       "    </tr>\n",
       "  </thead>\n",
       "  <tbody>\n",
       "    <tr>\n",
       "      <th>0</th>\n",
       "      <td>Amazon Customer</td>\n",
       "      <td>1</td>\n",
       "      <td>March 7, 2020</td>\n",
       "      <td>Reviewed in the United States</td>\n",
       "      <td>The \"Find\" feature is simple. All it has to do...</td>\n",
       "    </tr>\n",
       "    <tr>\n",
       "      <th>1</th>\n",
       "      <td>Amazon Customer</td>\n",
       "      <td>1</td>\n",
       "      <td>June 23, 2020</td>\n",
       "      <td>Reviewed in the United States</td>\n",
       "      <td>I received these earbuds today. To set them up...</td>\n",
       "    </tr>\n",
       "    <tr>\n",
       "      <th>2</th>\n",
       "      <td>Sam</td>\n",
       "      <td>5</td>\n",
       "      <td>February 14, 2020</td>\n",
       "      <td>Reviewed in the United States</td>\n",
       "      <td>I think shrek is a very adequate movie and i t...</td>\n",
       "    </tr>\n",
       "    <tr>\n",
       "      <th>3</th>\n",
       "      <td>Kat</td>\n",
       "      <td>5</td>\n",
       "      <td>February 16, 2020</td>\n",
       "      <td>Reviewed in the United States</td>\n",
       "      <td>iPhone user approves these headphones and in m...</td>\n",
       "    </tr>\n",
       "    <tr>\n",
       "      <th>4</th>\n",
       "      <td>Jose</td>\n",
       "      <td>5</td>\n",
       "      <td>February 20, 2020</td>\n",
       "      <td>Reviewed in the United States</td>\n",
       "      <td>I already had the buds and now own the buds+I'...</td>\n",
       "    </tr>\n",
       "    <tr>\n",
       "      <th>5</th>\n",
       "      <td>Patrick Von Maryland</td>\n",
       "      <td>5</td>\n",
       "      <td>February 15, 2020</td>\n",
       "      <td>Reviewed in the United States</td>\n",
       "      <td>I have the original Samsung Buds and have 2 ph...</td>\n",
       "    </tr>\n",
       "    <tr>\n",
       "      <th>6</th>\n",
       "      <td>Melissa</td>\n",
       "      <td>5</td>\n",
       "      <td>February 14, 2020</td>\n",
       "      <td>Reviewed in the United States</td>\n",
       "      <td>Original buds were good. These are great! Much...</td>\n",
       "    </tr>\n",
       "    <tr>\n",
       "      <th>7</th>\n",
       "      <td>Rick N.</td>\n",
       "      <td>5</td>\n",
       "      <td>February 15, 2020</td>\n",
       "      <td>Reviewed in the United States</td>\n",
       "      <td>Charged them up and used them all day till the...</td>\n",
       "    </tr>\n",
       "    <tr>\n",
       "      <th>8</th>\n",
       "      <td>John @ SFSU</td>\n",
       "      <td>5</td>\n",
       "      <td>February 19, 2020</td>\n",
       "      <td>Reviewed in the United States</td>\n",
       "      <td>These new Samsung Galaxy Buds+ Plus work great...</td>\n",
       "    </tr>\n",
       "    <tr>\n",
       "      <th>9</th>\n",
       "      <td>KevDread</td>\n",
       "      <td>1</td>\n",
       "      <td>February 16, 2020</td>\n",
       "      <td>Reviewed in the United States</td>\n",
       "      <td>My new daily drivers ahead of my Liberty Sound...</td>\n",
       "    </tr>\n",
       "  </tbody>\n",
       "</table>\n",
       "</div>"
      ],
      "text/plain": [
       "                   user rating               date  \\\n",
       "0       Amazon Customer      1      March 7, 2020   \n",
       "1       Amazon Customer      1      June 23, 2020   \n",
       "2                   Sam      5  February 14, 2020   \n",
       "3                   Kat      5  February 16, 2020   \n",
       "4                  Jose      5  February 20, 2020   \n",
       "5  Patrick Von Maryland      5  February 15, 2020   \n",
       "6               Melissa      5  February 14, 2020   \n",
       "7               Rick N.      5  February 15, 2020   \n",
       "8           John @ SFSU      5  February 19, 2020   \n",
       "9              KevDread      1  February 16, 2020   \n",
       "\n",
       "                         country  \\\n",
       "0  Reviewed in the United States   \n",
       "1  Reviewed in the United States   \n",
       "2  Reviewed in the United States   \n",
       "3  Reviewed in the United States   \n",
       "4  Reviewed in the United States   \n",
       "5  Reviewed in the United States   \n",
       "6  Reviewed in the United States   \n",
       "7  Reviewed in the United States   \n",
       "8  Reviewed in the United States   \n",
       "9  Reviewed in the United States   \n",
       "\n",
       "                                              review  \n",
       "0  The \"Find\" feature is simple. All it has to do...  \n",
       "1  I received these earbuds today. To set them up...  \n",
       "2  I think shrek is a very adequate movie and i t...  \n",
       "3  iPhone user approves these headphones and in m...  \n",
       "4  I already had the buds and now own the buds+I'...  \n",
       "5  I have the original Samsung Buds and have 2 ph...  \n",
       "6  Original buds were good. These are great! Much...  \n",
       "7  Charged them up and used them all day till the...  \n",
       "8  These new Samsung Galaxy Buds+ Plus work great...  \n",
       "9  My new daily drivers ahead of my Liberty Sound...  "
      ]
     },
     "execution_count": 14,
     "metadata": {},
     "output_type": "execute_result"
    }
   ],
   "source": [
    "dat_r = {'user':all_user,'rating':all_ratings, 'date':all_dates, 'country':all_countries ,'review':all_reviews}  # {key : value} value에 리스트를 넣는 것임 \n",
    "\n",
    "dat = pd.DataFrame(dat_r)\n",
    "dat \n"
   ]
  },
  {
   "cell_type": "markdown",
   "metadata": {},
   "source": [
    "### 6) csv 파일에 담기"
   ]
  },
  {
   "cell_type": "code",
   "execution_count": 15,
   "metadata": {},
   "outputs": [],
   "source": [
    "dat.to_csv(\"review.csv\", index = False)"
   ]
  },
  {
   "cell_type": "markdown",
   "metadata": {},
   "source": [
    "### 7) 7페이지 리뷰 가져오기 (작업중)"
   ]
  },
  {
   "cell_type": "code",
   "execution_count": 37,
   "metadata": {},
   "outputs": [
    {
     "ename": "NameError",
     "evalue": "name 'time' is not defined",
     "output_type": "error",
     "traceback": [
      "\u001b[1;31m---------------------------------------------------------------------------\u001b[0m",
      "\u001b[1;31mNameError\u001b[0m                                 Traceback (most recent call last)",
      "\u001b[1;32m<ipython-input-37-59bf873ea088>\u001b[0m in \u001b[0;36m<module>\u001b[1;34m\u001b[0m\n\u001b[0;32m      6\u001b[0m \u001b[1;33m\u001b[0m\u001b[0m\n\u001b[0;32m      7\u001b[0m \u001b[1;32mfor\u001b[0m \u001b[0mpage\u001b[0m \u001b[1;32min\u001b[0m \u001b[0mrange\u001b[0m\u001b[1;33m(\u001b[0m\u001b[1;36m2\u001b[0m\u001b[1;33m,\u001b[0m \u001b[1;36m7\u001b[0m\u001b[1;33m,\u001b[0m \u001b[1;36m1\u001b[0m\u001b[1;33m)\u001b[0m\u001b[1;33m:\u001b[0m\u001b[1;33m\u001b[0m\u001b[1;33m\u001b[0m\u001b[0m\n\u001b[1;32m----> 8\u001b[1;33m     \u001b[0mtime\u001b[0m\u001b[1;33m.\u001b[0m\u001b[0msleep\u001b[0m\u001b[1;33m(\u001b[0m\u001b[1;36m3\u001b[0m\u001b[1;33m)\u001b[0m\u001b[1;33m\u001b[0m\u001b[1;33m\u001b[0m\u001b[0m\n\u001b[0m\u001b[0;32m      9\u001b[0m     \u001b[0mpage\u001b[0m \u001b[1;33m=\u001b[0m \u001b[0mdriver\u001b[0m\u001b[1;33m.\u001b[0m\u001b[0mpage_source\u001b[0m\u001b[1;33m\u001b[0m\u001b[1;33m\u001b[0m\u001b[0m\n\u001b[0;32m     10\u001b[0m     \u001b[0msoup\u001b[0m \u001b[1;33m=\u001b[0m \u001b[0mBeautifulSoup\u001b[0m\u001b[1;33m(\u001b[0m\u001b[0mpage\u001b[0m\u001b[1;33m,\u001b[0m \u001b[1;34m'html.parser'\u001b[0m\u001b[1;33m)\u001b[0m\u001b[1;33m\u001b[0m\u001b[1;33m\u001b[0m\u001b[0m\n",
      "\u001b[1;31mNameError\u001b[0m: name 'time' is not defined"
     ]
    }
   ],
   "source": [
    "all_user = []    # 사용자\n",
    "all_ratings = [] # 평점\n",
    "all_dates = []   # 날짜\n",
    "all_areas = [] #지역\n",
    "all_reviews = [] # 리뷰\n",
    "\n",
    "for page in range(2, 7, 1):\n",
    "    time.sleep(3)\n",
    "    page = driver.page_source\n",
    "    soup = BeautifulSoup(page, 'html.parser')\n",
    "    all_r = soup.find_all(\"div\", class_=\"a-section celwidget\")  \n",
    "    \n",
    "    for one in all_r:  #질문: one이 무엇?\n",
    "        user_one = one.find(\"span\", class_=\"a-profile-name\").text\n",
    "        all_user.append(user_one)  # 사용자 추가\n",
    "\n",
    "        rating_one = one.find(\"span\", class_=\"a-icon-alt\").text\n",
    "        nums = re.findall(\"\\d+\", rating_one)[0]  #정규 표현식 re.findall(pattern,string) / \\d+  는 리스트 안에서 숫자를  하나씩 가져오는 것\n",
    "        all_ratings.append(nums)   # 평점 추가\n",
    "\n",
    "        date_one = one.find(\"span\", class_=\"a-size-base a-color-secondary review-date\")\n",
    "        texts = date_one.text.split(\"on\")\n",
    "        data = texts[1].strip()\n",
    "        all_dates.append(data)# 날짜 추가\n",
    "\n",
    "\n",
    "        area_one = one.find(\"span\", class_=\"a-size-base a-color-secondary review-date\")\n",
    "        area_text = area_one.text.split(\"in\")\n",
    "        area = area_text[1].strip()\n",
    "        all_areas.append(area)# 지역 추가\n",
    "\n",
    "\n",
    "        review_one = one.find(\"div\", class_=\"a-row a-spacing-small review-data\")\n",
    "        tmp = review_one.text\n",
    "        review = tmp.strip()\n",
    "        all_reviews.append(review)# 리뷰 추가\n",
    "    \n",
    "    \n",
    "# 확인\n",
    "    print(\"user : \" , all_user[-1], \"rating :\", all_rating[-1])\n",
    "    print(\"review : \", all_review[-1], end=\"\\n\\n\\n\")\n",
    "    # 다음 페이지 클릭\n",
    "    sel_next = driver.find_element_by_xpath('//*[@id=\"cm_cr-pagination_bar\"]/ul/li[2]/a')\n",
    "    sel_next.click()"
   ]
  }
 ],
 "metadata": {
  "kernelspec": {
   "display_name": "Python 3",
   "language": "python",
   "name": "python3"
  },
  "language_info": {
   "codemirror_mode": {
    "name": "ipython",
    "version": 3
   },
   "file_extension": ".py",
   "mimetype": "text/x-python",
   "name": "python",
   "nbconvert_exporter": "python",
   "pygments_lexer": "ipython3",
   "version": "3.8.5"
  }
 },
 "nbformat": 4,
 "nbformat_minor": 4
}
