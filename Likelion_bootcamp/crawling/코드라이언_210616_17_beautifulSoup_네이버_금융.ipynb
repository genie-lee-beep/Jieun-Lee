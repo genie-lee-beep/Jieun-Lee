{
  "nbformat": 4,
  "nbformat_minor": 0,
  "metadata": {
    "colab": {
      "name": "코드라이언_210616-17_beautifulSoup_네이버 금융.ipynb",
      "provenance": []
    },
    "kernelspec": {
      "name": "python3",
      "display_name": "Python 3"
    },
    "language_info": {
      "name": "python"
    }
  },
  "cells": [
    {
      "cell_type": "markdown",
      "metadata": {
        "id": "Qar0NWwCkQdu"
      },
      "source": [
        "lxml : 파서(Parser), 원시코드인 순수 문자열 객체를 해석할 수 있도록 분석.  \n",
        "\n",
        "*   lxml : c로 구현된 가장 빠름.  \n",
        "* html5lib : 웹 브라우저 방식으로 HTML 해석  \n",
        "* html.parser \n",
        "\n"
      ]
    },
    {
      "cell_type": "code",
      "metadata": {
        "colab": {
          "base_uri": "https://localhost:8080/"
        },
        "id": "WS5iJDw4ahLw",
        "outputId": "16b5874f-c432-4f7a-be5c-4b49fc5314c8"
      },
      "source": [
        "from bs4 import BeautifulSoup\n",
        "html = \"<p>test</p>\"\n",
        "soup = BeautifulSoup(html, 'lxml')\n",
        "print(soup)"
      ],
      "execution_count": null,
      "outputs": [
        {
          "output_type": "stream",
          "text": [
            "<html><body><p>test</p></body></html>\n"
          ],
          "name": "stdout"
        }
      ]
    },
    {
      "cell_type": "code",
      "metadata": {
        "colab": {
          "base_uri": "https://localhost:8080/",
          "height": 55
        },
        "id": "FoxgBdfLd-Yq",
        "outputId": "f431e516-5b9b-4c9f-8565-bb8975b6f31b"
      },
      "source": [
        "from bs4 import BeautifulSoup\n",
        "html = \"<p>test</p>\"\n",
        "soup = BeautifulSoup(html, 'html5lib')\n",
        "print(soup)\n",
        "soup.prettify()"
      ],
      "execution_count": null,
      "outputs": [
        {
          "output_type": "stream",
          "text": [
            "<html><head></head><body><p>test</p></body></html>\n"
          ],
          "name": "stdout"
        },
        {
          "output_type": "execute_result",
          "data": {
            "application/vnd.google.colaboratory.intrinsic+json": {
              "type": "string"
            },
            "text/plain": [
              "'<html>\\n <head>\\n </head>\\n <body>\\n  <p>\\n   test\\n  </p>\\n </body>\\n</html>'"
            ]
          },
          "metadata": {
            "tags": []
          },
          "execution_count": 4
        }
      ]
    },
    {
      "cell_type": "markdown",
      "metadata": {
        "id": "mQ-Dfj3b_WoT"
      },
      "source": [
        "HTML에서 정보 가져오기\n"
      ]
    },
    {
      "cell_type": "code",
      "metadata": {
        "id": "C0soosmWeHao"
      },
      "source": [
        "from bs4 import BeautifulSoup\n",
        "\n",
        "html= \"\"\"\n",
        "<html>\n",
        "<head><title> test site </title></head>\n",
        "<p class='class1' align=\"left\">test3</p>\n",
        "<p class='class1'>test2</p>\n",
        "<p id='p1'>오늘의 주가지수 1500</p>\n",
        "<span class='class3'>span tag text</span>\n",
        "<p class='class4'>test3</p>\n",
        "</html>\n",
        "\"\"\""
      ],
      "execution_count": null,
      "outputs": []
    },
    {
      "cell_type": "code",
      "metadata": {
        "colab": {
          "base_uri": "https://localhost:8080/"
        },
        "id": "iBl_wKSqee1p",
        "outputId": "13d9d26f-b256-4141-ec9f-25aa5e1ca560"
      },
      "source": [
        "soup = BeautifulSoup(html, 'lxml')\n",
        "\n",
        "soup.p"
      ],
      "execution_count": null,
      "outputs": [
        {
          "output_type": "execute_result",
          "data": {
            "text/plain": [
              "<p align=\"left\" class=\"class1\">test3</p>"
            ]
          },
          "metadata": {
            "tags": []
          },
          "execution_count": 12
        }
      ]
    },
    {
      "cell_type": "markdown",
      "metadata": {
        "id": "O_K7CaB1kuUd"
      },
      "source": [
        "## find와 find_all를 이용하기"
      ]
    },
    {
      "cell_type": "markdown",
      "metadata": {
        "id": "hDC__y-vlEo1"
      },
      "source": [
        "*  find_all: 리스트\n",
        "*  find: 문자열|"
      ]
    },
    {
      "cell_type": "code",
      "metadata": {
        "colab": {
          "base_uri": "https://localhost:8080/"
        },
        "id": "2YfJTanog7Rr",
        "outputId": "5fb02642-cdfb-4e4e-c1bf-78e8ae675741"
      },
      "source": [
        "soup.find_all('p') "
      ],
      "execution_count": null,
      "outputs": [
        {
          "output_type": "execute_result",
          "data": {
            "text/plain": [
              "[<p align=\"left\" class=\"class1\">test3</p>,\n",
              " <p class=\"class1\">test2</p>,\n",
              " <p id=\"p1\">오늘의 주가지수 1500</p>,\n",
              " <p class=\"class4\">test3</p>]"
            ]
          },
          "metadata": {
            "tags": []
          },
          "execution_count": 14
        }
      ]
    },
    {
      "cell_type": "markdown",
      "metadata": {
        "id": "J5DK6aVtrQGB"
      },
      "source": [
        "soup.find('태그이름')"
      ]
    },
    {
      "cell_type": "code",
      "metadata": {
        "id": "yOB_sAuqlsRj"
      },
      "source": [
        "from bs4 import BeautifulSoup\n",
        "\n",
        "html = '''\n",
        "<html>\n",
        "<head>\n",
        "    <title> test site </title>\n",
        "</head>\n",
        "<body>\n",
        "    <div>   #Q <div></div>\n",
        "        <p class='class1' align=\"left\">test3</p>\n",
        "        <p class='class1'>test2</p>\n",
        "    </div>\n",
        "    <div>\n",
        "        <p id='p1'>오늘의 주가지수 1500</p>\n",
        "        <p class='class4'>test3</p>\n",
        "        <span class='class3'>span tag text</span>\n",
        "    </div>\n",
        "</body>\n",
        "</html>\n",
        "'''"
      ],
      "execution_count": null,
      "outputs": []
    },
    {
      "cell_type": "markdown",
      "metadata": {
        "id": "ofvtTwNmnqk0"
      },
      "source": [
        "3-2 (실습) div 2번째 요소 안의 p태그 전체를 가져와 보자."
      ]
    },
    {
      "cell_type": "code",
      "metadata": {
        "id": "eqn9bXlPl35K"
      },
      "source": [
        "soup = BeautifulSoup(html, 'lxml')"
      ],
      "execution_count": null,
      "outputs": []
    },
    {
      "cell_type": "code",
      "metadata": {
        "colab": {
          "base_uri": "https://localhost:8080/"
        },
        "id": "I11G0xNqmX5Z",
        "outputId": "2e611e21-d774-415c-a841-efcd6f4af53e"
      },
      "source": [
        "div2 =soup.find_all('div')[1]\n",
        "div2"
      ],
      "execution_count": null,
      "outputs": [
        {
          "output_type": "execute_result",
          "data": {
            "text/plain": [
              "<div>\n",
              "<p id=\"p1\">오늘의 주가지수 1500</p>\n",
              "<p class=\"class4\">test3</p>\n",
              "<span class=\"class3\">span tag text</span>\n",
              "</div>"
            ]
          },
          "metadata": {
            "tags": []
          },
          "execution_count": 25
        }
      ]
    },
    {
      "cell_type": "code",
      "metadata": {
        "colab": {
          "base_uri": "https://localhost:8080/"
        },
        "id": "KFw66ruKl6gA",
        "outputId": "fde52415-a866-4230-91fa-5f59cd3a70d4"
      },
      "source": [
        "p_all = div2.find_all(\"p\")\n",
        "p_all"
      ],
      "execution_count": null,
      "outputs": [
        {
          "output_type": "execute_result",
          "data": {
            "text/plain": [
              "[<p id=\"p1\">오늘의 주가지수 1500</p>, <p class=\"class4\">test3</p>]"
            ]
          },
          "metadata": {
            "tags": []
          },
          "execution_count": 26
        }
      ]
    },
    {
      "cell_type": "markdown",
      "metadata": {
        "id": "atIGISPpoUdo"
      },
      "source": [
        "3-2 (추가) div 첫번째 요소의 안의 첫번째 p태그 요소 가져오기"
      ]
    },
    {
      "cell_type": "code",
      "metadata": {
        "colab": {
          "base_uri": "https://localhost:8080/"
        },
        "id": "Jj4humdJoVNd",
        "outputId": "d645db6a-9c28-4dc4-e61b-6ae814db2e32"
      },
      "source": [
        "soup.find('div').find(\"p\")  #soup.find('div')하면 기본적으로 맨 첫째 리스트를 가져오기 때문에, [N]을 따로 써줄필요가 없다.  "
      ],
      "execution_count": null,
      "outputs": [
        {
          "output_type": "execute_result",
          "data": {
            "text/plain": [
              "<p align=\"left\" class=\"class1\">test3</p>"
            ]
          },
          "metadata": {
            "tags": []
          },
          "execution_count": 29
        }
      ]
    },
    {
      "cell_type": "code",
      "metadata": {
        "colab": {
          "base_uri": "https://localhost:8080/"
        },
        "id": "M-ufxOxroVjg",
        "outputId": "039a7be5-0371-47aa-bd30-49b807a5642a"
      },
      "source": [
        "soup.div.p"
      ],
      "execution_count": null,
      "outputs": [
        {
          "output_type": "execute_result",
          "data": {
            "text/plain": [
              "<p align=\"left\" class=\"class1\">test3</p>"
            ]
          },
          "metadata": {
            "tags": []
          },
          "execution_count": 30
        }
      ]
    },
    {
      "cell_type": "markdown",
      "metadata": {
        "id": "sGZ394vcpEqZ"
      },
      "source": [
        "3-2 (생각해보기) a태그의 모든 url을 가져오기"
      ]
    },
    {
      "cell_type": "code",
      "metadata": {
        "id": "5io_PWOlo0jZ"
      },
      "source": [
        "html = '''\n",
        "<html>\n",
        "<head>\n",
        "    <title> test site </title>\n",
        "</head>\n",
        "<body>\n",
        "    <a href=\"https://www.google.com\">구글</a>\n",
        "    <div>\n",
        "        <p class='class1' align=\"left\">test3</p>\n",
        "        <p class='class1'>test2</p>\n",
        "    </div>\n",
        "    <div>\n",
        "        <p id='p1'>오늘의 주가지수 1500</p>\n",
        "        <p class='class4'>test3</p>\n",
        "        <span class='class3'>span tag text</span>\n",
        "        <a href=\"https://www.naver.com/\">네이버</a>\n",
        "        <a href=\"https://www.daum.com/\">다음</a>\n",
        "    </div>\n",
        "</body>\n",
        "</html>\n",
        "'''\n",
        "soup = BeautifulSoup(html, 'lxml')"
      ],
      "execution_count": null,
      "outputs": []
    },
    {
      "cell_type": "code",
      "metadata": {
        "colab": {
          "base_uri": "https://localhost:8080/"
        },
        "id": "1-uwytiZpJ_E",
        "outputId": "0b2220a7-39ef-442d-9c07-e2622a3807d9"
      },
      "source": [
        "# 방법1\n",
        "urls = soup.find_all('a')\n",
        "\n",
        "for url in urls:\n",
        "  print(url.get(\"href\"))"
      ],
      "execution_count": null,
      "outputs": [
        {
          "output_type": "stream",
          "text": [
            "https://www.google.com\n",
            "https://www.naver.com/\n",
            "https://www.daum.com/\n"
          ],
          "name": "stdout"
        }
      ]
    },
    {
      "cell_type": "code",
      "metadata": {
        "colab": {
          "base_uri": "https://localhost:8080/"
        },
        "id": "4qlMJtmqpTJx",
        "outputId": "23671726-abaa-47f7-e229-2b6ac0622e62"
      },
      "source": [
        "# 방법2\n",
        "urls = soup.find_all('a')\n",
        "\n",
        "for url in urls:\n",
        "  print(url.attrs[\"href\"]) # attrs는 딕션어리로 값을 받아오는 함수여서 출력을 할려면 []가 필요"
      ],
      "execution_count": null,
      "outputs": [
        {
          "output_type": "stream",
          "text": [
            "https://www.google.com\n",
            "https://www.naver.com/\n",
            "https://www.daum.com/\n"
          ],
          "name": "stdout"
        }
      ]
    },
    {
      "cell_type": "markdown",
      "metadata": {
        "id": "ICO1Yo2-qzg0"
      },
      "source": [
        "## children 를 활용\n",
        "\n",
        "*   자신의 요소의 자식들의 요소를 가지고 올 수 있다.\n",
        "* content속성(or contents)을 이용하여 가져올수도 있음.\n",
        "* 기타 parents, next_sibling, next_elements 등이 있음\n"
      ]
    },
    {
      "cell_type": "code",
      "metadata": {
        "id": "zgu_56jabhDZ"
      },
      "source": [
        "## children으로 가지고 오면 몇개 태그도 가져 올까요? \n",
        "## 흰트: 줄바꿈도 포함 \n",
        "<p class=\"no_today\">\n",
        "\t\t\t\t\t\t\t\t<em class=\"no_down\">\n",
        "\n",
        "\t\t\t\t\t\t\t<span class=\"blind\">63,200</span>\n",
        "\t\t\t\t\t\t\t<span class=\"no6\">6</span><span class=\"no3\">3</span><span class=\"shim\">,</span><span class=\"no2\">2</span><span class=\"no0\">0</span><span class=\"no0\">0</span>\n",
        "\t\t\t\t\t\t</em>\n",
        "\t\t\t\t\t</p>"
      ],
      "execution_count": null,
      "outputs": []
    },
    {
      "cell_type": "code",
      "metadata": {
        "colab": {
          "base_uri": "https://localhost:8080/",
          "height": 173
        },
        "id": "0YwDfQicb4-3",
        "outputId": "435b88a0-2ff4-4677-ec72-8f8c410bff46"
      },
      "source": [
        "len(soup.find(\"p\", class_=\"no_today)\").children)"
      ],
      "execution_count": null,
      "outputs": [
        {
          "output_type": "error",
          "ename": "AttributeError",
          "evalue": "ignored",
          "traceback": [
            "\u001b[0;31m---------------------------------------------------------------------------\u001b[0m",
            "\u001b[0;31mAttributeError\u001b[0m                            Traceback (most recent call last)",
            "\u001b[0;32m<ipython-input-15-f4ff0f44b89b>\u001b[0m in \u001b[0;36m<module>\u001b[0;34m()\u001b[0m\n\u001b[0;32m----> 1\u001b[0;31m \u001b[0mlen\u001b[0m\u001b[0;34m(\u001b[0m\u001b[0msoup\u001b[0m\u001b[0;34m.\u001b[0m\u001b[0mfind\u001b[0m\u001b[0;34m(\u001b[0m\u001b[0;34m\"p\"\u001b[0m\u001b[0;34m,\u001b[0m \u001b[0mclass_\u001b[0m\u001b[0;34m=\u001b[0m\u001b[0;34m\"no_today)\"\u001b[0m\u001b[0;34m)\u001b[0m\u001b[0;34m.\u001b[0m\u001b[0mchildren\u001b[0m\u001b[0;34m)\u001b[0m\u001b[0;34m\u001b[0m\u001b[0;34m\u001b[0m\u001b[0m\n\u001b[0m",
            "\u001b[0;31mAttributeError\u001b[0m: 'NoneType' object has no attribute 'children'"
          ]
        }
      ]
    },
    {
      "cell_type": "markdown",
      "metadata": {
        "id": "7M5rGZx2cQ7x"
      },
      "source": [
        "### 실습"
      ]
    },
    {
      "cell_type": "code",
      "metadata": {
        "id": "vlFXLKXdq3Ku"
      },
      "source": [
        "html = '''\n",
        "<html>\n",
        "<head>\n",
        "    <title> test site </title>\n",
        "</head>\n",
        "<body>\n",
        "    <a href=\"https://www.google.com\">구글</a>\n",
        "    <div>\n",
        "        <p class='class1' align=\"left\">test3</p>\n",
        "        <p class='class1'>test2</p>\n",
        "    </div>\n",
        "    <div>\n",
        "        <p id='p1'>오늘의 주가지수 1500</p>\n",
        "        <p class='class4'>test3</p>\n",
        "        <span class='class3'>span tag text</span>\n",
        "        <a href=\"https://www.naver.com/\">네이버</a>\n",
        "        <a href=\"https://www.daum.com/\">다음</a>\n",
        "    </div>\n",
        "</body>\n",
        "</html>\n",
        "'''\n",
        "soup = BeautifulSoup(html, 'lxml')"
      ],
      "execution_count": null,
      "outputs": []
    },
    {
      "cell_type": "code",
      "metadata": {
        "colab": {
          "base_uri": "https://localhost:8080/"
        },
        "id": "B6E3vUrDq7mQ",
        "outputId": "6dc9773c-289e-495d-94f2-1262982dcc98"
      },
      "source": [
        "div1 = soup.find(\"div\")\n",
        "div1"
      ],
      "execution_count": null,
      "outputs": [
        {
          "output_type": "execute_result",
          "data": {
            "text/plain": [
              "<div>\n",
              "<p align=\"left\" class=\"class1\">test3</p>\n",
              "<p class=\"class1\">test2</p>\n",
              "</div>"
            ]
          },
          "metadata": {
            "tags": []
          },
          "execution_count": 44
        }
      ]
    },
    {
      "cell_type": "code",
      "metadata": {
        "colab": {
          "base_uri": "https://localhost:8080/"
        },
        "id": "BcgLLc4drYvt",
        "outputId": "bcd3c245-c8d7-4ea4-b843-6dad7df176b2"
      },
      "source": [
        "div1.children"
      ],
      "execution_count": null,
      "outputs": [
        {
          "output_type": "execute_result",
          "data": {
            "text/plain": [
              "<list_iterator at 0x7fa41faba9d0>"
            ]
          },
          "metadata": {
            "tags": []
          },
          "execution_count": 45
        }
      ]
    },
    {
      "cell_type": "code",
      "metadata": {
        "colab": {
          "base_uri": "https://localhost:8080/"
        },
        "id": "48G_FqPUrg2-",
        "outputId": "ed8c4244-0a31-4967-a3cf-e21a126a63dc"
      },
      "source": [
        "list(div1.children)"
      ],
      "execution_count": null,
      "outputs": [
        {
          "output_type": "execute_result",
          "data": {
            "text/plain": [
              "['\\n',\n",
              " <p align=\"left\" class=\"class1\">test3</p>,\n",
              " '\\n',\n",
              " <p class=\"class1\">test2</p>,\n",
              " '\\n']"
            ]
          },
          "metadata": {
            "tags": []
          },
          "execution_count": 46
        }
      ]
    },
    {
      "cell_type": "markdown",
      "metadata": {
        "id": "IGxYlYkastku"
      },
      "source": [
        "3-3 주어진 코드에서 children 속성을 이용해서 span 태그 요소를 가져와 보자."
      ]
    },
    {
      "cell_type": "code",
      "metadata": {
        "colab": {
          "base_uri": "https://localhost:8080/"
        },
        "id": "V4cSVBqQsvdK",
        "outputId": "0544a0be-436f-498b-8996-d4fcab4f32de"
      },
      "source": [
        "soup.find_all(\"div\")[1].children"
      ],
      "execution_count": null,
      "outputs": [
        {
          "output_type": "execute_result",
          "data": {
            "text/plain": [
              "<list_iterator at 0x7fa41bb0ae10>"
            ]
          },
          "metadata": {
            "tags": []
          },
          "execution_count": 54
        }
      ]
    },
    {
      "cell_type": "code",
      "metadata": {
        "colab": {
          "base_uri": "https://localhost:8080/"
        },
        "id": "EpFuQbvJs30E",
        "outputId": "eaacfc46-8eca-44c6-a15c-ca18fa99f1e6"
      },
      "source": [
        "list(soup.find_all(\"div\")[1].children)"
      ],
      "execution_count": null,
      "outputs": [
        {
          "output_type": "execute_result",
          "data": {
            "text/plain": [
              "['\\n',\n",
              " <p id=\"p1\">오늘의 주가지수 1500</p>,\n",
              " '\\n',\n",
              " <p class=\"class4\">test3</p>,\n",
              " '\\n',\n",
              " <span class=\"class3\">span tag text</span>,\n",
              " '\\n',\n",
              " <a href=\"https://www.naver.com/\">네이버</a>,\n",
              " '\\n',\n",
              " <a href=\"https://www.daum.com/\">다음</a>,\n",
              " '\\n']"
            ]
          },
          "metadata": {
            "tags": []
          },
          "execution_count": 55
        }
      ]
    },
    {
      "cell_type": "code",
      "metadata": {
        "colab": {
          "base_uri": "https://localhost:8080/"
        },
        "id": "q7pZqb3Ws8B8",
        "outputId": "384609d6-c33c-46cf-8d96-64897f68cd8d"
      },
      "source": [
        "list(soup.find_all(\"div\")[1].children)[5]"
      ],
      "execution_count": null,
      "outputs": [
        {
          "output_type": "execute_result",
          "data": {
            "text/plain": [
              "<span class=\"class3\">span tag text</span>"
            ]
          },
          "metadata": {
            "tags": []
          },
          "execution_count": 56
        }
      ]
    },
    {
      "cell_type": "markdown",
      "metadata": {
        "id": "lrVTuk5O_5zk"
      },
      "source": [
        "text 가져오기 "
      ]
    },
    {
      "cell_type": "code",
      "metadata": {
        "colab": {
          "base_uri": "https://localhost:8080/"
        },
        "id": "30KvJW03ACFn",
        "outputId": "b5855fd0-7b7a-49c3-a244-76b783331952"
      },
      "source": [
        "p_all = soup.find('body').find_all('p')\n",
        "p_all"
      ],
      "execution_count": null,
      "outputs": [
        {
          "output_type": "execute_result",
          "data": {
            "text/plain": [
              "[<a href=\"https://www.google.com\">구글</a>,\n",
              " <a href=\"https://www.naver.com/\">네이버</a>,\n",
              " <a href=\"https://www.daum.com/\">다음</a>]"
            ]
          },
          "metadata": {
            "tags": []
          },
          "execution_count": 65
        }
      ]
    },
    {
      "cell_type": "code",
      "metadata": {
        "colab": {
          "base_uri": "https://localhost:8080/"
        },
        "id": "wnvWUqg2AR62",
        "outputId": "62c084e4-7732-4935-c2ee-8b16e936636b"
      },
      "source": [
        "for one in p_all:\n",
        "  print(one.text)"
      ],
      "execution_count": null,
      "outputs": [
        {
          "output_type": "stream",
          "text": [
            "test3\n",
            "test2\n",
            "오늘의 주가지수 1500\n",
            "test3\n"
          ],
          "name": "stdout"
        }
      ]
    },
    {
      "cell_type": "markdown",
      "metadata": {
        "id": "zARYwqWYCRB9"
      },
      "source": [
        "4-2 (추가) a태그의 url 및 text가져오기."
      ]
    },
    {
      "cell_type": "code",
      "metadata": {
        "colab": {
          "base_uri": "https://localhost:8080/"
        },
        "id": "xywb4YxYAyGw",
        "outputId": "785a3b93-96ec-4387-c0eb-1979f1bcdaca"
      },
      "source": [
        "a_all = soup.find('body').find_all('a')\n",
        "a_all"
      ],
      "execution_count": null,
      "outputs": [
        {
          "output_type": "execute_result",
          "data": {
            "text/plain": [
              "[<a href=\"https://www.google.com\">구글</a>,\n",
              " <a href=\"https://www.naver.com/\">네이버</a>,\n",
              " <a href=\"https://www.daum.com/\">다음</a>]"
            ]
          },
          "metadata": {
            "tags": []
          },
          "execution_count": 66
        }
      ]
    },
    {
      "cell_type": "code",
      "metadata": {
        "colab": {
          "base_uri": "https://localhost:8080/"
        },
        "id": "-Fj6wpEbBFWb",
        "outputId": "c9ecac0d-7eec-49be-dfd6-302a57dad5a0"
      },
      "source": [
        "for url in a_all:\n",
        "  print(url.attrs[\"href\"])"
      ],
      "execution_count": null,
      "outputs": [
        {
          "output_type": "stream",
          "text": [
            "https://www.google.com\n",
            "https://www.naver.com/\n",
            "https://www.daum.com/\n"
          ],
          "name": "stdout"
        }
      ]
    },
    {
      "cell_type": "markdown",
      "metadata": {
        "id": "TOY-CN8aCUf8"
      },
      "source": [
        "4-3 (실습) 위의 내용을 csv파일로 만들어보자"
      ]
    },
    {
      "cell_type": "code",
      "metadata": {
        "id": "Zv_mgCPrFCT4"
      },
      "source": [
        "html = '''\n",
        "<html>\n",
        "<head>\n",
        "    <title> test site </title>\n",
        "</head>\n",
        "<body>\n",
        "    <a href=\"https://www.google.com\">구글</a>\n",
        "    <div>\n",
        "        <p class='class1' align=\"left\">test3</p>\n",
        "        <p class='class1'>test2</p>\n",
        "    </div>\n",
        "    <div>\n",
        "        <p id='p1'>오늘의 주가지수 1500</p>\n",
        "        <p class='class4'>test3</p>\n",
        "        <span class='class3'>span tag text</span>\n",
        "        <a href=\"https://www.naver.com/\">네이버</a>\n",
        "        <a href=\"https://www.daum.com/\">다음</a>\n",
        "    </div>\n",
        "</body>\n",
        "</html>\n",
        "'''\n",
        "soup = BeautifulSoup(html, 'lxml')"
      ],
      "execution_count": null,
      "outputs": []
    },
    {
      "cell_type": "code",
      "metadata": {
        "id": "Fhu7noJzFadD"
      },
      "source": [
        "import pandas as pd"
      ],
      "execution_count": null,
      "outputs": []
    },
    {
      "cell_type": "code",
      "metadata": {
        "colab": {
          "base_uri": "https://localhost:8080/"
        },
        "id": "7R27Vmd6CXUd",
        "outputId": "289496b5-be5a-480f-d260-82105aca09cd"
      },
      "source": [
        "com = []\n",
        "urls = []\n",
        "list_a = soup.findAll(\"a\")\n",
        "for one in list_a:\n",
        "    print(one.text, one.get(\"href\"))\n",
        "    com.append(one.text)\n",
        "    urls.append(one.get('href'))\n",
        "print(com)\n",
        "print(urls)"
      ],
      "execution_count": null,
      "outputs": [
        {
          "output_type": "stream",
          "text": [
            "구글 https://www.google.com\n",
            "네이버 https://www.naver.com/\n",
            "다음 https://www.daum.com/\n",
            "['구글', '네이버', '다음']\n",
            "['https://www.google.com', 'https://www.naver.com/', 'https://www.daum.com/']\n"
          ],
          "name": "stdout"
        }
      ]
    },
    {
      "cell_type": "code",
      "metadata": {
        "colab": {
          "base_uri": "https://localhost:8080/",
          "height": 143
        },
        "id": "5BfmU8jeCgd1",
        "outputId": "4fc51e0e-50c1-41c2-e515-d4f2c291655c"
      },
      "source": [
        "dat = {'회사명':com, '회사명': urls}\n",
        "dat = pd.DataFrame(dat)\n",
        "dat"
      ],
      "execution_count": null,
      "outputs": [
        {
          "output_type": "execute_result",
          "data": {
            "text/html": [
              "<div>\n",
              "<style scoped>\n",
              "    .dataframe tbody tr th:only-of-type {\n",
              "        vertical-align: middle;\n",
              "    }\n",
              "\n",
              "    .dataframe tbody tr th {\n",
              "        vertical-align: top;\n",
              "    }\n",
              "\n",
              "    .dataframe thead th {\n",
              "        text-align: right;\n",
              "    }\n",
              "</style>\n",
              "<table border=\"1\" class=\"dataframe\">\n",
              "  <thead>\n",
              "    <tr style=\"text-align: right;\">\n",
              "      <th></th>\n",
              "      <th>회사명</th>\n",
              "    </tr>\n",
              "  </thead>\n",
              "  <tbody>\n",
              "    <tr>\n",
              "      <th>0</th>\n",
              "      <td>https://www.google.com</td>\n",
              "    </tr>\n",
              "    <tr>\n",
              "      <th>1</th>\n",
              "      <td>https://www.naver.com/</td>\n",
              "    </tr>\n",
              "    <tr>\n",
              "      <th>2</th>\n",
              "      <td>https://www.daum.com/</td>\n",
              "    </tr>\n",
              "  </tbody>\n",
              "</table>\n",
              "</div>"
            ],
            "text/plain": [
              "                      회사명\n",
              "0  https://www.google.com\n",
              "1  https://www.naver.com/\n",
              "2   https://www.daum.com/"
            ]
          },
          "metadata": {
            "tags": []
          },
          "execution_count": 86
        }
      ]
    },
    {
      "cell_type": "code",
      "metadata": {
        "colab": {
          "base_uri": "https://localhost:8080/"
        },
        "id": "Ff3aKurCE70U",
        "outputId": "7329b6c2-23d0-497a-bd77-928715a84f36"
      },
      "source": [
        "dat.to_csv(\"회사명과웹사이트.csv\", index=False)  #csv 로 만들기\n",
        "dat.to_excel(\"회사명과웹사이트.xlsx\", index=False) #excel로 만들기\n",
        "\n",
        "##확인\n",
        "import os\n",
        "print(os.getcwd())  #현재 위치\n",
        "print(os.listdir(os.getcwd()))"
      ],
      "execution_count": null,
      "outputs": [
        {
          "output_type": "stream",
          "text": [
            "/content\n",
            "['.config', '회사명과웹사이트.xlsx', '회사명과웹사이트.csv', 'sample_data']\n"
          ],
          "name": "stdout"
        }
      ]
    },
    {
      "cell_type": "markdown",
      "metadata": {
        "id": "66977iwpKRp0"
      },
      "source": [
        "soup = BeautifulSoup(page, \"html.parser\")에서html.parser, lxml, html5lib을 선택하는 기준이 있나요?\n",
        "\n",
        "> lxml이 제일 빠릅니다. 그러나 회사에서 주로 쓰는 걸로 하세요\n",
        "\n",
        "##4-5 코스피, 코스닥, 코스피200 정보 가져오기"
      ]
    },
    {
      "cell_type": "code",
      "metadata": {
        "colab": {
          "base_uri": "https://localhost:8080/"
        },
        "id": "DFbSOJTxGjDN",
        "outputId": "d00b455e-4a7f-4d77-a912-a4a19c3aec7d"
      },
      "source": [
        "from urllib.request import urlopen\n",
        "from bs4 import BeautifulSoup\n",
        "\n",
        "url = \"https://finance.naver.com/sise/\"\n",
        "\n",
        "page = urlopen(url)\n",
        "page\n",
        "\n",
        "soup = BeautifulSoup(page, \"html.parser\")\n",
        "soup.title"
      ],
      "execution_count": null,
      "outputs": [
        {
          "output_type": "execute_result",
          "data": {
            "text/plain": [
              "<title>국내증시 : 네이버 금융</title>"
            ]
          },
          "metadata": {
            "tags": []
          },
          "execution_count": 92
        }
      ]
    },
    {
      "cell_type": "code",
      "metadata": {
        "colab": {
          "base_uri": "https://localhost:8080/"
        },
        "id": "bRg45zhWJ0fD",
        "outputId": "88fd15d1-c26a-416c-9321-6e7fd1869856"
      },
      "source": [
        "kospi = soup.find(\"span\", id=\"KOSPI_now\").text     #text 만 뽑아 내기 \n",
        "kosdaq = soup.find(\"span\", id=\"KOSDAQ_now\").text\n",
        "kospi200 = soup.find(\"span\", id=\"KPI200_now\").text\n",
        "\n",
        "print(\"현재 코스피 지수는 :\", kospi)\n",
        "print(\"현재 코스닥 지수는 :\", kosdaq)\n",
        "print(\"현재 코스피200 지수는 :\", kospi200)\n",
        "\n"
      ],
      "execution_count": null,
      "outputs": [
        {
          "output_type": "stream",
          "text": [
            "현재 코스피 지수는 : 3,274.74\n",
            "현재 코스닥 지수는 : 999.28\n",
            "현재 코스피200 지수는 : 436.33\n"
          ],
          "name": "stdout"
        }
      ]
    },
    {
      "cell_type": "code",
      "metadata": {
        "colab": {
          "base_uri": "https://localhost:8080/"
        },
        "id": "lwnlYtYNP5BF",
        "outputId": "b7ad005e-1381-40bb-80ba-3dc8e459acee"
      },
      "source": [
        "soup_p = soup.find(\"div\", id='tab_sel3_risefall').find(\"dd\", class_=\"profit\").text\n",
        "print( soup_p.replace(\"\\n\", \" \") )\n",
        "soup_p = soup.find(\"div\", id='tab_sel3_risefall').find(\"dd\", class_=\"loss\").text\n",
        "print( soup_p.replace(\"\\n\", \" \") )\n",
        "soup_p = soup.find(\"div\", id='tab_sel3_risefall').find(\"dd\", class_=\"total\").text\n",
        "print( soup_p.replace(\"\\n\", \" \") )"
      ],
      "execution_count": null,
      "outputs": [
        {
          "output_type": "stream",
          "text": [
            " 차익 +94억 \n",
            " 비차익 -65억 \n",
            " 전체 +30억 \n"
          ],
          "name": "stdout"
        }
      ]
    },
    {
      "cell_type": "markdown",
      "metadata": {
        "id": "JcqhB2FyWfIc"
      },
      "source": [
        "5-3 (추가) 인기 검색 종목 +(상승), -(하락) 포함시키기 "
      ]
    },
    {
      "cell_type": "code",
      "metadata": {
        "colab": {
          "base_uri": "https://localhost:8080/"
        },
        "id": "7Yilf4gyWfmA",
        "outputId": "c165660e-5053-4c1c-80c4-e6af251ffee0"
      },
      "source": [
        "# 김동화님 코드\n",
        "url = 'https://finance.naver.com/sise/'\n",
        "page = urlopen(url)\n",
        "soup = BeautifulSoup(page, 'html.parser')\n",
        "ul = soup.find_all(\"ul\", class_=\"lst_pop\", id=\"popularItemList\")[0]\n",
        "ranktag = ul.find_all(\"a\")\n",
        "updowntag = ul.find_all(\"span\", class_=\"blind\")\n",
        "for i in range(10) :\n",
        "    rank = ranktag[i]\n",
        "    updown = updowntag[i]\n",
        "    print(rank.get(\"onclick\")[-9]+\"위. \"+rank.text+\"\\t\"+updown.text)"
      ],
      "execution_count": null,
      "outputs": [
        {
          "output_type": "stream",
          "text": [
            "1위. 삼성전자\t상승\n",
            "2위. 쌍방울\t하락\n",
            "3위. 카카오\t하락\n",
            "4위. 대원전선\t상승\n",
            "5위. 두산중공업\t상승\n",
            "6위. HMM\t상승\n",
            "7위. NAVER\t상승\n",
            "8위. 한전산업\t상승\n",
            "9위. 서울식품\t상승\n",
            "0위. 대한전선\t상승\n"
          ],
          "name": "stdout"
        }
      ]
    },
    {
      "cell_type": "code",
      "metadata": {
        "colab": {
          "base_uri": "https://localhost:8080/"
        },
        "id": "MAiAI96LdEuG",
        "outputId": "a4bc5bdc-cdc3-4054-a8c5-71f1f2030558"
      },
      "source": [
        "# 이예준님 코드\n",
        "url = \"https://finance.naver.com/sise/\"\n",
        "page = urlopen(url)\n",
        "soup = BeautifulSoup(page, 'html.parser')\n",
        "\n",
        "rank_1 = soup.find('div', class_='rgt')\n",
        "rank_list = rank_1.find('ul').text.split('\\n')\n",
        "for i in rank_list:\n",
        "    print(i)"
      ],
      "execution_count": null,
      "outputs": [
        {
          "output_type": "stream",
          "text": [
            "\n",
            "1.삼성전자81,700상승\n",
            "2.쌍방울1,210하락\n",
            "3.카카오143,500하락\n",
            "4.대원전선3,580상승\n",
            "5.두산중공업24,450상승\n",
            "6.HMM45,100상승\n",
            "7.NAVER390,500상승\n",
            "8.한전산업11,000상승\n",
            "9.서울식품438상승\n",
            "10.대한전선3,270상승\n",
            "\n"
          ],
          "name": "stdout"
        }
      ]
    },
    {
      "cell_type": "markdown",
      "metadata": {
        "id": "0bQhUT63W0iK"
      },
      "source": [
        "5-3 (추가) 인기 검색 종목 코드 가져오기"
      ]
    },
    {
      "cell_type": "code",
      "metadata": {
        "colab": {
          "base_uri": "https://localhost:8080/",
          "height": 363
        },
        "id": "q0JWuqCPW4dJ",
        "outputId": "84d3dae4-4642-4780-ae64-5fde28545d01"
      },
      "source": [
        "#이응진님 코드\n",
        "\n",
        "## naver finance 인기 종목\n",
        "from urllib.request import urlopen\n",
        "from bs4 import BeautifulSoup\n",
        "import pandas as pd\n",
        "url = \"https://finance.naver.com/sise/\"\n",
        "page = urlopen(url)\n",
        "page\n",
        "soup = BeautifulSoup(page, \"html.parser\")\n",
        "all_pop = soup.find(\"ul\", class_=\"lst_pop\").find_all(\"li\")\n",
        "all_data = []\n",
        "for li in all_pop:\n",
        "    dic = {}\n",
        "    dic[\"rank\"] = td.find(\"img\").text\n",
        "    dic[\"com\"] = li.find(\"a\").text     \n",
        "    dic[\"up_down\"] = li.find('span', class_='blind').text\n",
        "    dic[\"price\"] = li.find('span').text\n",
        "    dic[\"code\"] = li.find('a').get(\"onclick\").split(',')[2].strip(\"''\")\n",
        "    all_data.append(dic)\n",
        "dat = pd.DataFrame(all_data)\n",
        "dat"
      ],
      "execution_count": null,
      "outputs": [
        {
          "output_type": "execute_result",
          "data": {
            "text/html": [
              "<div>\n",
              "<style scoped>\n",
              "    .dataframe tbody tr th:only-of-type {\n",
              "        vertical-align: middle;\n",
              "    }\n",
              "\n",
              "    .dataframe tbody tr th {\n",
              "        vertical-align: top;\n",
              "    }\n",
              "\n",
              "    .dataframe thead th {\n",
              "        text-align: right;\n",
              "    }\n",
              "</style>\n",
              "<table border=\"1\" class=\"dataframe\">\n",
              "  <thead>\n",
              "    <tr style=\"text-align: right;\">\n",
              "      <th></th>\n",
              "      <th>rank</th>\n",
              "      <th>com</th>\n",
              "      <th>up_down</th>\n",
              "      <th>price</th>\n",
              "      <th>code</th>\n",
              "    </tr>\n",
              "  </thead>\n",
              "  <tbody>\n",
              "    <tr>\n",
              "      <th>0</th>\n",
              "      <td>1.</td>\n",
              "      <td>NAVER</td>\n",
              "      <td>상승</td>\n",
              "      <td>391,500</td>\n",
              "      <td>035420</td>\n",
              "    </tr>\n",
              "    <tr>\n",
              "      <th>1</th>\n",
              "      <td>2.</td>\n",
              "      <td>삼성전자</td>\n",
              "      <td>상승</td>\n",
              "      <td>81,600</td>\n",
              "      <td>005930</td>\n",
              "    </tr>\n",
              "    <tr>\n",
              "      <th>2</th>\n",
              "      <td>3.</td>\n",
              "      <td>대원전선</td>\n",
              "      <td>상승</td>\n",
              "      <td>3,595</td>\n",
              "      <td>006340</td>\n",
              "    </tr>\n",
              "    <tr>\n",
              "      <th>3</th>\n",
              "      <td>4.</td>\n",
              "      <td>쌍방울</td>\n",
              "      <td>하락</td>\n",
              "      <td>1,295</td>\n",
              "      <td>102280</td>\n",
              "    </tr>\n",
              "    <tr>\n",
              "      <th>4</th>\n",
              "      <td>5.</td>\n",
              "      <td>카카오</td>\n",
              "      <td>하락</td>\n",
              "      <td>143,500</td>\n",
              "      <td>035720</td>\n",
              "    </tr>\n",
              "    <tr>\n",
              "      <th>5</th>\n",
              "      <td>6.</td>\n",
              "      <td>두산중공업</td>\n",
              "      <td>상승</td>\n",
              "      <td>24,550</td>\n",
              "      <td>034020</td>\n",
              "    </tr>\n",
              "    <tr>\n",
              "      <th>6</th>\n",
              "      <td>7.</td>\n",
              "      <td>HMM</td>\n",
              "      <td>상승</td>\n",
              "      <td>45,250</td>\n",
              "      <td>011200</td>\n",
              "    </tr>\n",
              "    <tr>\n",
              "      <th>7</th>\n",
              "      <td>8.</td>\n",
              "      <td>서울식품</td>\n",
              "      <td>상승</td>\n",
              "      <td>454</td>\n",
              "      <td>004410</td>\n",
              "    </tr>\n",
              "    <tr>\n",
              "      <th>8</th>\n",
              "      <td>9.</td>\n",
              "      <td>대한전선</td>\n",
              "      <td>상승</td>\n",
              "      <td>3,285</td>\n",
              "      <td>001440</td>\n",
              "    </tr>\n",
              "    <tr>\n",
              "      <th>9</th>\n",
              "      <td>10.</td>\n",
              "      <td>한전산업</td>\n",
              "      <td>상승</td>\n",
              "      <td>10,950</td>\n",
              "      <td>130660</td>\n",
              "    </tr>\n",
              "  </tbody>\n",
              "</table>\n",
              "</div>"
            ],
            "text/plain": [
              "  rank    com up_down    price    code\n",
              "0   1.  NAVER      상승  391,500  035420\n",
              "1   2.   삼성전자      상승   81,600  005930\n",
              "2   3.   대원전선      상승    3,595  006340\n",
              "3   4.    쌍방울      하락    1,295  102280\n",
              "4   5.    카카오      하락  143,500  035720\n",
              "5   6.  두산중공업      상승   24,550  034020\n",
              "6   7.    HMM      상승   45,250  011200\n",
              "7   8.   서울식품      상승      454  004410\n",
              "8   9.   대한전선      상승    3,285  001440\n",
              "9  10.   한전산업      상승   10,950  130660"
            ]
          },
          "metadata": {
            "tags": []
          },
          "execution_count": 102
        }
      ]
    },
    {
      "cell_type": "markdown",
      "metadata": {
        "id": "yAC5RMrlV4Wf"
      },
      "source": [
        "해당 정보가 있는 부분을 가져온다.\n",
        "*  <주의> class_=\"클래스명\"\n"
      ]
    },
    {
      "cell_type": "code",
      "metadata": {
        "id": "LzYVuX-UTo9Q",
        "colab": {
          "base_uri": "https://localhost:8080/",
          "height": 32
        },
        "outputId": "2838af17-3a04-4c97-e70e-3569feff8395"
      },
      "source": [
        "\n",
        "## naver finance Top 종목\n",
        "from urllib.request import urlopen\n",
        "from bs4 import BeautifulSoup\n",
        "import pandas as pd\n",
        "\n",
        "url = \"https://finance.naver.com/sise/\"\n",
        "page = urlopen(url)\n",
        "soup = BeautifulSoup(page, 'html.parser')\n",
        "all_top = soup.find(\"div\", class_=\"box_type_l\").find(\"div\", class_=\"choice_lt\").text\n",
        "all_data = []\n",
        "\n",
        "for tr in all_top:\n",
        "    dic = {}\n",
        "    # dic[\"순위\"] = td.find(\"img\").text \n",
        "    dic[\"연속\"] = tr.find('td', class_=\"number\").text \n",
        "    dic[\"누적\"] = tr.find('td', class_=\"number\").text \n",
        "    dic[\"현재가\"] = tr.find('td', class_=\"number\").text \n",
        "    #dic[\"화살표\"] = em.find('span', class_=\"blind\").text \n",
        "    dic[\"전일비\"] = tr.find('span', class_=\"tah p11 red01\").text \n",
        "    # dic[\"등락률\"] = td.find('span', class_=\"tah p11 red01\").text \n",
        "    dic[\"거래량\"] = tr.find('td', class_=\"number\").text \n",
        "    dic[\"시가\"] = tr.find('td', class_=\"number\").text \n",
        "    dic[\"고가\"] = tr.find('td', class_=\"number\").text \n",
        "    dic[\"저가\"] = tr.find('td', class_=\"number\").text \n",
        "\n",
        "    all_data.append(dic)\n",
        "dat = pd.DataFrame(all_data)\n",
        "dat\n",
        "\n",
        "\n"
      ],
      "execution_count": null,
      "outputs": [
        {
          "output_type": "execute_result",
          "data": {
            "text/html": [
              "<div>\n",
              "<style scoped>\n",
              "    .dataframe tbody tr th:only-of-type {\n",
              "        vertical-align: middle;\n",
              "    }\n",
              "\n",
              "    .dataframe tbody tr th {\n",
              "        vertical-align: top;\n",
              "    }\n",
              "\n",
              "    .dataframe thead th {\n",
              "        text-align: right;\n",
              "    }\n",
              "</style>\n",
              "<table border=\"1\" class=\"dataframe\">\n",
              "  <thead>\n",
              "    <tr style=\"text-align: right;\">\n",
              "      <th></th>\n",
              "    </tr>\n",
              "  </thead>\n",
              "  <tbody>\n",
              "  </tbody>\n",
              "</table>\n",
              "</div>"
            ],
            "text/plain": [
              "Empty DataFrame\n",
              "Columns: []\n",
              "Index: []"
            ]
          },
          "metadata": {
            "tags": []
          },
          "execution_count": 22
        }
      ]
    },
    {
      "cell_type": "markdown",
      "metadata": {
        "id": "VVS_sXjicc4S"
      },
      "source": [
        "### 복습 (21.06.17)"
      ]
    },
    {
      "cell_type": "code",
      "metadata": {
        "id": "CGWGYD6Ec_Jv"
      },
      "source": [
        "## 사용할 코드 ##\n",
        "<p class=\"no_today\">\n",
        "\n",
        "\t\t\t\t\t\t\t\t<em class=\"no_down\">\n",
        "\t\t\t\t\t\t\t\n",
        "\t\t\t\t\t\t\t<span class=\"blind\">63,200</span>\n",
        "\t\t\t\t\t\t\t<span class=\"no6\">6</span><span class=\"no3\">3</span><span class=\"shim\">,</span><span class=\"no2\">2</span><span class=\"no0\">0</span><span class=\"no0\">0</span>\n",
        "\t\t\t\t\t\t</em>\n",
        "\t\t\t\t\t</p>"
      ],
      "execution_count": null,
      "outputs": []
    },
    {
      "cell_type": "code",
      "metadata": {
        "id": "arjvWM3qZJmy"
      },
      "source": [
        "from urllib.request import urlopen\n",
        "from bs4 import BeautifulSoup"
      ],
      "execution_count": null,
      "outputs": []
    },
    {
      "cell_type": "code",
      "metadata": {
        "colab": {
          "base_uri": "https://localhost:8080/"
        },
        "id": "G_AMCnPPY_gf",
        "outputId": "f20e1236-e4fc-4318-f00b-1d0be84e124e"
      },
      "source": [
        "my_stock = ['삼성전자', '카카오', '유한양행', 'NAVER']\n",
        "my_stock_code = ['005930','035720', '000100', '035420']\n",
        "\n",
        "## url에 회사마다 코드가 있다 \n",
        "chk_url = 'https://finance.naver.com/item/main.nhn?code=000100'\n",
        "page = urlopen(chk_url)\n",
        "soup = BeautifulSoup(page, 'html.parser')\n",
        "soup.title"
      ],
      "execution_count": null,
      "outputs": [
        {
          "output_type": "execute_result",
          "data": {
            "text/plain": [
              "<title>유한양행 : 네이버 금융</title>"
            ]
          },
          "metadata": {
            "tags": []
          },
          "execution_count": 37
        }
      ]
    },
    {
      "cell_type": "code",
      "metadata": {
        "id": "pNz55sJNdM4m",
        "colab": {
          "base_uri": "https://localhost:8080/",
          "height": 35
        },
        "outputId": "dedc3a93-4628-41d7-e39b-971496955309"
      },
      "source": [
        "soup.find(\"p\", class_=\"no_today\").find(\"span\", class_=\"blind\").text"
      ],
      "execution_count": null,
      "outputs": [
        {
          "output_type": "execute_result",
          "data": {
            "application/vnd.google.colaboratory.intrinsic+json": {
              "type": "string"
            },
            "text/plain": [
              "'63,200'"
            ]
          },
          "metadata": {
            "tags": []
          },
          "execution_count": 19
        }
      ]
    },
    {
      "cell_type": "code",
      "metadata": {
        "id": "UHTbea0FgcHZ"
      },
      "source": [
        "my_stock = ['삼성전자', '카카오', '유한양행', 'NAVER']\n",
        "my_stock_code = ['005930','035720', '000100', '035420']\n",
        "base_url = 'https://finance.naver.com/item/main.nhn?code='"
      ],
      "execution_count": null,
      "outputs": []
    },
    {
      "cell_type": "code",
      "metadata": {
        "colab": {
          "base_uri": "https://localhost:8080/"
        },
        "id": "jIcJqlS4ghRI",
        "outputId": "a61ee55f-0467-42bf-ace2-f4d3170d5871"
      },
      "source": [
        "cnt = 0\n",
        "for  code in my_stock_code:\n",
        "    all_url = base_url+code\n",
        "    page=urlopen(all_url)\n",
        "    soup=BeautifulSoup(page, 'lxml')\n",
        "    ##현재가\n",
        "    tmp=soup.find(\"p\", class_=\"no_today\")\n",
        "    price = tmp.find(\"span\", class_=\"blind\").text\n",
        "    print(my_stock[cnt], price)\n",
        "    cnt+=1"
      ],
      "execution_count": null,
      "outputs": [
        {
          "output_type": "stream",
          "text": [
            "삼성전자 80,900\n",
            "카카오 145,000\n",
            "유한양행 63,100\n",
            "NAVER 390,500\n"
          ],
          "name": "stdout"
        }
      ]
    },
    {
      "cell_type": "code",
      "metadata": {
        "colab": {
          "base_uri": "https://localhost:8080/"
        },
        "id": "t3U-C5KGhrMS",
        "outputId": "ad7db4c2-61e7-4429-854f-6c899daf92a2"
      },
      "source": [
        "all_url=''  # 질문 이게 뭐지?\n",
        "for idx, code in enumerate(my_stock_code):\n",
        "    all_url = base_url+code\n",
        "    page=urlopen(all_url)\n",
        "    soup=BeautifulSoup(page, 'lxml')\n",
        "    ##현재가\n",
        "    tmp=soup.find(\"p\", class_=\"no_today\")\n",
        "    price = tmp.find(\"span\", class_=\"blind\").text\n",
        "    print(my_stock[idx], price)"
      ],
      "execution_count": null,
      "outputs": [
        {
          "output_type": "stream",
          "text": [
            "삼성전자 80,900\n",
            "카카오 145,000\n",
            "유한양행 63,100\n",
            "NAVER 390,500\n"
          ],
          "name": "stdout"
        }
      ]
    },
    {
      "cell_type": "code",
      "metadata": {
        "colab": {
          "base_uri": "https://localhost:8080/"
        },
        "id": "KPr5yI-VkTjS",
        "outputId": "4f93ae08-688d-4435-8969-501146f5db66"
      },
      "source": [
        "all_url=''  # 밑에 사용할 all_url을 문자열 변수로 미리 선언\n",
        "for idx, code in enumerate(my_stock_code):\n",
        "    all_url = base_url+code\n",
        "    page=urlopen(all_url)\n",
        "    soup=BeautifulSoup(page, 'lxml')\n",
        "    \n",
        "    ##현재가\n",
        "    tmp= soup.find(\"p\", class_=\"no_today\")\n",
        "    price = tmp.find(\"span\", class_=\"blind\").text\n",
        "    print(my_stock[idx], price)\n",
        "    \n",
        "\n",
        "    ##거래량\n",
        "    change = soup.find('span',class_=\"sptxt sp_txt9\")\n",
        "    price_rate = change.find_next(\"span\", class_=\"blind\").text\n",
        "    print(my_stock[idx], price_rate)\n"
      ],
      "execution_count": null,
      "outputs": [
        {
          "output_type": "stream",
          "text": [
            "삼성전자 80,800\n",
            "삼성전자 6,454,585\n",
            "카카오 146,500\n",
            "카카오 2,605,675\n",
            "유한양행 63,000\n",
            "유한양행 120,967\n",
            "NAVER 392,000\n",
            "NAVER 308,939\n"
          ],
          "name": "stdout"
        }
      ]
    },
    {
      "cell_type": "markdown",
      "metadata": {
        "id": "EipSk2Cwvcjd"
      },
      "source": [
        "## 자료형에 해당되는 함수 찾는 법 >>>  변수.\n",
        "\n",
        "---\n",
        "\n"
      ]
    },
    {
      "cell_type": "code",
      "metadata": {
        "colab": {
          "base_uri": "https://localhost:8080/"
        },
        "id": "DpQdLHKbvDGc",
        "outputId": "354ebf93-a553-4918-be82-cbee7a1a41ff"
      },
      "source": [
        "a = soup.find('span', class_=\"sptxt sp_txt9\")\n",
        "a"
      ],
      "execution_count": null,
      "outputs": [
        {
          "output_type": "execute_result",
          "data": {
            "text/plain": [
              "<span class=\"sptxt sp_txt9\">거래량</span>"
            ]
          },
          "metadata": {
            "tags": []
          },
          "execution_count": 56
        }
      ]
    },
    {
      "cell_type": "code",
      "metadata": {
        "colab": {
          "base_uri": "https://localhost:8080/",
          "height": 136
        },
        "id": "Lhu02NtavT0e",
        "outputId": "2f276d9f-3f0f-4f08-c013-6e8d12ad1068"
      },
      "source": [
        "a."
      ],
      "execution_count": null,
      "outputs": [
        {
          "output_type": "error",
          "ename": "SyntaxError",
          "evalue": "ignored",
          "traceback": [
            "\u001b[0;36m  File \u001b[0;32m\"<ipython-input-58-b4ce96ddcee0>\"\u001b[0;36m, line \u001b[0;32m1\u001b[0m\n\u001b[0;31m    a.\u001b[0m\n\u001b[0m      ^\u001b[0m\n\u001b[0;31mSyntaxError\u001b[0m\u001b[0;31m:\u001b[0m invalid syntax\n"
          ]
        }
      ]
    },
    {
      "cell_type": "code",
      "metadata": {
        "id": "_IlwOY6BvWhm"
      },
      "source": [
        ""
      ],
      "execution_count": null,
      "outputs": []
    }
  ]
}