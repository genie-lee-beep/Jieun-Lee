{
 "cells": [
  {
   "cell_type": "code",
   "execution_count": 25,
   "metadata": {},
   "outputs": [],
   "source": [
    "from selenium import webdriver\n",
    "from selenium.webdriver.common.keys import Keys\n",
    "from selenium.webdriver.support.ui import WebDriverWait\n",
    "from selenium.webdriver.support import expected_conditions as EC\n",
    "from selenium.webdriver.common.by import By\n",
    "\n",
    "from bs4 import BeautifulSoup\n",
    "import time\n",
    "import requests\n",
    "from selenium import webdriver\n"
   ]
  },
  {
   "cell_type": "code",
   "execution_count": 34,
   "metadata": {},
   "outputs": [],
   "source": [
    "import pandas as pd\n",
    "ex_fil=pd.read_excel('Hansik.xlsx')\n"
   ]
  },
  {
   "cell_type": "code",
   "execution_count": 1,
   "metadata": {},
   "outputs": [],
   "source": [
    "import numpy as np\n",
    "import matplotlib.pyplot as plt\n",
    "import matplotlib as mpl\n",
    "import seaborn as sns\n",
    "\n"
   ]
  },
  {
   "cell_type": "code",
   "execution_count": 30,
   "metadata": {},
   "outputs": [],
   "source": [
    "def getLatLng(address):\n",
    "    app_key = 'KakaoAK ' + 'de1cddfe31e36ca81b209c96d47a388b'\n",
    "    url = 'https://dapi.kakao.com/v2/local/search/address.json' # endpoint\n",
    "    params = {\n",
    "        'query' : address,\n",
    "        'page' : '',\n",
    "        'AddressSize' : ''\n",
    "    }\n",
    "    headers = {'Authorization' : app_key}\n",
    "    response = requests.get(url, headers=headers, params=params)\n",
    "    status_code = response.status_code\n",
    "    resp = response.json()\n",
    "    \n",
    "    if resp['documents'] != []:\n",
    "        longitude = resp['documents'][0]['x'] # 경도\n",
    "        latitude = resp['documents'][0]['y'] # 위도\n",
    "        return longitude, latitude\n",
    "    else:\n",
    "        return (0, 0)"
   ]
  },
  {
   "cell_type": "code",
   "execution_count": 31,
   "metadata": {},
   "outputs": [
    {
     "data": {
      "text/plain": [
       "'서울시 종로구 낙원동 85-7'"
      ]
     },
     "execution_count": 31,
     "metadata": {},
     "output_type": "execute_result"
    }
   ],
   "source": [
    "import pandas as pd\n",
    "train = pd.read_excel('./Hansik.xlsx')\n",
    "adr=train.iloc[:,2]\n",
    "adr[0]"
   ]
  },
  {
   "cell_type": "code",
   "execution_count": 32,
   "metadata": {},
   "outputs": [],
   "source": [
    "xpoint = []\n",
    "ypoint = []\n",
    "for i in adr:\n",
    "    x, y= getLatLng(i)\n",
    "    xpoint.append(x) # 경도 저장\n",
    "    ypoint.append(y) # 위도 저장"
   ]
  },
  {
   "cell_type": "code",
   "execution_count": 33,
   "metadata": {},
   "outputs": [],
   "source": [
    "from pandas import DataFrame"
   ]
  },
  {
   "cell_type": "code",
   "execution_count": 34,
   "metadata": {},
   "outputs": [],
   "source": [
    "loca_res={\"gyung\":xpoint,'wedo':ypoint}\n",
    "loc_df=DataFrame(loca_res)"
   ]
  },
  {
   "cell_type": "code",
   "execution_count": 35,
   "metadata": {},
   "outputs": [],
   "source": [
    "loc_df.shape\n",
    "loc_df.to_excel('Hansik_loc.xlsx',index=False)"
   ]
  }
 ],
 "metadata": {
  "kernelspec": {
   "display_name": "Python 3",
   "language": "python",
   "name": "python3"
  },
  "language_info": {
   "codemirror_mode": {
    "name": "ipython",
    "version": 3
   },
   "file_extension": ".py",
   "mimetype": "text/x-python",
   "name": "python",
   "nbconvert_exporter": "python",
   "pygments_lexer": "ipython3",
   "version": "3.6.5"
  }
 },
 "nbformat": 4,
 "nbformat_minor": 4
}
