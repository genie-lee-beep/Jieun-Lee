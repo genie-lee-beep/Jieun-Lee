{
 "cells": [
  {
   "cell_type": "markdown",
   "metadata": {},
   "source": [
    "# 1. 원하는 데이터 목록까지 접근하기\n",
    "원하는 데이터 목록까지 접근을 위해 Selenium을 이용하도록 한다.\n",
    "\n",
    "Selenium\n",
    "- Selenium WebDriver는 웹 어플리케이션을 테스팅할 때 사용하실 수 있는 무료 도구이며, API를 제공하는 오픈소스 프레임워크\n",
    "- beautiful soup에서 다룰 수 없는 동적인 부분은 selenium을 이용한다.\n",
    "\n",
    "## 1.1 Selenium 설치"
   ]
  },
  {
   "cell_type": "code",
   "execution_count": 26,
   "metadata": {},
   "outputs": [
    {
     "name": "stdout",
     "output_type": "stream",
     "text": [
      "Requirement already satisfied: selenium in c:\\users\\dell\\anaconda3\\lib\\site-packages (3.141.0)Note: you may need to restart the kernel to use updated packages.\n",
      "Requirement already satisfied: urllib3 in c:\\users\\dell\\anaconda3\\lib\\site-packages (from selenium) (1.25.11)\n",
      "\n"
     ]
    }
   ],
   "source": [
    "pip install selenium"
   ]
  },
  {
   "cell_type": "code",
   "execution_count": 27,
   "metadata": {},
   "outputs": [],
   "source": [
    "import pandas as pd\n",
    "import numpy as np\n",
    "import seaborn as sns\n",
    "from selenium import webdriver"
   ]
  },
  {
   "cell_type": "markdown",
   "metadata": {},
   "source": [
    "# 1.2 web driver 설치\n",
    "- 크롬을 사용한 스크래핑을 진행할 예정이기 때문에 chrome web driver를 다운받아 사용하도록 한다.\n",
    "- \n",
    "web driver 다운로드: https://chrome.softwaredownload.co.in/chrome-94-0-4606"
   ]
  },
  {
   "cell_type": "code",
   "execution_count": 28,
   "metadata": {
    "scrolled": true
   },
   "outputs": [
    {
     "ename": "SessionNotCreatedException",
     "evalue": "Message: session not created: This version of ChromeDriver only supports Chrome version 94\nCurrent browser version is 98.0.4758.102 with binary path C:\\Program Files\\Google\\Chrome\\Application\\chrome.exe\n",
     "output_type": "error",
     "traceback": [
      "\u001b[1;31m---------------------------------------------------------------------------\u001b[0m",
      "\u001b[1;31mSessionNotCreatedException\u001b[0m                Traceback (most recent call last)",
      "\u001b[1;32m<ipython-input-28-a10e3153a799>\u001b[0m in \u001b[0;36m<module>\u001b[1;34m\u001b[0m\n\u001b[1;32m----> 1\u001b[1;33m \u001b[0mdriver\u001b[0m\u001b[1;33m=\u001b[0m\u001b[0mwebdriver\u001b[0m\u001b[1;33m.\u001b[0m\u001b[0mChrome\u001b[0m\u001b[1;33m(\u001b[0m\u001b[1;34m'chromedriver_98.exe'\u001b[0m\u001b[1;33m)\u001b[0m\u001b[1;33m\u001b[0m\u001b[1;33m\u001b[0m\u001b[0m\n\u001b[0m",
      "\u001b[1;32m~\\anaconda3\\lib\\site-packages\\selenium\\webdriver\\chrome\\webdriver.py\u001b[0m in \u001b[0;36m__init__\u001b[1;34m(self, executable_path, port, options, service_args, desired_capabilities, service_log_path, chrome_options, keep_alive)\u001b[0m\n\u001b[0;32m     74\u001b[0m \u001b[1;33m\u001b[0m\u001b[0m\n\u001b[0;32m     75\u001b[0m         \u001b[1;32mtry\u001b[0m\u001b[1;33m:\u001b[0m\u001b[1;33m\u001b[0m\u001b[1;33m\u001b[0m\u001b[0m\n\u001b[1;32m---> 76\u001b[1;33m             RemoteWebDriver.__init__(\n\u001b[0m\u001b[0;32m     77\u001b[0m                 \u001b[0mself\u001b[0m\u001b[1;33m,\u001b[0m\u001b[1;33m\u001b[0m\u001b[1;33m\u001b[0m\u001b[0m\n\u001b[0;32m     78\u001b[0m                 command_executor=ChromeRemoteConnection(\n",
      "\u001b[1;32m~\\anaconda3\\lib\\site-packages\\selenium\\webdriver\\remote\\webdriver.py\u001b[0m in \u001b[0;36m__init__\u001b[1;34m(self, command_executor, desired_capabilities, browser_profile, proxy, keep_alive, file_detector, options)\u001b[0m\n\u001b[0;32m    155\u001b[0m             warnings.warn(\"Please use FirefoxOptions to set browser profile\",\n\u001b[0;32m    156\u001b[0m                           DeprecationWarning, stacklevel=2)\n\u001b[1;32m--> 157\u001b[1;33m         \u001b[0mself\u001b[0m\u001b[1;33m.\u001b[0m\u001b[0mstart_session\u001b[0m\u001b[1;33m(\u001b[0m\u001b[0mcapabilities\u001b[0m\u001b[1;33m,\u001b[0m \u001b[0mbrowser_profile\u001b[0m\u001b[1;33m)\u001b[0m\u001b[1;33m\u001b[0m\u001b[1;33m\u001b[0m\u001b[0m\n\u001b[0m\u001b[0;32m    158\u001b[0m         \u001b[0mself\u001b[0m\u001b[1;33m.\u001b[0m\u001b[0m_switch_to\u001b[0m \u001b[1;33m=\u001b[0m \u001b[0mSwitchTo\u001b[0m\u001b[1;33m(\u001b[0m\u001b[0mself\u001b[0m\u001b[1;33m)\u001b[0m\u001b[1;33m\u001b[0m\u001b[1;33m\u001b[0m\u001b[0m\n\u001b[0;32m    159\u001b[0m         \u001b[0mself\u001b[0m\u001b[1;33m.\u001b[0m\u001b[0m_mobile\u001b[0m \u001b[1;33m=\u001b[0m \u001b[0mMobile\u001b[0m\u001b[1;33m(\u001b[0m\u001b[0mself\u001b[0m\u001b[1;33m)\u001b[0m\u001b[1;33m\u001b[0m\u001b[1;33m\u001b[0m\u001b[0m\n",
      "\u001b[1;32m~\\anaconda3\\lib\\site-packages\\selenium\\webdriver\\remote\\webdriver.py\u001b[0m in \u001b[0;36mstart_session\u001b[1;34m(self, capabilities, browser_profile)\u001b[0m\n\u001b[0;32m    250\u001b[0m         parameters = {\"capabilities\": w3c_caps,\n\u001b[0;32m    251\u001b[0m                       \"desiredCapabilities\": capabilities}\n\u001b[1;32m--> 252\u001b[1;33m         \u001b[0mresponse\u001b[0m \u001b[1;33m=\u001b[0m \u001b[0mself\u001b[0m\u001b[1;33m.\u001b[0m\u001b[0mexecute\u001b[0m\u001b[1;33m(\u001b[0m\u001b[0mCommand\u001b[0m\u001b[1;33m.\u001b[0m\u001b[0mNEW_SESSION\u001b[0m\u001b[1;33m,\u001b[0m \u001b[0mparameters\u001b[0m\u001b[1;33m)\u001b[0m\u001b[1;33m\u001b[0m\u001b[1;33m\u001b[0m\u001b[0m\n\u001b[0m\u001b[0;32m    253\u001b[0m         \u001b[1;32mif\u001b[0m \u001b[1;34m'sessionId'\u001b[0m \u001b[1;32mnot\u001b[0m \u001b[1;32min\u001b[0m \u001b[0mresponse\u001b[0m\u001b[1;33m:\u001b[0m\u001b[1;33m\u001b[0m\u001b[1;33m\u001b[0m\u001b[0m\n\u001b[0;32m    254\u001b[0m             \u001b[0mresponse\u001b[0m \u001b[1;33m=\u001b[0m \u001b[0mresponse\u001b[0m\u001b[1;33m[\u001b[0m\u001b[1;34m'value'\u001b[0m\u001b[1;33m]\u001b[0m\u001b[1;33m\u001b[0m\u001b[1;33m\u001b[0m\u001b[0m\n",
      "\u001b[1;32m~\\anaconda3\\lib\\site-packages\\selenium\\webdriver\\remote\\webdriver.py\u001b[0m in \u001b[0;36mexecute\u001b[1;34m(self, driver_command, params)\u001b[0m\n\u001b[0;32m    319\u001b[0m         \u001b[0mresponse\u001b[0m \u001b[1;33m=\u001b[0m \u001b[0mself\u001b[0m\u001b[1;33m.\u001b[0m\u001b[0mcommand_executor\u001b[0m\u001b[1;33m.\u001b[0m\u001b[0mexecute\u001b[0m\u001b[1;33m(\u001b[0m\u001b[0mdriver_command\u001b[0m\u001b[1;33m,\u001b[0m \u001b[0mparams\u001b[0m\u001b[1;33m)\u001b[0m\u001b[1;33m\u001b[0m\u001b[1;33m\u001b[0m\u001b[0m\n\u001b[0;32m    320\u001b[0m         \u001b[1;32mif\u001b[0m \u001b[0mresponse\u001b[0m\u001b[1;33m:\u001b[0m\u001b[1;33m\u001b[0m\u001b[1;33m\u001b[0m\u001b[0m\n\u001b[1;32m--> 321\u001b[1;33m             \u001b[0mself\u001b[0m\u001b[1;33m.\u001b[0m\u001b[0merror_handler\u001b[0m\u001b[1;33m.\u001b[0m\u001b[0mcheck_response\u001b[0m\u001b[1;33m(\u001b[0m\u001b[0mresponse\u001b[0m\u001b[1;33m)\u001b[0m\u001b[1;33m\u001b[0m\u001b[1;33m\u001b[0m\u001b[0m\n\u001b[0m\u001b[0;32m    322\u001b[0m             response['value'] = self._unwrap_value(\n\u001b[0;32m    323\u001b[0m                 response.get('value', None))\n",
      "\u001b[1;32m~\\anaconda3\\lib\\site-packages\\selenium\\webdriver\\remote\\errorhandler.py\u001b[0m in \u001b[0;36mcheck_response\u001b[1;34m(self, response)\u001b[0m\n\u001b[0;32m    240\u001b[0m                 \u001b[0malert_text\u001b[0m \u001b[1;33m=\u001b[0m \u001b[0mvalue\u001b[0m\u001b[1;33m[\u001b[0m\u001b[1;34m'alert'\u001b[0m\u001b[1;33m]\u001b[0m\u001b[1;33m.\u001b[0m\u001b[0mget\u001b[0m\u001b[1;33m(\u001b[0m\u001b[1;34m'text'\u001b[0m\u001b[1;33m)\u001b[0m\u001b[1;33m\u001b[0m\u001b[1;33m\u001b[0m\u001b[0m\n\u001b[0;32m    241\u001b[0m             \u001b[1;32mraise\u001b[0m \u001b[0mexception_class\u001b[0m\u001b[1;33m(\u001b[0m\u001b[0mmessage\u001b[0m\u001b[1;33m,\u001b[0m \u001b[0mscreen\u001b[0m\u001b[1;33m,\u001b[0m \u001b[0mstacktrace\u001b[0m\u001b[1;33m,\u001b[0m \u001b[0malert_text\u001b[0m\u001b[1;33m)\u001b[0m\u001b[1;33m\u001b[0m\u001b[1;33m\u001b[0m\u001b[0m\n\u001b[1;32m--> 242\u001b[1;33m         \u001b[1;32mraise\u001b[0m \u001b[0mexception_class\u001b[0m\u001b[1;33m(\u001b[0m\u001b[0mmessage\u001b[0m\u001b[1;33m,\u001b[0m \u001b[0mscreen\u001b[0m\u001b[1;33m,\u001b[0m \u001b[0mstacktrace\u001b[0m\u001b[1;33m)\u001b[0m\u001b[1;33m\u001b[0m\u001b[1;33m\u001b[0m\u001b[0m\n\u001b[0m\u001b[0;32m    243\u001b[0m \u001b[1;33m\u001b[0m\u001b[0m\n\u001b[0;32m    244\u001b[0m     \u001b[1;32mdef\u001b[0m \u001b[0m_value_or_default\u001b[0m\u001b[1;33m(\u001b[0m\u001b[0mself\u001b[0m\u001b[1;33m,\u001b[0m \u001b[0mobj\u001b[0m\u001b[1;33m,\u001b[0m \u001b[0mkey\u001b[0m\u001b[1;33m,\u001b[0m \u001b[0mdefault\u001b[0m\u001b[1;33m)\u001b[0m\u001b[1;33m:\u001b[0m\u001b[1;33m\u001b[0m\u001b[1;33m\u001b[0m\u001b[0m\n",
      "\u001b[1;31mSessionNotCreatedException\u001b[0m: Message: session not created: This version of ChromeDriver only supports Chrome version 94\nCurrent browser version is 98.0.4758.102 with binary path C:\\Program Files\\Google\\Chrome\\Application\\chrome.exe\n"
     ]
    }
   ],
   "source": [
    "driver=webdriver.Chrome('chromedriver_98.exe')"
   ]
  },
  {
   "cell_type": "code",
   "execution_count": null,
   "metadata": {},
   "outputs": [],
   "source": [
    "#driver.get() 을 쓰면서 페이지를 이동하면서 원하는 태그들을 가져오는 것임\n",
    "bs_url= \"https://www.mangoplate.com\"\n",
    "plus = '/search/%ED%95%9C%EC%8B%9D?keyword=%ED%95%9C%EC%8B%9D&page=\n",
    "driver.get(bs_url)\n",
    "\n",
    "# kor= https://www.mangoplate.com/search/%ED%95%9C%EC%8B%9D?keyword=%ED%95%9C%EC%8B%9D&page=1\n",
    "# chinese = https://www.mangoplate.com/search/%EC%A4%91%EC%8B%9D?keyword=%EC%A4%91%EC%8B%9D&page=2"
   ]
  },
  {
   "cell_type": "code",
   "execution_count": null,
   "metadata": {},
   "outputs": [],
   "source": [
    "# Googleling \n",
    "# sel_link1=driver.find_element_by_xpath('//*[@id=\"open_search_btn\"]/button')\n",
    "# sel_link1.click()\n",
    "# for i in range(1):\n",
    "#     search_box = driver.find_element_by_xpath('//*[@id=\"keyword\"]')\n",
    "#     search_box.send_keys('홍대입구')\n",
    "#     gum_btn =  driver.find_element_by_xpath('//*[@id=\"menu_wrap\"]/div[3]/div/form/button')\n",
    "#     gum_btn.click()\n",
    "#     gyungdo = driver.find_element_by_xpath('//*[@id=\"input_latitude\"]')\n",
    "#     print(gyungdo.get_attribute('placeholder'))\n",
    "#     wedo = driver.find_element_by_xpath('//*[@id=\"input_longitude\"]')\n",
    "#     print(wedo.get_attribute('placeholder'))\n",
    "#     print('----------')\n",
    "#     search_box.clear()"
   ]
  },
  {
   "cell_type": "markdown",
   "metadata": {},
   "source": [
    "해당 메뉴 들어가기  \n",
    "링크형  \n",
    "a = driver.find_elements_by_xpath(\"XPath 넣기\")  \n",
    "driver.get(a[0].get_attribute(\"href\"))  "
   ]
  },
  {
   "cell_type": "code",
   "execution_count": null,
   "metadata": {},
   "outputs": [],
   "source": [
    "input_b = driver.find_element_by_xpath('//*[@id=\"main-search\"]') #검색창"
   ]
  },
  {
   "cell_type": "markdown",
   "metadata": {},
   "source": [
    "a.send_keys(\"\\n\"): enter 누르기"
   ]
  },
  {
   "cell_type": "code",
   "execution_count": null,
   "metadata": {},
   "outputs": [],
   "source": [
    "\n",
    "input_b.send_keys(\"한식\") # 검색어\n",
    "input_c=driver.find_element_by_xpath('/html/body/main/article/header/div/fieldset/input') #검색 버튼\n",
    "input_c.click()\n",
    "\n",
    "\n",
    "# print(selected_id)\n",
    "# sel_btn1=soup.find_element_by_xpath('//*[@id=\"ad\"]/div/button[1]')\n",
    "# print(sel_btn1)\n",
    "# search_box = driver.find_element_by_xpath('//*[@id=\"keyword\"]')\n",
    "# search_box.send_keys('홍대입구')\n",
    "# gum_btn =  driver.find_element_by_xpath('//*[@id=\"menu_wrap\"]/div[3]/div/form/button')\n",
    "# gum_btn.click()"
   ]
  },
  {
   "cell_type": "markdown",
   "metadata": {},
   "source": [
    "# 2. 데이터 가져오기\n",
    "Beautifulsoup\n",
    "HTML과 XML 문서의 parsing을 하기 위한 Python 라이브러리\n",
    "## 2.1 beautifulsoup 설치\n",
    "우선 beautifulsoup 패키지를 다운받아 준다."
   ]
  },
  {
   "cell_type": "code",
   "execution_count": null,
   "metadata": {},
   "outputs": [],
   "source": [
    "pip install bs4"
   ]
  },
  {
   "cell_type": "code",
   "execution_count": null,
   "metadata": {},
   "outputs": [],
   "source": [
    "from bs4 import BeautifulSoup\n",
    "from selenium.webdriver import ActionChains #더보기 버튼이 숨어있음\n",
    "\n",
    "#res_lis[0:20]\n",
    "\n",
    "#전역변수들\n",
    "nam=[]#음식점 이름\n",
    "num=[]#음식점 번호\n",
    "adr=[]#음식점 주소\n",
    "kind=[]#음식 종류\n",
    "sev1=[]#첫리뷰\n",
    "sev2=[]#첫리뷰\n",
    "sev3=[]#첫리뷰\n",
    "# sev4=[]#첫리뷰\n",
    "# sev5=[]#첫리뷰\n",
    "\n",
    "# 1~5페이지 다 가져오기, bs_url+plus+str(z+1)\n",
    "for z in range(5): # 0부터~5이니까 \n",
    "    driver.get(bs_url+plus+str(z+1))\n",
    "    \n",
    "    soup= BeautifulSoup(driver.page_source, 'lxml')\n",
    "    res_lis=soup.find_all('div',class_='info')\n",
    "\n",
    "    # for안에서 돌려야 하니까 들여쓰기 \n",
    "    for i in range(20):#20개 식당 정보를 다 가져옴\n",
    "        lin=res_lis[i].find('a').get('href')\n",
    "        driver.get(bs_url+lin) #link로 가기\n",
    "\n",
    "        #스크롤해서 더보기 버튼까지 내리기\n",
    "#         some_tag = driver.find_element_by_xpath('/html/body/main/article/div[1]/div[1]/div/section[3]/ul/li[5]')\n",
    "#         ActionChains(driver).move_to_element(some_tag).perform()  \n",
    "#         btn_m=driver.find_element_by_xpath('/html/body/main/article/div[1]/div[1]/div/section[3]/div[2]')\n",
    "#         btn_m.click()  #스크롤후 더 보기 클릭\n",
    "\n",
    "\n",
    "        # 새로운 창이니까 다시 beautifulsoup 해주기\n",
    "        soup1= BeautifulSoup(driver.page_source, 'lxml')\n",
    "        body=soup1.find('tbody').find_all('tr')\n",
    "        nam.append(soup1.find('h1',class_='restaurant_name').text)\n",
    "        adr.append(soup1.find('span',class_='Restaurant__InfoAddress--Text').text)\n",
    "        num.append(body[1].find('td').text)\n",
    "        kind.append(body[2].find('td').text)\n",
    "        rev=driver.find_elements_by_class_name('RestaurantReviewItem__ReviewText')  # rev이라는 리스트 변수로 만들어 주기(지역변수)\n",
    "        #왜 처음 리뷰수만큼만 받을까?\n",
    "        #print(len(rev))\n",
    "\n",
    "        if len(rev)>=3:\n",
    "                sev1.append(rev[0].text)\n",
    "                sev2.append(rev[1].text)\n",
    "                sev3.append(rev[2].text)\n",
    "    #             sev4.append(rev[3].find('p',class_='RestaurantReviewItem__ReviewText').text)\n",
    "    #             sev5.append(rev[4].find('p',class_='RestaurantReviewItem__ReviewText').text)\n",
    "        else:\n",
    "            sev1.append('리뷰부족')\n",
    "            sev2.append('리뷰부족')\n",
    "            sev3.append('리뷰부족')\n",
    "\n",
    "        import time\n",
    "        time.sleep(3)\n",
    "    \n",
    "#     print(soup1.find('h1',class_='restaurant_name').text)\n",
    "#     print(soup1.find('span',class_='Restaurant__InfoAddress--Text').text)\n",
    "#     print(body[1].find('td').text)\n",
    "#     print(body[2].find('td').text)\n"
   ]
  },
  {
   "cell_type": "code",
   "execution_count": null,
   "metadata": {},
   "outputs": [],
   "source": [
    "import pandas as pd "
   ]
  },
  {
   "cell_type": "code",
   "execution_count": null,
   "metadata": {
    "scrolled": true
   },
   "outputs": [],
   "source": [
    "# KEY, VALUE >> DATAFRAME \n",
    "dat_r = {'name': nam, 'number':num, 'adr':adr, 'type':kind, 'review1':sev1, 'review2':sev2,'review3':sev3}\n",
    "dat = pd.DataFrame(dat_r)\n",
    "dat"
   ]
  },
  {
   "cell_type": "code",
   "execution_count": null,
   "metadata": {},
   "outputs": [],
   "source": [
    "# 크롤링한 내용 파일로 내보내기\n",
    "dat.to_excel(\"korean1008.xlsx\", encoding=\"utf-8\", index = False)"
   ]
  },
  {
   "cell_type": "code",
   "execution_count": null,
   "metadata": {},
   "outputs": [],
   "source": [
    "#리뷰들만 모아서 파일로 만들기\n",
    "dat_review = {'review1':sev1, 'review2':sev2,'review3':sev3}\n",
    "dat2 = pd.DataFrame(dat_review)\n",
    "dat2"
   ]
  },
  {
   "cell_type": "code",
   "execution_count": null,
   "metadata": {},
   "outputs": [],
   "source": [
    "dat2.to_excel(\"korean_review.xlsx\", encoding=\"utf-8\", index = False)"
   ]
  }
 ],
 "metadata": {
  "kernelspec": {
   "display_name": "Python 3",
   "language": "python",
   "name": "python3"
  },
  "language_info": {
   "codemirror_mode": {
    "name": "ipython",
    "version": 3
   },
   "file_extension": ".py",
   "mimetype": "text/x-python",
   "name": "python",
   "nbconvert_exporter": "python",
   "pygments_lexer": "ipython3",
   "version": "3.8.5"
  }
 },
 "nbformat": 4,
 "nbformat_minor": 4
}
