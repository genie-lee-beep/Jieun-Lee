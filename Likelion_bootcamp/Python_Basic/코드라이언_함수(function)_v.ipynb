{
 "cells": [
  {
   "cell_type": "markdown",
   "metadata": {},
   "source": [
    "## 일반적인 함수\n",
    "def 함수이름(매개변수):  \n",
    "    <수행할 문장>  \n",
    "    ...  \n",
    "    return 결과값  "
   ]
  },
  {
   "cell_type": "code",
   "execution_count": 1,
   "metadata": {},
   "outputs": [],
   "source": [
    "#예시1\n",
    "def add(a, b): \n",
    "    result = a + b \n",
    "    return result"
   ]
  },
  {
   "cell_type": "code",
   "execution_count": 3,
   "metadata": {},
   "outputs": [
    {
     "name": "stdout",
     "output_type": "stream",
     "text": [
      "7\n"
     ]
    }
   ],
   "source": [
    ">>> var = add(3, 4)\n",
    ">>> print(var)"
   ]
  },
  {
   "cell_type": "code",
   "execution_count": 4,
   "metadata": {},
   "outputs": [
    {
     "name": "stdout",
     "output_type": "stream",
     "text": [
      "출력 one two\n",
      "0\n"
     ]
    }
   ],
   "source": [
    "#예시2\n",
    "def two(num1, num2):   \n",
    "  print(\"출력\",num1, num2)\n",
    "  return 0\n",
    "\n",
    "va = two(\"one\",\"two\")\n",
    "print(va)"
   ]
  },
  {
   "cell_type": "markdown",
   "metadata": {},
   "source": [
    "## 입력값이 없는 함수"
   ]
  },
  {
   "cell_type": "code",
   "execution_count": 1,
   "metadata": {},
   "outputs": [],
   "source": [
    "def say():\n",
    "    return 'Hi'"
   ]
  },
  {
   "cell_type": "code",
   "execution_count": 2,
   "metadata": {},
   "outputs": [
    {
     "name": "stdout",
     "output_type": "stream",
     "text": [
      "Hi\n"
     ]
    }
   ],
   "source": [
    "a = say()\n",
    "print(a)"
   ]
  },
  {
   "cell_type": "markdown",
   "metadata": {},
   "source": [
    "## 결과값이 없는 함수 >>함수(인자)"
   ]
  },
  {
   "cell_type": "code",
   "execution_count": 3,
   "metadata": {},
   "outputs": [],
   "source": [
    "# 예시1\n",
    "def add(a,b):\n",
    "    print(\"%d, %d의 합은 %d 입니다.\" % (a,b, a+b))"
   ]
  },
  {
   "cell_type": "code",
   "execution_count": 4,
   "metadata": {},
   "outputs": [
    {
     "name": "stdout",
     "output_type": "stream",
     "text": [
      "3, 4의 합은 7 입니다.\n"
     ]
    }
   ],
   "source": [
    "add(3,4)"
   ]
  },
  {
   "cell_type": "code",
   "execution_count": 74,
   "metadata": {},
   "outputs": [
    {
     "name": "stdout",
     "output_type": "stream",
     "text": [
      "출력하기\n",
      "출력하기  "
     ]
    }
   ],
   "source": [
    "# 예시2\n",
    "def myprint(str1, end1=\"\\n\"):\n",
    "  print(str1, end=end1)\n",
    "\n",
    "myprint(\"출력하기\")\n",
    "myprint(\"출력하기\", end1=\"  \")\n"
   ]
  },
  {
   "cell_type": "markdown",
   "metadata": {},
   "source": [
    "## 입력값이 몇 개가 될지 모를 때는 어떻게 해야 할까?\n",
    "다음 예를 통해 여러 개의 입력값을 모두 더하는 함수를 직접 만들어 보자. 예를 들어 add_many(1, 2)이면 3을, add_many(1,2,3)이면 6을, add_many(1, 2, 3, 4, 5, 6, 7, 8, 9, 10)이면 55를 돌려주는 함수를 만들어 보자."
   ]
  },
  {
   "cell_type": "code",
   "execution_count": 7,
   "metadata": {},
   "outputs": [],
   "source": [
    "def add_many(*args): \n",
    "...     result = 0 \n",
    "...     for i in args: \n",
    "...         result = result + i \n",
    "...     return result \n",
    "    "
   ]
  },
  {
   "cell_type": "code",
   "execution_count": 8,
   "metadata": {},
   "outputs": [
    {
     "name": "stdout",
     "output_type": "stream",
     "text": [
      "6\n"
     ]
    }
   ],
   "source": [
    "result = add_many(1,2,3)\n",
    ">>> print(result)"
   ]
  },
  {
   "cell_type": "code",
   "execution_count": 9,
   "metadata": {},
   "outputs": [
    {
     "name": "stdout",
     "output_type": "stream",
     "text": [
      "55\n"
     ]
    }
   ],
   "source": [
    "result = add_many(1,2,3,4,5,6,7,8,9,10)\n",
    ">>> print(result)"
   ]
  },
  {
   "cell_type": "markdown",
   "metadata": {},
   "source": [
    "#### 실습 2-5 세개의 값을 넘겨받아서, 가장 큰 값을 출력해보기"
   ]
  },
  {
   "cell_type": "code",
   "execution_count": 5,
   "metadata": {},
   "outputs": [
    {
     "name": "stdout",
     "output_type": "stream",
     "text": [
      "7\n"
     ]
    }
   ],
   "source": [
    "def max_num3(num1, num2, num3):\n",
    "  if (num1 >= num2) and (num1 >= num3):\n",
    "    max_num = num1\n",
    "  elif (num2 >= num3):\n",
    "    max_num = num2\n",
    "  else:\n",
    "    max_num = num3\n",
    "  return max_num\n",
    "\n",
    "result = max_num3(3,7,1)\n",
    "print(result)"
   ]
  },
  {
   "cell_type": "code",
   "execution_count": 72,
   "metadata": {},
   "outputs": [
    {
     "name": "stdout",
     "output_type": "stream",
     "text": [
      "30\n"
     ]
    }
   ],
   "source": [
    "#세개의 숫자에 값을 준다\n",
    "#함수가 끝나면 매개변수(num1,num2, num3)는 실행되지 않는다. 이 매개변수는 그래서 지역변수라고 한다.\n",
    "def three_plus(num1, num2, num3): \n",
    "  r = num1 + num2 +num3\n",
    "  return r\n",
    "\n",
    "\n",
    "value = three_plus(3,5,7)\n",
    "print(value * 2)"
   ]
  },
  {
   "cell_type": "markdown",
   "metadata": {},
   "source": [
    "## global 전역함수"
   ]
  },
  {
   "cell_type": "code",
   "execution_count": 10,
   "metadata": {},
   "outputs": [
    {
     "name": "stdout",
     "output_type": "stream",
     "text": [
      "16\n",
      "3\n"
     ]
    }
   ],
   "source": [
    "#함수에 어떤 값을 전달해 준다.\n",
    "def two_plus(numa, num2):  #함수가 끝나면 매개변수(num1,num2, num3)는 실행되지 않는다. 이 매개변수는 그래서 지역변수라고 한다.\n",
    "  global num1     #전역변수로 바꿔준다. (외부에서는 안된다!)\n",
    "  num1 = numa\n",
    "  r = num1 + num2\n",
    "  return r\n",
    "\n",
    "#함수 실행\n",
    "value = two_plus(3,5)\n",
    "print(value *2)\n",
    "print(num1)"
   ]
  },
  {
   "cell_type": "markdown",
   "metadata": {},
   "source": [
    "### ❓ 매개변수 값 적는 방법 질문합니다. "
   ]
  },
  {
   "cell_type": "code",
   "execution_count": 11,
   "metadata": {},
   "outputs": [
    {
     "name": "stdout",
     "output_type": "stream",
     "text": [
      "두 값중 큰 값은 7 입니다\n"
     ]
    }
   ],
   "source": [
    "def two_compare(num1=0, num2=0):\n",
    "  if num1 == num2:\n",
    "    return 0\n",
    "  if num1 > num2:\n",
    "    return num1\n",
    "  else:\n",
    "    return num2\n",
    "\n",
    "value = two_compare(3,7)\n",
    "print(\"두 값중 큰 값은\", value, \"입니다\")"
   ]
  },
  {
   "cell_type": "code",
   "execution_count": 12,
   "metadata": {},
   "outputs": [
    {
     "name": "stdout",
     "output_type": "stream",
     "text": [
      "두 값중 큰 값은 7 입니다\n"
     ]
    }
   ],
   "source": [
    "def two_compare(num1, num2):\n",
    "  if num1 == num2:\n",
    "    return 0\n",
    "  if num1 > num2:\n",
    "    return num1\n",
    "  else:\n",
    "    return num2\n",
    "\n",
    "value = two_compare(3,7)\n",
    "print(\"두 값중 큰 값은\", value, \"입니다\")"
   ]
  },
  {
   "cell_type": "markdown",
   "metadata": {},
   "source": [
    "## 문자열 포맷코드: 서식 지정자_%s : 문자열, %d : 정수, %f : 실수"
   ]
  },
  {
   "cell_type": "markdown",
   "metadata": {},
   "source": [
    "\"출력형식\"%(데이터....)\n",
    "\n",
    "출력형식에 형식화된 문자열을 넣어 출력의 모양을 변경하는것입니다.  \n",
    "\"%형식문자\"로 지정하면 % 뒤의 출력 대상들이 1:1로 대응되어 출력됩니다.  \n",
    "%s : 문자열, %d : 정수, %f : 실수 등이 있습니다.  \n",
    "\n",
    "여기에서 재미있는 것은 %s 포맷 코드인데, 이 코드는 어떤 형태의 값이든 변환해 넣을 수 있다. 무슨 말인지 예를 통해 확인해 보자.  \n",
    ">>> \"I have %s apples\" % 3  \n",
    "'I have 3 apples'  \n",
    ">>> \"rate is %s\" % 3.234  \n",
    "'rate is 3.234'  \n",
    "\n",
    "3을 문자열 안에 삽입하려면 %d를 사용하고, 3.234를 삽입하려면 %f를 사용해야 한다. 하지만 %s를 사용하면 이런 것을 생각하지 않아도 된다. 왜냐하면 %s는 자동으로 % 뒤에 있는 값을 문자열로 바꾸기 때문이다."
   ]
  },
  {
   "cell_type": "code",
   "execution_count": 12,
   "metadata": {},
   "outputs": [
    {
     "name": "stdout",
     "output_type": "stream",
     "text": [
      "나의 이름은 한사람입니다\n",
      "나의 이름은 \"한사람\"입니다. 나이는 33세이고 성별은 남성입니다.\n",
      "나이는 33세이고 성별은 남성입니다. 나의 이름은 \"한사람\"입니다. \n",
      "나이는 033세이고 신장은  56.79입니다. 나의 이름은 \"한사람\"입니다. \n",
      "----------------------------------------\n"
     ]
    }
   ],
   "source": [
    "print('나의 이름은 %s입니다'%('한사람'))\n",
    "print('나의 이름은 \"%s\"입니다. 나이는 %d세이고 성별은 %s입니다.'%('한사람',33,'남성'))\n",
    "print('나이는 %d세이고 성별은 %s입니다. 나의 이름은 \"%s\"입니다. '%(33,'남성','한사람'))\n",
    "print('나이는 %03d세이고 신장은 %6.2f입니다. 나의 이름은 \"%s\"입니다. '%(33,56.789,'한사람'))\n",
    "print('-' * 40)"
   ]
  },
  {
   "cell_type": "code",
   "execution_count": 11,
   "metadata": {},
   "outputs": [
    {
     "ename": "TypeError",
     "evalue": "not enough arguments for format string",
     "output_type": "error",
     "traceback": [
      "\u001b[1;31m---------------------------------------------------------------------------\u001b[0m",
      "\u001b[1;31mTypeError\u001b[0m                                 Traceback (most recent call last)",
      "\u001b[1;32m<ipython-input-11-84a966dbc87f>\u001b[0m in \u001b[0;36m<module>\u001b[1;34m\u001b[0m\n\u001b[0;32m      2\u001b[0m \u001b[0mday\u001b[0m \u001b[1;33m=\u001b[0m \u001b[1;34m\"three\"\u001b[0m\u001b[1;33m\u001b[0m\u001b[1;33m\u001b[0m\u001b[0m\n\u001b[0;32m      3\u001b[0m \u001b[1;33m\u001b[0m\u001b[0m\n\u001b[1;32m----> 4\u001b[1;33m \u001b[0mprint\u001b[0m\u001b[1;33m(\u001b[0m\u001b[1;34m\"I ate %d apples. so I was sick for %s days.\"\u001b[0m \u001b[1;33m%\u001b[0m \u001b[0mnumber\u001b[0m\u001b[1;33m)\u001b[0m\u001b[1;33m\u001b[0m\u001b[1;33m\u001b[0m\u001b[0m\n\u001b[0m",
      "\u001b[1;31mTypeError\u001b[0m: not enough arguments for format string"
     ]
    }
   ],
   "source": [
    "number = 10\n",
    "day = \"three\"\n",
    "\n",
    "print(\"I ate %d apples. so I was sick for %s days.\" % number)"
   ]
  },
  {
   "cell_type": "markdown",
   "metadata": {},
   "source": [
    "## __init__함수\n",
    "\n",
    "### self  \n",
    "클래스를 저장할 변수\n",
    "\n",
    "https://khalidpark2029.tistory.com/146"
   ]
  },
  {
   "cell_type": "markdown",
   "metadata": {},
   "source": [
    "#### 연습"
   ]
  },
  {
   "cell_type": "code",
   "execution_count": 36,
   "metadata": {},
   "outputs": [],
   "source": [
    "class JSS:\n",
    "    def __init__(self):   #함수에서, 입력값이 없으면()비워 놓아도 되지만, init에서는 (self)를 넣어줘야 한다. \n",
    "        print('JSS 클래스 선언!') #JSS 클래스를 만드는 순간 'JSS 클래스 선언!'이 실행된다\n",
    "    def show(self):\n",
    "        print('show 실행!')"
   ]
  },
  {
   "cell_type": "code",
   "execution_count": 35,
   "metadata": {},
   "outputs": [
    {
     "name": "stdout",
     "output_type": "stream",
     "text": [
      "JSS 클래스 선언!\n"
     ]
    }
   ],
   "source": [
    "a = JSS()  #a라는 변수에 JSS 클래스를 만는다. # __init__함수는 클래스를 선언해 줘야 하고 "
   ]
  },
  {
   "cell_type": "code",
   "execution_count": 34,
   "metadata": {},
   "outputs": [
    {
     "name": "stdout",
     "output_type": "stream",
     "text": [
      "show 실행!\n"
     ]
    }
   ],
   "source": [
    "a.show()   #init함수가 아닌 함수는 만들어진 class 변수 뒤에 점을 붙이고 함수()를 써워야 한다."
   ]
  },
  {
   "cell_type": "markdown",
   "metadata": {},
   "source": [
    "#### 실습"
   ]
  },
  {
   "cell_type": "code",
   "execution_count": 59,
   "metadata": {},
   "outputs": [],
   "source": [
    "class JSS:\n",
    "    def __init__(self):\n",
    "        self.name = input(\"이름:  \")   #a.name의 a가 self , a.age의 a가 self\n",
    "        self.age = int(input(\"나이:\")) \n",
    "    def show(self):\n",
    "        print('나의 이름은 {}이고, 나이는 {}세 입니다'.format(self.name, self.age))"
   ]
  },
  {
   "cell_type": "code",
   "execution_count": 43,
   "metadata": {},
   "outputs": [
    {
     "name": "stdout",
     "output_type": "stream",
     "text": [
      "이름:  홍길동\n",
      "나이:28\n"
     ]
    }
   ],
   "source": [
    "a = JSS()"
   ]
  },
  {
   "cell_type": "code",
   "execution_count": 45,
   "metadata": {},
   "outputs": [
    {
     "data": {
      "text/plain": [
       "'홍길동'"
      ]
     },
     "execution_count": 45,
     "metadata": {},
     "output_type": "execute_result"
    }
   ],
   "source": [
    "a.name"
   ]
  },
  {
   "cell_type": "code",
   "execution_count": 46,
   "metadata": {},
   "outputs": [
    {
     "data": {
      "text/plain": [
       "28"
      ]
     },
     "execution_count": 46,
     "metadata": {},
     "output_type": "execute_result"
    }
   ],
   "source": [
    "a.age"
   ]
  },
  {
   "cell_type": "code",
   "execution_count": 44,
   "metadata": {},
   "outputs": [
    {
     "name": "stdout",
     "output_type": "stream",
     "text": [
      "나의 이름은 홍길동이고, 나이는 28세 입니다\n"
     ]
    }
   ],
   "source": [
    "a.show()"
   ]
  },
  {
   "cell_type": "markdown",
   "metadata": {},
   "source": [
    "### 상속  \n",
    "class JSS2(JSS):  \n",
    "** def __init__(self): # 상속받는 class에서 __init__함수를 쓰는 순간, 첫번째 class는 사라지게 됩니다.   \n",
    "***    super().__init__   #()는 JSS를 의미  "
   ]
  },
  {
   "cell_type": "code",
   "execution_count": 60,
   "metadata": {},
   "outputs": [],
   "source": [
    "class JSS2(JSS):\n",
    "    pass  # JSS 클래스와 변경된건 하나도 없다는 뜻"
   ]
  },
  {
   "cell_type": "code",
   "execution_count": 52,
   "metadata": {},
   "outputs": [
    {
     "name": "stdout",
     "output_type": "stream",
     "text": [
      "이름:  홍길동\n",
      "나이:29\n"
     ]
    }
   ],
   "source": [
    "a = JSS2()"
   ]
  },
  {
   "cell_type": "code",
   "execution_count": 65,
   "metadata": {},
   "outputs": [],
   "source": [
    "class JSS2(JSS):\n",
    "    def __init__(self):\n",
    "        super().__init__()\n",
    "        self.gender = input(\"성별:  \")\n",
    "    def show(self):\n",
    "        print('나의 이름은 {}이고, 나이는 {}세, 성별은 {} 입니다'.format(self.name, self.age, self.gender))"
   ]
  },
  {
   "cell_type": "code",
   "execution_count": 66,
   "metadata": {},
   "outputs": [
    {
     "name": "stdout",
     "output_type": "stream",
     "text": [
      "이름:  홍길동\n",
      "나이:28\n",
      "성별:  남\n"
     ]
    }
   ],
   "source": [
    "a = JSS2()"
   ]
  },
  {
   "cell_type": "code",
   "execution_count": 68,
   "metadata": {},
   "outputs": [
    {
     "name": "stdout",
     "output_type": "stream",
     "text": [
      "나의 이름은 홍길동이고, 나이는 28세, 성별은 남 입니다\n"
     ]
    }
   ],
   "source": [
    "a.show()"
   ]
  },
  {
   "cell_type": "code",
   "execution_count": null,
   "metadata": {},
   "outputs": [],
   "source": []
  }
 ],
 "metadata": {
  "kernelspec": {
   "display_name": "Python 3",
   "language": "python",
   "name": "python3"
  },
  "language_info": {
   "codemirror_mode": {
    "name": "ipython",
    "version": 3
   },
   "file_extension": ".py",
   "mimetype": "text/x-python",
   "name": "python",
   "nbconvert_exporter": "python",
   "pygments_lexer": "ipython3",
   "version": "3.8.5"
  }
 },
 "nbformat": 4,
 "nbformat_minor": 5
}
