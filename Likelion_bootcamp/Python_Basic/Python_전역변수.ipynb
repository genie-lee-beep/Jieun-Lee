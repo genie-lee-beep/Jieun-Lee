{
  "nbformat": 4,
  "nbformat_minor": 0,
  "metadata": {
    "colab": {
      "name": "Python_전역변수.ipynb",
      "provenance": []
    },
    "kernelspec": {
      "name": "python3",
      "display_name": "Python 3"
    },
    "language_info": {
      "name": "python"
    }
  },
  "cells": [
    {
      "cell_type": "markdown",
      "metadata": {
        "id": "B54QiA7-Kbmz"
      },
      "source": [
        "### 결과값은 어떤 게 나올까요?"
      ]
    },
    {
      "cell_type": "code",
      "metadata": {
        "colab": {
          "base_uri": "https://localhost:8080/"
        },
        "id": "P3c64NlfKVoN",
        "outputId": "b8963bc4-5d6a-4205-e030-7382ac31ed39"
      },
      "source": [
        "x=\"엘리스\"\n",
        "\n",
        "def my_func():\n",
        "    x = \"파이썬\"\n",
        "    print(x)\n",
        "\n",
        "print(x)"
      ],
      "execution_count": 1,
      "outputs": [
        {
          "output_type": "stream",
          "text": [
            "엘리스\n"
          ],
          "name": "stdout"
        }
      ]
    },
    {
      "cell_type": "markdown",
      "metadata": {
        "id": "VHQjuxqbKgzc"
      },
      "source": [
        "* x= \"엘리스\" 는 전역변수이기 때문에"
      ]
    },
    {
      "cell_type": "code",
      "metadata": {
        "id": "fK7iTRCIKa1g"
      },
      "source": [
        ""
      ],
      "execution_count": null,
      "outputs": []
    }
  ]
}