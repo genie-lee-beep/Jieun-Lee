{
  "nbformat": 4,
  "nbformat_minor": 0,
  "metadata": {
    "colab": {
      "name": "Python_method.ipynb",
      "provenance": []
    },
    "kernelspec": {
      "name": "python3",
      "display_name": "Python 3"
    },
    "language_info": {
      "name": "python"
    }
  },
  "cells": [
    {
      "cell_type": "markdown",
      "metadata": {
        "id": "CgPqQQFQXB4i"
      },
      "source": [
        "## 인자와 매개변수, 닮은 듯 다르다!\n",
        "\n",
        "* 매개변수(parameter) : 함수를 정의할 때(만들 때) 넘겨받은 값을 관리하는 변수 >> a,b\n",
        "* 인자(argument) : 함수를 호출할 때(사용할 때) 함수로 넘겨주는 자료 >3,4,"
      ]
    },
    {
      "cell_type": "markdown",
      "metadata": {
        "id": "gCQZOiuBWzzG"
      },
      "source": [
        "### 실습1"
      ]
    },
    {
      "cell_type": "markdown",
      "metadata": {
        "id": "863YUdeoStWh"
      },
      "source": [
        "1. 대응 관계가 3개 있는 Dictionary를 만들고, 이를 변수 my_dict에 넣어봅시다.\n",
        "\n",
        "2. 다음 두 메서드를 이용해서, Dictionary의 Key값들을 담은 변수 var1과 Value값들을 담은 변수 var2를 만들어봅시다.\n",
        "\n",
        "* 딕셔너리.keys() : Dictionary형 dict의 모든 Key를 반환\n",
        "* 딕셔너리.values() : Dictionary형 dict의 모든 Value를 반환"
      ]
    },
    {
      "cell_type": "code",
      "metadata": {
        "colab": {
          "base_uri": "https://localhost:8080/"
        },
        "id": "A2USpyMuRoa6",
        "outputId": "4c95e5bf-b389-4693-cce3-2b9ddd65ebb3"
      },
      "source": [
        "my_dict = {\"nation\":\"United States\", \"state\":\"NY\", \"food\":\"Pizza\"}\n",
        "var1 = my_dict.keys()\n",
        "var2 =my_dict.values()\n",
        "\n",
        "print(var1)\n",
        "print(var2)"
      ],
      "execution_count": null,
      "outputs": [
        {
          "output_type": "stream",
          "name": "stdout",
          "text": [
            "dict_keys(['nation', 'state', 'food'])\n",
            "dict_values(['United States', 'NY', 'Pizza'])\n"
          ]
        }
      ]
    },
    {
      "cell_type": "markdown",
      "metadata": {
        "id": "abTxxxl8W2sq"
      },
      "source": [
        "### 실습2"
      ]
    },
    {
      "cell_type": "markdown",
      "metadata": {
        "id": "Nknhj8YAV9SJ"
      },
      "source": [
        "1. 함수 **`solve()`**를 만들어봅시다. 이 함수의 **매개변수**는 a와 b입니다.\n",
        "2. 이 함수는 a와 b를 곱한 것을 반환합니다.\n",
        "3. 이 함수에 숫자 3과 4를 **인자**로 넣어서 반환되는 값을 변수 var1에 넣어봅시다.\n",
        "4. 이 함수에 숫자 3과 리스트 **`['Cham']`**을 **인자**로 넣어서 반환되는 값을 변수 var2에 넣어봅시다."
      ]
    },
    {
      "cell_type": "code",
      "metadata": {
        "id": "eecHbjvwTpUz",
        "colab": {
          "base_uri": "https://localhost:8080/"
        },
        "outputId": "0266163f-67f6-4394-d65c-f53544100846"
      },
      "source": [
        "def solve(a,b):\n",
        "    return(a*b)\n",
        "    \n",
        "var1 = solve(3,4)\n",
        "var2 = solve(3,['Cham'])\n",
        "\n",
        "\n",
        "print(var1, var2)\n"
      ],
      "execution_count": 4,
      "outputs": [
        {
          "output_type": "stream",
          "name": "stdout",
          "text": [
            "12 ['Cham', 'Cham', 'Cham']\n"
          ]
        }
      ]
    },
    {
      "cell_type": "code",
      "metadata": {
        "id": "oCgXAHWmWBYq"
      },
      "source": [
        ""
      ],
      "execution_count": null,
      "outputs": []
    }
  ]
}