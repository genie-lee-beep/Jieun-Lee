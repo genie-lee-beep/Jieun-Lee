{
  "nbformat": 4,
  "nbformat_minor": 0,
  "metadata": {
    "colab": {
      "name": "Python_함수_return과 print의 차이.ipynb",
      "provenance": []
    },
    "kernelspec": {
      "name": "python3",
      "display_name": "Python 3"
    },
    "language_info": {
      "name": "python"
    }
  },
  "cells": [
    {
      "cell_type": "markdown",
      "metadata": {
        "id": "kJ4aPlpORWxH"
      },
      "source": [
        "1. 함수 **`plus_print()`**을 만들어봅시다.\n",
        "    - 매개변수 : a, b\n",
        "    - 함수 안에서 a와 b를 더한 값을 **출력**\n",
        "    - 반환값 **없음**.\n",
        "2. 함수 **`times_return()`**을 만들어봅시다.\n",
        "    - 매개변수 : a, b\n",
        "    - 반환값 **a와 b를 곱한 결과**.\n",
        "3. 함수를 작성한 후, 다음과 같이 출력되도록 코드를 작성해봅시다.\n",
        "    - **`plus_print()`**으로 숫자 3과 4의 합을 출력해봅시다.\n",
        "    - **`print()`**와 **`times_return()`**으로 숫자 3과 4의 곱을 출력해봅시다.\n"
      ]
    },
    {
      "cell_type": "code",
      "metadata": {
        "id": "7HGzNtvlMdnO"
      },
      "source": [
        "def plus_print(a, b):\n",
        "    print(a+b) #a+b를 출력!\n",
        "        \n",
        "def times_return(a, b):\n",
        "    return a*b #a*b를 반환!\n",
        "    \n",
        "plus_print(3,4)\n",
        "print(times_return(3,4))"
      ],
      "execution_count": null,
      "outputs": []
    },
    {
      "cell_type": "code",
      "metadata": {
        "id": "stJQRvjSRWGn"
      },
      "source": [
        ""
      ],
      "execution_count": null,
      "outputs": []
    }
  ]
}