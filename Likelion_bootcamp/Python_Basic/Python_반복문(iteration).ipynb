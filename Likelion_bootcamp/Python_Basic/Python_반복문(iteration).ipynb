{
  "nbformat": 4,
  "nbformat_minor": 0,
  "metadata": {
    "colab": {
      "name": "Python_반복문(iteration).ipynb",
      "provenance": []
    },
    "kernelspec": {
      "name": "python3",
      "display_name": "Python 3"
    },
    "language_info": {
      "name": "python"
    }
  },
  "cells": [
    {
      "cell_type": "markdown",
      "metadata": {
        "id": "iYk28GK_Js8h"
      },
      "source": [
        "### 100부터 시작해서 10씩 줄어드는 시계 만들기"
      ]
    },
    {
      "cell_type": "code",
      "metadata": {
        "id": "SMVKrh0bJi-f"
      },
      "source": [
        "space = int(input(\"Enter the number\"))\n",
        "for i in range(space,0,-10):\n",
        "    print(i)"
      ],
      "execution_count": null,
      "outputs": []
    },
    {
      "cell_type": "code",
      "metadata": {
        "id": "rG95FMGLJz3z"
      },
      "source": [
        ""
      ],
      "execution_count": null,
      "outputs": []
    },
    {
      "cell_type": "code",
      "metadata": {
        "id": "uJfacrQgJj8c"
      },
      "source": [
        ""
      ],
      "execution_count": null,
      "outputs": []
    }
  ]
}