{
  "nbformat": 4,
  "nbformat_minor": 0,
  "metadata": {
    "colab": {
      "name": "Python_반복문(iteration).ipynb",
      "provenance": []
    },
    "kernelspec": {
      "name": "python3",
      "display_name": "Python 3"
    },
    "language_info": {
      "name": "python"
    }
  },
  "cells": [
    {
      "cell_type": "markdown",
      "metadata": {
        "id": "YCHA_fADzgE6"
      },
      "source": [
        "###변수 mix에 있는 \"쌀\"의 개수를 세봅시다.\n"
      ]
    },
    {
      "cell_type": "code",
      "metadata": {
        "id": "a_jQevwQ1WhE"
      },
      "source": [
        "mix = \"쌀씰쌀쌀씰쌀씰쌀씰쌀쌀씰쌀씰쌀씰쌀쌀씰쌀씰쌀씰쌀쌀씰쌀씰쌀씰쌀쌀씰쌀씰쌀씰쌀쌀씰쌀씰쌀씰쌀쌀씰쌀씰쌀씰쌀쌀씰쌀씰쌀씰쌀쌀씰쌀씰쌀씰쌀쌀씰쌀씰쌀씰쌀쌀씰쌀씰쌀씰쌀쌀씰쌀씰쌀씰쌀쌀씰쌀씰쌀씰쌀쌀씰쌀씰쌀씰쌀쌀씰쌀씰쌀씰쌀쌀씰쌀씰쌀씰쌀쌀씰쌀씰쌀씰쌀쌀씰쌀씰쌀씰쌀쌀씰쌀씰쌀씰쌀쌀씰쌀씰쌀씰쌀쌀씰쌀씰쌀씰쌀쌀씰쌀씰쌀씰쌀쌀씰쌀씰쌀씰쌀쌀씰쌀씰쌀씰쌀쌀씰쌀씰쌀씰쌀쌀씰쌀씰쌀씰쌀쌀씰쌀씰쌀씰쌀쌀씰쌀씰쌀씰쌀쌀씰쌀씰쌀씰쌀쌀씰쌀씰쌀씰쌀쌀씰쌀씰쌀씰쌀쌀씰쌀씰쌀씰쌀쌀씰쌀씰쌀씰쌀쌀씰쌀씰쌀씰쌀쌀씰쌀씰쌀씰쌀쌀씰쌀씰쌀씰쌀쌀씰쌀씰쌀씰쌀쌀씰쌀씰쌀씰쌀쌀씰쌀씰쌀씰쌀쌀씰쌀씰쌀씰쌀쌀씰쌀씰쌀씰쌀쌀씰쌀씰쌀씰쌀쌀씰쌀씰쌀씰쌀쌀씰쌀씰쌀씰쌀쌀씰쌀씰쌀씰쌀쌀씰쌀씰쌀씰쌀쌀씰쌀씰쌀씰쌀쌀씰쌀씰쌀씰쌀쌀씰쌀씰쌀씰쌀쌀씰쌀씰쌀씰쌀쌀씰쌀씰쌀씰쌀쌀씰쌀씰쌀씰쌀쌀씰쌀씰쌀씰쌀쌀씰쌀씰쌀씰쌀쌀씰쌀씰쌀씰쌀쌀씰쌀씰쌀씰쌀쌀씰쌀씰쌀씰쌀쌀씰쌀씰쌀씰쌀쌀씰쌀씰쌀씰쌀쌀씰쌀씰쌀씰쌀쌀씰쌀씰쌀씰쌀쌀씰쌀씰쌀씰쌀쌀씰쌀씰쌀씰쌀쌀씰쌀씰쌀씰쌀쌀씰쌀씰쌀씰쌀쌀씰쌀씰쌀씰쌀쌀씰쌀씰쌀씰쌀쌀씰쌀씰쌀씰쌀쌀씰쌀씰쌀씰쌀쌀씰쌀씰쌀씰쌀쌀씰쌀씰쌀씰쌀쌀씰쌀씰쌀씰쌀쌀씰쌀씰쌀씰쌀쌀씰쌀씰쌀씰쌀쌀씰쌀씰\""
      ],
      "execution_count": 4,
      "outputs": []
    },
    {
      "cell_type": "code",
      "metadata": {
        "colab": {
          "base_uri": "https://localhost:8080/"
        },
        "id": "wPBLHuqpzfFR",
        "outputId": "aa8de91c-8e2e-4b20-81cb-88cdd24a7871"
      },
      "source": [
        "count_ssal = 0\n",
        "for i in mix:\n",
        "    if i == '쌀':\n",
        "        count_ssal +=1\n",
        "print(count_ssal)\n"
      ],
      "execution_count": 3,
      "outputs": [
        {
          "output_type": "stream",
          "name": "stdout",
          "text": [
            "300\n"
          ]
        }
      ]
    },
    {
      "cell_type": "code",
      "metadata": {
        "colab": {
          "base_uri": "https://localhost:8080/"
        },
        "id": "XFryN4itzfNF",
        "outputId": "16dff7a6-c46c-4512-f2c8-e62aa9c238ea"
      },
      "source": [
        "mix = \"쌀쌀쌀쌀쌀쌀쌀\"\n",
        "count_ssal = 0\n",
        "for i in mix:\n",
        "  count_ssal=  count_ssal +1\n",
        "print(count_ssal)"
      ],
      "execution_count": 14,
      "outputs": [
        {
          "output_type": "stream",
          "name": "stdout",
          "text": [
            "7\n"
          ]
        }
      ]
    },
    {
      "cell_type": "markdown",
      "metadata": {
        "id": "-4zCQQ1c8ESv"
      },
      "source": [
        "### 19단을 외자!"
      ]
    },
    {
      "cell_type": "code",
      "metadata": {
        "colab": {
          "base_uri": "https://localhost:8080/"
        },
        "id": "Vy4b5-WS3BqK",
        "outputId": "c25425a3-0acc-4591-fc2e-2a0b919160c7"
      },
      "source": [
        "for i in range(1,20):\n",
        "    print(\"19*\", i , \"=\", 19*i)  #문자열과 문자열이 아닌 부분은 ,(컴마)로 구분해 주어야 한다."
      ],
      "execution_count": 16,
      "outputs": [
        {
          "output_type": "stream",
          "name": "stdout",
          "text": [
            "19* 1 = 19\n",
            "19* 2 = 38\n",
            "19* 3 = 57\n",
            "19* 4 = 76\n",
            "19* 5 = 95\n",
            "19* 6 = 114\n",
            "19* 7 = 133\n",
            "19* 8 = 152\n",
            "19* 9 = 171\n",
            "19* 10 = 190\n",
            "19* 11 = 209\n",
            "19* 12 = 228\n",
            "19* 13 = 247\n",
            "19* 14 = 266\n",
            "19* 15 = 285\n",
            "19* 16 = 304\n",
            "19* 17 = 323\n",
            "19* 18 = 342\n",
            "19* 19 = 361\n"
          ]
        }
      ]
    },
    {
      "cell_type": "markdown",
      "metadata": {
        "id": "iYk28GK_Js8h"
      },
      "source": [
        "### 100부터 시작해서 10씩 줄어드는 시계 만들기"
      ]
    },
    {
      "cell_type": "code",
      "metadata": {
        "id": "SMVKrh0bJi-f"
      },
      "source": [
        "space = int(input(\"Enter the number\"))\n",
        "for i in range(space,0,-10):\n",
        "    print(i)"
      ],
      "execution_count": null,
      "outputs": []
    },
    {
      "cell_type": "markdown",
      "metadata": {
        "id": "jHxkJsDT75od"
      },
      "source": [
        ""
      ]
    },
    {
      "cell_type": "code",
      "metadata": {
        "id": "rG95FMGLJz3z"
      },
      "source": [
        "con = [1,1,2,3,4,1]"
      ],
      "execution_count": null,
      "outputs": []
    },
    {
      "cell_type": "code",
      "metadata": {
        "id": "uJfacrQgJj8c"
      },
      "source": [
        "temp = []\n",
        "for i in con:\n",
        "  if i == 1:\n",
        "    temp.append(i)"
      ],
      "execution_count": null,
      "outputs": []
    },
    {
      "cell_type": "code",
      "metadata": {
        "id": "CmDmgJdI8S74"
      },
      "source": [
        ""
      ],
      "execution_count": null,
      "outputs": []
    }
  ]
}