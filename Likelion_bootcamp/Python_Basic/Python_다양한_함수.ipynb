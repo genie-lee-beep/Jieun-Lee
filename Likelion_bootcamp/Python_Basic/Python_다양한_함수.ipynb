{
  "nbformat": 4,
  "nbformat_minor": 0,
  "metadata": {
    "colab": {
      "name": "Python_다양한 함수.ipynb",
      "provenance": []
    },
    "kernelspec": {
      "name": "python3",
      "display_name": "Python 3"
    },
    "language_info": {
      "name": "python"
    }
  },
  "cells": [
    {
      "cell_type": "markdown",
      "metadata": {
        "id": "NUpO1G0y2FnW"
      },
      "source": [
        "### append()\n",
        "\n"
      ]
    },
    {
      "cell_type": "code",
      "metadata": {
        "colab": {
          "base_uri": "https://localhost:8080/"
        },
        "id": "6DdvLyvJ1V6J",
        "outputId": "bf9d74ee-2dc0-4bf2-e82d-31af1a115c04"
      },
      "source": [
        "lunch = [\"된장찌게\", \"탕수육\", \"김치찌게\"]\n",
        "\n",
        "lunch.append(\"볶음밥\")\n",
        "\n",
        "print(lunch)"
      ],
      "execution_count": null,
      "outputs": [
        {
          "output_type": "stream",
          "name": "stdout",
          "text": [
            "['된장찌게', '탕수육', '김치찌게', '볶음밥']\n"
          ]
        }
      ]
    },
    {
      "cell_type": "code",
      "metadata": {
        "id": "jiAKZIz62AMC"
      },
      "source": [
        ""
      ],
      "execution_count": null,
      "outputs": []
    }
  ]
}