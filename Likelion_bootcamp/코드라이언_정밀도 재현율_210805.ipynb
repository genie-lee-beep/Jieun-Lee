{
 "cells": [
  {
   "cell_type": "code",
   "execution_count": 3,
   "metadata": {},
   "outputs": [],
   "source": [
    "import matplotlib\n",
    "from matplotlib import font_manager, rc\n",
    "import platform\n",
    "import warnings   \n",
    "warnings.filterwarnings(action='ignore')"
   ]
  },
  {
   "cell_type": "code",
   "execution_count": 4,
   "metadata": {},
   "outputs": [],
   "source": [
    "### 한글\n",
    "path = \"C:/Windows/Fonts/malgun.ttf\"\n",
    "if platform.system() == \"Windows\":\n",
    " font_name = font_manager.FontProperties(fname=path).get_name()\n",
    " rc('font', family=font_name)\n",
    "elif platform.system()==\"Darwin\":\n",
    " rc('font', family='AppleGothic')\n",
    "else:\n",
    " print(\"Unknown System\")"
   ]
  },
  {
   "cell_type": "markdown",
   "metadata": {},
   "source": [
    "### 정밀도 재현율 곡선을 이용하여 성능을 판단해 보기\n"
   ]
  },
  {
   "cell_type": "code",
   "execution_count": 5,
   "metadata": {},
   "outputs": [],
   "source": [
    "from sklearn.svm import SVC\n",
    "from sklearn.tree import DecisionTreeClassifier\n",
    "from sklearn.model_selection import train_test_split\n",
    "import matplotlib.pyplot as plt\n",
    "import numpy as np\n",
    "from sklearn.metrics import classification_report"
   ]
  },
  {
   "cell_type": "code",
   "execution_count": 6,
   "metadata": {},
   "outputs": [
    {
     "name": "stdout",
     "output_type": "stream",
     "text": [
      "(450, 2) (450,)\n"
     ]
    }
   ],
   "source": [
    "from mglearn.datasets import make_blobs\n",
    "X, y = make_blobs(n_samples=(400, 50),\n",
    " centers=2, cluster_std=[7.0, 2],\n",
    " random_state=22)\n",
    "\n",
    "print(X.shape, y.shape)"
   ]
  },
  {
   "cell_type": "code",
   "execution_count": 29,
   "metadata": {},
   "outputs": [],
   "source": [
    "X_train, X_test, y_train, y_test = train_test_split(X, y, random_state=0)\n",
    "svc = SVC(gamma=.05).fit(X_train, y_train)\n",
    "tree = DecisionTreeClassifier().fit(X_train, y_train) \n"
   ]
  },
  {
   "cell_type": "code",
   "execution_count": 30,
   "metadata": {},
   "outputs": [
    {
     "name": "stdout",
     "output_type": "stream",
     "text": [
      "              precision    recall  f1-score   support\n",
      "\n",
      "           0       0.96      0.96      0.96      1004\n",
      "           1       0.64      0.67      0.66       121\n",
      "\n",
      "    accuracy                           0.92      1125\n",
      "   macro avg       0.80      0.81      0.81      1125\n",
      "weighted avg       0.93      0.92      0.93      1125\n",
      "\n"
     ]
    }
   ],
   "source": [
    "# SVC 모델\n",
    "pred = svc.predict(X_test)\n",
    "print(classification_report(y_test, pred))\n"
   ]
  },
  {
   "cell_type": "code",
   "execution_count": 31,
   "metadata": {},
   "outputs": [
    {
     "name": "stdout",
     "output_type": "stream",
     "text": [
      "              precision    recall  f1-score   support\n",
      "\n",
      "           0       0.95      0.96      0.95      1004\n",
      "           1       0.62      0.59      0.60       121\n",
      "\n",
      "    accuracy                           0.92      1125\n",
      "   macro avg       0.78      0.77      0.78      1125\n",
      "weighted avg       0.91      0.92      0.92      1125\n",
      "\n"
     ]
    }
   ],
   "source": [
    "# 의사결정 트리 모델\n",
    "pred = tree.predict(X_test)\n",
    "print(classification_report(y_test, pred))"
   ]
  },
  {
   "cell_type": "markdown",
   "metadata": {},
   "source": [
    "### 정밀도-재현율 곡선 확인\n",
    "* 새로운 모델을 만들 때, 운영을 위해 90% 재현율을 유지하는 것등의 필요조건을 지정할 때가 있다.\n",
    "이를 운영 포인트를 지정한다고 말하고, 운영 포인트를 고정하면 비즈니스 목표 설정이나 고객내 다른\n",
    "그룹의 성능을 보장하는데 도움이 된다.\n",
    "* 이런 경우에 과제를 잘 이해하기 위해 모든 임계값을 조사하거나, 정밀도나 재현율의 모든 장단점을 살펴본\n",
    "다."
   ]
  },
  {
   "cell_type": "code",
   "execution_count": 34,
   "metadata": {},
   "outputs": [],
   "source": [
    "from sklearn.metrics import precision_recall_curve\n",
    "\n",
    "predict_prob = svc.decision_function(X_test)\n",
    "precision, recall, thresholds = precision_recall_curve(y_test,predict_prob)"
   ]
  },
  {
   "cell_type": "code",
   "execution_count": 36,
   "metadata": {},
   "outputs": [
    {
     "name": "stdout",
     "output_type": "stream",
     "text": [
      "[-1.42644669 -1.41801331 -1.41416031 ...  1.44315499  1.44543522\n",
      "  1.4675732 ]\n"
     ]
    }
   ],
   "source": [
    "print(thresholds)"
   ]
  },
  {
   "cell_type": "code",
   "execution_count": 41,
   "metadata": {},
   "outputs": [
    {
     "data": {
      "text/plain": [
       "(-1.4264466917666971, 1.467573203281382)"
      ]
     },
     "execution_count": 41,
     "metadata": {},
     "output_type": "execute_result"
    }
   ],
   "source": [
    "thresholds.min(), thresholds.max()"
   ]
  },
  {
   "cell_type": "code",
   "execution_count": 25,
   "metadata": {},
   "outputs": [
    {
     "data": {
      "text/plain": [
       "(0.11019283746556474, 1.0)"
      ]
     },
     "execution_count": 25,
     "metadata": {},
     "output_type": "execute_result"
    }
   ],
   "source": [
    "precision.min(), precision.max()"
   ]
  },
  {
   "cell_type": "code",
   "execution_count": 13,
   "metadata": {},
   "outputs": [
    {
     "data": {
      "text/plain": [
       "(0.0, 1.0)"
      ]
     },
     "execution_count": 13,
     "metadata": {},
     "output_type": "execute_result"
    }
   ],
   "source": [
    "recall.min(), recall.max()"
   ]
  },
  {
   "cell_type": "code",
   "execution_count": 14,
   "metadata": {},
   "outputs": [
    {
     "name": "stdout",
     "output_type": "stream",
     "text": [
      "(4500, 2) (4500,)\n"
     ]
    }
   ],
   "source": [
    "# 부드러운 곡선을 위해 데이터 포인트 수를 늘립니다\n",
    "X, y = make_blobs(n_samples=(4000, 500),\n",
    " centers=2,\n",
    " cluster_std=[7.0, 2],\n",
    " random_state=22)\n",
    "print(X.shape, y.shape)\n",
    "X_train, X_test, y_train, y_test = train_test_split(X, y, random_state=0)\n"
   ]
  },
  {
   "cell_type": "code",
   "execution_count": 17,
   "metadata": {},
   "outputs": [
    {
     "name": "stdout",
     "output_type": "stream",
     "text": [
      "[-1.12256809  0.86782231 -0.14655591 -1.11330437 -1.11378355 -1.14388862\n",
      " -0.89066641 -0.99969575 -1.21851181 -1.25254411]\n"
     ]
    }
   ],
   "source": [
    "svc = SVC(gamma=.05).fit(X_train, y_train)\n",
    "pred = svc.decision_function(X_test) # 0의 값을 기준으로 분포\n",
    "precision, recall, thresholds = precision_recall_curve(y_test, pred)\n",
    "\n",
    "print(pred[0:10])\n"
   ]
  },
  {
   "cell_type": "code",
   "execution_count": 47,
   "metadata": {},
   "outputs": [
    {
     "name": "stdout",
     "output_type": "stream",
     "text": [
      "임계값 :  0 1\n",
      "0\n"
     ]
    },
    {
     "data": {
      "text/plain": [
       "<matplotlib.legend.Legend at 0x2a4887f3cd0>"
      ]
     },
     "execution_count": 47,
     "metadata": {},
     "output_type": "execute_result"
    },
    {
     "data": {
      "image/png": "[encoded data removed]",
      "text/plain": [
       "<Figure size 432x288 with 1 Axes>"
      ]
     },
     "metadata": {
      "needs_background": "light"
     },
     "output_type": "display_data"
    }
   ],
   "source": [
    "precision, recall, thresholds = precision_recall_curve(y_test, pred)\n",
    "print(\"임계값 : \", thresholds.min(), thresholds.max())\n",
    "# 0에 가까운 임계값을 찾습니다\n",
    "close_zero = np.argmin(np.abs(thresholds)) # thresholds의 절대값이 가장 작은 것(위치)\n",
    "print(close_zero)\n",
    "plt.plot(precision[close_zero],\n",
    " recall[close_zero], 'o',\n",
    " markersize=10,\n",
    " label=\"임계값 0\",\n",
    " fillstyle=\"none\", c='k')\n",
    "plt.plot(precision, recall, label=\"정밀도-재현율 곡선\")\n",
    "plt.xlabel(\"정밀도\")\n",
    "plt.ylabel(\"재현율\")\n",
    "plt.legend(loc=\"best\")"
   ]
  },
  {
   "cell_type": "code",
   "execution_count": 45,
   "metadata": {},
   "outputs": [
    {
     "data": {
      "text/plain": [
       "[<matplotlib.lines.Line2D at 0x2a48888ad60>]"
      ]
     },
     "execution_count": 45,
     "metadata": {},
     "output_type": "execute_result"
    },
    {
     "data": {
      "image/png": "[encoded data removed]",
      "text/plain": [
       "<Figure size 432x288 with 1 Axes>"
      ]
     },
     "metadata": {
      "needs_background": "light"
     },
     "output_type": "display_data"
    }
   ],
   "source": [
    "# SVC모델 그래프\n",
    "plt.plot(precision, recall, label=\"svc\")\n",
    "# 기본 임계값(0) 위치 표시\n",
    "plt.plot(precision[close_zero],\n",
    "         recall[close_zero], 'o',\n",
    "         markersize=10,\n",
    "         label=\"svc: 임계값 0\",\n",
    "         fillstyle=\"none\",\n",
    "         c='k',\n",
    "         mew=2)\n",
    "\n",
    "\n",
    "\n",
    "# thresholds의 절대값이 가장 작은 것(위치) # thresholds에서 0의 위치가 어디냐 > 964\n",
    "\n"
   ]
  },
  {
   "cell_type": "code",
   "execution_count": 46,
   "metadata": {},
   "outputs": [
    {
     "name": "stdout",
     "output_type": "stream",
     "text": [
      "0\n"
     ]
    },
    {
     "data": {
      "text/plain": [
       "<matplotlib.legend.Legend at 0x2a4888daca0>"
      ]
     },
     "execution_count": 46,
     "metadata": {},
     "output_type": "execute_result"
    },
    {
     "data": {
      "image/png": "[encoded data removed]",
      "text/plain": [
       "<Figure size 432x288 with 1 Axes>"
      ]
     },
     "metadata": {
      "needs_background": "light"
     },
     "output_type": "display_data"
    }
   ],
   "source": [
    "\n",
    "# RandomForestClassifier는 decision_function 대신 predict_proba를 제공합니다.\n",
    "precision_rf, recall_rf, thresholds_rf = precision_recall_curve(y_test, pred)\n",
    "# 랜덤포레스트 그래프\n",
    "plt.plot(precision_rf, recall_rf, label=\"rf\")\n",
    "close_zero_rf = np.argmin(  np.abs(thresholds_rf - 0.5)  )   # 임계값이 0.5 위치\n",
    "print(close_zero_rf)\n",
    "# 기본 임계값(0.5) 위치 표시\n",
    "plt.plot(precision_rf[close_zero_rf], recall_rf[close_zero_rf], '^', c='k',\n",
    "         markersize=10, label=\"rf: 임계값 0.5\", fillstyle=\"none\", mew=2)\n",
    "plt.xlabel(\"정밀도\")\n",
    "plt.ylabel(\"재현율\")\n",
    "plt.legend(loc=\"best\")"
   ]
  },
  {
   "cell_type": "code",
   "execution_count": 18,
   "metadata": {},
   "outputs": [
    {
     "data": {
      "text/plain": [
       "0.004160997849588233"
      ]
     },
     "execution_count": 18,
     "metadata": {},
     "output_type": "execute_result"
    }
   ],
   "source": [
    "# thresholds에서 0의 위치가 어디냐 > 964 확인 \n",
    "thresholds[964]"
   ]
  },
  {
   "cell_type": "code",
   "execution_count": 49,
   "metadata": {},
   "outputs": [
    {
     "data": {
      "text/plain": [
       "array([0.  , 0.35, 0.7 , ..., 0.  , 0.  , 0.  ])"
      ]
     },
     "execution_count": 49,
     "metadata": {},
     "output_type": "execute_result"
    }
   ],
   "source": [
    "from sklearn.ensemble import RandomForestClassifier\n",
    "rf = RandomForestClassifier(n_estimators=100, random_state=0, max_features=2)\n",
    "rf.fit(X_train, y_train)\n",
    "pred = rf.predict_proba(X_test)[:, 1]\n",
    "pred"
   ]
  },
  {
   "cell_type": "code",
   "execution_count": 50,
   "metadata": {},
   "outputs": [
    {
     "name": "stdout",
     "output_type": "stream",
     "text": [
      "47\n"
     ]
    },
    {
     "data": {
      "text/plain": [
       "<matplotlib.legend.Legend at 0x2a488a6fa00>"
      ]
     },
     "execution_count": 50,
     "metadata": {},
     "output_type": "execute_result"
    },
    {
     "data": {
      "image/png": "[encoded data removed]",
      "text/plain": [
       "<Figure size 432x288 with 1 Axes>"
      ]
     },
     "metadata": {
      "needs_background": "light"
     },
     "output_type": "display_data"
    }
   ],
   "source": [
    "# SVC모델 그래프\n",
    "plt.plot(precision, recall, label=\"svc\")\n",
    "plt.plot(precision[close_zero],\n",
    " recall[close_zero], 'o',\n",
    " markersize=10,\n",
    " label=\"svc: 임계값 0\",\n",
    " fillstyle=\"none\",\n",
    " c='k',\n",
    " mew=2)\n",
    "\n",
    "\n",
    "# RandomForestClassifier는 decision_function 대신 predict_proba를 제공합니다.\n",
    "precision_rf, recall_rf, thresholds_rf = precision_recall_curve(y_test, pred)\n",
    "\n",
    "\n",
    "\n",
    "# 랜덤포레스트 그래프\n",
    "plt.plot(precision_rf, recall_rf, label=\"rf\")\n",
    "close_zero_rf = np.argmin( np.abs(thresholds_rf - 0.5) ) # 임계값이 0.5 위치\n",
    "print(close_zero_rf)\n",
    "plt.plot(precision_rf[close_zero_rf], recall_rf[close_zero_rf], '^', c='k',\n",
    " markersize=10, label=\"rf: 임계값 0.5\", fillstyle=\"none\", mew=2)\n",
    "plt.xlabel(\"정밀도\")\n",
    "plt.ylabel(\"재현율\")\n",
    "plt.legend(loc=\"best\")\n"
   ]
  },
  {
   "cell_type": "code",
   "execution_count": null,
   "metadata": {},
   "outputs": [],
   "source": []
  }
 ],
 "metadata": {
  "kernelspec": {
   "display_name": "Python 3",
   "language": "python",
   "name": "python3"
  },
  "language_info": {
   "codemirror_mode": {
    "name": "ipython",
    "version": 3
   },
   "file_extension": ".py",
   "mimetype": "text/x-python",
   "name": "python",
   "nbconvert_exporter": "python",
   "pygments_lexer": "ipython3",
   "version": "3.8.5"
  }
 },
 "nbformat": 4,
 "nbformat_minor": 4
}
