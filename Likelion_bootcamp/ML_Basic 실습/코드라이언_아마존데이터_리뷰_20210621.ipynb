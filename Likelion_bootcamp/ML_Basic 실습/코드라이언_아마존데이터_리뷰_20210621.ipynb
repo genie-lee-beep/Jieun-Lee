{
 "cells": [
  {
   "cell_type": "markdown",
   "metadata": {},
   "source": [
    "## 1)웹드라이버에 객체 할당"
   ]
  },
  {
   "cell_type": "code",
   "execution_count": 43,
   "metadata": {},
   "outputs": [
    {
     "data": {
      "text/plain": [
       "<selenium.webdriver.chrome.webdriver.WebDriver (session=\"a67a72ee6384290806a09fe337df5784\")>"
      ]
     },
     "execution_count": 43,
     "metadata": {},
     "output_type": "execute_result"
    }
   ],
   "source": [
    "from selenium import webdriver\n",
    "from bs4 import BeautifulSoup\n",
    "\n",
    "driver = webdriver.Chrome('./chromedriver_90')\n",
    "driver"
   ]
  },
  {
   "cell_type": "code",
   "execution_count": 44,
   "metadata": {},
   "outputs": [],
   "source": [
    "\n",
    "url = 'https://www.amazon.com/I-Love-You-Through/dp/0439673631/ref=pd_bkstr_rtpb_11?_encoding=UTF8&pd_rd_i=0439673631&pd_rd_r=b6408368-b4ad-4216-a355-4a9b5d3783ed&pd_rd_w=ctM06&pd_rd_wg=IqFxz&pf_rd_p=bde336d5-3a2a-4b7b-8e18-de1f4aaea610&pf_rd_r=65N1HJRRQHTWVKNBT9W6&psc=1&refRID=2XWPSHYF7973Q8W8T00B'\n",
    "driver.get(url) "
   ]
  },
  {
   "cell_type": "code",
   "execution_count": 3,
   "metadata": {},
   "outputs": [],
   "source": [
    "# //*[@id=\"acrCustomerReviewText\"]\n",
    "sel_rate = driver.find_element_by_xpath('//*[@id=\"acrCustomerReviewText\"]')\n",
    "sel_rate.click()"
   ]
  },
  {
   "cell_type": "code",
   "execution_count": 5,
   "metadata": {},
   "outputs": [],
   "source": [
    "# //*[@id=\"reviews-medley-footer\"]/div[2]/a\n",
    "sel_all_review = driver.find_element_by_xpath('//*[@id=\"reviews-medley-footer\"]/div[2]/a')\n",
    "sel_all_review.click()"
   ]
  },
  {
   "cell_type": "code",
   "execution_count": 6,
   "metadata": {},
   "outputs": [
    {
     "data": {
      "text/plain": [
       "<title>Amazon.com: Customer reviews: Earbuds Earphone,Wired in-Ear Headphones with Bluetooth,Noise Reduction Function with Built-in Microphone and Volume Control Compatible with iPhone12/ 12 Pro/11/11 Pro/XR/XS Max/X /8 Plus (2 Pack)</title>"
      ]
     },
     "execution_count": 6,
     "metadata": {},
     "output_type": "execute_result"
    }
   ],
   "source": [
    "page = driver.page_source\n",
    "soup = BeautifulSoup(page, 'lxml')\n",
    "soup.title #확인차 한번 입력 "
   ]
  },
  {
   "cell_type": "code",
   "execution_count": 23,
   "metadata": {},
   "outputs": [
    {
     "data": {
      "text/plain": [
       "[<span class=\"a-size-base review-text review-text-content\" data-hook=\"review-body\">\n",
       " <span>\n",
       "   We made hot chocolate bombs. Love the size and how the mold peels right off the chocolate without breaking it! Kids had a blast! Would recommend!\n",
       " </span>\n",
       " </span>,\n",
       " <span class=\"a-size-base review-text review-text-content\" data-hook=\"review-body\">\n",
       " <span>\n",
       "   Ok I was skeptical and watched so many videos to not mess up the process. Turns out that I believe what's important is the quality of chocolate you use. Anything that stays solid at room temperature and is semi gourmet is perfect! Candy bars not so much as they melt while handling. Stuffed full with baby marshmallows and hot chocolate nesquick mix and some brown sugar. My boys loved the rich bombs made in milk. The balls are large and perfect size to fit in a big mug. I stored ours in the fridge.<br/>We also painted on two layers of chocolate and cooled in the fridge after each layer. Areas to be careful with are the bomb edges that seal as well as the bottom center, i ended up with a couple holes. No harm done still tasty just not pretty. Yes i recommend it and yes i would buy it again.\n",
       " </span>\n",
       " </span>,\n",
       " <span class=\"a-size-base review-text review-text-content\" data-hook=\"review-body\">\n",
       " <span>\n",
       "   I love how easy these are to use!! Great for beginners!!\n",
       " </span>\n",
       " </span>,\n",
       " <span class=\"a-size-base review-text review-text-content\" data-hook=\"review-body\">\n",
       " <span>\n",
       "   These were so easy to use. Easy to clean as well. The chocolate popped right out once set. I think this is a great price and value. My first time making hot cocoa bombs was a success because of these molds. There are so many to choose from on Amazon but I think I made the right choice for sure!\n",
       " </span>\n",
       " </span>,\n",
       " <span class=\"a-size-base review-text review-text-content\" data-hook=\"review-body\">\n",
       " <span>\n",
       "   The mold was the perfect size for a hot chocolate bomb! I read so many reviews before purchasing trying to get something that would be the right size, delivered quickly, &amp; was easy to use. This mold was all of the above. As some mentioned, it is thin, buy that allows for easy removal of the molded item. It does also make it a little flattened on the ends because of that, so we used a cookie sheet underneath to help as it was so flexible and also put some bunched up parchment paper underneath to help take the pressure off of it sitting on the flat surface and it worked great. Kind of a pain to have to do that, but if the mold was harder it would make getting the stuff out of the molds harder. I am very happy with these molds and would purchase them again.\n",
       " </span>\n",
       " </span>,\n",
       " <span class=\"a-size-base review-text review-text-content\" data-hook=\"review-body\">\n",
       " <span>\n",
       "   This product shipped fast and arrived on time. Good quality and makes an over 2\" hot cocoa bomb.<br/>Very happy with this purchase. I bought 2 sets of 3 !! Easy to clean, easy to use.\n",
       " </span>\n",
       " </span>,\n",
       " <span class=\"a-size-base review-text review-text-content\" data-hook=\"review-body\">\n",
       " <span>\n",
       "   Too flimsy, received a refund. A $10 gift card is offered for a five star review!\n",
       " </span>\n",
       " </span>,\n",
       " <span class=\"a-size-base review-text review-text-content\" data-hook=\"review-body\">\n",
       " <span>\n",
       "   Great product!  Worked well!  Update The product works fine...nothing extraordinary, but I only wrote this review because they promised a Amazon gift card but never delivered on it...so I'm giving it 1 star because they lied and didn't fulfill their promise.  That is all.\n",
       " </span>\n",
       " </span>,\n",
       " <span class=\"a-size-base review-text review-text-content\" data-hook=\"review-body\">\n",
       " <span>\n",
       "   First time making chocolate bombs and while the first one didn’t turn out great because my hands were too warm, the silicone molds made it very easy to remove!  These spheres are 2.5 inches in diameter and are the perfect size for chocolate bombs! Also very easy to wash - just put them in the dishwasher!  I didn’t have any silicone smell after I put it in the dishwasher as soon as I got it.\n",
       " </span>\n",
       " </span>,\n",
       " <span class=\"a-size-base review-text review-text-content\" data-hook=\"review-body\">\n",
       " <span>\n",
       "   Unlike other seller which never delivered, after 2 weeks we ordered from them.  Super fast delivery even during Christmas! The mold worked great for the cocoa bomb even my 8 year old was able to make them.  Very happy!\n",
       " </span>\n",
       " </span>]"
      ]
     },
     "execution_count": 23,
     "metadata": {},
     "output_type": "execute_result"
    }
   ],
   "source": [
    "all_r = soup.find_all(\"span\", class_=\"a-size-base review-text review-text-content\")\n",
    "all_r"
   ]
  },
  {
   "cell_type": "code",
   "execution_count": 24,
   "metadata": {},
   "outputs": [
    {
     "data": {
      "text/plain": [
       "'\\n\\n  We made hot chocolate bombs. Love the size and how the mold peels right off the chocolate without breaking it! Kids had a blast! Would recommend!\\n\\n'"
      ]
     },
     "execution_count": 24,
     "metadata": {},
     "output_type": "execute_result"
    }
   ],
   "source": [
    "len(all_r)\n",
    "all_r[0].text"
   ]
  },
  {
   "cell_type": "code",
   "execution_count": 27,
   "metadata": {},
   "outputs": [
    {
     "name": "stdout",
     "output_type": "stream",
     "text": [
      "['  We made hot chocolate bombs. Love the size and how the mold peels right off the chocolate without breaking it! Kids had a blast! Would recommend!', \"  Ok I was skeptical and watched so many videos to not mess up the process. Turns out that I believe what's important is the quality of chocolate you use. Anything that stays solid at room temperature and is semi gourmet is perfect! Candy bars not so much as they melt while handling. Stuffed full with baby marshmallows and hot chocolate nesquick mix and some brown sugar. My boys loved the rich bombs made in milk. The balls are large and perfect size to fit in a big mug. I stored ours in the fridge.We also painted on two layers of chocolate and cooled in the fridge after each layer. Areas to be careful with are the bomb edges that seal as well as the bottom center, i ended up with a couple holes. No harm done still tasty just not pretty. Yes i recommend it and yes i would buy it again.\", '  I love how easy these are to use!! Great for beginners!!', '  These were so easy to use. Easy to clean as well. The chocolate popped right out once set. I think this is a great price and value. My first time making hot cocoa bombs was a success because of these molds. There are so many to choose from on Amazon but I think I made the right choice for sure!', '  The mold was the perfect size for a hot chocolate bomb! I read so many reviews before purchasing trying to get something that would be the right size, delivered quickly, & was easy to use. This mold was all of the above. As some mentioned, it is thin, buy that allows for easy removal of the molded item. It does also make it a little flattened on the ends because of that, so we used a cookie sheet underneath to help as it was so flexible and also put some bunched up parchment paper underneath to help take the pressure off of it sitting on the flat surface and it worked great. Kind of a pain to have to do that, but if the mold was harder it would make getting the stuff out of the molds harder. I am very happy with these molds and would purchase them again.', '  This product shipped fast and arrived on time. Good quality and makes an over 2\" hot cocoa bomb.Very happy with this purchase. I bought 2 sets of 3 !! Easy to clean, easy to use.', '  Too flimsy, received a refund. A $10 gift card is offered for a five star review!', \"  Great product!  Worked well!  Update The product works fine...nothing extraordinary, but I only wrote this review because they promised a Amazon gift card but never delivered on it...so I'm giving it 1 star because they lied and didn't fulfill their promise.  That is all.\", '  First time making chocolate bombs and while the first one didn’t turn out great because my hands were too warm, the silicone molds made it very easy to remove!  These spheres are 2.5 inches in diameter and are the perfect size for chocolate bombs! Also very easy to wash - just put them in the dishwasher!  I didn’t have any silicone smell after I put it in the dishwasher as soon as I got it.', '  Unlike other seller which never delivered, after 2 weeks we ordered from them.  Super fast delivery even during Christmas! The mold worked great for the cocoa bomb even my 8 year old was able to make them.  Very happy!']\n"
     ]
    }
   ],
   "source": [
    "all_review = [] #리스트 형식은 for 문을 활용해서 하나하나씩 가져올 수 있다. \n",
    "\n",
    "for one in all_r:\n",
    "    tmp = one.text\n",
    "    review = tmp.replace(\"\\n\", \"\") # \\n을 공백으로 변환해 주는 함수 >>  replace(\"\\n\",'') \\n을 공백으로 바꿔줘 \n",
    "    # review = tmp.string()\n",
    "    all_review.append(review)\n",
    "    \n",
    "print(all_review)"
   ]
  },
  {
   "cell_type": "code",
   "execution_count": 21,
   "metadata": {},
   "outputs": [
    {
     "ename": "SyntaxError",
     "evalue": "invalid syntax (<ipython-input-21-be6c41c22390>, line 8)",
     "output_type": "error",
     "traceback": [
      "\u001b[1;36m  File \u001b[1;32m\"<ipython-input-21-be6c41c22390>\"\u001b[1;36m, line \u001b[1;32m8\u001b[0m\n\u001b[1;33m    print(all_review[0], all_review[-1], sep =\"\\n\")\u001b[0m\n\u001b[1;37m    ^\u001b[0m\n\u001b[1;31mSyntaxError\u001b[0m\u001b[1;31m:\u001b[0m invalid syntax\n"
     ]
    }
   ],
   "source": [
    "# all_review = []\n",
    "# for one in all_r:\n",
    "#     tmp = one.text\n",
    "#     review = tmp.strip()\n",
    "#     all_review.append(review)\n",
    "    \n",
    "# print(\"리뷰개수 :\", len(all_review)      \n",
    "# print(all_review[0], all_review[-1], sep =\"\\n\")"
   ]
  },
  {
   "cell_type": "code",
   "execution_count": 28,
   "metadata": {},
   "outputs": [],
   "source": [
    "import pandas as pd "
   ]
  },
  {
   "cell_type": "code",
   "execution_count": 29,
   "metadata": {},
   "outputs": [
    {
     "data": {
      "text/html": [
       "<div>\n",
       "<style scoped>\n",
       "    .dataframe tbody tr th:only-of-type {\n",
       "        vertical-align: middle;\n",
       "    }\n",
       "\n",
       "    .dataframe tbody tr th {\n",
       "        vertical-align: top;\n",
       "    }\n",
       "\n",
       "    .dataframe thead th {\n",
       "        text-align: right;\n",
       "    }\n",
       "</style>\n",
       "<table border=\"1\" class=\"dataframe\">\n",
       "  <thead>\n",
       "    <tr style=\"text-align: right;\">\n",
       "      <th></th>\n",
       "      <th>review</th>\n",
       "    </tr>\n",
       "  </thead>\n",
       "  <tbody>\n",
       "    <tr>\n",
       "      <th>0</th>\n",
       "      <td>We made hot chocolate bombs. Love the size a...</td>\n",
       "    </tr>\n",
       "    <tr>\n",
       "      <th>1</th>\n",
       "      <td>Ok I was skeptical and watched so many video...</td>\n",
       "    </tr>\n",
       "    <tr>\n",
       "      <th>2</th>\n",
       "      <td>I love how easy these are to use!! Great for...</td>\n",
       "    </tr>\n",
       "    <tr>\n",
       "      <th>3</th>\n",
       "      <td>These were so easy to use. Easy to clean as ...</td>\n",
       "    </tr>\n",
       "    <tr>\n",
       "      <th>4</th>\n",
       "      <td>The mold was the perfect size for a hot choc...</td>\n",
       "    </tr>\n",
       "    <tr>\n",
       "      <th>5</th>\n",
       "      <td>This product shipped fast and arrived on tim...</td>\n",
       "    </tr>\n",
       "    <tr>\n",
       "      <th>6</th>\n",
       "      <td>Too flimsy, received a refund. A $10 gift ca...</td>\n",
       "    </tr>\n",
       "    <tr>\n",
       "      <th>7</th>\n",
       "      <td>Great product!  Worked well!  Update The pro...</td>\n",
       "    </tr>\n",
       "    <tr>\n",
       "      <th>8</th>\n",
       "      <td>First time making chocolate bombs and while ...</td>\n",
       "    </tr>\n",
       "    <tr>\n",
       "      <th>9</th>\n",
       "      <td>Unlike other seller which never delivered, a...</td>\n",
       "    </tr>\n",
       "  </tbody>\n",
       "</table>\n",
       "</div>"
      ],
      "text/plain": [
       "                                              review\n",
       "0    We made hot chocolate bombs. Love the size a...\n",
       "1    Ok I was skeptical and watched so many video...\n",
       "2    I love how easy these are to use!! Great for...\n",
       "3    These were so easy to use. Easy to clean as ...\n",
       "4    The mold was the perfect size for a hot choc...\n",
       "5    This product shipped fast and arrived on tim...\n",
       "6    Too flimsy, received a refund. A $10 gift ca...\n",
       "7    Great product!  Worked well!  Update The pro...\n",
       "8    First time making chocolate bombs and while ...\n",
       "9    Unlike other seller which never delivered, a..."
      ]
     },
     "execution_count": 29,
     "metadata": {},
     "output_type": "execute_result"
    }
   ],
   "source": [
    "dat_r = {'review': all_review}\n",
    "dat = pd.DataFrame(dat_r)\n",
    "dat "
   ]
  },
  {
   "cell_type": "code",
   "execution_count": 39,
   "metadata": {},
   "outputs": [],
   "source": [
    "dat.to_csv(\"review.csv\", index = False)"
   ]
  },
  {
   "cell_type": "markdown",
   "metadata": {},
   "source": [
    "### 덩어리 "
   ]
  },
  {
   "cell_type": "code",
   "execution_count": 46,
   "metadata": {},
   "outputs": [
    {
     "name": "stdout",
     "output_type": "stream",
     "text": [
      "10\n"
     ]
    },
    {
     "data": {
      "text/plain": [
       "'5'"
      ]
     },
     "execution_count": 46,
     "metadata": {},
     "output_type": "execute_result"
    }
   ],
   "source": [
    "#평점 추가 부분에 대한 부연 설명\n",
    "\n",
    "import re\n",
    "\n",
    "all_r = soup.find_all(\"div\", class_=\"a-section celwidget\")   #all_r: 전체 덩어리 \n",
    "\n",
    "\n",
    "tmp = all_r[0].find(\"span\", class_=\"a-icon-alt\").text\n",
    "print(len(all_r) )\n",
    "rating = re.findall(\"\\d+\", tmp)\n",
    "rating[0]"
   ]
  },
  {
   "cell_type": "code",
   "execution_count": 47,
   "metadata": {},
   "outputs": [
    {
     "name": "stdout",
     "output_type": "stream",
     "text": [
      "['Monica Olivas', 'mstoa', 'Valerie Estrada', 'Cristi D', 'AmazonCustomer', 'Sheila M', 'Smilee85', 'Latonya', 'Donna', 'penny pinching mom']\n",
      "['5', '5', '5', '5', '5', '5', '1', '1', '5', '5']\n",
      "['December 22, 2020', 'March 24, 2021', 'December 20, 2020', 'January 31, 2021', 'February 27, 2021', 'January 5, 2021', 'January 28, 2021', 'March 11, 2021', 'April 5, 2021', 'December 20, 2020']\n",
      "[]\n"
     ]
    }
   ],
   "source": [
    "# 첫번째 페이지에 대한 것 \n",
    "all_r = soup.find_all(\"div\", class_=\"a-section celwidget\")\n",
    "\n",
    "all_user = []    # 사용자\n",
    "all_ratings = [] # 평점\n",
    "all_dates = []   # 날짜\n",
    "all_reviews = [] # 리뷰\n",
    "\n",
    "for one in all_r:  #질문: one이 무엇?\n",
    "    user_one = one.find(\"span\", class_=\"a-profile-name\").text\n",
    "    all_user.append(user_one)  # 사용자 추가\n",
    "    \n",
    "    rating_one = one.find(\"span\", class_=\"a-icon-alt\").text\n",
    "    nums = re.findall(\"\\d+\", rating_one)[0]  #정규 표현식 re.findall(pattern,string) / \\d+  는 리스트 안에서 숫자를  하나씩 가져오는 것\n",
    "    all_ratings.append(nums)   # 평점 추가\n",
    "    \n",
    "    date_one = one.find(\"span\", class_=\"a-size-base a-color-secondary review-date\")\n",
    "    texts = date_one.text.split(\"on\")\n",
    "    data = texts[1].strip()\n",
    "    all_dates.append(data)# 날짜 추가\n",
    "    \n",
    "    # 리뷰 추가\n",
    "    review_one = one.find(\"span\",\n",
    "                class_=\"a-size-base review-text review-text-content\")\n",
    "    tmp = review_one.text\n",
    "    review = tmp.strip()\n",
    "    all_review.append(review)\n",
    "    \n",
    "print(all_user)\n",
    "print(all_ratings)\n",
    "print(all_dates)\n",
    "print(all_reviews)"
   ]
  },
  {
   "cell_type": "code",
   "execution_count": 48,
   "metadata": {},
   "outputs": [
    {
     "ename": "AttributeError",
     "evalue": "'NoneType' object has no attribute 'text'",
     "output_type": "error",
     "traceback": [
      "\u001b[1;31m---------------------------------------------------------------------------\u001b[0m",
      "\u001b[1;31mAttributeError\u001b[0m                            Traceback (most recent call last)",
      "\u001b[1;32m<ipython-input-48-fe27588e2832>\u001b[0m in \u001b[0;36m<module>\u001b[1;34m\u001b[0m\n\u001b[0;32m     23\u001b[0m         review_one = one.find(\"span\",\n\u001b[0;32m     24\u001b[0m                     class_=\"a-size-base review-text review-text-content\")\n\u001b[1;32m---> 25\u001b[1;33m         \u001b[0mtmp\u001b[0m \u001b[1;33m=\u001b[0m \u001b[0mreview_one\u001b[0m\u001b[1;33m.\u001b[0m\u001b[0mtext\u001b[0m\u001b[1;33m\u001b[0m\u001b[1;33m\u001b[0m\u001b[0m\n\u001b[0m\u001b[0;32m     26\u001b[0m         \u001b[0mreview\u001b[0m \u001b[1;33m=\u001b[0m \u001b[0mtmp\u001b[0m\u001b[1;33m.\u001b[0m\u001b[0mstrip\u001b[0m\u001b[1;33m(\u001b[0m\u001b[1;33m)\u001b[0m\u001b[1;33m\u001b[0m\u001b[1;33m\u001b[0m\u001b[0m\n\u001b[0;32m     27\u001b[0m         \u001b[0mall_reviews\u001b[0m\u001b[1;33m.\u001b[0m\u001b[0mappend\u001b[0m\u001b[1;33m(\u001b[0m\u001b[0mreview\u001b[0m\u001b[1;33m)\u001b[0m\u001b[1;33m\u001b[0m\u001b[1;33m\u001b[0m\u001b[0m\n",
      "\u001b[1;31mAttributeError\u001b[0m: 'NoneType' object has no attribute 'text'"
     ]
    }
   ],
   "source": [
    "all_user = []    # 사용자\n",
    "all_ratings = [] # 평점\n",
    "all_dates = []   # 날짜\n",
    "all_reviews = [] # 리뷰\n",
    "for page in range(2, 7, 1):\n",
    "    #time.sleep(3)\n",
    "    page = driver.page_source\n",
    "    soup = BeautifulSoup(page, 'html.parser')\n",
    "    all_r = soup.find_all(\"div\", class_=\"a-section celwidget\")\n",
    "    for one in all_r:\n",
    "        user_one = one.find(\"span\", class_=\"a-profile-name\").text\n",
    "        all_user.append(user_one)  # 사용자 추가\n",
    "        rating_one = one.find(\"span\", class_=\"a-icon-alt\").text\n",
    "        nums = re.findall(\"\\d+\", rating_one)[0]\n",
    "        all_ratings.append(nums)   # 평점 추가\n",
    "        \n",
    "        date_one = one.find(\"span\", class_=\"a-size-base a-color-secondary review-date\")\n",
    "        texts = date_one.text.split(\"on\")\n",
    "        data = texts[1].strip()\n",
    "        all_dates.append(data) # 날짜 추가\n",
    "        \n",
    "        # 리뷰 추가\n",
    "        review_one = one.find(\"span\",\n",
    "                    class_=\"a-size-base review-text review-text-content\")\n",
    "        tmp = review_one.text\n",
    "        review = tmp.strip()\n",
    "        all_reviews.append(review)\n",
    "    # 확인\n",
    "    print(\"user : \" , all_user[-1], \"rating :\", all_rating[-1])\n",
    "    print(\"review : \", all_review[-1], end=\"\\n\\n\\n\")\n",
    "    # 다음 페이지 클릭\n",
    "    sel_next = driver.find_element_by_xpath('//*[@id=\"cm_cr-pagination_bar\"]/ul/li[2]/a')\n",
    "    sel_next.click()"
   ]
  },
  {
   "cell_type": "code",
   "execution_count": null,
   "metadata": {},
   "outputs": [],
   "source": []
  }
 ],
 "metadata": {
  "kernelspec": {
   "display_name": "Python 3",
   "language": "python",
   "name": "python3"
  },
  "language_info": {
   "codemirror_mode": {
    "name": "ipython",
    "version": 3
   },
   "file_extension": ".py",
   "mimetype": "text/x-python",
   "name": "python",
   "nbconvert_exporter": "python",
   "pygments_lexer": "ipython3",
   "version": "3.8.5"
  }
 },
 "nbformat": 4,
 "nbformat_minor": 4
}
