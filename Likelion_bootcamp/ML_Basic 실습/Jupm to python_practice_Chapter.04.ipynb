{
 "cells": [
  {
   "cell_type": "markdown",
   "metadata": {},
   "source": [
    "## 주어진 자연수가 홀수인지 짝수인지 판별해 주는 함수(is_odd)를 작성해 보자."
   ]
  },
  {
   "cell_type": "code",
   "execution_count": 13,
   "metadata": {},
   "outputs": [
    {
     "name": "stdout",
     "output_type": "stream",
     "text": [
      "odd\n",
      "even\n"
     ]
    }
   ],
   "source": [
    "def is_odd(num):\n",
    "    if num % 2 == 0:\n",
    "        return(\"even\")\n",
    "    \n",
    "    else:\n",
    "        return(\"odd\")\n",
    "\n",
    "number1 = is_odd(31)\n",
    "print(number1)\n",
    "\n",
    "number2 = is_odd(22)\n",
    "print(number2)"
   ]
  },
  {
   "cell_type": "markdown",
   "metadata": {},
   "source": [
    "## 입력으로 들어오는 모든 수의 평균 값을 계산해 주는 함수를 작성해 보자. (단 입력으로 들어오는 수의 개수는 정해져 있지 않다.)"
   ]
  },
  {
   "cell_type": "code",
   "execution_count": 20,
   "metadata": {},
   "outputs": [
    {
     "data": {
      "text/plain": [
       "6.0"
      ]
     },
     "execution_count": 20,
     "metadata": {},
     "output_type": "execute_result"
    }
   ],
   "source": [
    "\n",
    "def average(*args):  # 입력 개수에 상관없이 사용하기 위해 *args를 사용\n",
    "    result = 0 \n",
    "    for i in args: \n",
    "        result += i    # +=  꼭 이렇게 써줘야함! \n",
    "        ave = result /len(args) \n",
    "    return ave \n",
    "\n",
    "average(3,5)\n",
    "average(3,5,10)\n",
    "\n",
    "    "
   ]
  },
  {
   "cell_type": "markdown",
   "metadata": {},
   "source": [
    "## 3과 6을 입력했을 때 9가 아닌 36이라는 결괏값을 돌려주었다. 이 프로그램의 오류를 수정해 보자."
   ]
  },
  {
   "cell_type": "code",
   "execution_count": 24,
   "metadata": {},
   "outputs": [
    {
     "name": "stdout",
     "output_type": "stream",
     "text": [
      "첫번째 숫자를 입력하세요2\n",
      "첫번째 숫자를 입력하세요3\n",
      "두수의 합은 5 입니다\n"
     ]
    }
   ],
   "source": [
    "input1 = int(input(\"첫번째 숫자를 입력하세요\")) # 입력은 항상 문자열이므로 숫자로 바꾸어 주어야 한다.\n",
    "input2 = int(input(\"첫번째 숫자를 입력하세요\"))\n",
    "\n",
    "sum = input1 + input2 \n",
    "print(\"두수의 합은 %s 입니다\" % sum)  # %s "
   ]
  },
  {
   "cell_type": "markdown",
   "metadata": {},
   "source": [
    "## 다음 중 출력 결과가 다른 것 한 개를 고르시오."
   ]
  },
  {
   "cell_type": "code",
   "execution_count": null,
   "metadata": {},
   "outputs": [],
   "source": [
    ">>> print(\"you\" \"need\" \"python\")\n",
    "youneedpython\n",
    ">>> print(\"you\"+\"need\"+\"python\")\n",
    "youneedpython\n",
    ">>> print(\"you\", \"need\", \"python\")   # 콤마가 있는 경우 공백이 삽입되어 더해진다.\n",
    "you need python\n",
    ">>> print(\"\".join([\"you\", \"need\", \"python\"]))\n",
    "youneedpython"
   ]
  },
  {
   "cell_type": "markdown",
   "metadata": {},
   "source": []
  },
  {
   "cell_type": "markdown",
   "metadata": {},
   "source": [
    "## 사용자의 입력을 파일(test.txt)에 저장하는 프로그램을 작성해 보자. (단 프로그램을 다시 실행하더라도 기존에 작성한 내용을 유지하고 새로 입력한 내용을 추가해야 한다.)"
   ]
  },
  {
   "cell_type": "code",
   "execution_count": 34,
   "metadata": {},
   "outputs": [
    {
     "name": "stdout",
     "output_type": "stream",
     "text": [
      "입력해주세요첫번째\n"
     ]
    }
   ],
   "source": [
    "f = open(\"test.txt\",'w')\n",
    "text = input(\"입력해주세요\")\n",
    "f.write(text)\n",
    "f.close()"
   ]
  },
  {
   "cell_type": "code",
   "execution_count": 36,
   "metadata": {},
   "outputs": [
    {
     "name": "stdout",
     "output_type": "stream",
     "text": [
      "입력해주세요java\n"
     ]
    }
   ],
   "source": [
    "f = open(\"test.txt\",'a')\n",
    "text = input(\"입력해주세요\")\n",
    "f.write(text)\n",
    "f.close()"
   ]
  },
  {
   "cell_type": "markdown",
   "metadata": {},
   "source": [
    "## 다음과 같은 내용을 지닌 파일 test.txt가 있다. 이 파일의 내용 중 \"java\"라는 문자열을 \"python\"으로 바꾸어서 저장해 보자. (※ replace 함수를 사용해 보자.)\n",
    "\n",
    "Life is too short  \n",
    "you need java  \n",
    "\n",
    "\n",
    "\n",
    "해설: 파일을 모두 읽은 후에 문자열의 replace 함수를 사용하여 java라는 문자열을 python으로 변경한 다음 저장한다."
   ]
  },
  {
   "cell_type": "code",
   "execution_count": 40,
   "metadata": {},
   "outputs": [
    {
     "name": "stdout",
     "output_type": "stream",
     "text": [
      "첫번째두번째java\n"
     ]
    },
    {
     "data": {
      "text/plain": [
       "<function TextIOWrapper.close()>"
      ]
     },
     "execution_count": 40,
     "metadata": {},
     "output_type": "execute_result"
    }
   ],
   "source": [
    "f = open(\"test.txt\",'r')\n",
    "data = f.read()  #함수() 괄호 잊지 말기!\n",
    "print(data)\n",
    "f.close\n",
    "\n",
    "\n",
    "data = data.replace(\"java\",\"python\")\n",
    "\n",
    "f = open(\"test.txt\",'w')\n",
    "f.write(data)\n",
    "f.close"
   ]
  },
  {
   "cell_type": "code",
   "execution_count": null,
   "metadata": {},
   "outputs": [],
   "source": []
  }
 ],
 "metadata": {
  "kernelspec": {
   "display_name": "Python 3",
   "language": "python",
   "name": "python3"
  },
  "language_info": {
   "codemirror_mode": {
    "name": "ipython",
    "version": 3
   },
   "file_extension": ".py",
   "mimetype": "text/x-python",
   "name": "python",
   "nbconvert_exporter": "python",
   "pygments_lexer": "ipython3",
   "version": "3.8.5"
  }
 },
 "nbformat": 4,
 "nbformat_minor": 4
}
