{
 "cells": [
  {
   "cell_type": "code",
   "execution_count": 2,
   "metadata": {},
   "outputs": [],
   "source": [
    "from sklearn.ensemble import RandomForestRegressor\n",
    "from sklearn.datasets import make_moons\n",
    "from sklearn.model_selection import train_test_split\n",
    "import matplotlib.pyplot as plt\n",
    "import numpy as np"
   ]
  },
  {
   "cell_type": "markdown",
   "metadata": {},
   "source": [
    "## 캐글 코리아 2차 대회 데이터 셋 데이터\n",
    "https://www.kaggle.com/c/2019-2nd-ml-month-with-kakr/data  \n",
    "ID : 집을 구분하는 번호  \n",
    "date : 집을 구매한 날짜  \n",
    "price : 집의 가격(Target variable)  \n",
    "bedrooms : 침실의 수  \n",
    "bathrooms : 화장실의 수  \n",
    "sqft_living : 주거 공간의 평방 피트(면적)  \n",
    "sqft_lot : 부지의 평방 피트(면적)  \n",
    "floors : 집의 층 수  \n",
    "waterfront : 집의 전방에 강이 흐르는지 유무 (a.k.a. 리버뷰)  \n",
    "view : 집이 얼마나 좋아 보이는지의 정도  \n",
    "condition : 집의 전반적인 상태  \n",
    "grade : King County grading 시스템 기준으로 매긴 집의 등급  \n",
    "sqft_above : 지하실을 제외한 평방 피트(면적)  \n",
    "sqft_basement : 지하실의 평방 피트(면적)  \n",
    "yr_built : 지어진 년도  \n",
    "yr_renovated : 집을 재건축한 년도  \n",
    "zipcode : 우편번호  \n",
    "lat : 위도  \n",
    "long : 경도  \n",
    "sqft_living15 : 2015년 기준 주거 공간의 평방 피트(면적, 집을 재건축했다면, 변화가 있을 수 있음)  \n",
    "sqft_lot15 : 2015년 기준 부지의 평방 피트(면적, 집을 재건축했다면, 변화가 있을 수 있음)  "
   ]
  },
  {
   "cell_type": "code",
   "execution_count": 3,
   "metadata": {},
   "outputs": [],
   "source": [
    "import pandas as pd\n",
    "\n",
    "train = pd.read_csv(\"data/house/house_train.csv\")\n",
    "test = pd.read_csv(\"data/house/house_test.csv\")"
   ]
  },
  {
   "cell_type": "code",
   "execution_count": 4,
   "metadata": {},
   "outputs": [
    {
     "data": {
      "text/plain": [
       "((15035, 21), (6555, 20))"
      ]
     },
     "execution_count": 4,
     "metadata": {},
     "output_type": "execute_result"
    }
   ],
   "source": [
    "train.shape, test.shape"
   ]
  },
  {
   "cell_type": "code",
   "execution_count": 5,
   "metadata": {},
   "outputs": [
    {
     "data": {
      "text/plain": [
       "Index(['id', 'date', 'price', 'bedrooms', 'bathrooms', 'sqft_living',\n",
       "       'sqft_lot', 'floors', 'waterfront', 'view', 'condition', 'grade',\n",
       "       'sqft_above', 'sqft_basement', 'yr_built', 'yr_renovated', 'zipcode',\n",
       "       'lat', 'long', 'sqft_living15', 'sqft_lot15'],\n",
       "      dtype='object')"
      ]
     },
     "execution_count": 5,
     "metadata": {},
     "output_type": "execute_result"
    }
   ],
   "source": [
    "train.columns"
   ]
  },
  {
   "cell_type": "markdown",
   "metadata": {},
   "source": [
    "예측하고자 하는 값(target)이 price"
   ]
  },
  {
   "cell_type": "code",
   "execution_count": 6,
   "metadata": {},
   "outputs": [
    {
     "name": "stdout",
     "output_type": "stream",
     "text": [
      "<class 'pandas.core.frame.DataFrame'> <class 'pandas.core.series.Series'> (15035, 20) (15035,)\n"
     ]
    }
   ],
   "source": [
    "X_all = train.drop(['price'], axis=1)  # dataframe이니까 [ ]\n",
    "y = train['price']\n",
    "\n",
    "print(type(X_all), type(y), X_all.shape, y.shape)"
   ]
  },
  {
   "cell_type": "code",
   "execution_count": 8,
   "metadata": {},
   "outputs": [],
   "source": [
    "from sklearn.preprocessing import MinMaxScaler"
   ]
  },
  {
   "cell_type": "code",
   "execution_count": 10,
   "metadata": {},
   "outputs": [
    {
     "name": "stdout",
     "output_type": "stream",
     "text": [
      "정규화 :  (15035, 3) (15035,)\n"
     ]
    }
   ],
   "source": [
    "sel = ['sqft_living', 'sqft_lot', 'bedrooms']  # 'bedrooms' , 'bathrooms', \n",
    "X = X_all[sel]\n",
    "y = train['price']\n",
    "nor_X = MinMaxScaler().fit_transform(X)  # 입력 데이터 정규화\n",
    "print(\"정규화 : \", nor_X.shape, y.shape)"
   ]
  },
  {
   "cell_type": "code",
   "execution_count": 13,
   "metadata": {},
   "outputs": [],
   "source": [
    "#정규화 데이터 사용\n",
    "X_train, X_test, y_train, y_test = train_test_split(nor_X, y, \n",
    "                                                    random_state=42)\n",
    "# 정규화 데이터 사용 안함.\n",
    "# X_train, X_test, y_train, y_test = train_test_split(X, y, \n",
    "#                                                    random_state=42)"
   ]
  },
  {
   "cell_type": "code",
   "execution_count": 14,
   "metadata": {},
   "outputs": [],
   "source": [
    "model = RandomForestRegressor(n_estimators=5, random_state=2)"
   ]
  },
  {
   "cell_type": "code",
   "execution_count": 15,
   "metadata": {},
   "outputs": [
    {
     "name": "stdout",
     "output_type": "stream",
     "text": [
      "RandomForestRegressor(n_estimators=5, random_state=2)\n",
      "0.8922137121180739\n",
      "0.37937640288308927\n"
     ]
    }
   ],
   "source": [
    "print( model.fit(X_train, y_train) )\n",
    "print( model.score(X_train, y_train))\n",
    "print( model.score(X_test, y_test))"
   ]
  },
  {
   "cell_type": "code",
   "execution_count": 16,
   "metadata": {},
   "outputs": [
    {
     "name": "stdout",
     "output_type": "stream",
     "text": [
      "[DecisionTreeRegressor(max_features='auto', random_state=1872583848), DecisionTreeRegressor(max_features='auto', random_state=794921487), DecisionTreeRegressor(max_features='auto', random_state=111352301), DecisionTreeRegressor(max_features='auto', random_state=1853453896), DecisionTreeRegressor(max_features='auto', random_state=213298710)]\n",
      "<bound method RegressorMixin.score of RandomForestRegressor(n_estimators=5, random_state=2)>\n",
      "\n",
      "\n",
      "DecisionTreeRegressor()\n",
      "부트스트랩 : True\n",
      "노드 분할 기준 : mse\n"
     ]
    }
   ],
   "source": [
    "# 학습된 랜덤포레스트의 트리 모델\n",
    "print(model.estimators_)\n",
    "print(model.score)\n",
    "print(\"\\n\\n{}\".format(model.base_estimator))\n",
    "print(\"부트스트랩 : {}\".format(model.bootstrap))\n",
    "print(\"노드 분할 기준 : {}\".format(model.criterion))"
   ]
  },
  {
   "cell_type": "code",
   "execution_count": 17,
   "metadata": {},
   "outputs": [
    {
     "data": {
      "text/plain": [
       "array([0.69818654, 0.25989234, 0.04192112])"
      ]
     },
     "execution_count": 17,
     "metadata": {},
     "output_type": "execute_result"
    }
   ],
   "source": [
    "model.feature_importances_"
   ]
  },
  {
   "cell_type": "code",
   "execution_count": 18,
   "metadata": {},
   "outputs": [],
   "source": [
    "# model : 모델\n",
    "# n_features : feature(변수의 개수)\n",
    "# feature_names : 특성의 이름\n",
    "def plot_feature_important_up(model, n_features, feature_names):\n",
    "  imp = model.feature_importances_     # feature의 중요도\n",
    "  plt.barh(range(n_features) , imp, align='center')  # 그래프(가로 막대 그래프)\n",
    "  plt.yticks(np.arange(n_features), feature_names)  #y축의 축의 값\n",
    "  plt.xlabel(\"feature importance\")   # x축 레이블(제목)\n",
    "  plt.ylabel(\"feature\")              # y축 제목\n",
    "  plt.ylim(-1, n_features)           # y축의 범위 지정"
   ]
  },
  {
   "cell_type": "code",
   "execution_count": 19,
   "metadata": {},
   "outputs": [
    {
     "ename": "NameError",
     "evalue": "name 'n_features' is not defined",
     "output_type": "error",
     "traceback": [
      "\u001b[1;31m---------------------------------------------------------------------------\u001b[0m",
      "\u001b[1;31mNameError\u001b[0m                                 Traceback (most recent call last)",
      "\u001b[1;32m<ipython-input-19-ea0b5b6f4b69>\u001b[0m in \u001b[0;36m<module>\u001b[1;34m\u001b[0m\n\u001b[0;32m      1\u001b[0m \u001b[0mfeature_names\u001b[0m \u001b[1;33m=\u001b[0m \u001b[0msel\u001b[0m\u001b[1;33m\u001b[0m\u001b[1;33m\u001b[0m\u001b[0m\n\u001b[1;32m----> 2\u001b[1;33m \u001b[0mplot_feature_important_up\u001b[0m\u001b[1;33m(\u001b[0m\u001b[0mmodel\u001b[0m\u001b[1;33m,\u001b[0m \u001b[0mn_features\u001b[0m\u001b[1;33m,\u001b[0m \u001b[0mfeature_names\u001b[0m\u001b[1;33m)\u001b[0m\u001b[1;33m\u001b[0m\u001b[1;33m\u001b[0m\u001b[0m\n\u001b[0m",
      "\u001b[1;31mNameError\u001b[0m: name 'n_features' is not defined"
     ]
    }
   ],
   "source": [
    "feature_names = sel\n",
    "plot_feature_important_up(model, n_features, feature_names)"
   ]
  },
  {
   "cell_type": "code",
   "execution_count": 20,
   "metadata": {},
   "outputs": [
    {
     "data": {
      "image/png": "[encoded data removed]",
      "text/plain": [
       "<Figure size 432x288 with 1 Axes>"
      ]
     },
     "metadata": {
      "needs_background": "light"
     },
     "output_type": "display_data"
    }
   ],
   "source": [
    "feature_names = sel\n",
    "n_features = X.shape[1]\n",
    "plot_feature_important_up(model, n_features, feature_names)"
   ]
  },
  {
   "cell_type": "markdown",
   "metadata": {},
   "source": [
    "### 5개 모델 만들기"
   ]
  },
  {
   "cell_type": "code",
   "execution_count": 21,
   "metadata": {},
   "outputs": [
    {
     "data": {
      "text/plain": [
       "RandomForestRegressor(n_estimators=5, random_state=2)"
      ]
     },
     "execution_count": 21,
     "metadata": {},
     "output_type": "execute_result"
    }
   ],
   "source": [
    "X_train, X_test, y_train, y_test = train_test_split(nor_X, y, random_state=42)\n",
    "model_5 = RandomForestRegressor(n_estimators=5, random_state=2)  # 5개의 트리 \n",
    "model_5.fit(X_train, y_train)"
   ]
  },
  {
   "cell_type": "code",
   "execution_count": 22,
   "metadata": {},
   "outputs": [
    {
     "data": {
      "text/plain": [
       "RandomForestRegressor(n_estimators=5, random_state=2)"
      ]
     },
     "execution_count": 22,
     "metadata": {},
     "output_type": "execute_result"
    }
   ],
   "source": [
    "model_5"
   ]
  },
  {
   "cell_type": "code",
   "execution_count": 23,
   "metadata": {},
   "outputs": [
    {
     "name": "stdout",
     "output_type": "stream",
     "text": [
      "0.8922137121180739\n",
      "0.37937640288308927\n"
     ]
    }
   ],
   "source": [
    "print( model_5.score(X_train, y_train))\n",
    "print( model_5.score(X_test, y_test))"
   ]
  },
  {
   "cell_type": "code",
   "execution_count": 24,
   "metadata": {},
   "outputs": [],
   "source": [
    "n_features = X.shape[1]"
   ]
  },
  {
   "cell_type": "markdown",
   "metadata": {},
   "source": [
    "### 5개의 모델에 대한 정확도 평가"
   ]
  },
  {
   "cell_type": "code",
   "execution_count": 28,
   "metadata": {},
   "outputs": [
    {
     "name": "stdout",
     "output_type": "stream",
     "text": [
      "훈련 세트 정확도 : 0.997\n",
      "테스트 세트 정확도 : 0.074\n",
      "훈련 세트 정확도 : 0.997\n",
      "테스트 세트 정확도 : 0.056\n",
      "훈련 세트 정확도 : 0.997\n",
      "테스트 세트 정확도 : 0.087\n",
      "훈련 세트 정확도 : 0.997\n",
      "테스트 세트 정확도 : 0.059\n",
      "훈련 세트 정확도 : 0.997\n",
      "테스트 세트 정확도 : 0.069\n"
     ]
    }
   ],
   "source": [
    "for model in model_5.estimators_:\n",
    "    model.fit(X_train, y_train)\n",
    "    print(\"훈련 세트 정확도 : {:.3f}\".format(model.score(X_train, y_train)))\n",
    "    print(\"테스트 세트 정확도 : {:.3f}\".format(model.score(X_test, y_test)))"
   ]
  },
  {
   "cell_type": "markdown",
   "metadata": {},
   "source": [
    "### 100개 모델 만들기"
   ]
  },
  {
   "cell_type": "code",
   "execution_count": 25,
   "metadata": {},
   "outputs": [
    {
     "name": "stdout",
     "output_type": "stream",
     "text": [
      "0.9341193749716377\n",
      "0.45105945624970734\n",
      "Wall time: 9.01 s\n"
     ]
    }
   ],
   "source": [
    "%%time\n",
    "model_100 = RandomForestRegressor(n_estimators=100, random_state=2)  # 100개의 트리 \n",
    "model_100.fit(X_train, y_train)\n",
    "print( model_100.score(X_train, y_train))\n",
    "print( model_100.score(X_test, y_test))"
   ]
  },
  {
   "cell_type": "code",
   "execution_count": 26,
   "metadata": {},
   "outputs": [
    {
     "data": {
      "text/plain": [
       "3"
      ]
     },
     "execution_count": 26,
     "metadata": {},
     "output_type": "execute_result"
    }
   ],
   "source": [
    "n_features = X_train.shape[1]\n",
    "n_features"
   ]
  },
  {
   "cell_type": "markdown",
   "metadata": {},
   "source": [
    "### 100개 모델에 대한 정확도 평가"
   ]
  },
  {
   "cell_type": "code",
   "execution_count": 27,
   "metadata": {},
   "outputs": [
    {
     "name": "stdout",
     "output_type": "stream",
     "text": [
      "훈련 세트 정확도 : 0.997\n",
      "테스트 세트 정확도 : 0.039\n",
      "훈련 세트 정확도 : 0.997\n",
      "테스트 세트 정확도 : 0.071\n",
      "훈련 세트 정확도 : 0.997\n",
      "테스트 세트 정확도 : 0.090\n",
      "훈련 세트 정확도 : 0.997\n",
      "테스트 세트 정확도 : 0.050\n",
      "훈련 세트 정확도 : 0.997\n",
      "테스트 세트 정확도 : 0.044\n",
      "훈련 세트 정확도 : 0.997\n",
      "테스트 세트 정확도 : 0.092\n",
      "훈련 세트 정확도 : 0.997\n",
      "테스트 세트 정확도 : 0.066\n",
      "훈련 세트 정확도 : 0.997\n",
      "테스트 세트 정확도 : 0.074\n",
      "훈련 세트 정확도 : 0.997\n",
      "테스트 세트 정확도 : 0.058\n",
      "훈련 세트 정확도 : 0.997\n",
      "테스트 세트 정확도 : 0.061\n"
     ]
    }
   ],
   "source": [
    "cnt = 1\n",
    "for model in model_100.estimators_:\n",
    "    model.fit(X_train, y_train)\n",
    "    if cnt % 10 == 0:\n",
    "        print(\"훈련 세트 정확도 : {:.3f}\".format(model.score(X_train, y_train)))\n",
    "        print(\"테스트 세트 정확도 : {:.3f}\".format(model.score(X_test, y_test)))\n",
    "    cnt += + 1"
   ]
  },
  {
   "cell_type": "markdown",
   "metadata": {},
   "source": [
    "## feature 변형하면서 정확도 평가하기"
   ]
  },
  {
   "cell_type": "code",
   "execution_count": 30,
   "metadata": {
    "scrolled": true
   },
   "outputs": [
    {
     "name": "stdout",
     "output_type": "stream",
     "text": [
      "정규화 :  (15035, 19) (15035,)\n"
     ]
    }
   ],
   "source": [
    "sel = ['id', 'bedrooms', 'bathrooms', 'sqft_living',\n",
    "       'sqft_lot', 'floors', 'waterfront', 'view', 'condition', 'grade',\n",
    "       'sqft_above', 'sqft_basement', 'yr_built', 'yr_renovated', 'zipcode',\n",
    "       'lat', 'long', 'sqft_living15', 'sqft_lot15']\n",
    "X = X_all[sel]\n",
    "y = train['price']\n",
    "nor_X = MinMaxScaler().fit_transform(X)  # 입력 데이터 정규화\n",
    "print(\"정규화 : \", nor_X.shape, y.shape)"
   ]
  },
  {
   "cell_type": "code",
   "execution_count": 31,
   "metadata": {},
   "outputs": [],
   "source": [
    "#정규화 데이터 사용\n",
    "X_train, X_test, y_train, y_test = train_test_split(nor_X, y, \n",
    "                                                    random_state=42)\n",
    "# 정규화 데이터 사용 안함.\n",
    "# X_train, X_test, y_train, y_test = train_test_split(X, y, \n",
    "#                                                    random_state=42)"
   ]
  },
  {
   "cell_type": "code",
   "execution_count": 36,
   "metadata": {},
   "outputs": [
    {
     "name": "stdout",
     "output_type": "stream",
     "text": [
      "0.9661368078686513\n",
      "0.7893142782167984\n"
     ]
    }
   ],
   "source": [
    "model = RandomForestRegressor(n_estimators=5, random_state=2, n_jobs=-1) #랜덤 포레스트는 n_jobs를 이용하여 여러개의 코어를 이용하여 병렬 처리를 통해 속도 향상을 시킬 수 있다.\n",
    "\n",
    "model.fit(X_train, y_train)\n",
    "\n",
    "\n",
    "print( model.score(X_train, y_train))\n",
    "print( model.score(X_test, y_test))"
   ]
  },
  {
   "cell_type": "markdown",
   "metadata": {},
   "source": [
    "### 실습 4-2 feature를 하나 생성하여, 다시 모델을 전후의 개선 score를 확인해 보자"
   ]
  },
  {
   "cell_type": "code",
   "execution_count": 44,
   "metadata": {},
   "outputs": [
    {
     "data": {
      "text/plain": [
       "id               0.020899\n",
       "price            1.000000\n",
       "bedrooms         0.323672\n",
       "bathrooms        0.525479\n",
       "sqft_living      0.702899\n",
       "sqft_lot         0.096793\n",
       "floors           0.262588\n",
       "waterfront       0.265738\n",
       "view             0.400806\n",
       "condition        0.039740\n",
       "grade            0.667211\n",
       "sqft_above       0.608577\n",
       "sqft_basement    0.322218\n",
       "yr_built         0.047290\n",
       "yr_renovated     0.140808\n",
       "zipcode         -0.051498\n",
       "lat              0.301604\n",
       "long             0.023547\n",
       "sqft_living15    0.586419\n",
       "sqft_lot15       0.086384\n",
       "Name: price, dtype: float64"
      ]
     },
     "execution_count": 44,
     "metadata": {},
     "output_type": "execute_result"
    }
   ],
   "source": [
    "train.corr()['price']  #price와 관련된 상관계수를 보겠다. "
   ]
  },
  {
   "cell_type": "code",
   "execution_count": 39,
   "metadata": {},
   "outputs": [],
   "source": [
    "#박성준님 코드\n",
    "X_all['Rooms']=X_all['bedrooms']+X_all['bathrooms']\n",
    "X_all=X_all.drop(['bedrooms','bathrooms'], axis=1) #조금하락! 0.9643 & 0.7992"
   ]
  },
  {
   "cell_type": "code",
   "execution_count": 45,
   "metadata": {},
   "outputs": [],
   "source": [
    "#박성준님 코드\n",
    "X_all['Rooms']=X_all['grade']+X_all['waterfront']\n",
    "from sklearn.preprocessing import MinMaxScaler\n"
   ]
  },
  {
   "cell_type": "code",
   "execution_count": 46,
   "metadata": {},
   "outputs": [
    {
     "ename": "KeyError",
     "evalue": "\"['NewScore'] not in index\"",
     "output_type": "error",
     "traceback": [
      "\u001b[1;31m---------------------------------------------------------------------------\u001b[0m",
      "\u001b[1;31mKeyError\u001b[0m                                  Traceback (most recent call last)",
      "\u001b[1;32m<ipython-input-46-a693d71bedf1>\u001b[0m in \u001b[0;36m<module>\u001b[1;34m\u001b[0m\n\u001b[0;32m      3\u001b[0m        \u001b[1;34m'sqft_basement'\u001b[0m\u001b[1;33m,\u001b[0m \u001b[1;34m'yr_built'\u001b[0m\u001b[1;33m,\u001b[0m \u001b[1;34m'yr_renovated'\u001b[0m\u001b[1;33m,\u001b[0m \u001b[1;34m'lat'\u001b[0m\u001b[1;33m,\u001b[0m \u001b[1;34m'long'\u001b[0m\u001b[1;33m,\u001b[0m\u001b[1;33m\u001b[0m\u001b[1;33m\u001b[0m\u001b[0m\n\u001b[0;32m      4\u001b[0m        'sqft_living15', 'sqft_lot15']\n\u001b[1;32m----> 5\u001b[1;33m \u001b[0mX\u001b[0m \u001b[1;33m=\u001b[0m \u001b[0mX_all\u001b[0m\u001b[1;33m[\u001b[0m\u001b[0msel\u001b[0m\u001b[1;33m]\u001b[0m\u001b[1;33m\u001b[0m\u001b[1;33m\u001b[0m\u001b[0m\n\u001b[0m\u001b[0;32m      6\u001b[0m \u001b[0my\u001b[0m \u001b[1;33m=\u001b[0m \u001b[0mtrain\u001b[0m\u001b[1;33m[\u001b[0m\u001b[1;34m'price'\u001b[0m\u001b[1;33m]\u001b[0m\u001b[1;33m\u001b[0m\u001b[1;33m\u001b[0m\u001b[0m\n\u001b[0;32m      7\u001b[0m \u001b[0mnor_X\u001b[0m \u001b[1;33m=\u001b[0m \u001b[0mMinMaxScaler\u001b[0m\u001b[1;33m(\u001b[0m\u001b[1;33m)\u001b[0m\u001b[1;33m.\u001b[0m\u001b[0mfit_transform\u001b[0m\u001b[1;33m(\u001b[0m\u001b[0mX\u001b[0m\u001b[1;33m)\u001b[0m  \u001b[1;31m# 입력 데이터 정규화\u001b[0m\u001b[1;33m\u001b[0m\u001b[1;33m\u001b[0m\u001b[0m\n",
      "\u001b[1;32m~\\anaconda3\\lib\\site-packages\\pandas\\core\\frame.py\u001b[0m in \u001b[0;36m__getitem__\u001b[1;34m(self, key)\u001b[0m\n\u001b[0;32m   2906\u001b[0m             \u001b[1;32mif\u001b[0m \u001b[0mis_iterator\u001b[0m\u001b[1;33m(\u001b[0m\u001b[0mkey\u001b[0m\u001b[1;33m)\u001b[0m\u001b[1;33m:\u001b[0m\u001b[1;33m\u001b[0m\u001b[1;33m\u001b[0m\u001b[0m\n\u001b[0;32m   2907\u001b[0m                 \u001b[0mkey\u001b[0m \u001b[1;33m=\u001b[0m \u001b[0mlist\u001b[0m\u001b[1;33m(\u001b[0m\u001b[0mkey\u001b[0m\u001b[1;33m)\u001b[0m\u001b[1;33m\u001b[0m\u001b[1;33m\u001b[0m\u001b[0m\n\u001b[1;32m-> 2908\u001b[1;33m             \u001b[0mindexer\u001b[0m \u001b[1;33m=\u001b[0m \u001b[0mself\u001b[0m\u001b[1;33m.\u001b[0m\u001b[0mloc\u001b[0m\u001b[1;33m.\u001b[0m\u001b[0m_get_listlike_indexer\u001b[0m\u001b[1;33m(\u001b[0m\u001b[0mkey\u001b[0m\u001b[1;33m,\u001b[0m \u001b[0maxis\u001b[0m\u001b[1;33m=\u001b[0m\u001b[1;36m1\u001b[0m\u001b[1;33m,\u001b[0m \u001b[0mraise_missing\u001b[0m\u001b[1;33m=\u001b[0m\u001b[1;32mTrue\u001b[0m\u001b[1;33m)\u001b[0m\u001b[1;33m[\u001b[0m\u001b[1;36m1\u001b[0m\u001b[1;33m]\u001b[0m\u001b[1;33m\u001b[0m\u001b[1;33m\u001b[0m\u001b[0m\n\u001b[0m\u001b[0;32m   2909\u001b[0m \u001b[1;33m\u001b[0m\u001b[0m\n\u001b[0;32m   2910\u001b[0m         \u001b[1;31m# take() does not accept boolean indexers\u001b[0m\u001b[1;33m\u001b[0m\u001b[1;33m\u001b[0m\u001b[1;33m\u001b[0m\u001b[0m\n",
      "\u001b[1;32m~\\anaconda3\\lib\\site-packages\\pandas\\core\\indexing.py\u001b[0m in \u001b[0;36m_get_listlike_indexer\u001b[1;34m(self, key, axis, raise_missing)\u001b[0m\n\u001b[0;32m   1252\u001b[0m             \u001b[0mkeyarr\u001b[0m\u001b[1;33m,\u001b[0m \u001b[0mindexer\u001b[0m\u001b[1;33m,\u001b[0m \u001b[0mnew_indexer\u001b[0m \u001b[1;33m=\u001b[0m \u001b[0max\u001b[0m\u001b[1;33m.\u001b[0m\u001b[0m_reindex_non_unique\u001b[0m\u001b[1;33m(\u001b[0m\u001b[0mkeyarr\u001b[0m\u001b[1;33m)\u001b[0m\u001b[1;33m\u001b[0m\u001b[1;33m\u001b[0m\u001b[0m\n\u001b[0;32m   1253\u001b[0m \u001b[1;33m\u001b[0m\u001b[0m\n\u001b[1;32m-> 1254\u001b[1;33m         \u001b[0mself\u001b[0m\u001b[1;33m.\u001b[0m\u001b[0m_validate_read_indexer\u001b[0m\u001b[1;33m(\u001b[0m\u001b[0mkeyarr\u001b[0m\u001b[1;33m,\u001b[0m \u001b[0mindexer\u001b[0m\u001b[1;33m,\u001b[0m \u001b[0maxis\u001b[0m\u001b[1;33m,\u001b[0m \u001b[0mraise_missing\u001b[0m\u001b[1;33m=\u001b[0m\u001b[0mraise_missing\u001b[0m\u001b[1;33m)\u001b[0m\u001b[1;33m\u001b[0m\u001b[1;33m\u001b[0m\u001b[0m\n\u001b[0m\u001b[0;32m   1255\u001b[0m         \u001b[1;32mreturn\u001b[0m \u001b[0mkeyarr\u001b[0m\u001b[1;33m,\u001b[0m \u001b[0mindexer\u001b[0m\u001b[1;33m\u001b[0m\u001b[1;33m\u001b[0m\u001b[0m\n\u001b[0;32m   1256\u001b[0m \u001b[1;33m\u001b[0m\u001b[0m\n",
      "\u001b[1;32m~\\anaconda3\\lib\\site-packages\\pandas\\core\\indexing.py\u001b[0m in \u001b[0;36m_validate_read_indexer\u001b[1;34m(self, key, indexer, axis, raise_missing)\u001b[0m\n\u001b[0;32m   1302\u001b[0m             \u001b[1;32mif\u001b[0m \u001b[0mraise_missing\u001b[0m\u001b[1;33m:\u001b[0m\u001b[1;33m\u001b[0m\u001b[1;33m\u001b[0m\u001b[0m\n\u001b[0;32m   1303\u001b[0m                 \u001b[0mnot_found\u001b[0m \u001b[1;33m=\u001b[0m \u001b[0mlist\u001b[0m\u001b[1;33m(\u001b[0m\u001b[0mset\u001b[0m\u001b[1;33m(\u001b[0m\u001b[0mkey\u001b[0m\u001b[1;33m)\u001b[0m \u001b[1;33m-\u001b[0m \u001b[0mset\u001b[0m\u001b[1;33m(\u001b[0m\u001b[0max\u001b[0m\u001b[1;33m)\u001b[0m\u001b[1;33m)\u001b[0m\u001b[1;33m\u001b[0m\u001b[1;33m\u001b[0m\u001b[0m\n\u001b[1;32m-> 1304\u001b[1;33m                 \u001b[1;32mraise\u001b[0m \u001b[0mKeyError\u001b[0m\u001b[1;33m(\u001b[0m\u001b[1;34mf\"{not_found} not in index\"\u001b[0m\u001b[1;33m)\u001b[0m\u001b[1;33m\u001b[0m\u001b[1;33m\u001b[0m\u001b[0m\n\u001b[0m\u001b[0;32m   1305\u001b[0m \u001b[1;33m\u001b[0m\u001b[0m\n\u001b[0;32m   1306\u001b[0m             \u001b[1;31m# we skip the warning on Categorical\u001b[0m\u001b[1;33m\u001b[0m\u001b[1;33m\u001b[0m\u001b[1;33m\u001b[0m\u001b[0m\n",
      "\u001b[1;31mKeyError\u001b[0m: \"['NewScore'] not in index\""
     ]
    }
   ],
   "source": [
    "sel = [ 'Rooms', 'sqft_living', 'sqft_lot',\n",
    "       'floors', 'view', 'condition', 'NewScore', 'sqft_above',\n",
    "       'sqft_basement', 'yr_built', 'yr_renovated', 'lat', 'long',\n",
    "       'sqft_living15', 'sqft_lot15']\n",
    "X = X_all[sel]\n",
    "y = train['price']\n",
    "nor_X = MinMaxScaler().fit_transform(X)  # 입력 데이터 정규화\n",
    "print(\"정규화 : \", nor_X.shape, y.shape)"
   ]
  }
 ],
 "metadata": {
  "kernelspec": {
   "display_name": "Python 3",
   "language": "python",
   "name": "python3"
  },
  "language_info": {
   "codemirror_mode": {
    "name": "ipython",
    "version": 3
   },
   "file_extension": ".py",
   "mimetype": "text/x-python",
   "name": "python",
   "nbconvert_exporter": "python",
   "pygments_lexer": "ipython3",
   "version": "3.8.5"
  }
 },
 "nbformat": 4,
 "nbformat_minor": 4
}
