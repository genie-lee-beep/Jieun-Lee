{
 "cells": [
  {
   "cell_type": "code",
   "execution_count": 1,
   "id": "disturbed-lottery",
   "metadata": {
    "_cell_guid": "b1076dfc-b9ad-4769-8c92-a6c4dae69d19",
    "_uuid": "8f2839f25d086af736a60e9eeb907d3b93b6e0e5",
    "execution": {
     "iopub.execute_input": "2021-07-05T08:19:17.974255Z",
     "iopub.status.busy": "2021-07-05T08:19:17.973041Z",
     "iopub.status.idle": "2021-07-05T08:19:17.992870Z",
     "shell.execute_reply": "2021-07-05T08:19:17.993877Z",
     "shell.execute_reply.started": "2021-07-05T07:57:30.380078Z"
    },
    "papermill": {
     "duration": 0.060179,
     "end_time": "2021-07-05T08:19:17.994229",
     "exception": false,
     "start_time": "2021-07-05T08:19:17.934050",
     "status": "completed"
    },
    "tags": []
   },
   "outputs": [
    {
     "name": "stdout",
     "output_type": "stream",
     "text": [
      "/kaggle/input/titanic/train.csv\n",
      "/kaggle/input/titanic/test.csv\n",
      "/kaggle/input/titanic/gender_submission.csv\n"
     ]
    }
   ],
   "source": [
    "\n",
    "import numpy as np #딥러닝 관련 라이브러리 불러오는 것 \n",
    "import pandas as pd \n",
    "\n",
    "import os  #시스템 관련 라이브러리 불러 오는 것 \n",
    "for dirname, _, filenames in os.walk('/kaggle/input'):\n",
    "    for filename in filenames:\n",
    "        print(os.path.join(dirname, filename))"
   ]
  },
  {
   "cell_type": "code",
   "execution_count": 2,
   "id": "furnished-williams",
   "metadata": {
    "execution": {
     "iopub.execute_input": "2021-07-05T08:19:18.070883Z",
     "iopub.status.busy": "2021-07-05T08:19:18.070218Z",
     "iopub.status.idle": "2021-07-05T08:19:18.859904Z",
     "shell.execute_reply": "2021-07-05T08:19:18.859306Z",
     "shell.execute_reply.started": "2021-07-05T07:57:32.237229Z"
    },
    "papermill": {
     "duration": 0.828548,
     "end_time": "2021-07-05T08:19:18.860057",
     "exception": false,
     "start_time": "2021-07-05T08:19:18.031509",
     "status": "completed"
    },
    "tags": []
   },
   "outputs": [],
   "source": [
    "import matplotlib.pyplot as plt\n",
    "import seaborn as sns"
   ]
  },
  {
   "cell_type": "code",
   "execution_count": 3,
   "id": "worse-auction",
   "metadata": {
    "execution": {
     "iopub.execute_input": "2021-07-05T08:19:18.936517Z",
     "iopub.status.busy": "2021-07-05T08:19:18.935849Z",
     "iopub.status.idle": "2021-07-05T08:19:18.964905Z",
     "shell.execute_reply": "2021-07-05T08:19:18.964327Z",
     "shell.execute_reply.started": "2021-07-05T07:57:33.30523Z"
    },
    "papermill": {
     "duration": 0.06912,
     "end_time": "2021-07-05T08:19:18.965038",
     "exception": false,
     "start_time": "2021-07-05T08:19:18.895918",
     "status": "completed"
    },
    "tags": []
   },
   "outputs": [
    {
     "data": {
      "text/plain": [
       "((891, 12), (418, 11))"
      ]
     },
     "execution_count": 3,
     "metadata": {},
     "output_type": "execute_result"
    }
   ],
   "source": [
    "train = pd.read_csv('/kaggle/input/titanic/train.csv')\n",
    "test = pd.read_csv('/kaggle/input/titanic/test.csv')\n",
    "sub = pd.read_csv('/kaggle/input/titanic/gender_submission.csv')\n",
    "train.shape, test.shape, "
   ]
  },
  {
   "cell_type": "code",
   "execution_count": 4,
   "id": "apparent-cooper",
   "metadata": {
    "execution": {
     "iopub.execute_input": "2021-07-05T08:19:19.067970Z",
     "iopub.status.busy": "2021-07-05T08:19:19.067084Z",
     "iopub.status.idle": "2021-07-05T08:19:19.100350Z",
     "shell.execute_reply": "2021-07-05T08:19:19.100880Z",
     "shell.execute_reply.started": "2021-07-05T07:57:34.785056Z"
    },
    "papermill": {
     "duration": 0.098714,
     "end_time": "2021-07-05T08:19:19.101132",
     "exception": false,
     "start_time": "2021-07-05T08:19:19.002418",
     "status": "completed"
    },
    "tags": []
   },
   "outputs": [
    {
     "data": {
      "text/html": [
       "<div>\n",
       "<style scoped>\n",
       "    .dataframe tbody tr th:only-of-type {\n",
       "        vertical-align: middle;\n",
       "    }\n",
       "\n",
       "    .dataframe tbody tr th {\n",
       "        vertical-align: top;\n",
       "    }\n",
       "\n",
       "    .dataframe thead th {\n",
       "        text-align: right;\n",
       "    }\n",
       "</style>\n",
       "<table border=\"1\" class=\"dataframe\">\n",
       "  <thead>\n",
       "    <tr style=\"text-align: right;\">\n",
       "      <th></th>\n",
       "      <th>PassengerId</th>\n",
       "      <th>Survived</th>\n",
       "      <th>Pclass</th>\n",
       "      <th>Name</th>\n",
       "      <th>Sex</th>\n",
       "      <th>Age</th>\n",
       "      <th>SibSp</th>\n",
       "      <th>Parch</th>\n",
       "      <th>Ticket</th>\n",
       "      <th>Fare</th>\n",
       "      <th>Cabin</th>\n",
       "      <th>Embarked</th>\n",
       "    </tr>\n",
       "  </thead>\n",
       "  <tbody>\n",
       "    <tr>\n",
       "      <th>0</th>\n",
       "      <td>1</td>\n",
       "      <td>0</td>\n",
       "      <td>3</td>\n",
       "      <td>Braund, Mr. Owen Harris</td>\n",
       "      <td>male</td>\n",
       "      <td>22.0</td>\n",
       "      <td>1</td>\n",
       "      <td>0</td>\n",
       "      <td>A/5 21171</td>\n",
       "      <td>7.2500</td>\n",
       "      <td>NaN</td>\n",
       "      <td>S</td>\n",
       "    </tr>\n",
       "    <tr>\n",
       "      <th>1</th>\n",
       "      <td>2</td>\n",
       "      <td>1</td>\n",
       "      <td>1</td>\n",
       "      <td>Cumings, Mrs. John Bradley (Florence Briggs Th...</td>\n",
       "      <td>female</td>\n",
       "      <td>38.0</td>\n",
       "      <td>1</td>\n",
       "      <td>0</td>\n",
       "      <td>PC 17599</td>\n",
       "      <td>71.2833</td>\n",
       "      <td>C85</td>\n",
       "      <td>C</td>\n",
       "    </tr>\n",
       "    <tr>\n",
       "      <th>2</th>\n",
       "      <td>3</td>\n",
       "      <td>1</td>\n",
       "      <td>3</td>\n",
       "      <td>Heikkinen, Miss. Laina</td>\n",
       "      <td>female</td>\n",
       "      <td>26.0</td>\n",
       "      <td>0</td>\n",
       "      <td>0</td>\n",
       "      <td>STON/O2. 3101282</td>\n",
       "      <td>7.9250</td>\n",
       "      <td>NaN</td>\n",
       "      <td>S</td>\n",
       "    </tr>\n",
       "    <tr>\n",
       "      <th>3</th>\n",
       "      <td>4</td>\n",
       "      <td>1</td>\n",
       "      <td>1</td>\n",
       "      <td>Futrelle, Mrs. Jacques Heath (Lily May Peel)</td>\n",
       "      <td>female</td>\n",
       "      <td>35.0</td>\n",
       "      <td>1</td>\n",
       "      <td>0</td>\n",
       "      <td>113803</td>\n",
       "      <td>53.1000</td>\n",
       "      <td>C123</td>\n",
       "      <td>S</td>\n",
       "    </tr>\n",
       "    <tr>\n",
       "      <th>4</th>\n",
       "      <td>5</td>\n",
       "      <td>0</td>\n",
       "      <td>3</td>\n",
       "      <td>Allen, Mr. William Henry</td>\n",
       "      <td>male</td>\n",
       "      <td>35.0</td>\n",
       "      <td>0</td>\n",
       "      <td>0</td>\n",
       "      <td>373450</td>\n",
       "      <td>8.0500</td>\n",
       "      <td>NaN</td>\n",
       "      <td>S</td>\n",
       "    </tr>\n",
       "    <tr>\n",
       "      <th>...</th>\n",
       "      <td>...</td>\n",
       "      <td>...</td>\n",
       "      <td>...</td>\n",
       "      <td>...</td>\n",
       "      <td>...</td>\n",
       "      <td>...</td>\n",
       "      <td>...</td>\n",
       "      <td>...</td>\n",
       "      <td>...</td>\n",
       "      <td>...</td>\n",
       "      <td>...</td>\n",
       "      <td>...</td>\n",
       "    </tr>\n",
       "    <tr>\n",
       "      <th>886</th>\n",
       "      <td>887</td>\n",
       "      <td>0</td>\n",
       "      <td>2</td>\n",
       "      <td>Montvila, Rev. Juozas</td>\n",
       "      <td>male</td>\n",
       "      <td>27.0</td>\n",
       "      <td>0</td>\n",
       "      <td>0</td>\n",
       "      <td>211536</td>\n",
       "      <td>13.0000</td>\n",
       "      <td>NaN</td>\n",
       "      <td>S</td>\n",
       "    </tr>\n",
       "    <tr>\n",
       "      <th>887</th>\n",
       "      <td>888</td>\n",
       "      <td>1</td>\n",
       "      <td>1</td>\n",
       "      <td>Graham, Miss. Margaret Edith</td>\n",
       "      <td>female</td>\n",
       "      <td>19.0</td>\n",
       "      <td>0</td>\n",
       "      <td>0</td>\n",
       "      <td>112053</td>\n",
       "      <td>30.0000</td>\n",
       "      <td>B42</td>\n",
       "      <td>S</td>\n",
       "    </tr>\n",
       "    <tr>\n",
       "      <th>888</th>\n",
       "      <td>889</td>\n",
       "      <td>0</td>\n",
       "      <td>3</td>\n",
       "      <td>Johnston, Miss. Catherine Helen \"Carrie\"</td>\n",
       "      <td>female</td>\n",
       "      <td>NaN</td>\n",
       "      <td>1</td>\n",
       "      <td>2</td>\n",
       "      <td>W./C. 6607</td>\n",
       "      <td>23.4500</td>\n",
       "      <td>NaN</td>\n",
       "      <td>S</td>\n",
       "    </tr>\n",
       "    <tr>\n",
       "      <th>889</th>\n",
       "      <td>890</td>\n",
       "      <td>1</td>\n",
       "      <td>1</td>\n",
       "      <td>Behr, Mr. Karl Howell</td>\n",
       "      <td>male</td>\n",
       "      <td>26.0</td>\n",
       "      <td>0</td>\n",
       "      <td>0</td>\n",
       "      <td>111369</td>\n",
       "      <td>30.0000</td>\n",
       "      <td>C148</td>\n",
       "      <td>C</td>\n",
       "    </tr>\n",
       "    <tr>\n",
       "      <th>890</th>\n",
       "      <td>891</td>\n",
       "      <td>0</td>\n",
       "      <td>3</td>\n",
       "      <td>Dooley, Mr. Patrick</td>\n",
       "      <td>male</td>\n",
       "      <td>32.0</td>\n",
       "      <td>0</td>\n",
       "      <td>0</td>\n",
       "      <td>370376</td>\n",
       "      <td>7.7500</td>\n",
       "      <td>NaN</td>\n",
       "      <td>Q</td>\n",
       "    </tr>\n",
       "  </tbody>\n",
       "</table>\n",
       "<p>891 rows × 12 columns</p>\n",
       "</div>"
      ],
      "text/plain": [
       "     PassengerId  Survived  Pclass  \\\n",
       "0              1         0       3   \n",
       "1              2         1       1   \n",
       "2              3         1       3   \n",
       "3              4         1       1   \n",
       "4              5         0       3   \n",
       "..           ...       ...     ...   \n",
       "886          887         0       2   \n",
       "887          888         1       1   \n",
       "888          889         0       3   \n",
       "889          890         1       1   \n",
       "890          891         0       3   \n",
       "\n",
       "                                                  Name     Sex   Age  SibSp  \\\n",
       "0                              Braund, Mr. Owen Harris    male  22.0      1   \n",
       "1    Cumings, Mrs. John Bradley (Florence Briggs Th...  female  38.0      1   \n",
       "2                               Heikkinen, Miss. Laina  female  26.0      0   \n",
       "3         Futrelle, Mrs. Jacques Heath (Lily May Peel)  female  35.0      1   \n",
       "4                             Allen, Mr. William Henry    male  35.0      0   \n",
       "..                                                 ...     ...   ...    ...   \n",
       "886                              Montvila, Rev. Juozas    male  27.0      0   \n",
       "887                       Graham, Miss. Margaret Edith  female  19.0      0   \n",
       "888           Johnston, Miss. Catherine Helen \"Carrie\"  female   NaN      1   \n",
       "889                              Behr, Mr. Karl Howell    male  26.0      0   \n",
       "890                                Dooley, Mr. Patrick    male  32.0      0   \n",
       "\n",
       "     Parch            Ticket     Fare Cabin Embarked  \n",
       "0        0         A/5 21171   7.2500   NaN        S  \n",
       "1        0          PC 17599  71.2833   C85        C  \n",
       "2        0  STON/O2. 3101282   7.9250   NaN        S  \n",
       "3        0            113803  53.1000  C123        S  \n",
       "4        0            373450   8.0500   NaN        S  \n",
       "..     ...               ...      ...   ...      ...  \n",
       "886      0            211536  13.0000   NaN        S  \n",
       "887      0            112053  30.0000   B42        S  \n",
       "888      2        W./C. 6607  23.4500   NaN        S  \n",
       "889      0            111369  30.0000  C148        C  \n",
       "890      0            370376   7.7500   NaN        Q  \n",
       "\n",
       "[891 rows x 12 columns]"
      ]
     },
     "execution_count": 4,
     "metadata": {},
     "output_type": "execute_result"
    }
   ],
   "source": [
    "train"
   ]
  },
  {
   "cell_type": "code",
   "execution_count": 5,
   "id": "moral-combination",
   "metadata": {
    "execution": {
     "iopub.execute_input": "2021-07-05T08:19:19.198610Z",
     "iopub.status.busy": "2021-07-05T08:19:19.197981Z",
     "iopub.status.idle": "2021-07-05T08:19:19.200495Z",
     "shell.execute_reply": "2021-07-05T08:19:19.200994Z",
     "shell.execute_reply.started": "2021-07-05T07:57:45.837409Z"
    },
    "papermill": {
     "duration": 0.059419,
     "end_time": "2021-07-05T08:19:19.201161",
     "exception": false,
     "start_time": "2021-07-05T08:19:19.141742",
     "status": "completed"
    },
    "tags": []
   },
   "outputs": [
    {
     "name": "stdout",
     "output_type": "stream",
     "text": [
      "<class 'pandas.core.frame.DataFrame'>\n",
      "RangeIndex: 891 entries, 0 to 890\n",
      "Data columns (total 12 columns):\n",
      " #   Column       Non-Null Count  Dtype  \n",
      "---  ------       --------------  -----  \n",
      " 0   PassengerId  891 non-null    int64  \n",
      " 1   Survived     891 non-null    int64  \n",
      " 2   Pclass       891 non-null    int64  \n",
      " 3   Name         891 non-null    object \n",
      " 4   Sex          891 non-null    object \n",
      " 5   Age          714 non-null    float64\n",
      " 6   SibSp        891 non-null    int64  \n",
      " 7   Parch        891 non-null    int64  \n",
      " 8   Ticket       891 non-null    object \n",
      " 9   Fare         891 non-null    float64\n",
      " 10  Cabin        204 non-null    object \n",
      " 11  Embarked     889 non-null    object \n",
      "dtypes: float64(2), int64(5), object(5)\n",
      "memory usage: 83.7+ KB\n"
     ]
    }
   ],
   "source": [
    "train.info()"
   ]
  },
  {
   "cell_type": "code",
   "execution_count": 6,
   "id": "indian-swift",
   "metadata": {
    "execution": {
     "iopub.execute_input": "2021-07-05T08:19:19.283537Z",
     "iopub.status.busy": "2021-07-05T08:19:19.282530Z",
     "iopub.status.idle": "2021-07-05T08:19:19.287189Z",
     "shell.execute_reply": "2021-07-05T08:19:19.286539Z",
     "shell.execute_reply.started": "2021-07-05T07:57:47.252772Z"
    },
    "papermill": {
     "duration": 0.04888,
     "end_time": "2021-07-05T08:19:19.287327",
     "exception": false,
     "start_time": "2021-07-05T08:19:19.238447",
     "status": "completed"
    },
    "tags": []
   },
   "outputs": [
    {
     "data": {
      "text/plain": [
       "S    644\n",
       "C    168\n",
       "Q     77\n",
       "Name: Embarked, dtype: int64"
      ]
     },
     "execution_count": 6,
     "metadata": {},
     "output_type": "execute_result"
    }
   ],
   "source": [
    "train.Embarked.value_counts()"
   ]
  },
  {
   "cell_type": "code",
   "execution_count": 7,
   "id": "right-iceland",
   "metadata": {
    "execution": {
     "iopub.execute_input": "2021-07-05T08:19:19.370370Z",
     "iopub.status.busy": "2021-07-05T08:19:19.369365Z",
     "iopub.status.idle": "2021-07-05T08:19:19.374009Z",
     "shell.execute_reply": "2021-07-05T08:19:19.373460Z",
     "shell.execute_reply.started": "2021-07-05T07:57:48.751257Z"
    },
    "papermill": {
     "duration": 0.048872,
     "end_time": "2021-07-05T08:19:19.374146",
     "exception": false,
     "start_time": "2021-07-05T08:19:19.325274",
     "status": "completed"
    },
    "tags": []
   },
   "outputs": [
    {
     "data": {
      "text/plain": [
       "S    644\n",
       "C    168\n",
       "Q     77\n",
       "Name: Embarked, dtype: int64"
      ]
     },
     "execution_count": 7,
     "metadata": {},
     "output_type": "execute_result"
    }
   ],
   "source": [
    "train['Embarked'].value_counts()"
   ]
  },
  {
   "cell_type": "code",
   "execution_count": 8,
   "id": "convinced-figure",
   "metadata": {
    "execution": {
     "iopub.execute_input": "2021-07-05T08:19:19.455617Z",
     "iopub.status.busy": "2021-07-05T08:19:19.454665Z",
     "iopub.status.idle": "2021-07-05T08:19:19.457241Z",
     "shell.execute_reply": "2021-07-05T08:19:19.457690Z",
     "shell.execute_reply.started": "2021-07-05T07:57:50.245242Z"
    },
    "papermill": {
     "duration": 0.045812,
     "end_time": "2021-07-05T08:19:19.457895",
     "exception": false,
     "start_time": "2021-07-05T08:19:19.412083",
     "status": "completed"
    },
    "tags": []
   },
   "outputs": [],
   "source": [
    "train['Embarked'] = train['Embarked'].fillna('S')"
   ]
  },
  {
   "cell_type": "code",
   "execution_count": 9,
   "id": "optional-third",
   "metadata": {
    "execution": {
     "iopub.execute_input": "2021-07-05T08:19:19.541698Z",
     "iopub.status.busy": "2021-07-05T08:19:19.540919Z",
     "iopub.status.idle": "2021-07-05T08:19:19.544621Z",
     "shell.execute_reply": "2021-07-05T08:19:19.544045Z",
     "shell.execute_reply.started": "2021-07-05T07:57:51.685357Z"
    },
    "papermill": {
     "duration": 0.049367,
     "end_time": "2021-07-05T08:19:19.544762",
     "exception": false,
     "start_time": "2021-07-05T08:19:19.495395",
     "status": "completed"
    },
    "tags": []
   },
   "outputs": [
    {
     "data": {
      "text/plain": [
       "7.7500      21\n",
       "26.0000     19\n",
       "8.0500      17\n",
       "13.0000     17\n",
       "7.8958      11\n",
       "            ..\n",
       "31.6833      1\n",
       "16.0000      1\n",
       "53.1000      1\n",
       "146.5208     1\n",
       "20.2500      1\n",
       "Name: Fare, Length: 169, dtype: int64"
      ]
     },
     "execution_count": 9,
     "metadata": {},
     "output_type": "execute_result"
    }
   ],
   "source": [
    "test['Fare'].value_counts()"
   ]
  },
  {
   "cell_type": "code",
   "execution_count": 10,
   "id": "frequent-volleyball",
   "metadata": {
    "execution": {
     "iopub.execute_input": "2021-07-05T08:19:19.627104Z",
     "iopub.status.busy": "2021-07-05T08:19:19.626105Z",
     "iopub.status.idle": "2021-07-05T08:19:19.629270Z",
     "shell.execute_reply": "2021-07-05T08:19:19.628654Z",
     "shell.execute_reply.started": "2021-07-05T07:57:54.497486Z"
    },
    "papermill": {
     "duration": 0.047076,
     "end_time": "2021-07-05T08:19:19.629417",
     "exception": false,
     "start_time": "2021-07-05T08:19:19.582341",
     "status": "completed"
    },
    "tags": []
   },
   "outputs": [],
   "source": [
    "Fare_mean = test['Fare'].mean()  # 변수 하나 새로 만들기 \n",
    "test['Fare'] = test['Fare'].fillna(Fare_mean) # 괄호안의 값으로 결측치를 채워 주겠다"
   ]
  },
  {
   "cell_type": "markdown",
   "id": "heated-porcelain",
   "metadata": {
    "papermill": {
     "duration": 0.037615,
     "end_time": "2021-07-05T08:19:19.705208",
     "exception": false,
     "start_time": "2021-07-05T08:19:19.667593",
     "status": "completed"
    },
    "tags": []
   },
   "source": []
  },
  {
   "cell_type": "code",
   "execution_count": 11,
   "id": "disabled-tunisia",
   "metadata": {
    "execution": {
     "iopub.execute_input": "2021-07-05T08:19:19.795293Z",
     "iopub.status.busy": "2021-07-05T08:19:19.794659Z",
     "iopub.status.idle": "2021-07-05T08:19:19.797709Z",
     "shell.execute_reply": "2021-07-05T08:19:19.798201Z",
     "shell.execute_reply.started": "2021-07-05T07:58:00.503971Z"
    },
    "papermill": {
     "duration": 0.055021,
     "end_time": "2021-07-05T08:19:19.798369",
     "exception": false,
     "start_time": "2021-07-05T08:19:19.743348",
     "status": "completed"
    },
    "tags": []
   },
   "outputs": [
    {
     "name": "stdout",
     "output_type": "stream",
     "text": [
      "<class 'pandas.core.frame.DataFrame'>\n",
      "RangeIndex: 418 entries, 0 to 417\n",
      "Data columns (total 11 columns):\n",
      " #   Column       Non-Null Count  Dtype  \n",
      "---  ------       --------------  -----  \n",
      " 0   PassengerId  418 non-null    int64  \n",
      " 1   Pclass       418 non-null    int64  \n",
      " 2   Name         418 non-null    object \n",
      " 3   Sex          418 non-null    object \n",
      " 4   Age          332 non-null    float64\n",
      " 5   SibSp        418 non-null    int64  \n",
      " 6   Parch        418 non-null    int64  \n",
      " 7   Ticket       418 non-null    object \n",
      " 8   Fare         418 non-null    float64\n",
      " 9   Cabin        91 non-null     object \n",
      " 10  Embarked     418 non-null    object \n",
      "dtypes: float64(2), int64(4), object(5)\n",
      "memory usage: 36.0+ KB\n"
     ]
    }
   ],
   "source": [
    "test.info()"
   ]
  },
  {
   "cell_type": "code",
   "execution_count": 12,
   "id": "direct-national",
   "metadata": {
    "execution": {
     "iopub.execute_input": "2021-07-05T08:19:19.881938Z",
     "iopub.status.busy": "2021-07-05T08:19:19.881292Z",
     "iopub.status.idle": "2021-07-05T08:19:19.884392Z",
     "shell.execute_reply": "2021-07-05T08:19:19.883919Z",
     "shell.execute_reply.started": "2021-07-05T07:58:01.891711Z"
    },
    "papermill": {
     "duration": 0.048339,
     "end_time": "2021-07-05T08:19:19.884517",
     "exception": false,
     "start_time": "2021-07-05T08:19:19.836178",
     "status": "completed"
    },
    "tags": []
   },
   "outputs": [],
   "source": [
    "train.loc[train['Cabin'].isna(), 'Cabin_bool'] = 1\n",
    "train.loc[~train['Cabin'].isna(), 'Cabin_bool'] = 0   # ~ 반대 의미"
   ]
  },
  {
   "cell_type": "code",
   "execution_count": 13,
   "id": "revised-spencer",
   "metadata": {
    "execution": {
     "iopub.execute_input": "2021-07-05T08:19:19.966317Z",
     "iopub.status.busy": "2021-07-05T08:19:19.965659Z",
     "iopub.status.idle": "2021-07-05T08:19:19.967694Z",
     "shell.execute_reply": "2021-07-05T08:19:19.968102Z",
     "shell.execute_reply.started": "2021-07-05T07:58:06.203788Z"
    },
    "papermill": {
     "duration": 0.046401,
     "end_time": "2021-07-05T08:19:19.968245",
     "exception": false,
     "start_time": "2021-07-05T08:19:19.921844",
     "status": "completed"
    },
    "tags": []
   },
   "outputs": [],
   "source": [
    "test.loc[test['Cabin'].isna(), 'Cabin_bool'] = 1\n",
    "test.loc[~test['Cabin'].isna(), 'Cabin_bool'] = 0 "
   ]
  },
  {
   "cell_type": "markdown",
   "id": "upper-inventory",
   "metadata": {
    "papermill": {
     "duration": 0.037823,
     "end_time": "2021-07-05T08:19:20.044504",
     "exception": false,
     "start_time": "2021-07-05T08:19:20.006681",
     "status": "completed"
    },
    "tags": []
   },
   "source": [
    "### 타이틀을 숫자로 변경해 주기"
   ]
  },
  {
   "cell_type": "code",
   "execution_count": 14,
   "id": "underlying-poison",
   "metadata": {
    "execution": {
     "iopub.execute_input": "2021-07-05T08:19:20.127326Z",
     "iopub.status.busy": "2021-07-05T08:19:20.126692Z",
     "iopub.status.idle": "2021-07-05T08:19:20.129296Z",
     "shell.execute_reply": "2021-07-05T08:19:20.129821Z",
     "shell.execute_reply.started": "2021-07-05T07:58:08.389809Z"
    },
    "papermill": {
     "duration": 0.047643,
     "end_time": "2021-07-05T08:19:20.130011",
     "exception": false,
     "start_time": "2021-07-05T08:19:20.082368",
     "status": "completed"
    },
    "tags": []
   },
   "outputs": [
    {
     "data": {
      "text/plain": [
       "0                                Braund, Mr. Owen Harris\n",
       "1      Cumings, Mrs. John Bradley (Florence Briggs Th...\n",
       "2                                 Heikkinen, Miss. Laina\n",
       "3           Futrelle, Mrs. Jacques Heath (Lily May Peel)\n",
       "4                               Allen, Mr. William Henry\n",
       "                             ...                        \n",
       "886                                Montvila, Rev. Juozas\n",
       "887                         Graham, Miss. Margaret Edith\n",
       "888             Johnston, Miss. Catherine Helen \"Carrie\"\n",
       "889                                Behr, Mr. Karl Howell\n",
       "890                                  Dooley, Mr. Patrick\n",
       "Name: Name, Length: 891, dtype: object"
      ]
     },
     "execution_count": 14,
     "metadata": {},
     "output_type": "execute_result"
    }
   ],
   "source": [
    "train.Name\n",
    "#특징을 찾아 보자 >> Mrs,Mr....."
   ]
  },
  {
   "cell_type": "code",
   "execution_count": 15,
   "id": "spectacular-simpson",
   "metadata": {
    "execution": {
     "iopub.execute_input": "2021-07-05T08:19:20.208334Z",
     "iopub.status.busy": "2021-07-05T08:19:20.207666Z",
     "iopub.status.idle": "2021-07-05T08:19:20.230119Z",
     "shell.execute_reply": "2021-07-05T08:19:20.230605Z",
     "shell.execute_reply.started": "2021-07-05T07:58:10.711664Z"
    },
    "papermill": {
     "duration": 0.063025,
     "end_time": "2021-07-05T08:19:20.230784",
     "exception": false,
     "start_time": "2021-07-05T08:19:20.167759",
     "status": "completed"
    },
    "tags": []
   },
   "outputs": [
    {
     "data": {
      "text/html": [
       "<div>\n",
       "<style scoped>\n",
       "    .dataframe tbody tr th:only-of-type {\n",
       "        vertical-align: middle;\n",
       "    }\n",
       "\n",
       "    .dataframe tbody tr th {\n",
       "        vertical-align: top;\n",
       "    }\n",
       "\n",
       "    .dataframe thead th {\n",
       "        text-align: right;\n",
       "    }\n",
       "</style>\n",
       "<table border=\"1\" class=\"dataframe\">\n",
       "  <thead>\n",
       "    <tr style=\"text-align: right;\">\n",
       "      <th></th>\n",
       "      <th>PassengerId</th>\n",
       "      <th>Pclass</th>\n",
       "      <th>Name</th>\n",
       "      <th>Sex</th>\n",
       "      <th>Age</th>\n",
       "      <th>SibSp</th>\n",
       "      <th>Parch</th>\n",
       "      <th>Ticket</th>\n",
       "      <th>Fare</th>\n",
       "      <th>Cabin</th>\n",
       "      <th>Embarked</th>\n",
       "      <th>Cabin_bool</th>\n",
       "      <th>Title</th>\n",
       "    </tr>\n",
       "  </thead>\n",
       "  <tbody>\n",
       "    <tr>\n",
       "      <th>0</th>\n",
       "      <td>892</td>\n",
       "      <td>3</td>\n",
       "      <td>Kelly, Mr. James</td>\n",
       "      <td>male</td>\n",
       "      <td>34.5</td>\n",
       "      <td>0</td>\n",
       "      <td>0</td>\n",
       "      <td>330911</td>\n",
       "      <td>7.8292</td>\n",
       "      <td>NaN</td>\n",
       "      <td>Q</td>\n",
       "      <td>1.0</td>\n",
       "      <td>Mr</td>\n",
       "    </tr>\n",
       "    <tr>\n",
       "      <th>1</th>\n",
       "      <td>893</td>\n",
       "      <td>3</td>\n",
       "      <td>Wilkes, Mrs. James (Ellen Needs)</td>\n",
       "      <td>female</td>\n",
       "      <td>47.0</td>\n",
       "      <td>1</td>\n",
       "      <td>0</td>\n",
       "      <td>363272</td>\n",
       "      <td>7.0000</td>\n",
       "      <td>NaN</td>\n",
       "      <td>S</td>\n",
       "      <td>1.0</td>\n",
       "      <td>Mrs</td>\n",
       "    </tr>\n",
       "    <tr>\n",
       "      <th>2</th>\n",
       "      <td>894</td>\n",
       "      <td>2</td>\n",
       "      <td>Myles, Mr. Thomas Francis</td>\n",
       "      <td>male</td>\n",
       "      <td>62.0</td>\n",
       "      <td>0</td>\n",
       "      <td>0</td>\n",
       "      <td>240276</td>\n",
       "      <td>9.6875</td>\n",
       "      <td>NaN</td>\n",
       "      <td>Q</td>\n",
       "      <td>1.0</td>\n",
       "      <td>Mr</td>\n",
       "    </tr>\n",
       "    <tr>\n",
       "      <th>3</th>\n",
       "      <td>895</td>\n",
       "      <td>3</td>\n",
       "      <td>Wirz, Mr. Albert</td>\n",
       "      <td>male</td>\n",
       "      <td>27.0</td>\n",
       "      <td>0</td>\n",
       "      <td>0</td>\n",
       "      <td>315154</td>\n",
       "      <td>8.6625</td>\n",
       "      <td>NaN</td>\n",
       "      <td>S</td>\n",
       "      <td>1.0</td>\n",
       "      <td>Mr</td>\n",
       "    </tr>\n",
       "    <tr>\n",
       "      <th>4</th>\n",
       "      <td>896</td>\n",
       "      <td>3</td>\n",
       "      <td>Hirvonen, Mrs. Alexander (Helga E Lindqvist)</td>\n",
       "      <td>female</td>\n",
       "      <td>22.0</td>\n",
       "      <td>1</td>\n",
       "      <td>1</td>\n",
       "      <td>3101298</td>\n",
       "      <td>12.2875</td>\n",
       "      <td>NaN</td>\n",
       "      <td>S</td>\n",
       "      <td>1.0</td>\n",
       "      <td>Mrs</td>\n",
       "    </tr>\n",
       "  </tbody>\n",
       "</table>\n",
       "</div>"
      ],
      "text/plain": [
       "   PassengerId  Pclass                                          Name     Sex  \\\n",
       "0          892       3                              Kelly, Mr. James    male   \n",
       "1          893       3              Wilkes, Mrs. James (Ellen Needs)  female   \n",
       "2          894       2                     Myles, Mr. Thomas Francis    male   \n",
       "3          895       3                              Wirz, Mr. Albert    male   \n",
       "4          896       3  Hirvonen, Mrs. Alexander (Helga E Lindqvist)  female   \n",
       "\n",
       "    Age  SibSp  Parch   Ticket     Fare Cabin Embarked  Cabin_bool Title  \n",
       "0  34.5      0      0   330911   7.8292   NaN        Q         1.0    Mr  \n",
       "1  47.0      1      0   363272   7.0000   NaN        S         1.0   Mrs  \n",
       "2  62.0      0      0   240276   9.6875   NaN        Q         1.0    Mr  \n",
       "3  27.0      0      0   315154   8.6625   NaN        S         1.0    Mr  \n",
       "4  22.0      1      1  3101298  12.2875   NaN        S         1.0   Mrs  "
      ]
     },
     "execution_count": 15,
     "metadata": {},
     "output_type": "execute_result"
    }
   ],
   "source": [
    "all_df= [train,test] #리스트는 for문으로 돌릴 수 있다\n",
    "\n",
    "for one in all_df:\n",
    "    one['Title']= one.Name.str.extract(' ([A-Za-z]+)\\.', expand=False) # + 여러문자가 반복된다.\n",
    "    \n",
    "test.head()"
   ]
  },
  {
   "cell_type": "code",
   "execution_count": 16,
   "id": "shared-freedom",
   "metadata": {
    "execution": {
     "iopub.execute_input": "2021-07-05T08:19:20.311871Z",
     "iopub.status.busy": "2021-07-05T08:19:20.310901Z",
     "iopub.status.idle": "2021-07-05T08:19:20.316567Z",
     "shell.execute_reply": "2021-07-05T08:19:20.317119Z",
     "shell.execute_reply.started": "2021-07-05T07:58:16.405917Z"
    },
    "papermill": {
     "duration": 0.047873,
     "end_time": "2021-07-05T08:19:20.317289",
     "exception": false,
     "start_time": "2021-07-05T08:19:20.269416",
     "status": "completed"
    },
    "tags": []
   },
   "outputs": [
    {
     "data": {
      "text/plain": [
       "array(['Mr', 'Mrs', 'Miss', 'Master', 'Don', 'Rev', 'Dr', 'Mme', 'Ms',\n",
       "       'Major', 'Lady', 'Sir', 'Mlle', 'Col', 'Capt', 'Countess',\n",
       "       'Jonkheer'], dtype=object)"
      ]
     },
     "execution_count": 16,
     "metadata": {},
     "output_type": "execute_result"
    }
   ],
   "source": [
    "#원하는 것만 뽑아낸느 방법1\n",
    "train['Title'].unique()"
   ]
  },
  {
   "cell_type": "code",
   "execution_count": 17,
   "id": "sharp-emperor",
   "metadata": {
    "execution": {
     "iopub.execute_input": "2021-07-05T08:19:20.399537Z",
     "iopub.status.busy": "2021-07-05T08:19:20.398656Z",
     "iopub.status.idle": "2021-07-05T08:19:20.405852Z",
     "shell.execute_reply": "2021-07-05T08:19:20.406382Z",
     "shell.execute_reply.started": "2021-07-05T07:58:18.523912Z"
    },
    "papermill": {
     "duration": 0.050114,
     "end_time": "2021-07-05T08:19:20.406537",
     "exception": false,
     "start_time": "2021-07-05T08:19:20.356423",
     "status": "completed"
    },
    "tags": []
   },
   "outputs": [
    {
     "data": {
      "text/plain": [
       "Mr          517\n",
       "Miss        182\n",
       "Mrs         125\n",
       "Master       40\n",
       "Dr            7\n",
       "Rev           6\n",
       "Col           2\n",
       "Major         2\n",
       "Mlle          2\n",
       "Ms            1\n",
       "Don           1\n",
       "Capt          1\n",
       "Lady          1\n",
       "Jonkheer      1\n",
       "Mme           1\n",
       "Countess      1\n",
       "Sir           1\n",
       "Name: Title, dtype: int64"
      ]
     },
     "execution_count": 17,
     "metadata": {},
     "output_type": "execute_result"
    }
   ],
   "source": [
    "#원하는 것만 뽑아낸느 방법2\n",
    "train['Title'].value_counts()"
   ]
  },
  {
   "cell_type": "code",
   "execution_count": 18,
   "id": "together-effect",
   "metadata": {
    "execution": {
     "iopub.execute_input": "2021-07-05T08:19:20.490352Z",
     "iopub.status.busy": "2021-07-05T08:19:20.489396Z",
     "iopub.status.idle": "2021-07-05T08:19:20.515937Z",
     "shell.execute_reply": "2021-07-05T08:19:20.516398Z",
     "shell.execute_reply.started": "2021-07-05T07:58:20.286406Z"
    },
    "papermill": {
     "duration": 0.069566,
     "end_time": "2021-07-05T08:19:20.516565",
     "exception": false,
     "start_time": "2021-07-05T08:19:20.446999",
     "status": "completed"
    },
    "tags": []
   },
   "outputs": [
    {
     "data": {
      "text/html": [
       "<div>\n",
       "<style scoped>\n",
       "    .dataframe tbody tr th:only-of-type {\n",
       "        vertical-align: middle;\n",
       "    }\n",
       "\n",
       "    .dataframe tbody tr th {\n",
       "        vertical-align: top;\n",
       "    }\n",
       "\n",
       "    .dataframe thead th {\n",
       "        text-align: right;\n",
       "    }\n",
       "</style>\n",
       "<table border=\"1\" class=\"dataframe\">\n",
       "  <thead>\n",
       "    <tr style=\"text-align: right;\">\n",
       "      <th></th>\n",
       "      <th>PassengerId</th>\n",
       "      <th>Survived</th>\n",
       "      <th>Pclass</th>\n",
       "      <th>Name</th>\n",
       "      <th>Sex</th>\n",
       "      <th>Age</th>\n",
       "      <th>SibSp</th>\n",
       "      <th>Parch</th>\n",
       "      <th>Ticket</th>\n",
       "      <th>Fare</th>\n",
       "      <th>Cabin</th>\n",
       "      <th>Embarked</th>\n",
       "      <th>Cabin_bool</th>\n",
       "      <th>Title</th>\n",
       "    </tr>\n",
       "  </thead>\n",
       "  <tbody>\n",
       "    <tr>\n",
       "      <th>0</th>\n",
       "      <td>1</td>\n",
       "      <td>0</td>\n",
       "      <td>3</td>\n",
       "      <td>Braund, Mr. Owen Harris</td>\n",
       "      <td>male</td>\n",
       "      <td>22.0</td>\n",
       "      <td>1</td>\n",
       "      <td>0</td>\n",
       "      <td>A/5 21171</td>\n",
       "      <td>7.2500</td>\n",
       "      <td>NaN</td>\n",
       "      <td>S</td>\n",
       "      <td>1.0</td>\n",
       "      <td>Mr</td>\n",
       "    </tr>\n",
       "    <tr>\n",
       "      <th>1</th>\n",
       "      <td>2</td>\n",
       "      <td>1</td>\n",
       "      <td>1</td>\n",
       "      <td>Cumings, Mrs. John Bradley (Florence Briggs Th...</td>\n",
       "      <td>female</td>\n",
       "      <td>38.0</td>\n",
       "      <td>1</td>\n",
       "      <td>0</td>\n",
       "      <td>PC 17599</td>\n",
       "      <td>71.2833</td>\n",
       "      <td>C85</td>\n",
       "      <td>C</td>\n",
       "      <td>0.0</td>\n",
       "      <td>Mrs</td>\n",
       "    </tr>\n",
       "    <tr>\n",
       "      <th>2</th>\n",
       "      <td>3</td>\n",
       "      <td>1</td>\n",
       "      <td>3</td>\n",
       "      <td>Heikkinen, Miss. Laina</td>\n",
       "      <td>female</td>\n",
       "      <td>26.0</td>\n",
       "      <td>0</td>\n",
       "      <td>0</td>\n",
       "      <td>STON/O2. 3101282</td>\n",
       "      <td>7.9250</td>\n",
       "      <td>NaN</td>\n",
       "      <td>S</td>\n",
       "      <td>1.0</td>\n",
       "      <td>Miss</td>\n",
       "    </tr>\n",
       "    <tr>\n",
       "      <th>3</th>\n",
       "      <td>4</td>\n",
       "      <td>1</td>\n",
       "      <td>1</td>\n",
       "      <td>Futrelle, Mrs. Jacques Heath (Lily May Peel)</td>\n",
       "      <td>female</td>\n",
       "      <td>35.0</td>\n",
       "      <td>1</td>\n",
       "      <td>0</td>\n",
       "      <td>113803</td>\n",
       "      <td>53.1000</td>\n",
       "      <td>C123</td>\n",
       "      <td>S</td>\n",
       "      <td>0.0</td>\n",
       "      <td>Mrs</td>\n",
       "    </tr>\n",
       "    <tr>\n",
       "      <th>4</th>\n",
       "      <td>5</td>\n",
       "      <td>0</td>\n",
       "      <td>3</td>\n",
       "      <td>Allen, Mr. William Henry</td>\n",
       "      <td>male</td>\n",
       "      <td>35.0</td>\n",
       "      <td>0</td>\n",
       "      <td>0</td>\n",
       "      <td>373450</td>\n",
       "      <td>8.0500</td>\n",
       "      <td>NaN</td>\n",
       "      <td>S</td>\n",
       "      <td>1.0</td>\n",
       "      <td>Mr</td>\n",
       "    </tr>\n",
       "  </tbody>\n",
       "</table>\n",
       "</div>"
      ],
      "text/plain": [
       "   PassengerId  Survived  Pclass  \\\n",
       "0            1         0       3   \n",
       "1            2         1       1   \n",
       "2            3         1       3   \n",
       "3            4         1       1   \n",
       "4            5         0       3   \n",
       "\n",
       "                                                Name     Sex   Age  SibSp  \\\n",
       "0                            Braund, Mr. Owen Harris    male  22.0      1   \n",
       "1  Cumings, Mrs. John Bradley (Florence Briggs Th...  female  38.0      1   \n",
       "2                             Heikkinen, Miss. Laina  female  26.0      0   \n",
       "3       Futrelle, Mrs. Jacques Heath (Lily May Peel)  female  35.0      1   \n",
       "4                           Allen, Mr. William Henry    male  35.0      0   \n",
       "\n",
       "   Parch            Ticket     Fare Cabin Embarked  Cabin_bool Title  \n",
       "0      0         A/5 21171   7.2500   NaN        S         1.0    Mr  \n",
       "1      0          PC 17599  71.2833   C85        C         0.0   Mrs  \n",
       "2      0  STON/O2. 3101282   7.9250   NaN        S         1.0  Miss  \n",
       "3      0            113803  53.1000  C123        S         0.0   Mrs  \n",
       "4      0            373450   8.0500   NaN        S         1.0    Mr  "
      ]
     },
     "execution_count": 18,
     "metadata": {},
     "output_type": "execute_result"
    }
   ],
   "source": [
    "for dataset in all_df:\n",
    "    # 내부적으로 dataset에 title을 변경할거야. lady~~Dona는 'Rare' 으로,,,,\n",
    "    dataset['Title']= dataset['Title'].replace(['Lady', 'Countess','Capt', 'Col',\\\n",
    "   'Don', 'Dr', 'Major', 'Rev', 'Sir', 'Jonkheer', 'Dona'], 'Rare')     \n",
    "    \n",
    "    dataset['Title'] = dataset['Title'].replace('Mlle', 'Miss')\n",
    "    dataset['Title'] = dataset['Title'].replace('Ms', 'Miss')\n",
    "    dataset['Title'] = dataset['Title'].replace('Mme', 'Mrs')\n",
    "    \n",
    "train.head()  # 꼭 변경이 잘 되었는지 확인하기!!!"
   ]
  },
  {
   "cell_type": "code",
   "execution_count": 19,
   "id": "breathing-perfume",
   "metadata": {
    "execution": {
     "iopub.execute_input": "2021-07-05T08:19:20.601824Z",
     "iopub.status.busy": "2021-07-05T08:19:20.600882Z",
     "iopub.status.idle": "2021-07-05T08:19:20.607897Z",
     "shell.execute_reply": "2021-07-05T08:19:20.608353Z",
     "shell.execute_reply.started": "2021-07-05T07:58:25.58779Z"
    },
    "papermill": {
     "duration": 0.05092,
     "end_time": "2021-07-05T08:19:20.608508",
     "exception": false,
     "start_time": "2021-07-05T08:19:20.557588",
     "status": "completed"
    },
    "tags": []
   },
   "outputs": [
    {
     "data": {
      "text/plain": [
       "Mr        240\n",
       "Miss       79\n",
       "Mrs        72\n",
       "Master     21\n",
       "Rare        6\n",
       "Name: Title, dtype: int64"
      ]
     },
     "execution_count": 19,
     "metadata": {},
     "output_type": "execute_result"
    }
   ],
   "source": [
    "test['Title'].value_counts()"
   ]
  },
  {
   "cell_type": "code",
   "execution_count": 20,
   "id": "palestinian-gospel",
   "metadata": {
    "execution": {
     "iopub.execute_input": "2021-07-05T08:19:20.692602Z",
     "iopub.status.busy": "2021-07-05T08:19:20.691689Z",
     "iopub.status.idle": "2021-07-05T08:19:20.697062Z",
     "shell.execute_reply": "2021-07-05T08:19:20.697522Z",
     "shell.execute_reply.started": "2021-07-05T07:58:28.717844Z"
    },
    "papermill": {
     "duration": 0.048673,
     "end_time": "2021-07-05T08:19:20.697681",
     "exception": false,
     "start_time": "2021-07-05T08:19:20.649008",
     "status": "completed"
    },
    "tags": []
   },
   "outputs": [
    {
     "data": {
      "text/plain": [
       "<pandas.core.groupby.generic.DataFrameGroupBy object at 0x7fa3957ffb90>"
      ]
     },
     "execution_count": 20,
     "metadata": {},
     "output_type": "execute_result"
    }
   ],
   "source": [
    "#원하는 것만 뽑아낸느 방법3\n",
    "train.groupby('Title')"
   ]
  },
  {
   "cell_type": "code",
   "execution_count": 21,
   "id": "imported-salem",
   "metadata": {
    "execution": {
     "iopub.execute_input": "2021-07-05T08:19:20.782517Z",
     "iopub.status.busy": "2021-07-05T08:19:20.781629Z",
     "iopub.status.idle": "2021-07-05T08:19:20.805138Z",
     "shell.execute_reply": "2021-07-05T08:19:20.804622Z",
     "shell.execute_reply.started": "2021-07-05T07:58:30.093899Z"
    },
    "papermill": {
     "duration": 0.066771,
     "end_time": "2021-07-05T08:19:20.805285",
     "exception": false,
     "start_time": "2021-07-05T08:19:20.738514",
     "status": "completed"
    },
    "tags": []
   },
   "outputs": [
    {
     "data": {
      "text/html": [
       "<div>\n",
       "<style scoped>\n",
       "    .dataframe tbody tr th:only-of-type {\n",
       "        vertical-align: middle;\n",
       "    }\n",
       "\n",
       "    .dataframe tbody tr th {\n",
       "        vertical-align: top;\n",
       "    }\n",
       "\n",
       "    .dataframe thead th {\n",
       "        text-align: right;\n",
       "    }\n",
       "</style>\n",
       "<table border=\"1\" class=\"dataframe\">\n",
       "  <thead>\n",
       "    <tr style=\"text-align: right;\">\n",
       "      <th></th>\n",
       "      <th>PassengerId</th>\n",
       "      <th>Survived</th>\n",
       "      <th>Pclass</th>\n",
       "      <th>Name</th>\n",
       "      <th>Sex</th>\n",
       "      <th>Age</th>\n",
       "      <th>SibSp</th>\n",
       "      <th>Parch</th>\n",
       "      <th>Ticket</th>\n",
       "      <th>Fare</th>\n",
       "      <th>Cabin</th>\n",
       "      <th>Embarked</th>\n",
       "      <th>Cabin_bool</th>\n",
       "      <th>Title</th>\n",
       "    </tr>\n",
       "  </thead>\n",
       "  <tbody>\n",
       "    <tr>\n",
       "      <th>0</th>\n",
       "      <td>1</td>\n",
       "      <td>0</td>\n",
       "      <td>3</td>\n",
       "      <td>Braund, Mr. Owen Harris</td>\n",
       "      <td>male</td>\n",
       "      <td>22.0</td>\n",
       "      <td>1</td>\n",
       "      <td>0</td>\n",
       "      <td>A/5 21171</td>\n",
       "      <td>7.2500</td>\n",
       "      <td>NaN</td>\n",
       "      <td>S</td>\n",
       "      <td>1.0</td>\n",
       "      <td>1</td>\n",
       "    </tr>\n",
       "    <tr>\n",
       "      <th>1</th>\n",
       "      <td>2</td>\n",
       "      <td>1</td>\n",
       "      <td>1</td>\n",
       "      <td>Cumings, Mrs. John Bradley (Florence Briggs Th...</td>\n",
       "      <td>female</td>\n",
       "      <td>38.0</td>\n",
       "      <td>1</td>\n",
       "      <td>0</td>\n",
       "      <td>PC 17599</td>\n",
       "      <td>71.2833</td>\n",
       "      <td>C85</td>\n",
       "      <td>C</td>\n",
       "      <td>0.0</td>\n",
       "      <td>3</td>\n",
       "    </tr>\n",
       "    <tr>\n",
       "      <th>2</th>\n",
       "      <td>3</td>\n",
       "      <td>1</td>\n",
       "      <td>3</td>\n",
       "      <td>Heikkinen, Miss. Laina</td>\n",
       "      <td>female</td>\n",
       "      <td>26.0</td>\n",
       "      <td>0</td>\n",
       "      <td>0</td>\n",
       "      <td>STON/O2. 3101282</td>\n",
       "      <td>7.9250</td>\n",
       "      <td>NaN</td>\n",
       "      <td>S</td>\n",
       "      <td>1.0</td>\n",
       "      <td>2</td>\n",
       "    </tr>\n",
       "    <tr>\n",
       "      <th>3</th>\n",
       "      <td>4</td>\n",
       "      <td>1</td>\n",
       "      <td>1</td>\n",
       "      <td>Futrelle, Mrs. Jacques Heath (Lily May Peel)</td>\n",
       "      <td>female</td>\n",
       "      <td>35.0</td>\n",
       "      <td>1</td>\n",
       "      <td>0</td>\n",
       "      <td>113803</td>\n",
       "      <td>53.1000</td>\n",
       "      <td>C123</td>\n",
       "      <td>S</td>\n",
       "      <td>0.0</td>\n",
       "      <td>3</td>\n",
       "    </tr>\n",
       "    <tr>\n",
       "      <th>4</th>\n",
       "      <td>5</td>\n",
       "      <td>0</td>\n",
       "      <td>3</td>\n",
       "      <td>Allen, Mr. William Henry</td>\n",
       "      <td>male</td>\n",
       "      <td>35.0</td>\n",
       "      <td>0</td>\n",
       "      <td>0</td>\n",
       "      <td>373450</td>\n",
       "      <td>8.0500</td>\n",
       "      <td>NaN</td>\n",
       "      <td>S</td>\n",
       "      <td>1.0</td>\n",
       "      <td>1</td>\n",
       "    </tr>\n",
       "  </tbody>\n",
       "</table>\n",
       "</div>"
      ],
      "text/plain": [
       "   PassengerId  Survived  Pclass  \\\n",
       "0            1         0       3   \n",
       "1            2         1       1   \n",
       "2            3         1       3   \n",
       "3            4         1       1   \n",
       "4            5         0       3   \n",
       "\n",
       "                                                Name     Sex   Age  SibSp  \\\n",
       "0                            Braund, Mr. Owen Harris    male  22.0      1   \n",
       "1  Cumings, Mrs. John Bradley (Florence Briggs Th...  female  38.0      1   \n",
       "2                             Heikkinen, Miss. Laina  female  26.0      0   \n",
       "3       Futrelle, Mrs. Jacques Heath (Lily May Peel)  female  35.0      1   \n",
       "4                           Allen, Mr. William Henry    male  35.0      0   \n",
       "\n",
       "   Parch            Ticket     Fare Cabin Embarked  Cabin_bool  Title  \n",
       "0      0         A/5 21171   7.2500   NaN        S         1.0      1  \n",
       "1      0          PC 17599  71.2833   C85        C         0.0      3  \n",
       "2      0  STON/O2. 3101282   7.9250   NaN        S         1.0      2  \n",
       "3      0            113803  53.1000  C123        S         0.0      3  \n",
       "4      0            373450   8.0500   NaN        S         1.0      1  "
      ]
     },
     "execution_count": 21,
     "metadata": {},
     "output_type": "execute_result"
    }
   ],
   "source": [
    "title_mapping = {\"Mr\": 1, \"Miss\": 2, \"Mrs\": 3, \"Master\": 4, \"Rare\": 5}\n",
    "all_df = [train, test]\n",
    "for dataset in all_df:\n",
    "    dataset['Title'] = dataset['Title'].map(title_mapping)\n",
    "    dataset['Title'] = dataset['Title'].fillna(0)\n",
    "train.head()"
   ]
  },
  {
   "cell_type": "code",
   "execution_count": 22,
   "id": "designing-auckland",
   "metadata": {
    "execution": {
     "iopub.execute_input": "2021-07-05T08:19:20.893622Z",
     "iopub.status.busy": "2021-07-05T08:19:20.892961Z",
     "iopub.status.idle": "2021-07-05T08:19:20.894837Z",
     "shell.execute_reply": "2021-07-05T08:19:20.895303Z",
     "shell.execute_reply.started": "2021-07-05T07:58:34.903728Z"
    },
    "papermill": {
     "duration": 0.047953,
     "end_time": "2021-07-05T08:19:20.895473",
     "exception": false,
     "start_time": "2021-07-05T08:19:20.847520",
     "status": "completed"
    },
    "tags": []
   },
   "outputs": [],
   "source": [
    "# [코드1~3] 은 결측치 다 처리 된 맨 마지막에 모델 만들기 전에 해준다.\n",
    "# [코드1]\n",
    "#결측치 처리 된것만 여기에 쓰기 \n",
    "\n",
    "\n",
    "# sel = ['Pclass', 'SibSp', 'Parch', 'Cabin_bool', 'Title', 'Age']\n",
    "# X_train = train[sel] \n",
    "# X_test = test[sel]\n",
    "# y_train = train['Survived']\n",
    "\n",
    "# from sklearn.tree import DecisionTreeClassifier\n",
    "# decisiontree = DecisionTreeClassifier()\n",
    "# decisiontree.fit(X_train, y_train)\n",
    "# # 예측\n",
    "# pred = decisiontree.predict(X_test)\n",
    "# pred[:15]"
   ]
  },
  {
   "cell_type": "markdown",
   "id": "light-helicopter",
   "metadata": {
    "papermill": {
     "duration": 0.041764,
     "end_time": "2021-07-05T08:19:20.979016",
     "exception": false,
     "start_time": "2021-07-05T08:19:20.937252",
     "status": "completed"
    },
    "tags": []
   },
   "source": [
    "### SibSp, Parch를 이용해서 FamilySize라는 특징(feature)만들기\n",
    "* sibsp : 함께 탑승한 형제 또는 배우자 수\n",
    "  - 0~1: sm\n",
    "  - 2이상: lar\n",
    "* parch : 함께 탑승한 부모 또는 자녀 수\n",
    "  - 0~1: sm\n",
    "  - 2이상: lar"
   ]
  },
  {
   "cell_type": "code",
   "execution_count": 23,
   "id": "little-chancellor",
   "metadata": {
    "execution": {
     "iopub.execute_input": "2021-07-05T08:19:21.066613Z",
     "iopub.status.busy": "2021-07-05T08:19:21.065953Z",
     "iopub.status.idle": "2021-07-05T08:19:21.069309Z",
     "shell.execute_reply": "2021-07-05T08:19:21.069826Z",
     "shell.execute_reply.started": "2021-07-05T07:58:37.155835Z"
    },
    "papermill": {
     "duration": 0.049607,
     "end_time": "2021-07-05T08:19:21.069982",
     "exception": false,
     "start_time": "2021-07-05T08:19:21.020375",
     "status": "completed"
    },
    "tags": []
   },
   "outputs": [],
   "source": [
    "# 초기 : 0.76555\n",
    "# Title과 Ticket 추가 후 : 0.75598\n",
    "# Title과 Ticket 간소화 후 : 0.75119\n",
    "# -> Familysize 추가 후 : 0.75119\n",
    "    \n",
    "# # Title\n",
    "# name = []\n",
    "# for i in train['Name']:\n",
    "#     name_tmp = i.split(', ')[1]\n",
    "#     name_tmp = name_tmp.split(' ')[0]\n",
    "#     name.append(name_tmp)\n",
    "# name_ser = pd.Series(name)    \n",
    "# name_ser, name_ser.unique()"
   ]
  },
  {
   "cell_type": "code",
   "execution_count": 24,
   "id": "opponent-ending",
   "metadata": {
    "execution": {
     "iopub.execute_input": "2021-07-05T08:19:21.156821Z",
     "iopub.status.busy": "2021-07-05T08:19:21.156172Z",
     "iopub.status.idle": "2021-07-05T08:19:21.159104Z",
     "shell.execute_reply": "2021-07-05T08:19:21.159690Z",
     "shell.execute_reply.started": "2021-07-05T07:58:38.714744Z"
    },
    "papermill": {
     "duration": 0.047669,
     "end_time": "2021-07-05T08:19:21.159864",
     "exception": false,
     "start_time": "2021-07-05T08:19:21.112195",
     "status": "completed"
    },
    "tags": []
   },
   "outputs": [],
   "source": [
    "# for idx, one in enumerate(name):\n",
    "#     if one == 'Mr.': name[idx] = 0 \n",
    "#     elif one == 'Ms.' or one == 'Mrs.' or one == 'Miss.': name[idx] = 1 \n",
    "#     elif one == 'Master.': name[idx] = 2 \n",
    "#     elif one == 'Rev.': name[idx] = 3 \n",
    "#     elif one == 'Dr.': name[idx] = 4 \n",
    "#     elif one == 'Major.': name[idx] = 5 \n",
    "#     elif one == 'Col.': name[idx] = 6 \n",
    "#     else: name[idx] = 7"
   ]
  },
  {
   "cell_type": "code",
   "execution_count": 25,
   "id": "active-cemetery",
   "metadata": {
    "execution": {
     "iopub.execute_input": "2021-07-05T08:19:21.245268Z",
     "iopub.status.busy": "2021-07-05T08:19:21.244733Z",
     "iopub.status.idle": "2021-07-05T08:19:21.247859Z",
     "shell.execute_reply": "2021-07-05T08:19:21.248380Z",
     "shell.execute_reply.started": "2021-07-05T07:58:40.399156Z"
    },
    "papermill": {
     "duration": 0.047006,
     "end_time": "2021-07-05T08:19:21.248523",
     "exception": false,
     "start_time": "2021-07-05T08:19:21.201517",
     "status": "completed"
    },
    "tags": []
   },
   "outputs": [],
   "source": [
    "# # Ticket\n",
    "# ticket = []\n",
    "# for i in train['Ticket']:\n",
    "#     temp = i.split(' ')\n",
    "#     if len(temp) == 2:\n",
    "#         ticket.append(temp[0])\n",
    "#     else:\n",
    "#         ticket.append('')\n",
    "# ticket = pd.Series(ticket)\n",
    "# ticket.unique()"
   ]
  },
  {
   "cell_type": "code",
   "execution_count": 26,
   "id": "therapeutic-central",
   "metadata": {
    "execution": {
     "iopub.execute_input": "2021-07-05T08:19:21.333561Z",
     "iopub.status.busy": "2021-07-05T08:19:21.332958Z",
     "iopub.status.idle": "2021-07-05T08:19:21.337373Z",
     "shell.execute_reply": "2021-07-05T08:19:21.336552Z",
     "shell.execute_reply.started": "2021-07-05T07:58:41.343443Z"
    },
    "papermill": {
     "duration": 0.048252,
     "end_time": "2021-07-05T08:19:21.337516",
     "exception": false,
     "start_time": "2021-07-05T08:19:21.289264",
     "status": "completed"
    },
    "tags": []
   },
   "outputs": [],
   "source": [
    "# for idx, one in enumerate(ticket):\n",
    "#     if one == 'A/5' or one == 'A/5.' or one == 'A./5.' or one == 'A.5.': ticket[idx] = 1 \n",
    "#     elif one == 'PC': ticket[idx] = 2 \n",
    "#     elif one == 'C.A.' or one == 'CA' or one == 'CA.': ticket[idx] = 3 \n",
    "#     elif one == 'SC/Paris' or one == 'SC/PARIS' or one == 'S.C./PARIS': ticket[idx] = 4 \n",
    "#     elif one == 'A/4.' or one == 'A4.' or one == 'A/4': ticket[idx] = 5 \n",
    "#     elif one == 'W./C.' or one == 'W/C': ticket[idx] = 6\n",
    "#     elif one == 'SOTON/OQ' or one == 'SOTON/O.Q.' or one == 'SOTON/O2': ticket[idx] = 7 \n",
    "#     elif one == 'C': ticket[idx] = 8 \n",
    "#     elif one == 'F.C.C.': ticket[idx] = 9 \n",
    "#     elif one == 'S.O./P.P.': ticket[idx] = 10 \n",
    "#     else: ticket[idx] = 0"
   ]
  },
  {
   "cell_type": "code",
   "execution_count": 27,
   "id": "listed-terrace",
   "metadata": {
    "execution": {
     "iopub.execute_input": "2021-07-05T08:19:21.423634Z",
     "iopub.status.busy": "2021-07-05T08:19:21.423030Z",
     "iopub.status.idle": "2021-07-05T08:19:21.426793Z",
     "shell.execute_reply": "2021-07-05T08:19:21.426283Z",
     "shell.execute_reply.started": "2021-07-05T07:58:43.406021Z"
    },
    "papermill": {
     "duration": 0.047692,
     "end_time": "2021-07-05T08:19:21.426927",
     "exception": false,
     "start_time": "2021-07-05T08:19:21.379235",
     "status": "completed"
    },
    "tags": []
   },
   "outputs": [],
   "source": [
    "# # Family_size\n",
    "# train['Family_size'] = train['SibSp'] + train['Parch'] + 1   # +1 : 본인 수 포함\n",
    "# test['Family_size'] = test['SibSp'] + test['Parch'] + 1"
   ]
  },
  {
   "cell_type": "code",
   "execution_count": null,
   "id": "outstanding-affiliate",
   "metadata": {
    "papermill": {
     "duration": 0.041178,
     "end_time": "2021-07-05T08:19:21.509283",
     "exception": false,
     "start_time": "2021-07-05T08:19:21.468105",
     "status": "completed"
    },
    "tags": []
   },
   "outputs": [],
   "source": []
  },
  {
   "cell_type": "markdown",
   "id": "intelligent-handling",
   "metadata": {
    "papermill": {
     "duration": 0.041059,
     "end_time": "2021-07-05T08:19:21.590995",
     "exception": false,
     "start_time": "2021-07-05T08:19:21.549936",
     "status": "completed"
    },
    "tags": []
   },
   "source": [
    "### Age "
   ]
  },
  {
   "cell_type": "code",
   "execution_count": 28,
   "id": "pretty-coordinator",
   "metadata": {
    "execution": {
     "iopub.execute_input": "2021-07-05T08:19:21.679459Z",
     "iopub.status.busy": "2021-07-05T08:19:21.678619Z",
     "iopub.status.idle": "2021-07-05T08:19:21.682286Z",
     "shell.execute_reply": "2021-07-05T08:19:21.681810Z",
     "shell.execute_reply.started": "2021-07-05T07:58:52.734276Z"
    },
    "papermill": {
     "duration": 0.049417,
     "end_time": "2021-07-05T08:19:21.682416",
     "exception": false,
     "start_time": "2021-07-05T08:19:21.632999",
     "status": "completed"
    },
    "tags": []
   },
   "outputs": [
    {
     "data": {
      "text/plain": [
       "((891, 14), (418, 13))"
      ]
     },
     "execution_count": 28,
     "metadata": {},
     "output_type": "execute_result"
    }
   ],
   "source": [
    "train.shape, test.shape  #두개의 행과 열이 다름을 확인"
   ]
  },
  {
   "cell_type": "code",
   "execution_count": 29,
   "id": "paperback-bosnia",
   "metadata": {
    "execution": {
     "iopub.execute_input": "2021-07-05T08:19:21.771163Z",
     "iopub.status.busy": "2021-07-05T08:19:21.770527Z",
     "iopub.status.idle": "2021-07-05T08:19:21.781795Z",
     "shell.execute_reply": "2021-07-05T08:19:21.782234Z",
     "shell.execute_reply.started": "2021-07-05T07:58:53.808221Z"
    },
    "papermill": {
     "duration": 0.057885,
     "end_time": "2021-07-05T08:19:21.782398",
     "exception": false,
     "start_time": "2021-07-05T08:19:21.724513",
     "status": "completed"
    },
    "tags": []
   },
   "outputs": [
    {
     "data": {
      "text/plain": [
       "((1309, 13),\n",
       " Index(['PassengerId', 'Pclass', 'Name', 'Sex', 'Age', 'SibSp', 'Parch',\n",
       "        'Ticket', 'Fare', 'Cabin', 'Embarked', 'Cabin_bool', 'Title'],\n",
       "       dtype='object'))"
      ]
     },
     "execution_count": 29,
     "metadata": {},
     "output_type": "execute_result"
    }
   ],
   "source": [
    "#pandas에서 두개의 데이터를 연결시키고 싶다. 그런데, 공통되는 컬럼만 연결시키고 싶다\n",
    "all_titanic = pd.concat([train, test], join ='inner')\n",
    "all_titanic.shape,  all_titanic.columns"
   ]
  },
  {
   "cell_type": "code",
   "execution_count": 30,
   "id": "spread-attitude",
   "metadata": {
    "execution": {
     "iopub.execute_input": "2021-07-05T08:19:21.870737Z",
     "iopub.status.busy": "2021-07-05T08:19:21.870116Z",
     "iopub.status.idle": "2021-07-05T08:19:21.873311Z",
     "shell.execute_reply": "2021-07-05T08:19:21.873894Z",
     "shell.execute_reply.started": "2021-07-05T07:58:58.360494Z"
    },
    "papermill": {
     "duration": 0.049425,
     "end_time": "2021-07-05T08:19:21.874049",
     "exception": false,
     "start_time": "2021-07-05T08:19:21.824624",
     "status": "completed"
    },
    "tags": []
   },
   "outputs": [
    {
     "data": {
      "text/plain": [
       "(1309, 13)"
      ]
     },
     "execution_count": 30,
     "metadata": {},
     "output_type": "execute_result"
    }
   ],
   "source": [
    "all_titanic.shape"
   ]
  },
  {
   "cell_type": "code",
   "execution_count": 31,
   "id": "seven-substitute",
   "metadata": {
    "execution": {
     "iopub.execute_input": "2021-07-05T08:19:21.975519Z",
     "iopub.status.busy": "2021-07-05T08:19:21.974665Z",
     "iopub.status.idle": "2021-07-05T08:19:21.979180Z",
     "shell.execute_reply": "2021-07-05T08:19:21.978522Z",
     "shell.execute_reply.started": "2021-07-05T07:58:59.792315Z"
    },
    "papermill": {
     "duration": 0.062826,
     "end_time": "2021-07-05T08:19:21.979318",
     "exception": false,
     "start_time": "2021-07-05T08:19:21.916492",
     "status": "completed"
    },
    "tags": []
   },
   "outputs": [
    {
     "data": {
      "text/html": [
       "<div>\n",
       "<style scoped>\n",
       "    .dataframe tbody tr th:only-of-type {\n",
       "        vertical-align: middle;\n",
       "    }\n",
       "\n",
       "    .dataframe tbody tr th {\n",
       "        vertical-align: top;\n",
       "    }\n",
       "\n",
       "    .dataframe thead th {\n",
       "        text-align: right;\n",
       "    }\n",
       "</style>\n",
       "<table border=\"1\" class=\"dataframe\">\n",
       "  <thead>\n",
       "    <tr style=\"text-align: right;\">\n",
       "      <th></th>\n",
       "      <th>PassengerId</th>\n",
       "      <th>Pclass</th>\n",
       "      <th>Name</th>\n",
       "      <th>Sex</th>\n",
       "      <th>Age</th>\n",
       "      <th>SibSp</th>\n",
       "      <th>Parch</th>\n",
       "      <th>Ticket</th>\n",
       "      <th>Fare</th>\n",
       "      <th>Cabin</th>\n",
       "      <th>Embarked</th>\n",
       "      <th>Cabin_bool</th>\n",
       "      <th>Title</th>\n",
       "    </tr>\n",
       "  </thead>\n",
       "  <tbody>\n",
       "    <tr>\n",
       "      <th>0</th>\n",
       "      <td>1</td>\n",
       "      <td>3</td>\n",
       "      <td>Braund, Mr. Owen Harris</td>\n",
       "      <td>male</td>\n",
       "      <td>22.0</td>\n",
       "      <td>1</td>\n",
       "      <td>0</td>\n",
       "      <td>A/5 21171</td>\n",
       "      <td>7.2500</td>\n",
       "      <td>NaN</td>\n",
       "      <td>S</td>\n",
       "      <td>1.0</td>\n",
       "      <td>1</td>\n",
       "    </tr>\n",
       "    <tr>\n",
       "      <th>1</th>\n",
       "      <td>2</td>\n",
       "      <td>1</td>\n",
       "      <td>Cumings, Mrs. John Bradley (Florence Briggs Th...</td>\n",
       "      <td>female</td>\n",
       "      <td>38.0</td>\n",
       "      <td>1</td>\n",
       "      <td>0</td>\n",
       "      <td>PC 17599</td>\n",
       "      <td>71.2833</td>\n",
       "      <td>C85</td>\n",
       "      <td>C</td>\n",
       "      <td>0.0</td>\n",
       "      <td>3</td>\n",
       "    </tr>\n",
       "    <tr>\n",
       "      <th>2</th>\n",
       "      <td>3</td>\n",
       "      <td>3</td>\n",
       "      <td>Heikkinen, Miss. Laina</td>\n",
       "      <td>female</td>\n",
       "      <td>26.0</td>\n",
       "      <td>0</td>\n",
       "      <td>0</td>\n",
       "      <td>STON/O2. 3101282</td>\n",
       "      <td>7.9250</td>\n",
       "      <td>NaN</td>\n",
       "      <td>S</td>\n",
       "      <td>1.0</td>\n",
       "      <td>2</td>\n",
       "    </tr>\n",
       "    <tr>\n",
       "      <th>3</th>\n",
       "      <td>4</td>\n",
       "      <td>1</td>\n",
       "      <td>Futrelle, Mrs. Jacques Heath (Lily May Peel)</td>\n",
       "      <td>female</td>\n",
       "      <td>35.0</td>\n",
       "      <td>1</td>\n",
       "      <td>0</td>\n",
       "      <td>113803</td>\n",
       "      <td>53.1000</td>\n",
       "      <td>C123</td>\n",
       "      <td>S</td>\n",
       "      <td>0.0</td>\n",
       "      <td>3</td>\n",
       "    </tr>\n",
       "    <tr>\n",
       "      <th>4</th>\n",
       "      <td>5</td>\n",
       "      <td>3</td>\n",
       "      <td>Allen, Mr. William Henry</td>\n",
       "      <td>male</td>\n",
       "      <td>35.0</td>\n",
       "      <td>0</td>\n",
       "      <td>0</td>\n",
       "      <td>373450</td>\n",
       "      <td>8.0500</td>\n",
       "      <td>NaN</td>\n",
       "      <td>S</td>\n",
       "      <td>1.0</td>\n",
       "      <td>1</td>\n",
       "    </tr>\n",
       "  </tbody>\n",
       "</table>\n",
       "</div>"
      ],
      "text/plain": [
       "   PassengerId  Pclass                                               Name  \\\n",
       "0            1       3                            Braund, Mr. Owen Harris   \n",
       "1            2       1  Cumings, Mrs. John Bradley (Florence Briggs Th...   \n",
       "2            3       3                             Heikkinen, Miss. Laina   \n",
       "3            4       1       Futrelle, Mrs. Jacques Heath (Lily May Peel)   \n",
       "4            5       3                           Allen, Mr. William Henry   \n",
       "\n",
       "      Sex   Age  SibSp  Parch            Ticket     Fare Cabin Embarked  \\\n",
       "0    male  22.0      1      0         A/5 21171   7.2500   NaN        S   \n",
       "1  female  38.0      1      0          PC 17599  71.2833   C85        C   \n",
       "2  female  26.0      0      0  STON/O2. 3101282   7.9250   NaN        S   \n",
       "3  female  35.0      1      0            113803  53.1000  C123        S   \n",
       "4    male  35.0      0      0            373450   8.0500   NaN        S   \n",
       "\n",
       "   Cabin_bool  Title  \n",
       "0         1.0      1  \n",
       "1         0.0      3  \n",
       "2         1.0      2  \n",
       "3         0.0      3  \n",
       "4         1.0      1  "
      ]
     },
     "execution_count": 31,
     "metadata": {},
     "output_type": "execute_result"
    }
   ],
   "source": [
    "all_titanic.head()"
   ]
  },
  {
   "cell_type": "code",
   "execution_count": 32,
   "id": "flexible-massachusetts",
   "metadata": {
    "execution": {
     "iopub.execute_input": "2021-07-05T08:19:22.070410Z",
     "iopub.status.busy": "2021-07-05T08:19:22.068617Z",
     "iopub.status.idle": "2021-07-05T08:19:22.097780Z",
     "shell.execute_reply": "2021-07-05T08:19:22.097291Z",
     "shell.execute_reply.started": "2021-07-05T07:59:02.054131Z"
    },
    "papermill": {
     "duration": 0.076794,
     "end_time": "2021-07-05T08:19:22.097931",
     "exception": false,
     "start_time": "2021-07-05T08:19:22.021137",
     "status": "completed"
    },
    "tags": []
   },
   "outputs": [
    {
     "data": {
      "text/html": [
       "<div>\n",
       "<style scoped>\n",
       "    .dataframe tbody tr th:only-of-type {\n",
       "        vertical-align: middle;\n",
       "    }\n",
       "\n",
       "    .dataframe tbody tr th {\n",
       "        vertical-align: top;\n",
       "    }\n",
       "\n",
       "    .dataframe thead th {\n",
       "        text-align: right;\n",
       "    }\n",
       "</style>\n",
       "<table border=\"1\" class=\"dataframe\">\n",
       "  <thead>\n",
       "    <tr style=\"text-align: right;\">\n",
       "      <th></th>\n",
       "      <th>PassengerId</th>\n",
       "      <th>Pclass</th>\n",
       "      <th>Name</th>\n",
       "      <th>Sex</th>\n",
       "      <th>Age</th>\n",
       "      <th>SibSp</th>\n",
       "      <th>Parch</th>\n",
       "      <th>Ticket</th>\n",
       "      <th>Fare</th>\n",
       "      <th>Cabin</th>\n",
       "      <th>Embarked</th>\n",
       "      <th>Cabin_bool</th>\n",
       "      <th>Title</th>\n",
       "    </tr>\n",
       "  </thead>\n",
       "  <tbody>\n",
       "    <tr>\n",
       "      <th>0</th>\n",
       "      <td>1</td>\n",
       "      <td>3</td>\n",
       "      <td>Braund, Mr. Owen Harris</td>\n",
       "      <td>male</td>\n",
       "      <td>22.000000</td>\n",
       "      <td>1</td>\n",
       "      <td>0</td>\n",
       "      <td>A/5 21171</td>\n",
       "      <td>7.2500</td>\n",
       "      <td>NaN</td>\n",
       "      <td>S</td>\n",
       "      <td>1.0</td>\n",
       "      <td>1</td>\n",
       "    </tr>\n",
       "    <tr>\n",
       "      <th>1</th>\n",
       "      <td>2</td>\n",
       "      <td>1</td>\n",
       "      <td>Cumings, Mrs. John Bradley (Florence Briggs Th...</td>\n",
       "      <td>female</td>\n",
       "      <td>38.000000</td>\n",
       "      <td>1</td>\n",
       "      <td>0</td>\n",
       "      <td>PC 17599</td>\n",
       "      <td>71.2833</td>\n",
       "      <td>C85</td>\n",
       "      <td>C</td>\n",
       "      <td>0.0</td>\n",
       "      <td>3</td>\n",
       "    </tr>\n",
       "    <tr>\n",
       "      <th>2</th>\n",
       "      <td>3</td>\n",
       "      <td>3</td>\n",
       "      <td>Heikkinen, Miss. Laina</td>\n",
       "      <td>female</td>\n",
       "      <td>26.000000</td>\n",
       "      <td>0</td>\n",
       "      <td>0</td>\n",
       "      <td>STON/O2. 3101282</td>\n",
       "      <td>7.9250</td>\n",
       "      <td>NaN</td>\n",
       "      <td>S</td>\n",
       "      <td>1.0</td>\n",
       "      <td>2</td>\n",
       "    </tr>\n",
       "    <tr>\n",
       "      <th>3</th>\n",
       "      <td>4</td>\n",
       "      <td>1</td>\n",
       "      <td>Futrelle, Mrs. Jacques Heath (Lily May Peel)</td>\n",
       "      <td>female</td>\n",
       "      <td>35.000000</td>\n",
       "      <td>1</td>\n",
       "      <td>0</td>\n",
       "      <td>113803</td>\n",
       "      <td>53.1000</td>\n",
       "      <td>C123</td>\n",
       "      <td>S</td>\n",
       "      <td>0.0</td>\n",
       "      <td>3</td>\n",
       "    </tr>\n",
       "    <tr>\n",
       "      <th>4</th>\n",
       "      <td>5</td>\n",
       "      <td>3</td>\n",
       "      <td>Allen, Mr. William Henry</td>\n",
       "      <td>male</td>\n",
       "      <td>35.000000</td>\n",
       "      <td>0</td>\n",
       "      <td>0</td>\n",
       "      <td>373450</td>\n",
       "      <td>8.0500</td>\n",
       "      <td>NaN</td>\n",
       "      <td>S</td>\n",
       "      <td>1.0</td>\n",
       "      <td>1</td>\n",
       "    </tr>\n",
       "    <tr>\n",
       "      <th>...</th>\n",
       "      <td>...</td>\n",
       "      <td>...</td>\n",
       "      <td>...</td>\n",
       "      <td>...</td>\n",
       "      <td>...</td>\n",
       "      <td>...</td>\n",
       "      <td>...</td>\n",
       "      <td>...</td>\n",
       "      <td>...</td>\n",
       "      <td>...</td>\n",
       "      <td>...</td>\n",
       "      <td>...</td>\n",
       "      <td>...</td>\n",
       "    </tr>\n",
       "    <tr>\n",
       "      <th>413</th>\n",
       "      <td>1305</td>\n",
       "      <td>3</td>\n",
       "      <td>Spector, Mr. Woolf</td>\n",
       "      <td>male</td>\n",
       "      <td>29.881138</td>\n",
       "      <td>0</td>\n",
       "      <td>0</td>\n",
       "      <td>A.5. 3236</td>\n",
       "      <td>8.0500</td>\n",
       "      <td>NaN</td>\n",
       "      <td>S</td>\n",
       "      <td>1.0</td>\n",
       "      <td>1</td>\n",
       "    </tr>\n",
       "    <tr>\n",
       "      <th>414</th>\n",
       "      <td>1306</td>\n",
       "      <td>1</td>\n",
       "      <td>Oliva y Ocana, Dona. Fermina</td>\n",
       "      <td>female</td>\n",
       "      <td>39.000000</td>\n",
       "      <td>0</td>\n",
       "      <td>0</td>\n",
       "      <td>PC 17758</td>\n",
       "      <td>108.9000</td>\n",
       "      <td>C105</td>\n",
       "      <td>C</td>\n",
       "      <td>0.0</td>\n",
       "      <td>5</td>\n",
       "    </tr>\n",
       "    <tr>\n",
       "      <th>415</th>\n",
       "      <td>1307</td>\n",
       "      <td>3</td>\n",
       "      <td>Saether, Mr. Simon Sivertsen</td>\n",
       "      <td>male</td>\n",
       "      <td>38.500000</td>\n",
       "      <td>0</td>\n",
       "      <td>0</td>\n",
       "      <td>SOTON/O.Q. 3101262</td>\n",
       "      <td>7.2500</td>\n",
       "      <td>NaN</td>\n",
       "      <td>S</td>\n",
       "      <td>1.0</td>\n",
       "      <td>1</td>\n",
       "    </tr>\n",
       "    <tr>\n",
       "      <th>416</th>\n",
       "      <td>1308</td>\n",
       "      <td>3</td>\n",
       "      <td>Ware, Mr. Frederick</td>\n",
       "      <td>male</td>\n",
       "      <td>29.881138</td>\n",
       "      <td>0</td>\n",
       "      <td>0</td>\n",
       "      <td>359309</td>\n",
       "      <td>8.0500</td>\n",
       "      <td>NaN</td>\n",
       "      <td>S</td>\n",
       "      <td>1.0</td>\n",
       "      <td>1</td>\n",
       "    </tr>\n",
       "    <tr>\n",
       "      <th>417</th>\n",
       "      <td>1309</td>\n",
       "      <td>3</td>\n",
       "      <td>Peter, Master. Michael J</td>\n",
       "      <td>male</td>\n",
       "      <td>29.881138</td>\n",
       "      <td>1</td>\n",
       "      <td>1</td>\n",
       "      <td>2668</td>\n",
       "      <td>22.3583</td>\n",
       "      <td>NaN</td>\n",
       "      <td>C</td>\n",
       "      <td>1.0</td>\n",
       "      <td>4</td>\n",
       "    </tr>\n",
       "  </tbody>\n",
       "</table>\n",
       "<p>1309 rows × 13 columns</p>\n",
       "</div>"
      ],
      "text/plain": [
       "     PassengerId  Pclass                                               Name  \\\n",
       "0              1       3                            Braund, Mr. Owen Harris   \n",
       "1              2       1  Cumings, Mrs. John Bradley (Florence Briggs Th...   \n",
       "2              3       3                             Heikkinen, Miss. Laina   \n",
       "3              4       1       Futrelle, Mrs. Jacques Heath (Lily May Peel)   \n",
       "4              5       3                           Allen, Mr. William Henry   \n",
       "..           ...     ...                                                ...   \n",
       "413         1305       3                                 Spector, Mr. Woolf   \n",
       "414         1306       1                       Oliva y Ocana, Dona. Fermina   \n",
       "415         1307       3                       Saether, Mr. Simon Sivertsen   \n",
       "416         1308       3                                Ware, Mr. Frederick   \n",
       "417         1309       3                           Peter, Master. Michael J   \n",
       "\n",
       "        Sex        Age  SibSp  Parch              Ticket      Fare Cabin  \\\n",
       "0      male  22.000000      1      0           A/5 21171    7.2500   NaN   \n",
       "1    female  38.000000      1      0            PC 17599   71.2833   C85   \n",
       "2    female  26.000000      0      0    STON/O2. 3101282    7.9250   NaN   \n",
       "3    female  35.000000      1      0              113803   53.1000  C123   \n",
       "4      male  35.000000      0      0              373450    8.0500   NaN   \n",
       "..      ...        ...    ...    ...                 ...       ...   ...   \n",
       "413    male  29.881138      0      0           A.5. 3236    8.0500   NaN   \n",
       "414  female  39.000000      0      0            PC 17758  108.9000  C105   \n",
       "415    male  38.500000      0      0  SOTON/O.Q. 3101262    7.2500   NaN   \n",
       "416    male  29.881138      0      0              359309    8.0500   NaN   \n",
       "417    male  29.881138      1      1                2668   22.3583   NaN   \n",
       "\n",
       "    Embarked  Cabin_bool  Title  \n",
       "0          S         1.0      1  \n",
       "1          C         0.0      3  \n",
       "2          S         1.0      2  \n",
       "3          S         0.0      3  \n",
       "4          S         1.0      1  \n",
       "..       ...         ...    ...  \n",
       "413        S         1.0      1  \n",
       "414        C         0.0      5  \n",
       "415        S         1.0      1  \n",
       "416        S         1.0      1  \n",
       "417        C         1.0      4  \n",
       "\n",
       "[1309 rows x 13 columns]"
      ]
     },
     "execution_count": 32,
     "metadata": {},
     "output_type": "execute_result"
    }
   ],
   "source": [
    "#Age 결측치 처리 먼저 해주기\n",
    "all_titanic['Age'] = all_titanic['Age'].fillna(all_titanic['Age'].mean())\n",
    "all_titanic"
   ]
  },
  {
   "cell_type": "code",
   "execution_count": 33,
   "id": "seventh-grocery",
   "metadata": {
    "execution": {
     "iopub.execute_input": "2021-07-05T08:19:22.189505Z",
     "iopub.status.busy": "2021-07-05T08:19:22.188656Z",
     "iopub.status.idle": "2021-07-05T08:19:22.230475Z",
     "shell.execute_reply": "2021-07-05T08:19:22.229967Z",
     "shell.execute_reply.started": "2021-07-05T07:59:06.572229Z"
    },
    "papermill": {
     "duration": 0.089399,
     "end_time": "2021-07-05T08:19:22.230601",
     "exception": false,
     "start_time": "2021-07-05T08:19:22.141202",
     "status": "completed"
    },
    "tags": []
   },
   "outputs": [
    {
     "data": {
      "text/html": [
       "<div>\n",
       "<style scoped>\n",
       "    .dataframe tbody tr th:only-of-type {\n",
       "        vertical-align: middle;\n",
       "    }\n",
       "\n",
       "    .dataframe tbody tr th {\n",
       "        vertical-align: top;\n",
       "    }\n",
       "\n",
       "    .dataframe thead th {\n",
       "        text-align: right;\n",
       "    }\n",
       "</style>\n",
       "<table border=\"1\" class=\"dataframe\">\n",
       "  <thead>\n",
       "    <tr style=\"text-align: right;\">\n",
       "      <th></th>\n",
       "      <th>PassengerId</th>\n",
       "      <th>Pclass</th>\n",
       "      <th>Name</th>\n",
       "      <th>Sex</th>\n",
       "      <th>Age</th>\n",
       "      <th>SibSp</th>\n",
       "      <th>Parch</th>\n",
       "      <th>Ticket</th>\n",
       "      <th>Fare</th>\n",
       "      <th>Cabin</th>\n",
       "      <th>Embarked</th>\n",
       "      <th>Cabin_bool</th>\n",
       "      <th>Title</th>\n",
       "      <th>qcut_Age</th>\n",
       "    </tr>\n",
       "  </thead>\n",
       "  <tbody>\n",
       "    <tr>\n",
       "      <th>0</th>\n",
       "      <td>1</td>\n",
       "      <td>3</td>\n",
       "      <td>Braund, Mr. Owen Harris</td>\n",
       "      <td>male</td>\n",
       "      <td>22.000000</td>\n",
       "      <td>1</td>\n",
       "      <td>0</td>\n",
       "      <td>A/5 21171</td>\n",
       "      <td>7.2500</td>\n",
       "      <td>NaN</td>\n",
       "      <td>S</td>\n",
       "      <td>1.0</td>\n",
       "      <td>1</td>\n",
       "      <td>1</td>\n",
       "    </tr>\n",
       "    <tr>\n",
       "      <th>1</th>\n",
       "      <td>2</td>\n",
       "      <td>1</td>\n",
       "      <td>Cumings, Mrs. John Bradley (Florence Briggs Th...</td>\n",
       "      <td>female</td>\n",
       "      <td>38.000000</td>\n",
       "      <td>1</td>\n",
       "      <td>0</td>\n",
       "      <td>PC 17599</td>\n",
       "      <td>71.2833</td>\n",
       "      <td>C85</td>\n",
       "      <td>C</td>\n",
       "      <td>0.0</td>\n",
       "      <td>3</td>\n",
       "      <td>3</td>\n",
       "    </tr>\n",
       "    <tr>\n",
       "      <th>2</th>\n",
       "      <td>3</td>\n",
       "      <td>3</td>\n",
       "      <td>Heikkinen, Miss. Laina</td>\n",
       "      <td>female</td>\n",
       "      <td>26.000000</td>\n",
       "      <td>0</td>\n",
       "      <td>0</td>\n",
       "      <td>STON/O2. 3101282</td>\n",
       "      <td>7.9250</td>\n",
       "      <td>NaN</td>\n",
       "      <td>S</td>\n",
       "      <td>1.0</td>\n",
       "      <td>2</td>\n",
       "      <td>1</td>\n",
       "    </tr>\n",
       "    <tr>\n",
       "      <th>3</th>\n",
       "      <td>4</td>\n",
       "      <td>1</td>\n",
       "      <td>Futrelle, Mrs. Jacques Heath (Lily May Peel)</td>\n",
       "      <td>female</td>\n",
       "      <td>35.000000</td>\n",
       "      <td>1</td>\n",
       "      <td>0</td>\n",
       "      <td>113803</td>\n",
       "      <td>53.1000</td>\n",
       "      <td>C123</td>\n",
       "      <td>S</td>\n",
       "      <td>0.0</td>\n",
       "      <td>3</td>\n",
       "      <td>3</td>\n",
       "    </tr>\n",
       "    <tr>\n",
       "      <th>4</th>\n",
       "      <td>5</td>\n",
       "      <td>3</td>\n",
       "      <td>Allen, Mr. William Henry</td>\n",
       "      <td>male</td>\n",
       "      <td>35.000000</td>\n",
       "      <td>0</td>\n",
       "      <td>0</td>\n",
       "      <td>373450</td>\n",
       "      <td>8.0500</td>\n",
       "      <td>NaN</td>\n",
       "      <td>S</td>\n",
       "      <td>1.0</td>\n",
       "      <td>1</td>\n",
       "      <td>3</td>\n",
       "    </tr>\n",
       "    <tr>\n",
       "      <th>...</th>\n",
       "      <td>...</td>\n",
       "      <td>...</td>\n",
       "      <td>...</td>\n",
       "      <td>...</td>\n",
       "      <td>...</td>\n",
       "      <td>...</td>\n",
       "      <td>...</td>\n",
       "      <td>...</td>\n",
       "      <td>...</td>\n",
       "      <td>...</td>\n",
       "      <td>...</td>\n",
       "      <td>...</td>\n",
       "      <td>...</td>\n",
       "      <td>...</td>\n",
       "    </tr>\n",
       "    <tr>\n",
       "      <th>413</th>\n",
       "      <td>1305</td>\n",
       "      <td>3</td>\n",
       "      <td>Spector, Mr. Woolf</td>\n",
       "      <td>male</td>\n",
       "      <td>29.881138</td>\n",
       "      <td>0</td>\n",
       "      <td>0</td>\n",
       "      <td>A.5. 3236</td>\n",
       "      <td>8.0500</td>\n",
       "      <td>NaN</td>\n",
       "      <td>S</td>\n",
       "      <td>1.0</td>\n",
       "      <td>1</td>\n",
       "      <td>2</td>\n",
       "    </tr>\n",
       "    <tr>\n",
       "      <th>414</th>\n",
       "      <td>1306</td>\n",
       "      <td>1</td>\n",
       "      <td>Oliva y Ocana, Dona. Fermina</td>\n",
       "      <td>female</td>\n",
       "      <td>39.000000</td>\n",
       "      <td>0</td>\n",
       "      <td>0</td>\n",
       "      <td>PC 17758</td>\n",
       "      <td>108.9000</td>\n",
       "      <td>C105</td>\n",
       "      <td>C</td>\n",
       "      <td>0.0</td>\n",
       "      <td>5</td>\n",
       "      <td>3</td>\n",
       "    </tr>\n",
       "    <tr>\n",
       "      <th>415</th>\n",
       "      <td>1307</td>\n",
       "      <td>3</td>\n",
       "      <td>Saether, Mr. Simon Sivertsen</td>\n",
       "      <td>male</td>\n",
       "      <td>38.500000</td>\n",
       "      <td>0</td>\n",
       "      <td>0</td>\n",
       "      <td>SOTON/O.Q. 3101262</td>\n",
       "      <td>7.2500</td>\n",
       "      <td>NaN</td>\n",
       "      <td>S</td>\n",
       "      <td>1.0</td>\n",
       "      <td>1</td>\n",
       "      <td>3</td>\n",
       "    </tr>\n",
       "    <tr>\n",
       "      <th>416</th>\n",
       "      <td>1308</td>\n",
       "      <td>3</td>\n",
       "      <td>Ware, Mr. Frederick</td>\n",
       "      <td>male</td>\n",
       "      <td>29.881138</td>\n",
       "      <td>0</td>\n",
       "      <td>0</td>\n",
       "      <td>359309</td>\n",
       "      <td>8.0500</td>\n",
       "      <td>NaN</td>\n",
       "      <td>S</td>\n",
       "      <td>1.0</td>\n",
       "      <td>1</td>\n",
       "      <td>2</td>\n",
       "    </tr>\n",
       "    <tr>\n",
       "      <th>417</th>\n",
       "      <td>1309</td>\n",
       "      <td>3</td>\n",
       "      <td>Peter, Master. Michael J</td>\n",
       "      <td>male</td>\n",
       "      <td>29.881138</td>\n",
       "      <td>1</td>\n",
       "      <td>1</td>\n",
       "      <td>2668</td>\n",
       "      <td>22.3583</td>\n",
       "      <td>NaN</td>\n",
       "      <td>C</td>\n",
       "      <td>1.0</td>\n",
       "      <td>4</td>\n",
       "      <td>2</td>\n",
       "    </tr>\n",
       "  </tbody>\n",
       "</table>\n",
       "<p>1309 rows × 14 columns</p>\n",
       "</div>"
      ],
      "text/plain": [
       "     PassengerId  Pclass                                               Name  \\\n",
       "0              1       3                            Braund, Mr. Owen Harris   \n",
       "1              2       1  Cumings, Mrs. John Bradley (Florence Briggs Th...   \n",
       "2              3       3                             Heikkinen, Miss. Laina   \n",
       "3              4       1       Futrelle, Mrs. Jacques Heath (Lily May Peel)   \n",
       "4              5       3                           Allen, Mr. William Henry   \n",
       "..           ...     ...                                                ...   \n",
       "413         1305       3                                 Spector, Mr. Woolf   \n",
       "414         1306       1                       Oliva y Ocana, Dona. Fermina   \n",
       "415         1307       3                       Saether, Mr. Simon Sivertsen   \n",
       "416         1308       3                                Ware, Mr. Frederick   \n",
       "417         1309       3                           Peter, Master. Michael J   \n",
       "\n",
       "        Sex        Age  SibSp  Parch              Ticket      Fare Cabin  \\\n",
       "0      male  22.000000      1      0           A/5 21171    7.2500   NaN   \n",
       "1    female  38.000000      1      0            PC 17599   71.2833   C85   \n",
       "2    female  26.000000      0      0    STON/O2. 3101282    7.9250   NaN   \n",
       "3    female  35.000000      1      0              113803   53.1000  C123   \n",
       "4      male  35.000000      0      0              373450    8.0500   NaN   \n",
       "..      ...        ...    ...    ...                 ...       ...   ...   \n",
       "413    male  29.881138      0      0           A.5. 3236    8.0500   NaN   \n",
       "414  female  39.000000      0      0            PC 17758  108.9000  C105   \n",
       "415    male  38.500000      0      0  SOTON/O.Q. 3101262    7.2500   NaN   \n",
       "416    male  29.881138      0      0              359309    8.0500   NaN   \n",
       "417    male  29.881138      1      1                2668   22.3583   NaN   \n",
       "\n",
       "    Embarked  Cabin_bool  Title  qcut_Age  \n",
       "0          S         1.0      1         1  \n",
       "1          C         0.0      3         3  \n",
       "2          S         1.0      2         1  \n",
       "3          S         0.0      3         3  \n",
       "4          S         1.0      1         3  \n",
       "..       ...         ...    ...       ...  \n",
       "413        S         1.0      1         2  \n",
       "414        C         0.0      5         3  \n",
       "415        S         1.0      1         3  \n",
       "416        S         1.0      1         2  \n",
       "417        C         1.0      4         2  \n",
       "\n",
       "[1309 rows x 14 columns]"
      ]
     },
     "execution_count": 33,
     "metadata": {},
     "output_type": "execute_result"
    }
   ],
   "source": [
    "# qcut(콘켓) 라는 함수를 이용해서,train과 test에서 동일하게 있는 컬럼만 가져온다.\n",
    "# 따라서 train에 있는 'Survived'가 떨어져 나가는 것임(추후에 다시 'train'에 더해줄 거다.\n",
    "# 동일한 데이터의 개수가 되도록 5개의 나이 그룹으로 만든다. \n",
    "\n",
    "all_titanic['qcut_Age'] = pd.qcut(all_titanic['Age'],5, labels=False)\n",
    "all_titanic\n"
   ]
  },
  {
   "cell_type": "code",
   "execution_count": 34,
   "id": "creative-burton",
   "metadata": {
    "execution": {
     "iopub.execute_input": "2021-07-05T08:19:22.324552Z",
     "iopub.status.busy": "2021-07-05T08:19:22.323872Z",
     "iopub.status.idle": "2021-07-05T08:19:22.327748Z",
     "shell.execute_reply": "2021-07-05T08:19:22.328461Z",
     "shell.execute_reply.started": "2021-07-05T07:59:09.657416Z"
    },
    "papermill": {
     "duration": 0.053668,
     "end_time": "2021-07-05T08:19:22.328680",
     "exception": false,
     "start_time": "2021-07-05T08:19:22.275012",
     "status": "completed"
    },
    "tags": []
   },
   "outputs": [
    {
     "name": "stdout",
     "output_type": "stream",
     "text": [
      "(891, 14) (418, 13)\n"
     ]
    },
    {
     "data": {
      "text/plain": [
       "(1309, 14)"
      ]
     },
     "execution_count": 34,
     "metadata": {},
     "output_type": "execute_result"
    }
   ],
   "source": [
    "print(train.shape, test.shape)  \n",
    "all_titanic.shape\n",
    "\n",
    "# # print를 안하고 아래 같이 쓰면, 맨 마지막 줄만 계산되어 나온다.\n",
    "# train.shape, test.shape\n",
    "# all_titanic.shape"
   ]
  },
  {
   "cell_type": "code",
   "execution_count": 35,
   "id": "shaped-participant",
   "metadata": {
    "execution": {
     "iopub.execute_input": "2021-07-05T08:19:22.423604Z",
     "iopub.status.busy": "2021-07-05T08:19:22.423071Z",
     "iopub.status.idle": "2021-07-05T08:19:22.425886Z",
     "shell.execute_reply": "2021-07-05T08:19:22.425361Z",
     "shell.execute_reply.started": "2021-07-05T07:59:36.658951Z"
    },
    "papermill": {
     "duration": 0.051696,
     "end_time": "2021-07-05T08:19:22.426003",
     "exception": false,
     "start_time": "2021-07-05T08:19:22.374307",
     "status": "completed"
    },
    "tags": []
   },
   "outputs": [],
   "source": [
    "# all_titanic을 가지고 다시 train와 test를 나눠 준다. \n",
    "train_df = all_titanic.iloc[0:891, :]\n",
    "test_df = all_titanic.iloc[891:, :]"
   ]
  },
  {
   "cell_type": "code",
   "execution_count": 36,
   "id": "floppy-flour",
   "metadata": {
    "execution": {
     "iopub.execute_input": "2021-07-05T08:19:22.518978Z",
     "iopub.status.busy": "2021-07-05T08:19:22.518032Z",
     "iopub.status.idle": "2021-07-05T08:19:22.523305Z",
     "shell.execute_reply": "2021-07-05T08:19:22.523885Z",
     "shell.execute_reply.started": "2021-07-05T07:59:38.844365Z"
    },
    "papermill": {
     "duration": 0.052954,
     "end_time": "2021-07-05T08:19:22.524034",
     "exception": false,
     "start_time": "2021-07-05T08:19:22.471080",
     "status": "completed"
    },
    "tags": []
   },
   "outputs": [
    {
     "data": {
      "text/plain": [
       "((891, 14), (418, 14))"
      ]
     },
     "execution_count": 36,
     "metadata": {},
     "output_type": "execute_result"
    }
   ],
   "source": [
    "train_df.shape, test_df.shape"
   ]
  },
  {
   "cell_type": "code",
   "execution_count": 37,
   "id": "political-ability",
   "metadata": {
    "execution": {
     "iopub.execute_input": "2021-07-05T08:19:22.618617Z",
     "iopub.status.busy": "2021-07-05T08:19:22.617647Z",
     "iopub.status.idle": "2021-07-05T08:19:22.649818Z",
     "shell.execute_reply": "2021-07-05T08:19:22.650294Z",
     "shell.execute_reply.started": "2021-07-05T07:59:41.779667Z"
    },
    "papermill": {
     "duration": 0.081741,
     "end_time": "2021-07-05T08:19:22.650454",
     "exception": false,
     "start_time": "2021-07-05T08:19:22.568713",
     "status": "completed"
    },
    "tags": []
   },
   "outputs": [
    {
     "data": {
      "text/html": [
       "<div>\n",
       "<style scoped>\n",
       "    .dataframe tbody tr th:only-of-type {\n",
       "        vertical-align: middle;\n",
       "    }\n",
       "\n",
       "    .dataframe tbody tr th {\n",
       "        vertical-align: top;\n",
       "    }\n",
       "\n",
       "    .dataframe thead th {\n",
       "        text-align: right;\n",
       "    }\n",
       "</style>\n",
       "<table border=\"1\" class=\"dataframe\">\n",
       "  <thead>\n",
       "    <tr style=\"text-align: right;\">\n",
       "      <th></th>\n",
       "      <th>PassengerId</th>\n",
       "      <th>Pclass</th>\n",
       "      <th>Name</th>\n",
       "      <th>Sex</th>\n",
       "      <th>Age</th>\n",
       "      <th>SibSp</th>\n",
       "      <th>Parch</th>\n",
       "      <th>Ticket</th>\n",
       "      <th>Fare</th>\n",
       "      <th>Cabin</th>\n",
       "      <th>Embarked</th>\n",
       "      <th>Cabin_bool</th>\n",
       "      <th>Title</th>\n",
       "      <th>qcut_Age</th>\n",
       "      <th>Survived</th>\n",
       "    </tr>\n",
       "  </thead>\n",
       "  <tbody>\n",
       "    <tr>\n",
       "      <th>0</th>\n",
       "      <td>1</td>\n",
       "      <td>3</td>\n",
       "      <td>Braund, Mr. Owen Harris</td>\n",
       "      <td>male</td>\n",
       "      <td>22.000000</td>\n",
       "      <td>1</td>\n",
       "      <td>0</td>\n",
       "      <td>A/5 21171</td>\n",
       "      <td>7.2500</td>\n",
       "      <td>NaN</td>\n",
       "      <td>S</td>\n",
       "      <td>1.0</td>\n",
       "      <td>1</td>\n",
       "      <td>1</td>\n",
       "      <td>0</td>\n",
       "    </tr>\n",
       "    <tr>\n",
       "      <th>1</th>\n",
       "      <td>2</td>\n",
       "      <td>1</td>\n",
       "      <td>Cumings, Mrs. John Bradley (Florence Briggs Th...</td>\n",
       "      <td>female</td>\n",
       "      <td>38.000000</td>\n",
       "      <td>1</td>\n",
       "      <td>0</td>\n",
       "      <td>PC 17599</td>\n",
       "      <td>71.2833</td>\n",
       "      <td>C85</td>\n",
       "      <td>C</td>\n",
       "      <td>0.0</td>\n",
       "      <td>3</td>\n",
       "      <td>3</td>\n",
       "      <td>1</td>\n",
       "    </tr>\n",
       "    <tr>\n",
       "      <th>2</th>\n",
       "      <td>3</td>\n",
       "      <td>3</td>\n",
       "      <td>Heikkinen, Miss. Laina</td>\n",
       "      <td>female</td>\n",
       "      <td>26.000000</td>\n",
       "      <td>0</td>\n",
       "      <td>0</td>\n",
       "      <td>STON/O2. 3101282</td>\n",
       "      <td>7.9250</td>\n",
       "      <td>NaN</td>\n",
       "      <td>S</td>\n",
       "      <td>1.0</td>\n",
       "      <td>2</td>\n",
       "      <td>1</td>\n",
       "      <td>1</td>\n",
       "    </tr>\n",
       "    <tr>\n",
       "      <th>3</th>\n",
       "      <td>4</td>\n",
       "      <td>1</td>\n",
       "      <td>Futrelle, Mrs. Jacques Heath (Lily May Peel)</td>\n",
       "      <td>female</td>\n",
       "      <td>35.000000</td>\n",
       "      <td>1</td>\n",
       "      <td>0</td>\n",
       "      <td>113803</td>\n",
       "      <td>53.1000</td>\n",
       "      <td>C123</td>\n",
       "      <td>S</td>\n",
       "      <td>0.0</td>\n",
       "      <td>3</td>\n",
       "      <td>3</td>\n",
       "      <td>1</td>\n",
       "    </tr>\n",
       "    <tr>\n",
       "      <th>4</th>\n",
       "      <td>5</td>\n",
       "      <td>3</td>\n",
       "      <td>Allen, Mr. William Henry</td>\n",
       "      <td>male</td>\n",
       "      <td>35.000000</td>\n",
       "      <td>0</td>\n",
       "      <td>0</td>\n",
       "      <td>373450</td>\n",
       "      <td>8.0500</td>\n",
       "      <td>NaN</td>\n",
       "      <td>S</td>\n",
       "      <td>1.0</td>\n",
       "      <td>1</td>\n",
       "      <td>3</td>\n",
       "      <td>0</td>\n",
       "    </tr>\n",
       "    <tr>\n",
       "      <th>...</th>\n",
       "      <td>...</td>\n",
       "      <td>...</td>\n",
       "      <td>...</td>\n",
       "      <td>...</td>\n",
       "      <td>...</td>\n",
       "      <td>...</td>\n",
       "      <td>...</td>\n",
       "      <td>...</td>\n",
       "      <td>...</td>\n",
       "      <td>...</td>\n",
       "      <td>...</td>\n",
       "      <td>...</td>\n",
       "      <td>...</td>\n",
       "      <td>...</td>\n",
       "      <td>...</td>\n",
       "    </tr>\n",
       "    <tr>\n",
       "      <th>886</th>\n",
       "      <td>887</td>\n",
       "      <td>2</td>\n",
       "      <td>Montvila, Rev. Juozas</td>\n",
       "      <td>male</td>\n",
       "      <td>27.000000</td>\n",
       "      <td>0</td>\n",
       "      <td>0</td>\n",
       "      <td>211536</td>\n",
       "      <td>13.0000</td>\n",
       "      <td>NaN</td>\n",
       "      <td>S</td>\n",
       "      <td>1.0</td>\n",
       "      <td>5</td>\n",
       "      <td>1</td>\n",
       "      <td>0</td>\n",
       "    </tr>\n",
       "    <tr>\n",
       "      <th>887</th>\n",
       "      <td>888</td>\n",
       "      <td>1</td>\n",
       "      <td>Graham, Miss. Margaret Edith</td>\n",
       "      <td>female</td>\n",
       "      <td>19.000000</td>\n",
       "      <td>0</td>\n",
       "      <td>0</td>\n",
       "      <td>112053</td>\n",
       "      <td>30.0000</td>\n",
       "      <td>B42</td>\n",
       "      <td>S</td>\n",
       "      <td>0.0</td>\n",
       "      <td>2</td>\n",
       "      <td>0</td>\n",
       "      <td>1</td>\n",
       "    </tr>\n",
       "    <tr>\n",
       "      <th>888</th>\n",
       "      <td>889</td>\n",
       "      <td>3</td>\n",
       "      <td>Johnston, Miss. Catherine Helen \"Carrie\"</td>\n",
       "      <td>female</td>\n",
       "      <td>29.881138</td>\n",
       "      <td>1</td>\n",
       "      <td>2</td>\n",
       "      <td>W./C. 6607</td>\n",
       "      <td>23.4500</td>\n",
       "      <td>NaN</td>\n",
       "      <td>S</td>\n",
       "      <td>1.0</td>\n",
       "      <td>2</td>\n",
       "      <td>2</td>\n",
       "      <td>0</td>\n",
       "    </tr>\n",
       "    <tr>\n",
       "      <th>889</th>\n",
       "      <td>890</td>\n",
       "      <td>1</td>\n",
       "      <td>Behr, Mr. Karl Howell</td>\n",
       "      <td>male</td>\n",
       "      <td>26.000000</td>\n",
       "      <td>0</td>\n",
       "      <td>0</td>\n",
       "      <td>111369</td>\n",
       "      <td>30.0000</td>\n",
       "      <td>C148</td>\n",
       "      <td>C</td>\n",
       "      <td>0.0</td>\n",
       "      <td>1</td>\n",
       "      <td>1</td>\n",
       "      <td>1</td>\n",
       "    </tr>\n",
       "    <tr>\n",
       "      <th>890</th>\n",
       "      <td>891</td>\n",
       "      <td>3</td>\n",
       "      <td>Dooley, Mr. Patrick</td>\n",
       "      <td>male</td>\n",
       "      <td>32.000000</td>\n",
       "      <td>0</td>\n",
       "      <td>0</td>\n",
       "      <td>370376</td>\n",
       "      <td>7.7500</td>\n",
       "      <td>NaN</td>\n",
       "      <td>Q</td>\n",
       "      <td>1.0</td>\n",
       "      <td>1</td>\n",
       "      <td>3</td>\n",
       "      <td>0</td>\n",
       "    </tr>\n",
       "  </tbody>\n",
       "</table>\n",
       "<p>891 rows × 15 columns</p>\n",
       "</div>"
      ],
      "text/plain": [
       "     PassengerId  Pclass                                               Name  \\\n",
       "0              1       3                            Braund, Mr. Owen Harris   \n",
       "1              2       1  Cumings, Mrs. John Bradley (Florence Briggs Th...   \n",
       "2              3       3                             Heikkinen, Miss. Laina   \n",
       "3              4       1       Futrelle, Mrs. Jacques Heath (Lily May Peel)   \n",
       "4              5       3                           Allen, Mr. William Henry   \n",
       "..           ...     ...                                                ...   \n",
       "886          887       2                              Montvila, Rev. Juozas   \n",
       "887          888       1                       Graham, Miss. Margaret Edith   \n",
       "888          889       3           Johnston, Miss. Catherine Helen \"Carrie\"   \n",
       "889          890       1                              Behr, Mr. Karl Howell   \n",
       "890          891       3                                Dooley, Mr. Patrick   \n",
       "\n",
       "        Sex        Age  SibSp  Parch            Ticket     Fare Cabin  \\\n",
       "0      male  22.000000      1      0         A/5 21171   7.2500   NaN   \n",
       "1    female  38.000000      1      0          PC 17599  71.2833   C85   \n",
       "2    female  26.000000      0      0  STON/O2. 3101282   7.9250   NaN   \n",
       "3    female  35.000000      1      0            113803  53.1000  C123   \n",
       "4      male  35.000000      0      0            373450   8.0500   NaN   \n",
       "..      ...        ...    ...    ...               ...      ...   ...   \n",
       "886    male  27.000000      0      0            211536  13.0000   NaN   \n",
       "887  female  19.000000      0      0            112053  30.0000   B42   \n",
       "888  female  29.881138      1      2        W./C. 6607  23.4500   NaN   \n",
       "889    male  26.000000      0      0            111369  30.0000  C148   \n",
       "890    male  32.000000      0      0            370376   7.7500   NaN   \n",
       "\n",
       "    Embarked  Cabin_bool  Title  qcut_Age  Survived  \n",
       "0          S         1.0      1         1         0  \n",
       "1          C         0.0      3         3         1  \n",
       "2          S         1.0      2         1         1  \n",
       "3          S         0.0      3         3         1  \n",
       "4          S         1.0      1         3         0  \n",
       "..       ...         ...    ...       ...       ...  \n",
       "886        S         1.0      5         1         0  \n",
       "887        S         0.0      2         0         1  \n",
       "888        S         1.0      2         2         0  \n",
       "889        C         0.0      1         1         1  \n",
       "890        Q         1.0      1         3         0  \n",
       "\n",
       "[891 rows x 15 columns]"
      ]
     },
     "execution_count": 37,
     "metadata": {},
     "output_type": "execute_result"
    }
   ],
   "source": [
    "train_df = pd.concat([train_df, train['Survived']],axis=1 )  # 원래 trian에 있었던 'Survived'를 다시 train에 다시 붙여준다. \n",
    "train_df"
   ]
  },
  {
   "cell_type": "code",
   "execution_count": 38,
   "id": "compliant-advancement",
   "metadata": {
    "execution": {
     "iopub.execute_input": "2021-07-05T08:19:22.745569Z",
     "iopub.status.busy": "2021-07-05T08:19:22.744653Z",
     "iopub.status.idle": "2021-07-05T08:19:23.137925Z",
     "shell.execute_reply": "2021-07-05T08:19:23.137255Z",
     "shell.execute_reply.started": "2021-07-05T07:59:44.963344Z"
    },
    "papermill": {
     "duration": 0.441771,
     "end_time": "2021-07-05T08:19:23.138050",
     "exception": false,
     "start_time": "2021-07-05T08:19:22.696279",
     "status": "completed"
    },
    "tags": []
   },
   "outputs": [],
   "source": [
    "# [코드1~3] 은 결측치 다 처리 된 맨 마지막에 모델 만들기 전에 해준다.\n",
    "# [코드1]\n",
    "#결측치 처리 된것만 여기에 쓰기 \n",
    "sel = ['Pclass', 'SibSp', 'Parch', 'Cabin_bool', 'Title', 'Age']\n",
    "X_train = train_df[sel]   # 우리가 방금 위에서 train_df 변수를 새로 만들었으니까, train 변수가 아니라, train_df로 해야함. \n",
    "X_test = test_df[sel]     # 우리가 방금 위에서 test_df 변수를 새로 만들었으니까, test 변수가 아니라, test_df로 해야함. \n",
    "y_train = train_df['Survived']\n",
    "\n",
    "from sklearn.tree import DecisionTreeClassifier\n",
    "decisiontree = DecisionTreeClassifier()\n",
    "decisiontree.fit(X_train, y_train)\n",
    "# 예측\n",
    "pred = decisiontree.predict(X_test)\n",
    "# pred[:15]"
   ]
  },
  {
   "cell_type": "code",
   "execution_count": 39,
   "id": "beginning-wesley",
   "metadata": {
    "execution": {
     "iopub.execute_input": "2021-07-05T08:19:23.232991Z",
     "iopub.status.busy": "2021-07-05T08:19:23.232239Z",
     "iopub.status.idle": "2021-07-05T08:19:23.238624Z",
     "shell.execute_reply": "2021-07-05T08:19:23.238142Z",
     "shell.execute_reply.started": "2021-07-05T07:59:51.461083Z"
    },
    "papermill": {
     "duration": 0.055909,
     "end_time": "2021-07-05T08:19:23.238767",
     "exception": false,
     "start_time": "2021-07-05T08:19:23.182858",
     "status": "completed"
    },
    "tags": []
   },
   "outputs": [
    {
     "data": {
      "text/plain": [
       "Index(['PassengerId', 'Survived'], dtype='object')"
      ]
     },
     "execution_count": 39,
     "metadata": {},
     "output_type": "execute_result"
    }
   ],
   "source": [
    "#[코드2]\n",
    "sub.columns"
   ]
  },
  {
   "cell_type": "code",
   "execution_count": 40,
   "id": "pressing-regular",
   "metadata": {
    "execution": {
     "iopub.execute_input": "2021-07-05T08:19:23.336347Z",
     "iopub.status.busy": "2021-07-05T08:19:23.335365Z",
     "iopub.status.idle": "2021-07-05T08:19:23.342283Z",
     "shell.execute_reply": "2021-07-05T08:19:23.341777Z",
     "shell.execute_reply.started": "2021-07-05T07:59:53.46724Z"
    },
    "papermill": {
     "duration": 0.057576,
     "end_time": "2021-07-05T08:19:23.342406",
     "exception": false,
     "start_time": "2021-07-05T08:19:23.284830",
     "status": "completed"
    },
    "tags": []
   },
   "outputs": [],
   "source": [
    "#[코드3]\n",
    "sub['Survived'] = pred\n",
    "sub.to_csv(\"dt.csv\", index=False)  # index=False행에 인덱스를 넣지 않겠다. "
   ]
  },
  {
   "cell_type": "code",
   "execution_count": 41,
   "id": "gentle-poison",
   "metadata": {
    "execution": {
     "iopub.execute_input": "2021-07-05T08:19:23.438069Z",
     "iopub.status.busy": "2021-07-05T08:19:23.437183Z",
     "iopub.status.idle": "2021-07-05T08:19:23.440318Z",
     "shell.execute_reply": "2021-07-05T08:19:23.439671Z",
     "shell.execute_reply.started": "2021-07-05T07:59:59.783304Z"
    },
    "papermill": {
     "duration": 0.052329,
     "end_time": "2021-07-05T08:19:23.440439",
     "exception": false,
     "start_time": "2021-07-05T08:19:23.388110",
     "status": "completed"
    },
    "tags": []
   },
   "outputs": [],
   "source": [
    "# test_passengerId = test['PassengerId']\n",
    "# pred = pred.astype(int)\n",
    "# df_pred = pd.DataFrame({'PassengerID':test_passengerId, 'Survived':pred})\n",
    "# df_pred.to_csv(\"decision_first_model.csv\", index=False)"
   ]
  },
  {
   "cell_type": "code",
   "execution_count": null,
   "id": "respective-happening",
   "metadata": {
    "papermill": {
     "duration": 0.045671,
     "end_time": "2021-07-05T08:19:23.532486",
     "exception": false,
     "start_time": "2021-07-05T08:19:23.486815",
     "status": "completed"
    },
    "tags": []
   },
   "outputs": [],
   "source": []
  }
 ],
 "metadata": {
  "kernelspec": {
   "display_name": "Python 3",
   "language": "python",
   "name": "python3"
  },
  "language_info": {
   "codemirror_mode": {
    "name": "ipython",
    "version": 3
   },
   "file_extension": ".py",
   "mimetype": "text/x-python",
   "name": "python",
   "nbconvert_exporter": "python",
   "pygments_lexer": "ipython3",
   "version": "3.7.10"
  },
  "papermill": {
   "default_parameters": {},
   "duration": 14.886591,
   "end_time": "2021-07-05T08:19:25.049660",
   "environment_variables": {},
   "exception": null,
   "input_path": "__notebook__.ipynb",
   "output_path": "__notebook__.ipynb",
   "parameters": {},
   "start_time": "2021-07-05T08:19:10.163069",
   "version": "2.3.3"
  }
 },
 "nbformat": 4,
 "nbformat_minor": 5
}
