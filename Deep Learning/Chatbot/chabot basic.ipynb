{
 "cells": [
  {
   "cell_type": "code",
   "execution_count": null,
   "metadata": {},
   "outputs": [],
   "source": [
    "def chat():\n",
    "    print('start chatbot')\n",
    "    while True:\n",
    "        inp = input(\"user :\")\n",
    "\n",
    "        if inp == \"종료\":\n",
    "            print('챗봇 서비스를 종료합니다.')\n",
    "            break\n",
    "\n",
    "        data = [\"안녕하세요\",\"안녕\",\"하이\"]\n",
    "        if inp in data: # 입력 받은 문자가 data 리스트 안에 있으면 수행\n",
    "            print(\"무엇을 도와드릴까요?\")\n",
    "        else:\n",
    "            print('다시한번 말씀해 주시겠습니까?')\n",
    "\n",
    "chat()"
   ]
  },
  {
   "cell_type": "code",
   "execution_count": null,
   "metadata": {},
   "outputs": [],
   "source": []
  },
  {
   "cell_type": "code",
   "execution_count": null,
   "metadata": {},
   "outputs": [],
   "source": []
  }
 ],
 "metadata": {
  "kernelspec": {
   "display_name": "Python 3",
   "language": "python",
   "name": "python3"
  },
  "language_info": {
   "codemirror_mode": {
    "name": "ipython",
    "version": 3
   },
   "file_extension": ".py",
   "mimetype": "text/x-python",
   "name": "python",
   "nbconvert_exporter": "python",
   "pygments_lexer": "ipython3",
   "version": "3.8.5"
  }
 },
 "nbformat": 4,
 "nbformat_minor": 4
}
