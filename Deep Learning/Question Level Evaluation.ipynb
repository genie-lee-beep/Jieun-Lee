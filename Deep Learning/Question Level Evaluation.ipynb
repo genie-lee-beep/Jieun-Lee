{
 "cells": [
  {
   "cell_type": "code",
   "execution_count": 1,
   "metadata": {},
   "outputs": [],
   "source": [
    "#Need this for language determination \n",
    "import sys"
   ]
  },
  {
   "cell_type": "code",
   "execution_count": 2,
   "metadata": {},
   "outputs": [],
   "source": [
    "#Need this for reading csv file\n",
    "import csv"
   ]
  },
  {
   "cell_type": "code",
   "execution_count": 3,
   "metadata": {},
   "outputs": [],
   "source": [
    "#Need this for converting all texts into lowercase\n",
    "import re"
   ]
  },
  {
   "cell_type": "code",
   "execution_count": 4,
   "metadata": {},
   "outputs": [],
   "source": [
    "#Need this for tokenization\n",
    "from nltk import wordpunct_tokenize\n",
    "from nltk.corpus import stopwords\n",
    "import nltk"
   ]
  },
  {
   "cell_type": "code",
   "execution_count": 5,
   "metadata": {},
   "outputs": [],
   "source": [
    "\n",
    "#settings\n",
    "filepath = 'result3.csv'\n",
    "#filepath = 'good_test.csv'\n",
    "resultpath = 'output4.csv'\n",
    "resultfile = open(resultpath, 'xt')\n"
   ]
  },
  {
   "cell_type": "code",
   "execution_count": 11,
   "metadata": {},
   "outputs": [],
   "source": [
    "def contains_word(s, w1):\n",
    "   #return (' ' + w1 + ' ') in (' ' + s + ' ')\n",
    "   return (w1 + ' ') in (' ' + s + ' ')"
   ]
  },
  {
   "cell_type": "code",
   "execution_count": 13,
   "metadata": {},
   "outputs": [],
   "source": [
    "def determine_question():\n",
    "    stringline=line.replace(\"\\r\",\"\")\n",
    "    stringline=stringline.replace(\"\\n\",\"\")"
   ]
  },
  {
   "cell_type": "code",
   "execution_count": 8,
   "metadata": {},
   "outputs": [
    {
     "ename": "IndentationError",
     "evalue": "unexpected indent (<ipython-input-8-7f2aa3ac0312>, line 2)",
     "output_type": "error",
     "traceback": [
      "\u001b[1;36m  File \u001b[1;32m\"<ipython-input-8-7f2aa3ac0312>\"\u001b[1;36m, line \u001b[1;32m2\u001b[0m\n\u001b[1;33m    if contains_word(stringline.lower(), 'what'):\u001b[0m\n\u001b[1;37m    ^\u001b[0m\n\u001b[1;31mIndentationError\u001b[0m\u001b[1;31m:\u001b[0m unexpected indent\n"
     ]
    }
   ],
   "source": [
    "#Determining LEVEL 5 QUESTIONS                    \n",
    "       if contains_word(stringline.lower(), 'what'):\n",
    "            if contains_word(stringline.lower(), 'if'):\n",
    "                resultfile.write(stringline + ' - Level 5' + \"\\n\")      \n",
    "                return None               \n",
    "       if contains_word(stringline.lower(), 'how') is not (contains_word(stringline.lower(), 'how many') or contains_word(stringline.lower(), 'how old') or contains_word(stringline.lower(), 'how long')):\n",
    "            if contains_word(stringline.lower(), 'do') or contains_word(stringline.lower(), 'does') or contains_word(stringline.lower(), 'did') or contains_word(stringline.lower(), 'is') or contains_word(stringline.lower(), 'was') or contains_word(stringline.lower(), 'were') or contains_word(stringline.lower(), 'are') or contains_word(stringline.lower(), 'can') or contains_word(stringline.lower(), 'could') or contains_word(stringline.lower(), 'would') or contains_word(stringline.lower(), 'will') or contains_word(stringline.lower(), 'might') or contains_word(stringline.lower(), 'may') or contains_word(stringline.lower(), 'should') or contains_word(stringline.lower(), 'shall') or contains_word(stringline.lower(), 'has') or contains_word(stringline.lower(), ' have'):\n",
    "                resultfile.write(stringline + ' - Level 5' + \"\\n\")  \n",
    "                return None\n",
    "       if contains_word(stringline.lower(), 'why'):\n",
    "            if contains_word(stringline.lower(), 'do') or contains_word(stringline.lower(), 'does') or contains_word(stringline.lower(), 'did') or contains_word(stringline.lower(), 'is') or contains_word(stringline.lower(), 'was') or contains_word(stringline.lower(), 'were') or contains_word(stringline.lower(), 'are') or contains_word(stringline.lower(), 'can') or contains_word(stringline.lower(), 'could') or contains_word(stringline.lower(), 'would') or contains_word(stringline.lower(), 'will') or contains_word(stringline.lower(), 'might') or contains_word(stringline.lower(), 'should') or contains_word(stringline.lower(), 'shall'):\n",
    "                resultfile.write(stringline + ' - Level 5' + \"\\n\")  \n",
    "                return None\n",
    "        \n",
    "#Determining LEVEL 2 QUESTIONS\n",
    "       if contains_word(stringline.lower(), 'what'):\n",
    "            if contains_word(stringline.lower(), 'do') or contains_word(stringline.lower(), 'does') or contains_word(stringline.lower(), 'did'):\n",
    "                \n",
    "            #Jumping to LEVEL 3 based on vocabulary\n",
    "              \n",
    "                if contains_word(stringline.lower(), 'explain') or contains_word(stringline.lower(), 'example') or contains_word(stringline.lower(), 'result') or contains_word(stringline.lower(), 'show') or contains_word(stringline.lower(), 'differ'):\n",
    "                    resultfile.write(stringline + ' - Level 3 - based on directive verb' + \"\\n\")  \n",
    "                    return None\n",
    "                \n",
    "                if contains_word(stringline.lower(), 'could') or contains_word(stringline.lower(), 'can') or contains_word(stringline.lower(), 'would') or contains_word(stringline.lower(), 'will') or contains_word(stringline.lower(), 'might') or contains_word(stringline.lower(), 'should') or contains_word(stringline.lower(), 'shall'):      \n",
    "                    resultfile.write(stringline + ' - Level 3 - based on directive verb' + \"\\n\")  \n",
    "                    return None\n",
    "            \n",
    "            #Jumping to LEVEL 4 based on vocabulary\n",
    "                \n",
    "                if contains_word(stringline.lower(), 'mean') or contains_word(stringline.lower(), 'infer') or contains_word(stringline.lower(), 'interpret'):\n",
    "                    resultfile.write(stringline + ' - Level 4 - based on directive verb' + \"\\n\")  \n",
    "                    return None\n",
    "                \n",
    "                if contains_word(stringline.lower(), 'summarize') or contains_word(stringline.lower(), 'recommend') or contains_word(stringline.lower(), 'evaluate') or contains_word(stringline.lower(), 'consider'):\n",
    "                    resultfile.write(stringline + ' - Level 4 - based on directive verb' + \"\\n\")  \n",
    "                    return None\n",
    "                                \n",
    "                else: \n",
    "                    resultfile.write(stringline + ' - Level 2' + \"\\n\")\n",
    "                    return None\n",
    "\n",
    "       if contains_word(stringline.lower(), 'which'):\n",
    "            if contains_word(stringline.lower(), 'do') or contains_word(stringline.lower(), 'does') or contains_word(stringline.lower(), 'did') or contains_word(stringline.lower(), 'is') or contains_word(stringline.lower(), 'was') or contains_word(stringline.lower(), 'are') or contains_word(stringline.lower(), 'can') or contains_word(stringline.lower(), 'could') or contains_word(stringline.lower(), 'would') or contains_word(stringline.lower(), 'will') or contains_word(stringline.lower(), 'might') or contains_word(stringline.lower(), 'should') or contains_word(stringline.lower(), 'shall') or contains_word(stringline.lower(), 'of'):\n",
    "                resultfile.write(stringline + ' - Level 2' + \"\\n\")  \n",
    "                return None\n",
    "\n",
    "       if contains_word(stringline.lower(), 'who'):\n",
    "            if contains_word(stringline.lower(), 'can') or contains_word(stringline.lower(), 'could') or contains_word(stringline.lower(), 'would') or contains_word(stringline.lower(), 'will') or contains_word(stringline.lower(), 'might') or contains_word(stringline.lower(), 'should') or contains_word(stringline.lower(), 'shall'):\n",
    "                resultfile.write(stringline + ' - Level 2' + \"\\n\")  \n",
    "                return None\n",
    "                \n",
    "       if contains_word(stringline.lower(), 'when'):\n",
    "            if contains_word(stringline.lower(), 'do') or contains_word(stringline.lower(), 'does')  or contains_word(stringline.lower(), 'are') or contains_word(stringline.lower(), 'can') or contains_word(stringline.lower(), 'could') or contains_word(stringline.lower(), 'would') or contains_word(stringline.lower(), 'will') or contains_word(stringline.lower(), 'might') or contains_word(stringline.lower(), 'should') or contains_word(stringline.lower(), 'shall'):\n",
    "                resultfile.write(stringline + ' - Level 2' + \"\\n\")  \n",
    "                return None\n",
    "                                 \n",
    "       if contains_word(stringline.lower(), 'where'):\n",
    "            if contains_word(stringline.lower(), 'do') or contains_word(stringline.lower(), 'can') or contains_word(stringline.lower(), 'could') or contains_word(stringline.lower(), 'would') or contains_word(stringline.lower(), 'will') or contains_word(stringline.lower(), 'might') or contains_word(stringline.lower(), 'may') or contains_word(stringline.lower(), 'should') or contains_word(stringline.lower(), 'shall'):\n",
    "                resultfile.write(stringline + ' - Level 2' + \"\\n\")  \n",
    "                return None\n",
    "\n",
    "       if contains_word(stringline.lower(), 'how many') or contains_word(stringline.lower(), 'how much'):\n",
    "            if contains_word(stringline.lower(), 'do') or contains_word(stringline.lower(), 'does') or contains_word(stringline.lower(), 'did') or contains_word(stringline.lower(), 'is') or contains_word(stringline.lower(), 'was') or contains_word(stringline.lower(), 'are') or contains_word(stringline.lower(), 'were') or contains_word(stringline.lower(), 'can') or contains_word(stringline.lower(), 'could') or contains_word(stringline.lower(), 'would') or contains_word(stringline.lower(), 'will') or contains_word(stringline.lower(), 'might'):\n",
    "                resultfile.write(stringline + ' - Level 2' + \"\\n\")            \n",
    "                return None\n",
    "                \n",
    "       if  ('_' or '{' or '[' or '{' or ':' or '=') in stringline.lower():\n",
    "            resultfile.write(stringline + ' - Level 2 - based on special character' + \"\\n\")\n",
    "            return None\n",
    "     \n",
    "       if  '..' in stringline.lower():\n",
    "            resultfile.write(stringline + ' - Level 2 - based on special character' + \"\\n\")\n",
    "            return None"
   ]
  },
  {
   "cell_type": "code",
   "execution_count": 9,
   "metadata": {},
   "outputs": [
    {
     "ename": "SyntaxError",
     "evalue": "'return' outside function (<ipython-input-9-2f92ed9372e7>, line 5)",
     "output_type": "error",
     "traceback": [
      "\u001b[1;36m  File \u001b[1;32m\"<ipython-input-9-2f92ed9372e7>\"\u001b[1;36m, line \u001b[1;32m5\u001b[0m\n\u001b[1;33m    return None\u001b[0m\n\u001b[1;37m    ^\u001b[0m\n\u001b[1;31mSyntaxError\u001b[0m\u001b[1;31m:\u001b[0m 'return' outside function\n"
     ]
    }
   ],
   "source": [
    "\n",
    "       #Based on directive verb    \n",
    "       if ('what' or 'where' or 'who' or 'how' or 'where' or 'which' ) not in stringline.lower():\n",
    "            if contains_word(stringline.lower(), 'list') or contains_word(stringline.lower(), 'name') or contains_word(stringline.lower(), 'find') or contains_word(stringline.lower(), 'give') or contains_word(stringline.lower(), 'write') or contains_word(stringline.lower(), 'explain') or contains_word(stringline.lower(), 'make') or contains_word(stringline.lower(), 'define') or contains_word(stringline.lower(), 'describe'):\n",
    "                resultfile.write(stringline + ' - Level 2 - based on directive verb' + \"\\n\")\n",
    "                return None\n",
    "              "
   ]
  },
  {
   "cell_type": "code",
   "execution_count": 10,
   "metadata": {},
   "outputs": [
    {
     "ename": "IndentationError",
     "evalue": "unexpected indent (<ipython-input-10-4da73f80f3c9>, line 2)",
     "output_type": "error",
     "traceback": [
      "\u001b[1;36m  File \u001b[1;32m\"<ipython-input-10-4da73f80f3c9>\"\u001b[1;36m, line \u001b[1;32m2\u001b[0m\n\u001b[1;33m    if contains_word(stringline.lower(), 'can') or contains_word(stringline.lower(), 'could') or contains_word(stringline.lower(), 'is')  or contains_word(stringline.lower(), 'was') or contains_word(stringline.lower(), 'do') or contains_word(stringline.lower(), 'does') or contains_word(stringline.lower(), 'are') or contains_word(stringline.lower(), 'has') or contains_word(stringline.lower(), 'have'):\u001b[0m\n\u001b[1;37m    ^\u001b[0m\n\u001b[1;31mIndentationError\u001b[0m\u001b[1;31m:\u001b[0m unexpected indent\n"
     ]
    }
   ],
   "source": [
    "#Based on modal verbs\n",
    "       if contains_word(stringline.lower(), 'can') or contains_word(stringline.lower(), 'could') or contains_word(stringline.lower(), 'is')  or contains_word(stringline.lower(), 'was') or contains_word(stringline.lower(), 'do') or contains_word(stringline.lower(), 'does') or contains_word(stringline.lower(), 'are') or contains_word(stringline.lower(), 'has') or contains_word(stringline.lower(), 'have'):\n",
    "            if contains_word(stringline.lower(), 'you') or contains_word(stringline.lower(), 'we') or contains_word(stringline.lower(), 'he') or contains_word(stringline.lower(), 'she') or contains_word(stringline.lower(), 'it') or contains_word(stringline.lower(), 'did') or contains_word(stringline.lower(), 'there'):\n",
    "                resultfile.write(stringline + ' - Level 2 - based on modal verb' + \"\\n\")            \n",
    "                return None\n",
    "        "
   ]
  },
  {
   "cell_type": "code",
   "execution_count": null,
   "metadata": {},
   "outputs": [],
   "source": [
    "\n",
    "#Determining LEVEL 1 QUESTIONS          \n",
    "       if contains_word(stringline.lower(), 'what'):\n",
    "            if contains_word(stringline.lower(), 'is') or contains_word(stringline.lower(), 'was') or contains_word(stringline.lower(), 'are') or contains_word(stringline.lower(), 'were'):\n",
    "                resultfile.write(stringline + ' - Level 1' + \"\\n\")\n",
    "                return None\n",
    "       if contains_word(stringline.lower(), \"what's\"):\n",
    "                resultfile.write(stringline + ' - Level 1' + \"\\n\")\n",
    "                return None\n",
    "       if contains_word(stringline.lower(), 'who'):\n",
    "            if contains_word(stringline.lower(), 'is') or contains_word(stringline.lower(), 'was') or contains_word(stringline.lower(), 'do') or contains_word(stringline.lower(), 'does') or contains_word(stringline.lower(), 'did'):\n",
    "                resultfile.write(stringline + ' - Level 1' + \"\\n\")\n",
    "                return None\n",
    "       if contains_word(stringline.lower(), 'when'):\n",
    "            if contains_word(stringline.lower(), 'is') or contains_word(stringline.lower(), 'was') or contains_word(stringline.lower(), 'did'):\n",
    "                resultfile.write(stringline + ' - Level 1' + \"\\n\")\n",
    "                return None\n",
    "       if contains_word(stringline.lower(), 'where'):\n",
    "            if contains_word(stringline.lower(), 'is') or contains_word(stringline.lower(), 'was') or contains_word(stringline.lower(), 'did') or contains_word(stringline.lower(), 'does') or contains_word(stringline.lower(), 'are'):\n",
    "                resultfile.write(stringline + ' - Level 1' + \"\\n\")\n",
    "                return None\n",
    "       \n"
   ]
  },
  {
   "cell_type": "code",
   "execution_count": null,
   "metadata": {},
   "outputs": [],
   "source": [
    "\n",
    "        \n",
    "# Label the rest\n",
    "\n",
    "       else:\n",
    "            tokenized = nltk.word_tokenize(stringline)       \n",
    "            tagged = nltk.pos_tag(tokenized)\n",
    "            \n",
    "            finaltext1 = [word for (word, pos) in tagged if pos in ('MD', 'VB' , 'VBN' , 'VBZ' , 'VBG' , 'VBD' , 'VBP')]\n",
    "            finaltext2 = [word for (word, pos) in tagged if pos in ('WDT', 'WP', 'WP$', 'WRB')]\n",
    "            finaltext3 = [word for (word, pos) in tagged if pos in ('NN', 'NNS', 'NNP', 'NNPS')]\n",
    "            \n",
    "                     \n",
    "            if len(finaltext2) >=1:\n",
    "                if finaltext2 =='why' and len(finaltext1) >=1:\n",
    "                    resultfile.write(stringline + ' - Level 5 ---based on why + verb' + \"\\n\")  \n",
    "                    resultfile.write(\"VERB: %s \" % finaltext1)\n",
    "                    return None\n",
    "                    \n",
    "                if finaltext2 =='what' and len(finaltext1) >=1:\n",
    "                    resultfile.write(stringline + ' - Level 2 --- based on what +  verb' + \"\\n\")  \n",
    "                    resultfile.write(\"VERB: %s \" % finaltext1)\n",
    "                    return None\n",
    "                    \n",
    "            if len(finaltext2) <=0 and len(finaltext1) >=1:\n",
    "                    resultfile.write(stringline + ' - Level 2 --- based on no whs' + \"\\n\")  \n",
    "                    resultfile.write(\"VERB: %s \" % finaltext1)\n",
    "                    return None\n",
    "                    \n",
    "            resultfile.write(stringline + ' - Level TBD')  \n",
    "            resultfile.write(\"NOUN: %s \" % finaltext3)           \n",
    "            resultfile.write(\"\\n\")\n",
    "            \n",
    "           \n",
    "            \n",
    "if __name__=='__main__':\n",
    "\n",
    "    with open(filepath) as fp:  \n",
    "       try:\n",
    "           line = fp.readline()\n",
    "       except Exception as e:\n",
    "           print (e)\n",
    "       cnt = 1\n",
    "       while line:\n",
    "           print(\"Line {}: {}\".format(cnt, line), end='')\n",
    "           try:\n",
    "               line = fp.readline()\n",
    "           except Exception as e:\n",
    "               print(e)\n",
    "           cnt += 1\n",
    "           determine_question()\n",
    "\n",
    "            "
   ]
  },
  {
   "cell_type": "code",
   "execution_count": 21,
   "metadata": {},
   "outputs": [
    {
     "name": "stdout",
     "output_type": "stream",
     "text": [
      "s1 : BlockDMask\n",
      "s2 : blockdmask\n",
      "s3 : 안녕하세요. this is programming blog\n",
      "s4 : 1234blog4567\n"
     ]
    }
   ],
   "source": [
    "s1 = 'BlockDMask' \n",
    "s2 = s1.lower() \n",
    "print('s1 : ' + s1) \n",
    "\n",
    "print('s2 : ' + s2) \n",
    "\n",
    "s3 = '안녕하세요. THIS IS PROGRAMMING BLOG'.lower() \n",
    "print('s3 : ' + s3) \n",
    "\n",
    "#예제3 : 숫자나 기호가 섞여있는 경우 \n",
    "s4 = '1234BLOG4567' \n",
    "print('s4 : ' + s4.lower()) \n",
    "\n",
    "\n"
   ]
  },
  {
   "cell_type": "code",
   "execution_count": null,
   "metadata": {},
   "outputs": [],
   "source": []
  }
 ],
 "metadata": {
  "kernelspec": {
   "display_name": "Python 3",
   "language": "python",
   "name": "python3"
  },
  "language_info": {
   "codemirror_mode": {
    "name": "ipython",
    "version": 3
   },
   "file_extension": ".py",
   "mimetype": "text/x-python",
   "name": "python",
   "nbconvert_exporter": "python",
   "pygments_lexer": "ipython3",
   "version": "3.8.5"
  }
 },
 "nbformat": 4,
 "nbformat_minor": 4
}
