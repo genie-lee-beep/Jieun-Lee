{
  "nbformat": 4,
  "nbformat_minor": 0,
  "metadata": {
    "colab": {
      "name": "Tensorflow Basic_boston prediction_hidden layer model.ipynb",
      "provenance": []
    },
    "kernelspec": {
      "name": "python3",
      "display_name": "Python 3"
    },
    "language_info": {
      "name": "python"
    }
  },
  "cells": [
    {
      "cell_type": "code",
      "execution_count": 1,
      "metadata": {
        "id": "DPFfbmz6l5MO"
      },
      "outputs": [],
      "source": [
        "# 라이브러리 사용\n",
        "import tensorflow as tf\n",
        "import pandas as pd"
      ]
    },
    {
      "cell_type": "code",
      "source": [
        "# 데이터를 준비합니다.\n",
        "\n",
        "\n",
        "path = 'https://raw.githubusercontent.com/blackdew/tensorflow1/master/csv/boston.csv'\n",
        "boston = pd.read_csv(path)\n",
        "print(boston.columns)\n",
        "boston.head()\n",
        " "
      ],
      "metadata": {
        "colab": {
          "base_uri": "https://localhost:8080/",
          "height": 261
        },
        "id": "zPT6rTU4mlKv",
        "outputId": "690d825c-88f9-4cfe-b931-18e12b378c2c"
      },
      "execution_count": 2,
      "outputs": [
        {
          "output_type": "stream",
          "name": "stdout",
          "text": [
            "Index(['crim', 'zn', 'indus', 'chas', 'nox', 'rm', 'age', 'dis', 'rad', 'tax',\n",
            "       'ptratio', 'b', 'lstat', 'medv'],\n",
            "      dtype='object')\n"
          ]
        },
        {
          "output_type": "execute_result",
          "data": {
            "text/plain": [
              "      crim    zn  indus  chas    nox     rm   age     dis  rad  tax  ptratio  \\\n",
              "0  0.00632  18.0   2.31     0  0.538  6.575  65.2  4.0900    1  296     15.3   \n",
              "1  0.02731   0.0   7.07     0  0.469  6.421  78.9  4.9671    2  242     17.8   \n",
              "2  0.02729   0.0   7.07     0  0.469  7.185  61.1  4.9671    2  242     17.8   \n",
              "3  0.03237   0.0   2.18     0  0.458  6.998  45.8  6.0622    3  222     18.7   \n",
              "4  0.06905   0.0   2.18     0  0.458  7.147  54.2  6.0622    3  222     18.7   \n",
              "\n",
              "        b  lstat  medv  \n",
              "0  396.90   4.98  24.0  \n",
              "1  396.90   9.14  21.6  \n",
              "2  392.83   4.03  34.7  \n",
              "3  394.63   2.94  33.4  \n",
              "4  396.90   5.33  36.2  "
            ],
            "text/html": [
              "\n",
              "  <div id=\"df-523385f5-ed9c-45c4-b8c8-d654ca336c6d\">\n",
              "    <div class=\"colab-df-container\">\n",
              "      <div>\n",
              "<style scoped>\n",
              "    .dataframe tbody tr th:only-of-type {\n",
              "        vertical-align: middle;\n",
              "    }\n",
              "\n",
              "    .dataframe tbody tr th {\n",
              "        vertical-align: top;\n",
              "    }\n",
              "\n",
              "    .dataframe thead th {\n",
              "        text-align: right;\n",
              "    }\n",
              "</style>\n",
              "<table border=\"1\" class=\"dataframe\">\n",
              "  <thead>\n",
              "    <tr style=\"text-align: right;\">\n",
              "      <th></th>\n",
              "      <th>crim</th>\n",
              "      <th>zn</th>\n",
              "      <th>indus</th>\n",
              "      <th>chas</th>\n",
              "      <th>nox</th>\n",
              "      <th>rm</th>\n",
              "      <th>age</th>\n",
              "      <th>dis</th>\n",
              "      <th>rad</th>\n",
              "      <th>tax</th>\n",
              "      <th>ptratio</th>\n",
              "      <th>b</th>\n",
              "      <th>lstat</th>\n",
              "      <th>medv</th>\n",
              "    </tr>\n",
              "  </thead>\n",
              "  <tbody>\n",
              "    <tr>\n",
              "      <th>0</th>\n",
              "      <td>0.00632</td>\n",
              "      <td>18.0</td>\n",
              "      <td>2.31</td>\n",
              "      <td>0</td>\n",
              "      <td>0.538</td>\n",
              "      <td>6.575</td>\n",
              "      <td>65.2</td>\n",
              "      <td>4.0900</td>\n",
              "      <td>1</td>\n",
              "      <td>296</td>\n",
              "      <td>15.3</td>\n",
              "      <td>396.90</td>\n",
              "      <td>4.98</td>\n",
              "      <td>24.0</td>\n",
              "    </tr>\n",
              "    <tr>\n",
              "      <th>1</th>\n",
              "      <td>0.02731</td>\n",
              "      <td>0.0</td>\n",
              "      <td>7.07</td>\n",
              "      <td>0</td>\n",
              "      <td>0.469</td>\n",
              "      <td>6.421</td>\n",
              "      <td>78.9</td>\n",
              "      <td>4.9671</td>\n",
              "      <td>2</td>\n",
              "      <td>242</td>\n",
              "      <td>17.8</td>\n",
              "      <td>396.90</td>\n",
              "      <td>9.14</td>\n",
              "      <td>21.6</td>\n",
              "    </tr>\n",
              "    <tr>\n",
              "      <th>2</th>\n",
              "      <td>0.02729</td>\n",
              "      <td>0.0</td>\n",
              "      <td>7.07</td>\n",
              "      <td>0</td>\n",
              "      <td>0.469</td>\n",
              "      <td>7.185</td>\n",
              "      <td>61.1</td>\n",
              "      <td>4.9671</td>\n",
              "      <td>2</td>\n",
              "      <td>242</td>\n",
              "      <td>17.8</td>\n",
              "      <td>392.83</td>\n",
              "      <td>4.03</td>\n",
              "      <td>34.7</td>\n",
              "    </tr>\n",
              "    <tr>\n",
              "      <th>3</th>\n",
              "      <td>0.03237</td>\n",
              "      <td>0.0</td>\n",
              "      <td>2.18</td>\n",
              "      <td>0</td>\n",
              "      <td>0.458</td>\n",
              "      <td>6.998</td>\n",
              "      <td>45.8</td>\n",
              "      <td>6.0622</td>\n",
              "      <td>3</td>\n",
              "      <td>222</td>\n",
              "      <td>18.7</td>\n",
              "      <td>394.63</td>\n",
              "      <td>2.94</td>\n",
              "      <td>33.4</td>\n",
              "    </tr>\n",
              "    <tr>\n",
              "      <th>4</th>\n",
              "      <td>0.06905</td>\n",
              "      <td>0.0</td>\n",
              "      <td>2.18</td>\n",
              "      <td>0</td>\n",
              "      <td>0.458</td>\n",
              "      <td>7.147</td>\n",
              "      <td>54.2</td>\n",
              "      <td>6.0622</td>\n",
              "      <td>3</td>\n",
              "      <td>222</td>\n",
              "      <td>18.7</td>\n",
              "      <td>396.90</td>\n",
              "      <td>5.33</td>\n",
              "      <td>36.2</td>\n",
              "    </tr>\n",
              "  </tbody>\n",
              "</table>\n",
              "</div>\n",
              "      <button class=\"colab-df-convert\" onclick=\"convertToInteractive('df-523385f5-ed9c-45c4-b8c8-d654ca336c6d')\"\n",
              "              title=\"Convert this dataframe to an interactive table.\"\n",
              "              style=\"display:none;\">\n",
              "        \n",
              "  <svg xmlns=\"http://www.w3.org/2000/svg\" height=\"24px\"viewBox=\"0 0 24 24\"\n",
              "       width=\"24px\">\n",
              "    <path d=\"M0 0h24v24H0V0z\" fill=\"none\"/>\n",
              "    <path d=\"M18.56 5.44l.94 2.06.94-2.06 2.06-.94-2.06-.94-.94-2.06-.94 2.06-2.06.94zm-11 1L8.5 8.5l.94-2.06 2.06-.94-2.06-.94L8.5 2.5l-.94 2.06-2.06.94zm10 10l.94 2.06.94-2.06 2.06-.94-2.06-.94-.94-2.06-.94 2.06-2.06.94z\"/><path d=\"M17.41 7.96l-1.37-1.37c-.4-.4-.92-.59-1.43-.59-.52 0-1.04.2-1.43.59L10.3 9.45l-7.72 7.72c-.78.78-.78 2.05 0 2.83L4 21.41c.39.39.9.59 1.41.59.51 0 1.02-.2 1.41-.59l7.78-7.78 2.81-2.81c.8-.78.8-2.07 0-2.86zM5.41 20L4 18.59l7.72-7.72 1.47 1.35L5.41 20z\"/>\n",
              "  </svg>\n",
              "      </button>\n",
              "      \n",
              "  <style>\n",
              "    .colab-df-container {\n",
              "      display:flex;\n",
              "      flex-wrap:wrap;\n",
              "      gap: 12px;\n",
              "    }\n",
              "\n",
              "    .colab-df-convert {\n",
              "      background-color: #E8F0FE;\n",
              "      border: none;\n",
              "      border-radius: 50%;\n",
              "      cursor: pointer;\n",
              "      display: none;\n",
              "      fill: #1967D2;\n",
              "      height: 32px;\n",
              "      padding: 0 0 0 0;\n",
              "      width: 32px;\n",
              "    }\n",
              "\n",
              "    .colab-df-convert:hover {\n",
              "      background-color: #E2EBFA;\n",
              "      box-shadow: 0px 1px 2px rgba(60, 64, 67, 0.3), 0px 1px 3px 1px rgba(60, 64, 67, 0.15);\n",
              "      fill: #174EA6;\n",
              "    }\n",
              "\n",
              "    [theme=dark] .colab-df-convert {\n",
              "      background-color: #3B4455;\n",
              "      fill: #D2E3FC;\n",
              "    }\n",
              "\n",
              "    [theme=dark] .colab-df-convert:hover {\n",
              "      background-color: #434B5C;\n",
              "      box-shadow: 0px 1px 3px 1px rgba(0, 0, 0, 0.15);\n",
              "      filter: drop-shadow(0px 1px 2px rgba(0, 0, 0, 0.3));\n",
              "      fill: #FFFFFF;\n",
              "    }\n",
              "  </style>\n",
              "\n",
              "      <script>\n",
              "        const buttonEl =\n",
              "          document.querySelector('#df-523385f5-ed9c-45c4-b8c8-d654ca336c6d button.colab-df-convert');\n",
              "        buttonEl.style.display =\n",
              "          google.colab.kernel.accessAllowed ? 'block' : 'none';\n",
              "\n",
              "        async function convertToInteractive(key) {\n",
              "          const element = document.querySelector('#df-523385f5-ed9c-45c4-b8c8-d654ca336c6d');\n",
              "          const dataTable =\n",
              "            await google.colab.kernel.invokeFunction('convertToInteractive',\n",
              "                                                     [key], {});\n",
              "          if (!dataTable) return;\n",
              "\n",
              "          const docLinkHtml = 'Like what you see? Visit the ' +\n",
              "            '<a target=\"_blank\" href=https://colab.research.google.com/notebooks/data_table.ipynb>data table notebook</a>'\n",
              "            + ' to learn more about interactive tables.';\n",
              "          element.innerHTML = '';\n",
              "          dataTable['output_type'] = 'display_data';\n",
              "          await google.colab.output.renderOutput(dataTable, element);\n",
              "          const docLink = document.createElement('div');\n",
              "          docLink.innerHTML = docLinkHtml;\n",
              "          element.appendChild(docLink);\n",
              "        }\n",
              "      </script>\n",
              "    </div>\n",
              "  </div>\n",
              "  "
            ]
          },
          "metadata": {},
          "execution_count": 2
        }
      ]
    },
    {
      "cell_type": "code",
      "source": [
        "feature = boston[['crim', 'zn', 'indus', 'chas', 'nox', 'rm', 'age', 'dis', 'rad', 'tax',\n",
        "            'ptratio', 'b', 'lstat']]\n",
        "target = boston[['medv']]\n",
        "print(feature.shape, target.shape)"
      ],
      "metadata": {
        "colab": {
          "base_uri": "https://localhost:8080/"
        },
        "id": "KIjg1NFI9Hxm",
        "outputId": "df1db816-0f3f-4ec6-f903-6b63d46e960e"
      },
      "execution_count": 3,
      "outputs": [
        {
          "output_type": "stream",
          "name": "stdout",
          "text": [
            "(506, 13) (506, 1)\n"
          ]
        }
      ]
    },
    {
      "cell_type": "code",
      "source": [
        "# Creating a multi layer (hidden layer 1)\n",
        "\n",
        "X = tf.keras.layers.Input(shape=[13]) # input layer을 만듬 # independent var(feature) colum 1\n",
        "H = tf.keras.layers.Dense(10, activation='swish')(X) # 10개 노드를 만들어 보기 \n",
        "Y = tf.keras.layers.Dense(1)(H) # dense layer을 만듬  #subordination var(target) colum 1\n",
        "model = tf.keras.models.Model(X, Y)\n",
        "model.compile(loss='mse')"
      ],
      "metadata": {
        "id": "TF-AUAYIeUNi"
      },
      "execution_count": 4,
      "outputs": []
    },
    {
      "cell_type": "code",
      "source": [
        "model.fit(feature, target, epochs=10)"
      ],
      "metadata": {
        "colab": {
          "base_uri": "https://localhost:8080/"
        },
        "id": "O7Xj4pRKnPTP",
        "outputId": "2166752a-731c-4a0f-8027-f8b46602f449"
      },
      "execution_count": 5,
      "outputs": [
        {
          "output_type": "stream",
          "name": "stdout",
          "text": [
            "Epoch 1/10\n",
            "16/16 [==============================] - 1s 3ms/step - loss: 1989.6957\n",
            "Epoch 2/10\n",
            "16/16 [==============================] - 0s 3ms/step - loss: 973.2981\n",
            "Epoch 3/10\n",
            "16/16 [==============================] - 0s 2ms/step - loss: 504.5455\n",
            "Epoch 4/10\n",
            "16/16 [==============================] - 0s 3ms/step - loss: 317.8745\n",
            "Epoch 5/10\n",
            "16/16 [==============================] - 0s 3ms/step - loss: 248.5754\n",
            "Epoch 6/10\n",
            "16/16 [==============================] - 0s 5ms/step - loss: 209.3791\n",
            "Epoch 7/10\n",
            "16/16 [==============================] - 0s 3ms/step - loss: 171.2623\n",
            "Epoch 8/10\n",
            "16/16 [==============================] - 0s 4ms/step - loss: 145.1743\n",
            "Epoch 9/10\n",
            "16/16 [==============================] - 0s 2ms/step - loss: 122.7804\n",
            "Epoch 10/10\n",
            "16/16 [==============================] - 0s 4ms/step - loss: 102.9912\n"
          ]
        },
        {
          "output_type": "execute_result",
          "data": {
            "text/plain": [
              "<keras.callbacks.History at 0x7faf35897810>"
            ]
          },
          "metadata": {},
          "execution_count": 5
        }
      ]
    },
    {
      "cell_type": "code",
      "source": [
        "# 모델을 학습시킵니다. \n",
        "model.fit(feature, target, epochs=1000, verbose=0) # 1000을 출력하는 동안 화면 출력을 하지 않는다.\n"
      ],
      "metadata": {
        "colab": {
          "base_uri": "https://localhost:8080/"
        },
        "id": "xQrIe7SFmmvq",
        "outputId": "72d6a7bc-a1b6-41f5-8507-63611df3f81f"
      },
      "execution_count": 7,
      "outputs": [
        {
          "output_type": "execute_result",
          "data": {
            "text/plain": [
              "<keras.callbacks.History at 0x7faf33e332d0>"
            ]
          },
          "metadata": {},
          "execution_count": 7
        }
      ]
    },
    {
      "cell_type": "code",
      "source": [
        "# 4. 모델을 이용합니다\n",
        "print(model.predict(feature[5:10]))\n",
        "# 종속변수 확인\n",
        "print(target[5:10])"
      ],
      "metadata": {
        "colab": {
          "base_uri": "https://localhost:8080/"
        },
        "id": "d8vzucZT-D5n",
        "outputId": "8eaf56eb-584f-46b2-961e-126b1cb32721"
      },
      "execution_count": 8,
      "outputs": [
        {
          "output_type": "stream",
          "name": "stdout",
          "text": [
            "[[26.94687 ]\n",
            " [23.876608]\n",
            " [20.951275]\n",
            " [14.830623]\n",
            " [19.580227]]\n",
            "   medv\n",
            "5  28.7\n",
            "6  22.9\n",
            "7  27.1\n",
            "8  16.5\n",
            "9  18.9\n"
          ]
        }
      ]
    },
    {
      "cell_type": "code",
      "source": [
        "# 모델의 수식 확인을 위한 가중치 확인\n",
        "print(model.get_weights())\n",
        "\n",
        "# Y = x1w1 + x2w2 +x3w3+.... "
      ],
      "metadata": {
        "colab": {
          "base_uri": "https://localhost:8080/"
        },
        "id": "05FUOBcfoHDj",
        "outputId": "71fa598a-fc1b-474e-fccd-592f0f803f36"
      },
      "execution_count": 9,
      "outputs": [
        {
          "output_type": "stream",
          "name": "stdout",
          "text": [
            "[array([[ 4.3966484e-01,  2.1848172e-01,  5.0194973e-01, -5.0112611e-01,\n",
            "        -2.7848229e-01, -1.0926030e+00, -6.7615807e-01, -3.8413331e-01,\n",
            "        -7.8520112e-02, -1.5381486e+00],\n",
            "       [-3.3555269e-01,  3.9112934e-01,  1.8864803e-01, -1.5048140e-01,\n",
            "        -1.9673190e-01, -3.7036481e-01,  4.1908634e-01,  8.5679285e-02,\n",
            "         1.1837646e-01,  3.4077042e-01],\n",
            "       [ 2.4302626e-01,  2.5856146e-01, -4.3216622e-01,  2.7118081e-01,\n",
            "        -5.1684129e-01, -3.8862236e-02,  5.4203030e-02, -4.5123020e-01,\n",
            "         5.4433513e-01, -3.2146186e-02],\n",
            "       [ 8.2946017e-02, -1.3979473e+00,  1.5995784e+00,  3.0549381e+00,\n",
            "        -2.0554349e+00,  7.9682344e-01,  1.0010237e+00,  1.4017328e+00,\n",
            "         1.5487839e+00,  9.2946547e-01],\n",
            "       [-4.3628834e-02,  2.4717632e-01,  2.8253737e-01, -7.8781009e-01,\n",
            "         6.2552607e-01,  1.8120613e-02, -2.0304106e-01,  7.6499283e-02,\n",
            "         1.1525559e-01, -4.6678871e-01],\n",
            "       [ 3.2656521e-01, -1.4828846e+00,  1.0856093e+00, -9.5960188e-01,\n",
            "        -1.6524613e+00, -2.2941427e+00,  1.9253508e+00,  1.4521171e+00,\n",
            "         1.2833390e+00, -2.3135414e+00],\n",
            "       [-1.2954450e-01, -2.1049431e-01,  9.0747081e-02, -1.7085104e-01,\n",
            "        -2.4528532e-01, -4.2916410e-02,  5.4670125e-01, -7.1377087e-01,\n",
            "         1.3817607e-01,  5.2367836e-01],\n",
            "       [ 2.8776982e-01,  6.8804640e-01,  5.9381507e-02, -3.3432454e-01,\n",
            "        -1.9741456e-01,  6.3414550e-01, -1.5721236e-01, -7.9455137e-02,\n",
            "        -5.9113020e-01,  4.2180902e-01],\n",
            "       [-1.4411578e-04, -4.5062467e-01, -3.7624437e-01,  2.3756848e-01,\n",
            "        -1.2652798e-01, -1.6953273e-01, -2.5880930e-01, -3.5223916e-01,\n",
            "        -1.2535414e-01, -6.6729325e-01],\n",
            "       [-5.5131081e-02,  3.7662858e-01,  2.4139909e-01,  4.3135703e-01,\n",
            "         3.5043290e-01, -1.4698528e-01, -2.2251871e-01,  1.5068942e-01,\n",
            "        -5.4051310e-02, -2.1334852e-01],\n",
            "       [-2.6270893e-01,  3.1420544e-01, -1.6248067e-01, -1.9237405e-01,\n",
            "        -7.6322041e-02,  4.6404558e-01, -2.8840309e-01, -4.3527749e-01,\n",
            "         6.1159146e-01,  3.6749503e-01],\n",
            "       [-1.7965646e-01, -1.2746158e-01,  1.5642735e-01, -5.4272437e-01,\n",
            "        -6.8027958e-02,  2.5688317e-01,  3.0010468e-01,  9.7481765e-02,\n",
            "         2.3242700e-01,  2.5387827e-01],\n",
            "       [-3.4304231e-01,  1.8028334e-01, -4.8297796e-01, -4.7493541e-01,\n",
            "         1.1091709e-01,  1.8874572e-01, -1.0634012e+00, -1.0262545e+00,\n",
            "        -7.9413282e-04, -6.5938574e-01]], dtype=float32), array([-0.1472373 , -0.5832749 ,  0.5892115 ,  0.49059284, -0.6284818 ,\n",
            "       -0.4686516 ,  0.5862438 ,  0.47499508,  0.62032306, -0.45925507],\n",
            "      dtype=float32), array([[ 0.22735575],\n",
            "       [-0.5182385 ],\n",
            "       [ 0.443393  ],\n",
            "       [ 0.39688036],\n",
            "       [-0.19611669],\n",
            "       [-0.4540658 ],\n",
            "       [ 0.31301722],\n",
            "       [ 0.16306674],\n",
            "       [ 0.2669484 ],\n",
            "       [-0.65121627]], dtype=float32), array([0.6036565], dtype=float32)]\n"
          ]
        }
      ]
    },
    {
      "cell_type": "code",
      "source": [
        "model.summary()\n",
        "\n",
        "# Param == weight"
      ],
      "metadata": {
        "colab": {
          "base_uri": "https://localhost:8080/"
        },
        "id": "dGVe-O_8fred",
        "outputId": "c4f21207-c483-4782-d692-a8c32f99c897"
      },
      "execution_count": 10,
      "outputs": [
        {
          "output_type": "stream",
          "name": "stdout",
          "text": [
            "Model: \"model\"\n",
            "_________________________________________________________________\n",
            " Layer (type)                Output Shape              Param #   \n",
            "=================================================================\n",
            " input_1 (InputLayer)        [(None, 13)]              0         \n",
            "                                                                 \n",
            " dense (Dense)               (None, 10)                140       \n",
            "                                                                 \n",
            " dense_1 (Dense)             (None, 1)                 11        \n",
            "                                                                 \n",
            "=================================================================\n",
            "Total params: 151\n",
            "Trainable params: 151\n",
            "Non-trainable params: 0\n",
            "_________________________________________________________________\n"
          ]
        }
      ]
    }
  ]
}