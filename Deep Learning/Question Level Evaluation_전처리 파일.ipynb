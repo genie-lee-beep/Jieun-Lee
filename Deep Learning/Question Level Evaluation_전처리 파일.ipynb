{
 "cells": [
  {
   "cell_type": "markdown",
   "metadata": {},
   "source": [
    "The Stanford Question Answering Dataset"
   ]
  },
  {
   "cell_type": "code",
   "execution_count": 18,
   "metadata": {},
   "outputs": [],
   "source": [
    "#Need this for language determination \n",
    "import sys"
   ]
  },
  {
   "cell_type": "code",
   "execution_count": 19,
   "metadata": {},
   "outputs": [],
   "source": [
    "#Need this for reading csv file\n",
    "import csv"
   ]
  },
  {
   "cell_type": "code",
   "execution_count": 20,
   "metadata": {},
   "outputs": [],
   "source": [
    "#Need this for converting all texts into lowercase\n",
    "import re #파이썬 정규 표현식 라이브러리.문자열 데이터를 주로 다루는 자연어 처리 분야에 많이 사용한다"
   ]
  },
  {
   "cell_type": "code",
   "execution_count": 21,
   "metadata": {},
   "outputs": [],
   "source": [
    "# Need this for tokenization\n",
    "import nltk\n",
    "from nltk import wordpunct_tokenize  # 특수문자의 경우 따로 구분됨 \n",
    "from nltk.corpus import stopwords # 불용어 제거 "
   ]
  },
  {
   "cell_type": "code",
   "execution_count": 22,
   "metadata": {},
   "outputs": [],
   "source": [
    "#settings\n",
    "filepath = 'fake_result3.csv'\n",
    "#filepath = 'good_test.csv'\n",
    "#resultpath = 'output4.csv'\n",
    "resultpath = 'output7_SQUAD_plus_original5.csv'\n",
    "#resultfile = open(resultpath, 'xt')\n",
    "resultfile = open(resultpath)"
   ]
  },
  {
   "cell_type": "code",
   "execution_count": 23,
   "metadata": {},
   "outputs": [],
   "source": [
    "def contains_word(s, w1):\n",
    "   #return (' ' + w1 + ' ') in (' ' + s + ' ')\n",
    "   return (w1 + ' ') in (' ' + s + ' ')"
   ]
  },
  {
   "cell_type": "code",
   "execution_count": 24,
   "metadata": {},
   "outputs": [],
   "source": [
    "#replace(old, new, [count]) -> replace(\"찾을값\", \"바꿀값\", [바꿀횟수])\n",
    "# \\r: 공백제거하고 문자 출력 하라는 개행문자\n",
    "# 중첩 if 조건문: 앞의 if 조건식이 만족해야만 실행되는 코드 (들여쓰기 4줄,8줄,16줄...)        \n",
    "def determine_question():\n",
    "    stringline = line.replace(\"\\r\", \"\")\n",
    "    stringline = stringline.replace(\"\\n\", \"\")\n",
    "\n",
    "    # Determining LEVEL 5 QUESTIONS\n",
    "    if contains_word(stringline.lower(), 'what'):\n",
    "        if contains_word(stringline.lower(), 'if'):\n",
    "            resultfile.write(stringline + ' - Level 5' + \"\\n\")\n",
    "            return None\n",
    "    if contains_word(stringline.lower(), 'how') is not (\n",
    "            contains_word(stringline.lower(), 'how many') or contains_word(stringline.lower(),\n",
    "                                                                           'how old') or contains_word(\n",
    "            stringline.lower(), 'how long')):\n",
    "        if contains_word(stringline.lower(), 'do') or contains_word(stringline.lower(), 'does') or contains_word(\n",
    "                stringline.lower(), 'did') or contains_word(stringline.lower(), 'is') or contains_word(\n",
    "                stringline.lower(), 'was') or contains_word(stringline.lower(), 'were') or contains_word(\n",
    "                stringline.lower(), 'are') or contains_word(stringline.lower(), 'can') or contains_word(\n",
    "                stringline.lower(), 'could') or contains_word(stringline.lower(), 'would') or contains_word(\n",
    "                stringline.lower(), 'will') or contains_word(stringline.lower(), 'might') or contains_word(\n",
    "                stringline.lower(), 'may') or contains_word(stringline.lower(), 'should') or contains_word(\n",
    "                stringline.lower(), 'shall') or contains_word(stringline.lower(), 'has') or contains_word(\n",
    "                stringline.lower(), ' have'):\n",
    "            resultfile.write(stringline + ' - Level 5' + \"\\n\")\n",
    "            return None\n",
    "    if contains_word(stringline.lower(), 'why'):\n",
    "        if contains_word(stringline.lower(), 'do') or contains_word(stringline.lower(), 'does') or contains_word(\n",
    "                stringline.lower(), 'did') or contains_word(stringline.lower(), 'is') or contains_word(\n",
    "                stringline.lower(), 'was') or contains_word(stringline.lower(), 'were') or contains_word(\n",
    "                stringline.lower(), 'are') or contains_word(stringline.lower(), 'can') or contains_word(\n",
    "                stringline.lower(), 'could') or contains_word(stringline.lower(), 'would') or contains_word(\n",
    "                stringline.lower(), 'will') or contains_word(stringline.lower(), 'might') or contains_word(\n",
    "                stringline.lower(), 'should') or contains_word(stringline.lower(), 'shall'):\n",
    "            resultfile.write(stringline + ' - Level 5' + \"\\n\")\n",
    "            return None\n",
    "\n"
   ]
  },
  {
   "cell_type": "code",
   "execution_count": 36,
   "metadata": {},
   "outputs": [
    {
     "ename": "IndentationError",
     "evalue": "unexpected indent (<ipython-input-36-60b75f11ec1e>, line 2)",
     "output_type": "error",
     "traceback": [
      "\u001b[1;36m  File \u001b[1;32m\"<ipython-input-36-60b75f11ec1e>\"\u001b[1;36m, line \u001b[1;32m2\u001b[0m\n\u001b[1;33m    if contains_word(stringline.lower(), 'what'):\u001b[0m\n\u001b[1;37m    ^\u001b[0m\n\u001b[1;31mIndentationError\u001b[0m\u001b[1;31m:\u001b[0m unexpected indent\n"
     ]
    }
   ],
   "source": [
    "# Determining LEVEL 2 QUESTIONS\n",
    "    if contains_word(stringline.lower(), 'what'):\n",
    "        if contains_word(stringline.lower(), 'do') or contains_word(stringline.lower(),'does') or contains_word(\n",
    "                stringline.lower(), 'did'):\n",
    "            \n",
    "            # Jumping to LEVEL 3 based on vocabulary\n",
    "\n",
    "            if contains_word(stringline.lower(), 'explain') or contains_word(stringline.lower(),'example') or contains_word(\n",
    "                stringline.lower(), 'result') or contains_word(stringline.lower(), 'show') or contains_word(stringline.lower(),\n",
    "                                                                                                            'differ'):\n",
    "            resultfile.write(stringline + ' - Level 3 - based on directive verb' + \"\\n\")\n",
    "            return None\n",
    "\n",
    "            if contains_word(stringline.lower(), 'could') or contains_word(stringline.lower(), 'can') or contains_word(\n",
    "                stringline.lower(), 'would') or contains_word(stringline.lower(), 'will') or contains_word(\n",
    "            stringline.lower(), 'might') or contains_word(stringline.lower(), 'should') or contains_word(\n",
    "            stringline.lower(), 'shall'):\n",
    "            resultfile.write(stringline + ' - Level 3 - based on directive verb' + \"\\n\")\n",
    "            return None\n",
    "\n",
    "        # Jumping to LEVEL 4 based on vocabulary\n",
    "\n",
    "        if contains_word(stringline.lower(), 'mean') or contains_word(stringline.lower(), 'infer') or contains_word(\n",
    "                    stringline.lower(), 'interpret'):\n",
    "            resultfile.write(stringline + ' - Level 4 - based on directive verb' + \"\\n\")\n",
    "            return None\n",
    "\n",
    "        if contains_word(stringline.lower(), 'summarize') or contains_word(stringline.lower(),\n",
    "                                                                               'recommend') or contains_word(\n",
    "                stringline.lower(), 'evaluate') or contains_word(stringline.lower(), 'consider'):\n",
    "            resultfile.write(stringline + ' - Level 4 - based on directive verb' + \"\\n\")\n",
    "            return None\n",
    "\n",
    "        else:\n",
    "            resultfile.write(stringline + ' - Level 2' + \"\\n\")\n",
    "            return None\n",
    "\n",
    "\n",
    "    if contains_word(stringline.lower(), 'which'):\n",
    "        if contains_word(stringline.lower(), 'do') or contains_word(stringline.lower(), 'does') or contains_word(\n",
    "                stringline.lower(), 'did') or contains_word(stringline.lower(), 'is') or contains_word(\n",
    "                stringline.lower(), 'was') or contains_word(stringline.lower(), 'are') or contains_word(\n",
    "                stringline.lower(), 'can') or contains_word(stringline.lower(), 'could') or contains_word(\n",
    "                stringline.lower(), 'would') or contains_word(stringline.lower(), 'will') or contains_word(\n",
    "                stringline.lower(), 'might') or contains_word(stringline.lower(), 'should') or contains_word(\n",
    "                stringline.lower(), 'shall') or contains_word(stringline.lower(), 'of'):\n",
    "            resultfile.write(stringline + ' - Level 2' + \"\\n\")\n",
    "            return None\n",
    "\n",
    "    if contains_word(stringline.lower(), 'who'):\n",
    "        if contains_word(stringline.lower(), 'can') or contains_word(stringline.lower(), 'could') or contains_word(\n",
    "                stringline.lower(), 'would') or contains_word(stringline.lower(), 'will') or contains_word(\n",
    "                stringline.lower(), 'might') or contains_word(stringline.lower(), 'should') or contains_word(\n",
    "                stringline.lower(), 'shall'):\n",
    "            resultfile.write(stringline + ' - Level 2' + \"\\n\")\n",
    "            return None\n",
    "\n",
    "    if contains_word(stringline.lower(), 'when'):\n",
    "        if contains_word(stringline.lower(), 'do') or contains_word(stringline.lower(), 'does') or contains_word(\n",
    "                stringline.lower(), 'are') or contains_word(stringline.lower(), 'can') or contains_word(\n",
    "                stringline.lower(), 'could') or contains_word(stringline.lower(), 'would') or contains_word(\n",
    "                stringline.lower(), 'will') or contains_word(stringline.lower(), 'might') or contains_word(\n",
    "                stringline.lower(), 'should') or contains_word(stringline.lower(), 'shall'):\n",
    "            resultfile.write(stringline + ' - Level 2' + \"\\n\")\n",
    "            return None\n",
    "\n",
    "    if contains_word(stringline.lower(), 'where'):\n",
    "        if contains_word(stringline.lower(), 'do') or contains_word(stringline.lower(), 'can') or contains_word(\n",
    "                stringline.lower(), 'could') or contains_word(stringline.lower(), 'would') or contains_word(\n",
    "                stringline.lower(), 'will') or contains_word(stringline.lower(), 'might') or contains_word(\n",
    "                stringline.lower(), 'may') or contains_word(stringline.lower(), 'should') or contains_word(\n",
    "                stringline.lower(), 'shall'):\n",
    "            resultfile.write(stringline + ' - Level 2' + \"\\n\")\n",
    "            return None\n",
    "\n",
    "    if contains_word(stringline.lower(), 'how many') or contains_word(stringline.lower(), 'how much'):\n",
    "        if contains_word(stringline.lower(), 'do') or contains_word(stringline.lower(), 'does') or contains_word(\n",
    "                stringline.lower(), 'did') or contains_word(stringline.lower(), 'is') or contains_word(\n",
    "                stringline.lower(), 'was') or contains_word(stringline.lower(), 'are') or contains_word(\n",
    "                stringline.lower(), 'were') or contains_word(stringline.lower(), 'can') or contains_word(\n",
    "                stringline.lower(), 'could') or contains_word(stringline.lower(), 'would') or contains_word(\n",
    "                stringline.lower(), 'will') or contains_word(stringline.lower(), 'might'):\n",
    "            resultfile.write(stringline + ' - Level 2' + \"\\n\")\n",
    "            return None\n",
    "\n",
    "    if ('_' or '{' or '[' or '{' or ':' or '=') in stringline.lower():\n",
    "        resultfile.write(stringline + ' - Level 2 - based on special character' + \"\\n\")\n",
    "        return None\n",
    "\n",
    "    if '..' in stringline.lower():\n",
    "        resultfile.write(stringline + ' - Level 2 - based on special character' + \"\\n\")\n",
    "        return None\n"
   ]
  },
  {
   "cell_type": "code",
   "execution_count": 29,
   "metadata": {},
   "outputs": [
    {
     "ename": "IndentationError",
     "evalue": "expected an indented block (<ipython-input-29-f82e2198ce84>, line 3)",
     "output_type": "error",
     "traceback": [
      "\u001b[1;36m  File \u001b[1;32m\"<ipython-input-29-f82e2198ce84>\"\u001b[1;36m, line \u001b[1;32m3\u001b[0m\n\u001b[1;33m    if contains_word(stringline.lower(), 'list') or contains_word(stringline.lower(), 'name') or contains_word(stringline.lower(), 'find') or contains_word(stringline.lower(), 'give') or contains_word(stringline.lower(), 'write') or contains_word(stringline.lower(), 'explain') or contains_word(stringline.lower(), 'make') or contains_word(stringline.lower(), 'define') or contains_word(stringline.lower(), 'describe'):\u001b[0m\n\u001b[1;37m    ^\u001b[0m\n\u001b[1;31mIndentationError\u001b[0m\u001b[1;31m:\u001b[0m expected an indented block\n"
     ]
    }
   ],
   "source": [
    "#Based on directive verb    \n",
    "if ('what' or 'where' or 'who' or 'how' or 'where' or 'which' ) not in stringline.lower():\n",
    "if contains_word(stringline.lower(), 'list') or contains_word(stringline.lower(), 'name') or contains_word(stringline.lower(), 'find') or contains_word(stringline.lower(), 'give') or contains_word(stringline.lower(), 'write') or contains_word(stringline.lower(), 'explain') or contains_word(stringline.lower(), 'make') or contains_word(stringline.lower(), 'define') or contains_word(stringline.lower(), 'describe'):\n",
    "resultfile.write(stringline + ' - Level 2 - based on directive verb' + \"\\n\")\n",
    "\n",
    "return None"
   ]
  },
  {
   "cell_type": "code",
   "execution_count": 37,
   "metadata": {},
   "outputs": [
    {
     "ename": "IndentationError",
     "evalue": "unexpected indent (<ipython-input-37-4da73f80f3c9>, line 2)",
     "output_type": "error",
     "traceback": [
      "\u001b[1;36m  File \u001b[1;32m\"<ipython-input-37-4da73f80f3c9>\"\u001b[1;36m, line \u001b[1;32m2\u001b[0m\n\u001b[1;33m    if contains_word(stringline.lower(), 'can') or contains_word(stringline.lower(), 'could') or contains_word(stringline.lower(), 'is')  or contains_word(stringline.lower(), 'was') or contains_word(stringline.lower(), 'do') or contains_word(stringline.lower(), 'does') or contains_word(stringline.lower(), 'are') or contains_word(stringline.lower(), 'has') or contains_word(stringline.lower(), 'have'):\u001b[0m\n\u001b[1;37m    ^\u001b[0m\n\u001b[1;31mIndentationError\u001b[0m\u001b[1;31m:\u001b[0m unexpected indent\n"
     ]
    }
   ],
   "source": [
    "#Based on modal verbs\n",
    "       if contains_word(stringline.lower(), 'can') or contains_word(stringline.lower(), 'could') or contains_word(stringline.lower(), 'is')  or contains_word(stringline.lower(), 'was') or contains_word(stringline.lower(), 'do') or contains_word(stringline.lower(), 'does') or contains_word(stringline.lower(), 'are') or contains_word(stringline.lower(), 'has') or contains_word(stringline.lower(), 'have'):\n",
    "            if contains_word(stringline.lower(), 'you') or contains_word(stringline.lower(), 'we') or contains_word(stringline.lower(), 'he') or contains_word(stringline.lower(), 'she') or contains_word(stringline.lower(), 'it') or contains_word(stringline.lower(), 'did') or contains_word(stringline.lower(), 'there'):\n",
    "                resultfile.write(stringline + ' - Level 2 - based on modal verb' + \"\\n\")            \n",
    "                return None\n",
    "        "
   ]
  },
  {
   "cell_type": "code",
   "execution_count": null,
   "metadata": {},
   "outputs": [],
   "source": [
    "#Determining LEVEL 1 QUESTIONS          \n",
    "       if contains_word(stringline.lower(), 'what'):\n",
    "            if contains_word(stringline.lower(), 'is') or contains_word(stringline.lower(), 'was') or contains_word(stringline.lower(), 'are') or contains_word(stringline.lower(), 'were'):\n",
    "                resultfile.write(stringline + ' - Level 1' + \"\\n\")\n",
    "                return None\n",
    "        if contains_word(stringline.lower(), \"what's\"):\n",
    "                resultfile.write(stringline + ' - Level 1' + \"\\n\")\n",
    "                return None\n",
    "        if contains_word(stringline.lower(), 'who'):\n",
    "            if contains_word(stringline.lower(), 'is') or contains_word(stringline.lower(), 'was') or contains_word(stringline.lower(), 'do') or contains_word(stringline.lower(), 'does') or contains_word(stringline.lower(), 'did'):\n",
    "                resultfile.write(stringline + ' - Level 1' + \"\\n\")\n",
    "                return None\n",
    "        if contains_word(stringline.lower(), 'when'):\n",
    "            if contains_word(stringline.lower(), 'is') or contains_word(stringline.lower(), 'was') or contains_word(stringline.lower(), 'did'):\n",
    "                resultfile.write(stringline + ' - Level 1' + \"\\n\")\n",
    "                return None\n",
    "        if contains_word(stringline.lower(), 'where'):\n",
    "            if contains_word(stringline.lower(), 'is') or contains_word(stringline.lower(), 'was') or contains_word(stringline.lower(), 'did') or contains_word(stringline.lower(), 'does') or contains_word(stringline.lower(), 'are'):\n",
    "                resultfile.write(stringline + ' - Level 1' + \"\\n\")\n",
    "                return None"
   ]
  },
  {
   "cell_type": "code",
   "execution_count": null,
   "metadata": {},
   "outputs": [],
   "source": [
    "# Label the rest\n",
    "\n",
    "       else:\n",
    "            tokenized = nltk.word_tokenize(stringline)       \n",
    "            tagged = nltk.pos_tag(tokenized) \n",
    "            \n",
    "            finaltext1 = [word for (word, pos) in tagged if pos in ('MD', 'VB' , 'VBN' , 'VBZ' , 'VBG' , 'VBD' , 'VBP')]\n",
    "            finaltext2 = [word for (word, pos) in tagged if pos in ('WDT', 'WP', 'WP$', 'WRB')]\n",
    "            finaltext3 = [word for (word, pos) in tagged if pos in ('NN', 'NNS', 'NNP', 'NNPS')]\n",
    "            \n",
    "                     \n",
    "            if len(finaltext2) >=1:\n",
    "                if finaltext2 =='why' and len(finaltext1) >=1:\n",
    "                    resultfile.write(stringline + ' - Level 5 ---based on why + verb' + \"\\n\")  \n",
    "                    resultfile.write(\"VERB: %s \" % finaltext1)\n",
    "                    return None\n",
    "                    \n",
    "                if finaltext2 =='what' and len(finaltext1) >=1:\n",
    "                    resultfile.write(stringline + ' - Level 2 --- based on what +  verb' + \"\\n\")  \n",
    "                    resultfile.write(\"VERB: %s \" % finaltext1)\n",
    "                    return None\n",
    "                    \n",
    "            if len(finaltext2) <=0 and len(finaltext1) >=1:\n",
    "                    resultfile.write(stringline + ' - Level 2 --- based on no whs' + \"\\n\")  \n",
    "                    resultfile.write(\"VERB: %s \" % finaltext1)\n",
    "                    return None\n",
    "                    \n",
    "            resultfile.write(stringline + ' - Level TBD')  \n",
    "            resultfile.write(\"NOUN: %s \" % finaltext3)           \n",
    "            resultfile.write(\"\\n\")\n",
    "            \n",
    "           \n",
    "            \n",
    "if __name__=='__main__':    #파이썬 if __name__ == \"__main__\" 의미 :https://www.youtube.com/watch?v=UyXtJoIAlGQ\n",
    "\n",
    "    with open(filepath) as fp:  \n",
    "        try:\n",
    "            line = fp.readline()\n",
    "            except Exception as e:\n",
    "            print (e)\n",
    "        cnt = 1\n",
    "        while line:\n",
    "            print(\"Line {}: {}\".format(cnt, line), end='')\n",
    "            try:\n",
    "            line = fp.readline()\n",
    "        except Exception as e:  # 예외가 발생했을 때 실행됨\n",
    "            print(e)\n",
    "            cnt += 1\n",
    "\n",
    "determine_question()"
   ]
  }
 ],
 "metadata": {
  "kernelspec": {
   "display_name": "Python 3",
   "language": "python",
   "name": "python3"
  },
  "language_info": {
   "codemirror_mode": {
    "name": "ipython",
    "version": 3
   },
   "file_extension": ".py",
   "mimetype": "text/x-python",
   "name": "python",
   "nbconvert_exporter": "python",
   "pygments_lexer": "ipython3",
   "version": "3.8.5"
  }
 },
 "nbformat": 4,
 "nbformat_minor": 4
}
