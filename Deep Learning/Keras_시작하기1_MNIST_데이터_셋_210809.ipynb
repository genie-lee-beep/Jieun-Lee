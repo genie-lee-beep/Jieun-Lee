{
  "nbformat": 4,
  "nbformat_minor": 0,
  "metadata": {
    "colab": {
      "name": "Keras 시작하기1_MNIST 데이터 셋_210809.ipynb",
      "provenance": [],
      "authorship_tag": "ABX9TyN0atD2Uy1fKqrnuDxQeq6m",
      "include_colab_link": true
    },
    "kernelspec": {
      "name": "python3",
      "display_name": "Python 3"
    },
    "language_info": {
      "name": "python"
    }
  },
  "cells": [
    {
      "cell_type": "markdown",
      "metadata": {
        "id": "view-in-github",
        "colab_type": "text"
      },
      "source": [
        "<a href=\"https://colab.research.google.com/github/genie-lee-beep/Jieun-Lee/blob/main/Keras_%EC%8B%9C%EC%9E%91%ED%95%98%EA%B8%B01_MNIST_%EB%8D%B0%EC%9D%B4%ED%84%B0_%EC%85%8B_210809.ipynb\" target=\"_parent\"><img src=\"https://colab.research.google.com/assets/colab-badge.svg\" alt=\"Open In Colab\"/></a>"
      ]
    },
    {
      "cell_type": "markdown",
      "metadata": {
        "id": "5ua_Yso0rGjf"
      },
      "source": [
        "# Keras 시작하기\n",
        "* 라이브러리 불러오기\n",
        "* 신경망을 위한 데이터 이해\n",
        "* MNIST 데이터 셋\n",
        "* 넘파이를 활용한 텐서 조작"
      ]
    },
    {
      "cell_type": "code",
      "metadata": {
        "colab": {
          "base_uri": "https://localhost:8080/",
          "height": 35
        },
        "id": "2Sf_giYOq57g",
        "outputId": "5c260f51-cd1f-4372-cf10-74df3ec7175f"
      },
      "source": [
        "import keras\n",
        "import tensorflow as tf\n",
        "keras.__version__"
      ],
      "execution_count": null,
      "outputs": [
        {
          "output_type": "execute_result",
          "data": {
            "application/vnd.google.colaboratory.intrinsic+json": {
              "type": "string"
            },
            "text/plain": [
              "'2.5.0'"
            ]
          },
          "metadata": {
            "tags": []
          },
          "execution_count": 1
        }
      ]
    },
    {
      "cell_type": "code",
      "metadata": {
        "colab": {
          "base_uri": "https://localhost:8080/"
        },
        "id": "Xb729ChArAkc",
        "outputId": "1d4df920-ff20-4148-e43b-409c5301a0cb"
      },
      "source": [
        "print(tf.__version__)"
      ],
      "execution_count": null,
      "outputs": [
        {
          "output_type": "stream",
          "text": [
            "2.5.0\n"
          ],
          "name": "stdout"
        }
      ]
    },
    {
      "cell_type": "markdown",
      "metadata": {
        "id": "Yp1HPrVgrfsR"
      },
      "source": [
        "# 02. 신경망을 위한 데이터 이해\n",
        "* Tensor 자료형\n",
        "* 스칼라 : 하나의 숫자만 담고 있는 텐서를 스칼라라고 한다.\n",
        "* 0차원 텐서, 0D텐서"
      ]
    },
    {
      "cell_type": "code",
      "metadata": {
        "colab": {
          "base_uri": "https://localhost:8080/"
        },
        "id": "eFhlx_ZgrDFZ",
        "outputId": "b9e4f6b8-39a4-40d5-92a4-2a75cc28d692"
      },
      "source": [
        "import numpy as np\n",
        "x = np.array(12)\n",
        "print(x.ndim)\n",
        "print(x.shape)\n",
        "x"
      ],
      "execution_count": null,
      "outputs": [
        {
          "output_type": "stream",
          "text": [
            "0\n",
            "()\n"
          ],
          "name": "stdout"
        },
        {
          "output_type": "execute_result",
          "data": {
            "text/plain": [
              "array(12)"
            ]
          },
          "metadata": {
            "tags": []
          },
          "execution_count": 3
        }
      ]
    },
    {
      "cell_type": "markdown",
      "metadata": {
        "id": "RecD4wHXvOp2"
      },
      "source": [
        "# 벡터(1D 텐서)\n",
        "*숫자의 배열을 벡터(vector)또는 1D텐서라고 부른다. 1D 텐서는 딱 하나의 축을 가진다."
      ]
    },
    {
      "cell_type": "code",
      "metadata": {
        "colab": {
          "base_uri": "https://localhost:8080/"
        },
        "id": "ZXHuvnzvta4s",
        "outputId": "ffe47213-dbaf-48b1-b85c-8206d5fb6841"
      },
      "source": [
        "x = np.array([10,20,30,40,50])\n",
        "print(x.ndim)\n",
        "print(x.shape)  # 몇 텐서인지 확인 \n",
        "x"
      ],
      "execution_count": null,
      "outputs": [
        {
          "output_type": "stream",
          "text": [
            "1\n",
            "(5,)\n"
          ],
          "name": "stdout"
        },
        {
          "output_type": "execute_result",
          "data": {
            "text/plain": [
              "array([10, 20, 30, 40, 50])"
            ]
          },
          "metadata": {
            "tags": []
          },
          "execution_count": 4
        }
      ]
    },
    {
      "cell_type": "markdown",
      "metadata": {
        "id": "0xvyc73ovUAc"
      },
      "source": [
        "# 행렬(2D 텐서)\n",
        "* 벡터의 배열을 행렬(matrix) 또는 2D텐서라 부른다. 행렬에는 2개의 축이 있다. 보통 행과 열이라 한다."
      ]
    },
    {
      "cell_type": "code",
      "metadata": {
        "colab": {
          "base_uri": "https://localhost:8080/"
        },
        "id": "Qzx4PTKouf0Q",
        "outputId": "58116923-c31d-4a58-dcad-616f098d77f8"
      },
      "source": [
        "x = np.array([ [11,21,31],\n",
        "               [12,22,32],\n",
        "               [13,23,33] ])\n",
        "print(x.ndim)\n",
        "print(x.shape)\n",
        "x"
      ],
      "execution_count": null,
      "outputs": [
        {
          "output_type": "stream",
          "text": [
            "2\n",
            "(3, 3)\n"
          ],
          "name": "stdout"
        },
        {
          "output_type": "execute_result",
          "data": {
            "text/plain": [
              "array([[11, 21, 31],\n",
              "       [12, 22, 32],\n",
              "       [13, 23, 33]])"
            ]
          },
          "metadata": {
            "tags": []
          },
          "execution_count": 5
        }
      ]
    },
    {
      "cell_type": "markdown",
      "metadata": {
        "id": "WNmIYXcOxJXk"
      },
      "source": [
        "# 3D텐서와 고차원 텐서\n",
        "* 행렬들을 하나의 새로운 배열로 합치면 숫자가 채워진 직육면체 형태로 해석할 수 있는 3D텐서가 만들어진다.\n",
        "\n",
        "* 이미지 데이터 (높이 픽셀, 넓이 픽셀, RGC(색깔)픽셀)"
      ]
    },
    {
      "cell_type": "code",
      "metadata": {
        "colab": {
          "base_uri": "https://localhost:8080/"
        },
        "id": "fNG4-xxNuhte",
        "outputId": "54138634-1295-44fd-e1ab-72c7267cb76a"
      },
      "source": [
        "x = np.array([\n",
        "              [ [11,21,31],\n",
        "               [12,22,32],\n",
        "               [13,23,33] ],\n",
        "              [ [11,21,31],\n",
        "               [12,22,32],\n",
        "               [13,23,33] ],\n",
        "              [ [11,21,31],\n",
        "               [12,22,32],\n",
        "               [13,23,33] ]\n",
        "             ])\n",
        "print(x.ndim)\n",
        "print(x.shape)\n",
        "x"
      ],
      "execution_count": null,
      "outputs": [
        {
          "output_type": "stream",
          "text": [
            "3\n",
            "(3, 3, 3)\n"
          ],
          "name": "stdout"
        },
        {
          "output_type": "execute_result",
          "data": {
            "text/plain": [
              "array([[[11, 21, 31],\n",
              "        [12, 22, 32],\n",
              "        [13, 23, 33]],\n",
              "\n",
              "       [[11, 21, 31],\n",
              "        [12, 22, 32],\n",
              "        [13, 23, 33]],\n",
              "\n",
              "       [[11, 21, 31],\n",
              "        [12, 22, 32],\n",
              "        [13, 23, 33]]])"
            ]
          },
          "metadata": {
            "tags": []
          },
          "execution_count": 6
        }
      ]
    },
    {
      "cell_type": "markdown",
      "metadata": {
        "id": "d0zNPvUazMHI"
      },
      "source": [
        "# 03. MNIST 데이터 셋"
      ]
    },
    {
      "cell_type": "code",
      "metadata": {
        "colab": {
          "base_uri": "https://localhost:8080/"
        },
        "id": "Zi9xdotjxSXj",
        "outputId": "8ee318b0-4bda-47e5-d7ff-e409a9e11fab"
      },
      "source": [
        "from keras.datasets import mnist\n",
        "(train_images, train_labels), (test_images, test_labels) = mnist.load_data()"
      ],
      "execution_count": null,
      "outputs": [
        {
          "output_type": "stream",
          "text": [
            "Downloading data from https://storage.googleapis.com/tensorflow/tf-keras-datasets/mnist.npz\n",
            "11493376/11490434 [==============================] - 0s 0us/step\n",
            "11501568/11490434 [==============================] - 0s 0us/step\n"
          ],
          "name": "stdout"
        }
      ]
    },
    {
      "cell_type": "code",
      "metadata": {
        "colab": {
          "base_uri": "https://localhost:8080/"
        },
        "id": "AnOjlGdnzRXT",
        "outputId": "9ffda5fc-2e5d-42a3-c0d5-1d16633ac2a9"
      },
      "source": [
        "print(train_images.ndim)"
      ],
      "execution_count": null,
      "outputs": [
        {
          "output_type": "stream",
          "text": [
            "3\n"
          ],
          "name": "stdout"
        }
      ]
    },
    {
      "cell_type": "code",
      "metadata": {
        "colab": {
          "base_uri": "https://localhost:8080/"
        },
        "id": "FCOEpkj7zUH1",
        "outputId": "45e608fd-2682-47b3-8d0c-9e702f00af6d"
      },
      "source": [
        "train_images.shape  # 현재는 흑백(3D 텐서)  # 색깔까지 들어가면 (60000, 28, 28, 28.3) # 4D 텐서 "
      ],
      "execution_count": null,
      "outputs": [
        {
          "output_type": "execute_result",
          "data": {
            "text/plain": [
              "(60000, 28, 28)"
            ]
          },
          "metadata": {
            "tags": []
          },
          "execution_count": 10
        }
      ]
    },
    {
      "cell_type": "code",
      "metadata": {
        "id": "ll4gvGTEz1i2"
      },
      "source": [
        "import matplotlib.pyplot as plt"
      ],
      "execution_count": null,
      "outputs": []
    },
    {
      "cell_type": "code",
      "metadata": {
        "colab": {
          "base_uri": "https://localhost:8080/",
          "height": 265
        },
        "id": "3Vfj0Pn2z2Dw",
        "outputId": "deabcfb7-e9f6-4dfb-d61a-f6a27bfd0e47"
      },
      "source": [
        "image = train_images[5]\n",
        "plt.imshow(image, cmap=plt.cm.binary) # cmap=plt.cm.binary :색상\n",
        "plt.show()"
      ],
      "execution_count": null,
      "outputs": [
        {
          "output_type": "display_data",
          "data": {
            "image/png": "[encoded data removed]",
            "text/plain": [
              "<Figure size 432x288 with 1 Axes>"
            ]
          },
          "metadata": {
            "tags": [],
            "needs_background": "light"
          }
        }
      ]
    },
    {
      "cell_type": "code",
      "metadata": {
        "id": "aCzhRwR-0BIp"
      },
      "source": [
        "image = train_images[0:5, 0:28, ]\n",
        "plt.imshow(image, cmap=plt.cm.binary) # cmap=plt.cm.binary :색상\n",
        "plt.show()"
      ],
      "execution_count": null,
      "outputs": []
    }
  ]
}
