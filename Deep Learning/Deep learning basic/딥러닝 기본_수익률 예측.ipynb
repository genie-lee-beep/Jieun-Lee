{
 "cells": [
  {
   "cell_type": "markdown",
   "metadata": {},
   "source": [
    "## 텐서플로우를 활용하여 신경망 구현하기 - 데이터 전 처리\n",
    "\n",
    "* 마케터로서 광고 비용에 따른 수익률을 신경망을 통해서 예측하고자 합니다.\n",
    "* FB,TV,Newspaper에 따른 Sales 예측하기"
   ]
  },
  {
   "cell_type": "code",
   "execution_count": 2,
   "metadata": {},
   "outputs": [],
   "source": [
    "import tensorflow as tf\n",
    "import pandas as pd\n",
    "import numpy as np\n",
    "from sklearn.model_selection import train_test_split"
   ]
  },
  {
   "cell_type": "code",
   "execution_count": 3,
   "metadata": {},
   "outputs": [],
   "source": [
    "import os\n",
    "os.environ['TF_CPP_MIN_LOG_LEVEL'] = '2'"
   ]
  },
  {
   "cell_type": "code",
   "execution_count": 4,
   "metadata": {},
   "outputs": [],
   "source": [
    "np.random.seed(100)\n",
    "tf.random.set_seed(100)"
   ]
  },
  {
   "cell_type": "code",
   "execution_count": 5,
   "metadata": {},
   "outputs": [],
   "source": [
    "# 데이터를 DataFrame 형태로 불러 옵니다.\n",
    "df = pd.read_csv(\"Advertising.csv\")"
   ]
  },
  {
   "cell_type": "code",
   "execution_count": 6,
   "metadata": {},
   "outputs": [
    {
     "name": "stdout",
     "output_type": "stream",
     "text": [
      "원본 데이터 샘플 :\n",
      "   Unnamed: 0     FB    TV  Newspaper  Sales\n",
      "0           1  230.1  37.8       69.2   22.1\n",
      "1           2   44.5  39.3       45.1   10.4\n",
      "2           3   17.2  45.9       69.3    9.3\n",
      "3           4  151.5  41.3       58.5   18.5\n",
      "4           5  180.8  10.8       58.4   12.9 \n",
      "\n"
     ]
    }
   ],
   "source": [
    "print('원본 데이터 샘플 :')\n",
    "print(df.head(),'\\n')"
   ]
  },
  {
   "cell_type": "code",
   "execution_count": 7,
   "metadata": {},
   "outputs": [],
   "source": [
    "# 의미없는 변수는 삭제합니다.\n",
    "df = df.drop(columns=['Unnamed: 0'])\n",
    "\n",
    "\"\"\"\n",
    "1. Sales 변수는 label 데이터로 Y에 저장하고 나머진 X에 저장합니다.\n",
    "\"\"\"\n",
    "X = df.drop(columns=['Sales'])\n",
    "Y = df['Sales']\n",
    "\n",
    "train_X, test_X, train_Y, test_Y = train_test_split(X, Y, test_size=0.3)"
   ]
  },
  {
   "cell_type": "code",
   "execution_count": 8,
   "metadata": {},
   "outputs": [],
   "source": [
    "\"\"\"\n",
    "2. 학습용 데이터를 tf.data.Dataset 형태로 변환합니다.\n",
    "   from_tensor_slices 함수를 사용하여 변환하고 batch를 수행하게 합니다.\n",
    "\"\"\"\n",
    "train_ds = tf.data.Dataset.from_tensor_slices((train_X.values, train_Y.values))\n",
    "train_ds = train_ds.shuffle(len(train_X)).batch(batch_size=5)  # batch는 학습할 때만 사용한다는 거!"
   ]
  },
  {
   "cell_type": "code",
   "execution_count": 9,
   "metadata": {},
   "outputs": [],
   "source": [
    "# 하나의 batch를 뽑아서 feature와 label로 분리합니다.\n",
    "[(train_features_batch, label_batch)] = train_ds.take(1)"
   ]
  },
  {
   "cell_type": "code",
   "execution_count": 10,
   "metadata": {},
   "outputs": [
    {
     "name": "stdout",
     "output_type": "stream",
     "text": [
      "\n",
      "FB, TV, Newspaper batch 데이터:\n",
      " tf.Tensor(\n",
      "[[296.4  36.3 100.9]\n",
      " [228.   37.7  32. ]\n",
      " [  5.4  29.9   9.4]\n",
      " [ 57.5  32.8  23.5]\n",
      " [240.1   7.3   8.7]], shape=(5, 3), dtype=float64)\n",
      "Sales batch 데이터: tf.Tensor([23.8 21.5  5.3 11.8 13.2], shape=(5,), dtype=float64)\n"
     ]
    }
   ],
   "source": [
    "# batch 데이터를 출력합니다.\n",
    "# bathch size 5니까, 5개 출력\n",
    "print('\\nFB, TV, Newspaper batch 데이터:\\n',train_features_batch)\n",
    "print('Sales batch 데이터:',label_batch)"
   ]
  },
  {
   "cell_type": "markdown",
   "metadata": {},
   "source": [
    "## 텐서플로우를 활용하여 신경망 구현하기 - 모델 구현\n",
    "\n",
    "* 텐서플로우와 케라스(Keras)를 활용하여 신경망 모델을 구현  \n",
    "* |케라스는 텐서플로우 내의 신경망 모델 설계와 훈련을 위한 API 입니다. 케라스는 연속적으로(Sequential) 레이어(Layer)들을 쌓아가며 모델을 생성하고, 사이킷런과 같이 한 줄의 코드로 간단하게 학습 방법 설정, 학습, 평가를 진행할 수 있습니다."
   ]
  },
  {
   "cell_type": "code",
   "execution_count": 11,
   "metadata": {},
   "outputs": [
    {
     "name": "stdout",
     "output_type": "stream",
     "text": [
      "Model: \"sequential\"\n",
      "_________________________________________________________________\n",
      "Layer (type)                 Output Shape              Param #   \n",
      "=================================================================\n",
      "dense (Dense)                (None, 10)                40        \n",
      "_________________________________________________________________\n",
      "dense_1 (Dense)              (None, 1)                 11        \n",
      "=================================================================\n",
      "Total params: 51\n",
      "Trainable params: 51\n",
      "Non-trainable params: 0\n",
      "_________________________________________________________________\n",
      "None\n"
     ]
    }
   ],
   "source": [
    "\"\"\"\n",
    "1. tf.keras.models.Sequential()를 활용하여 신경망 모델을 생성합니다.\n",
    "   자유롭게 layers를 쌓고 마지막 layers는 노드 수를 1개로 설정합니다.\n",
    "\"\"\"\n",
    "model = tf.keras.models.Sequential([\n",
    "    tf.keras.layers.Dense(10, input_shape=(3,)),    # FB, TV, Newspaper 3개\n",
    "    tf.keras.layers.Dense(1)\n",
    "    ])\n",
    "\n",
    "print(model.summary())"
   ]
  },
  {
   "cell_type": "markdown",
   "metadata": {},
   "source": [
    "## 텐서플로우를 활용하여 신경망 구현하기 - 모델 학습\n",
    "\n",
    "* 텐서플로우와 케라스(Keras)를 활용하여 신경망 모델을 학습  \n",
    " \n",
    "* 텐서플로우와 케라스를 이용해 신경망 모델을 학습하기 위한 함수/메서드  \n",
    "\n",
    "* complie() 메서드는 모델을 어떻게 학습할 지에 대해서 설정합니다.  \n",
    "loss는 회귀에서는 일반적으로 MSE인 ‘mean_squared_error’, 분류에서는 ‘sparse_categorical_crossentropy’ 를 주로 사용합니다."
   ]
  },
  {
   "cell_type": "code",
   "execution_count": 12,
   "metadata": {},
   "outputs": [
    {
     "ename": "AttributeError",
     "evalue": "'Sequential' object has no attribute 'complie'",
     "output_type": "error",
     "traceback": [
      "\u001b[1;31m---------------------------------------------------------------------------\u001b[0m",
      "\u001b[1;31mAttributeError\u001b[0m                            Traceback (most recent call last)",
      "\u001b[1;32m<ipython-input-12-947ccfa77dd7>\u001b[0m in \u001b[0;36m<module>\u001b[1;34m\u001b[0m\n\u001b[0;32m      8\u001b[0m        \u001b[0mepochs는\u001b[0m \u001b[1;36m100\u001b[0m\u001b[0m으로\u001b[0m \u001b[0m설정합니다\u001b[0m\u001b[1;33m.\u001b[0m\u001b[1;33m\u001b[0m\u001b[1;33m\u001b[0m\u001b[0m\n\u001b[0;32m      9\u001b[0m \"\"\"\n\u001b[1;32m---> 10\u001b[1;33m \u001b[0mmodel\u001b[0m\u001b[1;33m.\u001b[0m\u001b[0mcomplie\u001b[0m\u001b[1;33m(\u001b[0m\u001b[0mloss\u001b[0m\u001b[1;33m=\u001b[0m\u001b[1;34m'mean_squared_error'\u001b[0m\u001b[1;33m,\u001b[0m \u001b[0moptimizer\u001b[0m\u001b[1;33m=\u001b[0m\u001b[1;34m'adam'\u001b[0m\u001b[1;33m)\u001b[0m\u001b[1;33m\u001b[0m\u001b[1;33m\u001b[0m\u001b[0m\n\u001b[0m\u001b[0;32m     11\u001b[0m \u001b[0mhistory\u001b[0m \u001b[1;33m=\u001b[0m \u001b[0mmodel\u001b[0m\u001b[1;33m.\u001b[0m\u001b[0mfit\u001b[0m\u001b[1;33m(\u001b[0m\u001b[0mX\u001b[0m\u001b[1;33m,\u001b[0m \u001b[0mepochs\u001b[0m\u001b[1;33m=\u001b[0m\u001b[1;36m100\u001b[0m\u001b[1;33m,\u001b[0m \u001b[0mverbose\u001b[0m\u001b[1;33m=\u001b[0m\u001b[1;36m2\u001b[0m\u001b[1;33m)\u001b[0m\u001b[1;33m\u001b[0m\u001b[1;33m\u001b[0m\u001b[0m\n\u001b[0;32m     12\u001b[0m \u001b[1;31m# verbose 인자는 학습 시, 화면에 출력되는 형태를 설정합니다. (0: 표기 없음, 1: 진행 바, 2: 에포크당 한 줄 출력)\u001b[0m\u001b[1;33m\u001b[0m\u001b[1;33m\u001b[0m\u001b[1;33m\u001b[0m\u001b[0m\n",
      "\u001b[1;31mAttributeError\u001b[0m: 'Sequential' object has no attribute 'complie'"
     ]
    }
   ],
   "source": [
    "\"\"\"\n",
    "1. 학습용 데이터를 바탕으로 모델의 학습을 수행합니다.\n",
    "    \n",
    "step1. compile 메서드를 사용하여 최적화 모델 설정합니다.\n",
    "       loss는 mean_squared_error, optimizer는 adam으로 설정합니다.\n",
    "       \n",
    "step2. fit 메서드를 사용하여 Dataset으로 변환된 학습용 데이터를 학습합니다.\n",
    "       epochs는 100으로 설정합니다.\n",
    "\"\"\"\n",
    "\n",
    "model.complie(loss='mean_squared_error', optimizer='adam')\n",
    "history = model.fit(X, epochs=100, verbose=2) \n",
    "# verbose 인자는 학습 시, 화면에 출력되는 형태를 설정합니다. (0: 표기 없음, 1: 진행 바, 2: 에포크당 한 줄 출력)"
   ]
  },
  {
   "cell_type": "markdown",
   "metadata": {},
   "source": [
    "## 텐서플로우를 활용하여 신경망 구현하기 - 모델 평가 및 예측\n",
    "* evaluate() 메서드는 학습된 모델을 바탕으로 입력한 feature 데이터 X와 label Y의 loss 값과 metrics 값을 출력합니다.   \n",
    "model.evaluate(X, Y)\n",
    "\n",
    "\n",
    "* 이번 실습에서는 metrics 를 compile에서 설정하지 않았지만, 분류에서는 일반적으로 accuracy를 사용하여 evaluate 사용 시, 2개의 아웃풋을 리턴합니다"
   ]
  },
  {
   "cell_type": "code",
   "execution_count": null,
   "metadata": {},
   "outputs": [],
   "source": [
    "\"\"\"\n",
    "1. evaluate 메서드를 사용하여 테스트용 데이터의 loss 값을 계산합니다.\n",
    "\"\"\"\n",
    "loss = model.evaluate(test_X, test_Y, verbose=0)\n",
    "\n",
    "\"\"\"\n",
    "2. predict 메서드를 사용하여 테스트용 데이터의 예측값을 계산합니다.\n",
    "\"\"\"\n",
    "predictions = model.predict(test_X)\n",
    "\n",
    "# 결과를 출력합니다.\n",
    "print(\"테스트 데이터의 Loss 값: \", loss)\n",
    "for i in range(5):\n",
    "    print(\"%d 번째 테스트 데이터의 실제값: %f\" % (i, test_Y.iloc[i]))\n",
    "    print(\"%d 번째 테스트 데이터의 예측값: %f\" % (i, predictions[i][0]))"
   ]
  },
  {
   "cell_type": "markdown",
   "metadata": {},
   "source": [
    "### 결과 해석: \n",
    "\n",
    "1.  학습용 데이터의 loss값과 테스트 데이터의 loss값을 비교한다.\n",
    ">> 학습할 때 loss 값 보다, 테스트 데이터의 loss값이 더 적다는 것을 확인할 수 있다.\n",
    "2. 테스트 데이터의 실제값과 예측값을 비교한다. (for 반복문 활용)\n",
    "\n",
    "4 번째 테스트 데이터의 실제값: 21.800000  \n",
    "4 번째 테스트 데이터의 예측값: 20.184616  "
   ]
  },
  {
   "cell_type": "code",
   "execution_count": null,
   "metadata": {},
   "outputs": [],
   "source": []
  }
 ],
 "metadata": {
  "kernelspec": {
   "display_name": "Python 3",
   "language": "python",
   "name": "python3"
  },
  "language_info": {
   "codemirror_mode": {
    "name": "ipython",
    "version": 3
   },
   "file_extension": ".py",
   "mimetype": "text/x-python",
   "name": "python",
   "nbconvert_exporter": "python",
   "pygments_lexer": "ipython3",
   "version": "3.8.5"
  }
 },
 "nbformat": 4,
 "nbformat_minor": 4
}
