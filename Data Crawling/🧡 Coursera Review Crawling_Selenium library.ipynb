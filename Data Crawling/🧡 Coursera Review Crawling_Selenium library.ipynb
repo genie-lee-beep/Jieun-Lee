{
 "cells": [
  {
   "cell_type": "markdown",
   "metadata": {},
   "source": [
    "## 🧡Crawling one page with selenium library. \n",
    "## one review"
   ]
  },
  {
   "cell_type": "code",
   "execution_count": 77,
   "metadata": {},
   "outputs": [],
   "source": [
    "from selenium import webdriver\n",
    "# import requests\n",
    "from bs4 import BeautifulSoup as bs"
   ]
  },
  {
   "cell_type": "code",
   "execution_count": 78,
   "metadata": {},
   "outputs": [],
   "source": [
    "driver=webdriver.Chrome('chromedriver.exe')"
   ]
  },
  {
   "cell_type": "code",
   "execution_count": 79,
   "metadata": {},
   "outputs": [],
   "source": [
    "#driver.get() 을 쓰면서 페이지를 이동하면서 원하는 태그들을 가져오는 것임\n",
    "bs_url= \"https://www.consumeraffairs.com/education/online-courses/coursera.html#scroll_to_reviews=true\"\n",
    "driver.get(bs_url) #페이지로 이동을 하는 거지, 페이지의 내용을 읽어 오는 것은 아님"
   ]
  },
  {
   "cell_type": "code",
   "execution_count": 28,
   "metadata": {},
   "outputs": [],
   "source": [
    "# pip install lxml"
   ]
  },
  {
   "cell_type": "code",
   "execution_count": 69,
   "metadata": {},
   "outputs": [
    {
     "name": "stdout",
     "output_type": "stream",
     "text": [
      "Coursera courses are the biggest Ripoff ever exists. I don’t know how this company still exists. Apple and Galaxy phones shouldn’t allow the app in their phones and tablets. You sign for a course that’s supposed to be $49 dollars for 1 month, you complete the course, and they continue charging your credit card for months and months. If you try to stop this, it’s impossible because they don’t have a customer service number, no way to cancel your subscription, they hide from you. Please Do Not use Coursera. They will Steal a lot of money from you. I only give 1 star review because there’s no zero stars.\n"
     ]
    }
   ],
   "source": [
    "# bs4: 읽어 온 웹사이트의 html문서를 해석하는 목적으로 사용\n",
    "soup = bs(sel_link1.text, 'lxml') \n",
    "\n",
    "#4단계 -> 필요한 데이터 추출하기\n",
    "data = soup.find_all(\"p\")   # html태그 = title, h1, div 등..\n",
    "for item in data:  #find_all()로 추출하면 for문으로 다룰 수 있음\n",
    "    #5단계 -> 추출한 데이터 활용하기\n",
    "\tprint(item.string) \n",
    "\n",
    "sel_id = driver.find_elements_by_id('rank')\n",
    "# for item in data:\n",
    "#     if item.string:\n",
    "#         print(item.string)"
   ]
  },
  {
   "cell_type": "code",
   "execution_count": null,
   "metadata": {},
   "outputs": [],
   "source": []
  }
 ],
 "metadata": {
  "kernelspec": {
   "display_name": "Python 3",
   "language": "python",
   "name": "python3"
  },
  "language_info": {
   "codemirror_mode": {
    "name": "ipython",
    "version": 3
   },
   "file_extension": ".py",
   "mimetype": "text/x-python",
   "name": "python",
   "nbconvert_exporter": "python",
   "pygments_lexer": "ipython3",
   "version": "3.8.5"
  }
 },
 "nbformat": 4,
 "nbformat_minor": 4
}
