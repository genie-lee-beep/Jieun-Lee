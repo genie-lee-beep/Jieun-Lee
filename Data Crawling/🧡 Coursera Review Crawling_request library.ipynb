{
 "cells": [
  {
   "cell_type": "markdown",
   "metadata": {},
   "source": [
    "## 🧡Crawling one page with request library. \n",
    "## all review"
   ]
  },
  {
   "cell_type": "code",
   "execution_count": 35,
   "metadata": {},
   "outputs": [],
   "source": [
    "import requests\n",
    "from selenium import webdriver\n",
    "# import requests\n",
    "from bs4 import BeautifulSoup as bs"
   ]
  },
  {
   "cell_type": "code",
   "execution_count": 36,
   "metadata": {},
   "outputs": [],
   "source": [
    "driver=webdriver.Chrome('chromedriver.exe')"
   ]
  },
  {
   "cell_type": "code",
   "execution_count": 37,
   "metadata": {},
   "outputs": [],
   "source": [
    "bs_url= \"https://www.consumeraffairs.com/education/online-courses/coursera.html#scroll_to_reviews=true\""
   ]
  },
  {
   "cell_type": "code",
   "execution_count": 38,
   "metadata": {},
   "outputs": [],
   "source": [
    "# request 작은 브라우저로, 웹사이트를 읽어 오는 것이 목적\n",
    "response = requests.get(bs_url)"
   ]
  },
  {
   "cell_type": "code",
   "execution_count": 42,
   "metadata": {},
   "outputs": [
    {
     "name": "stdout",
     "output_type": "stream",
     "text": [
      "Coursera is a global online learning platform that offers massive open online courses (MOOCs), specializations and degrees. Users can build skills with courses from universities like Yale, Stanford and New York University and companies like Google and IBM.\n",
      "\n",
      "                If you want to learn a subject at your own pace, Coursera offers a wide selection of online courses, certificates and degrees at varying price points.\n",
      "            \n",
      "None\n",
      "I'm delighted to have this course offered on Positive Psychology through Coursera ... I appreciate the format and set up of the course. The videos are very well done. A helpful as...\n",
      "I have nothing but good things to say about my experience with Coursera. I have loved the learning I have been able to do and look forward to taking many more classes with them .....\n",
      "Coursera has more than 3,900 courses, 13 professional certificates and 20 degrees available. The company offers on-demand video lectures, self-paced quizzes and hands-on projects to help you apply the skills you’re learning.\n",
      "Courses are available in:\n",
      "Through Coursera, you can take courses to earn a certificate or degree, develop new skills, prepare for a new career or switch careers. Companies often use the courses to offer professional training opportunities to employees.\n",
      "According to a Coursera Learners Outcome Survey conducted in 2019, 87% of users who took professional development courses reported career benefits, including promotions, raises or career changes.\n",
      "The cost of Coursera classes varies based on the type of course, the course length and the subject matter. More in-demand courses, like Javascript and Blockchain, may cost more than courses like philosophy. On average, you can expect to pay the following prices for the three core offerings from Coursera:\n",
      "Coursera provides educational and skills advancement resources for individuals who don’t have access to traditional college programming or who want to improve their expertise in a specific field. Though the classes can be pricey and the enrollment dates are inflexible, the platform is valuable for many students and employees. However, because some employers don’t recognize degrees earned through Coursera, we mainly recommend the platform for business use.\n",
      "A link has directed you to this review. Its location on this page may change next time you visit.\n",
      "None\n",
      "None\n",
      "Coursera courses are the biggest Ripoff ever exists. I don’t know how this company still exists. Apple and Galaxy phones shouldn’t allow the app in their phones and tablets. You sign for a course that’s supposed to be $49 dollars for 1 month, you complete the course, and they continue charging your credit card for months and months. If you try to stop this, it’s impossible because they don’t have a customer service number, no way to cancel your subscription, they hide from you. Please Do Not use Coursera. They will Steal a lot of money from you. I only give 1 star review because there’s no zero stars.\n",
      "None\n",
      "They_do_not_have_any_customer_service. Please_never_use_Coursera. There_are_better_option. They_are_terrible. They_are_inferior. They_stole_money_from_me. They_will_not_give_me_a_credit. PLEASE_DO_NOT_USE.\n",
      "\n",
      "                Not sure how to choose?\n",
      "            \n",
      "\n",
      "                    Get buying tips about Online Learning Platforms delivered to your inbox.\n",
      "                \n",
      "Thank you, you have successfully subscribed to our newsletter! Enjoy reading our tips and recommendations.\n",
      "None\n",
      "The contents is good but the system accessing is very unstable. When I need a support, it's never can contact them. They have no email or phone no. to contact except the help center which is no way to access when you have problem with accessing.\n",
      "None\n",
      "Coursera is a rip-off, which I did not realize until a few days into my so called \"7-day Free Trial.\" After searching through their website, while I was signed in, there was no place to cancel before the Trial ended. I even googled for directions, then realizing that it did not exist: that is, NO WAY to CANCEL before TRIAL ENDS. I searched further and realized then that there was no contact phone number for them online, and nobody's name listed to contact, plus no address.\n",
      "I finally was able to send a message online via the website while I was signed in, and received an auto-generated message that they would respond. But no one ever responded. They kept sending me marketing type information, and information about their courses, but still no response. The Trial time period ends, and of course they charge my credit card. I immediately contacted my bank to challenge the charge, and after going back and forth with my bank, I was finally given back my funds (from my bank, and not from Coursera). Stay away from Coursera; as one reviewer has noted here on this board also, they will rip you off--by sucking you in with the notion of a Trial period, and then not giving you a place to cancel.\n",
      "None\n",
      "The Refund policy is the worst...and they make no effort by blocking any refund requests on the mobile app when almost all other things can be down on the mobile app. This auto billing should send warning emails beforehand and allow for easy one click Cancellation. This is not fair and I will continue to give bad reviews. The tiny portion of the course That I used was bland and only mildy informative.\n",
      "None\n",
      "I can't speak to the course content because immediately I was turned off by the business practices of this supposed B Corp. I do web design for a living and I'm not a dumb person, but somehow I couldn't figure out their subscription plans and upgrades and got billed for something. I went back to try and find out why, and all of their policies state that they don't offer refunds. Everything that looked like a subscription was cancelled through my account notifications, and then I still got billed. There is no customer service available and searching for \"request refund\" takes you to a page where they say they don't offer refunds.\n",
      "As a B Corp, I would expect much better. As an educational company, I would expect better UX/UI so consumers are not confused about what they are signing up for and have an option to cancel a subscription before being billed for it. You should clearly let consumers know what they are signing up for and what they will be paying for.\n",
      "None\n",
      "I resent the fact that in the middle of this course all of a sudden I am required to use Firefox--stop the course and take the time to download and set up this program. That's a waste of time and an inconvenience and should be indicated prior to beginning the class. Then WORSE THAN THAT is that I'm supposed to download documents from other people, Word and Page documents, which are unsafe. It's a bad practice, very dangerous, to randomly pull private documents into my home computer. I won't take any courses that are set up like this. But Coursera offers NO PLACE to send input or feedback like this. That's why I'm writing here.\n",
      "None\n",
      "Do not give Coursera your credit card info. This is how it works, you sign up for a program certificate which includes several courses. You get charged every month while you are taking those courses. Thing is, you can NEVER get your last grade. They do not have enough students for you to do reviews or to review your work. That is right, no teacher interaction, students grade each other. You pay, forever. Customer service is anything but. They are not helpful and your only recourse will be to contact your bank and a lawyer.\n",
      "None\n",
      "Be very careful of EVER giving COURSERA a credit card number! They will pretend you have a trial period and then automatically WITHDRAW $49 from your credit card EVERY MONTH, even with NO USE. Then, they will pretend that this is TOTALLY NON REFUNDABLE. Coursera is NOT A NON-PROFIT. It is yet another CA Bay Area company finding the newest way to take money out of your pocket. I WILL NEVER USE COURSERA AGAIN!\n",
      "None\n",
      "I took one course with Coursera, a C++ programming course through University of Illinois. The course was good, and though I thought it went a little too fast, I got an A in it. I enjoy programming, so it may have been too intense for someone who was struggling a bit. That's only one part of my experience though. A year and a half later, when I had looked into some further courses but not opted to take one, I got a call from a recruiter about a tech opportunity. I assumed a coding bootcamp I had recently graduated had referred me, but as I reached the end of the interview process and signed their contract, I found out that Coursera had been the source of the recommendation. I was shocked that a platform I had taken one class on 1.5 years ago had been so thoughtfully put together that I was put forward for an important opportunity while I was job searching.\n",
      "Sign up to receive our free weekly newsletter. We value your privacy. Unsubscribe easily.\n",
      "We’ll start sending you the news you need delivered straight to you. We value your privacy. Unsubscribe easily.\n",
      "ConsumerAffairs is not a government agency. Companies displayed may pay us to be Authorized or when you click a link, call a number or fill a form on our site. Our content is intended to be used for general information purposes only. It is very important to do your own analysis before making any investment based on your own personal circumstances and consult with your own investment, financial, tax and legal advisers.\n",
      "None\n",
      "Copyright ©  2021 Consumers Unified LLC. All Rights Reserved. The contents of this site may not be republished, reprinted, rewritten or recirculated without written permission.\n"
     ]
    },
    {
     "ename": "WebDriverException",
     "evalue": "Message: chrome not reachable\n  (Session info: chrome=99.0.4844.51)\n",
     "output_type": "error",
     "traceback": [
      "\u001b[1;31m---------------------------------------------------------------------------\u001b[0m",
      "\u001b[1;31mWebDriverException\u001b[0m                        Traceback (most recent call last)",
      "\u001b[1;32m<ipython-input-42-9b0b284cd011>\u001b[0m in \u001b[0;36m<module>\u001b[1;34m\u001b[0m\n\u001b[0;32m      9\u001b[0m          \u001b[0mprint\u001b[0m\u001b[1;33m(\u001b[0m\u001b[0mitem\u001b[0m\u001b[1;33m.\u001b[0m\u001b[0mstring\u001b[0m\u001b[1;33m)\u001b[0m\u001b[1;33m\u001b[0m\u001b[1;33m\u001b[0m\u001b[0m\n\u001b[0;32m     10\u001b[0m \u001b[1;33m\u001b[0m\u001b[0m\n\u001b[1;32m---> 11\u001b[1;33m \u001b[0msel_id\u001b[0m \u001b[1;33m=\u001b[0m \u001b[0mdriver\u001b[0m\u001b[1;33m.\u001b[0m\u001b[0mfind_elements_by_id\u001b[0m\u001b[1;33m(\u001b[0m\u001b[1;34m'review-11678091'\u001b[0m\u001b[1;33m)\u001b[0m\u001b[1;33m\u001b[0m\u001b[1;33m\u001b[0m\u001b[0m\n\u001b[0m",
      "\u001b[1;32m~\\anaconda3\\lib\\site-packages\\selenium\\webdriver\\remote\\webdriver.py\u001b[0m in \u001b[0;36mfind_elements_by_id\u001b[1;34m(self, id_)\u001b[0m\n\u001b[0;32m    374\u001b[0m             \u001b[0melements\u001b[0m \u001b[1;33m=\u001b[0m \u001b[0mdriver\u001b[0m\u001b[1;33m.\u001b[0m\u001b[0mfind_elements_by_id\u001b[0m\u001b[1;33m(\u001b[0m\u001b[1;34m'foo'\u001b[0m\u001b[1;33m)\u001b[0m\u001b[1;33m\u001b[0m\u001b[1;33m\u001b[0m\u001b[0m\n\u001b[0;32m    375\u001b[0m         \"\"\"\n\u001b[1;32m--> 376\u001b[1;33m         \u001b[1;32mreturn\u001b[0m \u001b[0mself\u001b[0m\u001b[1;33m.\u001b[0m\u001b[0mfind_elements\u001b[0m\u001b[1;33m(\u001b[0m\u001b[0mby\u001b[0m\u001b[1;33m=\u001b[0m\u001b[0mBy\u001b[0m\u001b[1;33m.\u001b[0m\u001b[0mID\u001b[0m\u001b[1;33m,\u001b[0m \u001b[0mvalue\u001b[0m\u001b[1;33m=\u001b[0m\u001b[0mid_\u001b[0m\u001b[1;33m)\u001b[0m\u001b[1;33m\u001b[0m\u001b[1;33m\u001b[0m\u001b[0m\n\u001b[0m\u001b[0;32m    377\u001b[0m \u001b[1;33m\u001b[0m\u001b[0m\n\u001b[0;32m    378\u001b[0m     \u001b[1;32mdef\u001b[0m \u001b[0mfind_element_by_xpath\u001b[0m\u001b[1;33m(\u001b[0m\u001b[0mself\u001b[0m\u001b[1;33m,\u001b[0m \u001b[0mxpath\u001b[0m\u001b[1;33m)\u001b[0m\u001b[1;33m:\u001b[0m\u001b[1;33m\u001b[0m\u001b[1;33m\u001b[0m\u001b[0m\n",
      "\u001b[1;32m~\\anaconda3\\lib\\site-packages\\selenium\\webdriver\\remote\\webdriver.py\u001b[0m in \u001b[0;36mfind_elements\u001b[1;34m(self, by, value)\u001b[0m\n\u001b[0;32m   1003\u001b[0m         \u001b[1;31m# Return empty list if driver returns null\u001b[0m\u001b[1;33m\u001b[0m\u001b[1;33m\u001b[0m\u001b[1;33m\u001b[0m\u001b[0m\n\u001b[0;32m   1004\u001b[0m         \u001b[1;31m# See https://github.com/SeleniumHQ/selenium/issues/4555\u001b[0m\u001b[1;33m\u001b[0m\u001b[1;33m\u001b[0m\u001b[1;33m\u001b[0m\u001b[0m\n\u001b[1;32m-> 1005\u001b[1;33m         return self.execute(Command.FIND_ELEMENTS, {\n\u001b[0m\u001b[0;32m   1006\u001b[0m             \u001b[1;34m'using'\u001b[0m\u001b[1;33m:\u001b[0m \u001b[0mby\u001b[0m\u001b[1;33m,\u001b[0m\u001b[1;33m\u001b[0m\u001b[1;33m\u001b[0m\u001b[0m\n\u001b[0;32m   1007\u001b[0m             'value': value})['value'] or []\n",
      "\u001b[1;32m~\\anaconda3\\lib\\site-packages\\selenium\\webdriver\\remote\\webdriver.py\u001b[0m in \u001b[0;36mexecute\u001b[1;34m(self, driver_command, params)\u001b[0m\n\u001b[0;32m    319\u001b[0m         \u001b[0mresponse\u001b[0m \u001b[1;33m=\u001b[0m \u001b[0mself\u001b[0m\u001b[1;33m.\u001b[0m\u001b[0mcommand_executor\u001b[0m\u001b[1;33m.\u001b[0m\u001b[0mexecute\u001b[0m\u001b[1;33m(\u001b[0m\u001b[0mdriver_command\u001b[0m\u001b[1;33m,\u001b[0m \u001b[0mparams\u001b[0m\u001b[1;33m)\u001b[0m\u001b[1;33m\u001b[0m\u001b[1;33m\u001b[0m\u001b[0m\n\u001b[0;32m    320\u001b[0m         \u001b[1;32mif\u001b[0m \u001b[0mresponse\u001b[0m\u001b[1;33m:\u001b[0m\u001b[1;33m\u001b[0m\u001b[1;33m\u001b[0m\u001b[0m\n\u001b[1;32m--> 321\u001b[1;33m             \u001b[0mself\u001b[0m\u001b[1;33m.\u001b[0m\u001b[0merror_handler\u001b[0m\u001b[1;33m.\u001b[0m\u001b[0mcheck_response\u001b[0m\u001b[1;33m(\u001b[0m\u001b[0mresponse\u001b[0m\u001b[1;33m)\u001b[0m\u001b[1;33m\u001b[0m\u001b[1;33m\u001b[0m\u001b[0m\n\u001b[0m\u001b[0;32m    322\u001b[0m             response['value'] = self._unwrap_value(\n\u001b[0;32m    323\u001b[0m                 response.get('value', None))\n",
      "\u001b[1;32m~\\anaconda3\\lib\\site-packages\\selenium\\webdriver\\remote\\errorhandler.py\u001b[0m in \u001b[0;36mcheck_response\u001b[1;34m(self, response)\u001b[0m\n\u001b[0;32m    240\u001b[0m                 \u001b[0malert_text\u001b[0m \u001b[1;33m=\u001b[0m \u001b[0mvalue\u001b[0m\u001b[1;33m[\u001b[0m\u001b[1;34m'alert'\u001b[0m\u001b[1;33m]\u001b[0m\u001b[1;33m.\u001b[0m\u001b[0mget\u001b[0m\u001b[1;33m(\u001b[0m\u001b[1;34m'text'\u001b[0m\u001b[1;33m)\u001b[0m\u001b[1;33m\u001b[0m\u001b[1;33m\u001b[0m\u001b[0m\n\u001b[0;32m    241\u001b[0m             \u001b[1;32mraise\u001b[0m \u001b[0mexception_class\u001b[0m\u001b[1;33m(\u001b[0m\u001b[0mmessage\u001b[0m\u001b[1;33m,\u001b[0m \u001b[0mscreen\u001b[0m\u001b[1;33m,\u001b[0m \u001b[0mstacktrace\u001b[0m\u001b[1;33m,\u001b[0m \u001b[0malert_text\u001b[0m\u001b[1;33m)\u001b[0m\u001b[1;33m\u001b[0m\u001b[1;33m\u001b[0m\u001b[0m\n\u001b[1;32m--> 242\u001b[1;33m         \u001b[1;32mraise\u001b[0m \u001b[0mexception_class\u001b[0m\u001b[1;33m(\u001b[0m\u001b[0mmessage\u001b[0m\u001b[1;33m,\u001b[0m \u001b[0mscreen\u001b[0m\u001b[1;33m,\u001b[0m \u001b[0mstacktrace\u001b[0m\u001b[1;33m)\u001b[0m\u001b[1;33m\u001b[0m\u001b[1;33m\u001b[0m\u001b[0m\n\u001b[0m\u001b[0;32m    243\u001b[0m \u001b[1;33m\u001b[0m\u001b[0m\n\u001b[0;32m    244\u001b[0m     \u001b[1;32mdef\u001b[0m \u001b[0m_value_or_default\u001b[0m\u001b[1;33m(\u001b[0m\u001b[0mself\u001b[0m\u001b[1;33m,\u001b[0m \u001b[0mobj\u001b[0m\u001b[1;33m,\u001b[0m \u001b[0mkey\u001b[0m\u001b[1;33m,\u001b[0m \u001b[0mdefault\u001b[0m\u001b[1;33m)\u001b[0m\u001b[1;33m:\u001b[0m\u001b[1;33m\u001b[0m\u001b[1;33m\u001b[0m\u001b[0m\n",
      "\u001b[1;31mWebDriverException\u001b[0m: Message: chrome not reachable\n  (Session info: chrome=99.0.4844.51)\n"
     ]
    }
   ],
   "source": [
    "# response.text에서의 html코드를 파서하겠다.\n",
    "soup = bs(response.text, 'lxml')\n",
    "# soup = bs(response.text, 'html.parser') #주의: 이렇게 하면 same sentence twice\n",
    "\n",
    "# 원하는 (p)태그들을 모두 가져온다.\n",
    "data = soup.find_all('p')\n",
    "\n",
    "for item in data:  #find_all()로 추출하면 for문으로 다룰 수 있음\n",
    "\t print(item.string)   "
   ]
  },
  {
   "cell_type": "code",
   "execution_count": null,
   "metadata": {},
   "outputs": [],
   "source": [
    "    # span 태그에 class 속성 부분을 추출하고 싶다면?\n",
    "# data = soup.find_all('span', attrs={\"class\":\"ca-txt-cpt\"})\n",
    "# for item in data:\n",
    "#     print(item.get_text())"
   ]
  },
  {
   "cell_type": "code",
   "execution_count": 75,
   "metadata": {},
   "outputs": [
    {
     "name": "stdout",
     "output_type": "stream",
     "text": [
      "\n"
     ]
    }
   ],
   "source": [
    "# 타켓 대상의 부모 태그를 find로 찾은 후, 자식 태그들을 find_all로 추출\n",
    "import requests\n",
    "from bs4 import BeautifulSoup\n",
    "res = requests.get(\"https://www.consumeraffairs.com/education/online-courses/coursera.html?page=2#scroll_to_reviews=true\")\n",
    "soup = BeautifulSoup(res.content, 'html.parser') \n",
    "section = soup.find('ul', id=\"id명\")\n",
    "titles = section.find_all(\"li\", \"li명\")\n",
    "for title in titles:\n",
    "    print(title.get_text())"
   ]
  },
  {
   "cell_type": "markdown",
   "metadata": {},
   "source": [
    "### Crawling one page with selenium library. "
   ]
  },
  {
   "cell_type": "code",
   "execution_count": 23,
   "metadata": {},
   "outputs": [],
   "source": [
    "from selenium import webdriver\n",
    "from bs4 import BeautifulSoup as bs"
   ]
  },
  {
   "cell_type": "code",
   "execution_count": 24,
   "metadata": {},
   "outputs": [],
   "source": [
    "driver=webdriver.Chrome('chromedriver.exe')"
   ]
  },
  {
   "cell_type": "code",
   "execution_count": 27,
   "metadata": {},
   "outputs": [],
   "source": [
    "#driver.get() 을 쓰면서 페이지를 이동하면서 원하는 태그들을 가져오는 것임\n",
    "bs_url= \"https://www.consumeraffairs.com/education/online-courses/coursera.html?page=2#scroll_to_reviews=true\"\n",
    "\n",
    "res = driver.get(bs_url)\n",
    "res"
   ]
  },
  {
   "cell_type": "code",
   "execution_count": 28,
   "metadata": {},
   "outputs": [
    {
     "ename": "AttributeError",
     "evalue": "'NoneType' object has no attribute 'text'",
     "output_type": "error",
     "traceback": [
      "\u001b[1;31m---------------------------------------------------------------------------\u001b[0m",
      "\u001b[1;31mAttributeError\u001b[0m                            Traceback (most recent call last)",
      "\u001b[1;32m<ipython-input-28-32c5d2b4fd4f>\u001b[0m in \u001b[0;36m<module>\u001b[1;34m\u001b[0m\n\u001b[1;32m----> 1\u001b[1;33m \u001b[0msoup\u001b[0m \u001b[1;33m=\u001b[0m \u001b[0mbs\u001b[0m\u001b[1;33m(\u001b[0m\u001b[0mres\u001b[0m\u001b[1;33m.\u001b[0m\u001b[0mtext\u001b[0m\u001b[1;33m,\u001b[0m \u001b[1;34m'html.parser'\u001b[0m\u001b[1;33m)\u001b[0m\u001b[1;33m\u001b[0m\u001b[1;33m\u001b[0m\u001b[0m\n\u001b[0m",
      "\u001b[1;31mAttributeError\u001b[0m: 'NoneType' object has no attribute 'text'"
     ]
    }
   ],
   "source": [
    "soup = bs(res.text, 'html.parser')"
   ]
  },
  {
   "cell_type": "code",
   "execution_count": null,
   "metadata": {},
   "outputs": [],
   "source": []
  }
 ],
 "metadata": {
  "kernelspec": {
   "display_name": "Python 3",
   "language": "python",
   "name": "python3"
  },
  "language_info": {
   "codemirror_mode": {
    "name": "ipython",
    "version": 3
   },
   "file_extension": ".py",
   "mimetype": "text/x-python",
   "name": "python",
   "nbconvert_exporter": "python",
   "pygments_lexer": "ipython3",
   "version": "3.8.5"
  }
 },
 "nbformat": 4,
 "nbformat_minor": 4
}
