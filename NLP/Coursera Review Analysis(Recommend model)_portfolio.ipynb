{
 "cells": [
  {
   "cell_type": "markdown",
   "metadata": {
    "id": "0Q6RiEAxhw0l"
   },
   "source": [
    "<img src = \"https://drive.google.com/uc?id=1yCymrlge8a_0LflEdjil9GBaYmSoP4O0\" height = 80 width = 150>\n",
    "\n",
    "# Coursera Review\n",
    "\n",
    "## What is Coursera?\n",
    "Coursera is an online learning platform that allows you to take online education courses. These courses come with the opportunity to earn degrees from leading universities and companies.\n",
    "\n",
    "## Is Coursera Really Worth It?\n",
    "- If students recommend Coursera online learning, they leave positive comments and high rating(4-5 label).While if students are not satisfied with the Coursera online learning, they leaves negative comments and low rating(1-2 label).\n",
    "\n",
    "- In this notebook, the sentiment of reviews is binary, meaning the review rating <=2 results in a sentiment score of 0, and rating >=4 have a sentiment score of 1. \n",
    "\n",
    "- Dataset: 100K+ Scraped Course Reviews from the Coursera Website (As of May 2017)"
   ]
  },
  {
   "cell_type": "code",
   "execution_count": 2,
   "metadata": {
    "colab": {
     "base_uri": "https://localhost:8080/",
     "height": 424
    },
    "executionInfo": {
     "elapsed": 1053,
     "status": "ok",
     "timestamp": 1649728269938,
     "user": {
      "displayName": "Genie 2.0",
      "userId": "07530860561424093054"
     },
     "user_tz": -540
    },
    "id": "dXjT3aPJG3Nv",
    "outputId": "42d1a8bd-4432-4430-f3aa-65690d436797"
   },
   "outputs": [
    {
     "data": {
      "text/html": [
       "<div>\n",
       "<style scoped>\n",
       "    .dataframe tbody tr th:only-of-type {\n",
       "        vertical-align: middle;\n",
       "    }\n",
       "\n",
       "    .dataframe tbody tr th {\n",
       "        vertical-align: top;\n",
       "    }\n",
       "\n",
       "    .dataframe thead th {\n",
       "        text-align: right;\n",
       "    }\n",
       "</style>\n",
       "<table border=\"1\" class=\"dataframe\">\n",
       "  <thead>\n",
       "    <tr style=\"text-align: right;\">\n",
       "      <th></th>\n",
       "      <th>Review</th>\n",
       "      <th>Label</th>\n",
       "    </tr>\n",
       "  </thead>\n",
       "  <tbody>\n",
       "    <tr>\n",
       "      <th>0</th>\n",
       "      <td>good and interesting</td>\n",
       "      <td>5</td>\n",
       "    </tr>\n",
       "    <tr>\n",
       "      <th>1</th>\n",
       "      <td>This class is very helpful to me. Currently, I...</td>\n",
       "      <td>5</td>\n",
       "    </tr>\n",
       "    <tr>\n",
       "      <th>2</th>\n",
       "      <td>like!Prof and TAs are helpful and the discussi...</td>\n",
       "      <td>5</td>\n",
       "    </tr>\n",
       "    <tr>\n",
       "      <th>3</th>\n",
       "      <td>Easy to follow and includes a lot basic and im...</td>\n",
       "      <td>5</td>\n",
       "    </tr>\n",
       "    <tr>\n",
       "      <th>4</th>\n",
       "      <td>Really nice teacher!I could got the point eazl...</td>\n",
       "      <td>4</td>\n",
       "    </tr>\n",
       "    <tr>\n",
       "      <th>...</th>\n",
       "      <td>...</td>\n",
       "      <td>...</td>\n",
       "    </tr>\n",
       "    <tr>\n",
       "      <th>107013</th>\n",
       "      <td>Trendy topic with talks from expertises in the...</td>\n",
       "      <td>4</td>\n",
       "    </tr>\n",
       "    <tr>\n",
       "      <th>107014</th>\n",
       "      <td>Wonderful! Simple and clear language, good ins...</td>\n",
       "      <td>5</td>\n",
       "    </tr>\n",
       "    <tr>\n",
       "      <th>107015</th>\n",
       "      <td>an interesting and fun course. thanks. dr quincy</td>\n",
       "      <td>5</td>\n",
       "    </tr>\n",
       "    <tr>\n",
       "      <th>107016</th>\n",
       "      <td>very broad perspective, up to date information...</td>\n",
       "      <td>4</td>\n",
       "    </tr>\n",
       "    <tr>\n",
       "      <th>107017</th>\n",
       "      <td>An informative course on the social and financ...</td>\n",
       "      <td>4</td>\n",
       "    </tr>\n",
       "  </tbody>\n",
       "</table>\n",
       "<p>107018 rows × 2 columns</p>\n",
       "</div>"
      ],
      "text/plain": [
       "                                                   Review  Label\n",
       "0                                    good and interesting      5\n",
       "1       This class is very helpful to me. Currently, I...      5\n",
       "2       like!Prof and TAs are helpful and the discussi...      5\n",
       "3       Easy to follow and includes a lot basic and im...      5\n",
       "4       Really nice teacher!I could got the point eazl...      4\n",
       "...                                                   ...    ...\n",
       "107013  Trendy topic with talks from expertises in the...      4\n",
       "107014  Wonderful! Simple and clear language, good ins...      5\n",
       "107015   an interesting and fun course. thanks. dr quincy      5\n",
       "107016  very broad perspective, up to date information...      4\n",
       "107017  An informative course on the social and financ...      4\n",
       "\n",
       "[107018 rows x 2 columns]"
      ]
     },
     "execution_count": 2,
     "metadata": {},
     "output_type": "execute_result"
    }
   ],
   "source": [
    "import numpy as np\n",
    "import pandas as pd\n",
    "dataset = pd.read_csv('reviews.csv')\n",
    "dataset.drop(columns=\"Id\", inplace=True)\n",
    "dataset"
   ]
  },
  {
   "cell_type": "code",
   "execution_count": 3,
   "metadata": {
    "colab": {
     "base_uri": "https://localhost:8080/",
     "height": 424
    },
    "id": "Q5fZ_lipHE7C",
    "outputId": "a39c1255-116c-4596-9d35-d9bac54c0df2"
   },
   "outputs": [
    {
     "data": {
      "text/html": [
       "<div>\n",
       "<style scoped>\n",
       "    .dataframe tbody tr th:only-of-type {\n",
       "        vertical-align: middle;\n",
       "    }\n",
       "\n",
       "    .dataframe tbody tr th {\n",
       "        vertical-align: top;\n",
       "    }\n",
       "\n",
       "    .dataframe thead th {\n",
       "        text-align: right;\n",
       "    }\n",
       "</style>\n",
       "<table border=\"1\" class=\"dataframe\">\n",
       "  <thead>\n",
       "    <tr style=\"text-align: right;\">\n",
       "      <th></th>\n",
       "      <th>Review</th>\n",
       "      <th>Label</th>\n",
       "    </tr>\n",
       "  </thead>\n",
       "  <tbody>\n",
       "    <tr>\n",
       "      <th>0</th>\n",
       "      <td>good and interesting</td>\n",
       "      <td>5</td>\n",
       "    </tr>\n",
       "    <tr>\n",
       "      <th>1</th>\n",
       "      <td>This class is very helpful to me. Currently, I...</td>\n",
       "      <td>5</td>\n",
       "    </tr>\n",
       "    <tr>\n",
       "      <th>2</th>\n",
       "      <td>like!Prof and TAs are helpful and the discussi...</td>\n",
       "      <td>5</td>\n",
       "    </tr>\n",
       "    <tr>\n",
       "      <th>3</th>\n",
       "      <td>Easy to follow and includes a lot basic and im...</td>\n",
       "      <td>5</td>\n",
       "    </tr>\n",
       "    <tr>\n",
       "      <th>4</th>\n",
       "      <td>Really nice teacher!I could got the point eazl...</td>\n",
       "      <td>4</td>\n",
       "    </tr>\n",
       "    <tr>\n",
       "      <th>...</th>\n",
       "      <td>...</td>\n",
       "      <td>...</td>\n",
       "    </tr>\n",
       "    <tr>\n",
       "      <th>100467</th>\n",
       "      <td>Trendy topic with talks from expertises in the...</td>\n",
       "      <td>4</td>\n",
       "    </tr>\n",
       "    <tr>\n",
       "      <th>100468</th>\n",
       "      <td>Wonderful! Simple and clear language, good ins...</td>\n",
       "      <td>5</td>\n",
       "    </tr>\n",
       "    <tr>\n",
       "      <th>100469</th>\n",
       "      <td>an interesting and fun course. thanks. dr quincy</td>\n",
       "      <td>5</td>\n",
       "    </tr>\n",
       "    <tr>\n",
       "      <th>100470</th>\n",
       "      <td>very broad perspective, up to date information...</td>\n",
       "      <td>4</td>\n",
       "    </tr>\n",
       "    <tr>\n",
       "      <th>100471</th>\n",
       "      <td>An informative course on the social and financ...</td>\n",
       "      <td>4</td>\n",
       "    </tr>\n",
       "  </tbody>\n",
       "</table>\n",
       "<p>100472 rows × 2 columns</p>\n",
       "</div>"
      ],
      "text/plain": [
       "                                                   Review  Label\n",
       "0                                    good and interesting      5\n",
       "1       This class is very helpful to me. Currently, I...      5\n",
       "2       like!Prof and TAs are helpful and the discussi...      5\n",
       "3       Easy to follow and includes a lot basic and im...      5\n",
       "4       Really nice teacher!I could got the point eazl...      4\n",
       "...                                                   ...    ...\n",
       "100467  Trendy topic with talks from expertises in the...      4\n",
       "100468  Wonderful! Simple and clear language, good ins...      5\n",
       "100469   an interesting and fun course. thanks. dr quincy      5\n",
       "100470  very broad perspective, up to date information...      4\n",
       "100471  An informative course on the social and financ...      4\n",
       "\n",
       "[100472 rows x 2 columns]"
      ]
     },
     "execution_count": 3,
     "metadata": {},
     "output_type": "execute_result"
    }
   ],
   "source": [
    "dataset = dataset.drop_duplicates(ignore_index=True)\n",
    "dataset"
   ]
  },
  {
   "cell_type": "code",
   "execution_count": 4,
   "metadata": {
    "colab": {
     "base_uri": "https://localhost:8080/",
     "height": 283
    },
    "id": "cT2rrAOwHt_u",
    "outputId": "575a5ea7-973a-4b72-8b4b-62b5eabe3734"
   },
   "outputs": [
    {
     "data": {
      "text/plain": [
       "<AxesSubplot:>"
      ]
     },
     "execution_count": 4,
     "metadata": {},
     "output_type": "execute_result"
    },
    {
     "data": {
      "image/png": "[encoded data removed]",
      "text/plain": [
       "<Figure size 432x288 with 1 Axes>"
      ]
     },
     "metadata": {
      "needs_background": "light"
     },
     "output_type": "display_data"
    }
   ],
   "source": [
    "dataset['Label'].hist()"
   ]
  },
  {
   "cell_type": "code",
   "execution_count": 5,
   "metadata": {
    "colab": {
     "base_uri": "https://localhost:8080/"
    },
    "id": "W8jWCwmeHvBI",
    "outputId": "f753918e-3a2d-4e98-e867-564ba7a2cb26"
   },
   "outputs": [
    {
     "data": {
      "text/plain": [
       "5    73276\n",
       "4    17558\n",
       "3     5016\n",
       "1     2403\n",
       "2     2219\n",
       "Name: Label, dtype: int64"
      ]
     },
     "execution_count": 5,
     "metadata": {},
     "output_type": "execute_result"
    }
   ],
   "source": [
    "dataset['Label'].value_counts()"
   ]
  },
  {
   "cell_type": "code",
   "execution_count": 6,
   "metadata": {
    "id": "HD7MFybnHwKS"
   },
   "outputs": [],
   "source": [
    "# 어중간한 3점 삭제해 버리기\n",
    "rating_3 = dataset[dataset['Label']==3].index\n",
    "del_3 = dataset.drop(rating_3)\n",
    "dataset=del_3"
   ]
  },
  {
   "cell_type": "code",
   "execution_count": 7,
   "metadata": {
    "colab": {
     "base_uri": "https://localhost:8080/"
    },
    "id": "sSE_RnnTHw8O",
    "outputId": "bd44f26b-7391-4e1a-c49d-16a5ecdeced1"
   },
   "outputs": [
    {
     "data": {
      "text/plain": [
       "5    73276\n",
       "4    17558\n",
       "1     2403\n",
       "2     2219\n",
       "Name: Label, dtype: int64"
      ]
     },
     "execution_count": 7,
     "metadata": {},
     "output_type": "execute_result"
    }
   ],
   "source": [
    "dataset['Label'].value_counts()"
   ]
  },
  {
   "cell_type": "code",
   "execution_count": 8,
   "metadata": {
    "colab": {
     "base_uri": "https://localhost:8080/"
    },
    "id": "hL0cmYWNHyQ9",
    "outputId": "8a8bf13d-3679-4f6e-a6ac-dcbb4a185af4"
   },
   "outputs": [
    {
     "data": {
      "text/plain": [
       "4    2508\n",
       "1    2403\n",
       "2    2219\n",
       "5    2093\n",
       "Name: Label, dtype: int64"
      ]
     },
     "execution_count": 8,
     "metadata": {},
     "output_type": "execute_result"
    }
   ],
   "source": [
    "# 현재 4~5점(긍정)에 데이터가 너무 많음\n",
    "#1~2점(부정)과 4~5점(긍정) 데이터 비율을 맞춰주기\n",
    "def reduce_size(x):\n",
    "    if len(x.index) > 70000:\n",
    "        return x.sample(n=int(len(x.index)/35)) #70000/2200\n",
    "    elif len(x.index) > 17000:\n",
    "        return x.sample(n=int(len(x.index)/7)) #17000/2200\n",
    "    else:\n",
    "        return x\n",
    "\n",
    "dataset = dataset.groupby('Label').apply(reduce_size).reset_index(drop=True)\n",
    "dataset['Label'].value_counts()\n",
    "\n",
    "# 4~5점 = 4601 / 1~2점 = 4622"
   ]
  },
  {
   "cell_type": "code",
   "execution_count": 9,
   "metadata": {
    "colab": {
     "base_uri": "https://localhost:8080/"
    },
    "id": "Hfh7tNeKHzaY",
    "outputId": "28a805c9-f8f4-43cb-c710-f641cfa942a4"
   },
   "outputs": [
    {
     "data": {
      "text/plain": [
       "(9223, 2)"
      ]
     },
     "execution_count": 9,
     "metadata": {},
     "output_type": "execute_result"
    }
   ],
   "source": [
    "dataset.shape"
   ]
  },
  {
   "cell_type": "code",
   "execution_count": 10,
   "metadata": {
    "colab": {
     "base_uri": "https://localhost:8080/",
     "height": 424
    },
    "id": "PE8cKenanUj4",
    "outputId": "7ed23256-c804-4b14-968c-7662218ae22b"
   },
   "outputs": [
    {
     "data": {
      "text/html": [
       "<div>\n",
       "<style scoped>\n",
       "    .dataframe tbody tr th:only-of-type {\n",
       "        vertical-align: middle;\n",
       "    }\n",
       "\n",
       "    .dataframe tbody tr th {\n",
       "        vertical-align: top;\n",
       "    }\n",
       "\n",
       "    .dataframe thead th {\n",
       "        text-align: right;\n",
       "    }\n",
       "</style>\n",
       "<table border=\"1\" class=\"dataframe\">\n",
       "  <thead>\n",
       "    <tr style=\"text-align: right;\">\n",
       "      <th></th>\n",
       "      <th>Review</th>\n",
       "      <th>Label</th>\n",
       "    </tr>\n",
       "  </thead>\n",
       "  <tbody>\n",
       "    <tr>\n",
       "      <th>0</th>\n",
       "      <td>This course doesn't contain any new informatio...</td>\n",
       "      <td>1</td>\n",
       "    </tr>\n",
       "    <tr>\n",
       "      <th>1</th>\n",
       "      <td>I do not find very interesting this course. to...</td>\n",
       "      <td>1</td>\n",
       "    </tr>\n",
       "    <tr>\n",
       "      <th>2</th>\n",
       "      <td>A lot of speaking without any sense. Skip it a...</td>\n",
       "      <td>1</td>\n",
       "    </tr>\n",
       "    <tr>\n",
       "      <th>3</th>\n",
       "      <td>It's not a course... this is a very short gene...</td>\n",
       "      <td>1</td>\n",
       "    </tr>\n",
       "    <tr>\n",
       "      <th>4</th>\n",
       "      <td>First of all, I really enjoyed Professor Ittne...</td>\n",
       "      <td>1</td>\n",
       "    </tr>\n",
       "    <tr>\n",
       "      <th>...</th>\n",
       "      <td>...</td>\n",
       "      <td>...</td>\n",
       "    </tr>\n",
       "    <tr>\n",
       "      <th>9218</th>\n",
       "      <td>very good course!</td>\n",
       "      <td>5</td>\n",
       "    </tr>\n",
       "    <tr>\n",
       "      <th>9219</th>\n",
       "      <td>The course becomes More and More deep and inte...</td>\n",
       "      <td>5</td>\n",
       "    </tr>\n",
       "    <tr>\n",
       "      <th>9220</th>\n",
       "      <td>The best thing that I've taken on Coursera so ...</td>\n",
       "      <td>5</td>\n",
       "    </tr>\n",
       "    <tr>\n",
       "      <th>9221</th>\n",
       "      <td>This is a dynamic, interesting course. It gets...</td>\n",
       "      <td>5</td>\n",
       "    </tr>\n",
       "    <tr>\n",
       "      <th>9222</th>\n",
       "      <td>excellent tutorial , lecture are short and inf...</td>\n",
       "      <td>5</td>\n",
       "    </tr>\n",
       "  </tbody>\n",
       "</table>\n",
       "<p>9223 rows × 2 columns</p>\n",
       "</div>"
      ],
      "text/plain": [
       "                                                 Review  Label\n",
       "0     This course doesn't contain any new informatio...      1\n",
       "1     I do not find very interesting this course. to...      1\n",
       "2     A lot of speaking without any sense. Skip it a...      1\n",
       "3     It's not a course... this is a very short gene...      1\n",
       "4     First of all, I really enjoyed Professor Ittne...      1\n",
       "...                                                 ...    ...\n",
       "9218                                  very good course!      5\n",
       "9219  The course becomes More and More deep and inte...      5\n",
       "9220  The best thing that I've taken on Coursera so ...      5\n",
       "9221  This is a dynamic, interesting course. It gets...      5\n",
       "9222  excellent tutorial , lecture are short and inf...      5\n",
       "\n",
       "[9223 rows x 2 columns]"
      ]
     },
     "execution_count": 10,
     "metadata": {},
     "output_type": "execute_result"
    }
   ],
   "source": [
    "dataset"
   ]
  },
  {
   "cell_type": "code",
   "execution_count": 11,
   "metadata": {
    "id": "-pOMoABJH4d0"
   },
   "outputs": [],
   "source": [
    "#replace has a default arg inplace=False. \n",
    "#Thus, your results will not affect each other and you will have to combine them into dataset['label']=dataset['label'].replace([1,2,4,5],[0,0,1,1]) or \n",
    "#dataset['label'].replace([1,2,4,5],[0,0,1,1],inplace=True)\n",
    "\n",
    "dataset['Label']=dataset['Label'].replace([1,2,4,5],[0,0,1,1])"
   ]
  },
  {
   "cell_type": "code",
   "execution_count": 12,
   "metadata": {
    "colab": {
     "base_uri": "https://localhost:8080/"
    },
    "id": "HEwb94geOb5Z",
    "outputId": "cea1d189-08b8-4bdf-a8d7-8ba1113d8e8a"
   },
   "outputs": [
    {
     "data": {
      "text/plain": [
       "0    4622\n",
       "1    4601\n",
       "Name: Label, dtype: int64"
      ]
     },
     "execution_count": 12,
     "metadata": {},
     "output_type": "execute_result"
    }
   ],
   "source": [
    "dataset['Label'].value_counts()"
   ]
  },
  {
   "cell_type": "code",
   "execution_count": 13,
   "metadata": {
    "id": "iXO9y2ZPH0ir"
   },
   "outputs": [],
   "source": [
    "# Ready to split 'train set' and  'test set'\n",
    "X = dataset['Review']\n",
    "y = dataset['Label']"
   ]
  },
  {
   "cell_type": "code",
   "execution_count": 14,
   "metadata": {
    "colab": {
     "base_uri": "https://localhost:8080/"
    },
    "id": "mdGstNf3H1ks",
    "outputId": "cdfdd56e-1e10-4314-f707-318b5f4e73f3"
   },
   "outputs": [
    {
     "name": "stdout",
     "output_type": "stream",
     "text": [
      "X_train shape: (4611,)\n",
      "X_test shape: (4612,)\n",
      "y_train shape: (4611,)\n",
      "y_test shape: (4612,)\n"
     ]
    }
   ],
   "source": [
    "from sklearn.model_selection import train_test_split\n",
    "\n",
    "X_train, X_test, y_train, y_test = train_test_split(X,  y,  test_size=0.5,shuffle=True,  random_state=1004)\n",
    "             \n",
    "print('X_train shape:', X_train.shape)\n",
    "\n",
    "print('X_test shape:', X_test.shape)\n",
    "\n",
    "print('y_train shape:', y_train.shape)\n",
    "\n",
    "print('y_test shape:', y_test.shape)"
   ]
  },
  {
   "cell_type": "code",
   "execution_count": 15,
   "metadata": {
    "colab": {
     "base_uri": "https://localhost:8080/"
    },
    "id": "KlFPQlynzIR4",
    "outputId": "17916d64-f750-4731-c806-f25bfac6ede0"
   },
   "outputs": [
    {
     "name": "stdout",
     "output_type": "stream",
     "text": [
      "<class 'pandas.core.series.Series'>\n",
      "<class 'pandas.core.series.Series'>\n"
     ]
    }
   ],
   "source": [
    "print(type(y_train))\n",
    "print(type(X_test))"
   ]
  },
  {
   "cell_type": "code",
   "execution_count": 16,
   "metadata": {
    "colab": {
     "base_uri": "https://localhost:8080/"
    },
    "id": "7akPgRdWH2SI",
    "outputId": "daad23e1-bb5d-4107-bd9f-d137e908a8ce"
   },
   "outputs": [
    {
     "name": "stdout",
     "output_type": "stream",
     "text": [
      "train set: 0    2313\n",
      "1    2298\n",
      "Name: Label, dtype: int64\n",
      "----------------------------\n",
      "test set: 0    2309\n",
      "1    2303\n",
      "Name: Label, dtype: int64\n"
     ]
    }
   ],
   "source": [
    "# train과 test의 데이터에 각 점수들이 반반씩 잘 분포 되었음.\n",
    "print('train set:', y_train.value_counts())\n",
    "print('----------------------------')\n",
    "print('test set:', y_test.value_counts())"
   ]
  },
  {
   "cell_type": "code",
   "execution_count": 17,
   "metadata": {
    "colab": {
     "base_uri": "https://localhost:8080/"
    },
    "id": "dwcgmY0jH7AY",
    "outputId": "9dd781cb-0265-4e57-a0e1-f754e7aef016"
   },
   "outputs": [
    {
     "data": {
      "text/plain": [
       "1519    The Lecturers are very enthusiastic, but I was...\n",
       "2501    Beware this course, especially if you are new ...\n",
       "8896    Thank you, Andrew! The course is really great....\n",
       "6753    i don't no spanish and video is in Spanish. i ...\n",
       "7326                                  good course for all\n",
       "                              ...                        \n",
       "2740    The value of this course is the collection of ...\n",
       "9055    This course is one of the best ones I've ever ...\n",
       "8206    It's a very complete and comprehensive course....\n",
       "8391                                    good for learning\n",
       "4127    By the end of the course, you do start to deve...\n",
       "Name: Review, Length: 4611, dtype: object"
      ]
     },
     "execution_count": 17,
     "metadata": {},
     "output_type": "execute_result"
    }
   ],
   "source": [
    "X_train"
   ]
  },
  {
   "cell_type": "code",
   "execution_count": 18,
   "metadata": {
    "colab": {
     "base_uri": "https://localhost:8080/"
    },
    "id": "QxUQENVGH8QU",
    "outputId": "fa6b7933-a12a-4896-eb40-edf106725324"
   },
   "outputs": [
    {
     "data": {
      "text/plain": [
       "5942    Well crafted, but the number of questions coul...\n",
       "1456    Very bad course too fast is not an introductio...\n",
       "7128    The presenter is very confident and extremely ...\n",
       "5831    Wonderfully designed course. Great insights ab...\n",
       "7466    Very useful information about google cloud fun...\n",
       "                              ...                        \n",
       "5638    Material was tough, some of the questions were...\n",
       "3380    This instructor reads of a script! He rushes t...\n",
       "3200    Basically not much content. The guest speaker ...\n",
       "2075    Beware - will make you upgrade to complete qui...\n",
       "3624    I do like the course, but Coursera has disable...\n",
       "Name: Review, Length: 4612, dtype: object"
      ]
     },
     "execution_count": 18,
     "metadata": {},
     "output_type": "execute_result"
    }
   ],
   "source": [
    "X_test"
   ]
  },
  {
   "cell_type": "code",
   "execution_count": 19,
   "metadata": {
    "colab": {
     "base_uri": "https://localhost:8080/"
    },
    "id": "c6yqd83KH-4t",
    "outputId": "ca9b3642-2686-45dd-d82a-2b20c3757acd"
   },
   "outputs": [
    {
     "name": "stdout",
     "output_type": "stream",
     "text": [
      "                                                 Review  Label\n",
      "1519  The Lecturers are very enthusiastic, but I was...      0\n",
      "2501  Beware this course, especially if you are new ...      0\n",
      "8896  Thank you, Andrew! The course is really great....      1\n",
      "6753  i don't no spanish and video is in Spanish. i ...      1\n",
      "7326                                good course for all      1\n",
      "...                                                 ...    ...\n",
      "2740  The value of this course is the collection of ...      0\n",
      "9055  This course is one of the best ones I've ever ...      1\n",
      "8206  It's a very complete and comprehensive course....      1\n",
      "8391                                  good for learning      1\n",
      "4127  By the end of the course, you do start to deve...      0\n",
      "\n",
      "[4611 rows x 2 columns]\n"
     ]
    }
   ],
   "source": [
    "# concat()함수>> df와 series에 다 적용가능\n",
    "train_set = pd.concat([X_train, y_train], axis = 1)\n",
    "print(train_set)"
   ]
  },
  {
   "cell_type": "code",
   "execution_count": 20,
   "metadata": {
    "colab": {
     "base_uri": "https://localhost:8080/",
     "height": 300
    },
    "id": "-edkDx-US3Kc",
    "outputId": "800b0429-060f-4e24-8c97-5b4bc1973b82"
   },
   "outputs": [
    {
     "data": {
      "text/html": [
       "<div>\n",
       "<style scoped>\n",
       "    .dataframe tbody tr th:only-of-type {\n",
       "        vertical-align: middle;\n",
       "    }\n",
       "\n",
       "    .dataframe tbody tr th {\n",
       "        vertical-align: top;\n",
       "    }\n",
       "\n",
       "    .dataframe thead th {\n",
       "        text-align: right;\n",
       "    }\n",
       "</style>\n",
       "<table border=\"1\" class=\"dataframe\">\n",
       "  <thead>\n",
       "    <tr style=\"text-align: right;\">\n",
       "      <th></th>\n",
       "      <th>Review</th>\n",
       "      <th>Label</th>\n",
       "    </tr>\n",
       "  </thead>\n",
       "  <tbody>\n",
       "    <tr>\n",
       "      <th>1519</th>\n",
       "      <td>The Lecturers are very enthusiastic, but I was...</td>\n",
       "      <td>0</td>\n",
       "    </tr>\n",
       "    <tr>\n",
       "      <th>2501</th>\n",
       "      <td>Beware this course, especially if you are new ...</td>\n",
       "      <td>0</td>\n",
       "    </tr>\n",
       "    <tr>\n",
       "      <th>8896</th>\n",
       "      <td>Thank you, Andrew! The course is really great....</td>\n",
       "      <td>1</td>\n",
       "    </tr>\n",
       "    <tr>\n",
       "      <th>6753</th>\n",
       "      <td>i don't no spanish and video is in Spanish. i ...</td>\n",
       "      <td>1</td>\n",
       "    </tr>\n",
       "    <tr>\n",
       "      <th>7326</th>\n",
       "      <td>good course for all</td>\n",
       "      <td>1</td>\n",
       "    </tr>\n",
       "    <tr>\n",
       "      <th>4991</th>\n",
       "      <td>Sound quality could be improved in video. It k...</td>\n",
       "      <td>1</td>\n",
       "    </tr>\n",
       "    <tr>\n",
       "      <th>495</th>\n",
       "      <td>I think there are only few contents.</td>\n",
       "      <td>0</td>\n",
       "    </tr>\n",
       "    <tr>\n",
       "      <th>1724</th>\n",
       "      <td>Excellent teaching, but it's not actually free...</td>\n",
       "      <td>0</td>\n",
       "    </tr>\n",
       "  </tbody>\n",
       "</table>\n",
       "</div>"
      ],
      "text/plain": [
       "                                                 Review  Label\n",
       "1519  The Lecturers are very enthusiastic, but I was...      0\n",
       "2501  Beware this course, especially if you are new ...      0\n",
       "8896  Thank you, Andrew! The course is really great....      1\n",
       "6753  i don't no spanish and video is in Spanish. i ...      1\n",
       "7326                                good course for all      1\n",
       "4991  Sound quality could be improved in video. It k...      1\n",
       "495                I think there are only few contents.      0\n",
       "1724  Excellent teaching, but it's not actually free...      0"
      ]
     },
     "execution_count": 20,
     "metadata": {},
     "output_type": "execute_result"
    }
   ],
   "source": [
    "train_set.head(8)"
   ]
  },
  {
   "cell_type": "code",
   "execution_count": 21,
   "metadata": {
    "colab": {
     "base_uri": "https://localhost:8080/",
     "height": 35
    },
    "id": "1L6p_28fRtwm",
    "outputId": "1dd35ed7-c10b-45ff-b8f1-4bd11940b1c8"
   },
   "outputs": [
    {
     "data": {
      "text/plain": [
       "'The Capstone project has been getting delayed since JanDont expect yourself to complete the specialization'"
      ]
     },
     "execution_count": 21,
     "metadata": {},
     "output_type": "execute_result"
    }
   ],
   "source": [
    "train_set['Review'][7]"
   ]
  },
  {
   "cell_type": "code",
   "execution_count": 22,
   "metadata": {
    "colab": {
     "base_uri": "https://localhost:8080/",
     "height": 421
    },
    "id": "DYPyTfyMH_7O",
    "outputId": "e1ef01ce-e46e-42f6-c302-7ab3e1e856fd"
   },
   "outputs": [
    {
     "name": "stdout",
     "output_type": "stream",
     "text": [
      "1519    The Lecturers are very enthusiastic, but I was...\n",
      "2501    Beware this course, especially if you are new ...\n",
      "8896    Thank you, Andrew! The course is really great....\n",
      "6753    i don't no spanish and video is in Spanish. i ...\n",
      "7326                                  good course for all\n",
      "4991    Sound quality could be improved in video. It k...\n",
      "495                  I think there are only few contents.\n",
      "1724    Excellent teaching, but it's not actually free...\n",
      "4835    The course content was presented at steady pac...\n",
      "2986    Too basic. Should give an example on how these...\n",
      "6853    Very good introductory course that embraces a ...\n",
      "1909    Instructor doesn't seem to be passionate about...\n",
      "1625    Pretty bad as far as I am conerned. I spent tw...\n",
      "8229    I have recently started and can see all benefi...\n",
      "4745    Actually the course goes great, just a cuople ...\n",
      "531     I'm sorely disappointed. I learned almost noth...\n",
      "1493    Poor quality and heavily outdated content. Vid...\n",
      "5724    This course was very useful in understanding p...\n",
      "5104    This course was well organized, although it wa...\n",
      "4183    The content and the speed that they teach you ...\n",
      "Name: Review, dtype: object\n"
     ]
    },
    {
     "data": {
      "text/plain": [
       "'The Capsto'"
      ]
     },
     "execution_count": 22,
     "metadata": {},
     "output_type": "execute_result"
    }
   ],
   "source": [
    "from bs4 import BeautifulSoup\n",
    "\n",
    "example1 = BeautifulSoup(train_set['Review'][7], \"html5lib\") # <br>태그 같은 거를 삭제\n",
    "print(train_set['Review'][:20])\n",
    "\n",
    "\n",
    "example1.get_text()[:10]"
   ]
  },
  {
   "cell_type": "code",
   "execution_count": 23,
   "metadata": {
    "colab": {
     "base_uri": "https://localhost:8080/",
     "height": 35
    },
    "id": "FPbU4hdlIA0M",
    "outputId": "f461851b-8f72-4fb9-e821-811299944b62"
   },
   "outputs": [
    {
     "data": {
      "text/plain": [
       "'The Capsto'"
      ]
     },
     "execution_count": 23,
     "metadata": {},
     "output_type": "execute_result"
    }
   ],
   "source": [
    "import re\n",
    "letters_only= re.sub('[^a-zA-Z]', ' ', example1.get_text())\n",
    "letters_only[:10]"
   ]
  },
  {
   "cell_type": "code",
   "execution_count": 24,
   "metadata": {
    "id": "vbpNKdUeIBq7"
   },
   "outputs": [],
   "source": [
    "# making lower case\n",
    "lower_case = letters_only.lower()\n",
    "# lower_case = letters_only['Review'].str.lower()      # Q str?"
   ]
  },
  {
   "cell_type": "code",
   "execution_count": 25,
   "metadata": {
    "colab": {
     "base_uri": "https://localhost:8080/"
    },
    "id": "rHmuYyKIIDS6",
    "outputId": "887c91ee-66fb-476c-d73e-44079249ed0f"
   },
   "outputs": [
    {
     "name": "stdout",
     "output_type": "stream",
     "text": [
      "15\n"
     ]
    },
    {
     "data": {
      "text/plain": [
       "['the',\n",
       " 'capstone',\n",
       " 'project',\n",
       " 'has',\n",
       " 'been',\n",
       " 'getting',\n",
       " 'delayed',\n",
       " 'since',\n",
       " 'jandont',\n",
       " 'expect']"
      ]
     },
     "execution_count": 25,
     "metadata": {},
     "output_type": "execute_result"
    }
   ],
   "source": [
    "# Tokenizing\n",
    "words = lower_case.split()\n",
    "print(len(words))\n",
    "words[:10]"
   ]
  },
  {
   "cell_type": "code",
   "execution_count": 26,
   "metadata": {
    "colab": {
     "base_uri": "https://localhost:8080/"
    },
    "id": "VCjxGGNEpDtQ",
    "outputId": "0660307f-dcea-4b38-e2e2-5d3aa9544afe"
   },
   "outputs": [
    {
     "name": "stderr",
     "output_type": "stream",
     "text": [
      "[nltk_data] Downloading package stopwords to\n",
      "[nltk_data]     C:\\Users\\dell\\AppData\\Roaming\\nltk_data...\n",
      "[nltk_data]   Package stopwords is already up-to-date!\n",
      "[nltk_data] Downloading package wordnet to\n",
      "[nltk_data]     C:\\Users\\dell\\AppData\\Roaming\\nltk_data...\n",
      "[nltk_data]   Package wordnet is already up-to-date!\n"
     ]
    },
    {
     "data": {
      "text/plain": [
       "True"
      ]
     },
     "execution_count": 26,
     "metadata": {},
     "output_type": "execute_result"
    }
   ],
   "source": [
    "# Download for preprocessing the text\n",
    "import nltk\n",
    "nltk.download('stopwords')   # from nltk.corpus import stopwords를 위한 resource\n",
    "nltk.download('wordnet') # from nltk.stem import WordNetLemmatizer를 위한 resource"
   ]
  },
  {
   "cell_type": "code",
   "execution_count": 27,
   "metadata": {
    "colab": {
     "base_uri": "https://localhost:8080/"
    },
    "id": "FwE9zEW3pFoE",
    "outputId": "c30a7361-df2b-44a6-9f1e-9d483d1e5544"
   },
   "outputs": [
    {
     "data": {
      "text/plain": [
       "['i',\n",
       " 'me',\n",
       " 'my',\n",
       " 'myself',\n",
       " 'we',\n",
       " 'our',\n",
       " 'ours',\n",
       " 'ourselves',\n",
       " 'you',\n",
       " \"you're\",\n",
       " \"you've\",\n",
       " \"you'll\",\n",
       " \"you'd\",\n",
       " 'your',\n",
       " 'yours',\n",
       " 'yourself',\n",
       " 'yourselves',\n",
       " 'he',\n",
       " 'him',\n",
       " 'his']"
      ]
     },
     "execution_count": 27,
     "metadata": {},
     "output_type": "execute_result"
    }
   ],
   "source": [
    "from nltk.corpus import stopwords\n",
    "stopwords.words('english')[:20]"
   ]
  },
  {
   "cell_type": "markdown",
   "metadata": {
    "id": "DJSWbZp8xmRn"
   },
   "source": [
    "### Stopwords"
   ]
  },
  {
   "cell_type": "code",
   "execution_count": 28,
   "metadata": {
    "colab": {
     "base_uri": "https://localhost:8080/"
    },
    "id": "sIL5hU2spINg",
    "outputId": "1526c28c-e1b6-4824-b060-6ae14c1df616"
   },
   "outputs": [
    {
     "name": "stdout",
     "output_type": "stream",
     "text": [
      "9\n"
     ]
    },
    {
     "data": {
      "text/plain": [
       "['capstone',\n",
       " 'project',\n",
       " 'getting',\n",
       " 'delayed',\n",
       " 'since',\n",
       " 'jandont',\n",
       " 'expect',\n",
       " 'complete',\n",
       " 'specialization']"
      ]
     },
     "execution_count": 28,
     "metadata": {},
     "output_type": "execute_result"
    }
   ],
   "source": [
    "# Tokens exceot for stopwords \n",
    "words = [w for w in words if not w in stopwords.words('english')]\n",
    "print(len(words))\n",
    "words[:10]"
   ]
  },
  {
   "cell_type": "markdown",
   "metadata": {
    "id": "-Io7tJj9P8O6"
   },
   "source": [
    "## SnowballStemmer\n",
    "\n",
    "`print(\"The stemmed form of studying is: {}\".format(stemmer.stem(\"studying\")))`  \n",
    "`print(\"The stemmed form of studies is: {}\".format(stemmer.stem(\"studies\")))`  \n",
    "`print(\"The stemmed form of study is: {}\".format(stemmer.stem(\"study\")))`  \n",
    "\n",
    ">The stemmed form of studying is: studi  \n",
    ">The stemmed form of studies is: studi  \n",
    ">The stemmed form of study is: studi  "
   ]
  },
  {
   "cell_type": "code",
   "execution_count": 29,
   "metadata": {
    "colab": {
     "base_uri": "https://localhost:8080/",
     "height": 193
    },
    "id": "EL82rIoiNv9-",
    "outputId": "0ae9017f-5692-4685-f4b4-8881a9553268"
   },
   "outputs": [
    {
     "data": {
      "text/plain": [
       "['capstone',\n",
       " 'project',\n",
       " 'getting',\n",
       " 'delayed',\n",
       " 'since',\n",
       " 'jandont',\n",
       " 'expect',\n",
       " 'complete',\n",
       " 'specialization']"
      ]
     },
     "execution_count": 29,
     "metadata": {},
     "output_type": "execute_result"
    }
   ],
   "source": [
    "# Before stemmer\n",
    "words[:30]"
   ]
  },
  {
   "cell_type": "code",
   "execution_count": 30,
   "metadata": {
    "colab": {
     "base_uri": "https://localhost:8080/",
     "height": 248
    },
    "id": "es_vbWqfpJ5t",
    "outputId": "fb0fe198-a18a-49a8-d0fb-bd352f217f19"
   },
   "outputs": [
    {
     "data": {
      "text/plain": [
       "['capstone',\n",
       " 'project',\n",
       " 'getting',\n",
       " 'delayed',\n",
       " 'since',\n",
       " 'jandont',\n",
       " 'expect',\n",
       " 'complete',\n",
       " 'specialization']"
      ]
     },
     "execution_count": 30,
     "metadata": {},
     "output_type": "execute_result"
    }
   ],
   "source": [
    "from nltk.stem.snowball import SnowballStemmer\n",
    "\n",
    "stemmer = SnowballStemmer('english')\n",
    "\n",
    "wordss = [stemmer.stem(w) for w in words]\n",
    "# After stemmer\n",
    "words[:10]"
   ]
  },
  {
   "cell_type": "code",
   "execution_count": 31,
   "metadata": {
    "id": "_fa4bhylpLgH"
   },
   "outputs": [
    {
     "data": {
      "text/plain": [
       "['capstone',\n",
       " 'project',\n",
       " 'getting',\n",
       " 'delayed',\n",
       " 'since',\n",
       " 'jandont',\n",
       " 'expect',\n",
       " 'complete',\n",
       " 'specialization']"
      ]
     },
     "execution_count": 31,
     "metadata": {},
     "output_type": "execute_result"
    }
   ],
   "source": [
    "from nltk.stem import WordNetLemmatizer\n",
    "wordnet_lemmatizer = WordNetLemmatizer()\n",
    "\n",
    "words = [wordnet_lemmatizer.lemmatize(w) for w in words]\n",
    "# 처리 후 단어\n",
    "words[:10]"
   ]
  },
  {
   "cell_type": "code",
   "execution_count": 32,
   "metadata": {
    "id": "4eNrG-FTpNSQ"
   },
   "outputs": [],
   "source": [
    "def review_to_words(raw_review ):\n",
    "    # 1. HTML 제거\n",
    "    review_text = BeautifulSoup(raw_review, 'html.parser').get_text()\n",
    "    # 2. 영문자가 아닌 문자는 공백으로 변환\n",
    "    letters_only = re.sub('[^a-zA-Z]', ' ', review_text)\n",
    "    # 3. 소문자 변환\n",
    "    words = letters_only.lower().split()\n",
    "    # 4. 파이썬에서는 리스트보다 세트로 찾는게 훨씬 빠르다.\n",
    "    # stopwords 를 세트로 변환한다.\n",
    "    stops = set(stopwords.words('english'))\n",
    "    # 5. Stopwords 불용어 제거\n",
    "    meaningful_words = [w for w in words if not w in stops]\n",
    "    # 6. 어간추출\n",
    "    stemming_words = [stemmer.stem(w) for w in meaningful_words]\n",
    "    # 7. 공백으로 구분된 문자열로 결합하여 결과를 반환\n",
    "    return( ' '.join(stemming_words) )"
   ]
  },
  {
   "cell_type": "code",
   "execution_count": 33,
   "metadata": {
    "id": "PiHiDzLipPIM"
   },
   "outputs": [],
   "source": [
    "from multiprocessing import Pool\n",
    "import numpy as np\n",
    "\n",
    "def _apply_df(args):\n",
    "    df, func, kwargs = args\n",
    "    return df.apply(func, **kwargs)\n",
    "\n",
    "def apply_by_multiprocessing(df, func, **kwargs):\n",
    "    # 키워드 항목 중 workers 파라메터를 꺼냄\n",
    "    workers = kwargs.pop('workers')\n",
    "    # 위에서 가져온 workers 수로 프로세스 풀을 정의\n",
    "    pool = Pool(processes=workers)\n",
    "    # 실행할 함수와 데이터프레임을 워커의 수 만큼 나눠 작업\n",
    "    result = pool.map(_apply_df, [(d, func, kwargs)\n",
    "            for d in np.array_split(df, workers)])\n",
    "    pool.close()\n",
    "    # 작업 결과를 합쳐서 반환\n",
    "    return pd.concat(list(result))"
   ]
  },
  {
   "cell_type": "code",
   "execution_count": null,
   "metadata": {
    "id": "C1IwL7YJpRS6"
   },
   "outputs": [],
   "source": [
    "%time clean_train_reviews = apply_by_multiprocessing(\\\n",
    "    train_set['Review'], review_to_words, workers=4)  "
   ]
  },
  {
   "cell_type": "code",
   "execution_count": null,
   "metadata": {
    "id": "VYFaYxQtrzAs"
   },
   "outputs": [],
   "source": [
    "clean_train_reviews"
   ]
  },
  {
   "cell_type": "code",
   "execution_count": null,
   "metadata": {
    "id": "MIXtUgqaQ3h_"
   },
   "outputs": [],
   "source": [
    "%time clean_test_reviews = apply_by_multiprocessing(\\\n",
    "   X_test, review_to_words, workers=4)  "
   ]
  },
  {
   "cell_type": "code",
   "execution_count": null,
   "metadata": {
    "colab": {
     "base_uri": "https://localhost:8080/"
    },
    "id": "z_vY2m36pTZI",
    "outputId": "ef4eee43-f966-4815-e897-23637a712524"
   },
   "outputs": [],
   "source": [
    "from sklearn.feature_extraction.text import CountVectorizer\n",
    "\n",
    "vectorizer = CountVectorizer(analyzer = 'word', \n",
    "                             tokenizer = None,\n",
    "                             preprocessor = None, \n",
    "                             stop_words = None, \n",
    "                             min_df = 2, # 토큰이 나타날 최소 문서 개수\n",
    "                             ngram_range=(1, 3),\n",
    "                             max_features = 20000\n",
    "                            )\n",
    "vectorizer #파라미터가 잘 적용됐는지 찍어보기.자주찍어보는게 좋다. "
   ]
  },
  {
   "cell_type": "markdown",
   "metadata": {
    "id": "A-MmUCRo5o2D"
   },
   "source": [
    "### Pipeline\n",
    "- Now we will create a training pipeline. A pipeline is used to combine multiple steps of feature engineering. In sklearn, we can use the Pipeline class to connect two models.  \n",
    "- One possible pipeline design is to first use CountVectorizer to encode words into numbers, and then directly pass the encoded numbers as input to the NaiveBayes model for training. \n",
    "\n",
    "[Example]  \n",
    "\n",
    "from sklearn.feature_extraction.text import CountVectorizer  \n",
    "pipeline = Pipeline([  \n",
    "    ('word_encoder', CountVectorizer(analyzer=preprocess)),  \n",
    "    ('classifier', BernoulliNB())  \n",
    "])  \n",
    "  \n",
    "pipeline.fit(train_feature, train_label)  \n",
    "  \n",
    "\n",
    "https://deepinsight.tistory.com/173"
   ]
  },
  {
   "cell_type": "code",
   "execution_count": null,
   "metadata": {
    "colab": {
     "base_uri": "https://localhost:8080/",
     "height": 229
    },
    "id": "a7WygmMopVmB",
    "outputId": "a9841a45-9968-483c-be50-8c6f660c0153"
   },
   "outputs": [],
   "source": [
    "# 여기에서는 하나의 과정만 묶어주어 pipeline이 불필요 할 수도 있습니다.\n",
    "\n",
    "from sklearn.pipeline import Pipeline\n",
    "\n",
    "pipeline = Pipeline([\n",
    "    ('vect', vectorizer),\n",
    "])  "
   ]
  },
  {
   "cell_type": "code",
   "execution_count": null,
   "metadata": {
    "colab": {
     "base_uri": "https://localhost:8080/"
    },
    "id": "ehK3-lSdpXVx",
    "outputId": "0e96dab1-ddbe-48df-cbf8-67a2a9f885dc"
   },
   "outputs": [],
   "source": [
    "'''\n",
    "CountVectorizer는 여러 메소드 목록을 제공하고 있습니다.\n",
    "메소드 중에서 fit_transform 을 하면  term-document matrix 를 반환하는 것을 볼 수 있습니다.\n",
    "파이프라인으로 fit_transform을 해주게 되는데 해당 과정의 결과로 피처의 목록과 등장여부를 알 수 있습니다.\n",
    "'''\n",
    "%time train_data_features = pipeline.fit_transform(clean_train_reviews)\n",
    "train_data_features"
   ]
  },
  {
   "cell_type": "code",
   "execution_count": null,
   "metadata": {
    "colab": {
     "base_uri": "https://localhost:8080/"
    },
    "id": "0dJkhVSqpZfo",
    "outputId": "3ca5b55f-6d51-4478-ac81-cefaf041e72c"
   },
   "outputs": [
    {
     "data": {
      "text/plain": [
       "(4611, 14118)"
      ]
     },
     "execution_count": 196,
     "metadata": {},
     "output_type": "execute_result"
    }
   ],
   "source": [
    "# vectorize를 한 결과 \n",
    "train_data_features.shape"
   ]
  },
  {
   "cell_type": "code",
   "execution_count": null,
   "metadata": {
    "colab": {
     "base_uri": "https://localhost:8080/"
    },
    "id": "wevNpsJUpab-",
    "outputId": "0fafba3d-2269-43b2-cefa-609f4387da8a"
   },
   "outputs": [],
   "source": [
    "vocab = vectorizer.get_feature_names()\n",
    "print(len(vocab))\n",
    "vocab[:10]"
   ]
  },
  {
   "cell_type": "code",
   "execution_count": null,
   "metadata": {
    "colab": {
     "base_uri": "https://localhost:8080/",
     "height": 190
    },
    "id": "uuObyZlapcMT",
    "outputId": "ee479a3d-1757-486c-f6ca-9851426ce296"
   },
   "outputs": [
    {
     "name": "stdout",
     "output_type": "stream",
     "text": [
      "[[ 8 26  2 ...  3  2  3]] abandon\n"
     ]
    },
    {
     "data": {
      "text/html": [
       "\n",
       "  <div id=\"df-2f3538b2-c3e9-40f1-80af-18aa1d5344af\">\n",
       "    <div class=\"colab-df-container\">\n",
       "      <div>\n",
       "<style scoped>\n",
       "    .dataframe tbody tr th:only-of-type {\n",
       "        vertical-align: middle;\n",
       "    }\n",
       "\n",
       "    .dataframe tbody tr th {\n",
       "        vertical-align: top;\n",
       "    }\n",
       "\n",
       "    .dataframe thead th {\n",
       "        text-align: right;\n",
       "    }\n",
       "</style>\n",
       "<table border=\"1\" class=\"dataframe\">\n",
       "  <thead>\n",
       "    <tr style=\"text-align: right;\">\n",
       "      <th></th>\n",
       "      <th>abandon</th>\n",
       "      <th>abil</th>\n",
       "      <th>abil appli</th>\n",
       "      <th>abil make</th>\n",
       "      <th>abil without</th>\n",
       "      <th>abl</th>\n",
       "      <th>abl appli</th>\n",
       "      <th>abl audit</th>\n",
       "      <th>abl complet</th>\n",
       "      <th>abl complet assign</th>\n",
       "      <th>...</th>\n",
       "      <th>youtub com</th>\n",
       "      <th>youtub com watch</th>\n",
       "      <th>youtub video</th>\n",
       "      <th>zero</th>\n",
       "      <th>zero experi</th>\n",
       "      <th>zero interact</th>\n",
       "      <th>zero littl</th>\n",
       "      <th>zero star</th>\n",
       "      <th>zip</th>\n",
       "      <th>zizozi</th>\n",
       "    </tr>\n",
       "  </thead>\n",
       "  <tbody>\n",
       "    <tr>\n",
       "      <th>0</th>\n",
       "      <td>8</td>\n",
       "      <td>26</td>\n",
       "      <td>2</td>\n",
       "      <td>2</td>\n",
       "      <td>2</td>\n",
       "      <td>104</td>\n",
       "      <td>3</td>\n",
       "      <td>2</td>\n",
       "      <td>10</td>\n",
       "      <td>2</td>\n",
       "      <td>...</td>\n",
       "      <td>3</td>\n",
       "      <td>3</td>\n",
       "      <td>4</td>\n",
       "      <td>27</td>\n",
       "      <td>3</td>\n",
       "      <td>2</td>\n",
       "      <td>2</td>\n",
       "      <td>3</td>\n",
       "      <td>2</td>\n",
       "      <td>3</td>\n",
       "    </tr>\n",
       "  </tbody>\n",
       "</table>\n",
       "<p>1 rows × 14118 columns</p>\n",
       "</div>\n",
       "      <button class=\"colab-df-convert\" onclick=\"convertToInteractive('df-2f3538b2-c3e9-40f1-80af-18aa1d5344af')\"\n",
       "              title=\"Convert this dataframe to an interactive table.\"\n",
       "              style=\"display:none;\">\n",
       "        \n",
       "  <svg xmlns=\"http://www.w3.org/2000/svg\" height=\"24px\"viewBox=\"0 0 24 24\"\n",
       "       width=\"24px\">\n",
       "    <path d=\"M0 0h24v24H0V0z\" fill=\"none\"/>\n",
       "    <path d=\"M18.56 5.44l.94 2.06.94-2.06 2.06-.94-2.06-.94-.94-2.06-.94 2.06-2.06.94zm-11 1L8.5 8.5l.94-2.06 2.06-.94-2.06-.94L8.5 2.5l-.94 2.06-2.06.94zm10 10l.94 2.06.94-2.06 2.06-.94-2.06-.94-.94-2.06-.94 2.06-2.06.94z\"/><path d=\"M17.41 7.96l-1.37-1.37c-.4-.4-.92-.59-1.43-.59-.52 0-1.04.2-1.43.59L10.3 9.45l-7.72 7.72c-.78.78-.78 2.05 0 2.83L4 21.41c.39.39.9.59 1.41.59.51 0 1.02-.2 1.41-.59l7.78-7.78 2.81-2.81c.8-.78.8-2.07 0-2.86zM5.41 20L4 18.59l7.72-7.72 1.47 1.35L5.41 20z\"/>\n",
       "  </svg>\n",
       "      </button>\n",
       "      \n",
       "  <style>\n",
       "    .colab-df-container {\n",
       "      display:flex;\n",
       "      flex-wrap:wrap;\n",
       "      gap: 12px;\n",
       "    }\n",
       "\n",
       "    .colab-df-convert {\n",
       "      background-color: #E8F0FE;\n",
       "      border: none;\n",
       "      border-radius: 50%;\n",
       "      cursor: pointer;\n",
       "      display: none;\n",
       "      fill: #1967D2;\n",
       "      height: 32px;\n",
       "      padding: 0 0 0 0;\n",
       "      width: 32px;\n",
       "    }\n",
       "\n",
       "    .colab-df-convert:hover {\n",
       "      background-color: #E2EBFA;\n",
       "      box-shadow: 0px 1px 2px rgba(60, 64, 67, 0.3), 0px 1px 3px 1px rgba(60, 64, 67, 0.15);\n",
       "      fill: #174EA6;\n",
       "    }\n",
       "\n",
       "    [theme=dark] .colab-df-convert {\n",
       "      background-color: #3B4455;\n",
       "      fill: #D2E3FC;\n",
       "    }\n",
       "\n",
       "    [theme=dark] .colab-df-convert:hover {\n",
       "      background-color: #434B5C;\n",
       "      box-shadow: 0px 1px 3px 1px rgba(0, 0, 0, 0.15);\n",
       "      filter: drop-shadow(0px 1px 2px rgba(0, 0, 0, 0.3));\n",
       "      fill: #FFFFFF;\n",
       "    }\n",
       "  </style>\n",
       "\n",
       "      <script>\n",
       "        const buttonEl =\n",
       "          document.querySelector('#df-2f3538b2-c3e9-40f1-80af-18aa1d5344af button.colab-df-convert');\n",
       "        buttonEl.style.display =\n",
       "          google.colab.kernel.accessAllowed ? 'block' : 'none';\n",
       "\n",
       "        async function convertToInteractive(key) {\n",
       "          const element = document.querySelector('#df-2f3538b2-c3e9-40f1-80af-18aa1d5344af');\n",
       "          const dataTable =\n",
       "            await google.colab.kernel.invokeFunction('convertToInteractive',\n",
       "                                                     [key], {});\n",
       "          if (!dataTable) return;\n",
       "\n",
       "          const docLinkHtml = 'Like what you see? Visit the ' +\n",
       "            '<a target=\"_blank\" href=https://colab.research.google.com/notebooks/data_table.ipynb>data table notebook</a>'\n",
       "            + ' to learn more about interactive tables.';\n",
       "          element.innerHTML = '';\n",
       "          dataTable['output_type'] = 'display_data';\n",
       "          await google.colab.output.renderOutput(dataTable, element);\n",
       "          const docLink = document.createElement('div');\n",
       "          docLink.innerHTML = docLinkHtml;\n",
       "          element.appendChild(docLink);\n",
       "        }\n",
       "      </script>\n",
       "    </div>\n",
       "  </div>\n",
       "  "
      ],
      "text/plain": [
       "   abandon  abil  abil appli  abil make  abil without  abl  abl appli  \\\n",
       "0        8    26           2          2             2  104          3   \n",
       "\n",
       "   abl audit  abl complet  abl complet assign  ...  youtub com  \\\n",
       "0          2           10                   2  ...           3   \n",
       "\n",
       "   youtub com watch  youtub video  zero  zero experi  zero interact  \\\n",
       "0                 3             4    27            3              2   \n",
       "\n",
       "   zero littl  zero star  zip  zizozi  \n",
       "0           2          3    2       3  \n",
       "\n",
       "[1 rows x 14118 columns]"
      ]
     },
     "execution_count": 198,
     "metadata": {},
     "output_type": "execute_result"
    }
   ],
   "source": [
    "# 벡터화 된 피처를 확인해 봄\n",
    "import numpy as np\n",
    "dist = np.sum(train_data_features, axis=0)\n",
    "    \n",
    "for tag, count in zip(vocab, dist):\n",
    "    print(count, tag)\n",
    "    \n",
    "pd.DataFrame(dist, columns=vocab)"
   ]
  },
  {
   "cell_type": "code",
   "execution_count": null,
   "metadata": {
    "colab": {
     "base_uri": "https://localhost:8080/",
     "height": 297
    },
    "id": "XWFxutl8pdsj",
    "outputId": "5398ce0d-1012-427b-cf63-f2a90beea2a7"
   },
   "outputs": [
    {
     "data": {
      "text/html": [
       "\n",
       "  <div id=\"df-dc6a9629-90d9-45eb-b75d-249fe94d6ef5\">\n",
       "    <div class=\"colab-df-container\">\n",
       "      <div>\n",
       "<style scoped>\n",
       "    .dataframe tbody tr th:only-of-type {\n",
       "        vertical-align: middle;\n",
       "    }\n",
       "\n",
       "    .dataframe tbody tr th {\n",
       "        vertical-align: top;\n",
       "    }\n",
       "\n",
       "    .dataframe thead th {\n",
       "        text-align: right;\n",
       "    }\n",
       "</style>\n",
       "<table border=\"1\" class=\"dataframe\">\n",
       "  <thead>\n",
       "    <tr style=\"text-align: right;\">\n",
       "      <th></th>\n",
       "      <th>abandon</th>\n",
       "      <th>abil</th>\n",
       "      <th>abil appli</th>\n",
       "      <th>abil make</th>\n",
       "      <th>abil without</th>\n",
       "      <th>abl</th>\n",
       "      <th>abl appli</th>\n",
       "      <th>abl audit</th>\n",
       "      <th>abl complet</th>\n",
       "      <th>abl complet assign</th>\n",
       "      <th>...</th>\n",
       "      <th>youtub com</th>\n",
       "      <th>youtub com watch</th>\n",
       "      <th>youtub video</th>\n",
       "      <th>zero</th>\n",
       "      <th>zero experi</th>\n",
       "      <th>zero interact</th>\n",
       "      <th>zero littl</th>\n",
       "      <th>zero star</th>\n",
       "      <th>zip</th>\n",
       "      <th>zizozi</th>\n",
       "    </tr>\n",
       "  </thead>\n",
       "  <tbody>\n",
       "    <tr>\n",
       "      <th>0</th>\n",
       "      <td>0</td>\n",
       "      <td>0</td>\n",
       "      <td>0</td>\n",
       "      <td>0</td>\n",
       "      <td>0</td>\n",
       "      <td>0</td>\n",
       "      <td>0</td>\n",
       "      <td>0</td>\n",
       "      <td>0</td>\n",
       "      <td>0</td>\n",
       "      <td>...</td>\n",
       "      <td>0</td>\n",
       "      <td>0</td>\n",
       "      <td>0</td>\n",
       "      <td>0</td>\n",
       "      <td>0</td>\n",
       "      <td>0</td>\n",
       "      <td>0</td>\n",
       "      <td>0</td>\n",
       "      <td>0</td>\n",
       "      <td>0</td>\n",
       "    </tr>\n",
       "    <tr>\n",
       "      <th>1</th>\n",
       "      <td>0</td>\n",
       "      <td>0</td>\n",
       "      <td>0</td>\n",
       "      <td>0</td>\n",
       "      <td>0</td>\n",
       "      <td>0</td>\n",
       "      <td>0</td>\n",
       "      <td>0</td>\n",
       "      <td>0</td>\n",
       "      <td>0</td>\n",
       "      <td>...</td>\n",
       "      <td>0</td>\n",
       "      <td>0</td>\n",
       "      <td>0</td>\n",
       "      <td>0</td>\n",
       "      <td>0</td>\n",
       "      <td>0</td>\n",
       "      <td>0</td>\n",
       "      <td>0</td>\n",
       "      <td>0</td>\n",
       "      <td>0</td>\n",
       "    </tr>\n",
       "    <tr>\n",
       "      <th>2</th>\n",
       "      <td>0</td>\n",
       "      <td>0</td>\n",
       "      <td>0</td>\n",
       "      <td>0</td>\n",
       "      <td>0</td>\n",
       "      <td>0</td>\n",
       "      <td>0</td>\n",
       "      <td>0</td>\n",
       "      <td>0</td>\n",
       "      <td>0</td>\n",
       "      <td>...</td>\n",
       "      <td>0</td>\n",
       "      <td>0</td>\n",
       "      <td>0</td>\n",
       "      <td>0</td>\n",
       "      <td>0</td>\n",
       "      <td>0</td>\n",
       "      <td>0</td>\n",
       "      <td>0</td>\n",
       "      <td>0</td>\n",
       "      <td>0</td>\n",
       "    </tr>\n",
       "    <tr>\n",
       "      <th>3</th>\n",
       "      <td>0</td>\n",
       "      <td>0</td>\n",
       "      <td>0</td>\n",
       "      <td>0</td>\n",
       "      <td>0</td>\n",
       "      <td>0</td>\n",
       "      <td>0</td>\n",
       "      <td>0</td>\n",
       "      <td>0</td>\n",
       "      <td>0</td>\n",
       "      <td>...</td>\n",
       "      <td>0</td>\n",
       "      <td>0</td>\n",
       "      <td>0</td>\n",
       "      <td>0</td>\n",
       "      <td>0</td>\n",
       "      <td>0</td>\n",
       "      <td>0</td>\n",
       "      <td>0</td>\n",
       "      <td>0</td>\n",
       "      <td>0</td>\n",
       "    </tr>\n",
       "    <tr>\n",
       "      <th>4</th>\n",
       "      <td>0</td>\n",
       "      <td>0</td>\n",
       "      <td>0</td>\n",
       "      <td>0</td>\n",
       "      <td>0</td>\n",
       "      <td>0</td>\n",
       "      <td>0</td>\n",
       "      <td>0</td>\n",
       "      <td>0</td>\n",
       "      <td>0</td>\n",
       "      <td>...</td>\n",
       "      <td>0</td>\n",
       "      <td>0</td>\n",
       "      <td>0</td>\n",
       "      <td>0</td>\n",
       "      <td>0</td>\n",
       "      <td>0</td>\n",
       "      <td>0</td>\n",
       "      <td>0</td>\n",
       "      <td>0</td>\n",
       "      <td>0</td>\n",
       "    </tr>\n",
       "  </tbody>\n",
       "</table>\n",
       "<p>5 rows × 14118 columns</p>\n",
       "</div>\n",
       "      <button class=\"colab-df-convert\" onclick=\"convertToInteractive('df-dc6a9629-90d9-45eb-b75d-249fe94d6ef5')\"\n",
       "              title=\"Convert this dataframe to an interactive table.\"\n",
       "              style=\"display:none;\">\n",
       "        \n",
       "  <svg xmlns=\"http://www.w3.org/2000/svg\" height=\"24px\"viewBox=\"0 0 24 24\"\n",
       "       width=\"24px\">\n",
       "    <path d=\"M0 0h24v24H0V0z\" fill=\"none\"/>\n",
       "    <path d=\"M18.56 5.44l.94 2.06.94-2.06 2.06-.94-2.06-.94-.94-2.06-.94 2.06-2.06.94zm-11 1L8.5 8.5l.94-2.06 2.06-.94-2.06-.94L8.5 2.5l-.94 2.06-2.06.94zm10 10l.94 2.06.94-2.06 2.06-.94-2.06-.94-.94-2.06-.94 2.06-2.06.94z\"/><path d=\"M17.41 7.96l-1.37-1.37c-.4-.4-.92-.59-1.43-.59-.52 0-1.04.2-1.43.59L10.3 9.45l-7.72 7.72c-.78.78-.78 2.05 0 2.83L4 21.41c.39.39.9.59 1.41.59.51 0 1.02-.2 1.41-.59l7.78-7.78 2.81-2.81c.8-.78.8-2.07 0-2.86zM5.41 20L4 18.59l7.72-7.72 1.47 1.35L5.41 20z\"/>\n",
       "  </svg>\n",
       "      </button>\n",
       "      \n",
       "  <style>\n",
       "    .colab-df-container {\n",
       "      display:flex;\n",
       "      flex-wrap:wrap;\n",
       "      gap: 12px;\n",
       "    }\n",
       "\n",
       "    .colab-df-convert {\n",
       "      background-color: #E8F0FE;\n",
       "      border: none;\n",
       "      border-radius: 50%;\n",
       "      cursor: pointer;\n",
       "      display: none;\n",
       "      fill: #1967D2;\n",
       "      height: 32px;\n",
       "      padding: 0 0 0 0;\n",
       "      width: 32px;\n",
       "    }\n",
       "\n",
       "    .colab-df-convert:hover {\n",
       "      background-color: #E2EBFA;\n",
       "      box-shadow: 0px 1px 2px rgba(60, 64, 67, 0.3), 0px 1px 3px 1px rgba(60, 64, 67, 0.15);\n",
       "      fill: #174EA6;\n",
       "    }\n",
       "\n",
       "    [theme=dark] .colab-df-convert {\n",
       "      background-color: #3B4455;\n",
       "      fill: #D2E3FC;\n",
       "    }\n",
       "\n",
       "    [theme=dark] .colab-df-convert:hover {\n",
       "      background-color: #434B5C;\n",
       "      box-shadow: 0px 1px 3px 1px rgba(0, 0, 0, 0.15);\n",
       "      filter: drop-shadow(0px 1px 2px rgba(0, 0, 0, 0.3));\n",
       "      fill: #FFFFFF;\n",
       "    }\n",
       "  </style>\n",
       "\n",
       "      <script>\n",
       "        const buttonEl =\n",
       "          document.querySelector('#df-dc6a9629-90d9-45eb-b75d-249fe94d6ef5 button.colab-df-convert');\n",
       "        buttonEl.style.display =\n",
       "          google.colab.kernel.accessAllowed ? 'block' : 'none';\n",
       "\n",
       "        async function convertToInteractive(key) {\n",
       "          const element = document.querySelector('#df-dc6a9629-90d9-45eb-b75d-249fe94d6ef5');\n",
       "          const dataTable =\n",
       "            await google.colab.kernel.invokeFunction('convertToInteractive',\n",
       "                                                     [key], {});\n",
       "          if (!dataTable) return;\n",
       "\n",
       "          const docLinkHtml = 'Like what you see? Visit the ' +\n",
       "            '<a target=\"_blank\" href=https://colab.research.google.com/notebooks/data_table.ipynb>data table notebook</a>'\n",
       "            + ' to learn more about interactive tables.';\n",
       "          element.innerHTML = '';\n",
       "          dataTable['output_type'] = 'display_data';\n",
       "          await google.colab.output.renderOutput(dataTable, element);\n",
       "          const docLink = document.createElement('div');\n",
       "          docLink.innerHTML = docLinkHtml;\n",
       "          element.appendChild(docLink);\n",
       "        }\n",
       "      </script>\n",
       "    </div>\n",
       "  </div>\n",
       "  "
      ],
      "text/plain": [
       "   abandon  abil  abil appli  abil make  abil without  abl  abl appli  \\\n",
       "0        0     0           0          0             0    0          0   \n",
       "1        0     0           0          0             0    0          0   \n",
       "2        0     0           0          0             0    0          0   \n",
       "3        0     0           0          0             0    0          0   \n",
       "4        0     0           0          0             0    0          0   \n",
       "\n",
       "   abl audit  abl complet  abl complet assign  ...  youtub com  \\\n",
       "0          0            0                   0  ...           0   \n",
       "1          0            0                   0  ...           0   \n",
       "2          0            0                   0  ...           0   \n",
       "3          0            0                   0  ...           0   \n",
       "4          0            0                   0  ...           0   \n",
       "\n",
       "   youtub com watch  youtub video  zero  zero experi  zero interact  \\\n",
       "0                 0             0     0            0              0   \n",
       "1                 0             0     0            0              0   \n",
       "2                 0             0     0            0              0   \n",
       "3                 0             0     0            0              0   \n",
       "4                 0             0     0            0              0   \n",
       "\n",
       "   zero littl  zero star  zip  zizozi  \n",
       "0           0          0    0       0  \n",
       "1           0          0    0       0  \n",
       "2           0          0    0       0  \n",
       "3           0          0    0       0  \n",
       "4           0          0    0       0  \n",
       "\n",
       "[5 rows x 14118 columns]"
      ]
     },
     "execution_count": 199,
     "metadata": {},
     "output_type": "execute_result"
    }
   ],
   "source": [
    "pd.DataFrame(train_data_features[:10].toarray(), columns=vocab).head()"
   ]
  },
  {
   "cell_type": "code",
   "execution_count": null,
   "metadata": {
    "colab": {
     "base_uri": "https://localhost:8080/"
    },
    "id": "F82m3Ctvpe5L",
    "outputId": "d95d9ecf-3b67-4eec-d69c-e3f08700db53"
   },
   "outputs": [
    {
     "data": {
      "text/plain": [
       "RandomForestClassifier(n_jobs=-1, random_state=2018)"
      ]
     },
     "execution_count": 200,
     "metadata": {},
     "output_type": "execute_result"
    }
   ],
   "source": [
    "from sklearn.ensemble import RandomForestClassifier\n",
    "\n",
    "# 랜덤포레스트 분류기를 사용\n",
    "# 100개의 트리\n",
    "model = RandomForestClassifier(n_estimators = 100, n_jobs = -1, random_state=2018)\n",
    "model"
   ]
  },
  {
   "cell_type": "code",
   "execution_count": null,
   "metadata": {
    "colab": {
     "base_uri": "https://localhost:8080/"
    },
    "id": "4rBQQUvfDMYI",
    "outputId": "f95b3b18-e23b-4003-96a3-76d6f0716e44"
   },
   "outputs": [
    {
     "name": "stdout",
     "output_type": "stream",
     "text": [
      "CPU times: user 7.29 s, sys: 32.9 ms, total: 7.32 s\n",
      "Wall time: 3.87 s\n"
     ]
    }
   ],
   "source": [
    " # model.fit(X_train, y_train)  #모델 학습\n",
    "# 위에서 X = dataset['Review'], y = dataset['Label'] 으로 해주고 x_train, y_train_split() 했으니까, y_train으로(dataset['Label']이 아니고)\n",
    "\n",
    "%time model = model.fit(train_data_features, y_train)\n",
    "\n",
    "# pred = model.predict(X_test)"
   ]
  },
  {
   "cell_type": "code",
   "execution_count": null,
   "metadata": {
    "colab": {
     "base_uri": "https://localhost:8080/"
    },
    "id": "AGZ5_pabT-23",
    "outputId": "58bb0463-0dfc-4b21-dcbc-6be7929f18ca"
   },
   "outputs": [
    {
     "name": "stdout",
     "output_type": "stream",
     "text": [
      "CPU times: user 4.9 s, sys: 537 ms, total: 5.44 s\n",
      "Wall time: 42.8 s\n"
     ]
    },
    {
     "data": {
      "text/plain": [
       "0.9090910878565139"
      ]
     },
     "execution_count": 202,
     "metadata": {},
     "output_type": "execute_result"
    }
   ],
   "source": [
    "from sklearn.model_selection import cross_val_score\n",
    "%time score = np.mean(cross_val_score(model, train_data_features, train_set['Label'], cv=10, scoring='roc_auc'))\n",
    "score\n"
   ]
  },
  {
   "cell_type": "markdown",
   "metadata": {
    "id": "qbCW6qwnDTnV"
   },
   "source": [
    "## Prediction"
   ]
  },
  {
   "cell_type": "code",
   "execution_count": null,
   "metadata": {
    "id": "nD1zrwR0ph5H"
   },
   "outputs": [],
   "source": [
    "# 체크해 보고 싶은 Review(string)를 Series에 담아준다.\n",
    "# reveiw_sample1 = \"I don't like to spend money to bad lecture, but Cousera MOOC is really helpful to upgrade my understanding of U.S history.\"\n",
    "\n",
    "reveiw_sample1 = \"I have nothing but good things to say about my experience with Coursera. I have loved the learning I have been able to do and look forward to taking many more classes with them. I have always been interested in Psychology and Coursera has given me the chance to take the classes that really interest me. I don't understand the reviews with low ratings. I have never had any problems with them. \"\n",
    "sample1 = pd.Series(reveiw_sample1)"
   ]
  },
  {
   "cell_type": "code",
   "execution_count": null,
   "metadata": {
    "colab": {
     "base_uri": "https://localhost:8080/"
    },
    "id": "rlCjl13Xpo90",
    "outputId": "774c72cd-22e3-4b23-b72f-bc29eaa60965"
   },
   "outputs": [
    {
     "name": "stdout",
     "output_type": "stream",
     "text": [
      "CPU times: user 2.09 ms, sys: 15 µs, total: 2.11 ms\n",
      "Wall time: 7.74 ms\n"
     ]
    }
   ],
   "source": [
    "# 테스트 데이터를 벡터화 함\n",
    "%time test_data_feature = pipeline.transform(sample1)\n",
    "\n",
    "test_data_feature = test_data_feature.toarray()"
   ]
  },
  {
   "cell_type": "code",
   "execution_count": null,
   "metadata": {
    "colab": {
     "base_uri": "https://localhost:8080/"
    },
    "id": "lDWvPXbRqV39",
    "outputId": "5e806a1c-e1ef-45aa-e8e8-f8fc95844d36"
   },
   "outputs": [
    {
     "data": {
      "text/plain": [
       "array([[0, 0, 0, ..., 0, 0, 0]])"
      ]
     },
     "execution_count": 190,
     "metadata": {},
     "output_type": "execute_result"
    }
   ],
   "source": [
    "test_data_feature"
   ]
  },
  {
   "cell_type": "code",
   "execution_count": null,
   "metadata": {
    "colab": {
     "base_uri": "https://localhost:8080/"
    },
    "id": "v724KHZqqY-L",
    "outputId": "bd95204e-86a4-4da1-fa0f-df01aaa1757d"
   },
   "outputs": [
    {
     "name": "stderr",
     "output_type": "stream",
     "text": [
      "/usr/local/lib/python3.7/dist-packages/sklearn/utils/deprecation.py:87: FutureWarning: Function get_feature_names is deprecated; get_feature_names is deprecated in 1.0 and will be removed in 1.2. Please use get_feature_names_out instead.\n",
      "  warnings.warn(msg, category=FutureWarning)\n"
     ]
    },
    {
     "data": {
      "text/plain": [
       "('abl complet', 'cours make think', 'cours mani', 'cours mani interest')"
      ]
     },
     "execution_count": 191,
     "metadata": {},
     "output_type": "execute_result"
    }
   ],
   "source": [
    "# 벡터화 하며 만든 사전에서 해당 단어가 무엇인지 찾아볼 수 있다.\n",
    "vocab = vectorizer.get_feature_names()\n",
    "vocab[8], vocab[2558], vocab[2559], vocab[2560]"
   ]
  },
  {
   "cell_type": "code",
   "execution_count": null,
   "metadata": {
    "colab": {
     "base_uri": "https://localhost:8080/"
    },
    "id": "kWSiJLLDqdj-",
    "outputId": "ed3f2e48-21c3-4c31-8c07-d5366fb070f5"
   },
   "outputs": [
    {
     "name": "stdout",
     "output_type": "stream",
     "text": [
      "결과: [1]\n"
     ]
    }
   ],
   "source": [
    "# 테스트 데이터를 넣고 예측한다.\n",
    "result = model.predict(test_data_feature)\n",
    "# result[:100] # 100개의 리뷰에 대해서 뽑을 때 \n",
    "# 여기서는 test_data_feature 하나니까 결과값이 1개 나오는 것임 \n",
    "print(\"결과:\",result)  #긍정1 부정0"
   ]
  },
  {
   "cell_type": "markdown",
   "metadata": {
    "id": "wBKCgf6x2af3"
   },
   "source": [
    "## Methods to Improve Model Accuracy\n",
    "1. Adding Stopwords Library\n",
    "2. Tuning Convector Parameters\n",
    "3. Changing to 5-fold Cross Validatio"
   ]
  }
 ],
 "metadata": {
  "colab": {
   "name": "Coursera_Review_Analysis_1_(추천_비추천_분석_모델).ipynb",
   "provenance": []
  },
  "kernelspec": {
   "display_name": "Python 3",
   "language": "python",
   "name": "python3"
  },
  "language_info": {
   "codemirror_mode": {
    "name": "ipython",
    "version": 3
   },
   "file_extension": ".py",
   "mimetype": "text/x-python",
   "name": "python",
   "nbconvert_exporter": "python",
   "pygments_lexer": "ipython3",
   "version": "3.8.5"
  }
 },
 "nbformat": 4,
 "nbformat_minor": 1
}
