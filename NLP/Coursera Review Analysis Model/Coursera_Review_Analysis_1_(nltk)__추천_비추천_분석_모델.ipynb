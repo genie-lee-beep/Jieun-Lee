{
  "nbformat": 4,
  "nbformat_minor": 0,
  "metadata": {
    "colab": {
      "name": "Coursera Review Analysis 1 (nltk)_ 추천/비추천 분석 모델",
      "provenance": []
    },
    "kernelspec": {
      "name": "python3",
      "display_name": "Python 3"
    },
    "language_info": {
      "name": "python"
    }
  },
  "cells": [
    {
      "cell_type": "markdown",
      "source": [
        "<img src = \"https://drive.google.com/uc?id=1yCymrlge8a_0LflEdjil9GBaYmSoP4O0\" height = 80 width = 150>\n",
        "\n",
        "# Coursera Review\n",
        "\n",
        "## What is Coursera?\n",
        "Coursera is an online learning platform that allows you to take online education courses. These courses come with the opportunity to earn degrees from leading universities and companies.\n",
        "\n",
        "## Is Coursera Really Worth It?\n",
        "- If students recommend Coursera online learning, they leave positive comments and high rating(4-5 label).While if students are not satisfied with the Coursera online learning, they leaves negative comments and low rating(1-2 label). \n",
        "\n",
        "- Dataset: 100K+ Scraped Course Reviews from the Coursera Website (As of May 2017)\n",
        "This dataset has students reviews of Coursera MOOC classes. What we’re going to do is develop a classification model that looks at the review text and predicts whether a review is positive or negative. Since this data \n",
        "set already includes whether a review is positive or negative in the feedback column, we can use \n",
        "those answers to train and test our model. Our goal here is to produce an accurate model that we \n",
        "could then use to process new user reviews and quickly determine whether they were positive or negative.\n",
        "\n",
        "- In this notebook, the sentiment of reviews is binary, meaning the review rating <=2 results in a sentiment score of 0, and rating >=4 have a sentiment score of 1."
      ],
      "metadata": {
        "id": "0Q6RiEAxhw0l"
      }
    },
    {
      "cell_type": "code",
      "execution_count": 3,
      "metadata": {
        "colab": {
          "base_uri": "https://localhost:8080/",
          "height": 424
        },
        "id": "dXjT3aPJG3Nv",
        "outputId": "e7abb1d0-97a7-4696-e3d1-f1ee7b22c896"
      },
      "outputs": [
        {
          "output_type": "execute_result",
          "data": {
            "text/plain": [
              "                                                   Review  Label\n",
              "0                                    good and interesting      5\n",
              "1       This class is very helpful to me. Currently, I...      5\n",
              "2       like!Prof and TAs are helpful and the discussi...      5\n",
              "3       Easy to follow and includes a lot basic and im...      5\n",
              "4       Really nice teacher!I could got the point eazl...      4\n",
              "...                                                   ...    ...\n",
              "107013  Trendy topic with talks from expertises in the...      4\n",
              "107014  Wonderful! Simple and clear language, good ins...      5\n",
              "107015   an interesting and fun course. thanks. dr quincy      5\n",
              "107016  very broad perspective, up to date information...      4\n",
              "107017  An informative course on the social and financ...      4\n",
              "\n",
              "[107018 rows x 2 columns]"
            ],
            "text/html": [
              "\n",
              "  <div id=\"df-209c9c36-1b2d-4ec0-9402-af5ca69cde8d\">\n",
              "    <div class=\"colab-df-container\">\n",
              "      <div>\n",
              "<style scoped>\n",
              "    .dataframe tbody tr th:only-of-type {\n",
              "        vertical-align: middle;\n",
              "    }\n",
              "\n",
              "    .dataframe tbody tr th {\n",
              "        vertical-align: top;\n",
              "    }\n",
              "\n",
              "    .dataframe thead th {\n",
              "        text-align: right;\n",
              "    }\n",
              "</style>\n",
              "<table border=\"1\" class=\"dataframe\">\n",
              "  <thead>\n",
              "    <tr style=\"text-align: right;\">\n",
              "      <th></th>\n",
              "      <th>Review</th>\n",
              "      <th>Label</th>\n",
              "    </tr>\n",
              "  </thead>\n",
              "  <tbody>\n",
              "    <tr>\n",
              "      <th>0</th>\n",
              "      <td>good and interesting</td>\n",
              "      <td>5</td>\n",
              "    </tr>\n",
              "    <tr>\n",
              "      <th>1</th>\n",
              "      <td>This class is very helpful to me. Currently, I...</td>\n",
              "      <td>5</td>\n",
              "    </tr>\n",
              "    <tr>\n",
              "      <th>2</th>\n",
              "      <td>like!Prof and TAs are helpful and the discussi...</td>\n",
              "      <td>5</td>\n",
              "    </tr>\n",
              "    <tr>\n",
              "      <th>3</th>\n",
              "      <td>Easy to follow and includes a lot basic and im...</td>\n",
              "      <td>5</td>\n",
              "    </tr>\n",
              "    <tr>\n",
              "      <th>4</th>\n",
              "      <td>Really nice teacher!I could got the point eazl...</td>\n",
              "      <td>4</td>\n",
              "    </tr>\n",
              "    <tr>\n",
              "      <th>...</th>\n",
              "      <td>...</td>\n",
              "      <td>...</td>\n",
              "    </tr>\n",
              "    <tr>\n",
              "      <th>107013</th>\n",
              "      <td>Trendy topic with talks from expertises in the...</td>\n",
              "      <td>4</td>\n",
              "    </tr>\n",
              "    <tr>\n",
              "      <th>107014</th>\n",
              "      <td>Wonderful! Simple and clear language, good ins...</td>\n",
              "      <td>5</td>\n",
              "    </tr>\n",
              "    <tr>\n",
              "      <th>107015</th>\n",
              "      <td>an interesting and fun course. thanks. dr quincy</td>\n",
              "      <td>5</td>\n",
              "    </tr>\n",
              "    <tr>\n",
              "      <th>107016</th>\n",
              "      <td>very broad perspective, up to date information...</td>\n",
              "      <td>4</td>\n",
              "    </tr>\n",
              "    <tr>\n",
              "      <th>107017</th>\n",
              "      <td>An informative course on the social and financ...</td>\n",
              "      <td>4</td>\n",
              "    </tr>\n",
              "  </tbody>\n",
              "</table>\n",
              "<p>107018 rows × 2 columns</p>\n",
              "</div>\n",
              "      <button class=\"colab-df-convert\" onclick=\"convertToInteractive('df-209c9c36-1b2d-4ec0-9402-af5ca69cde8d')\"\n",
              "              title=\"Convert this dataframe to an interactive table.\"\n",
              "              style=\"display:none;\">\n",
              "        \n",
              "  <svg xmlns=\"http://www.w3.org/2000/svg\" height=\"24px\"viewBox=\"0 0 24 24\"\n",
              "       width=\"24px\">\n",
              "    <path d=\"M0 0h24v24H0V0z\" fill=\"none\"/>\n",
              "    <path d=\"M18.56 5.44l.94 2.06.94-2.06 2.06-.94-2.06-.94-.94-2.06-.94 2.06-2.06.94zm-11 1L8.5 8.5l.94-2.06 2.06-.94-2.06-.94L8.5 2.5l-.94 2.06-2.06.94zm10 10l.94 2.06.94-2.06 2.06-.94-2.06-.94-.94-2.06-.94 2.06-2.06.94z\"/><path d=\"M17.41 7.96l-1.37-1.37c-.4-.4-.92-.59-1.43-.59-.52 0-1.04.2-1.43.59L10.3 9.45l-7.72 7.72c-.78.78-.78 2.05 0 2.83L4 21.41c.39.39.9.59 1.41.59.51 0 1.02-.2 1.41-.59l7.78-7.78 2.81-2.81c.8-.78.8-2.07 0-2.86zM5.41 20L4 18.59l7.72-7.72 1.47 1.35L5.41 20z\"/>\n",
              "  </svg>\n",
              "      </button>\n",
              "      \n",
              "  <style>\n",
              "    .colab-df-container {\n",
              "      display:flex;\n",
              "      flex-wrap:wrap;\n",
              "      gap: 12px;\n",
              "    }\n",
              "\n",
              "    .colab-df-convert {\n",
              "      background-color: #E8F0FE;\n",
              "      border: none;\n",
              "      border-radius: 50%;\n",
              "      cursor: pointer;\n",
              "      display: none;\n",
              "      fill: #1967D2;\n",
              "      height: 32px;\n",
              "      padding: 0 0 0 0;\n",
              "      width: 32px;\n",
              "    }\n",
              "\n",
              "    .colab-df-convert:hover {\n",
              "      background-color: #E2EBFA;\n",
              "      box-shadow: 0px 1px 2px rgba(60, 64, 67, 0.3), 0px 1px 3px 1px rgba(60, 64, 67, 0.15);\n",
              "      fill: #174EA6;\n",
              "    }\n",
              "\n",
              "    [theme=dark] .colab-df-convert {\n",
              "      background-color: #3B4455;\n",
              "      fill: #D2E3FC;\n",
              "    }\n",
              "\n",
              "    [theme=dark] .colab-df-convert:hover {\n",
              "      background-color: #434B5C;\n",
              "      box-shadow: 0px 1px 3px 1px rgba(0, 0, 0, 0.15);\n",
              "      filter: drop-shadow(0px 1px 2px rgba(0, 0, 0, 0.3));\n",
              "      fill: #FFFFFF;\n",
              "    }\n",
              "  </style>\n",
              "\n",
              "      <script>\n",
              "        const buttonEl =\n",
              "          document.querySelector('#df-209c9c36-1b2d-4ec0-9402-af5ca69cde8d button.colab-df-convert');\n",
              "        buttonEl.style.display =\n",
              "          google.colab.kernel.accessAllowed ? 'block' : 'none';\n",
              "\n",
              "        async function convertToInteractive(key) {\n",
              "          const element = document.querySelector('#df-209c9c36-1b2d-4ec0-9402-af5ca69cde8d');\n",
              "          const dataTable =\n",
              "            await google.colab.kernel.invokeFunction('convertToInteractive',\n",
              "                                                     [key], {});\n",
              "          if (!dataTable) return;\n",
              "\n",
              "          const docLinkHtml = 'Like what you see? Visit the ' +\n",
              "            '<a target=\"_blank\" href=https://colab.research.google.com/notebooks/data_table.ipynb>data table notebook</a>'\n",
              "            + ' to learn more about interactive tables.';\n",
              "          element.innerHTML = '';\n",
              "          dataTable['output_type'] = 'display_data';\n",
              "          await google.colab.output.renderOutput(dataTable, element);\n",
              "          const docLink = document.createElement('div');\n",
              "          docLink.innerHTML = docLinkHtml;\n",
              "          element.appendChild(docLink);\n",
              "        }\n",
              "      </script>\n",
              "    </div>\n",
              "  </div>\n",
              "  "
            ]
          },
          "metadata": {},
          "execution_count": 3
        }
      ],
      "source": [
        "import numpy as np\n",
        "import pandas as pd\n",
        "dataset = pd.read_csv('reviews.csv')\n",
        "dataset.drop(columns=\"Id\", inplace=True)\n",
        "dataset"
      ]
    },
    {
      "cell_type": "code",
      "source": [
        "dataset = dataset.drop_duplicates(ignore_index=True)\n",
        "dataset"
      ],
      "metadata": {
        "id": "Q5fZ_lipHE7C",
        "colab": {
          "base_uri": "https://localhost:8080/",
          "height": 424
        },
        "outputId": "d2d70120-9a91-4300-bfd2-ed884aa8b065"
      },
      "execution_count": 4,
      "outputs": [
        {
          "output_type": "execute_result",
          "data": {
            "text/plain": [
              "                                                   Review  Label\n",
              "0                                    good and interesting      5\n",
              "1       This class is very helpful to me. Currently, I...      5\n",
              "2       like!Prof and TAs are helpful and the discussi...      5\n",
              "3       Easy to follow and includes a lot basic and im...      5\n",
              "4       Really nice teacher!I could got the point eazl...      4\n",
              "...                                                   ...    ...\n",
              "100467  Trendy topic with talks from expertises in the...      4\n",
              "100468  Wonderful! Simple and clear language, good ins...      5\n",
              "100469   an interesting and fun course. thanks. dr quincy      5\n",
              "100470  very broad perspective, up to date information...      4\n",
              "100471  An informative course on the social and financ...      4\n",
              "\n",
              "[100472 rows x 2 columns]"
            ],
            "text/html": [
              "\n",
              "  <div id=\"df-6378466c-9141-4bf0-a253-65841452014a\">\n",
              "    <div class=\"colab-df-container\">\n",
              "      <div>\n",
              "<style scoped>\n",
              "    .dataframe tbody tr th:only-of-type {\n",
              "        vertical-align: middle;\n",
              "    }\n",
              "\n",
              "    .dataframe tbody tr th {\n",
              "        vertical-align: top;\n",
              "    }\n",
              "\n",
              "    .dataframe thead th {\n",
              "        text-align: right;\n",
              "    }\n",
              "</style>\n",
              "<table border=\"1\" class=\"dataframe\">\n",
              "  <thead>\n",
              "    <tr style=\"text-align: right;\">\n",
              "      <th></th>\n",
              "      <th>Review</th>\n",
              "      <th>Label</th>\n",
              "    </tr>\n",
              "  </thead>\n",
              "  <tbody>\n",
              "    <tr>\n",
              "      <th>0</th>\n",
              "      <td>good and interesting</td>\n",
              "      <td>5</td>\n",
              "    </tr>\n",
              "    <tr>\n",
              "      <th>1</th>\n",
              "      <td>This class is very helpful to me. Currently, I...</td>\n",
              "      <td>5</td>\n",
              "    </tr>\n",
              "    <tr>\n",
              "      <th>2</th>\n",
              "      <td>like!Prof and TAs are helpful and the discussi...</td>\n",
              "      <td>5</td>\n",
              "    </tr>\n",
              "    <tr>\n",
              "      <th>3</th>\n",
              "      <td>Easy to follow and includes a lot basic and im...</td>\n",
              "      <td>5</td>\n",
              "    </tr>\n",
              "    <tr>\n",
              "      <th>4</th>\n",
              "      <td>Really nice teacher!I could got the point eazl...</td>\n",
              "      <td>4</td>\n",
              "    </tr>\n",
              "    <tr>\n",
              "      <th>...</th>\n",
              "      <td>...</td>\n",
              "      <td>...</td>\n",
              "    </tr>\n",
              "    <tr>\n",
              "      <th>100467</th>\n",
              "      <td>Trendy topic with talks from expertises in the...</td>\n",
              "      <td>4</td>\n",
              "    </tr>\n",
              "    <tr>\n",
              "      <th>100468</th>\n",
              "      <td>Wonderful! Simple and clear language, good ins...</td>\n",
              "      <td>5</td>\n",
              "    </tr>\n",
              "    <tr>\n",
              "      <th>100469</th>\n",
              "      <td>an interesting and fun course. thanks. dr quincy</td>\n",
              "      <td>5</td>\n",
              "    </tr>\n",
              "    <tr>\n",
              "      <th>100470</th>\n",
              "      <td>very broad perspective, up to date information...</td>\n",
              "      <td>4</td>\n",
              "    </tr>\n",
              "    <tr>\n",
              "      <th>100471</th>\n",
              "      <td>An informative course on the social and financ...</td>\n",
              "      <td>4</td>\n",
              "    </tr>\n",
              "  </tbody>\n",
              "</table>\n",
              "<p>100472 rows × 2 columns</p>\n",
              "</div>\n",
              "      <button class=\"colab-df-convert\" onclick=\"convertToInteractive('df-6378466c-9141-4bf0-a253-65841452014a')\"\n",
              "              title=\"Convert this dataframe to an interactive table.\"\n",
              "              style=\"display:none;\">\n",
              "        \n",
              "  <svg xmlns=\"http://www.w3.org/2000/svg\" height=\"24px\"viewBox=\"0 0 24 24\"\n",
              "       width=\"24px\">\n",
              "    <path d=\"M0 0h24v24H0V0z\" fill=\"none\"/>\n",
              "    <path d=\"M18.56 5.44l.94 2.06.94-2.06 2.06-.94-2.06-.94-.94-2.06-.94 2.06-2.06.94zm-11 1L8.5 8.5l.94-2.06 2.06-.94-2.06-.94L8.5 2.5l-.94 2.06-2.06.94zm10 10l.94 2.06.94-2.06 2.06-.94-2.06-.94-.94-2.06-.94 2.06-2.06.94z\"/><path d=\"M17.41 7.96l-1.37-1.37c-.4-.4-.92-.59-1.43-.59-.52 0-1.04.2-1.43.59L10.3 9.45l-7.72 7.72c-.78.78-.78 2.05 0 2.83L4 21.41c.39.39.9.59 1.41.59.51 0 1.02-.2 1.41-.59l7.78-7.78 2.81-2.81c.8-.78.8-2.07 0-2.86zM5.41 20L4 18.59l7.72-7.72 1.47 1.35L5.41 20z\"/>\n",
              "  </svg>\n",
              "      </button>\n",
              "      \n",
              "  <style>\n",
              "    .colab-df-container {\n",
              "      display:flex;\n",
              "      flex-wrap:wrap;\n",
              "      gap: 12px;\n",
              "    }\n",
              "\n",
              "    .colab-df-convert {\n",
              "      background-color: #E8F0FE;\n",
              "      border: none;\n",
              "      border-radius: 50%;\n",
              "      cursor: pointer;\n",
              "      display: none;\n",
              "      fill: #1967D2;\n",
              "      height: 32px;\n",
              "      padding: 0 0 0 0;\n",
              "      width: 32px;\n",
              "    }\n",
              "\n",
              "    .colab-df-convert:hover {\n",
              "      background-color: #E2EBFA;\n",
              "      box-shadow: 0px 1px 2px rgba(60, 64, 67, 0.3), 0px 1px 3px 1px rgba(60, 64, 67, 0.15);\n",
              "      fill: #174EA6;\n",
              "    }\n",
              "\n",
              "    [theme=dark] .colab-df-convert {\n",
              "      background-color: #3B4455;\n",
              "      fill: #D2E3FC;\n",
              "    }\n",
              "\n",
              "    [theme=dark] .colab-df-convert:hover {\n",
              "      background-color: #434B5C;\n",
              "      box-shadow: 0px 1px 3px 1px rgba(0, 0, 0, 0.15);\n",
              "      filter: drop-shadow(0px 1px 2px rgba(0, 0, 0, 0.3));\n",
              "      fill: #FFFFFF;\n",
              "    }\n",
              "  </style>\n",
              "\n",
              "      <script>\n",
              "        const buttonEl =\n",
              "          document.querySelector('#df-6378466c-9141-4bf0-a253-65841452014a button.colab-df-convert');\n",
              "        buttonEl.style.display =\n",
              "          google.colab.kernel.accessAllowed ? 'block' : 'none';\n",
              "\n",
              "        async function convertToInteractive(key) {\n",
              "          const element = document.querySelector('#df-6378466c-9141-4bf0-a253-65841452014a');\n",
              "          const dataTable =\n",
              "            await google.colab.kernel.invokeFunction('convertToInteractive',\n",
              "                                                     [key], {});\n",
              "          if (!dataTable) return;\n",
              "\n",
              "          const docLinkHtml = 'Like what you see? Visit the ' +\n",
              "            '<a target=\"_blank\" href=https://colab.research.google.com/notebooks/data_table.ipynb>data table notebook</a>'\n",
              "            + ' to learn more about interactive tables.';\n",
              "          element.innerHTML = '';\n",
              "          dataTable['output_type'] = 'display_data';\n",
              "          await google.colab.output.renderOutput(dataTable, element);\n",
              "          const docLink = document.createElement('div');\n",
              "          docLink.innerHTML = docLinkHtml;\n",
              "          element.appendChild(docLink);\n",
              "        }\n",
              "      </script>\n",
              "    </div>\n",
              "  </div>\n",
              "  "
            ]
          },
          "metadata": {},
          "execution_count": 4
        }
      ]
    },
    {
      "cell_type": "code",
      "source": [
        "dataset['Label'].hist()"
      ],
      "metadata": {
        "id": "cT2rrAOwHt_u",
        "colab": {
          "base_uri": "https://localhost:8080/",
          "height": 283
        },
        "outputId": "33fca6ab-f4af-49c1-8972-088a79dee149"
      },
      "execution_count": 5,
      "outputs": [
        {
          "output_type": "execute_result",
          "data": {
            "text/plain": [
              "<matplotlib.axes._subplots.AxesSubplot at 0x7fc21135c190>"
            ]
          },
          "metadata": {},
          "execution_count": 5
        },
        {
          "output_type": "display_data",
          "data": {
            "text/plain": [
              "<Figure size 432x288 with 1 Axes>"
            ],
            "image/png": "[encoded data removed]"
          },
          "metadata": {
            "needs_background": "light"
          }
        }
      ]
    },
    {
      "cell_type": "code",
      "source": [
        "dataset['Label'].value_counts()"
      ],
      "metadata": {
        "id": "W8jWCwmeHvBI",
        "colab": {
          "base_uri": "https://localhost:8080/"
        },
        "outputId": "ddda6b27-4678-4743-8512-8ecc39b72962"
      },
      "execution_count": 6,
      "outputs": [
        {
          "output_type": "execute_result",
          "data": {
            "text/plain": [
              "5    73276\n",
              "4    17558\n",
              "3     5016\n",
              "1     2403\n",
              "2     2219\n",
              "Name: Label, dtype: int64"
            ]
          },
          "metadata": {},
          "execution_count": 6
        }
      ]
    },
    {
      "cell_type": "code",
      "source": [
        "# 어중간한 3점 삭제해 버리기\n",
        "rating_3 = dataset[dataset['Label']==3].index\n",
        "del_3 = dataset.drop(rating_3)\n",
        "dataset=del_3"
      ],
      "metadata": {
        "id": "HD7MFybnHwKS"
      },
      "execution_count": 7,
      "outputs": []
    },
    {
      "cell_type": "code",
      "source": [
        "dataset['Label'].value_counts()"
      ],
      "metadata": {
        "id": "sSE_RnnTHw8O",
        "colab": {
          "base_uri": "https://localhost:8080/"
        },
        "outputId": "6ea4aece-625d-40ac-a885-ba65262894b1"
      },
      "execution_count": 8,
      "outputs": [
        {
          "output_type": "execute_result",
          "data": {
            "text/plain": [
              "5    73276\n",
              "4    17558\n",
              "1     2403\n",
              "2     2219\n",
              "Name: Label, dtype: int64"
            ]
          },
          "metadata": {},
          "execution_count": 8
        }
      ]
    },
    {
      "cell_type": "code",
      "source": [
        "# 현재 4~5점(긍정)에 데이터가 너무 많음\n",
        "#1~2점(부정)과 4~5점(긍정) 데이터 비율을 맞춰주기\n",
        "def reduce_size(x):\n",
        "    if len(x.index) > 70000:\n",
        "        return x.sample(n=int(len(x.index)/35)) #70000/2200\n",
        "    elif len(x.index) > 17000:\n",
        "        return x.sample(n=int(len(x.index)/7)) #17000/2200\n",
        "    else:\n",
        "        return x\n",
        "\n",
        "dataset = dataset.groupby('Label').apply(reduce_size).reset_index(drop=True)\n",
        "dataset['Label'].value_counts()\n",
        "\n",
        "# 4~5점 = 4601 / 1~2점 = 4622"
      ],
      "metadata": {
        "id": "hL0cmYWNHyQ9",
        "colab": {
          "base_uri": "https://localhost:8080/"
        },
        "outputId": "25adaf99-6294-4a3f-e0ac-b74103512757"
      },
      "execution_count": 9,
      "outputs": [
        {
          "output_type": "execute_result",
          "data": {
            "text/plain": [
              "4    2508\n",
              "1    2403\n",
              "2    2219\n",
              "5    2093\n",
              "Name: Label, dtype: int64"
            ]
          },
          "metadata": {},
          "execution_count": 9
        }
      ]
    },
    {
      "cell_type": "code",
      "source": [
        "dataset.shape"
      ],
      "metadata": {
        "id": "Hfh7tNeKHzaY",
        "colab": {
          "base_uri": "https://localhost:8080/"
        },
        "outputId": "06111e2b-e7d3-4187-a45b-b37d427acdac"
      },
      "execution_count": 10,
      "outputs": [
        {
          "output_type": "execute_result",
          "data": {
            "text/plain": [
              "(9223, 2)"
            ]
          },
          "metadata": {},
          "execution_count": 10
        }
      ]
    },
    {
      "cell_type": "code",
      "source": [
        "dataset"
      ],
      "metadata": {
        "colab": {
          "base_uri": "https://localhost:8080/",
          "height": 424
        },
        "id": "PE8cKenanUj4",
        "outputId": "54fb5ae4-9ded-414c-a465-f462cd44ee33"
      },
      "execution_count": 11,
      "outputs": [
        {
          "output_type": "execute_result",
          "data": {
            "text/plain": [
              "                                                 Review  Label\n",
              "0     This course doesn't contain any new informatio...      1\n",
              "1     I do not find very interesting this course. to...      1\n",
              "2     A lot of speaking without any sense. Skip it a...      1\n",
              "3     It's not a course... this is a very short gene...      1\n",
              "4     First of all, I really enjoyed Professor Ittne...      1\n",
              "...                                                 ...    ...\n",
              "9218  It's really helpful to me . In this class, I s...      5\n",
              "9219  Pretty good introduction course. Not very thor...      5\n",
              "9220  Really liked this course it gave me so much to...      5\n",
              "9221                       Great course for a beginner.      5\n",
              "9222  A deeper and better organized course that Part...      5\n",
              "\n",
              "[9223 rows x 2 columns]"
            ],
            "text/html": [
              "\n",
              "  <div id=\"df-f91a17fa-40ed-473e-a807-3061f1bb199a\">\n",
              "    <div class=\"colab-df-container\">\n",
              "      <div>\n",
              "<style scoped>\n",
              "    .dataframe tbody tr th:only-of-type {\n",
              "        vertical-align: middle;\n",
              "    }\n",
              "\n",
              "    .dataframe tbody tr th {\n",
              "        vertical-align: top;\n",
              "    }\n",
              "\n",
              "    .dataframe thead th {\n",
              "        text-align: right;\n",
              "    }\n",
              "</style>\n",
              "<table border=\"1\" class=\"dataframe\">\n",
              "  <thead>\n",
              "    <tr style=\"text-align: right;\">\n",
              "      <th></th>\n",
              "      <th>Review</th>\n",
              "      <th>Label</th>\n",
              "    </tr>\n",
              "  </thead>\n",
              "  <tbody>\n",
              "    <tr>\n",
              "      <th>0</th>\n",
              "      <td>This course doesn't contain any new informatio...</td>\n",
              "      <td>1</td>\n",
              "    </tr>\n",
              "    <tr>\n",
              "      <th>1</th>\n",
              "      <td>I do not find very interesting this course. to...</td>\n",
              "      <td>1</td>\n",
              "    </tr>\n",
              "    <tr>\n",
              "      <th>2</th>\n",
              "      <td>A lot of speaking without any sense. Skip it a...</td>\n",
              "      <td>1</td>\n",
              "    </tr>\n",
              "    <tr>\n",
              "      <th>3</th>\n",
              "      <td>It's not a course... this is a very short gene...</td>\n",
              "      <td>1</td>\n",
              "    </tr>\n",
              "    <tr>\n",
              "      <th>4</th>\n",
              "      <td>First of all, I really enjoyed Professor Ittne...</td>\n",
              "      <td>1</td>\n",
              "    </tr>\n",
              "    <tr>\n",
              "      <th>...</th>\n",
              "      <td>...</td>\n",
              "      <td>...</td>\n",
              "    </tr>\n",
              "    <tr>\n",
              "      <th>9218</th>\n",
              "      <td>It's really helpful to me . In this class, I s...</td>\n",
              "      <td>5</td>\n",
              "    </tr>\n",
              "    <tr>\n",
              "      <th>9219</th>\n",
              "      <td>Pretty good introduction course. Not very thor...</td>\n",
              "      <td>5</td>\n",
              "    </tr>\n",
              "    <tr>\n",
              "      <th>9220</th>\n",
              "      <td>Really liked this course it gave me so much to...</td>\n",
              "      <td>5</td>\n",
              "    </tr>\n",
              "    <tr>\n",
              "      <th>9221</th>\n",
              "      <td>Great course for a beginner.</td>\n",
              "      <td>5</td>\n",
              "    </tr>\n",
              "    <tr>\n",
              "      <th>9222</th>\n",
              "      <td>A deeper and better organized course that Part...</td>\n",
              "      <td>5</td>\n",
              "    </tr>\n",
              "  </tbody>\n",
              "</table>\n",
              "<p>9223 rows × 2 columns</p>\n",
              "</div>\n",
              "      <button class=\"colab-df-convert\" onclick=\"convertToInteractive('df-f91a17fa-40ed-473e-a807-3061f1bb199a')\"\n",
              "              title=\"Convert this dataframe to an interactive table.\"\n",
              "              style=\"display:none;\">\n",
              "        \n",
              "  <svg xmlns=\"http://www.w3.org/2000/svg\" height=\"24px\"viewBox=\"0 0 24 24\"\n",
              "       width=\"24px\">\n",
              "    <path d=\"M0 0h24v24H0V0z\" fill=\"none\"/>\n",
              "    <path d=\"M18.56 5.44l.94 2.06.94-2.06 2.06-.94-2.06-.94-.94-2.06-.94 2.06-2.06.94zm-11 1L8.5 8.5l.94-2.06 2.06-.94-2.06-.94L8.5 2.5l-.94 2.06-2.06.94zm10 10l.94 2.06.94-2.06 2.06-.94-2.06-.94-.94-2.06-.94 2.06-2.06.94z\"/><path d=\"M17.41 7.96l-1.37-1.37c-.4-.4-.92-.59-1.43-.59-.52 0-1.04.2-1.43.59L10.3 9.45l-7.72 7.72c-.78.78-.78 2.05 0 2.83L4 21.41c.39.39.9.59 1.41.59.51 0 1.02-.2 1.41-.59l7.78-7.78 2.81-2.81c.8-.78.8-2.07 0-2.86zM5.41 20L4 18.59l7.72-7.72 1.47 1.35L5.41 20z\"/>\n",
              "  </svg>\n",
              "      </button>\n",
              "      \n",
              "  <style>\n",
              "    .colab-df-container {\n",
              "      display:flex;\n",
              "      flex-wrap:wrap;\n",
              "      gap: 12px;\n",
              "    }\n",
              "\n",
              "    .colab-df-convert {\n",
              "      background-color: #E8F0FE;\n",
              "      border: none;\n",
              "      border-radius: 50%;\n",
              "      cursor: pointer;\n",
              "      display: none;\n",
              "      fill: #1967D2;\n",
              "      height: 32px;\n",
              "      padding: 0 0 0 0;\n",
              "      width: 32px;\n",
              "    }\n",
              "\n",
              "    .colab-df-convert:hover {\n",
              "      background-color: #E2EBFA;\n",
              "      box-shadow: 0px 1px 2px rgba(60, 64, 67, 0.3), 0px 1px 3px 1px rgba(60, 64, 67, 0.15);\n",
              "      fill: #174EA6;\n",
              "    }\n",
              "\n",
              "    [theme=dark] .colab-df-convert {\n",
              "      background-color: #3B4455;\n",
              "      fill: #D2E3FC;\n",
              "    }\n",
              "\n",
              "    [theme=dark] .colab-df-convert:hover {\n",
              "      background-color: #434B5C;\n",
              "      box-shadow: 0px 1px 3px 1px rgba(0, 0, 0, 0.15);\n",
              "      filter: drop-shadow(0px 1px 2px rgba(0, 0, 0, 0.3));\n",
              "      fill: #FFFFFF;\n",
              "    }\n",
              "  </style>\n",
              "\n",
              "      <script>\n",
              "        const buttonEl =\n",
              "          document.querySelector('#df-f91a17fa-40ed-473e-a807-3061f1bb199a button.colab-df-convert');\n",
              "        buttonEl.style.display =\n",
              "          google.colab.kernel.accessAllowed ? 'block' : 'none';\n",
              "\n",
              "        async function convertToInteractive(key) {\n",
              "          const element = document.querySelector('#df-f91a17fa-40ed-473e-a807-3061f1bb199a');\n",
              "          const dataTable =\n",
              "            await google.colab.kernel.invokeFunction('convertToInteractive',\n",
              "                                                     [key], {});\n",
              "          if (!dataTable) return;\n",
              "\n",
              "          const docLinkHtml = 'Like what you see? Visit the ' +\n",
              "            '<a target=\"_blank\" href=https://colab.research.google.com/notebooks/data_table.ipynb>data table notebook</a>'\n",
              "            + ' to learn more about interactive tables.';\n",
              "          element.innerHTML = '';\n",
              "          dataTable['output_type'] = 'display_data';\n",
              "          await google.colab.output.renderOutput(dataTable, element);\n",
              "          const docLink = document.createElement('div');\n",
              "          docLink.innerHTML = docLinkHtml;\n",
              "          element.appendChild(docLink);\n",
              "        }\n",
              "      </script>\n",
              "    </div>\n",
              "  </div>\n",
              "  "
            ]
          },
          "metadata": {},
          "execution_count": 11
        }
      ]
    },
    {
      "cell_type": "code",
      "source": [
        "#replace has a default arg inplace=False. \n",
        "#Thus, your results will not affect each other and you will have to combine them into dataset['label']=dataset['label'].replace([1,2,4,5],[0,0,1,1]) or \n",
        "#dataset['label'].replace([1,2,4,5],[0,0,1,1],inplace=True)\n",
        "\n",
        "dataset['Label']=dataset['Label'].replace([1,2,4,5],[0,0,1,1])"
      ],
      "metadata": {
        "id": "-pOMoABJH4d0"
      },
      "execution_count": 12,
      "outputs": []
    },
    {
      "cell_type": "code",
      "source": [
        "dataset['Label'].value_counts()"
      ],
      "metadata": {
        "colab": {
          "base_uri": "https://localhost:8080/"
        },
        "id": "HEwb94geOb5Z",
        "outputId": "d36b179e-693f-4f35-969a-e6a807643709"
      },
      "execution_count": 13,
      "outputs": [
        {
          "output_type": "execute_result",
          "data": {
            "text/plain": [
              "0    4622\n",
              "1    4601\n",
              "Name: Label, dtype: int64"
            ]
          },
          "metadata": {},
          "execution_count": 13
        }
      ]
    },
    {
      "cell_type": "code",
      "source": [
        "# Ready to split 'train set' and  'test set'\n",
        "X = dataset['Review']\n",
        "y = dataset['Label']"
      ],
      "metadata": {
        "id": "iXO9y2ZPH0ir"
      },
      "execution_count": 14,
      "outputs": []
    },
    {
      "cell_type": "code",
      "source": [
        "from sklearn.model_selection import train_test_split\n",
        "\n",
        "X_train, X_test, y_train, y_test = train_test_split(X,  y,  test_size=0.5,shuffle=True,  random_state=1004)\n",
        "             \n",
        "print('X_train shape:', X_train.shape)\n",
        "\n",
        "print('X_test shape:', X_test.shape)\n",
        "\n",
        "print('y_train shape:', y_train.shape)\n",
        "\n",
        "print('y_test shape:', y_test.shape)"
      ],
      "metadata": {
        "id": "mdGstNf3H1ks",
        "colab": {
          "base_uri": "https://localhost:8080/"
        },
        "outputId": "466c0cbd-aaee-41be-e27c-8295d3280de9"
      },
      "execution_count": 15,
      "outputs": [
        {
          "output_type": "stream",
          "name": "stdout",
          "text": [
            "X_train shape: (4611,)\n",
            "X_test shape: (4612,)\n",
            "y_train shape: (4611,)\n",
            "y_test shape: (4612,)\n"
          ]
        }
      ]
    },
    {
      "cell_type": "code",
      "source": [
        "print(type(y_train))\n",
        "print(type(X_test))"
      ],
      "metadata": {
        "colab": {
          "base_uri": "https://localhost:8080/"
        },
        "id": "KlFPQlynzIR4",
        "outputId": "ffddbb2f-2dcc-45e5-b8cb-a6e91d41c892"
      },
      "execution_count": 16,
      "outputs": [
        {
          "output_type": "stream",
          "name": "stdout",
          "text": [
            "<class 'pandas.core.series.Series'>\n",
            "<class 'pandas.core.series.Series'>\n"
          ]
        }
      ]
    },
    {
      "cell_type": "code",
      "source": [
        "# train과 test의 데이터에 각 점수들이 반반씩 잘 분포 되었음.\n",
        "print('train set:', y_train.value_counts())\n",
        "print('----------------------------')\n",
        "print('test set:', y_test.value_counts())"
      ],
      "metadata": {
        "id": "7akPgRdWH2SI",
        "colab": {
          "base_uri": "https://localhost:8080/"
        },
        "outputId": "3fc6c7a2-2a72-4730-ce19-0ecfb06e6097"
      },
      "execution_count": 17,
      "outputs": [
        {
          "output_type": "stream",
          "name": "stdout",
          "text": [
            "train set: 0    2313\n",
            "1    2298\n",
            "Name: Label, dtype: int64\n",
            "----------------------------\n",
            "test set: 0    2309\n",
            "1    2303\n",
            "Name: Label, dtype: int64\n"
          ]
        }
      ]
    },
    {
      "cell_type": "code",
      "source": [
        "X_train"
      ],
      "metadata": {
        "id": "dwcgmY0jH7AY",
        "colab": {
          "base_uri": "https://localhost:8080/"
        },
        "outputId": "70f30ef4-cda7-4012-c8e5-9e326e88db2d"
      },
      "execution_count": 18,
      "outputs": [
        {
          "output_type": "execute_result",
          "data": {
            "text/plain": [
              "1519    The Lecturers are very enthusiastic, but I was...\n",
              "2501    Beware this course, especially if you are new ...\n",
              "8896    The best machine learning course ever!This is ...\n",
              "6753                             Very good for beginners!\n",
              "7326                                    Awsome as always!\n",
              "                              ...                        \n",
              "2740    The value of this course is the collection of ...\n",
              "9055    My best of the 4th courses on Conception Garph...\n",
              "8206                                       Nicely taught.\n",
              "8391    Excellent course!!! Really helped me to learn ...\n",
              "4127    By the end of the course, you do start to deve...\n",
              "Name: Review, Length: 4611, dtype: object"
            ]
          },
          "metadata": {},
          "execution_count": 18
        }
      ]
    },
    {
      "cell_type": "code",
      "source": [
        "X_test"
      ],
      "metadata": {
        "id": "QxUQENVGH8QU",
        "colab": {
          "base_uri": "https://localhost:8080/"
        },
        "outputId": "c63f1e3a-f12c-4a07-921e-48d495d2f744"
      },
      "execution_count": 19,
      "outputs": [
        {
          "output_type": "execute_result",
          "data": {
            "text/plain": [
              "5942    Very useful course if you translate in other l...\n",
              "1456    Very bad course too fast is not an introductio...\n",
              "7128    Very good course.Can be improved with more exe...\n",
              "5831    Great course, although week 4 seems awfully sh...\n",
              "7466    The course is very well structured and gives c...\n",
              "                              ...                        \n",
              "5638    Excellent course. I would prefere to have more...\n",
              "3380    This instructor reads of a script! He rushes t...\n",
              "3200    Basically not much content. The guest speaker ...\n",
              "2075    Beware - will make you upgrade to complete qui...\n",
              "3624    I do like the course, but Coursera has disable...\n",
              "Name: Review, Length: 4612, dtype: object"
            ]
          },
          "metadata": {},
          "execution_count": 19
        }
      ]
    },
    {
      "cell_type": "code",
      "source": [
        "# concat()함수>> df와 series에 다 적용가능\n",
        "train_set = pd.concat([X_train, y_train], axis = 1)\n",
        "print(train_set)"
      ],
      "metadata": {
        "id": "c6yqd83KH-4t",
        "colab": {
          "base_uri": "https://localhost:8080/"
        },
        "outputId": "181adfa0-ca4d-41c2-9cd8-aa0af06919aa"
      },
      "execution_count": 20,
      "outputs": [
        {
          "output_type": "stream",
          "name": "stdout",
          "text": [
            "                                                 Review  Label\n",
            "1519  The Lecturers are very enthusiastic, but I was...      0\n",
            "2501  Beware this course, especially if you are new ...      0\n",
            "8896  The best machine learning course ever!This is ...      1\n",
            "6753                           Very good for beginners!      1\n",
            "7326                                  Awsome as always!      1\n",
            "...                                                 ...    ...\n",
            "2740  The value of this course is the collection of ...      0\n",
            "9055  My best of the 4th courses on Conception Garph...      1\n",
            "8206                                     Nicely taught.      1\n",
            "8391  Excellent course!!! Really helped me to learn ...      1\n",
            "4127  By the end of the course, you do start to deve...      0\n",
            "\n",
            "[4611 rows x 2 columns]\n"
          ]
        }
      ]
    },
    {
      "cell_type": "code",
      "source": [
        "train_set.head(8)"
      ],
      "metadata": {
        "colab": {
          "base_uri": "https://localhost:8080/",
          "height": 300
        },
        "id": "-edkDx-US3Kc",
        "outputId": "7861c30a-a81b-4470-c07b-ea4212dbcc22"
      },
      "execution_count": 21,
      "outputs": [
        {
          "output_type": "execute_result",
          "data": {
            "text/plain": [
              "                                                 Review  Label\n",
              "1519  The Lecturers are very enthusiastic, but I was...      0\n",
              "2501  Beware this course, especially if you are new ...      0\n",
              "8896  The best machine learning course ever!This is ...      1\n",
              "6753                           Very good for beginners!      1\n",
              "7326                                  Awsome as always!      1\n",
              "4991  It´ll be great if you could show us how to wri...      1\n",
              "495                I think there are only few contents.      0\n",
              "1724  Excellent teaching, but it's not actually free...      0"
            ],
            "text/html": [
              "\n",
              "  <div id=\"df-d56a536b-9c28-4183-90ad-21f55b3924e1\">\n",
              "    <div class=\"colab-df-container\">\n",
              "      <div>\n",
              "<style scoped>\n",
              "    .dataframe tbody tr th:only-of-type {\n",
              "        vertical-align: middle;\n",
              "    }\n",
              "\n",
              "    .dataframe tbody tr th {\n",
              "        vertical-align: top;\n",
              "    }\n",
              "\n",
              "    .dataframe thead th {\n",
              "        text-align: right;\n",
              "    }\n",
              "</style>\n",
              "<table border=\"1\" class=\"dataframe\">\n",
              "  <thead>\n",
              "    <tr style=\"text-align: right;\">\n",
              "      <th></th>\n",
              "      <th>Review</th>\n",
              "      <th>Label</th>\n",
              "    </tr>\n",
              "  </thead>\n",
              "  <tbody>\n",
              "    <tr>\n",
              "      <th>1519</th>\n",
              "      <td>The Lecturers are very enthusiastic, but I was...</td>\n",
              "      <td>0</td>\n",
              "    </tr>\n",
              "    <tr>\n",
              "      <th>2501</th>\n",
              "      <td>Beware this course, especially if you are new ...</td>\n",
              "      <td>0</td>\n",
              "    </tr>\n",
              "    <tr>\n",
              "      <th>8896</th>\n",
              "      <td>The best machine learning course ever!This is ...</td>\n",
              "      <td>1</td>\n",
              "    </tr>\n",
              "    <tr>\n",
              "      <th>6753</th>\n",
              "      <td>Very good for beginners!</td>\n",
              "      <td>1</td>\n",
              "    </tr>\n",
              "    <tr>\n",
              "      <th>7326</th>\n",
              "      <td>Awsome as always!</td>\n",
              "      <td>1</td>\n",
              "    </tr>\n",
              "    <tr>\n",
              "      <th>4991</th>\n",
              "      <td>It´ll be great if you could show us how to wri...</td>\n",
              "      <td>1</td>\n",
              "    </tr>\n",
              "    <tr>\n",
              "      <th>495</th>\n",
              "      <td>I think there are only few contents.</td>\n",
              "      <td>0</td>\n",
              "    </tr>\n",
              "    <tr>\n",
              "      <th>1724</th>\n",
              "      <td>Excellent teaching, but it's not actually free...</td>\n",
              "      <td>0</td>\n",
              "    </tr>\n",
              "  </tbody>\n",
              "</table>\n",
              "</div>\n",
              "      <button class=\"colab-df-convert\" onclick=\"convertToInteractive('df-d56a536b-9c28-4183-90ad-21f55b3924e1')\"\n",
              "              title=\"Convert this dataframe to an interactive table.\"\n",
              "              style=\"display:none;\">\n",
              "        \n",
              "  <svg xmlns=\"http://www.w3.org/2000/svg\" height=\"24px\"viewBox=\"0 0 24 24\"\n",
              "       width=\"24px\">\n",
              "    <path d=\"M0 0h24v24H0V0z\" fill=\"none\"/>\n",
              "    <path d=\"M18.56 5.44l.94 2.06.94-2.06 2.06-.94-2.06-.94-.94-2.06-.94 2.06-2.06.94zm-11 1L8.5 8.5l.94-2.06 2.06-.94-2.06-.94L8.5 2.5l-.94 2.06-2.06.94zm10 10l.94 2.06.94-2.06 2.06-.94-2.06-.94-.94-2.06-.94 2.06-2.06.94z\"/><path d=\"M17.41 7.96l-1.37-1.37c-.4-.4-.92-.59-1.43-.59-.52 0-1.04.2-1.43.59L10.3 9.45l-7.72 7.72c-.78.78-.78 2.05 0 2.83L4 21.41c.39.39.9.59 1.41.59.51 0 1.02-.2 1.41-.59l7.78-7.78 2.81-2.81c.8-.78.8-2.07 0-2.86zM5.41 20L4 18.59l7.72-7.72 1.47 1.35L5.41 20z\"/>\n",
              "  </svg>\n",
              "      </button>\n",
              "      \n",
              "  <style>\n",
              "    .colab-df-container {\n",
              "      display:flex;\n",
              "      flex-wrap:wrap;\n",
              "      gap: 12px;\n",
              "    }\n",
              "\n",
              "    .colab-df-convert {\n",
              "      background-color: #E8F0FE;\n",
              "      border: none;\n",
              "      border-radius: 50%;\n",
              "      cursor: pointer;\n",
              "      display: none;\n",
              "      fill: #1967D2;\n",
              "      height: 32px;\n",
              "      padding: 0 0 0 0;\n",
              "      width: 32px;\n",
              "    }\n",
              "\n",
              "    .colab-df-convert:hover {\n",
              "      background-color: #E2EBFA;\n",
              "      box-shadow: 0px 1px 2px rgba(60, 64, 67, 0.3), 0px 1px 3px 1px rgba(60, 64, 67, 0.15);\n",
              "      fill: #174EA6;\n",
              "    }\n",
              "\n",
              "    [theme=dark] .colab-df-convert {\n",
              "      background-color: #3B4455;\n",
              "      fill: #D2E3FC;\n",
              "    }\n",
              "\n",
              "    [theme=dark] .colab-df-convert:hover {\n",
              "      background-color: #434B5C;\n",
              "      box-shadow: 0px 1px 3px 1px rgba(0, 0, 0, 0.15);\n",
              "      filter: drop-shadow(0px 1px 2px rgba(0, 0, 0, 0.3));\n",
              "      fill: #FFFFFF;\n",
              "    }\n",
              "  </style>\n",
              "\n",
              "      <script>\n",
              "        const buttonEl =\n",
              "          document.querySelector('#df-d56a536b-9c28-4183-90ad-21f55b3924e1 button.colab-df-convert');\n",
              "        buttonEl.style.display =\n",
              "          google.colab.kernel.accessAllowed ? 'block' : 'none';\n",
              "\n",
              "        async function convertToInteractive(key) {\n",
              "          const element = document.querySelector('#df-d56a536b-9c28-4183-90ad-21f55b3924e1');\n",
              "          const dataTable =\n",
              "            await google.colab.kernel.invokeFunction('convertToInteractive',\n",
              "                                                     [key], {});\n",
              "          if (!dataTable) return;\n",
              "\n",
              "          const docLinkHtml = 'Like what you see? Visit the ' +\n",
              "            '<a target=\"_blank\" href=https://colab.research.google.com/notebooks/data_table.ipynb>data table notebook</a>'\n",
              "            + ' to learn more about interactive tables.';\n",
              "          element.innerHTML = '';\n",
              "          dataTable['output_type'] = 'display_data';\n",
              "          await google.colab.output.renderOutput(dataTable, element);\n",
              "          const docLink = document.createElement('div');\n",
              "          docLink.innerHTML = docLinkHtml;\n",
              "          element.appendChild(docLink);\n",
              "        }\n",
              "      </script>\n",
              "    </div>\n",
              "  </div>\n",
              "  "
            ]
          },
          "metadata": {},
          "execution_count": 21
        }
      ]
    },
    {
      "cell_type": "code",
      "source": [
        "train_set['Review'][7]"
      ],
      "metadata": {
        "colab": {
          "base_uri": "https://localhost:8080/",
          "height": 35
        },
        "id": "1L6p_28fRtwm",
        "outputId": "8bbddb1c-02df-4a57-e927-3d2abbaf504e"
      },
      "execution_count": 22,
      "outputs": [
        {
          "output_type": "execute_result",
          "data": {
            "text/plain": [
              "'The Capstone project has been getting delayed since JanDont expect yourself to complete the specialization'"
            ],
            "application/vnd.google.colaboratory.intrinsic+json": {
              "type": "string"
            }
          },
          "metadata": {},
          "execution_count": 22
        }
      ]
    },
    {
      "cell_type": "code",
      "source": [
        "from bs4 import BeautifulSoup\n",
        "\n",
        "example1 = BeautifulSoup(train_set['Review'][7], \"html5lib\")\n",
        "print(train_set['Review'][:20])\n",
        "\n",
        "\n",
        "example1.get_text()[:10]"
      ],
      "metadata": {
        "id": "DYPyTfyMH_7O",
        "colab": {
          "base_uri": "https://localhost:8080/",
          "height": 421
        },
        "outputId": "bdddd250-37a1-4c5b-9f65-e94026816bd2"
      },
      "execution_count": 23,
      "outputs": [
        {
          "output_type": "stream",
          "name": "stdout",
          "text": [
            "1519    The Lecturers are very enthusiastic, but I was...\n",
            "2501    Beware this course, especially if you are new ...\n",
            "8896    The best machine learning course ever!This is ...\n",
            "6753                             Very good for beginners!\n",
            "7326                                    Awsome as always!\n",
            "4991    It´ll be great if you could show us how to wri...\n",
            "495                  I think there are only few contents.\n",
            "1724    Excellent teaching, but it's not actually free...\n",
            "4835    This is an awesome Course. I'd like that the f...\n",
            "2986    Too basic. Should give an example on how these...\n",
            "6853    Very insightful. Highly recommended for anyone...\n",
            "1909    Instructor doesn't seem to be passionate about...\n",
            "1625    Pretty bad as far as I am conerned. I spent tw...\n",
            "8229                                good for the beginers\n",
            "4745                          Great course, so much fun!!\n",
            "531     I'm sorely disappointed. I learned almost noth...\n",
            "1493    Poor quality and heavily outdated content. Vid...\n",
            "5724    Case study approach followed in this courser i...\n",
            "5104    although the teacher must be using android pho...\n",
            "4183    The content and the speed that they teach you ...\n",
            "Name: Review, dtype: object\n"
          ]
        },
        {
          "output_type": "execute_result",
          "data": {
            "text/plain": [
              "'The Capsto'"
            ],
            "application/vnd.google.colaboratory.intrinsic+json": {
              "type": "string"
            }
          },
          "metadata": {},
          "execution_count": 23
        }
      ]
    },
    {
      "cell_type": "code",
      "source": [
        "import re\n",
        "letters_only= re.sub('[^a-zA-Z]', ' ', example1.get_text())\n",
        "letters_only[:10]"
      ],
      "metadata": {
        "id": "FPbU4hdlIA0M",
        "colab": {
          "base_uri": "https://localhost:8080/",
          "height": 35
        },
        "outputId": "64c772da-eab0-44c5-fb96-e0a8e82c8045"
      },
      "execution_count": 24,
      "outputs": [
        {
          "output_type": "execute_result",
          "data": {
            "text/plain": [
              "'The Capsto'"
            ],
            "application/vnd.google.colaboratory.intrinsic+json": {
              "type": "string"
            }
          },
          "metadata": {},
          "execution_count": 24
        }
      ]
    },
    {
      "cell_type": "code",
      "source": [
        "# making lower case\n",
        "lower_case = letters_only.lower()\n",
        "# lower_case = letters_only['Review'].str.lower()      # Q str?"
      ],
      "metadata": {
        "id": "vbpNKdUeIBq7"
      },
      "execution_count": 25,
      "outputs": []
    },
    {
      "cell_type": "code",
      "source": [
        "# Tokenizing\n",
        "words = lower_case.split()\n",
        "print(len(words))\n",
        "words[:10]"
      ],
      "metadata": {
        "id": "rHmuYyKIIDS6",
        "colab": {
          "base_uri": "https://localhost:8080/"
        },
        "outputId": "e6bdf5b0-fb24-4057-82bd-bf530cb7808e"
      },
      "execution_count": 26,
      "outputs": [
        {
          "output_type": "stream",
          "name": "stdout",
          "text": [
            "15\n"
          ]
        },
        {
          "output_type": "execute_result",
          "data": {
            "text/plain": [
              "['the',\n",
              " 'capstone',\n",
              " 'project',\n",
              " 'has',\n",
              " 'been',\n",
              " 'getting',\n",
              " 'delayed',\n",
              " 'since',\n",
              " 'jandont',\n",
              " 'expect']"
            ]
          },
          "metadata": {},
          "execution_count": 26
        }
      ]
    },
    {
      "cell_type": "code",
      "source": [
        "# Download for preprocessing the text\n",
        "import nltk\n",
        "nltk.download('stopwords')   # from nltk.corpus import stopwords를 위한 resource\n",
        "nltk.download('wordnet') # from nltk.stem import WordNetLemmatizer를 위한 resource"
      ],
      "metadata": {
        "colab": {
          "base_uri": "https://localhost:8080/"
        },
        "id": "VCjxGGNEpDtQ",
        "outputId": "785b9c05-08a2-47ec-f3fa-b716308ddf55"
      },
      "execution_count": 27,
      "outputs": [
        {
          "output_type": "stream",
          "name": "stdout",
          "text": [
            "[nltk_data] Downloading package stopwords to /root/nltk_data...\n",
            "[nltk_data]   Unzipping corpora/stopwords.zip.\n",
            "[nltk_data] Downloading package wordnet to /root/nltk_data...\n",
            "[nltk_data]   Unzipping corpora/wordnet.zip.\n"
          ]
        },
        {
          "output_type": "execute_result",
          "data": {
            "text/plain": [
              "True"
            ]
          },
          "metadata": {},
          "execution_count": 27
        }
      ]
    },
    {
      "cell_type": "code",
      "source": [
        "from nltk.corpus import stopwords\n",
        "stopwords.words('english')[:20]"
      ],
      "metadata": {
        "colab": {
          "base_uri": "https://localhost:8080/"
        },
        "id": "FwE9zEW3pFoE",
        "outputId": "78fe05d5-8e41-48dc-ecc5-368befe4f556"
      },
      "execution_count": 28,
      "outputs": [
        {
          "output_type": "execute_result",
          "data": {
            "text/plain": [
              "['i',\n",
              " 'me',\n",
              " 'my',\n",
              " 'myself',\n",
              " 'we',\n",
              " 'our',\n",
              " 'ours',\n",
              " 'ourselves',\n",
              " 'you',\n",
              " \"you're\",\n",
              " \"you've\",\n",
              " \"you'll\",\n",
              " \"you'd\",\n",
              " 'your',\n",
              " 'yours',\n",
              " 'yourself',\n",
              " 'yourselves',\n",
              " 'he',\n",
              " 'him',\n",
              " 'his']"
            ]
          },
          "metadata": {},
          "execution_count": 28
        }
      ]
    },
    {
      "cell_type": "markdown",
      "source": [
        "### Stopwords"
      ],
      "metadata": {
        "id": "DJSWbZp8xmRn"
      }
    },
    {
      "cell_type": "code",
      "source": [
        "# Tokens exceot for stopwords \n",
        "words = [w for w in words if not w in stopwords.words('english')]\n",
        "print(len(words))\n",
        "words[:10]"
      ],
      "metadata": {
        "id": "sIL5hU2spINg",
        "colab": {
          "base_uri": "https://localhost:8080/"
        },
        "outputId": "e7b200bf-5652-4cd2-aa0d-39054ebb393c"
      },
      "execution_count": 29,
      "outputs": [
        {
          "output_type": "stream",
          "name": "stdout",
          "text": [
            "9\n"
          ]
        },
        {
          "output_type": "execute_result",
          "data": {
            "text/plain": [
              "['capstone',\n",
              " 'project',\n",
              " 'getting',\n",
              " 'delayed',\n",
              " 'since',\n",
              " 'jandont',\n",
              " 'expect',\n",
              " 'complete',\n",
              " 'specialization']"
            ]
          },
          "metadata": {},
          "execution_count": 29
        }
      ]
    },
    {
      "cell_type": "markdown",
      "source": [
        "## SnowballStemmer\n",
        "\n",
        "`print(\"The stemmed form of studying is: {}\".format(stemmer.stem(\"studying\")))`  \n",
        "`print(\"The stemmed form of studies is: {}\".format(stemmer.stem(\"studies\")))`  \n",
        "`print(\"The stemmed form of study is: {}\".format(stemmer.stem(\"study\")))`  \n",
        "\n",
        ">The stemmed form of studying is: studi  \n",
        ">The stemmed form of studies is: studi  \n",
        ">The stemmed form of study is: studi  "
      ],
      "metadata": {
        "id": "-Io7tJj9P8O6"
      }
    },
    {
      "cell_type": "code",
      "source": [
        "# Before stemmer\n",
        "words[:30]"
      ],
      "metadata": {
        "colab": {
          "base_uri": "https://localhost:8080/"
        },
        "id": "EL82rIoiNv9-",
        "outputId": "2379a094-344a-4c82-b604-8a3c7cd05510"
      },
      "execution_count": 30,
      "outputs": [
        {
          "output_type": "execute_result",
          "data": {
            "text/plain": [
              "['capstone',\n",
              " 'project',\n",
              " 'getting',\n",
              " 'delayed',\n",
              " 'since',\n",
              " 'jandont',\n",
              " 'expect',\n",
              " 'complete',\n",
              " 'specialization']"
            ]
          },
          "metadata": {},
          "execution_count": 30
        }
      ]
    },
    {
      "cell_type": "code",
      "source": [
        "from nltk.stem.snowball import SnowballStemmer\n",
        "\n",
        "stemmer = SnowballStemmer('english')\n",
        "\n",
        "words = [stemmer.stem(w) for w in words]\n",
        "# After stemmer\n",
        "words[:10]"
      ],
      "metadata": {
        "id": "es_vbWqfpJ5t",
        "colab": {
          "base_uri": "https://localhost:8080/"
        },
        "outputId": "240d4a4b-7631-4cd8-b73e-caed71ed62c2"
      },
      "execution_count": 31,
      "outputs": [
        {
          "output_type": "execute_result",
          "data": {
            "text/plain": [
              "['capston',\n",
              " 'project',\n",
              " 'get',\n",
              " 'delay',\n",
              " 'sinc',\n",
              " 'jandont',\n",
              " 'expect',\n",
              " 'complet',\n",
              " 'special']"
            ]
          },
          "metadata": {},
          "execution_count": 31
        }
      ]
    },
    {
      "cell_type": "code",
      "source": [
        "from nltk.stem import WordNetLemmatizer\n",
        "wordnet_lemmatizer = WordNetLemmatizer()\n",
        "\n",
        "words = [wordnet_lemmatizer.lemmatize(w) for w in words]\n",
        "# 처리 후 단어\n",
        "words[:10]"
      ],
      "metadata": {
        "id": "_fa4bhylpLgH",
        "colab": {
          "base_uri": "https://localhost:8080/"
        },
        "outputId": "afd11eb6-2324-4b76-e7ca-15e7e2a9c2d5"
      },
      "execution_count": 32,
      "outputs": [
        {
          "output_type": "execute_result",
          "data": {
            "text/plain": [
              "['capston',\n",
              " 'project',\n",
              " 'get',\n",
              " 'delay',\n",
              " 'sinc',\n",
              " 'jandont',\n",
              " 'expect',\n",
              " 'complet',\n",
              " 'special']"
            ]
          },
          "metadata": {},
          "execution_count": 32
        }
      ]
    },
    {
      "cell_type": "code",
      "source": [
        "def review_to_words(raw_review ):\n",
        "    # 1. HTML 제거\n",
        "    review_text = BeautifulSoup(raw_review, 'html.parser').get_text()\n",
        "    # 2. 영문자가 아닌 문자는 공백으로 변환\n",
        "    letters_only = re.sub('[^a-zA-Z]', ' ', review_text)\n",
        "    # 3. 소문자 변환\n",
        "    words = letters_only.lower().split()\n",
        "    # 4. 파이썬에서는 리스트보다 세트로 찾는게 훨씬 빠르다.\n",
        "    # stopwords 를 세트로 변환한다.\n",
        "    stops = set(stopwords.words('english'))\n",
        "    # 5. Stopwords 불용어 제거\n",
        "    meaningful_words = [w for w in words if not w in stops]\n",
        "    # 6. 어간추출\n",
        "    stemming_words = [stemmer.stem(w) for w in meaningful_words]\n",
        "    # 7. 공백으로 구분된 문자열로 결합하여 결과를 반환\n",
        "    return( ' '.join(stemming_words) )"
      ],
      "metadata": {
        "id": "4eNrG-FTpNSQ"
      },
      "execution_count": 33,
      "outputs": []
    },
    {
      "cell_type": "code",
      "source": [
        "from multiprocessing import Pool\n",
        "import numpy as np\n",
        "\n",
        "def _apply_df(args):\n",
        "    df, func, kwargs = args\n",
        "    return df.apply(func, **kwargs)\n",
        "\n",
        "def apply_by_multiprocessing(df, func, **kwargs):\n",
        "    # 키워드 항목 중 workers 파라메터를 꺼냄\n",
        "    workers = kwargs.pop('workers')\n",
        "    # 위에서 가져온 workers 수로 프로세스 풀을 정의\n",
        "    pool = Pool(processes=workers)\n",
        "    # 실행할 함수와 데이터프레임을 워커의 수 만큼 나눠 작업\n",
        "    result = pool.map(_apply_df, [(d, func, kwargs)\n",
        "            for d in np.array_split(df, workers)])\n",
        "    pool.close()\n",
        "    # 작업 결과를 합쳐서 반환\n",
        "    return pd.concat(list(result))"
      ],
      "metadata": {
        "id": "PiHiDzLipPIM"
      },
      "execution_count": 34,
      "outputs": []
    },
    {
      "cell_type": "code",
      "source": [
        "%time clean_train_reviews = apply_by_multiprocessing(\\\n",
        "    train_set['Review'], review_to_words, workers=4)  "
      ],
      "metadata": {
        "id": "C1IwL7YJpRS6",
        "colab": {
          "base_uri": "https://localhost:8080/"
        },
        "outputId": "3b5b3bac-97b2-4351-8de6-09ac0cdc31e5"
      },
      "execution_count": 35,
      "outputs": [
        {
          "output_type": "stream",
          "name": "stdout",
          "text": [
            "CPU times: user 34.7 ms, sys: 53.2 ms, total: 88 ms\n",
            "Wall time: 2.66 s\n"
          ]
        }
      ]
    },
    {
      "cell_type": "code",
      "source": [
        "clean_train_reviews"
      ],
      "metadata": {
        "id": "VYFaYxQtrzAs",
        "colab": {
          "base_uri": "https://localhost:8080/"
        },
        "outputId": "a5966c3a-4b69-497b-a428-83495eca7246"
      },
      "execution_count": 36,
      "outputs": [
        {
          "output_type": "execute_result",
          "data": {
            "text/plain": [
              "1519    lectur enthusiast hope exampl assign base pand...\n",
              "2501    bewar cours especi new area despit cours speci...\n",
              "8896    best machin learn cours ever best machin learn...\n",
              "6753                                          good beginn\n",
              "7326                                          awsom alway\n",
              "                              ...                        \n",
              "2740    valu cours collect read materi found place lec...\n",
              "9055    best th cours concept garphic imposs regist la...\n",
              "8206                                          nice taught\n",
              "8391                 excel cours realli help learn better\n",
              "4127    end cours start develop hacker mental cours wr...\n",
              "Name: Review, Length: 4611, dtype: object"
            ]
          },
          "metadata": {},
          "execution_count": 36
        }
      ]
    },
    {
      "cell_type": "code",
      "source": [
        "%time clean_test_reviews = apply_by_multiprocessing(\\\n",
        "   X_test, review_to_words, workers=4)  "
      ],
      "metadata": {
        "id": "MIXtUgqaQ3h_",
        "colab": {
          "base_uri": "https://localhost:8080/"
        },
        "outputId": "f90248e7-814a-41c9-c5dd-3b5781c31c4d"
      },
      "execution_count": 37,
      "outputs": [
        {
          "output_type": "stream",
          "name": "stdout",
          "text": [
            "CPU times: user 40.4 ms, sys: 55.2 ms, total: 95.7 ms\n",
            "Wall time: 3.24 s\n"
          ]
        }
      ]
    },
    {
      "cell_type": "markdown",
      "source": [
        "### Bag-of-words model - Wikipedia  \n",
        "다음의 두 문장이 있다고 하자,  \n",
        "\n",
        "(1) John likes to watch movies. Mary likes movies too.  \n",
        "(2) John also likes to watch football games.  \n",
        "위 두 문장을 토큰화 하여 가방에 담아주면 다음과 같다.  \n",
        "\n",
        "[\n",
        "    \"John\",  \n",
        "    \"likes\",  \n",
        "    \"to\",  \n",
        "    \"watch\",  \n",
        "    \"movies\",  \n",
        "    \"Mary\",    \n",
        "    \"too\",  \n",
        "    \"also\",  \n",
        "    \"football\",  \n",
        "    \"games\"  \n",
        "]  \n",
        "그리고 배열의 순서대로 가방에서 각 토큰이 몇 번 등장하는지 횟수를 세어준다.  \n",
        "  \n",
        "(1) [1, 2, 1, 1, 2, 1, 1, 0, 0, 0]    \n",
        "(2) [1, 1, 1, 1, 0, 0, 0, 1, 1, 1]    \n",
        "=> 머신러닝 알고리즘이 이해할 수 있는 형태로 바꿔주는 작업이다.  \n",
        "  \n",
        "단어 가방을 n-gram을 사용해 bigram 으로 담아주면 다음과 같다.  \n",
        "\n",
        "[  \n",
        "    \"John likes\",  \n",
        "    \"likes to\",  \n",
        "    \"to watch\",  \n",
        "    \"watch movies\",  \n",
        "    \"Mary likes\",  \n",
        "    \"likes movies\",  \n",
        "    \"movies too\",  \n",
        "]\n",
        "\n",
        "**>>여기서는 입력한 텍스트를 자동으로 BoW로 만드는 CountVectorizer를 사용한다.**   \n",
        "\n",
        "**>>CountVectorizer를 통해 위 작업을 한다.** "
      ],
      "metadata": {
        "id": "ICr7PPIbu34f"
      }
    },
    {
      "cell_type": "markdown",
      "source": [
        "### CountVectorizer\n",
        "- 기본코드  \n",
        "`from sklearn.feature_extraction.text import CountVectorizer`    \n",
        "`tdmvector = CountVectorizer()`    \n",
        "`X_train_tdm = tdmvector.fit_transform(newsdata.data)`    \n",
        "<br><br>\n",
        "- CountVectorizer 파라미터  \n",
        "출처: https://chan-lab.tistory.com/27 [은공지능 공작소]\n",
        "1.  **analyzer**\n",
        "  - 학습단위를 결정하는 파라미터입니다.\n",
        "  - word, char 2가지 옵션 정도를 고려해볼 수 있습니다.\n",
        "  - analyzer = 'word'라고 설정시, 학습의 단위를 단어로 설정합니다. (ex - home, go, my ...)\n",
        "  - analyzer = 'char'라고 설정시, 학습의 단위를 글자로 설정합니다.(ex - a, b, c, d ...)\n",
        "  - char 기반의 analyzer을 하면, ('a', 1), ('b', 2), ('c', 3), ('e', 4), ('g', 5), ('h', 6), ('i', 7)... 형태로 출력되기 때문에 실제 모델에서\n",
        "좋은 성능을 보일지 의문이 남을 수도 있을 것 같습니다.  \n",
        "결론부터 말씀드리면, 상당히 좋은 결과를 내놓을 수 있습니다.  \n",
        "제가 CNN 모델에서 char analyzer로 학습을 시킨 적이 있었는데,\n",
        "생각보다 괜찮은 결과가 나왔던 것으로 기억합니다.  \n",
        "그러니 모델의 성능을 올리기 위해서, word 기반 방법만 고집할 것이 아니라 char 기반의 방법도 시도해 볼 만하다고 생각합니다.  \n",
        "\n",
        "2. **min_df**\n",
        "  - 최소 빈도값을 설정해주는 파라미터\n",
        "최소 DF가 2로 설정되었으니, 1인 것들은 모두 탈락하게 됩니다.\n",
        "\n",
        "3. **ngram_range 파라미터**   \n",
        "  - 만약 ngram_range = (1, 3)라고 한다면, 단어의 묶음을 1개부터 3개까지 설정하라는 뜻입니다.\n",
        "  - 단어사전에는 1개 단어묶음도 있고, 2개 단어묶음도, 3개 단어묶음도 존재하게 되겠죠.\n"
      ],
      "metadata": {
        "id": "kxfM9b9l0PMc"
      }
    },
    {
      "cell_type": "code",
      "source": [
        "from sklearn.feature_extraction.text import CountVectorizer\n",
        "\n",
        "vectorizer = CountVectorizer(analyzer = 'word', \n",
        "                             tokenizer = None,\n",
        "                             preprocessor = None, \n",
        "                             stop_words = None, \n",
        "                             min_df = 2, # 토큰이 나타날 최소 문서 개수\n",
        "                             ngram_range=(1, 3),\n",
        "                             max_features = 20000\n",
        "                            )\n",
        "vectorizer #파라미터가 잘 적용됐는지 찍어보기.자주찍어보는게 좋다. "
      ],
      "metadata": {
        "colab": {
          "base_uri": "https://localhost:8080/"
        },
        "id": "z_vY2m36pTZI",
        "outputId": "f9227ffe-f25c-4d0a-9379-280825650c71"
      },
      "execution_count": 38,
      "outputs": [
        {
          "output_type": "execute_result",
          "data": {
            "text/plain": [
              "CountVectorizer(max_features=20000, min_df=2, ngram_range=(1, 3))"
            ]
          },
          "metadata": {},
          "execution_count": 38
        }
      ]
    },
    {
      "cell_type": "markdown",
      "source": [
        "## Creating a Pipeline \n",
        "이제 학습 파이프라인을 만듭니다.   \n",
        "pipeline은 feature engineering의 여러 과정을 묶어 줄 때 사용합니다.  sklearn에서는 Pipeline이라는 클래스로 두 모델을 연결할 수 있습니다.    \n",
        "가장 먼저 CounterVectorizer를 이용해 단어를 숫자로 인코딩 한뒤, 인코딩된 숫자를 곧 바로 NaiveBayes 모델의 입력으로 넣어서 학습하는 파이프라인을 고안해볼 수 있습니다.  \n",
        "\n",
        "[예시]  \n",
        "\n",
        "from sklearn.feature_extraction.text import CountVectorizer  \n",
        "pipeline = Pipeline([  \n",
        "    ('word_encoder', CountVectorizer(analyzer=preprocess)),  \n",
        "    ('classifier', BernoulliNB())  \n",
        "])  \n",
        "  \n",
        "pipeline.fit(train_feature, train_label)  \n",
        "  \n",
        "\n",
        "https://deepinsight.tistory.com/173"
      ],
      "metadata": {
        "id": "A-MmUCRo5o2D"
      }
    },
    {
      "cell_type": "code",
      "source": [
        "# 여기에서는 하나의 과정만 묶어주어 pipeline이 불필요 할 수도 있습니다.\n",
        "\n",
        "from sklearn.pipeline import Pipeline\n",
        "\n",
        "pipeline = Pipeline([\n",
        "    ('vect', vectorizer),\n",
        "])  "
      ],
      "metadata": {
        "id": "a7WygmMopVmB"
      },
      "execution_count": 53,
      "outputs": []
    },
    {
      "cell_type": "code",
      "source": [
        "'''\n",
        "CountVectorizer는 여러 메소드 목록을 제공하고 있습니다.\n",
        "메소드 중에서 fit_transform 을 하면  term-document matrix 를 반환하는 것을 볼 수 있습니다.\n",
        "파이프라인으로 fit_transform을 해주게 되는데 해당 과정의 결과로 피처의 목록과 등장여부를 알 수 있습니다.\n",
        "'''\n",
        "%time train_data_features = pipeline.fit_transform(clean_train_reviews)\n",
        "train_data_features"
      ],
      "metadata": {
        "colab": {
          "base_uri": "https://localhost:8080/"
        },
        "id": "ehK3-lSdpXVx",
        "outputId": "7af467ce-1d5e-4ce5-fc06-1573d506e4c9"
      },
      "execution_count": 54,
      "outputs": [
        {
          "output_type": "stream",
          "name": "stdout",
          "text": [
            "CPU times: user 733 ms, sys: 19.8 ms, total: 753 ms\n",
            "Wall time: 753 ms\n"
          ]
        },
        {
          "output_type": "execute_result",
          "data": {
            "text/plain": [
              "<4611x14047 sparse matrix of type '<class 'numpy.int64'>'\n",
              "\twith 117052 stored elements in Compressed Sparse Row format>"
            ]
          },
          "metadata": {},
          "execution_count": 54
        }
      ]
    },
    {
      "cell_type": "markdown",
      "source": [
        "보통 fit을 학습하는데 사용하는데 여기에서는 벡터화 할 때도 fit을 사용했습니다. 사이킷런에 구현된 벡터화 알고리즘이 fit을 사용해서 벡터화 하도록 되어 있습니다. 따라서 RF에서의 fit과 벡터화에 사용되는 fit은 다른 성격입니다."
      ],
      "metadata": {
        "id": "jPQXLjIy5kJy"
      }
    },
    {
      "cell_type": "code",
      "source": [
        "# vectorize를 한 결과 \n",
        "train_data_features.shape"
      ],
      "metadata": {
        "colab": {
          "base_uri": "https://localhost:8080/"
        },
        "id": "0dJkhVSqpZfo",
        "outputId": "9a63f957-4f4b-44c9-8a12-c496e2b205ce"
      },
      "execution_count": 55,
      "outputs": [
        {
          "output_type": "execute_result",
          "data": {
            "text/plain": [
              "(4611, 14047)"
            ]
          },
          "metadata": {},
          "execution_count": 55
        }
      ]
    },
    {
      "cell_type": "code",
      "source": [
        "'''\n",
        "get_feature_names() 라는 것도 CountVectorizer 에서 사용할 수 있는 메소드 중 하나입니다.\n",
        "위에서 정의한 CountVectorizer 에 데이터를 넣어주고 fit 혹은 fit_transform 을 하게 되면 벡터화와 함께 사전(get_feature_names)을 생성하게 됩니다.\n",
        "'''\n",
        "vocab = vectorizer.get_feature_names()\n",
        "print(len(vocab))\n",
        "vocab[:10]"
      ],
      "metadata": {
        "colab": {
          "base_uri": "https://localhost:8080/"
        },
        "id": "wevNpsJUpab-",
        "outputId": "49548ea6-03c6-40c2-d9cb-729869914cee"
      },
      "execution_count": 56,
      "outputs": [
        {
          "output_type": "stream",
          "name": "stdout",
          "text": [
            "14047\n"
          ]
        },
        {
          "output_type": "stream",
          "name": "stderr",
          "text": [
            "/usr/local/lib/python3.7/dist-packages/sklearn/utils/deprecation.py:87: FutureWarning: Function get_feature_names is deprecated; get_feature_names is deprecated in 1.0 and will be removed in 1.2. Please use get_feature_names_out instead.\n",
            "  warnings.warn(msg, category=FutureWarning)\n"
          ]
        },
        {
          "output_type": "execute_result",
          "data": {
            "text/plain": [
              "['abandon',\n",
              " 'abil',\n",
              " 'abl',\n",
              " 'abl appli',\n",
              " 'abl complet',\n",
              " 'abl complet assign',\n",
              " 'abl complet cours',\n",
              " 'abl creat',\n",
              " 'abl exercis',\n",
              " 'abl find']"
            ]
          },
          "metadata": {},
          "execution_count": 56
        }
      ]
    },
    {
      "cell_type": "code",
      "source": [
        "# 벡터화 된 피처를 확인해 봄\n",
        "import numpy as np\n",
        "dist = np.sum(train_data_features, axis=0)\n",
        "    \n",
        "for tag, count in zip(vocab, dist):\n",
        "    print(count, tag)\n",
        "    \n",
        "pd.DataFrame(dist, columns=vocab)"
      ],
      "metadata": {
        "colab": {
          "base_uri": "https://localhost:8080/",
          "height": 190
        },
        "id": "uuObyZlapcMT",
        "outputId": "77a5a065-fcab-4180-bb67-f3b02eb3436a"
      },
      "execution_count": 57,
      "outputs": [
        {
          "output_type": "stream",
          "name": "stdout",
          "text": [
            "[[  8  24 112 ...   3   2   2]] abandon\n"
          ]
        },
        {
          "output_type": "execute_result",
          "data": {
            "text/plain": [
              "   abandon  abil  abl  abl appli  abl complet  abl complet assign  \\\n",
              "0        8    24  112          4            9                   2   \n",
              "\n",
              "   abl complet cours  abl creat  abl exercis  abl find  ...  youtub watch  \\\n",
              "0                  4          3            2         4  ...             2   \n",
              "\n",
              "   zero  zero experi  zero interact  zero littl  zero star  zip  zizozi  zmot  \\\n",
              "0    26            2              2           2          3    3       3     2   \n",
              "\n",
              "   zone  \n",
              "0     2  \n",
              "\n",
              "[1 rows x 14047 columns]"
            ],
            "text/html": [
              "\n",
              "  <div id=\"df-86b63cd1-d879-4aeb-8bde-904eff04e58d\">\n",
              "    <div class=\"colab-df-container\">\n",
              "      <div>\n",
              "<style scoped>\n",
              "    .dataframe tbody tr th:only-of-type {\n",
              "        vertical-align: middle;\n",
              "    }\n",
              "\n",
              "    .dataframe tbody tr th {\n",
              "        vertical-align: top;\n",
              "    }\n",
              "\n",
              "    .dataframe thead th {\n",
              "        text-align: right;\n",
              "    }\n",
              "</style>\n",
              "<table border=\"1\" class=\"dataframe\">\n",
              "  <thead>\n",
              "    <tr style=\"text-align: right;\">\n",
              "      <th></th>\n",
              "      <th>abandon</th>\n",
              "      <th>abil</th>\n",
              "      <th>abl</th>\n",
              "      <th>abl appli</th>\n",
              "      <th>abl complet</th>\n",
              "      <th>abl complet assign</th>\n",
              "      <th>abl complet cours</th>\n",
              "      <th>abl creat</th>\n",
              "      <th>abl exercis</th>\n",
              "      <th>abl find</th>\n",
              "      <th>...</th>\n",
              "      <th>youtub watch</th>\n",
              "      <th>zero</th>\n",
              "      <th>zero experi</th>\n",
              "      <th>zero interact</th>\n",
              "      <th>zero littl</th>\n",
              "      <th>zero star</th>\n",
              "      <th>zip</th>\n",
              "      <th>zizozi</th>\n",
              "      <th>zmot</th>\n",
              "      <th>zone</th>\n",
              "    </tr>\n",
              "  </thead>\n",
              "  <tbody>\n",
              "    <tr>\n",
              "      <th>0</th>\n",
              "      <td>8</td>\n",
              "      <td>24</td>\n",
              "      <td>112</td>\n",
              "      <td>4</td>\n",
              "      <td>9</td>\n",
              "      <td>2</td>\n",
              "      <td>4</td>\n",
              "      <td>3</td>\n",
              "      <td>2</td>\n",
              "      <td>4</td>\n",
              "      <td>...</td>\n",
              "      <td>2</td>\n",
              "      <td>26</td>\n",
              "      <td>2</td>\n",
              "      <td>2</td>\n",
              "      <td>2</td>\n",
              "      <td>3</td>\n",
              "      <td>3</td>\n",
              "      <td>3</td>\n",
              "      <td>2</td>\n",
              "      <td>2</td>\n",
              "    </tr>\n",
              "  </tbody>\n",
              "</table>\n",
              "<p>1 rows × 14047 columns</p>\n",
              "</div>\n",
              "      <button class=\"colab-df-convert\" onclick=\"convertToInteractive('df-86b63cd1-d879-4aeb-8bde-904eff04e58d')\"\n",
              "              title=\"Convert this dataframe to an interactive table.\"\n",
              "              style=\"display:none;\">\n",
              "        \n",
              "  <svg xmlns=\"http://www.w3.org/2000/svg\" height=\"24px\"viewBox=\"0 0 24 24\"\n",
              "       width=\"24px\">\n",
              "    <path d=\"M0 0h24v24H0V0z\" fill=\"none\"/>\n",
              "    <path d=\"M18.56 5.44l.94 2.06.94-2.06 2.06-.94-2.06-.94-.94-2.06-.94 2.06-2.06.94zm-11 1L8.5 8.5l.94-2.06 2.06-.94-2.06-.94L8.5 2.5l-.94 2.06-2.06.94zm10 10l.94 2.06.94-2.06 2.06-.94-2.06-.94-.94-2.06-.94 2.06-2.06.94z\"/><path d=\"M17.41 7.96l-1.37-1.37c-.4-.4-.92-.59-1.43-.59-.52 0-1.04.2-1.43.59L10.3 9.45l-7.72 7.72c-.78.78-.78 2.05 0 2.83L4 21.41c.39.39.9.59 1.41.59.51 0 1.02-.2 1.41-.59l7.78-7.78 2.81-2.81c.8-.78.8-2.07 0-2.86zM5.41 20L4 18.59l7.72-7.72 1.47 1.35L5.41 20z\"/>\n",
              "  </svg>\n",
              "      </button>\n",
              "      \n",
              "  <style>\n",
              "    .colab-df-container {\n",
              "      display:flex;\n",
              "      flex-wrap:wrap;\n",
              "      gap: 12px;\n",
              "    }\n",
              "\n",
              "    .colab-df-convert {\n",
              "      background-color: #E8F0FE;\n",
              "      border: none;\n",
              "      border-radius: 50%;\n",
              "      cursor: pointer;\n",
              "      display: none;\n",
              "      fill: #1967D2;\n",
              "      height: 32px;\n",
              "      padding: 0 0 0 0;\n",
              "      width: 32px;\n",
              "    }\n",
              "\n",
              "    .colab-df-convert:hover {\n",
              "      background-color: #E2EBFA;\n",
              "      box-shadow: 0px 1px 2px rgba(60, 64, 67, 0.3), 0px 1px 3px 1px rgba(60, 64, 67, 0.15);\n",
              "      fill: #174EA6;\n",
              "    }\n",
              "\n",
              "    [theme=dark] .colab-df-convert {\n",
              "      background-color: #3B4455;\n",
              "      fill: #D2E3FC;\n",
              "    }\n",
              "\n",
              "    [theme=dark] .colab-df-convert:hover {\n",
              "      background-color: #434B5C;\n",
              "      box-shadow: 0px 1px 3px 1px rgba(0, 0, 0, 0.15);\n",
              "      filter: drop-shadow(0px 1px 2px rgba(0, 0, 0, 0.3));\n",
              "      fill: #FFFFFF;\n",
              "    }\n",
              "  </style>\n",
              "\n",
              "      <script>\n",
              "        const buttonEl =\n",
              "          document.querySelector('#df-86b63cd1-d879-4aeb-8bde-904eff04e58d button.colab-df-convert');\n",
              "        buttonEl.style.display =\n",
              "          google.colab.kernel.accessAllowed ? 'block' : 'none';\n",
              "\n",
              "        async function convertToInteractive(key) {\n",
              "          const element = document.querySelector('#df-86b63cd1-d879-4aeb-8bde-904eff04e58d');\n",
              "          const dataTable =\n",
              "            await google.colab.kernel.invokeFunction('convertToInteractive',\n",
              "                                                     [key], {});\n",
              "          if (!dataTable) return;\n",
              "\n",
              "          const docLinkHtml = 'Like what you see? Visit the ' +\n",
              "            '<a target=\"_blank\" href=https://colab.research.google.com/notebooks/data_table.ipynb>data table notebook</a>'\n",
              "            + ' to learn more about interactive tables.';\n",
              "          element.innerHTML = '';\n",
              "          dataTable['output_type'] = 'display_data';\n",
              "          await google.colab.output.renderOutput(dataTable, element);\n",
              "          const docLink = document.createElement('div');\n",
              "          docLink.innerHTML = docLinkHtml;\n",
              "          element.appendChild(docLink);\n",
              "        }\n",
              "      </script>\n",
              "    </div>\n",
              "  </div>\n",
              "  "
            ]
          },
          "metadata": {},
          "execution_count": 57
        }
      ]
    },
    {
      "cell_type": "code",
      "source": [
        "pd.DataFrame(train_data_features[:10].toarray(), columns=vocab).head()"
      ],
      "metadata": {
        "colab": {
          "base_uri": "https://localhost:8080/",
          "height": 297
        },
        "id": "XWFxutl8pdsj",
        "outputId": "476c685e-fa81-4d9a-8ace-0d385478126c"
      },
      "execution_count": 58,
      "outputs": [
        {
          "output_type": "execute_result",
          "data": {
            "text/plain": [
              "   abandon  abil  abl  abl appli  abl complet  abl complet assign  \\\n",
              "0        0     0    0          0            0                   0   \n",
              "1        0     0    0          0            0                   0   \n",
              "2        0     0    0          0            0                   0   \n",
              "3        0     0    0          0            0                   0   \n",
              "4        0     0    0          0            0                   0   \n",
              "\n",
              "   abl complet cours  abl creat  abl exercis  abl find  ...  youtub watch  \\\n",
              "0                  0          0            0         0  ...             0   \n",
              "1                  0          0            0         0  ...             0   \n",
              "2                  0          0            0         0  ...             0   \n",
              "3                  0          0            0         0  ...             0   \n",
              "4                  0          0            0         0  ...             0   \n",
              "\n",
              "   zero  zero experi  zero interact  zero littl  zero star  zip  zizozi  zmot  \\\n",
              "0     0            0              0           0          0    0       0     0   \n",
              "1     0            0              0           0          0    0       0     0   \n",
              "2     0            0              0           0          0    0       0     0   \n",
              "3     0            0              0           0          0    0       0     0   \n",
              "4     0            0              0           0          0    0       0     0   \n",
              "\n",
              "   zone  \n",
              "0     0  \n",
              "1     0  \n",
              "2     0  \n",
              "3     0  \n",
              "4     0  \n",
              "\n",
              "[5 rows x 14047 columns]"
            ],
            "text/html": [
              "\n",
              "  <div id=\"df-d9a1697e-bc29-4fab-8ea7-08c1ca5b533f\">\n",
              "    <div class=\"colab-df-container\">\n",
              "      <div>\n",
              "<style scoped>\n",
              "    .dataframe tbody tr th:only-of-type {\n",
              "        vertical-align: middle;\n",
              "    }\n",
              "\n",
              "    .dataframe tbody tr th {\n",
              "        vertical-align: top;\n",
              "    }\n",
              "\n",
              "    .dataframe thead th {\n",
              "        text-align: right;\n",
              "    }\n",
              "</style>\n",
              "<table border=\"1\" class=\"dataframe\">\n",
              "  <thead>\n",
              "    <tr style=\"text-align: right;\">\n",
              "      <th></th>\n",
              "      <th>abandon</th>\n",
              "      <th>abil</th>\n",
              "      <th>abl</th>\n",
              "      <th>abl appli</th>\n",
              "      <th>abl complet</th>\n",
              "      <th>abl complet assign</th>\n",
              "      <th>abl complet cours</th>\n",
              "      <th>abl creat</th>\n",
              "      <th>abl exercis</th>\n",
              "      <th>abl find</th>\n",
              "      <th>...</th>\n",
              "      <th>youtub watch</th>\n",
              "      <th>zero</th>\n",
              "      <th>zero experi</th>\n",
              "      <th>zero interact</th>\n",
              "      <th>zero littl</th>\n",
              "      <th>zero star</th>\n",
              "      <th>zip</th>\n",
              "      <th>zizozi</th>\n",
              "      <th>zmot</th>\n",
              "      <th>zone</th>\n",
              "    </tr>\n",
              "  </thead>\n",
              "  <tbody>\n",
              "    <tr>\n",
              "      <th>0</th>\n",
              "      <td>0</td>\n",
              "      <td>0</td>\n",
              "      <td>0</td>\n",
              "      <td>0</td>\n",
              "      <td>0</td>\n",
              "      <td>0</td>\n",
              "      <td>0</td>\n",
              "      <td>0</td>\n",
              "      <td>0</td>\n",
              "      <td>0</td>\n",
              "      <td>...</td>\n",
              "      <td>0</td>\n",
              "      <td>0</td>\n",
              "      <td>0</td>\n",
              "      <td>0</td>\n",
              "      <td>0</td>\n",
              "      <td>0</td>\n",
              "      <td>0</td>\n",
              "      <td>0</td>\n",
              "      <td>0</td>\n",
              "      <td>0</td>\n",
              "    </tr>\n",
              "    <tr>\n",
              "      <th>1</th>\n",
              "      <td>0</td>\n",
              "      <td>0</td>\n",
              "      <td>0</td>\n",
              "      <td>0</td>\n",
              "      <td>0</td>\n",
              "      <td>0</td>\n",
              "      <td>0</td>\n",
              "      <td>0</td>\n",
              "      <td>0</td>\n",
              "      <td>0</td>\n",
              "      <td>...</td>\n",
              "      <td>0</td>\n",
              "      <td>0</td>\n",
              "      <td>0</td>\n",
              "      <td>0</td>\n",
              "      <td>0</td>\n",
              "      <td>0</td>\n",
              "      <td>0</td>\n",
              "      <td>0</td>\n",
              "      <td>0</td>\n",
              "      <td>0</td>\n",
              "    </tr>\n",
              "    <tr>\n",
              "      <th>2</th>\n",
              "      <td>0</td>\n",
              "      <td>0</td>\n",
              "      <td>0</td>\n",
              "      <td>0</td>\n",
              "      <td>0</td>\n",
              "      <td>0</td>\n",
              "      <td>0</td>\n",
              "      <td>0</td>\n",
              "      <td>0</td>\n",
              "      <td>0</td>\n",
              "      <td>...</td>\n",
              "      <td>0</td>\n",
              "      <td>0</td>\n",
              "      <td>0</td>\n",
              "      <td>0</td>\n",
              "      <td>0</td>\n",
              "      <td>0</td>\n",
              "      <td>0</td>\n",
              "      <td>0</td>\n",
              "      <td>0</td>\n",
              "      <td>0</td>\n",
              "    </tr>\n",
              "    <tr>\n",
              "      <th>3</th>\n",
              "      <td>0</td>\n",
              "      <td>0</td>\n",
              "      <td>0</td>\n",
              "      <td>0</td>\n",
              "      <td>0</td>\n",
              "      <td>0</td>\n",
              "      <td>0</td>\n",
              "      <td>0</td>\n",
              "      <td>0</td>\n",
              "      <td>0</td>\n",
              "      <td>...</td>\n",
              "      <td>0</td>\n",
              "      <td>0</td>\n",
              "      <td>0</td>\n",
              "      <td>0</td>\n",
              "      <td>0</td>\n",
              "      <td>0</td>\n",
              "      <td>0</td>\n",
              "      <td>0</td>\n",
              "      <td>0</td>\n",
              "      <td>0</td>\n",
              "    </tr>\n",
              "    <tr>\n",
              "      <th>4</th>\n",
              "      <td>0</td>\n",
              "      <td>0</td>\n",
              "      <td>0</td>\n",
              "      <td>0</td>\n",
              "      <td>0</td>\n",
              "      <td>0</td>\n",
              "      <td>0</td>\n",
              "      <td>0</td>\n",
              "      <td>0</td>\n",
              "      <td>0</td>\n",
              "      <td>...</td>\n",
              "      <td>0</td>\n",
              "      <td>0</td>\n",
              "      <td>0</td>\n",
              "      <td>0</td>\n",
              "      <td>0</td>\n",
              "      <td>0</td>\n",
              "      <td>0</td>\n",
              "      <td>0</td>\n",
              "      <td>0</td>\n",
              "      <td>0</td>\n",
              "    </tr>\n",
              "  </tbody>\n",
              "</table>\n",
              "<p>5 rows × 14047 columns</p>\n",
              "</div>\n",
              "      <button class=\"colab-df-convert\" onclick=\"convertToInteractive('df-d9a1697e-bc29-4fab-8ea7-08c1ca5b533f')\"\n",
              "              title=\"Convert this dataframe to an interactive table.\"\n",
              "              style=\"display:none;\">\n",
              "        \n",
              "  <svg xmlns=\"http://www.w3.org/2000/svg\" height=\"24px\"viewBox=\"0 0 24 24\"\n",
              "       width=\"24px\">\n",
              "    <path d=\"M0 0h24v24H0V0z\" fill=\"none\"/>\n",
              "    <path d=\"M18.56 5.44l.94 2.06.94-2.06 2.06-.94-2.06-.94-.94-2.06-.94 2.06-2.06.94zm-11 1L8.5 8.5l.94-2.06 2.06-.94-2.06-.94L8.5 2.5l-.94 2.06-2.06.94zm10 10l.94 2.06.94-2.06 2.06-.94-2.06-.94-.94-2.06-.94 2.06-2.06.94z\"/><path d=\"M17.41 7.96l-1.37-1.37c-.4-.4-.92-.59-1.43-.59-.52 0-1.04.2-1.43.59L10.3 9.45l-7.72 7.72c-.78.78-.78 2.05 0 2.83L4 21.41c.39.39.9.59 1.41.59.51 0 1.02-.2 1.41-.59l7.78-7.78 2.81-2.81c.8-.78.8-2.07 0-2.86zM5.41 20L4 18.59l7.72-7.72 1.47 1.35L5.41 20z\"/>\n",
              "  </svg>\n",
              "      </button>\n",
              "      \n",
              "  <style>\n",
              "    .colab-df-container {\n",
              "      display:flex;\n",
              "      flex-wrap:wrap;\n",
              "      gap: 12px;\n",
              "    }\n",
              "\n",
              "    .colab-df-convert {\n",
              "      background-color: #E8F0FE;\n",
              "      border: none;\n",
              "      border-radius: 50%;\n",
              "      cursor: pointer;\n",
              "      display: none;\n",
              "      fill: #1967D2;\n",
              "      height: 32px;\n",
              "      padding: 0 0 0 0;\n",
              "      width: 32px;\n",
              "    }\n",
              "\n",
              "    .colab-df-convert:hover {\n",
              "      background-color: #E2EBFA;\n",
              "      box-shadow: 0px 1px 2px rgba(60, 64, 67, 0.3), 0px 1px 3px 1px rgba(60, 64, 67, 0.15);\n",
              "      fill: #174EA6;\n",
              "    }\n",
              "\n",
              "    [theme=dark] .colab-df-convert {\n",
              "      background-color: #3B4455;\n",
              "      fill: #D2E3FC;\n",
              "    }\n",
              "\n",
              "    [theme=dark] .colab-df-convert:hover {\n",
              "      background-color: #434B5C;\n",
              "      box-shadow: 0px 1px 3px 1px rgba(0, 0, 0, 0.15);\n",
              "      filter: drop-shadow(0px 1px 2px rgba(0, 0, 0, 0.3));\n",
              "      fill: #FFFFFF;\n",
              "    }\n",
              "  </style>\n",
              "\n",
              "      <script>\n",
              "        const buttonEl =\n",
              "          document.querySelector('#df-d9a1697e-bc29-4fab-8ea7-08c1ca5b533f button.colab-df-convert');\n",
              "        buttonEl.style.display =\n",
              "          google.colab.kernel.accessAllowed ? 'block' : 'none';\n",
              "\n",
              "        async function convertToInteractive(key) {\n",
              "          const element = document.querySelector('#df-d9a1697e-bc29-4fab-8ea7-08c1ca5b533f');\n",
              "          const dataTable =\n",
              "            await google.colab.kernel.invokeFunction('convertToInteractive',\n",
              "                                                     [key], {});\n",
              "          if (!dataTable) return;\n",
              "\n",
              "          const docLinkHtml = 'Like what you see? Visit the ' +\n",
              "            '<a target=\"_blank\" href=https://colab.research.google.com/notebooks/data_table.ipynb>data table notebook</a>'\n",
              "            + ' to learn more about interactive tables.';\n",
              "          element.innerHTML = '';\n",
              "          dataTable['output_type'] = 'display_data';\n",
              "          await google.colab.output.renderOutput(dataTable, element);\n",
              "          const docLink = document.createElement('div');\n",
              "          docLink.innerHTML = docLinkHtml;\n",
              "          element.appendChild(docLink);\n",
              "        }\n",
              "      </script>\n",
              "    </div>\n",
              "  </div>\n",
              "  "
            ]
          },
          "metadata": {},
          "execution_count": 58
        }
      ]
    },
    {
      "cell_type": "markdown",
      "source": [
        "## Generating the Model"
      ],
      "metadata": {
        "id": "8DJwxi8l-gyv"
      }
    },
    {
      "cell_type": "code",
      "source": [
        "from sklearn.ensemble import RandomForestClassifier\n",
        "\n",
        "# 랜덤포레스트 분류기를 사용\n",
        "# 100개의 트리\n",
        "model = RandomForestClassifier(n_estimators = 100, n_jobs = -1, random_state=2018)\n",
        "model"
      ],
      "metadata": {
        "colab": {
          "base_uri": "https://localhost:8080/"
        },
        "id": "F82m3Ctvpe5L",
        "outputId": "1ed23b1e-4a83-4051-bd8d-2213b7d9fe55"
      },
      "execution_count": 59,
      "outputs": [
        {
          "output_type": "execute_result",
          "data": {
            "text/plain": [
              "RandomForestClassifier(n_jobs=-1, random_state=2018)"
            ]
          },
          "metadata": {},
          "execution_count": 59
        }
      ]
    },
    {
      "cell_type": "code",
      "source": [
        " # model.fit(X_train, y_train)  #모델 학습\n",
        "# 위에서 X = dataset['Review'], y = dataset['Label'] 으로 해주고 x_train, y_train_split() 했으니까, y_train으로(dataset['Label']이 아니고)\n",
        "\n",
        "%time model = model.fit(train_data_features, y_train)\n",
        "\n",
        "# pred = model.predict(X_test)"
      ],
      "metadata": {
        "colab": {
          "base_uri": "https://localhost:8080/"
        },
        "id": "4rBQQUvfDMYI",
        "outputId": "91cb5d13-c103-4d1e-83d2-95322d0e1656"
      },
      "execution_count": 60,
      "outputs": [
        {
          "output_type": "stream",
          "name": "stdout",
          "text": [
            "CPU times: user 6.88 s, sys: 21.3 ms, total: 6.9 s\n",
            "Wall time: 3.76 s\n"
          ]
        }
      ]
    },
    {
      "cell_type": "code",
      "source": [
        "from sklearn.model_selection import cross_val_score\n",
        "%time score = np.mean(cross_val_score(model, train_data_features, train_set['Label'], cv=10, scoring='roc_auc'))\n",
        "score\n"
      ],
      "metadata": {
        "colab": {
          "base_uri": "https://localhost:8080/"
        },
        "id": "AGZ5_pabT-23",
        "outputId": "6a5179c9-0dd2-4f2a-87e5-bee540602253"
      },
      "execution_count": 61,
      "outputs": [
        {
          "output_type": "stream",
          "name": "stdout",
          "text": [
            "CPU times: user 4.54 s, sys: 400 ms, total: 4.94 s\n",
            "Wall time: 45.2 s\n"
          ]
        },
        {
          "output_type": "execute_result",
          "data": {
            "text/plain": [
              "0.9144757817137197"
            ]
          },
          "metadata": {},
          "execution_count": 61
        }
      ]
    },
    {
      "cell_type": "markdown",
      "source": [
        "## Evaluating the Model"
      ],
      "metadata": {
        "id": "qbCW6qwnDTnV"
      }
    },
    {
      "cell_type": "code",
      "source": [
        "# 체크해 보고 싶은 Review(string)를 Series에 담아준다.\n",
        "# reveiw_sample1 = \"I don't like to spend money to bad lecture, but Cousera MOOC is really helpful to upgrade my understanding of U.S history.\"\n",
        "\n",
        "reveiw_sample1 = \"I have nothing but good things to say about my experience with Coursera. I have loved the learning I have been able to do and look forward to taking many more classes with them. I have always been interested in Psychology and Coursera has given me the chance to take the classes that really interest me. I don't understand the reviews with low ratings. I have never had any problems with them. \"\n",
        "sample1 = pd.Series(reveiw_sample1)"
      ],
      "metadata": {
        "id": "nD1zrwR0ph5H"
      },
      "execution_count": 62,
      "outputs": []
    },
    {
      "cell_type": "code",
      "source": [
        "# 테스트 데이터를 벡터화 함\n",
        "%time test_data_feature = pipeline.transform(sample1)\n",
        "\n",
        "test_data_feature = test_data_feature.toarray()"
      ],
      "metadata": {
        "id": "rlCjl13Xpo90",
        "colab": {
          "base_uri": "https://localhost:8080/"
        },
        "outputId": "ee286a6f-dfd3-4c15-b4c8-13f5d8f8f408"
      },
      "execution_count": 63,
      "outputs": [
        {
          "output_type": "stream",
          "name": "stdout",
          "text": [
            "CPU times: user 1.92 ms, sys: 66 µs, total: 1.98 ms\n",
            "Wall time: 2.84 ms\n"
          ]
        }
      ]
    },
    {
      "cell_type": "code",
      "source": [
        "test_data_feature"
      ],
      "metadata": {
        "id": "lDWvPXbRqV39",
        "colab": {
          "base_uri": "https://localhost:8080/"
        },
        "outputId": "0f282e97-cd29-4f3f-b3ae-af0309db38bc"
      },
      "execution_count": 64,
      "outputs": [
        {
          "output_type": "execute_result",
          "data": {
            "text/plain": [
              "array([[0, 0, 0, ..., 0, 0, 0]])"
            ]
          },
          "metadata": {},
          "execution_count": 64
        }
      ]
    },
    {
      "cell_type": "code",
      "source": [
        "# 벡터화 하며 만든 사전에서 해당 단어가 무엇인지 찾아볼 수 있다.\n",
        "vocab = vectorizer.get_feature_names()\n",
        "vocab[8], vocab[2558], vocab[2559], vocab[2560]"
      ],
      "metadata": {
        "id": "v724KHZqqY-L",
        "colab": {
          "base_uri": "https://localhost:8080/"
        },
        "outputId": "45785380-0031-4959-92fb-7ef14b5fb46e"
      },
      "execution_count": 65,
      "outputs": [
        {
          "output_type": "stream",
          "name": "stderr",
          "text": [
            "/usr/local/lib/python3.7/dist-packages/sklearn/utils/deprecation.py:87: FutureWarning: Function get_feature_names is deprecated; get_feature_names is deprecated in 1.0 and will be removed in 1.2. Please use get_feature_names_out instead.\n",
            "  warnings.warn(msg, category=FutureWarning)\n"
          ]
        },
        {
          "output_type": "execute_result",
          "data": {
            "text/plain": [
              "('abl exercis', 'cours mani video', 'cours manner', 'cours mark')"
            ]
          },
          "metadata": {},
          "execution_count": 65
        }
      ]
    },
    {
      "cell_type": "code",
      "source": [
        "# 테스트 데이터를 넣고 예측한다.\n",
        "result = model.predict(test_data_feature)\n",
        "# result[:100] # 100개의 리뷰에 대해서 뽑을 때 \n",
        "# 여기서는 test_data_feature 하나니까 결과값이 1개 나오는 것임 \n",
        "print(\"결과:\",result)  #긍정1 부정0"
      ],
      "metadata": {
        "id": "kWSiJLLDqdj-",
        "colab": {
          "base_uri": "https://localhost:8080/"
        },
        "outputId": "6898323f-cfee-4aad-fc71-73c529c682be"
      },
      "execution_count": 66,
      "outputs": [
        {
          "output_type": "stream",
          "name": "stdout",
          "text": [
            "결과: [1]\n"
          ]
        }
      ]
    },
    {
      "cell_type": "markdown",
      "source": [
        "## 모델의 정확도를 높이기 위한 개선 방법\n",
        "1. Stopwords 라이브러리 추가 \n",
        "2. Convector 파라미터 바꿔가면서 해보기 \n",
        "3. kfold를 5-fold CV로 바꿔보기"
      ],
      "metadata": {
        "id": "wBKCgf6x2af3"
      }
    }
  ]
}