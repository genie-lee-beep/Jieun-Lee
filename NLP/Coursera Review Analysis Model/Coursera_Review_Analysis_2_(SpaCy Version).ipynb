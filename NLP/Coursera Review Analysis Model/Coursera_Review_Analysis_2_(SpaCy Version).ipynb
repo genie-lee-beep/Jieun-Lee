{
 "cells": [
  {
   "cell_type": "markdown",
   "metadata": {
    "id": "0Q6RiEAxhw0l"
   },
   "source": [
    "<img src = \"https://drive.google.com/uc?id=1yCymrlge8a_0LflEdjil9GBaYmSoP4O0\" height = 80 width = 150>\n",
    "\n",
    "# Coursera Review\n",
    "\n",
    "## What is Coursera?\n",
    "Coursera is an online learning platform that allows you to take online education courses. These courses come with the opportunity to earn degrees from leading universities and companies.\n",
    "\n",
    "## Is Coursera Really Worth It?\n",
    "- If students recommend Coursera online learning, they leave positive comments and high rating(4-5 label).While if students are not satisfied with the Coursera online learning, they leaves negative comments and low rating(1-2 label).\n",
    "\n",
    "- In this notebook, the sentiment of reviews is binary, meaning the review rating <=2 results in a sentiment score of 0, and rating >=4 have a sentiment score of 1. \n",
    "\n",
    "- Dataset: 100K+ Scraped Course Reviews from the Coursera Website (As of May 2017)"
   ]
  },
  {
   "cell_type": "code",
   "execution_count": 1,
   "metadata": {
    "colab": {
     "base_uri": "https://localhost:8080/",
     "height": 424
    },
    "id": "dXjT3aPJG3Nv",
    "outputId": "dc08d83d-ce09-4af1-fac5-8fdb2320b0d2"
   },
   "outputs": [
    {
     "data": {
      "text/html": [
       "<div>\n",
       "<style scoped>\n",
       "    .dataframe tbody tr th:only-of-type {\n",
       "        vertical-align: middle;\n",
       "    }\n",
       "\n",
       "    .dataframe tbody tr th {\n",
       "        vertical-align: top;\n",
       "    }\n",
       "\n",
       "    .dataframe thead th {\n",
       "        text-align: right;\n",
       "    }\n",
       "</style>\n",
       "<table border=\"1\" class=\"dataframe\">\n",
       "  <thead>\n",
       "    <tr style=\"text-align: right;\">\n",
       "      <th></th>\n",
       "      <th>Review</th>\n",
       "      <th>Label</th>\n",
       "    </tr>\n",
       "  </thead>\n",
       "  <tbody>\n",
       "    <tr>\n",
       "      <th>0</th>\n",
       "      <td>good and interesting</td>\n",
       "      <td>5</td>\n",
       "    </tr>\n",
       "    <tr>\n",
       "      <th>1</th>\n",
       "      <td>This class is very helpful to me. Currently, I...</td>\n",
       "      <td>5</td>\n",
       "    </tr>\n",
       "    <tr>\n",
       "      <th>2</th>\n",
       "      <td>like!Prof and TAs are helpful and the discussi...</td>\n",
       "      <td>5</td>\n",
       "    </tr>\n",
       "    <tr>\n",
       "      <th>3</th>\n",
       "      <td>Easy to follow and includes a lot basic and im...</td>\n",
       "      <td>5</td>\n",
       "    </tr>\n",
       "    <tr>\n",
       "      <th>4</th>\n",
       "      <td>Really nice teacher!I could got the point eazl...</td>\n",
       "      <td>4</td>\n",
       "    </tr>\n",
       "    <tr>\n",
       "      <th>...</th>\n",
       "      <td>...</td>\n",
       "      <td>...</td>\n",
       "    </tr>\n",
       "    <tr>\n",
       "      <th>107013</th>\n",
       "      <td>Trendy topic with talks from expertises in the...</td>\n",
       "      <td>4</td>\n",
       "    </tr>\n",
       "    <tr>\n",
       "      <th>107014</th>\n",
       "      <td>Wonderful! Simple and clear language, good ins...</td>\n",
       "      <td>5</td>\n",
       "    </tr>\n",
       "    <tr>\n",
       "      <th>107015</th>\n",
       "      <td>an interesting and fun course. thanks. dr quincy</td>\n",
       "      <td>5</td>\n",
       "    </tr>\n",
       "    <tr>\n",
       "      <th>107016</th>\n",
       "      <td>very broad perspective, up to date information...</td>\n",
       "      <td>4</td>\n",
       "    </tr>\n",
       "    <tr>\n",
       "      <th>107017</th>\n",
       "      <td>An informative course on the social and financ...</td>\n",
       "      <td>4</td>\n",
       "    </tr>\n",
       "  </tbody>\n",
       "</table>\n",
       "<p>107018 rows × 2 columns</p>\n",
       "</div>"
      ],
      "text/plain": [
       "                                                   Review  Label\n",
       "0                                    good and interesting      5\n",
       "1       This class is very helpful to me. Currently, I...      5\n",
       "2       like!Prof and TAs are helpful and the discussi...      5\n",
       "3       Easy to follow and includes a lot basic and im...      5\n",
       "4       Really nice teacher!I could got the point eazl...      4\n",
       "...                                                   ...    ...\n",
       "107013  Trendy topic with talks from expertises in the...      4\n",
       "107014  Wonderful! Simple and clear language, good ins...      5\n",
       "107015   an interesting and fun course. thanks. dr quincy      5\n",
       "107016  very broad perspective, up to date information...      4\n",
       "107017  An informative course on the social and financ...      4\n",
       "\n",
       "[107018 rows x 2 columns]"
      ]
     },
     "execution_count": 1,
     "metadata": {},
     "output_type": "execute_result"
    }
   ],
   "source": [
    "import numpy as np\n",
    "import pandas as pd\n",
    "dataset = pd.read_csv('reviews.csv')\n",
    "dataset.drop(columns=\"Id\", inplace=True)\n",
    "dataset"
   ]
  },
  {
   "cell_type": "code",
   "execution_count": 2,
   "metadata": {
    "colab": {
     "base_uri": "https://localhost:8080/",
     "height": 424
    },
    "id": "Q5fZ_lipHE7C",
    "outputId": "d0f06d99-e2ea-46e9-8aad-ae518bb775cd"
   },
   "outputs": [
    {
     "data": {
      "text/html": [
       "<div>\n",
       "<style scoped>\n",
       "    .dataframe tbody tr th:only-of-type {\n",
       "        vertical-align: middle;\n",
       "    }\n",
       "\n",
       "    .dataframe tbody tr th {\n",
       "        vertical-align: top;\n",
       "    }\n",
       "\n",
       "    .dataframe thead th {\n",
       "        text-align: right;\n",
       "    }\n",
       "</style>\n",
       "<table border=\"1\" class=\"dataframe\">\n",
       "  <thead>\n",
       "    <tr style=\"text-align: right;\">\n",
       "      <th></th>\n",
       "      <th>Review</th>\n",
       "      <th>Label</th>\n",
       "    </tr>\n",
       "  </thead>\n",
       "  <tbody>\n",
       "    <tr>\n",
       "      <th>0</th>\n",
       "      <td>good and interesting</td>\n",
       "      <td>5</td>\n",
       "    </tr>\n",
       "    <tr>\n",
       "      <th>1</th>\n",
       "      <td>This class is very helpful to me. Currently, I...</td>\n",
       "      <td>5</td>\n",
       "    </tr>\n",
       "    <tr>\n",
       "      <th>2</th>\n",
       "      <td>like!Prof and TAs are helpful and the discussi...</td>\n",
       "      <td>5</td>\n",
       "    </tr>\n",
       "    <tr>\n",
       "      <th>3</th>\n",
       "      <td>Easy to follow and includes a lot basic and im...</td>\n",
       "      <td>5</td>\n",
       "    </tr>\n",
       "    <tr>\n",
       "      <th>4</th>\n",
       "      <td>Really nice teacher!I could got the point eazl...</td>\n",
       "      <td>4</td>\n",
       "    </tr>\n",
       "    <tr>\n",
       "      <th>...</th>\n",
       "      <td>...</td>\n",
       "      <td>...</td>\n",
       "    </tr>\n",
       "    <tr>\n",
       "      <th>100467</th>\n",
       "      <td>Trendy topic with talks from expertises in the...</td>\n",
       "      <td>4</td>\n",
       "    </tr>\n",
       "    <tr>\n",
       "      <th>100468</th>\n",
       "      <td>Wonderful! Simple and clear language, good ins...</td>\n",
       "      <td>5</td>\n",
       "    </tr>\n",
       "    <tr>\n",
       "      <th>100469</th>\n",
       "      <td>an interesting and fun course. thanks. dr quincy</td>\n",
       "      <td>5</td>\n",
       "    </tr>\n",
       "    <tr>\n",
       "      <th>100470</th>\n",
       "      <td>very broad perspective, up to date information...</td>\n",
       "      <td>4</td>\n",
       "    </tr>\n",
       "    <tr>\n",
       "      <th>100471</th>\n",
       "      <td>An informative course on the social and financ...</td>\n",
       "      <td>4</td>\n",
       "    </tr>\n",
       "  </tbody>\n",
       "</table>\n",
       "<p>100472 rows × 2 columns</p>\n",
       "</div>"
      ],
      "text/plain": [
       "                                                   Review  Label\n",
       "0                                    good and interesting      5\n",
       "1       This class is very helpful to me. Currently, I...      5\n",
       "2       like!Prof and TAs are helpful and the discussi...      5\n",
       "3       Easy to follow and includes a lot basic and im...      5\n",
       "4       Really nice teacher!I could got the point eazl...      4\n",
       "...                                                   ...    ...\n",
       "100467  Trendy topic with talks from expertises in the...      4\n",
       "100468  Wonderful! Simple and clear language, good ins...      5\n",
       "100469   an interesting and fun course. thanks. dr quincy      5\n",
       "100470  very broad perspective, up to date information...      4\n",
       "100471  An informative course on the social and financ...      4\n",
       "\n",
       "[100472 rows x 2 columns]"
      ]
     },
     "execution_count": 2,
     "metadata": {},
     "output_type": "execute_result"
    }
   ],
   "source": [
    "dataset = dataset.drop_duplicates(ignore_index=True)\n",
    "dataset"
   ]
  },
  {
   "cell_type": "code",
   "execution_count": 3,
   "metadata": {
    "colab": {
     "base_uri": "https://localhost:8080/",
     "height": 283
    },
    "id": "cT2rrAOwHt_u",
    "outputId": "dd74e686-3a0d-47f2-8560-9a0bda16465a"
   },
   "outputs": [
    {
     "data": {
      "text/plain": [
       "<AxesSubplot:>"
      ]
     },
     "execution_count": 3,
     "metadata": {},
     "output_type": "execute_result"
    },
    {
     "data": {
      "image/png": "[encoded data removed]",
      "text/plain": [
       "<Figure size 432x288 with 1 Axes>"
      ]
     },
     "metadata": {
      "needs_background": "light"
     },
     "output_type": "display_data"
    }
   ],
   "source": [
    "dataset['Label'].hist()"
   ]
  },
  {
   "cell_type": "code",
   "execution_count": 4,
   "metadata": {
    "colab": {
     "base_uri": "https://localhost:8080/"
    },
    "id": "W8jWCwmeHvBI",
    "outputId": "cebeccad-d257-498f-fc5c-7aa2fa7f6bdc"
   },
   "outputs": [
    {
     "data": {
      "text/plain": [
       "5    73276\n",
       "4    17558\n",
       "3     5016\n",
       "1     2403\n",
       "2     2219\n",
       "Name: Label, dtype: int64"
      ]
     },
     "execution_count": 4,
     "metadata": {},
     "output_type": "execute_result"
    }
   ],
   "source": [
    "dataset['Label'].value_counts()"
   ]
  },
  {
   "cell_type": "code",
   "execution_count": 5,
   "metadata": {
    "id": "HD7MFybnHwKS"
   },
   "outputs": [],
   "source": [
    "# 어중간한 3점 삭제해 버리기\n",
    "rating_3 = dataset[dataset['Label']==3].index\n",
    "del_3 = dataset.drop(rating_3)\n",
    "dataset=del_3"
   ]
  },
  {
   "cell_type": "code",
   "execution_count": 6,
   "metadata": {
    "colab": {
     "base_uri": "https://localhost:8080/"
    },
    "id": "sSE_RnnTHw8O",
    "outputId": "b610e11a-ed3a-4a7d-e924-7fbd15133727"
   },
   "outputs": [
    {
     "data": {
      "text/plain": [
       "5    73276\n",
       "4    17558\n",
       "1     2403\n",
       "2     2219\n",
       "Name: Label, dtype: int64"
      ]
     },
     "execution_count": 6,
     "metadata": {},
     "output_type": "execute_result"
    }
   ],
   "source": [
    "dataset['Label'].value_counts()"
   ]
  },
  {
   "cell_type": "code",
   "execution_count": 7,
   "metadata": {
    "colab": {
     "base_uri": "https://localhost:8080/"
    },
    "id": "hL0cmYWNHyQ9",
    "outputId": "cc4c67b5-53bf-4f64-a4bd-f7e4c1493d6c"
   },
   "outputs": [
    {
     "data": {
      "text/plain": [
       "4    2508\n",
       "1    2403\n",
       "2    2219\n",
       "5    2093\n",
       "Name: Label, dtype: int64"
      ]
     },
     "execution_count": 7,
     "metadata": {},
     "output_type": "execute_result"
    }
   ],
   "source": [
    "# 현재 4~5점(긍정)에 데이터가 너무 많음\n",
    "#1~2점(부정)과 4~5점(긍정) 데이터 비율을 맞춰주기\n",
    "def reduce_size(x):\n",
    "    if len(x.index) > 70000:\n",
    "        return x.sample(n=int(len(x.index)/35)) #70000/2200\n",
    "    elif len(x.index) > 17000:\n",
    "        return x.sample(n=int(len(x.index)/7)) #17000/2200\n",
    "    else:\n",
    "        return x\n",
    "\n",
    "dataset = dataset.groupby('Label').apply(reduce_size).reset_index(drop=True)\n",
    "dataset['Label'].value_counts()\n",
    "\n",
    "# 4~5점 = 4601 / 1~2점 = 4622"
   ]
  },
  {
   "cell_type": "code",
   "execution_count": 8,
   "metadata": {
    "colab": {
     "base_uri": "https://localhost:8080/"
    },
    "id": "Hfh7tNeKHzaY",
    "outputId": "ce0d348d-7f6a-4b34-8a20-589f8b098e5c"
   },
   "outputs": [
    {
     "data": {
      "text/plain": [
       "(9223, 2)"
      ]
     },
     "execution_count": 8,
     "metadata": {},
     "output_type": "execute_result"
    }
   ],
   "source": [
    "dataset.shape"
   ]
  },
  {
   "cell_type": "code",
   "execution_count": 9,
   "metadata": {
    "colab": {
     "base_uri": "https://localhost:8080/",
     "height": 424
    },
    "id": "PE8cKenanUj4",
    "outputId": "046153be-4e88-4b43-b3ec-e0fa9dfb5087"
   },
   "outputs": [
    {
     "data": {
      "text/html": [
       "<div>\n",
       "<style scoped>\n",
       "    .dataframe tbody tr th:only-of-type {\n",
       "        vertical-align: middle;\n",
       "    }\n",
       "\n",
       "    .dataframe tbody tr th {\n",
       "        vertical-align: top;\n",
       "    }\n",
       "\n",
       "    .dataframe thead th {\n",
       "        text-align: right;\n",
       "    }\n",
       "</style>\n",
       "<table border=\"1\" class=\"dataframe\">\n",
       "  <thead>\n",
       "    <tr style=\"text-align: right;\">\n",
       "      <th></th>\n",
       "      <th>Review</th>\n",
       "      <th>Label</th>\n",
       "    </tr>\n",
       "  </thead>\n",
       "  <tbody>\n",
       "    <tr>\n",
       "      <th>0</th>\n",
       "      <td>This course doesn't contain any new informatio...</td>\n",
       "      <td>1</td>\n",
       "    </tr>\n",
       "    <tr>\n",
       "      <th>1</th>\n",
       "      <td>I do not find very interesting this course. to...</td>\n",
       "      <td>1</td>\n",
       "    </tr>\n",
       "    <tr>\n",
       "      <th>2</th>\n",
       "      <td>A lot of speaking without any sense. Skip it a...</td>\n",
       "      <td>1</td>\n",
       "    </tr>\n",
       "    <tr>\n",
       "      <th>3</th>\n",
       "      <td>It's not a course... this is a very short gene...</td>\n",
       "      <td>1</td>\n",
       "    </tr>\n",
       "    <tr>\n",
       "      <th>4</th>\n",
       "      <td>First of all, I really enjoyed Professor Ittne...</td>\n",
       "      <td>1</td>\n",
       "    </tr>\n",
       "    <tr>\n",
       "      <th>...</th>\n",
       "      <td>...</td>\n",
       "      <td>...</td>\n",
       "    </tr>\n",
       "    <tr>\n",
       "      <th>9218</th>\n",
       "      <td>Fantastic course! Learned a lot from it - both...</td>\n",
       "      <td>5</td>\n",
       "    </tr>\n",
       "    <tr>\n",
       "      <th>9219</th>\n",
       "      <td>Very powerful course!</td>\n",
       "      <td>5</td>\n",
       "    </tr>\n",
       "    <tr>\n",
       "      <th>9220</th>\n",
       "      <td>Excellent course and Instructor was outstanding.</td>\n",
       "      <td>5</td>\n",
       "    </tr>\n",
       "    <tr>\n",
       "      <th>9221</th>\n",
       "      <td>Great class to take if you're a beginner or mo...</td>\n",
       "      <td>5</td>\n",
       "    </tr>\n",
       "    <tr>\n",
       "      <th>9222</th>\n",
       "      <td>Prof. Finger does a fantastic job. This is my ...</td>\n",
       "      <td>5</td>\n",
       "    </tr>\n",
       "  </tbody>\n",
       "</table>\n",
       "<p>9223 rows × 2 columns</p>\n",
       "</div>"
      ],
      "text/plain": [
       "                                                 Review  Label\n",
       "0     This course doesn't contain any new informatio...      1\n",
       "1     I do not find very interesting this course. to...      1\n",
       "2     A lot of speaking without any sense. Skip it a...      1\n",
       "3     It's not a course... this is a very short gene...      1\n",
       "4     First of all, I really enjoyed Professor Ittne...      1\n",
       "...                                                 ...    ...\n",
       "9218  Fantastic course! Learned a lot from it - both...      5\n",
       "9219                              Very powerful course!      5\n",
       "9220   Excellent course and Instructor was outstanding.      5\n",
       "9221  Great class to take if you're a beginner or mo...      5\n",
       "9222  Prof. Finger does a fantastic job. This is my ...      5\n",
       "\n",
       "[9223 rows x 2 columns]"
      ]
     },
     "execution_count": 9,
     "metadata": {},
     "output_type": "execute_result"
    }
   ],
   "source": [
    "dataset"
   ]
  },
  {
   "cell_type": "code",
   "execution_count": 10,
   "metadata": {
    "id": "-pOMoABJH4d0"
   },
   "outputs": [],
   "source": [
    "#replace has a default arg inplace=False. \n",
    "#Thus, your results will not affect each other and you will have to combine them into dataset['label']=dataset['label'].replace([1,2,4,5],[0,0,1,1]) or \n",
    "#dataset['label'].replace([1,2,4,5],[0,0,1,1],inplace=True)\n",
    "\n",
    "dataset['Label']=dataset['Label'].replace([1,2,4,5],[0,0,1,1])"
   ]
  },
  {
   "cell_type": "code",
   "execution_count": 11,
   "metadata": {
    "colab": {
     "base_uri": "https://localhost:8080/"
    },
    "id": "HEwb94geOb5Z",
    "outputId": "052d3e49-6c06-4923-962f-d9990b8a4fc0"
   },
   "outputs": [
    {
     "data": {
      "text/plain": [
       "0    4622\n",
       "1    4601\n",
       "Name: Label, dtype: int64"
      ]
     },
     "execution_count": 11,
     "metadata": {},
     "output_type": "execute_result"
    }
   ],
   "source": [
    "dataset['Label'].value_counts()"
   ]
  },
  {
   "cell_type": "code",
   "execution_count": 13,
   "metadata": {
    "id": "iXO9y2ZPH0ir"
   },
   "outputs": [],
   "source": [
    "# Ready to split 'train set' and  'test set'\n",
    "X = dataset['Review']\n",
    "y = dataset['Label']"
   ]
  },
  {
   "cell_type": "code",
   "execution_count": 14,
   "metadata": {
    "colab": {
     "base_uri": "https://localhost:8080/"
    },
    "id": "mdGstNf3H1ks",
    "outputId": "a21a203b-7d8a-4007-96a3-a489cb804473"
   },
   "outputs": [
    {
     "name": "stdout",
     "output_type": "stream",
     "text": [
      "X_train shape: (4611,)\n",
      "X_test shape: (4612,)\n",
      "y_train shape: (4611,)\n",
      "y_test shape: (4612,)\n"
     ]
    }
   ],
   "source": [
    "from sklearn.model_selection import train_test_split\n",
    "\n",
    "X_train, X_test, y_train, y_test = train_test_split(X,  y,  test_size=0.5,shuffle=True,  random_state=1004)\n",
    "             \n",
    "print('X_train shape:', X_train.shape)\n",
    "\n",
    "print('X_test shape:', X_test.shape)\n",
    "\n",
    "print('y_train shape:', y_train.shape)\n",
    "\n",
    "print('y_test shape:', y_test.shape)"
   ]
  },
  {
   "cell_type": "code",
   "execution_count": 15,
   "metadata": {
    "colab": {
     "base_uri": "https://localhost:8080/"
    },
    "id": "KlFPQlynzIR4",
    "outputId": "c521d5c9-4e81-4942-d896-2bdbbc9b6af3"
   },
   "outputs": [
    {
     "name": "stdout",
     "output_type": "stream",
     "text": [
      "<class 'pandas.core.series.Series'>\n",
      "<class 'pandas.core.series.Series'>\n"
     ]
    }
   ],
   "source": [
    "print(type(y_train))\n",
    "print(type(X_test))"
   ]
  },
  {
   "cell_type": "code",
   "execution_count": 16,
   "metadata": {
    "colab": {
     "base_uri": "https://localhost:8080/"
    },
    "id": "7akPgRdWH2SI",
    "outputId": "06024ea7-c95b-43c8-d06d-a27f16e026d4"
   },
   "outputs": [
    {
     "name": "stdout",
     "output_type": "stream",
     "text": [
      "train set: 0    2313\n",
      "1    2298\n",
      "Name: Label, dtype: int64\n",
      "----------------------------\n",
      "test set: 0    2309\n",
      "1    2303\n",
      "Name: Label, dtype: int64\n"
     ]
    }
   ],
   "source": [
    "# train과 test의 데이터에 각 점수들이 반반씩 잘 분포 되었음.\n",
    "print('train set:', y_train.value_counts())\n",
    "print('----------------------------')\n",
    "print('test set:', y_test.value_counts())"
   ]
  },
  {
   "cell_type": "code",
   "execution_count": 17,
   "metadata": {
    "colab": {
     "base_uri": "https://localhost:8080/"
    },
    "id": "dwcgmY0jH7AY",
    "outputId": "01cdf222-f7a3-47aa-fb32-a619999e4299"
   },
   "outputs": [
    {
     "data": {
      "text/plain": [
       "1519    The Lecturers are very enthusiastic, but I was...\n",
       "2501    Beware this course, especially if you are new ...\n",
       "8896    very helpful techniques, I use them every time...\n",
       "6753    Pretty good introduction to the subject.Well q...\n",
       "7326    I just want to extend my deep appreciation for...\n",
       "                              ...                        \n",
       "2740    The value of this course is the collection of ...\n",
       "9055    The course is very informative. I had a great ...\n",
       "8206    Easy to understand and course materials is rea...\n",
       "8391    For someone with no programming background and...\n",
       "4127    By the end of the course, you do start to deve...\n",
       "Name: Review, Length: 4611, dtype: object"
      ]
     },
     "execution_count": 17,
     "metadata": {},
     "output_type": "execute_result"
    }
   ],
   "source": [
    "X_train"
   ]
  },
  {
   "cell_type": "code",
   "execution_count": 18,
   "metadata": {
    "colab": {
     "base_uri": "https://localhost:8080/"
    },
    "id": "QxUQENVGH8QU",
    "outputId": "3e228142-6e6b-4dce-b27d-ec1a9b0be915"
   },
   "outputs": [
    {
     "data": {
      "text/plain": [
       "5942    All the ingredients are there, but it would be...\n",
       "1456    Very bad course too fast is not an introductio...\n",
       "7128    Week 1 - changed my perception of how ideas ar...\n",
       "5831    Fantastic course. Both the lessons and materia...\n",
       "7466    This is such a good course that gives a good i...\n",
       "                              ...                        \n",
       "5638    Very nice for those of people who want to lear...\n",
       "3380    This instructor reads of a script! He rushes t...\n",
       "3200    Basically not much content. The guest speaker ...\n",
       "2075    Beware - will make you upgrade to complete qui...\n",
       "3624    I do like the course, but Coursera has disable...\n",
       "Name: Review, Length: 4612, dtype: object"
      ]
     },
     "execution_count": 18,
     "metadata": {},
     "output_type": "execute_result"
    }
   ],
   "source": [
    "X_test"
   ]
  },
  {
   "cell_type": "code",
   "execution_count": 19,
   "metadata": {
    "colab": {
     "base_uri": "https://localhost:8080/"
    },
    "id": "c6yqd83KH-4t",
    "outputId": "6351a371-d0d8-4302-fbcd-7edcd55d0166"
   },
   "outputs": [
    {
     "name": "stdout",
     "output_type": "stream",
     "text": [
      "                                                 Review  Label\n",
      "1519  The Lecturers are very enthusiastic, but I was...      0\n",
      "2501  Beware this course, especially if you are new ...      0\n",
      "8896  very helpful techniques, I use them every time...      1\n",
      "6753  Pretty good introduction to the subject.Well q...      1\n",
      "7326  I just want to extend my deep appreciation for...      1\n",
      "...                                                 ...    ...\n",
      "2740  The value of this course is the collection of ...      0\n",
      "9055  The course is very informative. I had a great ...      1\n",
      "8206  Easy to understand and course materials is rea...      1\n",
      "8391  For someone with no programming background and...      1\n",
      "4127  By the end of the course, you do start to deve...      0\n",
      "\n",
      "[4611 rows x 2 columns]\n"
     ]
    }
   ],
   "source": [
    "# concat()함수>> df와 series에 다 적용가능\n",
    "train_set = pd.concat([X_train, y_train], axis = 1)\n",
    "print(train_set)"
   ]
  },
  {
   "cell_type": "code",
   "execution_count": 40,
   "metadata": {
    "colab": {
     "base_uri": "https://localhost:8080/",
     "height": 300
    },
    "id": "-edkDx-US3Kc",
    "outputId": "f859e4c0-f634-48b9-fc1c-cc0ee0a7814d"
   },
   "outputs": [
    {
     "data": {
      "text/html": [
       "<div>\n",
       "<style scoped>\n",
       "    .dataframe tbody tr th:only-of-type {\n",
       "        vertical-align: middle;\n",
       "    }\n",
       "\n",
       "    .dataframe tbody tr th {\n",
       "        vertical-align: top;\n",
       "    }\n",
       "\n",
       "    .dataframe thead th {\n",
       "        text-align: right;\n",
       "    }\n",
       "</style>\n",
       "<table border=\"1\" class=\"dataframe\">\n",
       "  <thead>\n",
       "    <tr style=\"text-align: right;\">\n",
       "      <th></th>\n",
       "      <th>Review</th>\n",
       "      <th>Label</th>\n",
       "    </tr>\n",
       "  </thead>\n",
       "  <tbody>\n",
       "    <tr>\n",
       "      <th>1519</th>\n",
       "      <td>The Lecturers are very enthusiastic, but I was...</td>\n",
       "      <td>0</td>\n",
       "    </tr>\n",
       "    <tr>\n",
       "      <th>2501</th>\n",
       "      <td>Beware this course, especially if you are new ...</td>\n",
       "      <td>0</td>\n",
       "    </tr>\n",
       "    <tr>\n",
       "      <th>8896</th>\n",
       "      <td>very helpful techniques, I use them every time...</td>\n",
       "      <td>1</td>\n",
       "    </tr>\n",
       "    <tr>\n",
       "      <th>6753</th>\n",
       "      <td>Pretty good introduction to the subject.Well q...</td>\n",
       "      <td>1</td>\n",
       "    </tr>\n",
       "    <tr>\n",
       "      <th>7326</th>\n",
       "      <td>I just want to extend my deep appreciation for...</td>\n",
       "      <td>1</td>\n",
       "    </tr>\n",
       "    <tr>\n",
       "      <th>4991</th>\n",
       "      <td>A very helpful course about learning and brain...</td>\n",
       "      <td>1</td>\n",
       "    </tr>\n",
       "    <tr>\n",
       "      <th>495</th>\n",
       "      <td>I think there are only few contents.</td>\n",
       "      <td>0</td>\n",
       "    </tr>\n",
       "    <tr>\n",
       "      <th>1724</th>\n",
       "      <td>Excellent teaching, but it's not actually free...</td>\n",
       "      <td>0</td>\n",
       "    </tr>\n",
       "  </tbody>\n",
       "</table>\n",
       "</div>"
      ],
      "text/plain": [
       "                                                 Review  Label\n",
       "1519  The Lecturers are very enthusiastic, but I was...      0\n",
       "2501  Beware this course, especially if you are new ...      0\n",
       "8896  very helpful techniques, I use them every time...      1\n",
       "6753  Pretty good introduction to the subject.Well q...      1\n",
       "7326  I just want to extend my deep appreciation for...      1\n",
       "4991  A very helpful course about learning and brain...      1\n",
       "495                I think there are only few contents.      0\n",
       "1724  Excellent teaching, but it's not actually free...      0"
      ]
     },
     "execution_count": 40,
     "metadata": {},
     "output_type": "execute_result"
    }
   ],
   "source": [
    "train_set.head(8)"
   ]
  },
  {
   "cell_type": "code",
   "execution_count": 41,
   "metadata": {
    "colab": {
     "base_uri": "https://localhost:8080/",
     "height": 35
    },
    "id": "1L6p_28fRtwm",
    "outputId": "24bd1a6f-02ed-4008-d14f-2f68717b8795"
   },
   "outputs": [
    {
     "data": {
      "text/plain": [
       "'The Capstone project has been getting delayed since JanDont expect yourself to complete the specialization'"
      ]
     },
     "execution_count": 41,
     "metadata": {},
     "output_type": "execute_result"
    }
   ],
   "source": [
    "train_set['Review'][7]"
   ]
  },
  {
   "cell_type": "code",
   "execution_count": 42,
   "metadata": {
    "colab": {
     "base_uri": "https://localhost:8080/",
     "height": 421
    },
    "id": "DYPyTfyMH_7O",
    "outputId": "62fa0a7c-566f-452f-c07f-67f89ce38dcc"
   },
   "outputs": [
    {
     "name": "stdout",
     "output_type": "stream",
     "text": [
      "1519    The Lecturers are very enthusiastic, but I was...\n",
      "2501    Beware this course, especially if you are new ...\n",
      "8896    very helpful techniques, I use them every time...\n",
      "6753    Pretty good introduction to the subject.Well q...\n",
      "7326    I just want to extend my deep appreciation for...\n",
      "4991    A very helpful course about learning and brain...\n",
      "495                  I think there are only few contents.\n",
      "1724    Excellent teaching, but it's not actually free...\n",
      "4835    could clarify some more on the question it ask...\n",
      "2986    Too basic. Should give an example on how these...\n",
      "6853    Classes were interesting apart from a bit of p...\n",
      "1909    Instructor doesn't seem to be passionate about...\n",
      "1625    Pretty bad as far as I am conerned. I spent tw...\n",
      "8229    The course is not that rush meanwhile I can le...\n",
      "4745    briefly summarised the machine learning algori...\n",
      "531     I'm sorely disappointed. I learned almost noth...\n",
      "1493    Poor quality and heavily outdated content. Vid...\n",
      "5724    The course was overall good in achieving its g...\n",
      "5104    Very informative. A lot of information packed ...\n",
      "4183    The content and the speed that they teach you ...\n",
      "Name: Review, dtype: object\n"
     ]
    },
    {
     "data": {
      "text/plain": [
       "'The Capsto'"
      ]
     },
     "execution_count": 42,
     "metadata": {},
     "output_type": "execute_result"
    }
   ],
   "source": [
    "from bs4 import BeautifulSoup\n",
    "\n",
    "example1 = BeautifulSoup(train_set['Review'][7], \"html5lib\")\n",
    "print(train_set['Review'][:20])\n",
    "\n",
    "\n",
    "example1.get_text()[:10]"
   ]
  },
  {
   "cell_type": "code",
   "execution_count": 43,
   "metadata": {
    "colab": {
     "base_uri": "https://localhost:8080/",
     "height": 35
    },
    "id": "FPbU4hdlIA0M",
    "outputId": "113658ad-d69d-4cef-d798-6616380a46ac"
   },
   "outputs": [
    {
     "data": {
      "text/plain": [
       "'The Capsto'"
      ]
     },
     "execution_count": 43,
     "metadata": {},
     "output_type": "execute_result"
    }
   ],
   "source": [
    "import re\n",
    "letters_only= re.sub('[^a-zA-Z]', ' ', example1.get_text())\n",
    "letters_only[:10]"
   ]
  },
  {
   "cell_type": "code",
   "execution_count": 44,
   "metadata": {
    "id": "vbpNKdUeIBq7"
   },
   "outputs": [],
   "source": [
    "# making lower case\n",
    "lower_case = letters_only.lower()\n",
    "# lower_case = letters_only['Review'].str.lower()      # Q str?"
   ]
  },
  {
   "cell_type": "code",
   "execution_count": 45,
   "metadata": {},
   "outputs": [
    {
     "data": {
      "text/plain": [
       "'the capstone project has been getting delayed since jandont expect yourself to complete the specialization'"
      ]
     },
     "execution_count": 45,
     "metadata": {},
     "output_type": "execute_result"
    }
   ],
   "source": [
    "lower_case"
   ]
  },
  {
   "cell_type": "code",
   "execution_count": 46,
   "metadata": {
    "colab": {
     "base_uri": "https://localhost:8080/"
    },
    "id": "rHmuYyKIIDS6",
    "outputId": "a524573e-a4fc-4df9-97d6-75ec30efc0ab"
   },
   "outputs": [
    {
     "name": "stdout",
     "output_type": "stream",
     "text": [
      "15\n"
     ]
    },
    {
     "data": {
      "text/plain": [
       "['the',\n",
       " 'capstone',\n",
       " 'project',\n",
       " 'has',\n",
       " 'been',\n",
       " 'getting',\n",
       " 'delayed',\n",
       " 'since',\n",
       " 'jandont',\n",
       " 'expect']"
      ]
     },
     "execution_count": 46,
     "metadata": {},
     "output_type": "execute_result"
    }
   ],
   "source": [
    "# Tokenizing\n",
    "words = lower_case.split()\n",
    "print(len(words))\n",
    "words[:10]"
   ]
  },
  {
   "cell_type": "markdown",
   "metadata": {},
   "source": [
    "## SpaCy install\n",
    "\n",
    "- I’ve listed below the different statistical models in spaCy along with their specifications:\n",
    "\n",
    " - en_core_web_sm: English multi-task CNN trained on OntoNotes. Size – 11 MB\n",
    "\n",
    " - en_core_web_md: English multi-task CNN trained on OntoNotes, with GloVe vectors trained on Common Crawl. Size – 91 MB\n",
    "\n",
    " - en_core_web_lg: English multi-task CNN trained on OntoNotes, with GloVe vectors trained on Common Crawl. Size – 789 MB"
   ]
  },
  {
   "cell_type": "code",
   "execution_count": 26,
   "metadata": {
    "colab": {
     "base_uri": "https://localhost:8080/"
    },
    "id": "VCjxGGNEpDtQ",
    "outputId": "0660307f-dcea-4b38-e2e2-5d3aa9544afe"
   },
   "outputs": [],
   "source": [
    "# # Download for preprocessing the text\n",
    "# import nltk\n",
    "# nltk.download('stopwords')   # from nltk.corpus import stopwords를 위한 resource\n",
    "# nltk.download('wordnet') # from nltk.stem import WordNetLemmatizer를 위한 resource"
   ]
  },
  {
   "cell_type": "code",
   "execution_count": 27,
   "metadata": {
    "colab": {
     "base_uri": "https://localhost:8080/"
    },
    "id": "zMP82hWBJkPq",
    "outputId": "11f89f3e-5206-4b14-ce69-ab88b31afd5d"
   },
   "outputs": [
    {
     "name": "stdout",
     "output_type": "stream",
     "text": [
      "Collecting spacy\n",
      "  Downloading spacy-3.2.4-cp38-cp38-win_amd64.whl (11.6 MB)\n",
      "Collecting catalogue<2.1.0,>=2.0.6\n",
      "  Downloading catalogue-2.0.7-py3-none-any.whl (17 kB)\n",
      "Collecting typer<0.5.0,>=0.3.0\n",
      "  Downloading typer-0.4.1-py3-none-any.whl (27 kB)\n",
      "Requirement already satisfied, skipping upgrade: numpy>=1.15.0 in c:\\users\\dell\\anaconda3\\lib\\site-packages (from spacy) (1.19.2)\n",
      "Collecting spacy-loggers<2.0.0,>=1.0.0\n",
      "  Downloading spacy_loggers-1.0.2-py3-none-any.whl (7.2 kB)\n",
      "Collecting langcodes<4.0.0,>=3.2.0\n",
      "  Downloading langcodes-3.3.0-py3-none-any.whl (181 kB)\n",
      "Collecting preshed<3.1.0,>=3.0.2\n",
      "  Using cached preshed-3.0.6-cp38-cp38-win_amd64.whl (113 kB)\n",
      "Collecting pydantic!=1.8,!=1.8.1,<1.9.0,>=1.7.4\n",
      "  Downloading pydantic-1.8.2-cp38-cp38-win_amd64.whl (2.0 MB)\n",
      "Requirement already satisfied, skipping upgrade: jinja2 in c:\\users\\dell\\anaconda3\\lib\\site-packages (from spacy) (2.11.2)\n",
      "Collecting murmurhash<1.1.0,>=0.28.0\n",
      "  Using cached murmurhash-1.0.6-cp38-cp38-win_amd64.whl (21 kB)\n",
      "Requirement already satisfied, skipping upgrade: tqdm<5.0.0,>=4.38.0 in c:\\users\\dell\\anaconda3\\lib\\site-packages (from spacy) (4.50.2)\n",
      "Collecting thinc<8.1.0,>=8.0.12\n",
      "  Downloading thinc-8.0.15-cp38-cp38-win_amd64.whl (1.0 MB)\n",
      "Requirement already satisfied, skipping upgrade: click<8.1.0 in c:\\users\\dell\\anaconda3\\lib\\site-packages (from spacy) (7.1.2)\n",
      "Collecting blis<0.8.0,>=0.4.0\n",
      "  Downloading blis-0.7.7-cp38-cp38-win_amd64.whl (6.6 MB)\n",
      "Requirement already satisfied, skipping upgrade: requests<3.0.0,>=2.13.0 in c:\\users\\dell\\anaconda3\\lib\\site-packages (from spacy) (2.24.0)\n",
      "Collecting wasabi<1.1.0,>=0.8.1\n",
      "  Downloading wasabi-0.9.1-py3-none-any.whl (26 kB)\n",
      "Requirement already satisfied, skipping upgrade: packaging>=20.0 in c:\\users\\dell\\anaconda3\\lib\\site-packages (from spacy) (20.4)\n",
      "Collecting pathy>=0.3.5\n",
      "  Downloading pathy-0.6.1-py3-none-any.whl (42 kB)\n",
      "Requirement already satisfied, skipping upgrade: setuptools in c:\\users\\dell\\anaconda3\\lib\\site-packages (from spacy) (50.3.1.post20201107)\n",
      "Collecting cymem<2.1.0,>=2.0.2\n",
      "  Using cached cymem-2.0.6-cp38-cp38-win_amd64.whl (36 kB)\n",
      "Collecting srsly<3.0.0,>=2.4.1\n",
      "  Downloading srsly-2.4.2-cp38-cp38-win_amd64.whl (452 kB)\n",
      "Collecting spacy-legacy<3.1.0,>=3.0.8\n",
      "  Downloading spacy_legacy-3.0.9-py2.py3-none-any.whl (20 kB)\n",
      "Requirement already satisfied, skipping upgrade: typing-extensions>=3.7.4.3 in c:\\users\\dell\\anaconda3\\lib\\site-packages (from pydantic!=1.8,!=1.8.1,<1.9.0,>=1.7.4->spacy) (3.7.4.3)\n",
      "Requirement already satisfied, skipping upgrade: MarkupSafe>=0.23 in c:\\users\\dell\\anaconda3\\lib\\site-packages (from jinja2->spacy) (1.1.1)\n",
      "Requirement already satisfied, skipping upgrade: urllib3!=1.25.0,!=1.25.1,<1.26,>=1.21.1 in c:\\users\\dell\\anaconda3\\lib\\site-packages (from requests<3.0.0,>=2.13.0->spacy) (1.25.11)\n",
      "Requirement already satisfied, skipping upgrade: chardet<4,>=3.0.2 in c:\\users\\dell\\anaconda3\\lib\\site-packages (from requests<3.0.0,>=2.13.0->spacy) (3.0.4)\n",
      "Requirement already satisfied, skipping upgrade: certifi>=2017.4.17 in c:\\users\\dell\\anaconda3\\lib\\site-packages (from requests<3.0.0,>=2.13.0->spacy) (2020.6.20)\n",
      "Requirement already satisfied, skipping upgrade: idna<3,>=2.5 in c:\\users\\dell\\anaconda3\\lib\\site-packages (from requests<3.0.0,>=2.13.0->spacy) (2.10)\n",
      "Requirement already satisfied, skipping upgrade: pyparsing>=2.0.2 in c:\\users\\dell\\anaconda3\\lib\\site-packages (from packaging>=20.0->spacy) (2.4.7)\n",
      "Requirement already satisfied, skipping upgrade: six in c:\\users\\dell\\anaconda3\\lib\\site-packages (from packaging>=20.0->spacy) (1.15.0)\n",
      "Collecting smart-open<6.0.0,>=5.0.0\n",
      "  Downloading smart_open-5.2.1-py3-none-any.whl (58 kB)\n",
      "Installing collected packages: catalogue, typer, wasabi, spacy-loggers, langcodes, murmurhash, cymem, preshed, pydantic, blis, srsly, thinc, smart-open, pathy, spacy-legacy, spacy\n",
      "Successfully installed blis-0.7.7 catalogue-2.0.7 cymem-2.0.6 langcodes-3.3.0 murmurhash-1.0.6 pathy-0.6.1 preshed-3.0.6 pydantic-1.8.2 smart-open-5.2.1 spacy-3.2.4 spacy-legacy-3.0.9 spacy-loggers-1.0.2 srsly-2.4.2 thinc-8.0.15 typer-0.4.1 wasabi-0.9.1\n"
     ]
    }
   ],
   "source": [
    "!pip install -U spacy"
   ]
  },
  {
   "cell_type": "code",
   "execution_count": 28,
   "metadata": {
    "colab": {
     "base_uri": "https://localhost:8080/"
    },
    "id": "5tk9UdjpJp17",
    "outputId": "81381439-da3f-461e-c408-f476b01e5f14"
   },
   "outputs": [
    {
     "name": "stdout",
     "output_type": "stream",
     "text": [
      "Collecting en-core-web-lg==3.2.0\n",
      "  Downloading https://github.com/explosion/spacy-models/releases/download/en_core_web_lg-3.2.0/en_core_web_lg-3.2.0-py3-none-any.whl (777.4 MB)\n",
      "Requirement already satisfied: spacy<3.3.0,>=3.2.0 in c:\\users\\dell\\anaconda3\\lib\\site-packages (from en-core-web-lg==3.2.0) (3.2.4)\n",
      "Requirement already satisfied: wasabi<1.1.0,>=0.8.1 in c:\\users\\dell\\anaconda3\\lib\\site-packages (from spacy<3.3.0,>=3.2.0->en-core-web-lg==3.2.0) (0.9.1)\n",
      "Requirement already satisfied: jinja2 in c:\\users\\dell\\anaconda3\\lib\\site-packages (from spacy<3.3.0,>=3.2.0->en-core-web-lg==3.2.0) (2.11.2)\n",
      "Requirement already satisfied: numpy>=1.15.0 in c:\\users\\dell\\anaconda3\\lib\\site-packages (from spacy<3.3.0,>=3.2.0->en-core-web-lg==3.2.0) (1.19.2)\n",
      "Requirement already satisfied: pathy>=0.3.5 in c:\\users\\dell\\anaconda3\\lib\\site-packages (from spacy<3.3.0,>=3.2.0->en-core-web-lg==3.2.0) (0.6.1)\n",
      "Requirement already satisfied: blis<0.8.0,>=0.4.0 in c:\\users\\dell\\anaconda3\\lib\\site-packages (from spacy<3.3.0,>=3.2.0->en-core-web-lg==3.2.0) (0.7.7)\n",
      "Requirement already satisfied: pydantic!=1.8,!=1.8.1,<1.9.0,>=1.7.4 in c:\\users\\dell\\anaconda3\\lib\\site-packages (from spacy<3.3.0,>=3.2.0->en-core-web-lg==3.2.0) (1.8.2)\n",
      "Requirement already satisfied: click<8.1.0 in c:\\users\\dell\\anaconda3\\lib\\site-packages (from spacy<3.3.0,>=3.2.0->en-core-web-lg==3.2.0) (7.1.2)\n",
      "Requirement already satisfied: spacy-legacy<3.1.0,>=3.0.8 in c:\\users\\dell\\anaconda3\\lib\\site-packages (from spacy<3.3.0,>=3.2.0->en-core-web-lg==3.2.0) (3.0.9)\n",
      "Requirement already satisfied: typer<0.5.0,>=0.3.0 in c:\\users\\dell\\anaconda3\\lib\\site-packages (from spacy<3.3.0,>=3.2.0->en-core-web-lg==3.2.0) (0.4.1)\n",
      "Requirement already satisfied: cymem<2.1.0,>=2.0.2 in c:\\users\\dell\\anaconda3\\lib\\site-packages (from spacy<3.3.0,>=3.2.0->en-core-web-lg==3.2.0) (2.0.6)\n",
      "Requirement already satisfied: setuptools in c:\\users\\dell\\anaconda3\\lib\\site-packages (from spacy<3.3.0,>=3.2.0->en-core-web-lg==3.2.0) (50.3.1.post20201107)\n",
      "Requirement already satisfied: catalogue<2.1.0,>=2.0.6 in c:\\users\\dell\\anaconda3\\lib\\site-packages (from spacy<3.3.0,>=3.2.0->en-core-web-lg==3.2.0) (2.0.7)\n",
      "Requirement already satisfied: preshed<3.1.0,>=3.0.2 in c:\\users\\dell\\anaconda3\\lib\\site-packages (from spacy<3.3.0,>=3.2.0->en-core-web-lg==3.2.0) (3.0.6)\n",
      "Requirement already satisfied: requests<3.0.0,>=2.13.0 in c:\\users\\dell\\anaconda3\\lib\\site-packages (from spacy<3.3.0,>=3.2.0->en-core-web-lg==3.2.0) (2.24.0)\n",
      "Requirement already satisfied: murmurhash<1.1.0,>=0.28.0 in c:\\users\\dell\\anaconda3\\lib\\site-packages (from spacy<3.3.0,>=3.2.0->en-core-web-lg==3.2.0) (1.0.6)\n",
      "Requirement already satisfied: tqdm<5.0.0,>=4.38.0 in c:\\users\\dell\\anaconda3\\lib\\site-packages (from spacy<3.3.0,>=3.2.0->en-core-web-lg==3.2.0) (4.50.2)\n",
      "Requirement already satisfied: spacy-loggers<2.0.0,>=1.0.0 in c:\\users\\dell\\anaconda3\\lib\\site-packages (from spacy<3.3.0,>=3.2.0->en-core-web-lg==3.2.0) (1.0.2)\n",
      "Requirement already satisfied: langcodes<4.0.0,>=3.2.0 in c:\\users\\dell\\anaconda3\\lib\\site-packages (from spacy<3.3.0,>=3.2.0->en-core-web-lg==3.2.0) (3.3.0)\n",
      "Requirement already satisfied: packaging>=20.0 in c:\\users\\dell\\anaconda3\\lib\\site-packages (from spacy<3.3.0,>=3.2.0->en-core-web-lg==3.2.0) (20.4)\n",
      "Requirement already satisfied: thinc<8.1.0,>=8.0.12 in c:\\users\\dell\\anaconda3\\lib\\site-packages (from spacy<3.3.0,>=3.2.0->en-core-web-lg==3.2.0) (8.0.15)\n",
      "Requirement already satisfied: srsly<3.0.0,>=2.4.1 in c:\\users\\dell\\anaconda3\\lib\\site-packages (from spacy<3.3.0,>=3.2.0->en-core-web-lg==3.2.0) (2.4.2)\n",
      "Requirement already satisfied: MarkupSafe>=0.23 in c:\\users\\dell\\anaconda3\\lib\\site-packages (from jinja2->spacy<3.3.0,>=3.2.0->en-core-web-lg==3.2.0) (1.1.1)\n",
      "Requirement already satisfied: smart-open<6.0.0,>=5.0.0 in c:\\users\\dell\\anaconda3\\lib\\site-packages (from pathy>=0.3.5->spacy<3.3.0,>=3.2.0->en-core-web-lg==3.2.0) (5.2.1)\n",
      "Requirement already satisfied: typing-extensions>=3.7.4.3 in c:\\users\\dell\\anaconda3\\lib\\site-packages (from pydantic!=1.8,!=1.8.1,<1.9.0,>=1.7.4->spacy<3.3.0,>=3.2.0->en-core-web-lg==3.2.0) (3.7.4.3)\n",
      "Requirement already satisfied: urllib3!=1.25.0,!=1.25.1,<1.26,>=1.21.1 in c:\\users\\dell\\anaconda3\\lib\\site-packages (from requests<3.0.0,>=2.13.0->spacy<3.3.0,>=3.2.0->en-core-web-lg==3.2.0) (1.25.11)\n",
      "Requirement already satisfied: certifi>=2017.4.17 in c:\\users\\dell\\anaconda3\\lib\\site-packages (from requests<3.0.0,>=2.13.0->spacy<3.3.0,>=3.2.0->en-core-web-lg==3.2.0) (2020.6.20)\n",
      "Requirement already satisfied: chardet<4,>=3.0.2 in c:\\users\\dell\\anaconda3\\lib\\site-packages (from requests<3.0.0,>=2.13.0->spacy<3.3.0,>=3.2.0->en-core-web-lg==3.2.0) (3.0.4)\n",
      "Requirement already satisfied: idna<3,>=2.5 in c:\\users\\dell\\anaconda3\\lib\\site-packages (from requests<3.0.0,>=2.13.0->spacy<3.3.0,>=3.2.0->en-core-web-lg==3.2.0) (2.10)\n",
      "Requirement already satisfied: six in c:\\users\\dell\\anaconda3\\lib\\site-packages (from packaging>=20.0->spacy<3.3.0,>=3.2.0->en-core-web-lg==3.2.0) (1.15.0)\n",
      "Requirement already satisfied: pyparsing>=2.0.2 in c:\\users\\dell\\anaconda3\\lib\\site-packages (from packaging>=20.0->spacy<3.3.0,>=3.2.0->en-core-web-lg==3.2.0) (2.4.7)\n",
      "Installing collected packages: en-core-web-lg\n",
      "Successfully installed en-core-web-lg-3.2.0\n",
      "[+] Download and installation successful\n",
      "You can now load the package via spacy.load('en_core_web_lg')\n"
     ]
    },
    {
     "name": "stderr",
     "output_type": "stream",
     "text": [
      "2022-04-12 17:41:52.659758: W tensorflow/stream_executor/platform/default/dso_loader.cc:64] Could not load dynamic library 'cudart64_110.dll'; dlerror: cudart64_110.dll not found\n",
      "2022-04-12 17:41:52.660642: I tensorflow/stream_executor/cuda/cudart_stub.cc:29] Ignore above cudart dlerror if you do not have a GPU set up on your machine.\n"
     ]
    }
   ],
   "source": [
    "!python -m spacy download en_core_web_lg"
   ]
  },
  {
   "cell_type": "code",
   "execution_count": 30,
   "metadata": {
    "id": "WxGnihXxJsRr"
   },
   "outputs": [
    {
     "name": "stdout",
     "output_type": "stream",
     "text": [
      "Requirement already satisfied: en-core-web-sm==3.2.0 from https://github.com/explosion/spacy-models/releases/download/en_core_web_sm-3.2.0/en_core_web_sm-3.2.0-py3-none-any.whl#egg=en_core_web_sm==3.2.0 in c:\\users\\dell\\anaconda3\\lib\\site-packages (3.2.0)\n",
      "Requirement already satisfied: spacy<3.3.0,>=3.2.0 in c:\\users\\dell\\anaconda3\\lib\\site-packages (from en-core-web-sm==3.2.0) (3.2.4)\n",
      "Requirement already satisfied: cymem<2.1.0,>=2.0.2 in c:\\users\\dell\\anaconda3\\lib\\site-packages (from spacy<3.3.0,>=3.2.0->en-core-web-sm==3.2.0) (2.0.6)\n",
      "Requirement already satisfied: setuptools in c:\\users\\dell\\anaconda3\\lib\\site-packages (from spacy<3.3.0,>=3.2.0->en-core-web-sm==3.2.0) (50.3.1.post20201107)\n",
      "Requirement already satisfied: catalogue<2.1.0,>=2.0.6 in c:\\users\\dell\\anaconda3\\lib\\site-packages (from spacy<3.3.0,>=3.2.0->en-core-web-sm==3.2.0) (2.0.7)\n",
      "Requirement already satisfied: jinja2 in c:\\users\\dell\\anaconda3\\lib\\site-packages (from spacy<3.3.0,>=3.2.0->en-core-web-sm==3.2.0) (2.11.2)\n",
      "Requirement already satisfied: tqdm<5.0.0,>=4.38.0 in c:\\users\\dell\\anaconda3\\lib\\site-packages (from spacy<3.3.0,>=3.2.0->en-core-web-sm==3.2.0) (4.50.2)\n",
      "Requirement already satisfied: spacy-legacy<3.1.0,>=3.0.8 in c:\\users\\dell\\anaconda3\\lib\\site-packages (from spacy<3.3.0,>=3.2.0->en-core-web-sm==3.2.0) (3.0.9)\n",
      "Requirement already satisfied: wasabi<1.1.0,>=0.8.1 in c:\\users\\dell\\anaconda3\\lib\\site-packages (from spacy<3.3.0,>=3.2.0->en-core-web-sm==3.2.0) (0.9.1)\n",
      "Requirement already satisfied: pathy>=0.3.5 in c:\\users\\dell\\anaconda3\\lib\\site-packages (from spacy<3.3.0,>=3.2.0->en-core-web-sm==3.2.0) (0.6.1)\n",
      "Requirement already satisfied: packaging>=20.0 in c:\\users\\dell\\anaconda3\\lib\\site-packages (from spacy<3.3.0,>=3.2.0->en-core-web-sm==3.2.0) (20.4)\n",
      "Requirement already satisfied: spacy-loggers<2.0.0,>=1.0.0 in c:\\users\\dell\\anaconda3\\lib\\site-packages (from spacy<3.3.0,>=3.2.0->en-core-web-sm==3.2.0) (1.0.2)\n",
      "Requirement already satisfied: thinc<8.1.0,>=8.0.12 in c:\\users\\dell\\anaconda3\\lib\\site-packages (from spacy<3.3.0,>=3.2.0->en-core-web-sm==3.2.0) (8.0.15)\n",
      "Requirement already satisfied: langcodes<4.0.0,>=3.2.0 in c:\\users\\dell\\anaconda3\\lib\\site-packages (from spacy<3.3.0,>=3.2.0->en-core-web-sm==3.2.0) (3.3.0)\n",
      "Requirement already satisfied: numpy>=1.15.0 in c:\\users\\dell\\anaconda3\\lib\\site-packages (from spacy<3.3.0,>=3.2.0->en-core-web-sm==3.2.0) (1.19.2)\n",
      "Requirement already satisfied: srsly<3.0.0,>=2.4.1 in c:\\users\\dell\\anaconda3\\lib\\site-packages (from spacy<3.3.0,>=3.2.0->en-core-web-sm==3.2.0) (2.4.2)\n",
      "Requirement already satisfied: preshed<3.1.0,>=3.0.2 in c:\\users\\dell\\anaconda3\\lib\\site-packages (from spacy<3.3.0,>=3.2.0->en-core-web-sm==3.2.0) (3.0.6)\n",
      "Requirement already satisfied: click<8.1.0 in c:\\users\\dell\\anaconda3\\lib\\site-packages (from spacy<3.3.0,>=3.2.0->en-core-web-sm==3.2.0) (7.1.2)\n",
      "Requirement already satisfied: murmurhash<1.1.0,>=0.28.0 in c:\\users\\dell\\anaconda3\\lib\\site-packages (from spacy<3.3.0,>=3.2.0->en-core-web-sm==3.2.0) (1.0.6)\n",
      "Requirement already satisfied: requests<3.0.0,>=2.13.0 in c:\\users\\dell\\anaconda3\\lib\\site-packages (from spacy<3.3.0,>=3.2.0->en-core-web-sm==3.2.0) (2.24.0)\n",
      "Requirement already satisfied: pydantic!=1.8,!=1.8.1,<1.9.0,>=1.7.4 in c:\\users\\dell\\anaconda3\\lib\\site-packages (from spacy<3.3.0,>=3.2.0->en-core-web-sm==3.2.0) (1.8.2)\n",
      "Requirement already satisfied: blis<0.8.0,>=0.4.0 in c:\\users\\dell\\anaconda3\\lib\\site-packages (from spacy<3.3.0,>=3.2.0->en-core-web-sm==3.2.0) (0.7.7)\n",
      "Requirement already satisfied: typer<0.5.0,>=0.3.0 in c:\\users\\dell\\anaconda3\\lib\\site-packages (from spacy<3.3.0,>=3.2.0->en-core-web-sm==3.2.0) (0.4.1)\n",
      "Requirement already satisfied: MarkupSafe>=0.23 in c:\\users\\dell\\anaconda3\\lib\\site-packages (from jinja2->spacy<3.3.0,>=3.2.0->en-core-web-sm==3.2.0) (1.1.1)\n",
      "Requirement already satisfied: smart-open<6.0.0,>=5.0.0 in c:\\users\\dell\\anaconda3\\lib\\site-packages (from pathy>=0.3.5->spacy<3.3.0,>=3.2.0->en-core-web-sm==3.2.0) (5.2.1)\n",
      "Requirement already satisfied: pyparsing>=2.0.2 in c:\\users\\dell\\anaconda3\\lib\\site-packages (from packaging>=20.0->spacy<3.3.0,>=3.2.0->en-core-web-sm==3.2.0) (2.4.7)\n",
      "Requirement already satisfied: six in c:\\users\\dell\\anaconda3\\lib\\site-packages (from packaging>=20.0->spacy<3.3.0,>=3.2.0->en-core-web-sm==3.2.0) (1.15.0)\n",
      "Requirement already satisfied: certifi>=2017.4.17 in c:\\users\\dell\\anaconda3\\lib\\site-packages (from requests<3.0.0,>=2.13.0->spacy<3.3.0,>=3.2.0->en-core-web-sm==3.2.0) (2020.6.20)\n",
      "Requirement already satisfied: chardet<4,>=3.0.2 in c:\\users\\dell\\anaconda3\\lib\\site-packages (from requests<3.0.0,>=2.13.0->spacy<3.3.0,>=3.2.0->en-core-web-sm==3.2.0) (3.0.4)\n",
      "Requirement already satisfied: urllib3!=1.25.0,!=1.25.1,<1.26,>=1.21.1 in c:\\users\\dell\\anaconda3\\lib\\site-packages (from requests<3.0.0,>=2.13.0->spacy<3.3.0,>=3.2.0->en-core-web-sm==3.2.0) (1.25.11)\n",
      "Requirement already satisfied: idna<3,>=2.5 in c:\\users\\dell\\anaconda3\\lib\\site-packages (from requests<3.0.0,>=2.13.0->spacy<3.3.0,>=3.2.0->en-core-web-sm==3.2.0) (2.10)\n",
      "Requirement already satisfied: typing-extensions>=3.7.4.3 in c:\\users\\dell\\anaconda3\\lib\\site-packages (from pydantic!=1.8,!=1.8.1,<1.9.0,>=1.7.4->spacy<3.3.0,>=3.2.0->en-core-web-sm==3.2.0) (3.7.4.3)\n",
      "[+] Download and installation successful\n",
      "You can now load the package via spacy.load('en_core_web_sm')\n"
     ]
    },
    {
     "name": "stderr",
     "output_type": "stream",
     "text": [
      "2022-04-12 17:44:18.354210: W tensorflow/stream_executor/platform/default/dso_loader.cc:64] Could not load dynamic library 'cudart64_110.dll'; dlerror: cudart64_110.dll not found\n",
      "2022-04-12 17:44:18.354250: I tensorflow/stream_executor/cuda/cudart_stub.cc:29] Ignore above cudart dlerror if you do not have a GPU set up on your machine.\n"
     ]
    }
   ],
   "source": [
    "!python -m spacy download en_core_web_sm"
   ]
  },
  {
   "cell_type": "code",
   "execution_count": 31,
   "metadata": {
    "id": "V_D892GTJtsu"
   },
   "outputs": [],
   "source": [
    "import spacy\n",
    "nlp = spacy.load('en_core_web_sm')"
   ]
  },
  {
   "cell_type": "code",
   "execution_count": 32,
   "metadata": {
    "colab": {
     "base_uri": "https://localhost:8080/"
    },
    "id": "g5ZdZ2xFJvW8",
    "outputId": "a7a6f169-5fbf-459e-a547-2b57351fd455"
   },
   "outputs": [],
   "source": [
    "# import spacy\n",
    "\n",
    "# nlp = spacy.load(\"en_core_web_sm\")\n",
    "# doc = nlp(\"Reliance is looking at buying U.K. based analytics startup for $7 billion\")\n",
    "# for token in doc:\n",
    "#     print(token.text)"
   ]
  },
  {
   "cell_type": "code",
   "execution_count": 47,
   "metadata": {
    "colab": {
     "base_uri": "https://localhost:8080/",
     "height": 1000
    },
    "id": "FwE9zEW3pFoE",
    "outputId": "5f022edb-9f89-4328-ae55-eaefb35fe2bf"
   },
   "outputs": [
    {
     "name": "stdout",
     "output_type": "stream",
     "text": [
      "326\n",
      "{'ours', 'ca', 'whereas', 'hereupon', 'above', 'somewhere', 'themselves', 'see', 'whether', 'give', 'else', 'whatever', 'without', 'the', 'being', 'becomes', 'hundred', 'becoming', 'serious', 'toward', 'less', 'even', 'whence', 'so', 'what', 'such', 'now', '’d', 'anyhow', 'front', 'last', 'their', 'does', 'you', 'than', 'each', 'except', 'from', 'beside', 'nor', 'get', '‘ll', 'upon', 'that', 'whoever', 'however', 'four', 'indeed', 'into', 'in', 'elsewhere', 'this', 'became', 'others', 'whither', 'whereupon', 'used', 'thereafter', 'she', 'sometime', 'yours', 'forty', 'n’t', 'across', 'very', 'still', 'neither', 'two', 'almost', 'could', 'more', 'part', 'seem', 'who', 'all', 'myself', 'there', 'they', \"'s\", 'otherwise', 'none', 'quite', 'regarding', 'well', 'anywhere', 'seemed', 'beyond', 'full', 'those', 'really', 'thereby', 'latterly', 'perhaps', 'please', 'towards', 'somehow', 'under', 'bottom', 'make', 'our', 'therefore', \"'re\", 'nobody', 'meanwhile', 'at', 'already', 'former', 'must', 'rather', 'empty', '’s', 'either', 'on', 'noone', 'once', 'hereby', 'have', 'amount', '‘re', 'whenever', 'when', 'out', 'besides', 'if', 'itself', '‘ve', 'fifteen', 'also', 'them', 'another', 'same', 'an', 'through', 'might', 'with', 'herein', 'yourselves', 'although', 'behind', 'anyone', 'for', 'sometimes', 'while', 'using', 'much', 'should', 'until', 'been', 'therein', \"'m\", 'everywhere', 'these', 'me', 'hers', 'nevertheless', 'alone', 'next', 'down', 'he', 'are', 'latter', '’ve', 'him', 'before', 'among', 'along', \"'ve\", 'first', 'no', 'twenty', 'become', 'few', 'say', 'together', 'third', 'nine', 'why', 'enough', 'her', 'below', 'ten', 'thereupon', 'whereby', '’re', 'every', 'though', 'here', 'between', 'since', 'had', 'by', 'top', 'further', 'mostly', '‘d', 'everyone', 'herself', 'around', 'call', '’m', 'everything', 'anything', 'during', 'it', 'due', 'do', 'can', '‘m', 'ever', 'always', 'and', 'not', 'put', \"n't\", 'n‘t', 'a', 'one', 'seeming', 'least', 'again', 'twelve', 'just', 'its', 'various', 'how', 'wherever', 'fifty', 'his', 'show', 'or', 'hence', 'but', 'any', 'anyway', 'done', 'yet', 'per', 'off', \"'d\", 'three', 'some', 'your', 'am', 'thence', 'where', 'five', 'namely', 'both', 'whole', 'onto', 'be', 'is', 'only', 'to', 'via', '’ll', 'name', 'side', 'whom', 'was', 'wherein', 'six', 'own', 'cannot', 'beforehand', 'which', 'eight', 'formerly', 'himself', 'keep', '‘s', 'back', 'several', 'within', 'afterwards', 'nowhere', 'thus', 'of', 'up', 'unless', 'we', 'then', 'mine', 'made', 'yourself', 'thru', 'would', 'us', 'over', 'i', 'will', 'doing', 'other', 'throughout', 'has', 'may', 'too', 'as', 'moreover', 'seems', 'did', 'whose', 'never', 'most', 'take', 'someone', 'something', \"'ll\", 'often', 'many', 'were', 'hereafter', 're', 'go', 'about', 'against', 'move', 'because', 'sixty', 'ourselves', 'after', 'whereafter', 'my', 'amongst', 'nothing', 'eleven'}\n"
     ]
    }
   ],
   "source": [
    "# from nltk.corpus import stopwords\n",
    "# stopwords.words('english')[:20]\n",
    "\n",
    "import spacy\n",
    "#loading the english language small model of spacy\n",
    "en = spacy.load('en_core_web_sm')\n",
    "stopwords = en.Defaults.stop_words\n",
    "\n",
    "print(len(stopwords))\n",
    "print(stopwords)"
   ]
  },
  {
   "cell_type": "code",
   "execution_count": 53,
   "metadata": {
    "id": "oit8tEg9JrXV"
   },
   "outputs": [
    {
     "name": "stdout",
     "output_type": "stream",
     "text": [
      "Tommorow False\n",
      "will True\n",
      "be True\n",
      "too True\n",
      "late False\n",
      ", False\n",
      "its True\n",
      "now True\n",
      "or True\n",
      "never True\n"
     ]
    }
   ],
   "source": [
    "# we can see that the stopwords are returned as True otherwise False.\n",
    "import spacy\n",
    "\n",
    "nlp = spacy.load(\"en_core_web_sm\")\n",
    "doc = nlp(\"Tommorow will be too late, its now or never\")\n",
    "\n",
    "for token in doc:\n",
    "    print(token.text,token.is_stop)"
   ]
  },
  {
   "cell_type": "markdown",
   "metadata": {
    "id": "DJSWbZp8xmRn"
   },
   "source": [
    "### Remove Stopwords "
   ]
  },
  {
   "cell_type": "code",
   "execution_count": 37,
   "metadata": {
    "colab": {
     "base_uri": "https://localhost:8080/"
    },
    "id": "sIL5hU2spINg",
    "outputId": "1526c28c-e1b6-4824-b060-6ae14c1df616"
   },
   "outputs": [],
   "source": [
    "# #Remove Stopwords\n",
    "# # Tokens exceot for stopwords \n",
    "# words = [w for w in words if not w in stopwords.words('english')]\n",
    "# print(len(words))\n",
    "# words[:10]"
   ]
  },
  {
   "cell_type": "code",
   "execution_count": 36,
   "metadata": {
    "id": "7wMQyibQJr5k"
   },
   "outputs": [
    {
     "name": "stdout",
     "output_type": "stream",
     "text": [
      "Original text  :   we will show how to remove stopwords using spacy library\n",
      "Text after removing stopwords  :    remove stopwords spacy library\n"
     ]
    }
   ],
   "source": [
    "import spacy\n",
    "#loading the english language small model of spacy\n",
    "en = spacy.load('en_core_web_sm')\n",
    "stopwords = en.Defaults.stop_words\n",
    "\n",
    "text = \" we will show how to remove stopwords using spacy library\"\n",
    "\n",
    "lst=[]\n",
    "for token in text.split():\n",
    "    if token.lower() not in stopwords:    #checking whether the word is not \n",
    "        lst.append(token)                    #present in the stopword list.\n",
    "        \n",
    "#Join items in the list\n",
    "print(\"Original text  : \",text)\n",
    "print(\"Text after removing stopwords  :   \",' '.join(lst))"
   ]
  },
  {
   "cell_type": "markdown",
   "metadata": {
    "id": "-Io7tJj9P8O6"
   },
   "source": [
    "## SnowballStemmer\n",
    "\n",
    "`print(\"The stemmed form of studying is: {}\".format(stemmer.stem(\"studying\")))`  \n",
    "`print(\"The stemmed form of studies is: {}\".format(stemmer.stem(\"studies\")))`  \n",
    "`print(\"The stemmed form of study is: {}\".format(stemmer.stem(\"study\")))`  \n",
    "\n",
    ">The stemmed form of studying is: studi  \n",
    ">The stemmed form of studies is: studi  \n",
    ">The stemmed form of study is: studi  "
   ]
  },
  {
   "cell_type": "code",
   "execution_count": null,
   "metadata": {
    "colab": {
     "base_uri": "https://localhost:8080/",
     "height": 193
    },
    "id": "EL82rIoiNv9-",
    "outputId": "0ae9017f-5692-4685-f4b4-8881a9553268"
   },
   "outputs": [
    {
     "ename": "NameError",
     "evalue": "ignored",
     "output_type": "error",
     "traceback": [
      "\u001b[0;31m---------------------------------------------------------------------------\u001b[0m",
      "\u001b[0;31mNameError\u001b[0m                                 Traceback (most recent call last)",
      "\u001b[0;32m<ipython-input-3-954701a21ade>\u001b[0m in \u001b[0;36m<module>\u001b[0;34m()\u001b[0m\n\u001b[1;32m      1\u001b[0m \u001b[0;31m# Before stemmer\u001b[0m\u001b[0;34m\u001b[0m\u001b[0;34m\u001b[0m\u001b[0;34m\u001b[0m\u001b[0m\n\u001b[0;32m----> 2\u001b[0;31m \u001b[0mwords\u001b[0m\u001b[0;34m[\u001b[0m\u001b[0;34m:\u001b[0m\u001b[0;36m30\u001b[0m\u001b[0;34m]\u001b[0m\u001b[0;34m\u001b[0m\u001b[0;34m\u001b[0m\u001b[0m\n\u001b[0m",
      "\u001b[0;31mNameError\u001b[0m: name 'words' is not defined"
     ]
    }
   ],
   "source": [
    "# Before stemmer\n",
    "words[:30]"
   ]
  },
  {
   "cell_type": "code",
   "execution_count": null,
   "metadata": {
    "colab": {
     "base_uri": "https://localhost:8080/",
     "height": 248
    },
    "id": "es_vbWqfpJ5t",
    "outputId": "fb0fe198-a18a-49a8-d0fb-bd352f217f19"
   },
   "outputs": [
    {
     "ename": "NameError",
     "evalue": "ignored",
     "output_type": "error",
     "traceback": [
      "\u001b[0;31m---------------------------------------------------------------------------\u001b[0m",
      "\u001b[0;31mNameError\u001b[0m                                 Traceback (most recent call last)",
      "\u001b[0;32m<ipython-input-4-285de76302c2>\u001b[0m in \u001b[0;36m<module>\u001b[0;34m()\u001b[0m\n\u001b[1;32m      3\u001b[0m \u001b[0mstemmer\u001b[0m \u001b[0;34m=\u001b[0m \u001b[0mSnowballStemmer\u001b[0m\u001b[0;34m(\u001b[0m\u001b[0;34m'english'\u001b[0m\u001b[0;34m)\u001b[0m\u001b[0;34m\u001b[0m\u001b[0;34m\u001b[0m\u001b[0m\n\u001b[1;32m      4\u001b[0m \u001b[0;34m\u001b[0m\u001b[0m\n\u001b[0;32m----> 5\u001b[0;31m \u001b[0mwordss\u001b[0m \u001b[0;34m=\u001b[0m \u001b[0;34m[\u001b[0m\u001b[0mstemmer\u001b[0m\u001b[0;34m.\u001b[0m\u001b[0mstem\u001b[0m\u001b[0;34m(\u001b[0m\u001b[0mw\u001b[0m\u001b[0;34m)\u001b[0m \u001b[0;32mfor\u001b[0m \u001b[0mw\u001b[0m \u001b[0;32min\u001b[0m \u001b[0mwords\u001b[0m\u001b[0;34m]\u001b[0m\u001b[0;34m\u001b[0m\u001b[0;34m\u001b[0m\u001b[0m\n\u001b[0m\u001b[1;32m      6\u001b[0m \u001b[0;31m# After stemmer\u001b[0m\u001b[0;34m\u001b[0m\u001b[0;34m\u001b[0m\u001b[0;34m\u001b[0m\u001b[0m\n\u001b[1;32m      7\u001b[0m \u001b[0mwords\u001b[0m\u001b[0;34m[\u001b[0m\u001b[0;34m:\u001b[0m\u001b[0;36m10\u001b[0m\u001b[0;34m]\u001b[0m\u001b[0;34m\u001b[0m\u001b[0;34m\u001b[0m\u001b[0m\n",
      "\u001b[0;31mNameError\u001b[0m: name 'words' is not defined"
     ]
    }
   ],
   "source": [
    "from nltk.stem.snowball import SnowballStemmer\n",
    "\n",
    "stemmer = SnowballStemmer('english')\n",
    "\n",
    "wordss = [stemmer.stem(w) for w in words]\n",
    "# After stemmer\n",
    "words[:10]"
   ]
  },
  {
   "cell_type": "code",
   "execution_count": null,
   "metadata": {
    "id": "_fa4bhylpLgH"
   },
   "outputs": [],
   "source": [
    "from nltk.stem import WordNetLemmatizer\n",
    "wordnet_lemmatizer = WordNetLemmatizer()\n",
    "\n",
    "words = [wordnet_lemmatizer.lemmatize(w) for w in words]\n",
    "# 처리 후 단어\n",
    "words[:10]"
   ]
  },
  {
   "cell_type": "code",
   "execution_count": null,
   "metadata": {
    "id": "4eNrG-FTpNSQ"
   },
   "outputs": [],
   "source": [
    "def review_to_words(raw_review ):\n",
    "    # 1. HTML 제거\n",
    "    review_text = BeautifulSoup(raw_review, 'html.parser').get_text()\n",
    "    # 2. 영문자가 아닌 문자는 공백으로 변환\n",
    "    letters_only = re.sub('[^a-zA-Z]', ' ', review_text)\n",
    "    # 3. 소문자 변환\n",
    "    words = letters_only.lower().split()\n",
    "    # 4. 파이썬에서는 리스트보다 세트로 찾는게 훨씬 빠르다.\n",
    "    # stopwords 를 세트로 변환한다.\n",
    "    stops = set(stopwords.words('english'))\n",
    "    # 5. Stopwords 불용어 제거\n",
    "    meaningful_words = [w for w in words if not w in stops]\n",
    "    # 6. 어간추출\n",
    "    stemming_words = [stemmer.stem(w) for w in meaningful_words]\n",
    "    # 7. 공백으로 구분된 문자열로 결합하여 결과를 반환\n",
    "    return( ' '.join(stemming_words) )"
   ]
  },
  {
   "cell_type": "code",
   "execution_count": null,
   "metadata": {
    "id": "PiHiDzLipPIM"
   },
   "outputs": [],
   "source": [
    "from multiprocessing import Pool\n",
    "import numpy as np\n",
    "\n",
    "def _apply_df(args):\n",
    "    df, func, kwargs = args\n",
    "    return df.apply(func, **kwargs)\n",
    "\n",
    "def apply_by_multiprocessing(df, func, **kwargs):\n",
    "    # 키워드 항목 중 workers 파라메터를 꺼냄\n",
    "    workers = kwargs.pop('workers')\n",
    "    # 위에서 가져온 workers 수로 프로세스 풀을 정의\n",
    "    pool = Pool(processes=workers)\n",
    "    # 실행할 함수와 데이터프레임을 워커의 수 만큼 나눠 작업\n",
    "    result = pool.map(_apply_df, [(d, func, kwargs)\n",
    "            for d in np.array_split(df, workers)])\n",
    "    pool.close()\n",
    "    # 작업 결과를 합쳐서 반환\n",
    "    return pd.concat(list(result))"
   ]
  },
  {
   "cell_type": "code",
   "execution_count": null,
   "metadata": {
    "id": "C1IwL7YJpRS6"
   },
   "outputs": [],
   "source": [
    "%time clean_train_reviews = apply_by_multiprocessing(\\\n",
    "    train_set['Review'], review_to_words, workers=4)  "
   ]
  },
  {
   "cell_type": "code",
   "execution_count": null,
   "metadata": {
    "id": "VYFaYxQtrzAs"
   },
   "outputs": [],
   "source": [
    "clean_train_reviews"
   ]
  },
  {
   "cell_type": "code",
   "execution_count": null,
   "metadata": {
    "id": "MIXtUgqaQ3h_"
   },
   "outputs": [],
   "source": [
    "%time clean_test_reviews = apply_by_multiprocessing(\\\n",
    "   X_test, review_to_words, workers=4)  "
   ]
  },
  {
   "cell_type": "markdown",
   "metadata": {
    "id": "ICr7PPIbu34f"
   },
   "source": [
    "### Bag-of-words model - Wikipedia  \n",
    "다음의 두 문장이 있다고 하자,  \n",
    "\n",
    "(1) John likes to watch movies. Mary likes movies too.  \n",
    "(2) John also likes to watch football games.  \n",
    "위 두 문장을 토큰화 하여 가방에 담아주면 다음과 같다.  \n",
    "\n",
    "[\n",
    "    \"John\",  \n",
    "    \"likes\",  \n",
    "    \"to\",  \n",
    "    \"watch\",  \n",
    "    \"movies\",  \n",
    "    \"Mary\",    \n",
    "    \"too\",  \n",
    "    \"also\",  \n",
    "    \"football\",  \n",
    "    \"games\"  \n",
    "]  \n",
    "그리고 배열의 순서대로 가방에서 각 토큰이 몇 번 등장하는지 횟수를 세어준다.  \n",
    "  \n",
    "(1) [1, 2, 1, 1, 2, 1, 1, 0, 0, 0]    \n",
    "(2) [1, 1, 1, 1, 0, 0, 0, 1, 1, 1]    \n",
    "=> 머신러닝 알고리즘이 이해할 수 있는 형태로 바꿔주는 작업이다.  \n",
    "  \n",
    "단어 가방을 n-gram을 사용해 bigram 으로 담아주면 다음과 같다.  \n",
    "\n",
    "[  \n",
    "    \"John likes\",  \n",
    "    \"likes to\",  \n",
    "    \"to watch\",  \n",
    "    \"watch movies\",  \n",
    "    \"Mary likes\",  \n",
    "    \"likes movies\",  \n",
    "    \"movies too\",  \n",
    "]\n",
    "\n",
    "**>>여기서는 입력한 텍스트를 자동으로 BoW로 만드는 CountVectorizer를 사용한다.**   \n",
    "\n",
    "**>>CountVectorizer를 통해 위 작업을 한다.** "
   ]
  },
  {
   "cell_type": "markdown",
   "metadata": {
    "id": "kxfM9b9l0PMc"
   },
   "source": [
    "### CountVectorizer\n",
    "- 기본코드  \n",
    "`from sklearn.feature_extraction.text import CountVectorizer`    \n",
    "`tdmvector = CountVectorizer()`    \n",
    "`X_train_tdm = tdmvector.fit_transform(newsdata.data)`    \n",
    "<br><br>\n",
    "- CountVectorizer 파라미터  \n",
    "출처: https://chan-lab.tistory.com/27 [은공지능 공작소]\n",
    "1.  **analyzer**\n",
    "  - 학습단위를 결정하는 파라미터입니다.\n",
    "  - word, char 2가지 옵션 정도를 고려해볼 수 있습니다.\n",
    "  - analyzer = 'word'라고 설정시, 학습의 단위를 단어로 설정합니다. (ex - home, go, my ...)\n",
    "  - analyzer = 'char'라고 설정시, 학습의 단위를 글자로 설정합니다.(ex - a, b, c, d ...)\n",
    "  - char 기반의 analyzer을 하면, ('a', 1), ('b', 2), ('c', 3), ('e', 4), ('g', 5), ('h', 6), ('i', 7)... 형태로 출력되기 때문에 실제 모델에서\n",
    "좋은 성능을 보일지 의문이 남을 수도 있을 것 같습니다.  \n",
    "결론부터 말씀드리면, 상당히 좋은 결과를 내놓을 수 있습니다.  \n",
    "제가 CNN 모델에서 char analyzer로 학습을 시킨 적이 있었는데,\n",
    "생각보다 괜찮은 결과가 나왔던 것으로 기억합니다.  \n",
    "그러니 모델의 성능을 올리기 위해서, word 기반 방법만 고집할 것이 아니라 char 기반의 방법도 시도해 볼 만하다고 생각합니다.  \n",
    "\n",
    "2. **min_df**\n",
    "  - 최소 빈도값을 설정해주는 파라미터\n",
    "최소 DF가 2로 설정되었으니, 1인 것들은 모두 탈락하게 됩니다.\n",
    "\n",
    "3. **ngram_range 파라미터**   \n",
    "  - 만약 ngram_range = (1, 3)라고 한다면, 단어의 묶음을 1개부터 3개까지 설정하라는 뜻입니다.\n",
    "  - 단어사전에는 1개 단어묶음도 있고, 2개 단어묶음도, 3개 단어묶음도 존재하게 되겠죠.\n"
   ]
  },
  {
   "cell_type": "code",
   "execution_count": null,
   "metadata": {
    "colab": {
     "base_uri": "https://localhost:8080/"
    },
    "id": "z_vY2m36pTZI",
    "outputId": "ef4eee43-f966-4815-e897-23637a712524"
   },
   "outputs": [
    {
     "data": {
      "text/plain": [
       "CountVectorizer(max_features=20000, min_df=2, ngram_range=(1, 3))"
      ]
     },
     "execution_count": 7,
     "metadata": {},
     "output_type": "execute_result"
    }
   ],
   "source": [
    "from sklearn.feature_extraction.text import CountVectorizer\n",
    "\n",
    "vectorizer = CountVectorizer(analyzer = 'word', \n",
    "                             tokenizer = None,\n",
    "                             preprocessor = None, \n",
    "                             stop_words = None, \n",
    "                             min_df = 2, # 토큰이 나타날 최소 문서 개수\n",
    "                             ngram_range=(1, 3),\n",
    "                             max_features = 20000\n",
    "                            )\n",
    "vectorizer #파라미터가 잘 적용됐는지 찍어보기.자주찍어보는게 좋다. "
   ]
  },
  {
   "cell_type": "markdown",
   "metadata": {
    "id": "A-MmUCRo5o2D"
   },
   "source": [
    "## pipeline  \n",
    "이제 학습 파이프라인을 만듭니다.   \n",
    "pipeline은 feature engineering의 여러 과정을 묶어 줄 때 사용합니다.  sklearn에서는 Pipeline이라는 클래스로 두 모델을 연결할 수 있습니다.    \n",
    "가장 먼저 CounterVectorizer를 이용해 단어를 숫자로 인코딩 한뒤, 인코딩된 숫자를 곧 바로 NaiveBayes 모델의 입력으로 넣어서 학습하는 파이프라인을 고안해볼 수 있습니다.  \n",
    "\n",
    "[예시]  \n",
    "\n",
    "from sklearn.feature_extraction.text import CountVectorizer  \n",
    "pipeline = Pipeline([  \n",
    "    ('word_encoder', CountVectorizer(analyzer=preprocess)),  \n",
    "    ('classifier', BernoulliNB())  \n",
    "])  \n",
    "  \n",
    "pipeline.fit(train_feature, train_label)  \n",
    "  \n",
    "\n",
    "https://deepinsight.tistory.com/173"
   ]
  },
  {
   "cell_type": "code",
   "execution_count": null,
   "metadata": {
    "colab": {
     "base_uri": "https://localhost:8080/",
     "height": 229
    },
    "id": "a7WygmMopVmB",
    "outputId": "a9841a45-9968-483c-be50-8c6f660c0153"
   },
   "outputs": [
    {
     "ename": "NameError",
     "evalue": "ignored",
     "output_type": "error",
     "traceback": [
      "\u001b[0;31m---------------------------------------------------------------------------\u001b[0m",
      "\u001b[0;31mNameError\u001b[0m                                 Traceback (most recent call last)",
      "\u001b[0;32m<ipython-input-2-d36f74144b44>\u001b[0m in \u001b[0;36m<module>\u001b[0;34m()\u001b[0m\n\u001b[1;32m      4\u001b[0m \u001b[0;34m\u001b[0m\u001b[0m\n\u001b[1;32m      5\u001b[0m pipeline = Pipeline([\n\u001b[0;32m----> 6\u001b[0;31m     \u001b[0;34m(\u001b[0m\u001b[0;34m'vect'\u001b[0m\u001b[0;34m,\u001b[0m \u001b[0mvectorizer\u001b[0m\u001b[0;34m)\u001b[0m\u001b[0;34m,\u001b[0m\u001b[0;34m\u001b[0m\u001b[0;34m\u001b[0m\u001b[0m\n\u001b[0m\u001b[1;32m      7\u001b[0m ])  \n",
      "\u001b[0;31mNameError\u001b[0m: name 'vectorizer' is not defined"
     ]
    }
   ],
   "source": [
    "# 여기에서는 하나의 과정만 묶어주어 pipeline이 불필요 할 수도 있습니다.\n",
    "\n",
    "from sklearn.pipeline import Pipeline\n",
    "\n",
    "pipeline = Pipeline([\n",
    "    ('vect', vectorizer),\n",
    "])  "
   ]
  },
  {
   "cell_type": "code",
   "execution_count": null,
   "metadata": {
    "colab": {
     "base_uri": "https://localhost:8080/"
    },
    "id": "ehK3-lSdpXVx",
    "outputId": "0e96dab1-ddbe-48df-cbf8-67a2a9f885dc"
   },
   "outputs": [
    {
     "name": "stdout",
     "output_type": "stream",
     "text": [
      "CPU times: user 848 ms, sys: 26.6 ms, total: 874 ms\n",
      "Wall time: 883 ms\n"
     ]
    },
    {
     "data": {
      "text/plain": [
       "<4611x14118 sparse matrix of type '<class 'numpy.int64'>'\n",
       "\twith 117264 stored elements in Compressed Sparse Row format>"
      ]
     },
     "execution_count": 195,
     "metadata": {},
     "output_type": "execute_result"
    }
   ],
   "source": [
    "'''\n",
    "CountVectorizer는 여러 메소드 목록을 제공하고 있습니다.\n",
    "메소드 중에서 fit_transform 을 하면  term-document matrix 를 반환하는 것을 볼 수 있습니다.\n",
    "파이프라인으로 fit_transform을 해주게 되는데 해당 과정의 결과로 피처의 목록과 등장여부를 알 수 있습니다.\n",
    "'''\n",
    "%time train_data_features = pipeline.fit_transform(clean_train_reviews)\n",
    "train_data_features"
   ]
  },
  {
   "cell_type": "markdown",
   "metadata": {
    "id": "jPQXLjIy5kJy"
   },
   "source": [
    "보통 fit을 학습하는데 사용하는데 여기에서는 벡터화 할 때도 fit을 사용했습니다. 사이킷런에 구현된 벡터화 알고리즘이 fit을 사용해서 벡터화 하도록 되어 있습니다. 따라서 RF에서의 fit과 벡터화에 사용되는 fit은 다른 성격입니다."
   ]
  },
  {
   "cell_type": "code",
   "execution_count": null,
   "metadata": {
    "colab": {
     "base_uri": "https://localhost:8080/"
    },
    "id": "0dJkhVSqpZfo",
    "outputId": "3ca5b55f-6d51-4478-ac81-cefaf041e72c"
   },
   "outputs": [
    {
     "data": {
      "text/plain": [
       "(4611, 14118)"
      ]
     },
     "execution_count": 196,
     "metadata": {},
     "output_type": "execute_result"
    }
   ],
   "source": [
    "# vectorize를 한 결과 \n",
    "train_data_features.shape"
   ]
  },
  {
   "cell_type": "code",
   "execution_count": null,
   "metadata": {
    "colab": {
     "base_uri": "https://localhost:8080/"
    },
    "id": "wevNpsJUpab-",
    "outputId": "0fafba3d-2269-43b2-cefa-609f4387da8a"
   },
   "outputs": [
    {
     "name": "stdout",
     "output_type": "stream",
     "text": [
      "14118\n"
     ]
    },
    {
     "name": "stderr",
     "output_type": "stream",
     "text": [
      "/usr/local/lib/python3.7/dist-packages/sklearn/utils/deprecation.py:87: FutureWarning: Function get_feature_names is deprecated; get_feature_names is deprecated in 1.0 and will be removed in 1.2. Please use get_feature_names_out instead.\n",
      "  warnings.warn(msg, category=FutureWarning)\n"
     ]
    },
    {
     "data": {
      "text/plain": [
       "['abandon',\n",
       " 'abil',\n",
       " 'abil appli',\n",
       " 'abil make',\n",
       " 'abil without',\n",
       " 'abl',\n",
       " 'abl appli',\n",
       " 'abl audit',\n",
       " 'abl complet',\n",
       " 'abl complet assign']"
      ]
     },
     "execution_count": 197,
     "metadata": {},
     "output_type": "execute_result"
    }
   ],
   "source": [
    "'''\n",
    "get_feature_names() 라는 것도 CountVectorizer 에서 사용할 수 있는 메소드 중 하나입니다.\n",
    "위에서 정의한 CountVectorizer 에 데이터를 넣어주고 fit 혹은 fit_transform 을 하게 되면 벡터화와 함께 사전(get_feature_names)을 생성하게 됩니다.\n",
    "'''\n",
    "vocab = vectorizer.get_feature_names()\n",
    "print(len(vocab))\n",
    "vocab[:10]"
   ]
  },
  {
   "cell_type": "code",
   "execution_count": null,
   "metadata": {
    "colab": {
     "base_uri": "https://localhost:8080/",
     "height": 190
    },
    "id": "uuObyZlapcMT",
    "outputId": "ee479a3d-1757-486c-f6ca-9851426ce296"
   },
   "outputs": [
    {
     "name": "stdout",
     "output_type": "stream",
     "text": [
      "[[ 8 26  2 ...  3  2  3]] abandon\n"
     ]
    },
    {
     "data": {
      "text/html": [
       "\n",
       "  <div id=\"df-2f3538b2-c3e9-40f1-80af-18aa1d5344af\">\n",
       "    <div class=\"colab-df-container\">\n",
       "      <div>\n",
       "<style scoped>\n",
       "    .dataframe tbody tr th:only-of-type {\n",
       "        vertical-align: middle;\n",
       "    }\n",
       "\n",
       "    .dataframe tbody tr th {\n",
       "        vertical-align: top;\n",
       "    }\n",
       "\n",
       "    .dataframe thead th {\n",
       "        text-align: right;\n",
       "    }\n",
       "</style>\n",
       "<table border=\"1\" class=\"dataframe\">\n",
       "  <thead>\n",
       "    <tr style=\"text-align: right;\">\n",
       "      <th></th>\n",
       "      <th>abandon</th>\n",
       "      <th>abil</th>\n",
       "      <th>abil appli</th>\n",
       "      <th>abil make</th>\n",
       "      <th>abil without</th>\n",
       "      <th>abl</th>\n",
       "      <th>abl appli</th>\n",
       "      <th>abl audit</th>\n",
       "      <th>abl complet</th>\n",
       "      <th>abl complet assign</th>\n",
       "      <th>...</th>\n",
       "      <th>youtub com</th>\n",
       "      <th>youtub com watch</th>\n",
       "      <th>youtub video</th>\n",
       "      <th>zero</th>\n",
       "      <th>zero experi</th>\n",
       "      <th>zero interact</th>\n",
       "      <th>zero littl</th>\n",
       "      <th>zero star</th>\n",
       "      <th>zip</th>\n",
       "      <th>zizozi</th>\n",
       "    </tr>\n",
       "  </thead>\n",
       "  <tbody>\n",
       "    <tr>\n",
       "      <th>0</th>\n",
       "      <td>8</td>\n",
       "      <td>26</td>\n",
       "      <td>2</td>\n",
       "      <td>2</td>\n",
       "      <td>2</td>\n",
       "      <td>104</td>\n",
       "      <td>3</td>\n",
       "      <td>2</td>\n",
       "      <td>10</td>\n",
       "      <td>2</td>\n",
       "      <td>...</td>\n",
       "      <td>3</td>\n",
       "      <td>3</td>\n",
       "      <td>4</td>\n",
       "      <td>27</td>\n",
       "      <td>3</td>\n",
       "      <td>2</td>\n",
       "      <td>2</td>\n",
       "      <td>3</td>\n",
       "      <td>2</td>\n",
       "      <td>3</td>\n",
       "    </tr>\n",
       "  </tbody>\n",
       "</table>\n",
       "<p>1 rows × 14118 columns</p>\n",
       "</div>\n",
       "      <button class=\"colab-df-convert\" onclick=\"convertToInteractive('df-2f3538b2-c3e9-40f1-80af-18aa1d5344af')\"\n",
       "              title=\"Convert this dataframe to an interactive table.\"\n",
       "              style=\"display:none;\">\n",
       "        \n",
       "  <svg xmlns=\"http://www.w3.org/2000/svg\" height=\"24px\"viewBox=\"0 0 24 24\"\n",
       "       width=\"24px\">\n",
       "    <path d=\"M0 0h24v24H0V0z\" fill=\"none\"/>\n",
       "    <path d=\"M18.56 5.44l.94 2.06.94-2.06 2.06-.94-2.06-.94-.94-2.06-.94 2.06-2.06.94zm-11 1L8.5 8.5l.94-2.06 2.06-.94-2.06-.94L8.5 2.5l-.94 2.06-2.06.94zm10 10l.94 2.06.94-2.06 2.06-.94-2.06-.94-.94-2.06-.94 2.06-2.06.94z\"/><path d=\"M17.41 7.96l-1.37-1.37c-.4-.4-.92-.59-1.43-.59-.52 0-1.04.2-1.43.59L10.3 9.45l-7.72 7.72c-.78.78-.78 2.05 0 2.83L4 21.41c.39.39.9.59 1.41.59.51 0 1.02-.2 1.41-.59l7.78-7.78 2.81-2.81c.8-.78.8-2.07 0-2.86zM5.41 20L4 18.59l7.72-7.72 1.47 1.35L5.41 20z\"/>\n",
       "  </svg>\n",
       "      </button>\n",
       "      \n",
       "  <style>\n",
       "    .colab-df-container {\n",
       "      display:flex;\n",
       "      flex-wrap:wrap;\n",
       "      gap: 12px;\n",
       "    }\n",
       "\n",
       "    .colab-df-convert {\n",
       "      background-color: #E8F0FE;\n",
       "      border: none;\n",
       "      border-radius: 50%;\n",
       "      cursor: pointer;\n",
       "      display: none;\n",
       "      fill: #1967D2;\n",
       "      height: 32px;\n",
       "      padding: 0 0 0 0;\n",
       "      width: 32px;\n",
       "    }\n",
       "\n",
       "    .colab-df-convert:hover {\n",
       "      background-color: #E2EBFA;\n",
       "      box-shadow: 0px 1px 2px rgba(60, 64, 67, 0.3), 0px 1px 3px 1px rgba(60, 64, 67, 0.15);\n",
       "      fill: #174EA6;\n",
       "    }\n",
       "\n",
       "    [theme=dark] .colab-df-convert {\n",
       "      background-color: #3B4455;\n",
       "      fill: #D2E3FC;\n",
       "    }\n",
       "\n",
       "    [theme=dark] .colab-df-convert:hover {\n",
       "      background-color: #434B5C;\n",
       "      box-shadow: 0px 1px 3px 1px rgba(0, 0, 0, 0.15);\n",
       "      filter: drop-shadow(0px 1px 2px rgba(0, 0, 0, 0.3));\n",
       "      fill: #FFFFFF;\n",
       "    }\n",
       "  </style>\n",
       "\n",
       "      <script>\n",
       "        const buttonEl =\n",
       "          document.querySelector('#df-2f3538b2-c3e9-40f1-80af-18aa1d5344af button.colab-df-convert');\n",
       "        buttonEl.style.display =\n",
       "          google.colab.kernel.accessAllowed ? 'block' : 'none';\n",
       "\n",
       "        async function convertToInteractive(key) {\n",
       "          const element = document.querySelector('#df-2f3538b2-c3e9-40f1-80af-18aa1d5344af');\n",
       "          const dataTable =\n",
       "            await google.colab.kernel.invokeFunction('convertToInteractive',\n",
       "                                                     [key], {});\n",
       "          if (!dataTable) return;\n",
       "\n",
       "          const docLinkHtml = 'Like what you see? Visit the ' +\n",
       "            '<a target=\"_blank\" href=https://colab.research.google.com/notebooks/data_table.ipynb>data table notebook</a>'\n",
       "            + ' to learn more about interactive tables.';\n",
       "          element.innerHTML = '';\n",
       "          dataTable['output_type'] = 'display_data';\n",
       "          await google.colab.output.renderOutput(dataTable, element);\n",
       "          const docLink = document.createElement('div');\n",
       "          docLink.innerHTML = docLinkHtml;\n",
       "          element.appendChild(docLink);\n",
       "        }\n",
       "      </script>\n",
       "    </div>\n",
       "  </div>\n",
       "  "
      ],
      "text/plain": [
       "   abandon  abil  abil appli  abil make  abil without  abl  abl appli  \\\n",
       "0        8    26           2          2             2  104          3   \n",
       "\n",
       "   abl audit  abl complet  abl complet assign  ...  youtub com  \\\n",
       "0          2           10                   2  ...           3   \n",
       "\n",
       "   youtub com watch  youtub video  zero  zero experi  zero interact  \\\n",
       "0                 3             4    27            3              2   \n",
       "\n",
       "   zero littl  zero star  zip  zizozi  \n",
       "0           2          3    2       3  \n",
       "\n",
       "[1 rows x 14118 columns]"
      ]
     },
     "execution_count": 198,
     "metadata": {},
     "output_type": "execute_result"
    }
   ],
   "source": [
    "# 벡터화 된 피처를 확인해 봄\n",
    "import numpy as np\n",
    "dist = np.sum(train_data_features, axis=0)\n",
    "    \n",
    "for tag, count in zip(vocab, dist):\n",
    "    print(count, tag)\n",
    "    \n",
    "pd.DataFrame(dist, columns=vocab)"
   ]
  },
  {
   "cell_type": "code",
   "execution_count": null,
   "metadata": {
    "colab": {
     "base_uri": "https://localhost:8080/",
     "height": 297
    },
    "id": "XWFxutl8pdsj",
    "outputId": "5398ce0d-1012-427b-cf63-f2a90beea2a7"
   },
   "outputs": [
    {
     "data": {
      "text/html": [
       "\n",
       "  <div id=\"df-dc6a9629-90d9-45eb-b75d-249fe94d6ef5\">\n",
       "    <div class=\"colab-df-container\">\n",
       "      <div>\n",
       "<style scoped>\n",
       "    .dataframe tbody tr th:only-of-type {\n",
       "        vertical-align: middle;\n",
       "    }\n",
       "\n",
       "    .dataframe tbody tr th {\n",
       "        vertical-align: top;\n",
       "    }\n",
       "\n",
       "    .dataframe thead th {\n",
       "        text-align: right;\n",
       "    }\n",
       "</style>\n",
       "<table border=\"1\" class=\"dataframe\">\n",
       "  <thead>\n",
       "    <tr style=\"text-align: right;\">\n",
       "      <th></th>\n",
       "      <th>abandon</th>\n",
       "      <th>abil</th>\n",
       "      <th>abil appli</th>\n",
       "      <th>abil make</th>\n",
       "      <th>abil without</th>\n",
       "      <th>abl</th>\n",
       "      <th>abl appli</th>\n",
       "      <th>abl audit</th>\n",
       "      <th>abl complet</th>\n",
       "      <th>abl complet assign</th>\n",
       "      <th>...</th>\n",
       "      <th>youtub com</th>\n",
       "      <th>youtub com watch</th>\n",
       "      <th>youtub video</th>\n",
       "      <th>zero</th>\n",
       "      <th>zero experi</th>\n",
       "      <th>zero interact</th>\n",
       "      <th>zero littl</th>\n",
       "      <th>zero star</th>\n",
       "      <th>zip</th>\n",
       "      <th>zizozi</th>\n",
       "    </tr>\n",
       "  </thead>\n",
       "  <tbody>\n",
       "    <tr>\n",
       "      <th>0</th>\n",
       "      <td>0</td>\n",
       "      <td>0</td>\n",
       "      <td>0</td>\n",
       "      <td>0</td>\n",
       "      <td>0</td>\n",
       "      <td>0</td>\n",
       "      <td>0</td>\n",
       "      <td>0</td>\n",
       "      <td>0</td>\n",
       "      <td>0</td>\n",
       "      <td>...</td>\n",
       "      <td>0</td>\n",
       "      <td>0</td>\n",
       "      <td>0</td>\n",
       "      <td>0</td>\n",
       "      <td>0</td>\n",
       "      <td>0</td>\n",
       "      <td>0</td>\n",
       "      <td>0</td>\n",
       "      <td>0</td>\n",
       "      <td>0</td>\n",
       "    </tr>\n",
       "    <tr>\n",
       "      <th>1</th>\n",
       "      <td>0</td>\n",
       "      <td>0</td>\n",
       "      <td>0</td>\n",
       "      <td>0</td>\n",
       "      <td>0</td>\n",
       "      <td>0</td>\n",
       "      <td>0</td>\n",
       "      <td>0</td>\n",
       "      <td>0</td>\n",
       "      <td>0</td>\n",
       "      <td>...</td>\n",
       "      <td>0</td>\n",
       "      <td>0</td>\n",
       "      <td>0</td>\n",
       "      <td>0</td>\n",
       "      <td>0</td>\n",
       "      <td>0</td>\n",
       "      <td>0</td>\n",
       "      <td>0</td>\n",
       "      <td>0</td>\n",
       "      <td>0</td>\n",
       "    </tr>\n",
       "    <tr>\n",
       "      <th>2</th>\n",
       "      <td>0</td>\n",
       "      <td>0</td>\n",
       "      <td>0</td>\n",
       "      <td>0</td>\n",
       "      <td>0</td>\n",
       "      <td>0</td>\n",
       "      <td>0</td>\n",
       "      <td>0</td>\n",
       "      <td>0</td>\n",
       "      <td>0</td>\n",
       "      <td>...</td>\n",
       "      <td>0</td>\n",
       "      <td>0</td>\n",
       "      <td>0</td>\n",
       "      <td>0</td>\n",
       "      <td>0</td>\n",
       "      <td>0</td>\n",
       "      <td>0</td>\n",
       "      <td>0</td>\n",
       "      <td>0</td>\n",
       "      <td>0</td>\n",
       "    </tr>\n",
       "    <tr>\n",
       "      <th>3</th>\n",
       "      <td>0</td>\n",
       "      <td>0</td>\n",
       "      <td>0</td>\n",
       "      <td>0</td>\n",
       "      <td>0</td>\n",
       "      <td>0</td>\n",
       "      <td>0</td>\n",
       "      <td>0</td>\n",
       "      <td>0</td>\n",
       "      <td>0</td>\n",
       "      <td>...</td>\n",
       "      <td>0</td>\n",
       "      <td>0</td>\n",
       "      <td>0</td>\n",
       "      <td>0</td>\n",
       "      <td>0</td>\n",
       "      <td>0</td>\n",
       "      <td>0</td>\n",
       "      <td>0</td>\n",
       "      <td>0</td>\n",
       "      <td>0</td>\n",
       "    </tr>\n",
       "    <tr>\n",
       "      <th>4</th>\n",
       "      <td>0</td>\n",
       "      <td>0</td>\n",
       "      <td>0</td>\n",
       "      <td>0</td>\n",
       "      <td>0</td>\n",
       "      <td>0</td>\n",
       "      <td>0</td>\n",
       "      <td>0</td>\n",
       "      <td>0</td>\n",
       "      <td>0</td>\n",
       "      <td>...</td>\n",
       "      <td>0</td>\n",
       "      <td>0</td>\n",
       "      <td>0</td>\n",
       "      <td>0</td>\n",
       "      <td>0</td>\n",
       "      <td>0</td>\n",
       "      <td>0</td>\n",
       "      <td>0</td>\n",
       "      <td>0</td>\n",
       "      <td>0</td>\n",
       "    </tr>\n",
       "  </tbody>\n",
       "</table>\n",
       "<p>5 rows × 14118 columns</p>\n",
       "</div>\n",
       "      <button class=\"colab-df-convert\" onclick=\"convertToInteractive('df-dc6a9629-90d9-45eb-b75d-249fe94d6ef5')\"\n",
       "              title=\"Convert this dataframe to an interactive table.\"\n",
       "              style=\"display:none;\">\n",
       "        \n",
       "  <svg xmlns=\"http://www.w3.org/2000/svg\" height=\"24px\"viewBox=\"0 0 24 24\"\n",
       "       width=\"24px\">\n",
       "    <path d=\"M0 0h24v24H0V0z\" fill=\"none\"/>\n",
       "    <path d=\"M18.56 5.44l.94 2.06.94-2.06 2.06-.94-2.06-.94-.94-2.06-.94 2.06-2.06.94zm-11 1L8.5 8.5l.94-2.06 2.06-.94-2.06-.94L8.5 2.5l-.94 2.06-2.06.94zm10 10l.94 2.06.94-2.06 2.06-.94-2.06-.94-.94-2.06-.94 2.06-2.06.94z\"/><path d=\"M17.41 7.96l-1.37-1.37c-.4-.4-.92-.59-1.43-.59-.52 0-1.04.2-1.43.59L10.3 9.45l-7.72 7.72c-.78.78-.78 2.05 0 2.83L4 21.41c.39.39.9.59 1.41.59.51 0 1.02-.2 1.41-.59l7.78-7.78 2.81-2.81c.8-.78.8-2.07 0-2.86zM5.41 20L4 18.59l7.72-7.72 1.47 1.35L5.41 20z\"/>\n",
       "  </svg>\n",
       "      </button>\n",
       "      \n",
       "  <style>\n",
       "    .colab-df-container {\n",
       "      display:flex;\n",
       "      flex-wrap:wrap;\n",
       "      gap: 12px;\n",
       "    }\n",
       "\n",
       "    .colab-df-convert {\n",
       "      background-color: #E8F0FE;\n",
       "      border: none;\n",
       "      border-radius: 50%;\n",
       "      cursor: pointer;\n",
       "      display: none;\n",
       "      fill: #1967D2;\n",
       "      height: 32px;\n",
       "      padding: 0 0 0 0;\n",
       "      width: 32px;\n",
       "    }\n",
       "\n",
       "    .colab-df-convert:hover {\n",
       "      background-color: #E2EBFA;\n",
       "      box-shadow: 0px 1px 2px rgba(60, 64, 67, 0.3), 0px 1px 3px 1px rgba(60, 64, 67, 0.15);\n",
       "      fill: #174EA6;\n",
       "    }\n",
       "\n",
       "    [theme=dark] .colab-df-convert {\n",
       "      background-color: #3B4455;\n",
       "      fill: #D2E3FC;\n",
       "    }\n",
       "\n",
       "    [theme=dark] .colab-df-convert:hover {\n",
       "      background-color: #434B5C;\n",
       "      box-shadow: 0px 1px 3px 1px rgba(0, 0, 0, 0.15);\n",
       "      filter: drop-shadow(0px 1px 2px rgba(0, 0, 0, 0.3));\n",
       "      fill: #FFFFFF;\n",
       "    }\n",
       "  </style>\n",
       "\n",
       "      <script>\n",
       "        const buttonEl =\n",
       "          document.querySelector('#df-dc6a9629-90d9-45eb-b75d-249fe94d6ef5 button.colab-df-convert');\n",
       "        buttonEl.style.display =\n",
       "          google.colab.kernel.accessAllowed ? 'block' : 'none';\n",
       "\n",
       "        async function convertToInteractive(key) {\n",
       "          const element = document.querySelector('#df-dc6a9629-90d9-45eb-b75d-249fe94d6ef5');\n",
       "          const dataTable =\n",
       "            await google.colab.kernel.invokeFunction('convertToInteractive',\n",
       "                                                     [key], {});\n",
       "          if (!dataTable) return;\n",
       "\n",
       "          const docLinkHtml = 'Like what you see? Visit the ' +\n",
       "            '<a target=\"_blank\" href=https://colab.research.google.com/notebooks/data_table.ipynb>data table notebook</a>'\n",
       "            + ' to learn more about interactive tables.';\n",
       "          element.innerHTML = '';\n",
       "          dataTable['output_type'] = 'display_data';\n",
       "          await google.colab.output.renderOutput(dataTable, element);\n",
       "          const docLink = document.createElement('div');\n",
       "          docLink.innerHTML = docLinkHtml;\n",
       "          element.appendChild(docLink);\n",
       "        }\n",
       "      </script>\n",
       "    </div>\n",
       "  </div>\n",
       "  "
      ],
      "text/plain": [
       "   abandon  abil  abil appli  abil make  abil without  abl  abl appli  \\\n",
       "0        0     0           0          0             0    0          0   \n",
       "1        0     0           0          0             0    0          0   \n",
       "2        0     0           0          0             0    0          0   \n",
       "3        0     0           0          0             0    0          0   \n",
       "4        0     0           0          0             0    0          0   \n",
       "\n",
       "   abl audit  abl complet  abl complet assign  ...  youtub com  \\\n",
       "0          0            0                   0  ...           0   \n",
       "1          0            0                   0  ...           0   \n",
       "2          0            0                   0  ...           0   \n",
       "3          0            0                   0  ...           0   \n",
       "4          0            0                   0  ...           0   \n",
       "\n",
       "   youtub com watch  youtub video  zero  zero experi  zero interact  \\\n",
       "0                 0             0     0            0              0   \n",
       "1                 0             0     0            0              0   \n",
       "2                 0             0     0            0              0   \n",
       "3                 0             0     0            0              0   \n",
       "4                 0             0     0            0              0   \n",
       "\n",
       "   zero littl  zero star  zip  zizozi  \n",
       "0           0          0    0       0  \n",
       "1           0          0    0       0  \n",
       "2           0          0    0       0  \n",
       "3           0          0    0       0  \n",
       "4           0          0    0       0  \n",
       "\n",
       "[5 rows x 14118 columns]"
      ]
     },
     "execution_count": 199,
     "metadata": {},
     "output_type": "execute_result"
    }
   ],
   "source": [
    "pd.DataFrame(train_data_features[:10].toarray(), columns=vocab).head()"
   ]
  },
  {
   "cell_type": "code",
   "execution_count": null,
   "metadata": {
    "colab": {
     "base_uri": "https://localhost:8080/"
    },
    "id": "F82m3Ctvpe5L",
    "outputId": "d95d9ecf-3b67-4eec-d69c-e3f08700db53"
   },
   "outputs": [
    {
     "data": {
      "text/plain": [
       "RandomForestClassifier(n_jobs=-1, random_state=2018)"
      ]
     },
     "execution_count": 200,
     "metadata": {},
     "output_type": "execute_result"
    }
   ],
   "source": [
    "from sklearn.ensemble import RandomForestClassifier\n",
    "\n",
    "# 랜덤포레스트 분류기를 사용\n",
    "# 100개의 트리\n",
    "model = RandomForestClassifier(n_estimators = 100, n_jobs = -1, random_state=2018)\n",
    "model"
   ]
  },
  {
   "cell_type": "code",
   "execution_count": null,
   "metadata": {
    "colab": {
     "base_uri": "https://localhost:8080/"
    },
    "id": "4rBQQUvfDMYI",
    "outputId": "f95b3b18-e23b-4003-96a3-76d6f0716e44"
   },
   "outputs": [
    {
     "name": "stdout",
     "output_type": "stream",
     "text": [
      "CPU times: user 7.29 s, sys: 32.9 ms, total: 7.32 s\n",
      "Wall time: 3.87 s\n"
     ]
    }
   ],
   "source": [
    " # model.fit(X_train, y_train)  #모델 학습\n",
    "# 위에서 X = dataset['Review'], y = dataset['Label'] 으로 해주고 x_train, y_train_split() 했으니까, y_train으로(dataset['Label']이 아니고)\n",
    "\n",
    "%time model = model.fit(train_data_features, y_train)\n",
    "\n",
    "# pred = model.predict(X_test)"
   ]
  },
  {
   "cell_type": "code",
   "execution_count": null,
   "metadata": {
    "colab": {
     "base_uri": "https://localhost:8080/"
    },
    "id": "AGZ5_pabT-23",
    "outputId": "58bb0463-0dfc-4b21-dcbc-6be7929f18ca"
   },
   "outputs": [
    {
     "name": "stdout",
     "output_type": "stream",
     "text": [
      "CPU times: user 4.9 s, sys: 537 ms, total: 5.44 s\n",
      "Wall time: 42.8 s\n"
     ]
    },
    {
     "data": {
      "text/plain": [
       "0.9090910878565139"
      ]
     },
     "execution_count": 202,
     "metadata": {},
     "output_type": "execute_result"
    }
   ],
   "source": [
    "from sklearn.model_selection import cross_val_score\n",
    "%time score = np.mean(cross_val_score(model, train_data_features, train_set['Label'], cv=10, scoring='roc_auc'))\n",
    "score\n"
   ]
  },
  {
   "cell_type": "markdown",
   "metadata": {
    "id": "qbCW6qwnDTnV"
   },
   "source": [
    "## 예측"
   ]
  },
  {
   "cell_type": "code",
   "execution_count": null,
   "metadata": {
    "id": "nD1zrwR0ph5H"
   },
   "outputs": [],
   "source": [
    "# 체크해 보고 싶은 Review(string)를 Series에 담아준다.\n",
    "# reveiw_sample1 = \"I don't like to spend money to bad lecture, but Cousera MOOC is really helpful to upgrade my understanding of U.S history.\"\n",
    "\n",
    "reveiw_sample1 = \"I have nothing but good things to say about my experience with Coursera. I have loved the learning I have been able to do and look forward to taking many more classes with them. I have always been interested in Psychology and Coursera has given me the chance to take the classes that really interest me. I don't understand the reviews with low ratings. I have never had any problems with them. \"\n",
    "sample1 = pd.Series(reveiw_sample1)"
   ]
  },
  {
   "cell_type": "code",
   "execution_count": null,
   "metadata": {
    "colab": {
     "base_uri": "https://localhost:8080/"
    },
    "id": "rlCjl13Xpo90",
    "outputId": "774c72cd-22e3-4b23-b72f-bc29eaa60965"
   },
   "outputs": [
    {
     "name": "stdout",
     "output_type": "stream",
     "text": [
      "CPU times: user 2.09 ms, sys: 15 µs, total: 2.11 ms\n",
      "Wall time: 7.74 ms\n"
     ]
    }
   ],
   "source": [
    "# 테스트 데이터를 벡터화 함\n",
    "%time test_data_feature = pipeline.transform(sample1)\n",
    "\n",
    "test_data_feature = test_data_feature.toarray()"
   ]
  },
  {
   "cell_type": "code",
   "execution_count": null,
   "metadata": {
    "colab": {
     "base_uri": "https://localhost:8080/"
    },
    "id": "lDWvPXbRqV39",
    "outputId": "5e806a1c-e1ef-45aa-e8e8-f8fc95844d36"
   },
   "outputs": [
    {
     "data": {
      "text/plain": [
       "array([[0, 0, 0, ..., 0, 0, 0]])"
      ]
     },
     "execution_count": 190,
     "metadata": {},
     "output_type": "execute_result"
    }
   ],
   "source": [
    "test_data_feature"
   ]
  },
  {
   "cell_type": "code",
   "execution_count": null,
   "metadata": {
    "colab": {
     "base_uri": "https://localhost:8080/"
    },
    "id": "v724KHZqqY-L",
    "outputId": "bd95204e-86a4-4da1-fa0f-df01aaa1757d"
   },
   "outputs": [
    {
     "name": "stderr",
     "output_type": "stream",
     "text": [
      "/usr/local/lib/python3.7/dist-packages/sklearn/utils/deprecation.py:87: FutureWarning: Function get_feature_names is deprecated; get_feature_names is deprecated in 1.0 and will be removed in 1.2. Please use get_feature_names_out instead.\n",
      "  warnings.warn(msg, category=FutureWarning)\n"
     ]
    },
    {
     "data": {
      "text/plain": [
       "('abl complet', 'cours make think', 'cours mani', 'cours mani interest')"
      ]
     },
     "execution_count": 191,
     "metadata": {},
     "output_type": "execute_result"
    }
   ],
   "source": [
    "# 벡터화 하며 만든 사전에서 해당 단어가 무엇인지 찾아볼 수 있다.\n",
    "vocab = vectorizer.get_feature_names()\n",
    "vocab[8], vocab[2558], vocab[2559], vocab[2560]"
   ]
  },
  {
   "cell_type": "code",
   "execution_count": null,
   "metadata": {
    "colab": {
     "base_uri": "https://localhost:8080/"
    },
    "id": "kWSiJLLDqdj-",
    "outputId": "ed3f2e48-21c3-4c31-8c07-d5366fb070f5"
   },
   "outputs": [
    {
     "name": "stdout",
     "output_type": "stream",
     "text": [
      "결과: [1]\n"
     ]
    }
   ],
   "source": [
    "# 테스트 데이터를 넣고 예측한다.\n",
    "result = model.predict(test_data_feature)\n",
    "# result[:100] # 100개의 리뷰에 대해서 뽑을 때 \n",
    "# 여기서는 test_data_feature 하나니까 결과값이 1개 나오는 것임 \n",
    "print(\"결과:\",result)  #긍정1 부정0"
   ]
  },
  {
   "cell_type": "markdown",
   "metadata": {
    "id": "wBKCgf6x2af3"
   },
   "source": [
    "## 모델의 정확도를 높이기 위한 개선 방법\n",
    "1. Stopwords 라이브러리 추가 \n",
    "2. Convector 파라미터 바꿔가면서 해보기 \n",
    "3. kfold를 5-fold CV로 바꿔보기"
   ]
  },
  {
   "cell_type": "code",
   "execution_count": null,
   "metadata": {
    "id": "PcdMVLQLpxyn"
   },
   "outputs": [],
   "source": []
  }
 ],
 "metadata": {
  "colab": {
   "name": "Coursera Review Analysis 1 (SpaCy)",
   "provenance": []
  },
  "kernelspec": {
   "display_name": "Python 3",
   "language": "python",
   "name": "python3"
  },
  "language_info": {
   "codemirror_mode": {
    "name": "ipython",
    "version": 3
   },
   "file_extension": ".py",
   "mimetype": "text/x-python",
   "name": "python",
   "nbconvert_exporter": "python",
   "pygments_lexer": "ipython3",
   "version": "3.8.5"
  }
 },
 "nbformat": 4,
 "nbformat_minor": 1
}
