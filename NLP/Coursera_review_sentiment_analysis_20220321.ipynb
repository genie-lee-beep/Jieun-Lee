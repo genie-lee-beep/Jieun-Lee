{
  "nbformat": 4,
  "nbformat_minor": 0,
  "metadata": {
    "colab": {
      "name": "Coursera review  sentiment analysis_20220321.ipynb",
      "provenance": []
    },
    "kernelspec": {
      "name": "python3",
      "display_name": "Python 3"
    },
    "language_info": {
      "name": "python"
    }
  },
  "cells": [
    {
      "cell_type": "code",
      "execution_count": 103,
      "metadata": {
        "colab": {
          "base_uri": "https://localhost:8080/",
          "height": 424
        },
        "id": "dXjT3aPJG3Nv",
        "outputId": "c0cc3daf-8ec5-46f4-80d9-528337b08fe7"
      },
      "outputs": [
        {
          "output_type": "execute_result",
          "data": {
            "text/plain": [
              "                                                   Review  Label\n",
              "0                                    good and interesting      5\n",
              "1       This class is very helpful to me. Currently, I...      5\n",
              "2       like!Prof and TAs are helpful and the discussi...      5\n",
              "3       Easy to follow and includes a lot basic and im...      5\n",
              "4       Really nice teacher!I could got the point eazl...      4\n",
              "...                                                   ...    ...\n",
              "107013  Trendy topic with talks from expertises in the...      4\n",
              "107014  Wonderful! Simple and clear language, good ins...      5\n",
              "107015   an interesting and fun course. thanks. dr quincy      5\n",
              "107016  very broad perspective, up to date information...      4\n",
              "107017  An informative course on the social and financ...      4\n",
              "\n",
              "[107018 rows x 2 columns]"
            ],
            "text/html": [
              "\n",
              "  <div id=\"df-64f2c0b9-4737-4f5e-a459-2837c03cf06a\">\n",
              "    <div class=\"colab-df-container\">\n",
              "      <div>\n",
              "<style scoped>\n",
              "    .dataframe tbody tr th:only-of-type {\n",
              "        vertical-align: middle;\n",
              "    }\n",
              "\n",
              "    .dataframe tbody tr th {\n",
              "        vertical-align: top;\n",
              "    }\n",
              "\n",
              "    .dataframe thead th {\n",
              "        text-align: right;\n",
              "    }\n",
              "</style>\n",
              "<table border=\"1\" class=\"dataframe\">\n",
              "  <thead>\n",
              "    <tr style=\"text-align: right;\">\n",
              "      <th></th>\n",
              "      <th>Review</th>\n",
              "      <th>Label</th>\n",
              "    </tr>\n",
              "  </thead>\n",
              "  <tbody>\n",
              "    <tr>\n",
              "      <th>0</th>\n",
              "      <td>good and interesting</td>\n",
              "      <td>5</td>\n",
              "    </tr>\n",
              "    <tr>\n",
              "      <th>1</th>\n",
              "      <td>This class is very helpful to me. Currently, I...</td>\n",
              "      <td>5</td>\n",
              "    </tr>\n",
              "    <tr>\n",
              "      <th>2</th>\n",
              "      <td>like!Prof and TAs are helpful and the discussi...</td>\n",
              "      <td>5</td>\n",
              "    </tr>\n",
              "    <tr>\n",
              "      <th>3</th>\n",
              "      <td>Easy to follow and includes a lot basic and im...</td>\n",
              "      <td>5</td>\n",
              "    </tr>\n",
              "    <tr>\n",
              "      <th>4</th>\n",
              "      <td>Really nice teacher!I could got the point eazl...</td>\n",
              "      <td>4</td>\n",
              "    </tr>\n",
              "    <tr>\n",
              "      <th>...</th>\n",
              "      <td>...</td>\n",
              "      <td>...</td>\n",
              "    </tr>\n",
              "    <tr>\n",
              "      <th>107013</th>\n",
              "      <td>Trendy topic with talks from expertises in the...</td>\n",
              "      <td>4</td>\n",
              "    </tr>\n",
              "    <tr>\n",
              "      <th>107014</th>\n",
              "      <td>Wonderful! Simple and clear language, good ins...</td>\n",
              "      <td>5</td>\n",
              "    </tr>\n",
              "    <tr>\n",
              "      <th>107015</th>\n",
              "      <td>an interesting and fun course. thanks. dr quincy</td>\n",
              "      <td>5</td>\n",
              "    </tr>\n",
              "    <tr>\n",
              "      <th>107016</th>\n",
              "      <td>very broad perspective, up to date information...</td>\n",
              "      <td>4</td>\n",
              "    </tr>\n",
              "    <tr>\n",
              "      <th>107017</th>\n",
              "      <td>An informative course on the social and financ...</td>\n",
              "      <td>4</td>\n",
              "    </tr>\n",
              "  </tbody>\n",
              "</table>\n",
              "<p>107018 rows × 2 columns</p>\n",
              "</div>\n",
              "      <button class=\"colab-df-convert\" onclick=\"convertToInteractive('df-64f2c0b9-4737-4f5e-a459-2837c03cf06a')\"\n",
              "              title=\"Convert this dataframe to an interactive table.\"\n",
              "              style=\"display:none;\">\n",
              "        \n",
              "  <svg xmlns=\"http://www.w3.org/2000/svg\" height=\"24px\"viewBox=\"0 0 24 24\"\n",
              "       width=\"24px\">\n",
              "    <path d=\"M0 0h24v24H0V0z\" fill=\"none\"/>\n",
              "    <path d=\"M18.56 5.44l.94 2.06.94-2.06 2.06-.94-2.06-.94-.94-2.06-.94 2.06-2.06.94zm-11 1L8.5 8.5l.94-2.06 2.06-.94-2.06-.94L8.5 2.5l-.94 2.06-2.06.94zm10 10l.94 2.06.94-2.06 2.06-.94-2.06-.94-.94-2.06-.94 2.06-2.06.94z\"/><path d=\"M17.41 7.96l-1.37-1.37c-.4-.4-.92-.59-1.43-.59-.52 0-1.04.2-1.43.59L10.3 9.45l-7.72 7.72c-.78.78-.78 2.05 0 2.83L4 21.41c.39.39.9.59 1.41.59.51 0 1.02-.2 1.41-.59l7.78-7.78 2.81-2.81c.8-.78.8-2.07 0-2.86zM5.41 20L4 18.59l7.72-7.72 1.47 1.35L5.41 20z\"/>\n",
              "  </svg>\n",
              "      </button>\n",
              "      \n",
              "  <style>\n",
              "    .colab-df-container {\n",
              "      display:flex;\n",
              "      flex-wrap:wrap;\n",
              "      gap: 12px;\n",
              "    }\n",
              "\n",
              "    .colab-df-convert {\n",
              "      background-color: #E8F0FE;\n",
              "      border: none;\n",
              "      border-radius: 50%;\n",
              "      cursor: pointer;\n",
              "      display: none;\n",
              "      fill: #1967D2;\n",
              "      height: 32px;\n",
              "      padding: 0 0 0 0;\n",
              "      width: 32px;\n",
              "    }\n",
              "\n",
              "    .colab-df-convert:hover {\n",
              "      background-color: #E2EBFA;\n",
              "      box-shadow: 0px 1px 2px rgba(60, 64, 67, 0.3), 0px 1px 3px 1px rgba(60, 64, 67, 0.15);\n",
              "      fill: #174EA6;\n",
              "    }\n",
              "\n",
              "    [theme=dark] .colab-df-convert {\n",
              "      background-color: #3B4455;\n",
              "      fill: #D2E3FC;\n",
              "    }\n",
              "\n",
              "    [theme=dark] .colab-df-convert:hover {\n",
              "      background-color: #434B5C;\n",
              "      box-shadow: 0px 1px 3px 1px rgba(0, 0, 0, 0.15);\n",
              "      filter: drop-shadow(0px 1px 2px rgba(0, 0, 0, 0.3));\n",
              "      fill: #FFFFFF;\n",
              "    }\n",
              "  </style>\n",
              "\n",
              "      <script>\n",
              "        const buttonEl =\n",
              "          document.querySelector('#df-64f2c0b9-4737-4f5e-a459-2837c03cf06a button.colab-df-convert');\n",
              "        buttonEl.style.display =\n",
              "          google.colab.kernel.accessAllowed ? 'block' : 'none';\n",
              "\n",
              "        async function convertToInteractive(key) {\n",
              "          const element = document.querySelector('#df-64f2c0b9-4737-4f5e-a459-2837c03cf06a');\n",
              "          const dataTable =\n",
              "            await google.colab.kernel.invokeFunction('convertToInteractive',\n",
              "                                                     [key], {});\n",
              "          if (!dataTable) return;\n",
              "\n",
              "          const docLinkHtml = 'Like what you see? Visit the ' +\n",
              "            '<a target=\"_blank\" href=https://colab.research.google.com/notebooks/data_table.ipynb>data table notebook</a>'\n",
              "            + ' to learn more about interactive tables.';\n",
              "          element.innerHTML = '';\n",
              "          dataTable['output_type'] = 'display_data';\n",
              "          await google.colab.output.renderOutput(dataTable, element);\n",
              "          const docLink = document.createElement('div');\n",
              "          docLink.innerHTML = docLinkHtml;\n",
              "          element.appendChild(docLink);\n",
              "        }\n",
              "      </script>\n",
              "    </div>\n",
              "  </div>\n",
              "  "
            ]
          },
          "metadata": {},
          "execution_count": 103
        }
      ],
      "source": [
        "import numpy as np\n",
        "import pandas as pd\n",
        "dataset = pd.read_csv('reviews.csv')\n",
        "dataset.drop(columns=\"Id\", inplace=True)\n",
        "dataset"
      ]
    },
    {
      "cell_type": "code",
      "source": [
        "dataset = dataset.drop_duplicates(ignore_index=True)\n",
        "dataset"
      ],
      "metadata": {
        "id": "Q5fZ_lipHE7C",
        "colab": {
          "base_uri": "https://localhost:8080/",
          "height": 424
        },
        "outputId": "02c06a96-5930-48b0-89c7-611c66fa4555"
      },
      "execution_count": 104,
      "outputs": [
        {
          "output_type": "execute_result",
          "data": {
            "text/plain": [
              "                                                   Review  Label\n",
              "0                                    good and interesting      5\n",
              "1       This class is very helpful to me. Currently, I...      5\n",
              "2       like!Prof and TAs are helpful and the discussi...      5\n",
              "3       Easy to follow and includes a lot basic and im...      5\n",
              "4       Really nice teacher!I could got the point eazl...      4\n",
              "...                                                   ...    ...\n",
              "100467  Trendy topic with talks from expertises in the...      4\n",
              "100468  Wonderful! Simple and clear language, good ins...      5\n",
              "100469   an interesting and fun course. thanks. dr quincy      5\n",
              "100470  very broad perspective, up to date information...      4\n",
              "100471  An informative course on the social and financ...      4\n",
              "\n",
              "[100472 rows x 2 columns]"
            ],
            "text/html": [
              "\n",
              "  <div id=\"df-8051d72b-ddae-44f0-87a4-a794b03802c2\">\n",
              "    <div class=\"colab-df-container\">\n",
              "      <div>\n",
              "<style scoped>\n",
              "    .dataframe tbody tr th:only-of-type {\n",
              "        vertical-align: middle;\n",
              "    }\n",
              "\n",
              "    .dataframe tbody tr th {\n",
              "        vertical-align: top;\n",
              "    }\n",
              "\n",
              "    .dataframe thead th {\n",
              "        text-align: right;\n",
              "    }\n",
              "</style>\n",
              "<table border=\"1\" class=\"dataframe\">\n",
              "  <thead>\n",
              "    <tr style=\"text-align: right;\">\n",
              "      <th></th>\n",
              "      <th>Review</th>\n",
              "      <th>Label</th>\n",
              "    </tr>\n",
              "  </thead>\n",
              "  <tbody>\n",
              "    <tr>\n",
              "      <th>0</th>\n",
              "      <td>good and interesting</td>\n",
              "      <td>5</td>\n",
              "    </tr>\n",
              "    <tr>\n",
              "      <th>1</th>\n",
              "      <td>This class is very helpful to me. Currently, I...</td>\n",
              "      <td>5</td>\n",
              "    </tr>\n",
              "    <tr>\n",
              "      <th>2</th>\n",
              "      <td>like!Prof and TAs are helpful and the discussi...</td>\n",
              "      <td>5</td>\n",
              "    </tr>\n",
              "    <tr>\n",
              "      <th>3</th>\n",
              "      <td>Easy to follow and includes a lot basic and im...</td>\n",
              "      <td>5</td>\n",
              "    </tr>\n",
              "    <tr>\n",
              "      <th>4</th>\n",
              "      <td>Really nice teacher!I could got the point eazl...</td>\n",
              "      <td>4</td>\n",
              "    </tr>\n",
              "    <tr>\n",
              "      <th>...</th>\n",
              "      <td>...</td>\n",
              "      <td>...</td>\n",
              "    </tr>\n",
              "    <tr>\n",
              "      <th>100467</th>\n",
              "      <td>Trendy topic with talks from expertises in the...</td>\n",
              "      <td>4</td>\n",
              "    </tr>\n",
              "    <tr>\n",
              "      <th>100468</th>\n",
              "      <td>Wonderful! Simple and clear language, good ins...</td>\n",
              "      <td>5</td>\n",
              "    </tr>\n",
              "    <tr>\n",
              "      <th>100469</th>\n",
              "      <td>an interesting and fun course. thanks. dr quincy</td>\n",
              "      <td>5</td>\n",
              "    </tr>\n",
              "    <tr>\n",
              "      <th>100470</th>\n",
              "      <td>very broad perspective, up to date information...</td>\n",
              "      <td>4</td>\n",
              "    </tr>\n",
              "    <tr>\n",
              "      <th>100471</th>\n",
              "      <td>An informative course on the social and financ...</td>\n",
              "      <td>4</td>\n",
              "    </tr>\n",
              "  </tbody>\n",
              "</table>\n",
              "<p>100472 rows × 2 columns</p>\n",
              "</div>\n",
              "      <button class=\"colab-df-convert\" onclick=\"convertToInteractive('df-8051d72b-ddae-44f0-87a4-a794b03802c2')\"\n",
              "              title=\"Convert this dataframe to an interactive table.\"\n",
              "              style=\"display:none;\">\n",
              "        \n",
              "  <svg xmlns=\"http://www.w3.org/2000/svg\" height=\"24px\"viewBox=\"0 0 24 24\"\n",
              "       width=\"24px\">\n",
              "    <path d=\"M0 0h24v24H0V0z\" fill=\"none\"/>\n",
              "    <path d=\"M18.56 5.44l.94 2.06.94-2.06 2.06-.94-2.06-.94-.94-2.06-.94 2.06-2.06.94zm-11 1L8.5 8.5l.94-2.06 2.06-.94-2.06-.94L8.5 2.5l-.94 2.06-2.06.94zm10 10l.94 2.06.94-2.06 2.06-.94-2.06-.94-.94-2.06-.94 2.06-2.06.94z\"/><path d=\"M17.41 7.96l-1.37-1.37c-.4-.4-.92-.59-1.43-.59-.52 0-1.04.2-1.43.59L10.3 9.45l-7.72 7.72c-.78.78-.78 2.05 0 2.83L4 21.41c.39.39.9.59 1.41.59.51 0 1.02-.2 1.41-.59l7.78-7.78 2.81-2.81c.8-.78.8-2.07 0-2.86zM5.41 20L4 18.59l7.72-7.72 1.47 1.35L5.41 20z\"/>\n",
              "  </svg>\n",
              "      </button>\n",
              "      \n",
              "  <style>\n",
              "    .colab-df-container {\n",
              "      display:flex;\n",
              "      flex-wrap:wrap;\n",
              "      gap: 12px;\n",
              "    }\n",
              "\n",
              "    .colab-df-convert {\n",
              "      background-color: #E8F0FE;\n",
              "      border: none;\n",
              "      border-radius: 50%;\n",
              "      cursor: pointer;\n",
              "      display: none;\n",
              "      fill: #1967D2;\n",
              "      height: 32px;\n",
              "      padding: 0 0 0 0;\n",
              "      width: 32px;\n",
              "    }\n",
              "\n",
              "    .colab-df-convert:hover {\n",
              "      background-color: #E2EBFA;\n",
              "      box-shadow: 0px 1px 2px rgba(60, 64, 67, 0.3), 0px 1px 3px 1px rgba(60, 64, 67, 0.15);\n",
              "      fill: #174EA6;\n",
              "    }\n",
              "\n",
              "    [theme=dark] .colab-df-convert {\n",
              "      background-color: #3B4455;\n",
              "      fill: #D2E3FC;\n",
              "    }\n",
              "\n",
              "    [theme=dark] .colab-df-convert:hover {\n",
              "      background-color: #434B5C;\n",
              "      box-shadow: 0px 1px 3px 1px rgba(0, 0, 0, 0.15);\n",
              "      filter: drop-shadow(0px 1px 2px rgba(0, 0, 0, 0.3));\n",
              "      fill: #FFFFFF;\n",
              "    }\n",
              "  </style>\n",
              "\n",
              "      <script>\n",
              "        const buttonEl =\n",
              "          document.querySelector('#df-8051d72b-ddae-44f0-87a4-a794b03802c2 button.colab-df-convert');\n",
              "        buttonEl.style.display =\n",
              "          google.colab.kernel.accessAllowed ? 'block' : 'none';\n",
              "\n",
              "        async function convertToInteractive(key) {\n",
              "          const element = document.querySelector('#df-8051d72b-ddae-44f0-87a4-a794b03802c2');\n",
              "          const dataTable =\n",
              "            await google.colab.kernel.invokeFunction('convertToInteractive',\n",
              "                                                     [key], {});\n",
              "          if (!dataTable) return;\n",
              "\n",
              "          const docLinkHtml = 'Like what you see? Visit the ' +\n",
              "            '<a target=\"_blank\" href=https://colab.research.google.com/notebooks/data_table.ipynb>data table notebook</a>'\n",
              "            + ' to learn more about interactive tables.';\n",
              "          element.innerHTML = '';\n",
              "          dataTable['output_type'] = 'display_data';\n",
              "          await google.colab.output.renderOutput(dataTable, element);\n",
              "          const docLink = document.createElement('div');\n",
              "          docLink.innerHTML = docLinkHtml;\n",
              "          element.appendChild(docLink);\n",
              "        }\n",
              "      </script>\n",
              "    </div>\n",
              "  </div>\n",
              "  "
            ]
          },
          "metadata": {},
          "execution_count": 104
        }
      ]
    },
    {
      "cell_type": "code",
      "source": [
        "dataset['Label'].hist()"
      ],
      "metadata": {
        "id": "cT2rrAOwHt_u",
        "colab": {
          "base_uri": "https://localhost:8080/",
          "height": 283
        },
        "outputId": "59f3a845-18ef-4f86-8c01-1b4f37f28be0"
      },
      "execution_count": 105,
      "outputs": [
        {
          "output_type": "execute_result",
          "data": {
            "text/plain": [
              "<matplotlib.axes._subplots.AxesSubplot at 0x7f8e9de2c890>"
            ]
          },
          "metadata": {},
          "execution_count": 105
        },
        {
          "output_type": "display_data",
          "data": {
            "text/plain": [
              "<Figure size 432x288 with 1 Axes>"
            ],
            "image/png": "[encoded data removed]"
          },
          "metadata": {
            "needs_background": "light"
          }
        }
      ]
    },
    {
      "cell_type": "code",
      "source": [
        "dataset['Label'].value_counts()"
      ],
      "metadata": {
        "id": "W8jWCwmeHvBI",
        "colab": {
          "base_uri": "https://localhost:8080/"
        },
        "outputId": "49038cc4-2c56-4592-9519-ff95fb6c7f2c"
      },
      "execution_count": 106,
      "outputs": [
        {
          "output_type": "execute_result",
          "data": {
            "text/plain": [
              "5    73276\n",
              "4    17558\n",
              "3     5016\n",
              "1     2403\n",
              "2     2219\n",
              "Name: Label, dtype: int64"
            ]
          },
          "metadata": {},
          "execution_count": 106
        }
      ]
    },
    {
      "cell_type": "code",
      "source": [
        "# 어중간한 3점 삭제해 버리기\n",
        "rating_3 = dataset[dataset['Label']==3].index\n",
        "del_3 = dataset.drop(rating_3)\n",
        "dataset=del_3"
      ],
      "metadata": {
        "id": "HD7MFybnHwKS"
      },
      "execution_count": 107,
      "outputs": []
    },
    {
      "cell_type": "code",
      "source": [
        "dataset['Label'].value_counts()"
      ],
      "metadata": {
        "id": "sSE_RnnTHw8O",
        "colab": {
          "base_uri": "https://localhost:8080/"
        },
        "outputId": "7664568e-966f-421a-fa57-b9d04942aeca"
      },
      "execution_count": 108,
      "outputs": [
        {
          "output_type": "execute_result",
          "data": {
            "text/plain": [
              "5    73276\n",
              "4    17558\n",
              "1     2403\n",
              "2     2219\n",
              "Name: Label, dtype: int64"
            ]
          },
          "metadata": {},
          "execution_count": 108
        }
      ]
    },
    {
      "cell_type": "code",
      "source": [
        "# 현재 4~5점(긍정)에 데이터가 너무 많음\n",
        "#1~2점(부정)과 4~5점(긍정) 데이터 비율을 맞춰주기\n",
        "def reduce_size(x):\n",
        "    if len(x.index) > 70000:\n",
        "        return x.sample(n=int(len(x.index)/35)) #70000/2200\n",
        "    elif len(x.index) > 17000:\n",
        "        return x.sample(n=int(len(x.index)/7)) #17000/2200\n",
        "    else:\n",
        "        return x\n",
        "\n",
        "dataset = dataset.groupby('Label').apply(reduce_size).reset_index(drop=True)\n",
        "dataset['Label'].value_counts()\n",
        "\n",
        "# 4~5점 = 4601 / 1~2점 = 4622"
      ],
      "metadata": {
        "id": "hL0cmYWNHyQ9",
        "colab": {
          "base_uri": "https://localhost:8080/"
        },
        "outputId": "85de3c18-0c2f-4b4a-b897-c86a308a7365"
      },
      "execution_count": 109,
      "outputs": [
        {
          "output_type": "execute_result",
          "data": {
            "text/plain": [
              "4    2508\n",
              "1    2403\n",
              "2    2219\n",
              "5    2093\n",
              "Name: Label, dtype: int64"
            ]
          },
          "metadata": {},
          "execution_count": 109
        }
      ]
    },
    {
      "cell_type": "code",
      "source": [
        "dataset.shape"
      ],
      "metadata": {
        "id": "Hfh7tNeKHzaY",
        "colab": {
          "base_uri": "https://localhost:8080/"
        },
        "outputId": "a0c696ec-dca2-426d-9f10-a9500a8548b0"
      },
      "execution_count": 110,
      "outputs": [
        {
          "output_type": "execute_result",
          "data": {
            "text/plain": [
              "(9223, 2)"
            ]
          },
          "metadata": {},
          "execution_count": 110
        }
      ]
    },
    {
      "cell_type": "code",
      "source": [
        "# train과 test를 나눠주기 위한 준비\n",
        "X = dataset['Review']\n",
        "y = dataset['Label']"
      ],
      "metadata": {
        "id": "iXO9y2ZPH0ir"
      },
      "execution_count": 111,
      "outputs": []
    },
    {
      "cell_type": "code",
      "source": [
        "from sklearn.model_selection import train_test_split\n",
        "\n",
        "X_train, X_test, y_train, y_test = train_test_split(X,  y,  test_size=0.5,shuffle=True,  random_state=1004)\n",
        "             \n",
        "print('X_train shape:', X_train.shape)\n",
        "\n",
        "print('X_test shape:', X_test.shape)\n",
        "\n",
        "print('y_train shape:', y_train.shape)\n",
        "\n",
        "print('y_test shape:', y_test.shape)"
      ],
      "metadata": {
        "id": "mdGstNf3H1ks",
        "colab": {
          "base_uri": "https://localhost:8080/"
        },
        "outputId": "68e39b7a-4c86-4a59-a5e4-b853f9f636ee"
      },
      "execution_count": 112,
      "outputs": [
        {
          "output_type": "stream",
          "name": "stdout",
          "text": [
            "X_train shape: (4611,)\n",
            "X_test shape: (4612,)\n",
            "y_train shape: (4611,)\n",
            "y_test shape: (4612,)\n"
          ]
        }
      ]
    },
    {
      "cell_type": "code",
      "source": [
        "# train과 test의 데이터에 각 점수들이 반반씩 잘 분포 되었음.\n",
        "print('train set:', y_train.value_counts())\n",
        "print('----------------------------')\n",
        "print('test set:', y_test.value_counts())"
      ],
      "metadata": {
        "id": "7akPgRdWH2SI",
        "colab": {
          "base_uri": "https://localhost:8080/"
        },
        "outputId": "0cf21222-7b91-4634-d707-baf39baf56ee"
      },
      "execution_count": 113,
      "outputs": [
        {
          "output_type": "stream",
          "name": "stdout",
          "text": [
            "train set: 4    1220\n",
            "1    1211\n",
            "2    1102\n",
            "5    1078\n",
            "Name: Label, dtype: int64\n",
            "----------------------------\n",
            "test set: 4    1288\n",
            "1    1192\n",
            "2    1117\n",
            "5    1015\n",
            "Name: Label, dtype: int64\n"
          ]
        }
      ]
    },
    {
      "cell_type": "code",
      "source": [
        "dataset.dtypes"
      ],
      "metadata": {
        "id": "J8UeE9_qH3UW",
        "colab": {
          "base_uri": "https://localhost:8080/"
        },
        "outputId": "c0a176c7-9ce1-43ee-add0-783b4c9aca55"
      },
      "execution_count": 114,
      "outputs": [
        {
          "output_type": "execute_result",
          "data": {
            "text/plain": [
              "Review    object\n",
              "Label      int64\n",
              "dtype: object"
            ]
          },
          "metadata": {},
          "execution_count": 114
        }
      ]
    },
    {
      "cell_type": "code",
      "source": [
        "#replace has a default arg inplace=False. \n",
        "#Thus, your results will not affect each other and you will have to combine them into dataset['label']=dataset['label'].replace([1,2,4,5],[0,0,1,1]) or \n",
        "#dataset['label'].replace([1,2,4,5],[0,0,1,1],inplace=True)\n",
        "\n",
        "dataset['Label']=dataset['Label'].replace([1,2,4,5],[0,0,1,1])"
      ],
      "metadata": {
        "id": "-pOMoABJH4d0"
      },
      "execution_count": 115,
      "outputs": []
    },
    {
      "cell_type": "code",
      "source": [
        "dataset['Label'].value_counts()"
      ],
      "metadata": {
        "id": "QGk0XdPjH5pB",
        "colab": {
          "base_uri": "https://localhost:8080/"
        },
        "outputId": "845efc26-cfc6-472b-d2d9-03c6a721d9a9"
      },
      "execution_count": 116,
      "outputs": [
        {
          "output_type": "execute_result",
          "data": {
            "text/plain": [
              "0    4622\n",
              "1    4601\n",
              "Name: Label, dtype: int64"
            ]
          },
          "metadata": {},
          "execution_count": 116
        }
      ]
    },
    {
      "cell_type": "code",
      "source": [
        "X_train"
      ],
      "metadata": {
        "id": "dwcgmY0jH7AY",
        "colab": {
          "base_uri": "https://localhost:8080/"
        },
        "outputId": "53ffe3e1-0191-4051-f465-d2e138f21ac2"
      },
      "execution_count": 117,
      "outputs": [
        {
          "output_type": "execute_result",
          "data": {
            "text/plain": [
              "1519    The Lecturers are very enthusiastic, but I was...\n",
              "2501    Beware this course, especially if you are new ...\n",
              "8896    Excellent! Very easy and practical. Good struc...\n",
              "6753    The introduction was very precise and straight...\n",
              "7326          Great materials and speakers! Thanks a lot!\n",
              "                              ...                        \n",
              "2740    The value of this course is the collection of ...\n",
              "9055    This is the best course in Finance; I liked th...\n",
              "8206    Excelent course! Many different aspects are st...\n",
              "8391                         Great instructor! Thank you!\n",
              "4127    By the end of the course, you do start to deve...\n",
              "Name: Review, Length: 4611, dtype: object"
            ]
          },
          "metadata": {},
          "execution_count": 117
        }
      ]
    },
    {
      "cell_type": "code",
      "source": [
        "X_test"
      ],
      "metadata": {
        "id": "QxUQENVGH8QU",
        "colab": {
          "base_uri": "https://localhost:8080/"
        },
        "outputId": "04559991-1778-450f-f975-6ea1f60905aa"
      },
      "execution_count": 118,
      "outputs": [
        {
          "output_type": "execute_result",
          "data": {
            "text/plain": [
              "5942    very very impressive course, learn some intere...\n",
              "1456    Very bad course too fast is not an introductio...\n",
              "7128    Great lectures. However, the starter code for ...\n",
              "5831    Interessting Course. Many \"Nice to know\" momen...\n",
              "7466    Great course that help me learn a lot about le...\n",
              "                              ...                        \n",
              "5638    It should be little more elaborative with code...\n",
              "3380    This instructor reads of a script! He rushes t...\n",
              "3200    Basically not much content. The guest speaker ...\n",
              "2075    Beware - will make you upgrade to complete qui...\n",
              "3624    I do like the course, but Coursera has disable...\n",
              "Name: Review, Length: 4612, dtype: object"
            ]
          },
          "metadata": {},
          "execution_count": 118
        }
      ]
    },
    {
      "cell_type": "code",
      "source": [
        "# train과 test의 데이터에 각 점수들이 반반씩 잘 분포 되었음.\n",
        "print('train set:', y_train.value_counts())\n",
        "print('----------------------------')\n",
        "print('test set:', y_test.value_counts())"
      ],
      "metadata": {
        "id": "YF-BHUhpH9c4",
        "colab": {
          "base_uri": "https://localhost:8080/"
        },
        "outputId": "2389d27e-ad64-425c-dfcf-6600f63411e2"
      },
      "execution_count": 119,
      "outputs": [
        {
          "output_type": "stream",
          "name": "stdout",
          "text": [
            "train set: 4    1220\n",
            "1    1211\n",
            "2    1102\n",
            "5    1078\n",
            "Name: Label, dtype: int64\n",
            "----------------------------\n",
            "test set: 4    1288\n",
            "1    1192\n",
            "2    1117\n",
            "5    1015\n",
            "Name: Label, dtype: int64\n"
          ]
        }
      ]
    },
    {
      "cell_type": "code",
      "source": [
        "# concat()dms df와 series에 다 적용가능\n",
        "train_set = pd.concat([X_train, y_train], axis = 1)\n",
        "print(train_set)"
      ],
      "metadata": {
        "id": "c6yqd83KH-4t",
        "colab": {
          "base_uri": "https://localhost:8080/"
        },
        "outputId": "45498cba-614c-4683-d4d6-6f9b9984f39a"
      },
      "execution_count": 120,
      "outputs": [
        {
          "output_type": "stream",
          "name": "stdout",
          "text": [
            "                                                 Review  Label\n",
            "1519  The Lecturers are very enthusiastic, but I was...      1\n",
            "2501  Beware this course, especially if you are new ...      2\n",
            "8896  Excellent! Very easy and practical. Good struc...      5\n",
            "6753  The introduction was very precise and straight...      4\n",
            "7326        Great materials and speakers! Thanks a lot!      5\n",
            "...                                                 ...    ...\n",
            "2740  The value of this course is the collection of ...      2\n",
            "9055  This is the best course in Finance; I liked th...      5\n",
            "8206  Excelent course! Many different aspects are st...      5\n",
            "8391                       Great instructor! Thank you!      5\n",
            "4127  By the end of the course, you do start to deve...      2\n",
            "\n",
            "[4611 rows x 2 columns]\n"
          ]
        }
      ]
    },
    {
      "cell_type": "code",
      "source": [
        "from bs4 import BeautifulSoup\n",
        "\n",
        "example1 = BeautifulSoup(train_set['Review'][7], \"html5lib\")\n",
        "print(train_set['Review'][:20])\n",
        "\n",
        "\n",
        "example1.get_text()[:10]"
      ],
      "metadata": {
        "id": "DYPyTfyMH_7O",
        "colab": {
          "base_uri": "https://localhost:8080/",
          "height": 421
        },
        "outputId": "203ad6d6-9670-46fd-f0fb-2a2a7df6498a"
      },
      "execution_count": 121,
      "outputs": [
        {
          "output_type": "stream",
          "name": "stdout",
          "text": [
            "1519    The Lecturers are very enthusiastic, but I was...\n",
            "2501    Beware this course, especially if you are new ...\n",
            "8896    Excellent! Very easy and practical. Good struc...\n",
            "6753    The introduction was very precise and straight...\n",
            "7326          Great materials and speakers! Thanks a lot!\n",
            "4991    Good professors but you will not learn a lot, ...\n",
            "495                  I think there are only few contents.\n",
            "1724    Excellent teaching, but it's not actually free...\n",
            "4835    I found this a hugely useful course. I really ...\n",
            "2986    Too basic. Should give an example on how these...\n",
            "6853                                  Short but essential\n",
            "1909    Instructor doesn't seem to be passionate about...\n",
            "1625    Pretty bad as far as I am conerned. I spent tw...\n",
            "8229    Very good classe to start learning python. I r...\n",
            "4745    This is a really nice course, it has actually ...\n",
            "531     I'm sorely disappointed. I learned almost noth...\n",
            "1493    Poor quality and heavily outdated content. Vid...\n",
            "5724    This is really good. I expected a tedious revi...\n",
            "5104    Very braod and enhanced look and description a...\n",
            "4183    The content and the speed that they teach you ...\n",
            "Name: Review, dtype: object\n"
          ]
        },
        {
          "output_type": "execute_result",
          "data": {
            "text/plain": [
              "'The Capsto'"
            ],
            "application/vnd.google.colaboratory.intrinsic+json": {
              "type": "string"
            }
          },
          "metadata": {},
          "execution_count": 121
        }
      ]
    },
    {
      "cell_type": "code",
      "source": [
        "import re\n",
        "letters_only= re.sub('[^a-zA-Z]', ' ', example1.get_text())\n",
        "letters_only[:10]"
      ],
      "metadata": {
        "id": "FPbU4hdlIA0M",
        "colab": {
          "base_uri": "https://localhost:8080/",
          "height": 35
        },
        "outputId": "c323dade-b8bb-437b-ce8c-a0e0af12ea81"
      },
      "execution_count": 122,
      "outputs": [
        {
          "output_type": "execute_result",
          "data": {
            "text/plain": [
              "'The Capsto'"
            ],
            "application/vnd.google.colaboratory.intrinsic+json": {
              "type": "string"
            }
          },
          "metadata": {},
          "execution_count": 122
        }
      ]
    },
    {
      "cell_type": "code",
      "source": [
        "# 모두 소문자로 변환한다.\n",
        "lower_case = letters_only.lower()\n",
        "# lower_case = letters_only['Review'].str.lower()      # Q str?"
      ],
      "metadata": {
        "id": "vbpNKdUeIBq7"
      },
      "execution_count": 123,
      "outputs": []
    },
    {
      "cell_type": "code",
      "source": [
        "# 문자를 나눈다. => 토큰화\n",
        "words = lower_case.split()\n",
        "print(len(words))\n",
        "words[:10]"
      ],
      "metadata": {
        "id": "rHmuYyKIIDS6",
        "colab": {
          "base_uri": "https://localhost:8080/"
        },
        "outputId": "2b57e7c5-12b3-458b-f234-0132de8834da"
      },
      "execution_count": 124,
      "outputs": [
        {
          "output_type": "stream",
          "name": "stdout",
          "text": [
            "15\n"
          ]
        },
        {
          "output_type": "execute_result",
          "data": {
            "text/plain": [
              "['the',\n",
              " 'capstone',\n",
              " 'project',\n",
              " 'has',\n",
              " 'been',\n",
              " 'getting',\n",
              " 'delayed',\n",
              " 'since',\n",
              " 'jandont',\n",
              " 'expect']"
            ]
          },
          "metadata": {},
          "execution_count": 124
        }
      ]
    },
    {
      "cell_type": "code",
      "source": [
        "# 텍스트 데이터 전처리를 위해 다음을 다운로드 해야함\n",
        "import nltk\n",
        "nltk.download('stopwords')\n",
        "nltk.download('wordnet')"
      ],
      "metadata": {
        "colab": {
          "base_uri": "https://localhost:8080/"
        },
        "id": "VCjxGGNEpDtQ",
        "outputId": "7399c489-80a8-42ac-f837-e0d08b5f229c"
      },
      "execution_count": 125,
      "outputs": [
        {
          "output_type": "stream",
          "name": "stdout",
          "text": [
            "[nltk_data] Downloading package stopwords to /root/nltk_data...\n",
            "[nltk_data]   Package stopwords is already up-to-date!\n",
            "[nltk_data] Downloading package wordnet to /root/nltk_data...\n",
            "[nltk_data]   Package wordnet is already up-to-date!\n"
          ]
        },
        {
          "output_type": "execute_result",
          "data": {
            "text/plain": [
              "True"
            ]
          },
          "metadata": {},
          "execution_count": 125
        }
      ]
    },
    {
      "cell_type": "code",
      "source": [
        "import nltk\n",
        "from nltk.corpus import stopwords\n",
        "stopwords.words('english')[:20]"
      ],
      "metadata": {
        "colab": {
          "base_uri": "https://localhost:8080/"
        },
        "id": "FwE9zEW3pFoE",
        "outputId": "166f569f-98bf-4893-f8c3-1913a8d75db3"
      },
      "execution_count": 126,
      "outputs": [
        {
          "output_type": "execute_result",
          "data": {
            "text/plain": [
              "['i',\n",
              " 'me',\n",
              " 'my',\n",
              " 'myself',\n",
              " 'we',\n",
              " 'our',\n",
              " 'ours',\n",
              " 'ourselves',\n",
              " 'you',\n",
              " \"you're\",\n",
              " \"you've\",\n",
              " \"you'll\",\n",
              " \"you'd\",\n",
              " 'your',\n",
              " 'yours',\n",
              " 'yourself',\n",
              " 'yourselves',\n",
              " 'he',\n",
              " 'him',\n",
              " 'his']"
            ]
          },
          "metadata": {},
          "execution_count": 126
        }
      ]
    },
    {
      "cell_type": "markdown",
      "source": [
        "Stopwords 추가하기"
      ],
      "metadata": {
        "id": "DJSWbZp8xmRn"
      }
    },
    {
      "cell_type": "code",
      "source": [
        "# stopwords 를 제거한 토큰들\n",
        "words = [w for w in words if not w in stopwords.words('english')]\n",
        "print(len(words))\n",
        "words[:10]"
      ],
      "metadata": {
        "colab": {
          "base_uri": "https://localhost:8080/"
        },
        "id": "sIL5hU2spINg",
        "outputId": "f965575b-acb6-4d8f-9c45-4493b4627327"
      },
      "execution_count": 127,
      "outputs": [
        {
          "output_type": "stream",
          "name": "stdout",
          "text": [
            "9\n"
          ]
        },
        {
          "output_type": "execute_result",
          "data": {
            "text/plain": [
              "['capstone',\n",
              " 'project',\n",
              " 'getting',\n",
              " 'delayed',\n",
              " 'since',\n",
              " 'jandont',\n",
              " 'expect',\n",
              " 'complete',\n",
              " 'specialization']"
            ]
          },
          "metadata": {},
          "execution_count": 127
        }
      ]
    },
    {
      "cell_type": "code",
      "source": [
        ""
      ],
      "metadata": {
        "id": "pQHkQoxHxgUh"
      },
      "execution_count": 127,
      "outputs": []
    },
    {
      "cell_type": "code",
      "source": [
        "from nltk.stem.snowball import SnowballStemmer\n",
        "\n",
        "stemmer = SnowballStemmer('english')\n",
        "\n",
        "wordss = [stemmer.stem(w) for w in words]\n",
        "# 처리 후 단어\n",
        "words[:10]\n",
        "\n",
        "\n",
        "# from nltk.stem.porter import *\n",
        "# stemmer = PorterStemmer()\n",
        "# plurals = ['caresses', 'flies', 'dies', 'mules', 'denied']\n",
        "# singles = [stemmer.stem(plural) for plural in plurals]  # ---> loop through the list and process each element. "
      ],
      "metadata": {
        "colab": {
          "base_uri": "https://localhost:8080/"
        },
        "id": "es_vbWqfpJ5t",
        "outputId": "53dafc1d-86bf-4168-8ef6-d52f29197e20"
      },
      "execution_count": 128,
      "outputs": [
        {
          "output_type": "execute_result",
          "data": {
            "text/plain": [
              "['capstone',\n",
              " 'project',\n",
              " 'getting',\n",
              " 'delayed',\n",
              " 'since',\n",
              " 'jandont',\n",
              " 'expect',\n",
              " 'complete',\n",
              " 'specialization']"
            ]
          },
          "metadata": {},
          "execution_count": 128
        }
      ]
    },
    {
      "cell_type": "code",
      "source": [
        "from nltk.stem import WordNetLemmatizer\n",
        "wordnet_lemmatizer = WordNetLemmatizer()\n",
        "\n",
        "words = [wordnet_lemmatizer.lemmatize(w) for w in words]\n",
        "# 처리 후 단어\n",
        "words[:10]"
      ],
      "metadata": {
        "colab": {
          "base_uri": "https://localhost:8080/"
        },
        "id": "_fa4bhylpLgH",
        "outputId": "95f32069-d663-4260-a007-54726c4bb580"
      },
      "execution_count": 129,
      "outputs": [
        {
          "output_type": "execute_result",
          "data": {
            "text/plain": [
              "['capstone',\n",
              " 'project',\n",
              " 'getting',\n",
              " 'delayed',\n",
              " 'since',\n",
              " 'jandont',\n",
              " 'expect',\n",
              " 'complete',\n",
              " 'specialization']"
            ]
          },
          "metadata": {},
          "execution_count": 129
        }
      ]
    },
    {
      "cell_type": "code",
      "source": [
        "def review_to_words(raw_review ):\n",
        "    # 1. HTML 제거\n",
        "    review_text = BeautifulSoup(raw_review, 'html.parser').get_text()\n",
        "    # 2. 영문자가 아닌 문자는 공백으로 변환\n",
        "    letters_only = re.sub('[^a-zA-Z]', ' ', review_text)\n",
        "    # 3. 소문자 변환\n",
        "    words = letters_only.lower().split()\n",
        "    # 4. 파이썬에서는 리스트보다 세트로 찾는게 훨씬 빠르다.\n",
        "    # stopwords 를 세트로 변환한다.\n",
        "    stops = set(stopwords.words('english'))\n",
        "    # 5. Stopwords 불용어 제거\n",
        "    meaningful_words = [w for w in words if not w in stops]\n",
        "    # 6. 어간추출\n",
        "    stemming_words = [stemmer.stem(w) for w in meaningful_words]\n",
        "    # 7. 공백으로 구분된 문자열로 결합하여 결과를 반환\n",
        "    return( ' '.join(stemming_words) )"
      ],
      "metadata": {
        "id": "4eNrG-FTpNSQ"
      },
      "execution_count": 130,
      "outputs": []
    },
    {
      "cell_type": "code",
      "source": [
        "from multiprocessing import Pool\n",
        "import numpy as np\n",
        "\n",
        "def _apply_df(args):\n",
        "    df, func, kwargs = args\n",
        "    return df.apply(func, **kwargs)\n",
        "\n",
        "def apply_by_multiprocessing(df, func, **kwargs):\n",
        "    # 키워드 항목 중 workers 파라메터를 꺼냄\n",
        "    workers = kwargs.pop('workers')\n",
        "    # 위에서 가져온 workers 수로 프로세스 풀을 정의\n",
        "    pool = Pool(processes=workers)\n",
        "    # 실행할 함수와 데이터프레임을 워커의 수 만큼 나눠 작업\n",
        "    result = pool.map(_apply_df, [(d, func, kwargs)\n",
        "            for d in np.array_split(df, workers)])\n",
        "    pool.close()\n",
        "    # 작업 결과를 합쳐서 반환\n",
        "    return pd.concat(list(result))"
      ],
      "metadata": {
        "id": "PiHiDzLipPIM"
      },
      "execution_count": 131,
      "outputs": []
    },
    {
      "cell_type": "code",
      "source": [
        "%time clean_train_reviews = apply_by_multiprocessing(\\\n",
        "    train_set['Review'], review_to_words, workers=4)  "
      ],
      "metadata": {
        "colab": {
          "base_uri": "https://localhost:8080/"
        },
        "id": "C1IwL7YJpRS6",
        "outputId": "0d353469-b4c9-4d47-8558-4b03b6264e17"
      },
      "execution_count": 132,
      "outputs": [
        {
          "output_type": "stream",
          "name": "stdout",
          "text": [
            "CPU times: user 30.9 ms, sys: 74.8 ms, total: 106 ms\n",
            "Wall time: 2.4 s\n"
          ]
        }
      ]
    },
    {
      "cell_type": "markdown",
      "source": [
        "## Bag-of-words model - Wikipedia  \n",
        "다음의 두 문장이 있다고 하자,  \n",
        "\n",
        "(1) John likes to watch movies. Mary likes movies too.  \n",
        "(2) John also likes to watch football games.  \n",
        "위 두 문장을 토큰화 하여 가방에 담아주면 다음과 같다.  \n",
        "\n",
        "[\n",
        "    \"John\",  \n",
        "    \"likes\",  \n",
        "    \"to\",  \n",
        "    \"watch\",  \n",
        "    \"movies\",  \n",
        "    \"Mary\",    \n",
        "    \"too\",  \n",
        "    \"also\",  \n",
        "    \"football\",  \n",
        "    \"games\"  \n",
        "]  \n",
        "그리고 배열의 순서대로 가방에서 각 토큰이 몇 번 등장하는지 횟수를 세어준다.  \n",
        "  \n",
        "(1) [1, 2, 1, 1, 2, 1, 1, 0, 0, 0]    \n",
        "(2) [1, 1, 1, 1, 0, 0, 0, 1, 1, 1]    \n",
        "=> 머신러닝 알고리즘이 이해할 수 있는 형태로 바꿔주는 작업이다.  \n",
        "  \n",
        "단어 가방을 n-gram을 사용해 bigram 으로 담아주면 다음과 같다.  \n",
        "\n",
        "[  \n",
        "    \"John likes\",  \n",
        "    \"likes to\",  \n",
        "    \"to watch\",  \n",
        "    \"watch movies\",  \n",
        "    \"Mary likes\",  \n",
        "    \"likes movies\",  \n",
        "    \"movies too\",  \n",
        "]  \n",
        "=> 여기에서는 CountVectorizer를 통해 위 작업을 한다.  \n",
        "\n",
        "## 사이킷런의 단어 카운트 (CountVectorizer)를 통해 피처 생성  \n",
        "정규표현식을 사용해 토큰을 추출한다.  \n",
        "모두 소문자로 변환시키기 때문에 good, Good, gOod이 모두 같은 특성이 된다.  \n",
        "의미없는 특성을 많이 생성하기 때문에 적어도 두 개의 문서에 나타난 토큰만을   사용한다.  \n",
        "min_df로 토큰이 나타날 최소 문서 개수를 지정할 수 있다.  \n",
        "\n",
        "\n",
        "\n",
        "### <CountVectorizer 파라미터>\n",
        "출처: https://chan-lab.tistory.com/27 [은공지능 공작소]\n",
        "1.  analyzer 파라미터는 학습단위를 결정하는 파라미터입니다.\n",
        "- word, char 2가지 옵션 정도를 고려해볼 수 있습니다.\n",
        "- analyzer = 'word'라고 설정시, 학습의 단위를 단어로 설정합니다. (ex - home, go, my ...)\n",
        "- analyzer = 'char'라고 설정시, 학습의 단위를 글자로 설정합니다.(ex - a, b, c, d ...)\n",
        "- char 기반의 analyzer을 하면, ('a', 1), ('b', 2), ('c', 3), ('e', 4), ('g', 5), ('h', 6), ('i', 7)... 형태로 출력되기 때문에 실제 모델에서\n",
        "좋은 성능을 보일지 의문이 남을 수도 있을 것 같습니다.  \n",
        "결론부터 말씀드리면, 상당히 좋은 결과를 내놓을 수 있습니다.  \n",
        "제가 CNN 모델에서 char analyzer로 학습을 시킨 적이 있었는데,\n",
        "생각보다 괜찮은 결과가 나왔던 것으로 기억합니다.  \n",
        "그러니 모델의 성능을 올리기 위해서, word 기반 방법만 고집할 것이 아니라 char 기반의 방법도 시도해 볼 만하다고 생각합니다.  \n",
        "2.  \n",
        "3.  \n",
        "4.  \n",
        "5.min_df 파라미터 \n",
        "- 최소 빈도값을 설정해주는 파라미터\n",
        "최소 DF가 2로 설정되었으니, 1인 것들은 모두 탈락하게 됩니다.\n",
        "\n",
        "\n",
        "6. ngram_range 파라미터   \n",
        "- 만약 ngram_range = (1, 3)라고 한다면, 단어의 묶음을 1개부터 3개까지 설정하라는 뜻입니다.\n",
        "- 단어사전에는 1개 단어묶음도 있고, 2개 단어묶음도, 3개 단어묶음도 존재하게 되겠죠.\n"
      ],
      "metadata": {
        "id": "ICr7PPIbu34f"
      }
    },
    {
      "cell_type": "code",
      "source": [
        "from sklearn.feature_extraction.text import CountVectorizer\n",
        "from sklearn.pipeline import Pipeline\n",
        "\n",
        "vectorizer = CountVectorizer(analyzer = 'word', \n",
        "                             tokenizer = None,\n",
        "                             preprocessor = None, \n",
        "                             stop_words = None, \n",
        "                             min_df = 2, # 토큰이 나타날 최소 문서 개수\n",
        "                             ngram_range=(1, 3),\n",
        "                             max_features = 20000\n",
        "                            )\n",
        "vectorizer"
      ],
      "metadata": {
        "colab": {
          "base_uri": "https://localhost:8080/"
        },
        "id": "z_vY2m36pTZI",
        "outputId": "3a7dc423-9a1e-4ba2-bcad-1213fcc0001c"
      },
      "execution_count": 133,
      "outputs": [
        {
          "output_type": "execute_result",
          "data": {
            "text/plain": [
              "CountVectorizer(max_features=20000, min_df=2, ngram_range=(1, 3))"
            ]
          },
          "metadata": {},
          "execution_count": 133
        }
      ]
    },
    {
      "cell_type": "code",
      "source": [
        "# 여기에서는 하나의 과정만 묶어주어 pipeline이 불필요 할 수도 있습니다.\n",
        "# pipeline은 feature engineering의 여러 과정을 묶어 줄 때 사용합니다.\n",
        "pipeline = Pipeline([\n",
        "    ('vect', vectorizer),\n",
        "])  "
      ],
      "metadata": {
        "id": "a7WygmMopVmB"
      },
      "execution_count": 134,
      "outputs": []
    },
    {
      "cell_type": "code",
      "source": [
        "'''\n",
        "CountVectorizer는 여러 메소드 목록을 제공하고 있습니다.\n",
        "메소드 중에서 fit_transform 을 하면  term-document matrix 를 반환하는 것을 볼 수 있습니다.\n",
        "파이프라인으로 fit_transform을 해주게 되는데 해당 과정의 결과로 피처의 목록과 등장여부를 알 수 있습니다.\n",
        "'''\n",
        "# CountVectorizer 에 데이터를 넣어주고 fit 혹은 fit_transform 을 한다.\n",
        "%time train_data_features = pipeline.fit_transform(clean_train_reviews)\n",
        "train_data_features"
      ],
      "metadata": {
        "colab": {
          "base_uri": "https://localhost:8080/"
        },
        "id": "ehK3-lSdpXVx",
        "outputId": "0c513405-bf21-4921-b057-da6d636ab896"
      },
      "execution_count": 135,
      "outputs": [
        {
          "output_type": "stream",
          "name": "stdout",
          "text": [
            "CPU times: user 586 ms, sys: 20.9 ms, total: 607 ms\n",
            "Wall time: 626 ms\n"
          ]
        },
        {
          "output_type": "execute_result",
          "data": {
            "text/plain": [
              "<4611x14138 sparse matrix of type '<class 'numpy.int64'>'\n",
              "\twith 116979 stored elements in Compressed Sparse Row format>"
            ]
          },
          "metadata": {},
          "execution_count": 135
        }
      ]
    },
    {
      "cell_type": "markdown",
      "source": [
        "보통 fit을 학습하는데 사용하는데 여기에서는 벡터화 할 때도 fit을 사용했습니다. 사이킷런에 구현된 벡터화 알고리즘이 fit을 사용해서 벡터화 하도록 되어 있습니다. 따라서 RF에서의 fit과 벡터화에 사용되는 fit은 다른 성격입니다."
      ],
      "metadata": {
        "id": "jPQXLjIy5kJy"
      }
    },
    {
      "cell_type": "markdown",
      "source": [
        "## pipeline\n",
        "제 유튜브 영상에 성능을 위해 pipeline을 사용했다는 말이 있는데 이 부분을 정정합니다.\n",
        "아래의 공식 문서를 보면 pipeline 에서 메모리의 캐시를 사용할 수 있다는 문구도 있습니다. 하지만 성능상의 이슈라기보다는 cross-validation 과 GridSearch 과정을 하나로 만들어 주는게 pipeline의 가장 큰 장점이라고 합니다.\n",
        "제 코드에는 cross-validation 과 GridSearch 과정이 없는데 해당 과정은 모델의 성능(정확도)를 측정해 보는 과정이고, GridSearch는 최적의 하이퍼파라메터를 찾는 과정입니다.\n",
        "\n",
        "Sequentially apply a list of transforms and a final estimator. Intermediate steps of the pipeline must be ‘transforms’, that is, they must implement fit and transform methods. The final estimator only needs to implement fit. The transformers in the pipeline can be cached using memory argument.\n",
        "\n",
        "더 읽어보기 : https://scikit-learn.org/stable/modules/generated/sklearn.pipeline.Pipeline.html"
      ],
      "metadata": {
        "id": "A-MmUCRo5o2D"
      }
    },
    {
      "cell_type": "code",
      "source": [
        "# vectorize를 한 결과 \n",
        "train_data_features.shape"
      ],
      "metadata": {
        "colab": {
          "base_uri": "https://localhost:8080/"
        },
        "id": "0dJkhVSqpZfo",
        "outputId": "e90eabf7-7a14-4eaa-d465-3fb6c05b9d87"
      },
      "execution_count": 136,
      "outputs": [
        {
          "output_type": "execute_result",
          "data": {
            "text/plain": [
              "(4611, 14138)"
            ]
          },
          "metadata": {},
          "execution_count": 136
        }
      ]
    },
    {
      "cell_type": "code",
      "source": [
        "'''\n",
        "get_feature_names() 라는 것도 CountVectorizer 에서 사용할 수 있는 메소드 중 하나입니다.\n",
        "위에서 정의한 CountVectorizer 에 데이터를 넣어주고 fit 혹은 fit_transform 을 하게 되면 벡터화와 함께 사전(get_feature_names)을 생성하게 됩니다.\n",
        "'''\n",
        "# feature들의 name을 담은 사전을 만들어 준다. \n",
        "vocab = vectorizer.get_feature_names()\n",
        "print(len(vocab))\n",
        "vocab[:10]"
      ],
      "metadata": {
        "colab": {
          "base_uri": "https://localhost:8080/"
        },
        "id": "wevNpsJUpab-",
        "outputId": "7f6389b1-ca90-413a-a0bc-596a36daf6a6"
      },
      "execution_count": 137,
      "outputs": [
        {
          "output_type": "stream",
          "name": "stdout",
          "text": [
            "14138\n"
          ]
        },
        {
          "output_type": "stream",
          "name": "stderr",
          "text": [
            "/usr/local/lib/python3.7/dist-packages/sklearn/utils/deprecation.py:87: FutureWarning: Function get_feature_names is deprecated; get_feature_names is deprecated in 1.0 and will be removed in 1.2. Please use get_feature_names_out instead.\n",
            "  warnings.warn(msg, category=FutureWarning)\n"
          ]
        },
        {
          "output_type": "execute_result",
          "data": {
            "text/plain": [
              "['abandon',\n",
              " 'abil',\n",
              " 'abil learn',\n",
              " 'abil take',\n",
              " 'abl',\n",
              " 'abl appli',\n",
              " 'abl build',\n",
              " 'abl clear',\n",
              " 'abl complet',\n",
              " 'abl complet assign']"
            ]
          },
          "metadata": {},
          "execution_count": 137
        }
      ]
    },
    {
      "cell_type": "code",
      "source": [
        "# 벡터화 된 피처를 확인해 봄\n",
        "import numpy as np\n",
        "dist = np.sum(train_data_features, axis=0)\n",
        "    \n",
        "for tag, count in zip(vocab, dist):\n",
        "    print(count, tag)\n",
        "    \n",
        "pd.DataFrame(dist, columns=vocab)"
      ],
      "metadata": {
        "colab": {
          "base_uri": "https://localhost:8080/",
          "height": 190
        },
        "id": "uuObyZlapcMT",
        "outputId": "69294f22-dcc0-4d50-f8fd-1730b6d1aa7d"
      },
      "execution_count": 138,
      "outputs": [
        {
          "output_type": "stream",
          "name": "stdout",
          "text": [
            "[[ 8 22  2 ...  3  2  3]] abandon\n"
          ]
        },
        {
          "output_type": "execute_result",
          "data": {
            "text/plain": [
              "   abandon  abil  abil learn  abil take  abl  abl appli  abl build  abl clear  \\\n",
              "0        8    22           2          2  106          3          2          2   \n",
              "\n",
              "   abl complet  abl complet assign  ...  youtub com watch  youtub video  zero  \\\n",
              "0            8                   2  ...                 3             4    27   \n",
              "\n",
              "   zero experi  zero interact  zero knowledg  zero littl  zero star  zip  \\\n",
              "0            3              2              2           2          3    2   \n",
              "\n",
              "   zizozi  \n",
              "0       3  \n",
              "\n",
              "[1 rows x 14138 columns]"
            ],
            "text/html": [
              "\n",
              "  <div id=\"df-f98ea901-7ff6-4a89-a503-b2cdc897b598\">\n",
              "    <div class=\"colab-df-container\">\n",
              "      <div>\n",
              "<style scoped>\n",
              "    .dataframe tbody tr th:only-of-type {\n",
              "        vertical-align: middle;\n",
              "    }\n",
              "\n",
              "    .dataframe tbody tr th {\n",
              "        vertical-align: top;\n",
              "    }\n",
              "\n",
              "    .dataframe thead th {\n",
              "        text-align: right;\n",
              "    }\n",
              "</style>\n",
              "<table border=\"1\" class=\"dataframe\">\n",
              "  <thead>\n",
              "    <tr style=\"text-align: right;\">\n",
              "      <th></th>\n",
              "      <th>abandon</th>\n",
              "      <th>abil</th>\n",
              "      <th>abil learn</th>\n",
              "      <th>abil take</th>\n",
              "      <th>abl</th>\n",
              "      <th>abl appli</th>\n",
              "      <th>abl build</th>\n",
              "      <th>abl clear</th>\n",
              "      <th>abl complet</th>\n",
              "      <th>abl complet assign</th>\n",
              "      <th>...</th>\n",
              "      <th>youtub com watch</th>\n",
              "      <th>youtub video</th>\n",
              "      <th>zero</th>\n",
              "      <th>zero experi</th>\n",
              "      <th>zero interact</th>\n",
              "      <th>zero knowledg</th>\n",
              "      <th>zero littl</th>\n",
              "      <th>zero star</th>\n",
              "      <th>zip</th>\n",
              "      <th>zizozi</th>\n",
              "    </tr>\n",
              "  </thead>\n",
              "  <tbody>\n",
              "    <tr>\n",
              "      <th>0</th>\n",
              "      <td>8</td>\n",
              "      <td>22</td>\n",
              "      <td>2</td>\n",
              "      <td>2</td>\n",
              "      <td>106</td>\n",
              "      <td>3</td>\n",
              "      <td>2</td>\n",
              "      <td>2</td>\n",
              "      <td>8</td>\n",
              "      <td>2</td>\n",
              "      <td>...</td>\n",
              "      <td>3</td>\n",
              "      <td>4</td>\n",
              "      <td>27</td>\n",
              "      <td>3</td>\n",
              "      <td>2</td>\n",
              "      <td>2</td>\n",
              "      <td>2</td>\n",
              "      <td>3</td>\n",
              "      <td>2</td>\n",
              "      <td>3</td>\n",
              "    </tr>\n",
              "  </tbody>\n",
              "</table>\n",
              "<p>1 rows × 14138 columns</p>\n",
              "</div>\n",
              "      <button class=\"colab-df-convert\" onclick=\"convertToInteractive('df-f98ea901-7ff6-4a89-a503-b2cdc897b598')\"\n",
              "              title=\"Convert this dataframe to an interactive table.\"\n",
              "              style=\"display:none;\">\n",
              "        \n",
              "  <svg xmlns=\"http://www.w3.org/2000/svg\" height=\"24px\"viewBox=\"0 0 24 24\"\n",
              "       width=\"24px\">\n",
              "    <path d=\"M0 0h24v24H0V0z\" fill=\"none\"/>\n",
              "    <path d=\"M18.56 5.44l.94 2.06.94-2.06 2.06-.94-2.06-.94-.94-2.06-.94 2.06-2.06.94zm-11 1L8.5 8.5l.94-2.06 2.06-.94-2.06-.94L8.5 2.5l-.94 2.06-2.06.94zm10 10l.94 2.06.94-2.06 2.06-.94-2.06-.94-.94-2.06-.94 2.06-2.06.94z\"/><path d=\"M17.41 7.96l-1.37-1.37c-.4-.4-.92-.59-1.43-.59-.52 0-1.04.2-1.43.59L10.3 9.45l-7.72 7.72c-.78.78-.78 2.05 0 2.83L4 21.41c.39.39.9.59 1.41.59.51 0 1.02-.2 1.41-.59l7.78-7.78 2.81-2.81c.8-.78.8-2.07 0-2.86zM5.41 20L4 18.59l7.72-7.72 1.47 1.35L5.41 20z\"/>\n",
              "  </svg>\n",
              "      </button>\n",
              "      \n",
              "  <style>\n",
              "    .colab-df-container {\n",
              "      display:flex;\n",
              "      flex-wrap:wrap;\n",
              "      gap: 12px;\n",
              "    }\n",
              "\n",
              "    .colab-df-convert {\n",
              "      background-color: #E8F0FE;\n",
              "      border: none;\n",
              "      border-radius: 50%;\n",
              "      cursor: pointer;\n",
              "      display: none;\n",
              "      fill: #1967D2;\n",
              "      height: 32px;\n",
              "      padding: 0 0 0 0;\n",
              "      width: 32px;\n",
              "    }\n",
              "\n",
              "    .colab-df-convert:hover {\n",
              "      background-color: #E2EBFA;\n",
              "      box-shadow: 0px 1px 2px rgba(60, 64, 67, 0.3), 0px 1px 3px 1px rgba(60, 64, 67, 0.15);\n",
              "      fill: #174EA6;\n",
              "    }\n",
              "\n",
              "    [theme=dark] .colab-df-convert {\n",
              "      background-color: #3B4455;\n",
              "      fill: #D2E3FC;\n",
              "    }\n",
              "\n",
              "    [theme=dark] .colab-df-convert:hover {\n",
              "      background-color: #434B5C;\n",
              "      box-shadow: 0px 1px 3px 1px rgba(0, 0, 0, 0.15);\n",
              "      filter: drop-shadow(0px 1px 2px rgba(0, 0, 0, 0.3));\n",
              "      fill: #FFFFFF;\n",
              "    }\n",
              "  </style>\n",
              "\n",
              "      <script>\n",
              "        const buttonEl =\n",
              "          document.querySelector('#df-f98ea901-7ff6-4a89-a503-b2cdc897b598 button.colab-df-convert');\n",
              "        buttonEl.style.display =\n",
              "          google.colab.kernel.accessAllowed ? 'block' : 'none';\n",
              "\n",
              "        async function convertToInteractive(key) {\n",
              "          const element = document.querySelector('#df-f98ea901-7ff6-4a89-a503-b2cdc897b598');\n",
              "          const dataTable =\n",
              "            await google.colab.kernel.invokeFunction('convertToInteractive',\n",
              "                                                     [key], {});\n",
              "          if (!dataTable) return;\n",
              "\n",
              "          const docLinkHtml = 'Like what you see? Visit the ' +\n",
              "            '<a target=\"_blank\" href=https://colab.research.google.com/notebooks/data_table.ipynb>data table notebook</a>'\n",
              "            + ' to learn more about interactive tables.';\n",
              "          element.innerHTML = '';\n",
              "          dataTable['output_type'] = 'display_data';\n",
              "          await google.colab.output.renderOutput(dataTable, element);\n",
              "          const docLink = document.createElement('div');\n",
              "          docLink.innerHTML = docLinkHtml;\n",
              "          element.appendChild(docLink);\n",
              "        }\n",
              "      </script>\n",
              "    </div>\n",
              "  </div>\n",
              "  "
            ]
          },
          "metadata": {},
          "execution_count": 138
        }
      ]
    },
    {
      "cell_type": "code",
      "source": [
        "pd.DataFrame(train_data_features[:10].toarray(), columns=vocab).head()"
      ],
      "metadata": {
        "colab": {
          "base_uri": "https://localhost:8080/",
          "height": 297
        },
        "id": "XWFxutl8pdsj",
        "outputId": "22aa0278-76fd-4282-84f3-0d29d3aefa30"
      },
      "execution_count": 139,
      "outputs": [
        {
          "output_type": "execute_result",
          "data": {
            "text/plain": [
              "   abandon  abil  abil learn  abil take  abl  abl appli  abl build  abl clear  \\\n",
              "0        0     0           0          0    0          0          0          0   \n",
              "1        0     0           0          0    0          0          0          0   \n",
              "2        0     0           0          0    0          0          0          0   \n",
              "3        0     0           0          0    0          0          0          0   \n",
              "4        0     0           0          0    0          0          0          0   \n",
              "\n",
              "   abl complet  abl complet assign  ...  youtub com watch  youtub video  zero  \\\n",
              "0            0                   0  ...                 0             0     0   \n",
              "1            0                   0  ...                 0             0     0   \n",
              "2            0                   0  ...                 0             0     0   \n",
              "3            0                   0  ...                 0             0     0   \n",
              "4            0                   0  ...                 0             0     0   \n",
              "\n",
              "   zero experi  zero interact  zero knowledg  zero littl  zero star  zip  \\\n",
              "0            0              0              0           0          0    0   \n",
              "1            0              0              0           0          0    0   \n",
              "2            0              0              0           0          0    0   \n",
              "3            0              0              0           0          0    0   \n",
              "4            0              0              0           0          0    0   \n",
              "\n",
              "   zizozi  \n",
              "0       0  \n",
              "1       0  \n",
              "2       0  \n",
              "3       0  \n",
              "4       0  \n",
              "\n",
              "[5 rows x 14138 columns]"
            ],
            "text/html": [
              "\n",
              "  <div id=\"df-e97852d9-c0ae-46ee-b0d3-d201f5eccc2f\">\n",
              "    <div class=\"colab-df-container\">\n",
              "      <div>\n",
              "<style scoped>\n",
              "    .dataframe tbody tr th:only-of-type {\n",
              "        vertical-align: middle;\n",
              "    }\n",
              "\n",
              "    .dataframe tbody tr th {\n",
              "        vertical-align: top;\n",
              "    }\n",
              "\n",
              "    .dataframe thead th {\n",
              "        text-align: right;\n",
              "    }\n",
              "</style>\n",
              "<table border=\"1\" class=\"dataframe\">\n",
              "  <thead>\n",
              "    <tr style=\"text-align: right;\">\n",
              "      <th></th>\n",
              "      <th>abandon</th>\n",
              "      <th>abil</th>\n",
              "      <th>abil learn</th>\n",
              "      <th>abil take</th>\n",
              "      <th>abl</th>\n",
              "      <th>abl appli</th>\n",
              "      <th>abl build</th>\n",
              "      <th>abl clear</th>\n",
              "      <th>abl complet</th>\n",
              "      <th>abl complet assign</th>\n",
              "      <th>...</th>\n",
              "      <th>youtub com watch</th>\n",
              "      <th>youtub video</th>\n",
              "      <th>zero</th>\n",
              "      <th>zero experi</th>\n",
              "      <th>zero interact</th>\n",
              "      <th>zero knowledg</th>\n",
              "      <th>zero littl</th>\n",
              "      <th>zero star</th>\n",
              "      <th>zip</th>\n",
              "      <th>zizozi</th>\n",
              "    </tr>\n",
              "  </thead>\n",
              "  <tbody>\n",
              "    <tr>\n",
              "      <th>0</th>\n",
              "      <td>0</td>\n",
              "      <td>0</td>\n",
              "      <td>0</td>\n",
              "      <td>0</td>\n",
              "      <td>0</td>\n",
              "      <td>0</td>\n",
              "      <td>0</td>\n",
              "      <td>0</td>\n",
              "      <td>0</td>\n",
              "      <td>0</td>\n",
              "      <td>...</td>\n",
              "      <td>0</td>\n",
              "      <td>0</td>\n",
              "      <td>0</td>\n",
              "      <td>0</td>\n",
              "      <td>0</td>\n",
              "      <td>0</td>\n",
              "      <td>0</td>\n",
              "      <td>0</td>\n",
              "      <td>0</td>\n",
              "      <td>0</td>\n",
              "    </tr>\n",
              "    <tr>\n",
              "      <th>1</th>\n",
              "      <td>0</td>\n",
              "      <td>0</td>\n",
              "      <td>0</td>\n",
              "      <td>0</td>\n",
              "      <td>0</td>\n",
              "      <td>0</td>\n",
              "      <td>0</td>\n",
              "      <td>0</td>\n",
              "      <td>0</td>\n",
              "      <td>0</td>\n",
              "      <td>...</td>\n",
              "      <td>0</td>\n",
              "      <td>0</td>\n",
              "      <td>0</td>\n",
              "      <td>0</td>\n",
              "      <td>0</td>\n",
              "      <td>0</td>\n",
              "      <td>0</td>\n",
              "      <td>0</td>\n",
              "      <td>0</td>\n",
              "      <td>0</td>\n",
              "    </tr>\n",
              "    <tr>\n",
              "      <th>2</th>\n",
              "      <td>0</td>\n",
              "      <td>0</td>\n",
              "      <td>0</td>\n",
              "      <td>0</td>\n",
              "      <td>0</td>\n",
              "      <td>0</td>\n",
              "      <td>0</td>\n",
              "      <td>0</td>\n",
              "      <td>0</td>\n",
              "      <td>0</td>\n",
              "      <td>...</td>\n",
              "      <td>0</td>\n",
              "      <td>0</td>\n",
              "      <td>0</td>\n",
              "      <td>0</td>\n",
              "      <td>0</td>\n",
              "      <td>0</td>\n",
              "      <td>0</td>\n",
              "      <td>0</td>\n",
              "      <td>0</td>\n",
              "      <td>0</td>\n",
              "    </tr>\n",
              "    <tr>\n",
              "      <th>3</th>\n",
              "      <td>0</td>\n",
              "      <td>0</td>\n",
              "      <td>0</td>\n",
              "      <td>0</td>\n",
              "      <td>0</td>\n",
              "      <td>0</td>\n",
              "      <td>0</td>\n",
              "      <td>0</td>\n",
              "      <td>0</td>\n",
              "      <td>0</td>\n",
              "      <td>...</td>\n",
              "      <td>0</td>\n",
              "      <td>0</td>\n",
              "      <td>0</td>\n",
              "      <td>0</td>\n",
              "      <td>0</td>\n",
              "      <td>0</td>\n",
              "      <td>0</td>\n",
              "      <td>0</td>\n",
              "      <td>0</td>\n",
              "      <td>0</td>\n",
              "    </tr>\n",
              "    <tr>\n",
              "      <th>4</th>\n",
              "      <td>0</td>\n",
              "      <td>0</td>\n",
              "      <td>0</td>\n",
              "      <td>0</td>\n",
              "      <td>0</td>\n",
              "      <td>0</td>\n",
              "      <td>0</td>\n",
              "      <td>0</td>\n",
              "      <td>0</td>\n",
              "      <td>0</td>\n",
              "      <td>...</td>\n",
              "      <td>0</td>\n",
              "      <td>0</td>\n",
              "      <td>0</td>\n",
              "      <td>0</td>\n",
              "      <td>0</td>\n",
              "      <td>0</td>\n",
              "      <td>0</td>\n",
              "      <td>0</td>\n",
              "      <td>0</td>\n",
              "      <td>0</td>\n",
              "    </tr>\n",
              "  </tbody>\n",
              "</table>\n",
              "<p>5 rows × 14138 columns</p>\n",
              "</div>\n",
              "      <button class=\"colab-df-convert\" onclick=\"convertToInteractive('df-e97852d9-c0ae-46ee-b0d3-d201f5eccc2f')\"\n",
              "              title=\"Convert this dataframe to an interactive table.\"\n",
              "              style=\"display:none;\">\n",
              "        \n",
              "  <svg xmlns=\"http://www.w3.org/2000/svg\" height=\"24px\"viewBox=\"0 0 24 24\"\n",
              "       width=\"24px\">\n",
              "    <path d=\"M0 0h24v24H0V0z\" fill=\"none\"/>\n",
              "    <path d=\"M18.56 5.44l.94 2.06.94-2.06 2.06-.94-2.06-.94-.94-2.06-.94 2.06-2.06.94zm-11 1L8.5 8.5l.94-2.06 2.06-.94-2.06-.94L8.5 2.5l-.94 2.06-2.06.94zm10 10l.94 2.06.94-2.06 2.06-.94-2.06-.94-.94-2.06-.94 2.06-2.06.94z\"/><path d=\"M17.41 7.96l-1.37-1.37c-.4-.4-.92-.59-1.43-.59-.52 0-1.04.2-1.43.59L10.3 9.45l-7.72 7.72c-.78.78-.78 2.05 0 2.83L4 21.41c.39.39.9.59 1.41.59.51 0 1.02-.2 1.41-.59l7.78-7.78 2.81-2.81c.8-.78.8-2.07 0-2.86zM5.41 20L4 18.59l7.72-7.72 1.47 1.35L5.41 20z\"/>\n",
              "  </svg>\n",
              "      </button>\n",
              "      \n",
              "  <style>\n",
              "    .colab-df-container {\n",
              "      display:flex;\n",
              "      flex-wrap:wrap;\n",
              "      gap: 12px;\n",
              "    }\n",
              "\n",
              "    .colab-df-convert {\n",
              "      background-color: #E8F0FE;\n",
              "      border: none;\n",
              "      border-radius: 50%;\n",
              "      cursor: pointer;\n",
              "      display: none;\n",
              "      fill: #1967D2;\n",
              "      height: 32px;\n",
              "      padding: 0 0 0 0;\n",
              "      width: 32px;\n",
              "    }\n",
              "\n",
              "    .colab-df-convert:hover {\n",
              "      background-color: #E2EBFA;\n",
              "      box-shadow: 0px 1px 2px rgba(60, 64, 67, 0.3), 0px 1px 3px 1px rgba(60, 64, 67, 0.15);\n",
              "      fill: #174EA6;\n",
              "    }\n",
              "\n",
              "    [theme=dark] .colab-df-convert {\n",
              "      background-color: #3B4455;\n",
              "      fill: #D2E3FC;\n",
              "    }\n",
              "\n",
              "    [theme=dark] .colab-df-convert:hover {\n",
              "      background-color: #434B5C;\n",
              "      box-shadow: 0px 1px 3px 1px rgba(0, 0, 0, 0.15);\n",
              "      filter: drop-shadow(0px 1px 2px rgba(0, 0, 0, 0.3));\n",
              "      fill: #FFFFFF;\n",
              "    }\n",
              "  </style>\n",
              "\n",
              "      <script>\n",
              "        const buttonEl =\n",
              "          document.querySelector('#df-e97852d9-c0ae-46ee-b0d3-d201f5eccc2f button.colab-df-convert');\n",
              "        buttonEl.style.display =\n",
              "          google.colab.kernel.accessAllowed ? 'block' : 'none';\n",
              "\n",
              "        async function convertToInteractive(key) {\n",
              "          const element = document.querySelector('#df-e97852d9-c0ae-46ee-b0d3-d201f5eccc2f');\n",
              "          const dataTable =\n",
              "            await google.colab.kernel.invokeFunction('convertToInteractive',\n",
              "                                                     [key], {});\n",
              "          if (!dataTable) return;\n",
              "\n",
              "          const docLinkHtml = 'Like what you see? Visit the ' +\n",
              "            '<a target=\"_blank\" href=https://colab.research.google.com/notebooks/data_table.ipynb>data table notebook</a>'\n",
              "            + ' to learn more about interactive tables.';\n",
              "          element.innerHTML = '';\n",
              "          dataTable['output_type'] = 'display_data';\n",
              "          await google.colab.output.renderOutput(dataTable, element);\n",
              "          const docLink = document.createElement('div');\n",
              "          docLink.innerHTML = docLinkHtml;\n",
              "          element.appendChild(docLink);\n",
              "        }\n",
              "      </script>\n",
              "    </div>\n",
              "  </div>\n",
              "  "
            ]
          },
          "metadata": {},
          "execution_count": 139
        }
      ]
    },
    {
      "cell_type": "markdown",
      "source": [
        "## 랜덤 포레스트 - 위키백과, 우리 모두의 백과사전\n",
        "랜덤 포레스트의 가장 핵심적인 특징은 임의성(randomness)에 의해 서로 조금씩 다른 특성을 갖는 트리들로 구성된다는 점이다.  \n",
        "이 특징은 각 트리들의 예측(prediction)들이 비상관화(decorrelation) 되게하며, 결과적으로 일반화(generalization) 성능을 향상시킨다.  \n",
        "또한, 임의화(randomization)는 포레스트가 노이즈가 포함된 데이터에 대해서도 강하게 만들어 준다.\n",
        "\n",
        "\n",
        "- 랜덤 포레스트는 n_jobs를 이용하여 여러개의 코어를 이용하여 병렬 처리를 통해 속도 향상을 시킬 수 있다.\n",
        "\n",
        "print(\"학습용 세트 정확도 : {:.3f}\".format(model.score(X_train, y_train))) \n",
        "print(\"테스트 세트 정확도 : {:.3f}\".format(model.score(X_test, y_test))) "
      ],
      "metadata": {
        "id": "sFxY7HxCCSxx"
      }
    },
    {
      "cell_type": "code",
      "source": [
        "from sklearn.ensemble import RandomForestClassifier\n",
        "\n",
        "# 랜덤포레스트 분류기를 사용\n",
        "# 100개의 트리\n",
        "forest = RandomForestClassifier(\n",
        "    n_estimators = 100, n_jobs = -1, random_state=2018)\n",
        "forest"
      ],
      "metadata": {
        "colab": {
          "base_uri": "https://localhost:8080/"
        },
        "id": "F82m3Ctvpe5L",
        "outputId": "1dcb6a84-c545-4b1d-c902-f3b60ff9600d"
      },
      "execution_count": 140,
      "outputs": [
        {
          "output_type": "execute_result",
          "data": {
            "text/plain": [
              "RandomForestClassifier(n_jobs=-1, random_state=2018)"
            ]
          },
          "metadata": {},
          "execution_count": 140
        }
      ]
    },
    {
      "cell_type": "code",
      "source": [
        " # model.fit(X_train, y_train)  #모델 학습\n",
        "# 위에서 X = dataset['Review'], y = dataset['Label'] 으로 해주고 x_train, y_train_split() 했으니까, y_train으로(dataset['Label']이 아니고)\n",
        "\n",
        "%time forest = forest.fit(train_data_features, y_train)"
      ],
      "metadata": {
        "colab": {
          "base_uri": "https://localhost:8080/"
        },
        "id": "4rBQQUvfDMYI",
        "outputId": "87801e21-20b2-4919-ca3e-616f35b6d26a"
      },
      "execution_count": 141,
      "outputs": [
        {
          "output_type": "stream",
          "name": "stdout",
          "text": [
            "CPU times: user 10.1 s, sys: 30.5 ms, total: 10.1 s\n",
            "Wall time: 5.35 s\n"
          ]
        }
      ]
    },
    {
      "cell_type": "code",
      "source": [
        "from sklearn.model_selection import cross_val_score\n",
        "%time score = np.mean(cross_val_score(\\\n",
        "    forest, train_data_features, \\\n",
        "    y_train, cv=10, scoring='roc_auc'))\n",
        "score"
      ],
      "metadata": {
        "colab": {
          "base_uri": "https://localhost:8080/"
        },
        "id": "Xg2I-po2Iu3u",
        "outputId": "ef8235ca-0050-449c-a19b-9c1c87322c06"
      },
      "execution_count": 148,
      "outputs": [
        {
          "output_type": "stream",
          "name": "stderr",
          "text": [
            "/usr/local/lib/python3.7/dist-packages/sklearn/model_selection/_validation.py:774: UserWarning: Scoring failed. The score on this train-test partition for these parameters will be set to nan. Details: \n",
            "Traceback (most recent call last):\n",
            "  File \"/usr/local/lib/python3.7/dist-packages/sklearn/model_selection/_validation.py\", line 761, in _score\n",
            "    scores = scorer(estimator, X_test, y_test)\n",
            "  File \"/usr/local/lib/python3.7/dist-packages/sklearn/metrics/_scorer.py\", line 103, in __call__\n",
            "    score = scorer._score(cached_call, estimator, *args, **kwargs)\n",
            "  File \"/usr/local/lib/python3.7/dist-packages/sklearn/metrics/_scorer.py\", line 349, in _score\n",
            "    raise ValueError(\"{0} format is not supported\".format(y_type))\n",
            "ValueError: multiclass format is not supported\n",
            "\n",
            "  UserWarning,\n",
            "/usr/local/lib/python3.7/dist-packages/sklearn/model_selection/_validation.py:774: UserWarning: Scoring failed. The score on this train-test partition for these parameters will be set to nan. Details: \n",
            "Traceback (most recent call last):\n",
            "  File \"/usr/local/lib/python3.7/dist-packages/sklearn/model_selection/_validation.py\", line 761, in _score\n",
            "    scores = scorer(estimator, X_test, y_test)\n",
            "  File \"/usr/local/lib/python3.7/dist-packages/sklearn/metrics/_scorer.py\", line 103, in __call__\n",
            "    score = scorer._score(cached_call, estimator, *args, **kwargs)\n",
            "  File \"/usr/local/lib/python3.7/dist-packages/sklearn/metrics/_scorer.py\", line 349, in _score\n",
            "    raise ValueError(\"{0} format is not supported\".format(y_type))\n",
            "ValueError: multiclass format is not supported\n",
            "\n",
            "  UserWarning,\n",
            "/usr/local/lib/python3.7/dist-packages/sklearn/model_selection/_validation.py:774: UserWarning: Scoring failed. The score on this train-test partition for these parameters will be set to nan. Details: \n",
            "Traceback (most recent call last):\n",
            "  File \"/usr/local/lib/python3.7/dist-packages/sklearn/model_selection/_validation.py\", line 761, in _score\n",
            "    scores = scorer(estimator, X_test, y_test)\n",
            "  File \"/usr/local/lib/python3.7/dist-packages/sklearn/metrics/_scorer.py\", line 103, in __call__\n",
            "    score = scorer._score(cached_call, estimator, *args, **kwargs)\n",
            "  File \"/usr/local/lib/python3.7/dist-packages/sklearn/metrics/_scorer.py\", line 349, in _score\n",
            "    raise ValueError(\"{0} format is not supported\".format(y_type))\n",
            "ValueError: multiclass format is not supported\n",
            "\n",
            "  UserWarning,\n",
            "/usr/local/lib/python3.7/dist-packages/sklearn/model_selection/_validation.py:774: UserWarning: Scoring failed. The score on this train-test partition for these parameters will be set to nan. Details: \n",
            "Traceback (most recent call last):\n",
            "  File \"/usr/local/lib/python3.7/dist-packages/sklearn/model_selection/_validation.py\", line 761, in _score\n",
            "    scores = scorer(estimator, X_test, y_test)\n",
            "  File \"/usr/local/lib/python3.7/dist-packages/sklearn/metrics/_scorer.py\", line 103, in __call__\n",
            "    score = scorer._score(cached_call, estimator, *args, **kwargs)\n",
            "  File \"/usr/local/lib/python3.7/dist-packages/sklearn/metrics/_scorer.py\", line 349, in _score\n",
            "    raise ValueError(\"{0} format is not supported\".format(y_type))\n",
            "ValueError: multiclass format is not supported\n",
            "\n",
            "  UserWarning,\n",
            "/usr/local/lib/python3.7/dist-packages/sklearn/model_selection/_validation.py:774: UserWarning: Scoring failed. The score on this train-test partition for these parameters will be set to nan. Details: \n",
            "Traceback (most recent call last):\n",
            "  File \"/usr/local/lib/python3.7/dist-packages/sklearn/model_selection/_validation.py\", line 761, in _score\n",
            "    scores = scorer(estimator, X_test, y_test)\n",
            "  File \"/usr/local/lib/python3.7/dist-packages/sklearn/metrics/_scorer.py\", line 103, in __call__\n",
            "    score = scorer._score(cached_call, estimator, *args, **kwargs)\n",
            "  File \"/usr/local/lib/python3.7/dist-packages/sklearn/metrics/_scorer.py\", line 349, in _score\n",
            "    raise ValueError(\"{0} format is not supported\".format(y_type))\n",
            "ValueError: multiclass format is not supported\n",
            "\n",
            "  UserWarning,\n",
            "/usr/local/lib/python3.7/dist-packages/sklearn/model_selection/_validation.py:774: UserWarning: Scoring failed. The score on this train-test partition for these parameters will be set to nan. Details: \n",
            "Traceback (most recent call last):\n",
            "  File \"/usr/local/lib/python3.7/dist-packages/sklearn/model_selection/_validation.py\", line 761, in _score\n",
            "    scores = scorer(estimator, X_test, y_test)\n",
            "  File \"/usr/local/lib/python3.7/dist-packages/sklearn/metrics/_scorer.py\", line 103, in __call__\n",
            "    score = scorer._score(cached_call, estimator, *args, **kwargs)\n",
            "  File \"/usr/local/lib/python3.7/dist-packages/sklearn/metrics/_scorer.py\", line 349, in _score\n",
            "    raise ValueError(\"{0} format is not supported\".format(y_type))\n",
            "ValueError: multiclass format is not supported\n",
            "\n",
            "  UserWarning,\n",
            "/usr/local/lib/python3.7/dist-packages/sklearn/model_selection/_validation.py:774: UserWarning: Scoring failed. The score on this train-test partition for these parameters will be set to nan. Details: \n",
            "Traceback (most recent call last):\n",
            "  File \"/usr/local/lib/python3.7/dist-packages/sklearn/model_selection/_validation.py\", line 761, in _score\n",
            "    scores = scorer(estimator, X_test, y_test)\n",
            "  File \"/usr/local/lib/python3.7/dist-packages/sklearn/metrics/_scorer.py\", line 103, in __call__\n",
            "    score = scorer._score(cached_call, estimator, *args, **kwargs)\n",
            "  File \"/usr/local/lib/python3.7/dist-packages/sklearn/metrics/_scorer.py\", line 349, in _score\n",
            "    raise ValueError(\"{0} format is not supported\".format(y_type))\n",
            "ValueError: multiclass format is not supported\n",
            "\n",
            "  UserWarning,\n",
            "/usr/local/lib/python3.7/dist-packages/sklearn/model_selection/_validation.py:774: UserWarning: Scoring failed. The score on this train-test partition for these parameters will be set to nan. Details: \n",
            "Traceback (most recent call last):\n",
            "  File \"/usr/local/lib/python3.7/dist-packages/sklearn/model_selection/_validation.py\", line 761, in _score\n",
            "    scores = scorer(estimator, X_test, y_test)\n",
            "  File \"/usr/local/lib/python3.7/dist-packages/sklearn/metrics/_scorer.py\", line 103, in __call__\n",
            "    score = scorer._score(cached_call, estimator, *args, **kwargs)\n",
            "  File \"/usr/local/lib/python3.7/dist-packages/sklearn/metrics/_scorer.py\", line 349, in _score\n",
            "    raise ValueError(\"{0} format is not supported\".format(y_type))\n",
            "ValueError: multiclass format is not supported\n",
            "\n",
            "  UserWarning,\n",
            "/usr/local/lib/python3.7/dist-packages/sklearn/model_selection/_validation.py:774: UserWarning: Scoring failed. The score on this train-test partition for these parameters will be set to nan. Details: \n",
            "Traceback (most recent call last):\n",
            "  File \"/usr/local/lib/python3.7/dist-packages/sklearn/model_selection/_validation.py\", line 761, in _score\n",
            "    scores = scorer(estimator, X_test, y_test)\n",
            "  File \"/usr/local/lib/python3.7/dist-packages/sklearn/metrics/_scorer.py\", line 103, in __call__\n",
            "    score = scorer._score(cached_call, estimator, *args, **kwargs)\n",
            "  File \"/usr/local/lib/python3.7/dist-packages/sklearn/metrics/_scorer.py\", line 349, in _score\n",
            "    raise ValueError(\"{0} format is not supported\".format(y_type))\n",
            "ValueError: multiclass format is not supported\n",
            "\n",
            "  UserWarning,\n"
          ]
        },
        {
          "output_type": "stream",
          "name": "stdout",
          "text": [
            "CPU times: user 3.55 s, sys: 574 ms, total: 4.12 s\n",
            "Wall time: 55.6 s\n"
          ]
        },
        {
          "output_type": "stream",
          "name": "stderr",
          "text": [
            "/usr/local/lib/python3.7/dist-packages/sklearn/model_selection/_validation.py:774: UserWarning: Scoring failed. The score on this train-test partition for these parameters will be set to nan. Details: \n",
            "Traceback (most recent call last):\n",
            "  File \"/usr/local/lib/python3.7/dist-packages/sklearn/model_selection/_validation.py\", line 761, in _score\n",
            "    scores = scorer(estimator, X_test, y_test)\n",
            "  File \"/usr/local/lib/python3.7/dist-packages/sklearn/metrics/_scorer.py\", line 103, in __call__\n",
            "    score = scorer._score(cached_call, estimator, *args, **kwargs)\n",
            "  File \"/usr/local/lib/python3.7/dist-packages/sklearn/metrics/_scorer.py\", line 349, in _score\n",
            "    raise ValueError(\"{0} format is not supported\".format(y_type))\n",
            "ValueError: multiclass format is not supported\n",
            "\n",
            "  UserWarning,\n"
          ]
        },
        {
          "output_type": "execute_result",
          "data": {
            "text/plain": [
              "nan"
            ]
          },
          "metadata": {},
          "execution_count": 148
        }
      ]
    },
    {
      "cell_type": "markdown",
      "source": [
        "## 예측"
      ],
      "metadata": {
        "id": "qbCW6qwnDTnV"
      }
    },
    {
      "cell_type": "code",
      "source": [
        "# 체크해 보고 싶은 Review(string)를 Series에 담아준다.\n",
        "reveiw_sample1 = \"I wasted my time to watch this movie. I don't understand \"\n",
        "sample1 = pd.Series(reveiw_sample1)"
      ],
      "metadata": {
        "id": "nD1zrwR0ph5H"
      },
      "execution_count": 142,
      "outputs": []
    },
    {
      "cell_type": "code",
      "source": [
        "# 테스트 데이터를 벡터화 함\n",
        "%time test_data_features = pipeline.transform(sample1)\n",
        "\n",
        "test_data_features = test_data_features.toarray()"
      ],
      "metadata": {
        "colab": {
          "base_uri": "https://localhost:8080/"
        },
        "id": "rlCjl13Xpo90",
        "outputId": "baebebc2-6194-4f6d-9488-a72164db9676"
      },
      "execution_count": 143,
      "outputs": [
        {
          "output_type": "stream",
          "name": "stdout",
          "text": [
            "CPU times: user 0 ns, sys: 645 µs, total: 645 µs\n",
            "Wall time: 657 µs\n"
          ]
        }
      ]
    },
    {
      "cell_type": "code",
      "source": [
        "test_data_features"
      ],
      "metadata": {
        "colab": {
          "base_uri": "https://localhost:8080/"
        },
        "id": "lDWvPXbRqV39",
        "outputId": "f1952c25-6f8f-49e1-f134-828ee7487b6d"
      },
      "execution_count": 144,
      "outputs": [
        {
          "output_type": "execute_result",
          "data": {
            "text/plain": [
              "array([[0, 0, 0, ..., 0, 0, 0]])"
            ]
          },
          "metadata": {},
          "execution_count": 144
        }
      ]
    },
    {
      "cell_type": "code",
      "source": [
        "# 벡터화 하며 만든 사전에서 해당 단어가 무엇인지 찾아볼 수 있다.\n",
        "# vocab = vectorizer.get_feature_names()\n",
        "vocab[8], vocab[2558], vocab[2559], vocab[2560]"
      ],
      "metadata": {
        "colab": {
          "base_uri": "https://localhost:8080/"
        },
        "id": "v724KHZqqY-L",
        "outputId": "6b888e32-c3bb-46c2-afd7-4ab6b9c68eb5"
      },
      "execution_count": 145,
      "outputs": [
        {
          "output_type": "execute_result",
          "data": {
            "text/plain": [
              "('abl complet', 'cours method', 'cours mid', 'cours might')"
            ]
          },
          "metadata": {},
          "execution_count": 145
        }
      ]
    },
    {
      "cell_type": "code",
      "source": [
        "# 테스트 데이터를 넣고 예측한다.\n",
        "result = forest.predict(test_data_features)\n",
        "# result[:100] # 100개의 리뷰에 대해서 뽑을 때 "
      ],
      "metadata": {
        "id": "kWSiJLLDqdj-"
      },
      "execution_count": 146,
      "outputs": []
    },
    {
      "cell_type": "code",
      "source": [
        "print(\"결과:\",result[:100])"
      ],
      "metadata": {
        "colab": {
          "base_uri": "https://localhost:8080/"
        },
        "id": "8E_rTa5mpuf7",
        "outputId": "c9fd4316-93dd-4cfc-de27-e89b6b33535b"
      },
      "execution_count": 147,
      "outputs": [
        {
          "output_type": "stream",
          "name": "stdout",
          "text": [
            "결과: [1]\n"
          ]
        }
      ]
    },
    {
      "cell_type": "markdown",
      "source": [
        "## 모델의 정확도를 높이기 위한 개선 방법\n",
        "1. Stopwords 라이브러리 추가 \n",
        "2. Convector 파라미터 바꿔가면서 해보기 "
      ],
      "metadata": {
        "id": "wBKCgf6x2af3"
      }
    },
    {
      "cell_type": "code",
      "source": [
        ""
      ],
      "metadata": {
        "id": "PcdMVLQLpxyn"
      },
      "execution_count": 147,
      "outputs": []
    }
  ]
}