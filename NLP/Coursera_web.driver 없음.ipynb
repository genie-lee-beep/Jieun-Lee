{
 "cells": [
  {
   "cell_type": "code",
   "execution_count": 11,
   "metadata": {},
   "outputs": [],
   "source": [
    "import requests\n",
    "from bs4 import BeautifulSoup\n",
    "res = requests.get(\"https://www.consumeraffairs.com/education/online-courses/coursera.html?page=2#scroll_to_reviews=true\")\n",
    "soup = BeautifulSoup(res.content, 'html.parser') "
   ]
  },
  {
   "cell_type": "markdown",
   "metadata": {},
   "source": [
    "### 원하는 대상(p태그)들을 모두 추출해오기"
   ]
  },
  {
   "cell_type": "code",
   "execution_count": 12,
   "metadata": {},
   "outputs": [
    {
     "name": "stdout",
     "output_type": "stream",
     "text": [
      "Coursera is a global online learning platform that offers massive open online courses (MOOCs), specializations and degrees. Users can build skills with courses from universities like Yale, Stanford and New York University and companies like Google and IBM.\n",
      "\n",
      "                If you want to learn a subject at your own pace, Coursera offers a wide selection of online courses, certificates and degrees at varying price points.\n",
      "            \n",
      "A link has directed you to this review. Its location on this page may change next time you visit.\n",
      "None\n",
      "I started working on a certification in the fall of 2020. I paid the monthly subscription fee. In late January 2021, I upgraded. When I went to submit an assignment, I was prompted to purchase again even though I had already paid. It was impossible to submit the assignment. If you can't submit your assignments, you can't get the certificate. I contacted Support. They said they wanted to refund my money. They said they didn't know when the issue would be resolved. They won't refund the money I had paid for previous months, and I invested time and money working towards a certificate that I can't finish because they don't know how to fix their own platform. Stay away unless you enjoy wasting your time and money.\n",
      "I started working on a certification in the fall of 2020. I paid the monthly subscription fee. In late January 2021, I upgraded. When I went to submit an assignment, I was prompted to purchase again even though I had already paid. It was impossible to submit the assignment. If you can't submit your assignments, you can't get the certificate. I contacted Support. They said they wanted to refund my money. They said they didn't know when the issue would be resolved. They won't refund the money I had paid for previous months, and I invested time and money working towards a certificate that I can't finish because they don't know how to fix their own platform. Stay away unless you enjoy wasting your time and money.\n",
      "It's strange that the project (both videos and web applications ) are not available. 11 thread about no access. We all paid for the course but cannot access. Message Ended Nov 9, 2020. No response from Abbie W. **.\n",
      "It's strange that the project (both videos and web applications ) are not available. 11 thread about no access. We all paid for the course but cannot access. Message Ended Nov 9, 2020. No response from Abbie W. **.\n",
      "Let me make this clear from the outset: the course content is very good. But, without the ability to communicate with the course administrators for questions, it becomes useless. I am reluctantly forced to cancel my course with Coursera.\n",
      "Let me make this clear from the outset: the course content is very good. But, without the ability to communicate with the course administrators for questions, it becomes useless. I am reluctantly forced to cancel my course with Coursera.\n",
      "Coursera's website is deceitful in its advertising. Everywhere it will say \"Enroll for free\", but then prompt you to create a profile and enter your credit card info. Once they have your info, they will start auto-charging you without regard. I would not trust them with your info, and they need to be more transparent in their practices.\n",
      "Coursera's website is deceitful in its advertising. Everywhere it will say \"Enroll for free\", but then prompt you to create a profile and enter your credit card info. Once they have your info, they will start auto-charging you without regard. I would not trust them with your info, and they need to be more transparent in their practices.\n",
      "Total rip off. Signed up for Coursera about 24 hours ago and already want to put my laptop through the wall. Horrible sound quality. Tongue-tied instructors, unable to put one complete sentence together. “Save note” function isn’t working, can only paste and copy from transcripts and of course, the course is non-refundable. After experiencing the disappointing quality of content and luck of support on this platform I don’t believe that Coursera Certificates are worth anything at all. Don’t waste your time and hard earned money like I just did. Might as well watch YouTube videos instead, at least those are better quality and free.\n",
      "Total rip off. Signed up for Coursera about 24 hours ago and already want to put my laptop through the wall. Horrible sound quality. Tongue-tied instructors, unable to put one complete sentence together. “Save note” function isn’t working, can only paste and copy from transcripts and of course, the course is non-refundable. After experiencing the disappointing quality of content and luck of support on this platform I don’t believe that Coursera Certificates are worth anything at all. Don’t waste your time and hard earned money like I just did. Might as well watch YouTube videos instead, at least those are better quality and free.\n",
      "There is no refund policy. There was supposed to be a 7-day free trial and still was charged $50 for a course. Do not recommend. There is no way to contact them regarding charges and once a course has been started, you will be charged for it.\n",
      "There is no refund policy. There was supposed to be a 7-day free trial and still was charged $50 for a course. Do not recommend. There is no way to contact them regarding charges and once a course has been started, you will be charged for it.\n",
      "When the course includes peer review you can be stuck for weeks with courses even though you've handed in your assignments. It comes down to whether someone else is taking the course or not. Meanwhile, you're forced to pay the monthly fees to stay in the course. When contacting support about this issue they just suggested that I ask for someone to review my assignments in the course forum, which is pointless if no one else is taking the course.\n",
      "When the course includes peer review you can be stuck for weeks with courses even though you've handed in your assignments. It comes down to whether someone else is taking the course or not. Meanwhile, you're forced to pay the monthly fees to stay in the course. When contacting support about this issue they just suggested that I ask for someone to review my assignments in the course forum, which is pointless if no one else is taking the course.\n",
      "The overall intent and quality of videos are good and excellent. The main problem with Coursera is they have very little feedback and cannot be contacted (at all in limited experience) for technical support. I took the reinforcement learning class to supplement some of my PhD research, the content is good and the exercises are equally well-thought out. However, work demands made me stop studying for about a month. When I tried to resume, all my programming was reset (I have tried troubleshooting this on my own to no avail). There is literally no way to get a real person to help you. Also, it is difficult to get help on programming exercises. There are better ways to learn in my opinion, with all respect.\n",
      "The overall intent and quality of videos are good and excellent. The main problem with Coursera is they have very little feedback and cannot be contacted (at all in limited experience) for technical support. I took the reinforcement learning class to supplement some of my PhD research, the content is good and the exercises are equally well-thought out. However, work demands made me stop studying for about a month. When I tried to resume, all my programming was reset (I have tried troubleshooting this on my own to no avail). There is literally no way to get a real person to help you. Also, it is difficult to get help on programming exercises. There are better ways to learn in my opinion, with all respect.\n",
      "None\n",
      ".\n",
      "Coursera was extremely easy to use. I took their Intro to Psychology course and found it to be really practical and informative. The sections were easy to understand, the professor engaging and it wasn't a 700 step set up nightmare as I have experienced with other online courses. Given that this subject is applicable to so many workplaces and situations I would definitely recommend. Best of all, many of their free courses are very interesting and useful and the paid courses are not expensive. Give them a try!\n",
      "Coursera was extremely easy to use. I took their Intro to Psychology course and found it to be really practical and informative. The sections were easy to understand, the professor engaging and it wasn't a 700 step set up nightmare as I have experienced with other online courses. Given that this subject is applicable to so many workplaces and situations I would definitely recommend. Best of all, many of their free courses are very interesting and useful and the paid courses are not expensive. Give them a try!\n",
      "It's a terrible platform, keep in mind you will pay monthly for this, and the website has a lot issues, the course I take the teacher didn't know how to explain properly and gave too vague explanation, neither I could contact them and ask for guidance, complete waste of time and money.\n",
      "It's a terrible platform, keep in mind you will pay monthly for this, and the website has a lot issues, the course I take the teacher didn't know how to explain properly and gave too vague explanation, neither I could contact them and ask for guidance, complete waste of time and money.\n",
      "Coursera, is the best way to learn online. It is efficient. Many of the courses can be downloaded also and that helps a lot when travelling. The instructors speak clearly too and they make a lot of sense.\n",
      "Coursera, is the best way to learn online. It is efficient. Many of the courses can be downloaded also and that helps a lot when travelling. The instructors speak clearly too and they make a lot of sense.\n",
      "The variety of classes and professionalism of instructors makes this my favorite learning platform online. It is upfront on costs and time commitment needed to complete the courses. I have recommended it highly to my nephews who are learning from home.\n",
      "The variety of classes and professionalism of instructors makes this my favorite learning platform online. It is upfront on costs and time commitment needed to complete the courses. I have recommended it highly to my nephews who are learning from home.\n",
      "Being in a dominant market and the other learning platforms are not as good for the time. They will put into absorbing the information Also influence on the way. I am determined to help people with the right education of the product and the delivery of network services is a great opportunity!!\n",
      "Being in a dominant market and the other learning platforms are not as good for the time. They will put into absorbing the information Also influence on the way. I am determined to help people with the right education of the product and the delivery of network services is a great opportunity!!\n",
      "User friendly platform. If there is technical difficulty the support personnel are very helpful in resolving the problem. A wide variety of Interesting courses that can lead to other jobs or for personal development\n",
      "User friendly platform. If there is technical difficulty the support personnel are very helpful in resolving the problem. A wide variety of Interesting courses that can lead to other jobs or for personal development\n",
      "Coursera wasn’t the best courses platform. It was really bad and hard to go through things. I didn’t like it and whenever they said they had a free course I go check and feel disappointed every time so then I just stopped using and I personally wouldn’t recommend it to anyone.\n",
      "Coursera wasn’t the best courses platform. It was really bad and hard to go through things. I didn’t like it and whenever they said they had a free course I go check and feel disappointed every time so then I just stopped using and I personally wouldn’t recommend it to anyone.\n",
      "The course was an intro to IT, which was the first of 6 classes which culminated with a Google certification in general information technology comparable to a CompTIA A+. The course pace was slow enough to complete in plenty of time, and not so much time you found yourself bored. The class was interesting, engaging, and I'd like to finish the rest when I can.\n",
      "The course was an intro to IT, which was the first of 6 classes which culminated with a Google certification in general information technology comparable to a CompTIA A+. The course pace was slow enough to complete in plenty of time, and not so much time you found yourself bored. The class was interesting, engaging, and I'd like to finish the rest when I can.\n",
      "I don't have anything positive to say. I could do stuff like this free on YouTube. All this nonsense on Coursera is just that nonsense. I did not see any redeeming qualities about any of the courses whether free or even free trial okay. All the stuff can be found online in so many different places at no charge especially if one is a senior citizen so coursera you catch me was not worth it.\n",
      "I don't have anything positive to say. I could do stuff like this free on YouTube. All this nonsense on Coursera is just that nonsense. I did not see any redeeming qualities about any of the courses whether free or even free trial okay. All the stuff can be found online in so many different places at no charge especially if one is a senior citizen so coursera you catch me was not worth it.\n",
      "I liked the course, very detailed, instructors syllabus very detailed only thing, was it was a little difficult to go back to review. The course material was easy to follow, along with the instructor. Surprised at the ease of use.\n",
      "I liked the course, very detailed, instructors syllabus very detailed only thing, was it was a little difficult to go back to review. The course material was easy to follow, along with the instructor. Surprised at the ease of use.\n",
      "I like how I can access the courses for free, and I have learned a lot from them. They offer certificates too, and the courses come from real universities around the world. Also there is plenty of options and categories to choose from.\n",
      "I like how I can access the courses for free, and I have learned a lot from them. They offer certificates too, and the courses come from real universities around the world. Also there is plenty of options and categories to choose from.\n",
      "Provides paced learning that is not burdensome. The courses are varied to provide comprehensive data on numerous subjects. The interim quizzes are course based and helpful. The educators are not intimidating or distracting. I learned a lot.\n",
      "Provides paced learning that is not burdensome. The courses are varied to provide comprehensive data on numerous subjects. The interim quizzes are course based and helpful. The educators are not intimidating or distracting. I learned a lot.\n",
      "I signed up for a six week online course with the University of London. What I didn't realize is that the course was through Coursera. If you are considering a course through this company, don't do it. There is no way to contact them. There are technical issues with their site. I was not able to complete one module as there was an issue with the quiz. No one at Coursera could give me an answer to allow me to complete the test. The company has issues and I am not sure how legitimate they really are. Stay away from them. I wish I had looked at these reviews before I signed up.\n",
      "I signed up for a six week online course with the University of London. What I didn't realize is that the course was through Coursera. If you are considering a course through this company, don't do it. There is no way to contact them. There are technical issues with their site. I was not able to complete one module as there was an issue with the quiz. No one at Coursera could give me an answer to allow me to complete the test. The company has issues and I am not sure how legitimate they really are. Stay away from them. I wish I had looked at these reviews before I signed up.\n",
      "I took a specialization on Coursera involving several courses. When I got to the final course, month after month, my last papers for this course had not been graded. Due to this adverse situation, I closed my account.\n",
      "I took a specialization on Coursera involving several courses. When I got to the final course, month after month, my last papers for this course had not been graded. Due to this adverse situation, I closed my account.\n",
      "Criminal organisation that leaves no means of contact or feedback on its website, knowing fully well that it is out to defraud customers. I enrolled for a free course, was asked to enter my card details merely for confirmation that I was human and I did. Then I was billed £43 for a supposedly free course. A week later, I get a receipt for £38 by email. I have since requested for a refund but no reply after 3 weeks. This is the height of irresponsibility and I say shame to all the handlers of the company. I cannot actually believe it is owned by academics as purported!\n",
      "Criminal organisation that leaves no means of contact or feedback on its website, knowing fully well that it is out to defraud customers. I enrolled for a free course, was asked to enter my card details merely for confirmation that I was human and I did. Then I was billed £43 for a supposedly free course. A week later, I get a receipt for £38 by email. I have since requested for a refund but no reply after 3 weeks. This is the height of irresponsibility and I say shame to all the handlers of the company. I cannot actually believe it is owned by academics as purported!\n",
      "Make sure you look into the fine print of their subscription policy. It is free at first and then you are charged without notification. I actually didn't even know I was being changed for a couple months. I was supposed to have a free month but they charged me for the \"free month\". Since I hadn't used it, I forgot about it. Most brands send you a reminder that you are about to be charged so you can prevent the charge if you want. Not these guys. There is NO option to put the membership on hold or come back and learn on their platform for the months you paid for but didn't use. The membership fee is pretty steep and it is non-refundable. They do not have ANYONE you can speak to make any corrections. I've been using a few learning platforms of late and this was the worst experience hands down.\n",
      "Make sure you look into the fine print of their subscription policy. It is free at first and then you are charged without notification. I actually didn't even know I was being changed for a couple months. I was supposed to have a free month but they charged me for the \"free month\". Since I hadn't used it, I forgot about it. Most brands send you a reminder that you are about to be charged so you can prevent the charge if you want. Not these guys. There is NO option to put the membership on hold or come back and learn on their platform for the months you paid for but didn't use. The membership fee is pretty steep and it is non-refundable. They do not have ANYONE you can speak to make any corrections. I've been using a few learning platforms of late and this was the worst experience hands down.\n",
      "I can't say anything about course quality. However, beware of their subscription billing practices. They will NOT give you a warning that a charge is coming. It will just show up on your credit card. If you cancel the same day as the charge, they will not refund it.\n",
      "I can't say anything about course quality. However, beware of their subscription billing practices. They will NOT give you a warning that a charge is coming. It will just show up on your credit card. If you cancel the same day as the charge, they will not refund it.\n",
      "Take care if you subscribe to a course. First, it is free for some days then they charge you and without notifications, so they charge you every month. I took a course and I forget to canceled so I finished it on March 29th, but they are malicious because they didn't tell me anything about the continuation so they charged again in April and in May and even I didn't enter to the platform so I paid a lot for a regular course because it was so bad. I hope they don't charge again because I don't want to take a course with them in the future.\n",
      "Take care if you subscribe to a course. First, it is free for some days then they charge you and without notifications, so they charge you every month. I took a course and I forget to canceled so I finished it on March 29th, but they are malicious because they didn't tell me anything about the continuation so they charged again in April and in May and even I didn't enter to the platform so I paid a lot for a regular course because it was so bad. I hope they don't charge again because I don't want to take a course with them in the future.\n",
      "None\n",
      "2. Tutors are non responsive. Sometimes they do answer but since you are paying monthly subscription, it seem in they interest not to answer your questions so that you keep paying for longer. Seen posts from a year ago that have their only response a year later! Recently I'm in a situation that I see other students reporting the same issue as me, I keep asking for help every day on the same issue and have been ignored for weeks.\n",
      "4. Don't count on in depth explanations. A lot of material is covered fast so I was glad I have done my python course beforehand and that I have masters degree in Math - otherwise I think I would be lost. \n",
      "Finally: My \"Data Science professional certificate course\" consists of 9 sub-courses. Due to some technical problem I can't finish 1 sub - part and since there is no answer from tutors it seem like all the other certificates I got will come to waste as I can't finish the course without submitting all the parts. Asked for help many times - till now no reply.\n",
      "Maybe Coursera was okay at one point, but it's just a ripoff now. They offer a \"free\" trial period and then charge your card without warning at some point. I was charged $49.00 for a course I hadn't time to even try (we're in the middle of Coronavirus craziness now). As soon as I received notice of the charges, I tried to contact them via chat, but at this point they aren't even doing \"chats\" anymore. Instead you get routed to a \"help\" page, and once there, you end up in an endless customer non-service do-loop. When you want to cancel the unwanted \"subscription\" (you can't get your money back), it's not straightforward, and neither is cancelling the account. If they were actually offering a good product they wouldn't have to cheat people like this. Buyer beware - you'll pay no matter what, even if they say it's free, and even if you don't want it. Spend a little more money and attend courses at a public college; you won't regret it.\n",
      "Maybe Coursera was okay at one point, but it's just a ripoff now. They offer a \"free\" trial period and then charge your card without warning at some point. I was charged $49.00 for a course I hadn't time to even try (we're in the middle of Coronavirus craziness now). As soon as I received notice of the charges, I tried to contact them via chat, but at this point they aren't even doing \"chats\" anymore. Instead you get routed to a \"help\" page, and once there, you end up in an endless customer non-service do-loop. When you want to cancel the unwanted \"subscription\" (you can't get your money back), it's not straightforward, and neither is cancelling the account. If they were actually offering a good product they wouldn't have to cheat people like this. Buyer beware - you'll pay no matter what, even if they say it's free, and even if you don't want it. Spend a little more money and attend courses at a public college; you won't regret it.\n",
      "Be sure to read the Terms and Conditions for this FREE Trial, they charge your credit card and if you wish to cancel beforehand your credit card is charged. VERY MISLEADING, very difficult to get any replies by email let alone by phone.\n",
      "Be sure to read the Terms and Conditions for this FREE Trial, they charge your credit card and if you wish to cancel beforehand your credit card is charged. VERY MISLEADING, very difficult to get any replies by email let alone by phone.\n",
      "Sign up to receive our free weekly newsletter. We value your privacy. Unsubscribe easily.\n",
      "We’ll start sending you the news you need delivered straight to you. We value your privacy. Unsubscribe easily.\n",
      "ConsumerAffairs is not a government agency. Companies displayed may pay us to be Authorized or when you click a link, call a number or fill a form on our site. Our content is intended to be used for general information purposes only. It is very important to do your own analysis before making any investment based on your own personal circumstances and consult with your own investment, financial, tax and legal advisers.\n",
      "None\n",
      "Copyright ©  2021 Consumers Unified LLC. All Rights Reserved. The contents of this site may not be republished, reprinted, rewritten or recirculated without written permission.\n"
     ]
    }
   ],
   "source": [
    "# 원하는 대상(p태그)들을 모두 추출해오기\n",
    "data = soup.find_all('p')\n",
    "for item in data:  #find_all()로 추출하면 for문으로 다룰 수 있음\n",
    "\tprint(item.string)    "
   ]
  },
  {
   "cell_type": "code",
   "execution_count": 13,
   "metadata": {},
   "outputs": [
    {
     "ename": "AttributeError",
     "evalue": "'NoneType' object has no attribute 'find_all'",
     "output_type": "error",
     "traceback": [
      "\u001b[1;31m---------------------------------------------------------------------------\u001b[0m",
      "\u001b[1;31mAttributeError\u001b[0m                            Traceback (most recent call last)",
      "\u001b[1;32m<ipython-input-13-c730b70ef6f6>\u001b[0m in \u001b[0;36m<module>\u001b[1;34m\u001b[0m\n\u001b[0;32m      2\u001b[0m \u001b[1;33m\u001b[0m\u001b[0m\n\u001b[0;32m      3\u001b[0m \u001b[0msection\u001b[0m \u001b[1;33m=\u001b[0m \u001b[0msoup\u001b[0m\u001b[1;33m.\u001b[0m\u001b[0mfind\u001b[0m\u001b[1;33m(\u001b[0m\u001b[1;34m'ul'\u001b[0m\u001b[1;33m,\u001b[0m \u001b[0mid\u001b[0m\u001b[1;33m=\u001b[0m\u001b[1;34m\"id명\"\u001b[0m\u001b[1;33m)\u001b[0m\u001b[1;33m\u001b[0m\u001b[1;33m\u001b[0m\u001b[0m\n\u001b[1;32m----> 4\u001b[1;33m \u001b[0mtitles\u001b[0m \u001b[1;33m=\u001b[0m \u001b[0msection\u001b[0m\u001b[1;33m.\u001b[0m\u001b[0mfind_all\u001b[0m\u001b[1;33m(\u001b[0m\u001b[1;34m\"li\"\u001b[0m\u001b[1;33m,\u001b[0m \u001b[1;34m\"li명\"\u001b[0m\u001b[1;33m)\u001b[0m\u001b[1;33m\u001b[0m\u001b[1;33m\u001b[0m\u001b[0m\n\u001b[0m\u001b[0;32m      5\u001b[0m \u001b[1;32mfor\u001b[0m \u001b[0mtitle\u001b[0m \u001b[1;32min\u001b[0m \u001b[0mtitles\u001b[0m\u001b[1;33m:\u001b[0m\u001b[1;33m\u001b[0m\u001b[1;33m\u001b[0m\u001b[0m\n\u001b[0;32m      6\u001b[0m     \u001b[0mprint\u001b[0m\u001b[1;33m(\u001b[0m\u001b[0mtitle\u001b[0m\u001b[1;33m.\u001b[0m\u001b[0mget_text\u001b[0m\u001b[1;33m(\u001b[0m\u001b[1;33m)\u001b[0m\u001b[1;33m)\u001b[0m\u001b[1;33m\u001b[0m\u001b[1;33m\u001b[0m\u001b[0m\n",
      "\u001b[1;31mAttributeError\u001b[0m: 'NoneType' object has no attribute 'find_all'"
     ]
    }
   ],
   "source": [
    "# 타켓 대상의 부모 태그를 find로 찾은 후, 자식 태그들을 find_all로 추출\n",
    "\n",
    "section = soup.find('ul', id=\"id명\")\n",
    "titles = section.find_all(\"li\", \"li명\")\n",
    "for title in titles:\n",
    "    print(title.get_text())"
   ]
  },
  {
   "cell_type": "code",
   "execution_count": null,
   "metadata": {},
   "outputs": [],
   "source": []
  }
 ],
 "metadata": {
  "kernelspec": {
   "display_name": "Python 3",
   "language": "python",
   "name": "python3"
  },
  "language_info": {
   "codemirror_mode": {
    "name": "ipython",
    "version": 3
   },
   "file_extension": ".py",
   "mimetype": "text/x-python",
   "name": "python",
   "nbconvert_exporter": "python",
   "pygments_lexer": "ipython3",
   "version": "3.8.5"
  }
 },
 "nbformat": 4,
 "nbformat_minor": 4
}
