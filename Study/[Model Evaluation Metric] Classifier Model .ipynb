{
 "cells": [
  {
   "cell_type": "markdown",
   "metadata": {},
   "source": [
    "# [Model Evaluation Metric] Classifier Model "
   ]
  },
  {
   "cell_type": "markdown",
   "metadata": {},
   "source": [
    "### 1) Accuracy (정확도)\n",
    "Accuracy in classification problems is the number of correct predictions made by the model over all kinds predictions made\n",
    "\n",
    "분류 문제(Classification problem)에서 Accuracy는 모든 예측값에 대하여 올바르게 예측된 값을 나타냅니다.\n",
    "\n",
    "Accuracy는 양성을 양성이라고 예측하고 음성을 음성이라고 예측한 확률을 말합니다.\n",
    "\n",
    "즉, 예측 결과가 실제 값과 얼마나 정확하게 맞는 지를 평가하는 지표\n",
    "\n",
    "\n",
    "#### 1. sklearn에서 제공하는 classifier 객체의 score 메서드\n",
    "- classifier_model.score(X_test, y_test) # Return the mean accuracy on the given test data and labels\n",
    "\n",
    "#### 2. sklearn.metrics의 accuracy_score 메서드를 사용하면 accuracy score를 구할 수 있습니다\n",
    "- accuracy_score(y_test, preds)\n",
    "- from sklearn.metrics import accuracy_score 를 해주어야 합니다."
   ]
  },
  {
   "cell_type": "code",
   "execution_count": 2,
   "metadata": {},
   "outputs": [],
   "source": [
    "import platform\n",
    "import matplotlib\n",
    "from matplotlib import font_manager"
   ]
  },
  {
   "cell_type": "code",
   "execution_count": 3,
   "metadata": {},
   "outputs": [],
   "source": [
    "# 01 데이터 셋 불러오기\n",
    "from sklearn.ensemble import RandomForestClassifier\n",
    "from sklearn.datasets import load_breast_cancer\n",
    "from sklearn.model_selection import train_test_split\n",
    "import mglearn\n",
    "\n",
    "cancer = load_breast_cancer()\n",
    "X = cancer.data  #입력\n",
    "y = cancer.target # 출력 "
   ]
  },
  {
   "cell_type": "code",
   "execution_count": 4,
   "metadata": {},
   "outputs": [],
   "source": [
    "# 02 데이터 셋 나누기 및 학습\n",
    "X_train, X_test, y_train, y_test = train_test_split(X,y ,\n",
    "                                                    stratify=cancer.target, random_state=42)"
   ]
  },
  {
   "cell_type": "code",
   "execution_count": 6,
   "metadata": {},
   "outputs": [
    {
     "name": "stdout",
     "output_type": "stream",
     "text": [
      "학습용 세트 정확도 : 1.000\n",
      "테스트 세트 정확도 : 0.958\n"
     ]
    }
   ],
   "source": [
    "# 03 트리5개로 구성된 랜덤 포레스트 모델 만들기\n",
    "model = RandomForestClassifier(n_estimators=5, random_state=0) # 5개의 트리\n",
    "model.fit(X_train, y_train)  #모델 학습\n",
    "\n",
    "print(\"학습용 세트 정확도 : {:.3f}\".format(model.score(X_train, y_train))) # score가 분류문제에서는 정확도가 찍히고, 회기문제에서는 결정도가 찍힘\n",
    "print(\"테스트 세트 정확도 : {:.3f}\".format(model.score(X_test, y_test)))  #\n",
    "\n",
    "\n",
    "\n",
    "#0.973 의 결과는 테스트세트에서 97.3% 를 정확히 예측했다는 의미이다. (실행할 때마다 결과가 달라진다)\n",
    "#train data가 test data보다 성능이 더 좋음 > 오버피팅이 되어 있음.\n",
    "#RandomForestClassifier의 parameter를 조정 ()"
   ]
  },
  {
   "cell_type": "code",
   "execution_count": null,
   "metadata": {},
   "outputs": [],
   "source": []
  }
 ],
 "metadata": {
  "kernelspec": {
   "display_name": "Python 3",
   "language": "python",
   "name": "python3"
  },
  "language_info": {
   "codemirror_mode": {
    "name": "ipython",
    "version": 3
   },
   "file_extension": ".py",
   "mimetype": "text/x-python",
   "name": "python",
   "nbconvert_exporter": "python",
   "pygments_lexer": "ipython3",
   "version": "3.8.5"
  }
 },
 "nbformat": 4,
 "nbformat_minor": 4
}
